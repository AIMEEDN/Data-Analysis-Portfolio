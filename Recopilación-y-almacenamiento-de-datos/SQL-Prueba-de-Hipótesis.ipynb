{
 "cells": [
  {
   "cell_type": "markdown",
   "id": "6594e24a-1c8d-4f29-b579-e1b2cc227b52",
   "metadata": {},
   "source": [
    "# Tabla de contenido\n",
    "\n",
    "1. [Introduccción al Proyecto](#Introduccción-al-Proyecto)\n",
    "2. [Objetivos específicos](#Objetivos-específicos)\n",
    "3. [Etapas de análisis del proyecto](#Etapas-de-análisis-del-proyecto)\n",
    "4. [Inicialización](#Inicialización)\n",
    "5. [Recuperación y Análisis de Datos Climáticos (Paso 1)](#Recuperación-y-Análisis-de-Datos-Climáticos-(Paso-1))\n",
    "6. [Análisis Exploratorio de Datos con SQL (Paso 2)](#Análisis-Exploratorio-de-Datos-con-SQL-(Paso-2)) \n",
    "7. [Prueba de Hipótesis sobre la Duración de Viajes en Condiciones Meteorológicas Específicas (Paso 3)](#Prueba-de-Hipótesis-sobre-la-Duración-de-Viajes-en-Condiciones-Meteorológicas-Específicas-(Paso-3))\n",
    "8. [Análisis Exploratorio de Datos Adicional con Python (Paso 4)](#Análisis-Exploratorio-de-Datos-Adicional-con-Python-(Paso-4))\n",
    "9. [Prueba de Hipótesis (Paso 5)](#Prueba-de-Hipótesis-(Paso-5))\n",
    "10. [Conclusión general del Proyecto](#Conclusión-general-del-Proyecto)\n",
    "\n",
    "\n",
    "\n"
   ]
  },
  {
   "cell_type": "markdown",
   "id": "0ca6005d-495d-41f7-8797-05c57d31cd84",
   "metadata": {},
   "source": [
    "# Introduccción al Proyecto "
   ]
  },
  {
   "cell_type": "markdown",
   "id": "10e73a97-8486-47ff-81c5-7ed7758871e7",
   "metadata": {},
   "source": [
    "En este proyecto de análisis de datos para Zuber, una empresa de viajes compartidos en Chicago, nuestro objetivo es identificar patrones en el comportamiento de los pasajeros y evaluar cómo factores externos, como las condiciones climáticas, afectan la frecuencia de los viajes. Para llevar a cabo este análisis, trabajaremos con una base de datos que incluye información detallada sobre los viajes, los barrios de la ciudad, las empresas de taxis, y los registros meteorológicos. Este enfoque integral permitirá a Zuber optimizar sus operaciones, mejorar la experiencia del usuario y adaptarse de manera efectiva a las condiciones del mercado."
   ]
  },
  {
   "cell_type": "markdown",
   "id": "67f38980-5d1b-40af-b623-4f3844a804e5",
   "metadata": {},
   "source": [
    "# Objetivos específicos"
   ]
  },
  {
   "cell_type": "markdown",
   "id": "2f0347b0-da01-4bd4-9aa1-e8bf8c356966",
   "metadata": {},
   "source": [
    "1.**Analizar las preferencias de los pasajeros**: Identificar las tendencias de los usuarios en términos de horarios, días de la semana, y ubicaciones preferidas para la recogida y destino. Esto permitirá comprender mejor las necesidades de los clientes y ajustar los servicios de acuerdo con sus patrones de uso.\n",
    "\n",
    "2.**Evaluar el impacto del clima en los viajes**: Investigar cómo las condiciones meteorológicas, como la temperatura y los eventos climáticos (lluvia, nieve, etc.), afectan la frecuencia y la duración de los viajes en Chicago. Esto ayudará a prever las fluctuaciones en la demanda y planificar estrategias de operación más efectivas.\n",
    "\n",
    "3.**Comparar con datos de la competencia**: Analizar los datos de viajes y las empresas de taxis competidoras para identificar las fortalezas y debilidades de Zuber en el mercado. Este análisis proporcionará información valiosa para desarrollar estrategias competitivas y mejorar la cuota de mercado de Zuber en la ciudad."
   ]
  },
  {
   "cell_type": "markdown",
   "id": "2ee670b9-27ae-471f-8546-daf0ecdd3269",
   "metadata": {},
   "source": [
    "# Etapas de análisis del proyecto"
   ]
  },
  {
   "cell_type": "markdown",
   "id": "79d40293-937b-4143-b26f-1258d94c1bfd",
   "metadata": {},
   "source": [
    "1.**Recuperación y Análisis de Datos Climáticos (Paso 1)**:\n",
    "Extraer información sobre el clima en Chicago para noviembre de 2017 desde el sitio web proporcionado. Este paso implica realizar una solicitud al sitio web, analizar los datos meteorológicos y estructurarlos para el análisis posterior. Esto proporcionará información esencial para entender las condiciones climáticas durante el período de estudio.\n",
    "\n",
    "2.**Análisis Exploratorio de Datos con SQL (Paso 2)**:\n",
    "Análisis de viajes en taxi: Utilizar consultas SQL para explorar la base de datos y obtener información sobre los patrones de viaje de taxis en Chicago. Esto incluye:\n",
    "Calcular el número total de viajes para cada empresa de taxis durante fechas específicas (15-16 de noviembre de 2017).\n",
    "Identificar el número de viajes realizados por compañías de taxis con \"Yellow\" o \"Blue\" en su nombre durante la primera semana de noviembre.\n",
    "Analizar las empresas de taxis más populares (Flash Cab y Taxi Affiliation Services) comparando su número de viajes con otras compañías, agrupando y ordenando los resultados.\n",
    "Este análisis proporcionará una visión general de la competencia en el mercado de taxis y los patrones de viaje durante diferentes períodos.\n",
    "\n",
    "3.**Prueba de Hipótesis sobre la Duración de Viajes en Condiciones Meteorológicas Específicas (Paso 3)**:\n",
    "Preparación de datos: Recuperar los identificadores de los barrios \"O'Hare\" y \"Loop\" de la tabla neighborhoods. Dividir las condiciones meteorológicas en dos grupos (\"Bad\" y \"Good\") según la descripción del clima en la tabla weather_records.\n",
    "Análisis de viajes: Extraer datos de viajes que comenzaron en el Loop y terminaron en O'Hare durante los sábados. Asociar cada viaje con las condiciones climáticas correspondientes y calcular su duración.\n",
    "Este paso permite investigar si las condiciones meteorológicas afectan significativamente la duración de los viajes, sentando las bases para la prueba de hipótesis.\n",
    "\n",
    "4.**Análisis Exploratorio de Datos Adicional con Python (Paso 4)**:\n",
    "Importar y explorar datasets adicionales: Importar dos archivos CSV proporcionados:\n",
    "project_sql_result_01.csv con datos sobre empresas de taxis y el número de viajes.\n",
    "project_sql_result_04.csv con información sobre los barrios de Chicago y la cantidad promedio de viajes que terminaron en cada uno.\n",
    "Análisis y visualización: Verificar los tipos de datos, identificar los 10 principales barrios por finalización de viajes y crear gráficos para visualizar:\n",
    "La cantidad de viajes por empresa de taxis.\n",
    "Los 10 principales barrios en términos de finalización de viajes.\n",
    "Este análisis ayudará a identificar tendencias geográficas y de comportamiento en los viajes de taxis.\n",
    "\n",
    "5.**Prueba de Hipótesis (Paso 5)**:\n",
    "Planteamiento de la hipótesis: Formular las hipótesis nula y alternativa para evaluar si la duración promedio de los viajes desde el Loop hasta el Aeropuerto Internacional O'Hare cambia durante los sábados lluviosos.\n",
    "Prueba estadística: Establecer un nivel de significancia (alfa) adecuado y elegir la prueba estadística apropiada para comparar la duración de los viajes bajo diferentes condiciones meteorológicas. La decisión se basará en los resultados de la prueba de hipótesis, proporcionando información sobre el impacto del clima en la duración de los viajes."
   ]
  },
  {
   "cell_type": "markdown",
   "id": "8910c6fe-c7d8-4972-9274-a3987af303b7",
   "metadata": {},
   "source": [
    "# Inicialización"
   ]
  },
  {
   "cell_type": "code",
   "execution_count": 1,
   "id": "ae9d41d4-5dec-4737-af9d-6b6ef0fba837",
   "metadata": {},
   "outputs": [],
   "source": [
    "import requests\n",
    "from bs4 import BeautifulSoup\n",
    "import pandas as pd \n",
    "import matplotlib.pyplot as plt \n",
    "import scipy.stats as st\n",
    "import numpy as np\n",
    "from scipy import stats"
   ]
  },
  {
   "cell_type": "markdown",
   "id": "404c887a-a904-471f-a50d-fc20c6198c0c",
   "metadata": {},
   "source": [
    "# Recuperación y Análisis de Datos Climáticos (Paso 1)"
   ]
  },
  {
   "cell_type": "code",
   "execution_count": 2,
   "id": "bc279f06-9c8a-4aed-811e-572bfb15db99",
   "metadata": {},
   "outputs": [
    {
     "name": "stdout",
     "output_type": "stream",
     "text": [
      "           Date and time Temperature       Description\n",
      "0    2017-11-01 00:00:00     276.150     broken clouds\n",
      "1    2017-11-01 01:00:00     275.700  scattered clouds\n",
      "2    2017-11-01 02:00:00     275.610   overcast clouds\n",
      "3    2017-11-01 03:00:00     275.350     broken clouds\n",
      "4    2017-11-01 04:00:00     275.240     broken clouds\n",
      "..                   ...         ...               ...\n",
      "692  2017-11-29 20:00:00     281.340        few clouds\n",
      "693  2017-11-29 21:00:00     281.690      sky is clear\n",
      "694  2017-11-29 22:00:00     281.070        few clouds\n",
      "695  2017-11-29 23:00:00     280.060      sky is clear\n",
      "696  2017-11-30 00:00:00     278.460      sky is clear\n",
      "\n",
      "[697 rows x 3 columns]\n"
     ]
    }
   ],
   "source": [
    "URL = 'https://practicum-content.s3.us-west-1.amazonaws.com/data-analyst-eng/moved_chicago_weather_2017.html'\n",
    "req = requests.get(URL)\n",
    "soup = BeautifulSoup(req.text, 'lxml')\n",
    "table = soup.find('table', attrs={\"id\": \"weather_records\"})\n",
    "heading_table =[] \n",
    "for row in table.find_all('th'):\n",
    "    heading_table.append(row.text) \n",
    "content=[] \n",
    "for row in table.find_all('tr'):\n",
    "    if not row.find_all('th'): \n",
    "        content.append([element.text for element in row.find_all('td')])\n",
    "weather_records = pd.DataFrame(content, columns=heading_table)\n",
    "print(weather_records)"
   ]
  },
  {
   "cell_type": "markdown",
   "id": "81c3e56b-4ccc-475a-85ab-0a90b13f9f62",
   "metadata": {},
   "source": [
    "- Comentario\n",
    "\n",
    "Se extrajo los datos climáticos de la ciudad de Chicago para el mes noviembre del 2017, la tabla contiene la fecha, hora, temperatura y la descripción del clima."
   ]
  },
  {
   "cell_type": "markdown",
   "id": "86f6158f-492c-4a2e-926f-219337dc3e09",
   "metadata": {},
   "source": [
    "# Análisis-Exploratorio-de-Datos-con-SQL-(Paso-2)"
   ]
  },
  {
   "cell_type": "markdown",
   "id": "8955a119-585b-4f20-ac94-5faff3a2821d",
   "metadata": {},
   "source": [
    "-\n",
    "Imprime el campo company_name. Encuentra la cantidad de viajes en taxi para cada compañía de taxis para el 15 y 16 de noviembre de 2017, asigna al campo resultante el nombre trips_amount e imprímelo también. Ordena los resultados por el campo trips_amount en orden descendente."
   ]
  },
  {
   "cell_type": "raw",
   "id": "e28fb6a5-2725-4069-b946-7747419886ff",
   "metadata": {},
   "source": [
    "SELECT \n",
    "    cabs.company_name,\n",
    "    COUNT(trips.trip_id) AS trips_amount \n",
    "FROM \n",
    "    cabs\n",
    "    INNER JOIN \n",
    "    trips \n",
    "    ON \n",
    "    trips.cab_id = cabs.cab_id \n",
    "WHERE \n",
    "    CAST(trips.start_ts AS date) BETWEEN '2017-11-15' AND '2017-11-16'\n",
    "GROUP BY \n",
    "    company_name \n",
    "ORDER BY \n",
    "    trips_amount DESC; "
   ]
  },
  {
   "cell_type": "raw",
   "id": "5ebe015b-cbef-4772-a24f-3f8f525dd4ba",
   "metadata": {},
   "source": [
    "Resultado\n",
    "company_name\t                trips_amount\n",
    "Flash Cab\t                        19558\n",
    "Taxi Affiliation Services\t        11422\n",
    "Medallion Leasin\t                10367\n",
    "Yellow Cab\t                         9888\n",
    "Taxi Affiliation Service Yellow\t     9299\n",
    "Chicago Carriage Cab Corp\t         9181\n",
    "City Service\t                     8448\n",
    "Sun Taxi\t                         7701\n",
    "Star North Management LLC\t         7455\n",
    "Blue Ribbon Taxi Association Inc.\t 5953"
   ]
  },
  {
   "cell_type": "markdown",
   "id": "54ea19ad-dda2-4be3-a3f9-4729513779de",
   "metadata": {},
   "source": [
    "- Comentario\n",
    "\n",
    "Se ordenaron los datos por la cantidad de viajes realizados en cada compañía de taxis siendo Flash Cab, Taxi Affiliation Services y Medallion Leasin las que tienen más cantidad de viajes."
   ]
  },
  {
   "cell_type": "markdown",
   "id": "03b1011a-35e0-40fb-a5c3-df49d2d32364",
   "metadata": {},
   "source": [
    "-\n",
    "Encuentra la cantidad de viajes para cada empresa de taxis cuyo nombre contenga las palabras \"Yellow\" o \"Blue\" del 1 al 7 de noviembre de 2017. Nombra la variable resultante trips_amount. Agrupa los resultados por el campo company_name."
   ]
  },
  {
   "cell_type": "raw",
   "id": "b96947ea-0584-4a1b-8ad7-59b6be485f2a",
   "metadata": {},
   "source": [
    "SELECT \n",
    "    cabs.company_name as company_name, \n",
    "    COUNT(trips.trip_id) AS trips_amount \n",
    "FROM \n",
    "    cabs \n",
    "INNER JOIN \n",
    "    trips\n",
    "ON \n",
    "    trips.cab_id = cabs.cab_id \n",
    "WHERE \n",
    "    CAST(trips.start_ts AS date) BETWEEN '2017-11-01' AND '2017-11-07' \n",
    "    AND cabs.company_name LIKE '%%Yellow%%'\n",
    "GROUP BY company_name \n",
    "UNION ALL \n",
    "SELECT \n",
    "    cabs.company_name AS company_name, \n",
    "    COUNT(trips.trip_id) AS trips_amount \n",
    "FROM \n",
    "    cabs \n",
    "INNER JOIN \n",
    "    trips \n",
    "ON \n",
    "    trips.cab_id = cabs.cab_id \n",
    "WHERE \n",
    "    CAST(trips.start_ts AS date) BETWEEN '2017-11-01' AND '2017-11-07'\n",
    "    AND cabs.company_name LIKE '%%Blue%%' \n",
    "GROUP BY company_name; \n"
   ]
  },
  {
   "cell_type": "raw",
   "id": "62a4ce6a-568e-4b3a-b09b-d0052665c18e",
   "metadata": {},
   "source": [
    "Resultado\n",
    "company_name\t                  trips_amount\n",
    "Taxi Affiliation Service Yellow\t    29213\n",
    "Yellow Cab\t                        33668\n",
    "Blue Diamond\t                     6764\n",
    "Blue Ribbon Taxi Association Inc.\t17675\n"
   ]
  },
  {
   "cell_type": "markdown",
   "id": "d7e836d9-2369-4a5e-a0d0-7bf2024d3025",
   "metadata": {},
   "source": [
    "- Comentario\n",
    "\n",
    "Se obtuvo la cantidad de viajes que realizaron del 1 al 7 de noviembre de 2017 las compañías que en su nombre contienen las palabras \"Yellow\" o \"Blue\" ."
   ]
  },
  {
   "cell_type": "markdown",
   "id": "59ce38ea-2e04-40b7-8473-f1537ee02b7e",
   "metadata": {},
   "source": [
    "-\n",
    "Del 1 al 7 de noviembre de 2017, las empresas de taxis más populares fueron Flash Cab y Taxi Affiliation Services. Encuentra el número de viajes de estas dos empresas y asigna a la variable resultante el nombre trips_amount. Junta los viajes de todas las demás empresas en el grupo \"Other\". Agrupa los datos por nombres de empresas de taxis. Asigna el nombre company al campo con nombres de empresas de taxis. Ordena el resultado en orden descendente por trips_amount."
   ]
  },
  {
   "cell_type": "raw",
   "id": "69528275-fefb-4d6f-b2c4-cb785f09bcf3",
   "metadata": {},
   "source": [
    "SELECT \n",
    "    CASE \n",
    "        WHEN company_name = 'Flash Cab' THEN 'Flash Cab' \n",
    "        WHEN company_name = 'Taxi Affiliation Services' THEN \n",
    "'Taxi Affiliation Services' \n",
    "        ELSE 'Other' \n",
    "    END AS company, \n",
    "    COUNT(trips.trip_id) as trips_amount \n",
    "FROM \n",
    "    cabs\n",
    "INNER JOIN \n",
    "    trips \n",
    "ON \n",
    "    trips.cab_id = cabs.cab_id \n",
    "WHERE \n",
    "    CAST(trips.start_ts AS date) BETWEEN '2017-11-01' AND \n",
    "'2017-11-07'\n",
    "GROUP BY \n",
    "    company \n",
    "ORDER BY \n",
    "    trips_amount DESC;"
   ]
  },
  {
   "cell_type": "raw",
   "id": "6c10236b-a06a-48d9-a062-862848342031",
   "metadata": {},
   "source": [
    "Resultado\n",
    "company\t                  trips_amount\n",
    "Other\t                     335771\n",
    "Flash Cab\t                  64084\n",
    "Taxi Affiliation Services\t  37583\n"
   ]
  },
  {
   "cell_type": "markdown",
   "id": "de96824a-b4c5-4406-a3df-6c4a679052a9",
   "metadata": {},
   "source": [
    "- Comentario\n",
    "\n",
    "Se obtuvo la cantidad de viajes hechos del 1 al 7 de noviembre de 2017 por las compañías Flash Cab y Taxi Affiliation. Los viajes hechos por el resto de las compañías de taxi se agruparon en la categoría Other."
   ]
  },
  {
   "cell_type": "markdown",
   "id": "efd2a9cb-e591-461b-8d3c-27fcbb915b20",
   "metadata": {},
   "source": [
    "# Prueba de Hipótesis sobre la Duración de Viajes en Condiciones Meteorológicas Específicas (Paso 3)"
   ]
  },
  {
   "cell_type": "markdown",
   "id": "9bbf4de9-269e-4f8d-a8bc-99df29991e5a",
   "metadata": {},
   "source": [
    "-\n",
    "Recupera los identificadores de los barrios de O'Hare y Loop de la tabla neighborhoods."
   ]
  },
  {
   "cell_type": "raw",
   "id": "15f2fb25-12ea-4e42-ac50-caf852a0c9cb",
   "metadata": {},
   "source": [
    "SELECT \n",
    "    neighborhood_id,\n",
    "    name \n",
    "FROM \n",
    "    neighborhoods\n",
    "WHERE \n",
    "    name LIKE '%Hare' OR name LIKE 'Loop'"
   ]
  },
  {
   "cell_type": "raw",
   "id": "e5f82e6d-99e2-47b4-9859-fc3592fb3fc0",
   "metadata": {},
   "source": [
    "neighborhood_id\t   name\n",
    "50\t               Loop\n",
    "63\t               O'Hare\n"
   ]
  },
  {
   "cell_type": "markdown",
   "id": "971598b1-cec4-4a9b-8581-3e6523f8266c",
   "metadata": {},
   "source": [
    "- Comentario\n",
    "\n",
    "Se obtuvo la clave de los barrios de O'Hare y Loop."
   ]
  },
  {
   "cell_type": "markdown",
   "id": "72c2422a-3830-4729-b303-dd10d7ca423e",
   "metadata": {},
   "source": [
    "-\n",
    "Para cada hora recupera los registros de condiciones meteorológicas de la tabla weather_records. Usando el operador CASE, divide todas las horas en dos grupos: Bad si el campo description contiene las palabras rain o storm, y Good para los demás. Nombra el campo resultante weather_conditions. La tabla final debe incluir dos campos: fecha y hora (ts) y weather_conditions."
   ]
  },
  {
   "cell_type": "raw",
   "id": "6605c6fe-9d1f-4dde-8749-9b0ea522d17d",
   "metadata": {},
   "source": [
    "SELECT \n",
    "    ts, \n",
    "    CASE \n",
    "        WHEN description LIKE '%rain%' OR description LIKE '%storm%' THEN 'Bad'\n",
    "        ELSE 'Good'\n",
    "    END AS weather_conditions \n",
    "FROM \n",
    "    weather_records;  "
   ]
  },
  {
   "cell_type": "raw",
   "id": "13eeb92f-0d48-4251-9aae-4d9330eac876",
   "metadata": {},
   "source": [
    "Resultado\n",
    "ts\t             weather_conditions\n",
    "2017-11-01 00:00:00\tGood\n",
    "2017-11-01 01:00:00\tGood\n",
    "2017-11-01 02:00:00\tGood\n",
    "2017-11-01 03:00:00\tGood\n",
    "2017-11-01 04:00:00\tGood\n",
    "2017-11-01 05:00:00\tGood\n",
    "2017-11-01 06:00:00\tGood\n",
    "2017-11-01 07:00:00\tGood\n",
    "2017-11-01 08:00:00\tGood\n",
    "2017-11-01 09:00:00\tGood\n",
    "2017-11-01 10:00:00\tGood\n",
    "2017-11-01 11:00:00\tGood\n",
    "2017-11-01 12:00:00\tGood\n",
    "2017-11-01 13:00:00\tGood\n",
    "2017-11-01 14:00:00\tGood\n",
    "2017-11-01 15:00:00\tGood\n",
    "2017-11-01 16:00:00\tGood\n",
    "2017-11-01 17:00:00\tGood\n",
    "2017-11-01 18:00:00\tGood\n",
    "2017-11-01 19:00:00\tGood\n",
    "2017-11-01 20:00:00\tGood\n",
    "2017-11-01 21:00:00\tGood\n",
    "2017-11-01 22:00:00\tGood\n",
    "2017-11-01 23:00:00\tGood\n",
    "2017-11-02 00:00:00\tGood\n",
    "2017-11-02 01:00:00\tGood\n",
    "2017-11-02 02:00:00\tGood\n",
    "2017-11-02 03:00:00\tBad\n",
    "2017-11-02 04:00:00\tBad\n",
    "2017-11-02 05:00:00\tBad\n",
    "2017-11-02 06:00:00\tBad\n",
    "2017-11-02 07:00:00\tBad\n",
    "2017-11-02 08:00:00\tGood\n",
    "2017-11-02 09:00:00\tGood\n",
    "2017-11-02 10:00:00\tGood\n",
    "2017-11-02 11:00:00\tGood\n",
    "2017-11-02 12:00:00\tBad\n",
    "2017-11-02 13:00:00\tGood\n",
    "2017-11-02 14:00:00\tGood\n",
    "2017-11-02 15:00:00\tGood\n",
    "2017-11-02 16:00:00\tGood\n",
    "2017-11-02 17:00:00\tGood\n",
    "2017-11-02 18:00:00\tGood\n",
    "2017-11-02 19:00:00\tGood\n",
    "2017-11-02 20:00:00\tBad\n",
    "2017-11-02 21:00:00\tBad\n",
    "2017-11-02 22:00:00\tGood\n",
    "2017-11-02 23:00:00\tGood\n",
    "2017-11-03 00:00:00\tBad\n",
    "2017-11-03 01:00:00\tGood\n",
    "2017-11-03 02:00:00\tGood\n",
    "2017-11-03 03:00:00\tGood\n",
    "2017-11-03 04:00:00\tGood\n",
    "2017-11-03 05:00:00\tGood\n",
    "2017-11-03 06:00:00\tGood\n",
    "2017-11-03 07:00:00\tGood\n",
    "2017-11-03 08:00:00\tGood\n",
    "2017-11-03 09:00:00\tGood\n",
    "2017-11-03 10:00:00\tGood\n",
    "2017-11-03 11:00:00\tGood\n",
    "2017-11-03 12:00:00\tGood\n",
    "2017-11-03 13:00:00\tGood\n",
    "2017-11-03 14:00:00\tGood\n",
    "2017-11-03 15:00:00\tGood\n",
    "2017-11-03 16:00:00\tGood\n",
    "2017-11-03 17:00:00\tGood\n",
    "2017-11-03 18:00:00\tGood\n",
    "2017-11-03 19:00:00\tGood\n",
    "2017-11-03 20:00:00\tGood\n",
    "2017-11-03 21:00:00\tGood\n",
    "2017-11-03 22:00:00\tGood\n",
    "2017-11-03 23:00:00\tGood\n",
    "2017-11-04 00:00:00\tGood\n",
    "2017-11-04 01:00:00\tGood\n",
    "2017-11-04 02:00:00\tGood\n",
    "2017-11-04 03:00:00\tGood\n",
    "2017-11-04 04:00:00\tGood\n",
    "2017-11-04 05:00:00\tGood\n",
    "2017-11-04 06:00:00\tGood\n",
    "2017-11-04 07:00:00\tGood\n",
    "2017-11-04 08:00:00\tGood\n",
    "2017-11-04 09:00:00\tGood\n",
    "2017-11-04 10:00:00\tGood\n",
    "2017-11-04 11:00:00\tGood\n",
    "2017-11-04 12:00:00\tGood\n",
    "2017-11-04 13:00:00\tGood\n",
    "2017-11-04 14:00:00\tGood\n",
    "2017-11-04 15:00:00\tGood\n",
    "2017-11-04 16:00:00\tBad\n",
    "2017-11-04 17:00:00\tBad\n",
    "2017-11-04 18:00:00\tBad\n",
    "2017-11-04 19:00:00\tGood\n",
    "2017-11-04 20:00:00\tGood\n",
    "2017-11-04 21:00:00\tGood\n",
    "2017-11-04 22:00:00\tGood\n",
    "2017-11-04 23:00:00\tGood\n",
    "2017-11-05 00:00:00\tGood\n",
    "2017-11-05 01:00:00\tBad\n",
    "2017-11-05 02:00:00\tGood\n",
    "2017-11-05 03:00:00\tGood\n",
    "2017-11-05 04:00:00\tBad\n",
    "2017-11-05 05:00:00\tBad\n",
    "2017-11-05 06:00:00\tGood\n",
    "2017-11-05 07:00:00\tGood\n",
    "2017-11-05 08:00:00\tGood\n",
    "2017-11-05 09:00:00\tGood\n",
    "2017-11-05 10:00:00\tGood\n",
    "2017-11-05 11:00:00\tGood\n",
    "2017-11-05 12:00:00\tGood\n",
    "2017-11-05 13:00:00\tGood\n",
    "2017-11-05 14:00:00\tBad\n",
    "2017-11-05 15:00:00\tGood\n",
    "2017-11-05 16:00:00\tBad\n",
    "2017-11-05 17:00:00\tGood\n",
    "2017-11-05 18:00:00\tBad\n",
    "2017-11-05 19:00:00\tBad\n",
    "2017-11-05 20:00:00\tBad\n",
    "2017-11-05 21:00:00\tGood\n",
    "2017-11-05 22:00:00\tGood\n",
    "2017-11-05 23:00:00\tGood\n",
    "2017-11-06 00:00:00\tGood\n",
    "2017-11-06 01:00:00\tGood\n",
    "2017-11-06 02:00:00\tGood\n",
    "2017-11-06 03:00:00\tGood\n",
    "2017-11-06 04:00:00\tGood\n",
    "2017-11-06 05:00:00\tGood\n",
    "2017-11-06 06:00:00\tGood\n",
    "2017-11-06 07:00:00\tGood\n",
    "2017-11-06 08:00:00\tGood\n",
    "2017-11-06 09:00:00\tGood\n",
    "2017-11-06 10:00:00\tGood\n",
    "2017-11-06 11:00:00\tGood\n",
    "2017-11-06 12:00:00\tGood\n",
    "2017-11-06 13:00:00\tGood\n",
    "2017-11-06 14:00:00\tGood\n",
    "2017-11-06 15:00:00\tGood\n",
    "2017-11-06 16:00:00\tGood\n",
    "2017-11-06 17:00:00\tGood\n",
    "2017-11-06 18:00:00\tGood\n",
    "2017-11-06 19:00:00\tGood\n",
    "2017-11-06 20:00:00\tGood\n",
    "2017-11-06 21:00:00\tGood\n",
    "2017-11-06 22:00:00\tGood\n",
    "2017-11-06 23:00:00\tGood\n",
    "2017-11-07 00:00:00\tGood\n",
    "2017-11-07 01:00:00\tGood\n",
    "2017-11-07 02:00:00\tGood\n",
    "2017-11-07 03:00:00\tGood\n",
    "2017-11-07 04:00:00\tGood\n",
    "2017-11-07 05:00:00\tGood\n",
    "2017-11-07 06:00:00\tGood\n",
    "2017-11-07 07:00:00\tGood\n",
    "2017-11-07 08:00:00\tGood\n",
    "2017-11-07 09:00:00\tGood\n",
    "2017-11-07 10:00:00\tGood\n",
    "2017-11-07 11:00:00\tGood\n",
    "2017-11-07 12:00:00\tGood\n",
    "2017-11-07 13:00:00\tGood\n",
    "2017-11-07 14:00:00\tGood\n",
    "2017-11-07 15:00:00\tGood\n",
    "2017-11-07 16:00:00\tGood\n",
    "2017-11-07 17:00:00\tGood\n",
    "2017-11-07 18:00:00\tGood\n",
    "2017-11-07 19:00:00\tGood\n",
    "2017-11-07 20:00:00\tGood\n",
    "2017-11-07 21:00:00\tGood\n",
    "2017-11-07 22:00:00\tGood\n",
    "2017-11-07 23:00:00\tBad\n",
    "2017-11-08 00:00:00\tBad\n",
    "2017-11-08 01:00:00\tGood\n",
    "2017-11-08 02:00:00\tGood\n",
    "2017-11-08 03:00:00\tGood\n",
    "2017-11-08 04:00:00\tGood\n",
    "2017-11-08 05:00:00\tGood\n",
    "2017-11-08 06:00:00\tGood\n",
    "2017-11-08 07:00:00\tGood\n",
    "2017-11-08 08:00:00\tGood\n",
    "2017-11-08 09:00:00\tGood\n",
    "2017-11-08 10:00:00\tGood\n",
    "2017-11-08 11:00:00\tGood\n",
    "2017-11-08 12:00:00\tGood\n",
    "2017-11-08 13:00:00\tGood\n",
    "2017-11-08 14:00:00\tGood\n",
    "2017-11-08 15:00:00\tGood\n",
    "2017-11-08 16:00:00\tGood\n",
    "2017-11-08 17:00:00\tGood\n",
    "2017-11-08 18:00:00\tGood\n",
    "2017-11-08 19:00:00\tGood\n",
    "2017-11-08 20:00:00\tGood\n",
    "2017-11-08 21:00:00\tGood\n",
    "2017-11-08 22:00:00\tGood\n",
    "2017-11-08 23:00:00\tGood\n",
    "2017-11-09 00:00:00\tGood\n",
    "2017-11-09 01:00:00\tGood\n",
    "2017-11-09 02:00:00\tGood\n",
    "2017-11-09 03:00:00\tGood\n",
    "2017-11-09 04:00:00\tGood\n",
    "2017-11-09 05:00:00\tGood\n",
    "2017-11-09 06:00:00\tGood\n",
    "2017-11-09 07:00:00\tGood\n",
    "\n"
   ]
  },
  {
   "cell_type": "markdown",
   "id": "ef6d03d0-7805-487b-9990-acdc61c71da3",
   "metadata": {},
   "source": [
    "- Comentario\n",
    "\n",
    "Se recuperaron los registros de condiciones meteorológicas para cada hora de la tabla weather_records, fueron divididos en dos grupos: Bad si el campo description contiene las palabras rain o storm, y Good para los demás. La tabla final incluye dos campos: fecha y hora (ts) y weather_conditions."
   ]
  },
  {
   "cell_type": "markdown",
   "id": "e24ec7a4-9b15-47a5-b065-399522c0b6e2",
   "metadata": {},
   "source": [
    "-\n",
    "Recupera de la tabla de trips todos los viajes que comenzaron en el Loop (pickup_location_id: 50) el sábado y terminaron en O'Hare (dropoff_location_id: 63). Obtén las condiciones climáticas para cada viaje. Utiliza el método que aplicaste en la tarea anterior. Recupera también la duración de cada viaje. Ignora los viajes para los que no hay datos disponibles sobre las condiciones climáticas.\n",
    "\n",
    "Las columnas de la tabla deben estar en el siguiente orden:\n",
    "\n",
    "start_ts, \n",
    "weather_conditions,\n",
    "duration_seconds y\n",
    "ordena por trip_id."
   ]
  },
  {
   "cell_type": "raw",
   "id": "5ea36ae5-6aa2-408b-a1b1-c744937a35ed",
   "metadata": {},
   "source": [
    "SELECT \n",
    "    start_ts, \n",
    "    T.weather_conditions,\n",
    "    duration_seconds \n",
    "FROM \n",
    "    trips \n",
    "INNER JOIN ( \n",
    "    SELECT \n",
    "        ts, \n",
    "        CASE \n",
    "            WHEN description LIKE '%rain%' OR description LIKE '%storm%' THEN 'Bad' \n",
    "            ELSE 'Good' \n",
    "        END AS weather_conditions \n",
    "    FROM \n",
    "        weather_records \n",
    ") T on T.ts = trips.start_ts \n",
    "WHERE \n",
    "    pickup_location_id = 50 AND dropoff_location_id = 63 AND \n",
    "EXTRACT (DOW from trips.start_ts) = 6 \n",
    "ORDER BY trip_id "
   ]
  },
  {
   "cell_type": "raw",
   "id": "8084c72c-4a69-4031-b335-e3cd7440bbde",
   "metadata": {},
   "source": [
    "Resultado\n",
    "start_ts\tweather_conditions\tduration_seconds\n",
    "2017-11-25 12:00:00\tGood\t1380\n",
    "2017-11-25 16:00:00\tGood\t2410\n",
    "2017-11-25 14:00:00\tGood\t1920\n",
    "2017-11-25 12:00:00\tGood\t1543\n",
    "2017-11-04 10:00:00\tGood\t2512\n",
    "2017-11-11 07:00:00\tGood\t1440\n",
    "2017-11-11 04:00:00\tGood\t1320\n",
    "2017-11-04 16:00:00\tBad\t2969\n",
    "2017-11-18 11:00:00\tGood\t2280\n",
    "2017-11-04 16:00:00\tBad\t3120\n",
    "2017-11-11 15:00:00\tGood\t4800\n",
    "2017-11-04 05:00:00\tGood\t1260\n",
    "2017-11-11 06:00:00\tGood\t1346\n",
    "2017-11-04 04:00:00\tGood\t1333\n",
    "2017-11-04 11:00:00\tGood\t2574\n",
    "2017-11-11 12:00:00\tGood\t2441\n",
    "2017-11-04 14:00:00\tGood\t3300\n",
    "2017-11-11 14:00:00\tGood\t2460\n",
    "2017-11-11 12:00:00\tGood\t2040\n",
    "2017-11-18 06:00:00\tGood\t1500\n",
    "2017-11-04 11:00:00\tGood\t2040\n",
    "2017-11-11 08:00:00\tGood\t1470\n",
    "2017-11-04 08:00:00\tGood\t1546\n",
    "2017-11-11 16:00:00\tGood\t2100\n",
    "2017-11-25 13:00:00\tGood\t60\n",
    "2017-11-04 12:00:00\tGood\t2640\n",
    "2017-11-25 10:00:00\tGood\t1502\n",
    "2017-11-11 12:00:00\tGood\t1915\n",
    "2017-11-04 12:00:00\tGood\t2769\n",
    "2017-11-11 13:00:00\tGood\t2250\n",
    "2017-11-11 04:00:00\tGood\t1260\n",
    "2017-11-18 14:00:00\tGood\t2826\n",
    "2017-11-04 14:00:00\tGood\t3360\n",
    "2017-11-04 14:00:00\tGood\t3180\n",
    "2017-11-25 20:00:00\tGood\t2100\n",
    "2017-11-04 10:00:00\tGood\t1800\n",
    "2017-11-11 12:00:00\tGood\t2289\n",
    "2017-11-04 08:00:00\tGood\t1494\n",
    "2017-11-11 11:00:00\tGood\t1560\n",
    "2017-11-18 12:00:00\tBad\t1980\n",
    "2017-11-11 13:00:00\tGood\t2115\n",
    "2017-11-11 10:00:00\tGood\t1506\n",
    "2017-11-04 12:00:00\tGood\t2580\n",
    "2017-11-04 17:00:00\tBad\t2460\n",
    "2017-11-11 09:00:00\tGood\t1620\n",
    "2017-11-04 06:00:00\tGood\t1163\n",
    "2017-11-04 05:00:00\tGood\t1533\n",
    "2017-11-11 04:00:00\tGood\t1477\n",
    "2017-11-11 19:00:00\tGood\t1984\n",
    "2017-11-04 13:00:00\tGood\t2940\n",
    "2017-11-04 07:00:00\tGood\t1320\n",
    "2017-11-04 06:00:00\tGood\t1440\n",
    "2017-11-11 06:00:00\tGood\t1260\n",
    "2017-11-11 08:00:00\tGood\t1560\n",
    "2017-11-04 09:00:00\tGood\t1683\n",
    "2017-11-11 05:00:00\tGood\t1343\n",
    "2017-11-18 06:00:00\tGood\t1742\n",
    "2017-11-04 09:00:00\tGood\t1560\n",
    "2017-11-11 08:00:00\tGood\t1358\n",
    "2017-11-11 12:00:00\tGood\t1980\n",
    "2017-11-04 16:00:00\tBad\t2760\n",
    "2017-11-18 12:00:00\tBad\t2460\n",
    "2017-11-18 10:00:00\tBad\t1440\n",
    "2017-11-25 14:00:00\tGood\t1620\n",
    "2017-11-11 08:00:00\tGood\t1415\n",
    "2017-11-25 05:00:00\tGood\t1325\n",
    "2017-11-18 06:00:00\tGood\t2100\n",
    "2017-11-11 08:00:00\tGood\t1320\n",
    "2017-11-11 10:00:00\tGood\t1260\n",
    "2017-11-11 06:00:00\tGood\t1260\n",
    "2017-11-11 08:00:00\tGood\t1200\n",
    "2017-11-25 08:00:00\tGood\t1320\n",
    "2017-11-11 18:00:00\tGood\t2280\n",
    "2017-11-25 10:00:00\tGood\t1320\n",
    "2017-11-04 06:00:00\tGood\t1140\n",
    "2017-11-11 18:00:00\tGood\t2520\n",
    "2017-11-18 16:00:00\tBad\t3000\n",
    "2017-11-11 19:00:00\tGood\t1920\n",
    "2017-11-04 18:00:00\tBad\t2363\n",
    "2017-11-04 14:00:00\tGood\t3084\n",
    "2017-11-11 08:00:00\tGood\t1380\n",
    "2017-11-11 08:00:00\tGood\t1380\n",
    "2017-11-04 09:00:00\tGood\t1380\n",
    "2017-11-04 09:00:00\tGood\t1380\n",
    "2017-11-11 12:00:00\tGood\t2213\n",
    "2017-11-11 08:00:00\tGood\t1140\n",
    "2017-11-11 10:00:00\tGood\t1435\n",
    "2017-11-04 10:00:00\tGood\t2460\n",
    "2017-11-11 07:00:00\tGood\t1200\n",
    "2017-11-04 15:00:00\tGood\t3201\n",
    "2017-11-11 11:00:00\tGood\t2074\n",
    "2017-11-18 11:00:00\tGood\t2843\n",
    "2017-11-11 17:00:00\tGood\t2426\n",
    "2017-11-04 09:00:00\tGood\t1740\n",
    "2017-11-25 07:00:00\tGood\t2340\n",
    "2017-11-18 05:00:00\tGood\t2075\n",
    "2017-11-18 07:00:00\tBad\t1511\n",
    "2017-11-11 18:00:00\tGood\t2220\n",
    "2017-11-04 10:00:00\tGood\t2551\n",
    "2017-11-11 16:00:00\tGood\t2062\n",
    "2017-11-04 12:00:00\tGood\t2999\n",
    "2017-11-04 08:00:00\tGood\t1677\n",
    "2017-11-04 06:00:00\tGood\t1177\n",
    "2017-11-11 06:00:00\tGood\t1475\n",
    "2017-11-25 08:00:00\tGood\t1277\n",
    "2017-11-11 04:00:00\tGood\t1213\n",
    "2017-11-18 13:00:00\tBad\t4044\n",
    "2017-11-04 21:00:00\tGood\t1680\n",
    "2017-11-04 18:00:00\tBad\t1980\n",
    "2017-11-25 18:00:00\tGood\t2760\n",
    "2017-11-11 09:00:00\tGood\t1380\n",
    "2017-11-11 07:00:00\tGood\t1380\n",
    "2017-11-18 08:00:00\tBad\t1320\n",
    "2017-11-11 16:00:00\tGood\t2591\n",
    "2017-11-11 08:00:00\tGood\t1260\n",
    "2017-11-11 07:00:00\tGood\t1380\n",
    "2017-11-11 10:00:00\tGood\t1440\n",
    "2017-11-04 14:00:00\tGood\t3240\n",
    "2017-11-04 16:00:00\tBad\t2782\n",
    "2017-11-04 14:00:00\tGood\t3120\n",
    "2017-11-04 19:00:00\tGood\t1869\n",
    "2017-11-11 06:00:00\tGood\t1218\n",
    "2017-11-11 11:00:00\tGood\t1620\n",
    "2017-11-11 10:00:00\tGood\t1380\n",
    "2017-11-11 08:00:00\tGood\t1380\n",
    "2017-11-11 09:00:00\tGood\t1380\n",
    "2017-11-11 07:00:00\tGood\t1320\n",
    "2017-11-04 14:00:00\tGood\t3300\n",
    "2017-11-04 13:00:00\tGood\t3060\n",
    "2017-11-11 13:00:00\tGood\t2100\n",
    "2017-11-18 14:00:00\tGood\t3540\n",
    "2017-11-11 21:00:00\tGood\t1920\n",
    "2017-11-11 17:00:00\tGood\t2160\n",
    "2017-11-11 13:00:00\tGood\t2123\n",
    "2017-11-11 07:00:00\tGood\t1384\n",
    "2017-11-11 10:00:00\tGood\t1260\n",
    "2017-11-18 15:00:00\tGood\t3480\n",
    "2017-11-11 12:00:00\tGood\t2071\n",
    "2017-11-18 13:00:00\tBad\t3300\n",
    "2017-11-25 13:00:00\tGood\t1560\n",
    "2017-11-04 12:00:00\tGood\t2760\n",
    "2017-11-18 12:00:00\tBad\t3024\n",
    "2017-11-11 11:00:00\tGood\t1380\n",
    "2017-11-25 06:00:00\tGood\t1200\n",
    "2017-11-11 06:00:00\tGood\t1667\n",
    "2017-11-18 18:00:00\tGood\t2056\n",
    "2017-11-11 10:00:00\tGood\t1473\n",
    "2017-11-11 17:00:00\tGood\t2460\n",
    "2017-11-11 10:00:00\tGood\t1740\n",
    "2017-11-11 14:00:00\tGood\t2340\n",
    "2017-11-04 16:00:00\tBad\t3180\n",
    "2017-11-04 11:00:00\tGood\t2220\n",
    "2017-11-11 12:00:00\tGood\t2240\n",
    "2017-11-04 14:00:00\tGood\t2778\n",
    "2017-11-18 06:00:00\tGood\t1420\n",
    "2017-11-04 14:00:00\tGood\t3480\n",
    "2017-11-25 20:00:00\tGood\t1980\n",
    "2017-11-18 10:00:00\tBad\t2055\n",
    "2017-11-11 15:00:00\tGood\t2380\n",
    "2017-11-04 08:00:00\tGood\t1539\n",
    "2017-11-25 10:00:00\tGood\t1591\n",
    "2017-11-18 14:00:00\tGood\t2588\n",
    "2017-11-11 07:00:00\tGood\t0\n",
    "2017-11-04 22:00:00\tGood\t1380\n",
    "2017-11-04 12:00:00\tGood\t2220\n",
    "2017-11-04 08:00:00\tGood\t1380\n",
    "2017-11-04 14:00:00\tGood\t2820\n",
    "2017-11-11 09:00:00\tGood\t0\n",
    "2017-11-18 09:00:00\tBad\t1260\n",
    "2017-11-18 13:00:00\tBad\t2940\n",
    "2017-11-18 16:00:00\tBad\t2340\n",
    "2017-11-18 12:00:00\tBad\t2220\n",
    "2017-11-25 11:00:00\tGood\t1140\n",
    "2017-11-11 10:00:00\tGood\t1239\n",
    "2017-11-04 16:00:00\tBad\t3130\n",
    "2017-11-18 15:00:00\tGood\t2877\n",
    "2017-11-11 03:00:00\tGood\t1162\n",
    "2017-11-04 14:00:00\tGood\t3060\n",
    "2017-11-11 13:00:00\tGood\t1680\n",
    "2017-11-04 10:00:00\tGood\t2112\n",
    "2017-11-04 11:00:00\tGood\t2328\n",
    "2017-11-11 05:00:00\tGood\t1504\n",
    "2017-11-04 06:00:00\tGood\t1439\n",
    "2017-11-18 16:00:00\tBad\t2811\n",
    "2017-11-18 11:00:00\tGood\t2094\n",
    "2017-11-11 06:00:00\tGood\t1430\n",
    "2017-11-18 12:00:00\tBad\t3026\n",
    "2017-11-04 14:00:00\tGood\t3120\n",
    "2017-11-25 12:00:00\tGood\t1380\n",
    "2017-11-18 14:00:00\tGood\t2994\n",
    "2017-11-11 11:00:00\tGood\t1620\n",
    "2017-11-04 12:00:00\tGood\t2640\n",
    "2017-11-18 00:00:00\tBad\t480\n",
    "2017-11-18 19:00:00\tGood\t0\n",
    "2017-11-11 10:00:00\tGood\t1414\n",
    "2017-11-11 12:00:00\tGood\t1981\n",
    "2017-11-11 08:00:00\tGood\t1200\n",
    "2017-11-04 11:00:00\tGood\t2160\n",
    "2017-11-11 15:00:00\tGood\t2400\n",
    "2017-11-11 20:00:00\tGood\t1500\n",
    "\n"
   ]
  },
  {
   "cell_type": "markdown",
   "id": "76f3d629-c63b-4770-970c-26c4d23549a0",
   "metadata": {},
   "source": [
    "- Comentario \n",
    "\n",
    "Se recuperaron de la tabla de trips todos los viajes que comenzaron en el Loop (pickup_location_id: 50) el sábado y terminaron en O'Hare (dropoff_location_id: 63). Se obtuvieron las condiciones climáticas para cada viaje y fue recuparado la duración de cada viaje. Se ignoraron los viajes para los que no hay datos disponibles sobre las condiciones climáticas.\n"
   ]
  },
  {
   "cell_type": "markdown",
   "id": "84e994f9-99f5-4468-8f9a-000bf51013c7",
   "metadata": {},
   "source": [
    "# Análisis Exploratorio de Datos Adicional con Python (Paso 4)"
   ]
  },
  {
   "cell_type": "markdown",
   "id": "cb752297-8af8-4b3e-94dc-c3cc322778d3",
   "metadata": {},
   "source": [
    "**Cargar y explorar los datos**"
   ]
  },
  {
   "cell_type": "code",
   "execution_count": 3,
   "id": "58f183d5-8596-471d-8d48-b29f17dbccfe",
   "metadata": {},
   "outputs": [],
   "source": [
    "company_trips = pd.read_csv('./datasets/moved_project_sql_result_01.csv')"
   ]
  },
  {
   "cell_type": "code",
   "execution_count": 4,
   "id": "b7750a2b-4d71-48fc-a646-3455c74a534a",
   "metadata": {},
   "outputs": [],
   "source": [
    "dropoff_location_trips = pd.read_csv('./datasets/moved_project_sql_result_04.csv')"
   ]
  },
  {
   "cell_type": "code",
   "execution_count": 5,
   "id": "f49061b4-ebab-43e0-923a-064f004e6242",
   "metadata": {},
   "outputs": [],
   "source": [
    "Loop_OHare_trips = pd.read_csv('./datasets/moved_project_sql_result_07.csv')"
   ]
  },
  {
   "cell_type": "code",
   "execution_count": 6,
   "id": "8bbfecc4-a517-4d19-b512-93ea2c9a741a",
   "metadata": {},
   "outputs": [
    {
     "data": {
      "text/html": [
       "<div>\n",
       "<style scoped>\n",
       "    .dataframe tbody tr th:only-of-type {\n",
       "        vertical-align: middle;\n",
       "    }\n",
       "\n",
       "    .dataframe tbody tr th {\n",
       "        vertical-align: top;\n",
       "    }\n",
       "\n",
       "    .dataframe thead th {\n",
       "        text-align: right;\n",
       "    }\n",
       "</style>\n",
       "<table border=\"1\" class=\"dataframe\">\n",
       "  <thead>\n",
       "    <tr style=\"text-align: right;\">\n",
       "      <th></th>\n",
       "      <th>company_name</th>\n",
       "      <th>trips_amount</th>\n",
       "    </tr>\n",
       "  </thead>\n",
       "  <tbody>\n",
       "    <tr>\n",
       "      <th>0</th>\n",
       "      <td>Flash Cab</td>\n",
       "      <td>19558</td>\n",
       "    </tr>\n",
       "    <tr>\n",
       "      <th>1</th>\n",
       "      <td>Taxi Affiliation Services</td>\n",
       "      <td>11422</td>\n",
       "    </tr>\n",
       "    <tr>\n",
       "      <th>2</th>\n",
       "      <td>Medallion Leasin</td>\n",
       "      <td>10367</td>\n",
       "    </tr>\n",
       "    <tr>\n",
       "      <th>3</th>\n",
       "      <td>Yellow Cab</td>\n",
       "      <td>9888</td>\n",
       "    </tr>\n",
       "    <tr>\n",
       "      <th>4</th>\n",
       "      <td>Taxi Affiliation Service Yellow</td>\n",
       "      <td>9299</td>\n",
       "    </tr>\n",
       "  </tbody>\n",
       "</table>\n",
       "</div>"
      ],
      "text/plain": [
       "                      company_name  trips_amount\n",
       "0                        Flash Cab         19558\n",
       "1        Taxi Affiliation Services         11422\n",
       "2                 Medallion Leasin         10367\n",
       "3                       Yellow Cab          9888\n",
       "4  Taxi Affiliation Service Yellow          9299"
      ]
     },
     "execution_count": 6,
     "metadata": {},
     "output_type": "execute_result"
    }
   ],
   "source": [
    "company_trips.head()"
   ]
  },
  {
   "cell_type": "code",
   "execution_count": 7,
   "id": "1fe2c890-431f-4785-a9bd-2ade0f880d3f",
   "metadata": {},
   "outputs": [
    {
     "name": "stdout",
     "output_type": "stream",
     "text": [
      "<class 'pandas.core.frame.DataFrame'>\n",
      "RangeIndex: 64 entries, 0 to 63\n",
      "Data columns (total 2 columns):\n",
      " #   Column        Non-Null Count  Dtype \n",
      "---  ------        --------------  ----- \n",
      " 0   company_name  64 non-null     object\n",
      " 1   trips_amount  64 non-null     int64 \n",
      "dtypes: int64(1), object(1)\n",
      "memory usage: 1.1+ KB\n"
     ]
    }
   ],
   "source": [
    "company_trips.info()"
   ]
  },
  {
   "cell_type": "code",
   "execution_count": 8,
   "id": "d42b1792-0989-4a33-9914-415b511b7ced",
   "metadata": {},
   "outputs": [
    {
     "data": {
      "text/html": [
       "<div>\n",
       "<style scoped>\n",
       "    .dataframe tbody tr th:only-of-type {\n",
       "        vertical-align: middle;\n",
       "    }\n",
       "\n",
       "    .dataframe tbody tr th {\n",
       "        vertical-align: top;\n",
       "    }\n",
       "\n",
       "    .dataframe thead th {\n",
       "        text-align: right;\n",
       "    }\n",
       "</style>\n",
       "<table border=\"1\" class=\"dataframe\">\n",
       "  <thead>\n",
       "    <tr style=\"text-align: right;\">\n",
       "      <th></th>\n",
       "      <th>trips_amount</th>\n",
       "    </tr>\n",
       "  </thead>\n",
       "  <tbody>\n",
       "    <tr>\n",
       "      <th>count</th>\n",
       "      <td>64.000000</td>\n",
       "    </tr>\n",
       "    <tr>\n",
       "      <th>mean</th>\n",
       "      <td>2145.484375</td>\n",
       "    </tr>\n",
       "    <tr>\n",
       "      <th>std</th>\n",
       "      <td>3812.310186</td>\n",
       "    </tr>\n",
       "    <tr>\n",
       "      <th>min</th>\n",
       "      <td>2.000000</td>\n",
       "    </tr>\n",
       "    <tr>\n",
       "      <th>25%</th>\n",
       "      <td>20.750000</td>\n",
       "    </tr>\n",
       "    <tr>\n",
       "      <th>50%</th>\n",
       "      <td>178.500000</td>\n",
       "    </tr>\n",
       "    <tr>\n",
       "      <th>75%</th>\n",
       "      <td>2106.500000</td>\n",
       "    </tr>\n",
       "    <tr>\n",
       "      <th>max</th>\n",
       "      <td>19558.000000</td>\n",
       "    </tr>\n",
       "  </tbody>\n",
       "</table>\n",
       "</div>"
      ],
      "text/plain": [
       "       trips_amount\n",
       "count     64.000000\n",
       "mean    2145.484375\n",
       "std     3812.310186\n",
       "min        2.000000\n",
       "25%       20.750000\n",
       "50%      178.500000\n",
       "75%     2106.500000\n",
       "max    19558.000000"
      ]
     },
     "execution_count": 8,
     "metadata": {},
     "output_type": "execute_result"
    }
   ],
   "source": [
    "company_trips.describe()"
   ]
  },
  {
   "cell_type": "code",
   "execution_count": 9,
   "id": "de93a0e5-e635-4d86-b4c5-a8e2c53e4a45",
   "metadata": {},
   "outputs": [
    {
     "data": {
      "text/plain": [
       "0"
      ]
     },
     "execution_count": 9,
     "metadata": {},
     "output_type": "execute_result"
    }
   ],
   "source": [
    "company_trips.duplicated().sum()"
   ]
  },
  {
   "cell_type": "code",
   "execution_count": 10,
   "id": "2365b0e7-c16e-47a1-8cc7-1f091e6c1d58",
   "metadata": {},
   "outputs": [
    {
     "data": {
      "text/plain": [
       "company_name    0\n",
       "trips_amount    0\n",
       "dtype: int64"
      ]
     },
     "execution_count": 10,
     "metadata": {},
     "output_type": "execute_result"
    }
   ],
   "source": [
    "company_trips.isna().sum()"
   ]
  },
  {
   "cell_type": "markdown",
   "id": "66f40aca-a7ba-4a82-a6ce-a6e32f9ed983",
   "metadata": {},
   "source": [
    "- Valores atípicos"
   ]
  },
  {
   "cell_type": "code",
   "execution_count": 11,
   "id": "a4cfba06-c377-4245-a607-619a6ddeef71",
   "metadata": {},
   "outputs": [],
   "source": [
    "z_scores = stats.zscore(company_trips['trips_amount'])"
   ]
  },
  {
   "cell_type": "code",
   "execution_count": 12,
   "id": "70e71a09-6c45-4fa8-a745-3f5321569e69",
   "metadata": {},
   "outputs": [],
   "source": [
    "company_trips_no_outliers = company_trips[(z_scores < 3) & (z_scores > -3)]"
   ]
  },
  {
   "cell_type": "code",
   "execution_count": 13,
   "id": "50fccc64-a683-4573-84ac-ade28ff9d8c5",
   "metadata": {},
   "outputs": [
    {
     "name": "stdout",
     "output_type": "stream",
     "text": [
      "                                 company_name  trips_amount\n",
      "1                   Taxi Affiliation Services         11422\n",
      "2                            Medallion Leasin         10367\n",
      "3                                  Yellow Cab          9888\n",
      "4             Taxi Affiliation Service Yellow          9299\n",
      "5                   Chicago Carriage Cab Corp          9181\n",
      "..                                        ...           ...\n",
      "59               4053 - 40193 Adwar H. Nikola             7\n",
      "60                    2733 - 74600 Benny Jona             7\n",
      "61              5874 - 73628 Sergey Cab Corp.             5\n",
      "62  2241 - 44667 - Felman Corp, Manuel Alonso             3\n",
      "63                3556 - 36214 RC Andrews Cab             2\n",
      "\n",
      "[63 rows x 2 columns]\n"
     ]
    }
   ],
   "source": [
    "print(company_trips_no_outliers)"
   ]
  },
  {
   "cell_type": "code",
   "execution_count": 14,
   "id": "e2c7713a-7343-4466-aef9-e34a1a89213a",
   "metadata": {},
   "outputs": [],
   "source": [
    "company_trips_no_outliers = company_trips"
   ]
  },
  {
   "cell_type": "code",
   "execution_count": 15,
   "id": "6af7ea17-b217-4c64-a038-50a29b4ea85d",
   "metadata": {},
   "outputs": [
    {
     "data": {
      "text/html": [
       "<div>\n",
       "<style scoped>\n",
       "    .dataframe tbody tr th:only-of-type {\n",
       "        vertical-align: middle;\n",
       "    }\n",
       "\n",
       "    .dataframe tbody tr th {\n",
       "        vertical-align: top;\n",
       "    }\n",
       "\n",
       "    .dataframe thead th {\n",
       "        text-align: right;\n",
       "    }\n",
       "</style>\n",
       "<table border=\"1\" class=\"dataframe\">\n",
       "  <thead>\n",
       "    <tr style=\"text-align: right;\">\n",
       "      <th></th>\n",
       "      <th>dropoff_location_name</th>\n",
       "      <th>average_trips</th>\n",
       "    </tr>\n",
       "  </thead>\n",
       "  <tbody>\n",
       "    <tr>\n",
       "      <th>0</th>\n",
       "      <td>Loop</td>\n",
       "      <td>10727.466667</td>\n",
       "    </tr>\n",
       "    <tr>\n",
       "      <th>1</th>\n",
       "      <td>River North</td>\n",
       "      <td>9523.666667</td>\n",
       "    </tr>\n",
       "    <tr>\n",
       "      <th>2</th>\n",
       "      <td>Streeterville</td>\n",
       "      <td>6664.666667</td>\n",
       "    </tr>\n",
       "    <tr>\n",
       "      <th>3</th>\n",
       "      <td>West Loop</td>\n",
       "      <td>5163.666667</td>\n",
       "    </tr>\n",
       "    <tr>\n",
       "      <th>4</th>\n",
       "      <td>O'Hare</td>\n",
       "      <td>2546.900000</td>\n",
       "    </tr>\n",
       "  </tbody>\n",
       "</table>\n",
       "</div>"
      ],
      "text/plain": [
       "  dropoff_location_name  average_trips\n",
       "0                  Loop   10727.466667\n",
       "1           River North    9523.666667\n",
       "2         Streeterville    6664.666667\n",
       "3             West Loop    5163.666667\n",
       "4                O'Hare    2546.900000"
      ]
     },
     "execution_count": 15,
     "metadata": {},
     "output_type": "execute_result"
    }
   ],
   "source": [
    "dropoff_location_trips.head()"
   ]
  },
  {
   "cell_type": "code",
   "execution_count": 16,
   "id": "3c881351-8828-497f-ad60-e6ea046cd2b2",
   "metadata": {},
   "outputs": [
    {
     "name": "stdout",
     "output_type": "stream",
     "text": [
      "<class 'pandas.core.frame.DataFrame'>\n",
      "RangeIndex: 94 entries, 0 to 93\n",
      "Data columns (total 2 columns):\n",
      " #   Column                 Non-Null Count  Dtype  \n",
      "---  ------                 --------------  -----  \n",
      " 0   dropoff_location_name  94 non-null     object \n",
      " 1   average_trips          94 non-null     float64\n",
      "dtypes: float64(1), object(1)\n",
      "memory usage: 1.6+ KB\n"
     ]
    }
   ],
   "source": [
    "dropoff_location_trips.info()"
   ]
  },
  {
   "cell_type": "code",
   "execution_count": 17,
   "id": "7fbaaf9e-a096-458c-a697-61500bac3762",
   "metadata": {},
   "outputs": [
    {
     "data": {
      "text/html": [
       "<div>\n",
       "<style scoped>\n",
       "    .dataframe tbody tr th:only-of-type {\n",
       "        vertical-align: middle;\n",
       "    }\n",
       "\n",
       "    .dataframe tbody tr th {\n",
       "        vertical-align: top;\n",
       "    }\n",
       "\n",
       "    .dataframe thead th {\n",
       "        text-align: right;\n",
       "    }\n",
       "</style>\n",
       "<table border=\"1\" class=\"dataframe\">\n",
       "  <thead>\n",
       "    <tr style=\"text-align: right;\">\n",
       "      <th></th>\n",
       "      <th>average_trips</th>\n",
       "    </tr>\n",
       "  </thead>\n",
       "  <tbody>\n",
       "    <tr>\n",
       "      <th>count</th>\n",
       "      <td>94.000000</td>\n",
       "    </tr>\n",
       "    <tr>\n",
       "      <th>mean</th>\n",
       "      <td>599.953728</td>\n",
       "    </tr>\n",
       "    <tr>\n",
       "      <th>std</th>\n",
       "      <td>1714.591098</td>\n",
       "    </tr>\n",
       "    <tr>\n",
       "      <th>min</th>\n",
       "      <td>1.800000</td>\n",
       "    </tr>\n",
       "    <tr>\n",
       "      <th>25%</th>\n",
       "      <td>14.266667</td>\n",
       "    </tr>\n",
       "    <tr>\n",
       "      <th>50%</th>\n",
       "      <td>52.016667</td>\n",
       "    </tr>\n",
       "    <tr>\n",
       "      <th>75%</th>\n",
       "      <td>298.858333</td>\n",
       "    </tr>\n",
       "    <tr>\n",
       "      <th>max</th>\n",
       "      <td>10727.466667</td>\n",
       "    </tr>\n",
       "  </tbody>\n",
       "</table>\n",
       "</div>"
      ],
      "text/plain": [
       "       average_trips\n",
       "count      94.000000\n",
       "mean      599.953728\n",
       "std      1714.591098\n",
       "min         1.800000\n",
       "25%        14.266667\n",
       "50%        52.016667\n",
       "75%       298.858333\n",
       "max     10727.466667"
      ]
     },
     "execution_count": 17,
     "metadata": {},
     "output_type": "execute_result"
    }
   ],
   "source": [
    "dropoff_location_trips.describe()"
   ]
  },
  {
   "cell_type": "code",
   "execution_count": 18,
   "id": "8b681334-8fcc-4927-999a-a43d2bb296f6",
   "metadata": {},
   "outputs": [
    {
     "data": {
      "text/plain": [
       "0"
      ]
     },
     "execution_count": 18,
     "metadata": {},
     "output_type": "execute_result"
    }
   ],
   "source": [
    "dropoff_location_trips.duplicated().sum()"
   ]
  },
  {
   "cell_type": "code",
   "execution_count": 19,
   "id": "66976e14-25bf-4499-909b-4c2c7922480b",
   "metadata": {},
   "outputs": [
    {
     "data": {
      "text/plain": [
       "dropoff_location_name    0\n",
       "average_trips            0\n",
       "dtype: int64"
      ]
     },
     "execution_count": 19,
     "metadata": {},
     "output_type": "execute_result"
    }
   ],
   "source": [
    "dropoff_location_trips.isna().sum()"
   ]
  },
  {
   "cell_type": "markdown",
   "id": "c2190142-89e8-452a-8129-faa6ebaf8b58",
   "metadata": {},
   "source": [
    "- Valores atípicos"
   ]
  },
  {
   "cell_type": "code",
   "execution_count": 20,
   "id": "7b227450-24b4-40e0-aa38-106d8e6a4bb2",
   "metadata": {},
   "outputs": [],
   "source": [
    "z_scores = stats.zscore(dropoff_location_trips['average_trips'])"
   ]
  },
  {
   "cell_type": "code",
   "execution_count": 21,
   "id": "72bebd0f-dc66-49ae-a7ea-053f5f7f5040",
   "metadata": {},
   "outputs": [],
   "source": [
    "dropoff_location_trips_no_outliers = dropoff_location_trips[(z_scores < 3) & (z_scores > -3)]"
   ]
  },
  {
   "cell_type": "code",
   "execution_count": 22,
   "id": "ae4787b0-dfcd-4b6a-a151-64a99cfaf2a9",
   "metadata": {},
   "outputs": [
    {
     "name": "stdout",
     "output_type": "stream",
     "text": [
      "   dropoff_location_name  average_trips\n",
      "3              West Loop    5163.666667\n",
      "4                 O'Hare    2546.900000\n",
      "5              Lake View    2420.966667\n",
      "6             Grant Park    2068.533333\n",
      "7          Museum Campus    1510.000000\n",
      "..                   ...            ...\n",
      "89       Mount Greenwood       3.137931\n",
      "90             Hegewisch       3.117647\n",
      "91              Burnside       2.333333\n",
      "92             East Side       1.961538\n",
      "93             Riverdale       1.800000\n",
      "\n",
      "[91 rows x 2 columns]\n"
     ]
    }
   ],
   "source": [
    "print(dropoff_location_trips_no_outliers)"
   ]
  },
  {
   "cell_type": "code",
   "execution_count": 23,
   "id": "34a2bd1c-a87c-4f2a-8135-9d6f9f6ae3f9",
   "metadata": {},
   "outputs": [],
   "source": [
    "dropoff_location_trips_no_outliers = dropoff_location_trips"
   ]
  },
  {
   "cell_type": "markdown",
   "id": "879fada2-bad3-4cfb-992f-f8891fad9272",
   "metadata": {},
   "source": [
    "-Comentario\n",
    "\n",
    "En ambos conjuntos de datos no hay datos nulos, ni datos duplicados, el tipo de dato es el correcto y se eliminaron valores atípicos."
   ]
  },
  {
   "cell_type": "markdown",
   "id": "811adcce-66b1-4c5f-b0d7-0e500da35306",
   "metadata": {},
   "source": [
    "**Identificar los diez principales barrios en términos de finalización**"
   ]
  },
  {
   "cell_type": "code",
   "execution_count": 24,
   "id": "3b7a45eb-f11e-491f-b7fb-2f4a6e79ec4b",
   "metadata": {},
   "outputs": [],
   "source": [
    "top_dropoff_location = dropoff_location_trips.nlargest(10,['average_trips'])"
   ]
  },
  {
   "cell_type": "code",
   "execution_count": 25,
   "id": "b8f2595e-7182-480b-b7c8-95c9e29ab157",
   "metadata": {},
   "outputs": [
    {
     "data": {
      "text/html": [
       "<div>\n",
       "<style scoped>\n",
       "    .dataframe tbody tr th:only-of-type {\n",
       "        vertical-align: middle;\n",
       "    }\n",
       "\n",
       "    .dataframe tbody tr th {\n",
       "        vertical-align: top;\n",
       "    }\n",
       "\n",
       "    .dataframe thead th {\n",
       "        text-align: right;\n",
       "    }\n",
       "</style>\n",
       "<table border=\"1\" class=\"dataframe\">\n",
       "  <thead>\n",
       "    <tr style=\"text-align: right;\">\n",
       "      <th></th>\n",
       "      <th>dropoff_location_name</th>\n",
       "      <th>average_trips</th>\n",
       "    </tr>\n",
       "  </thead>\n",
       "  <tbody>\n",
       "    <tr>\n",
       "      <th>0</th>\n",
       "      <td>Loop</td>\n",
       "      <td>10727.466667</td>\n",
       "    </tr>\n",
       "    <tr>\n",
       "      <th>1</th>\n",
       "      <td>River North</td>\n",
       "      <td>9523.666667</td>\n",
       "    </tr>\n",
       "    <tr>\n",
       "      <th>2</th>\n",
       "      <td>Streeterville</td>\n",
       "      <td>6664.666667</td>\n",
       "    </tr>\n",
       "    <tr>\n",
       "      <th>3</th>\n",
       "      <td>West Loop</td>\n",
       "      <td>5163.666667</td>\n",
       "    </tr>\n",
       "    <tr>\n",
       "      <th>4</th>\n",
       "      <td>O'Hare</td>\n",
       "      <td>2546.900000</td>\n",
       "    </tr>\n",
       "    <tr>\n",
       "      <th>5</th>\n",
       "      <td>Lake View</td>\n",
       "      <td>2420.966667</td>\n",
       "    </tr>\n",
       "    <tr>\n",
       "      <th>6</th>\n",
       "      <td>Grant Park</td>\n",
       "      <td>2068.533333</td>\n",
       "    </tr>\n",
       "    <tr>\n",
       "      <th>7</th>\n",
       "      <td>Museum Campus</td>\n",
       "      <td>1510.000000</td>\n",
       "    </tr>\n",
       "    <tr>\n",
       "      <th>8</th>\n",
       "      <td>Gold Coast</td>\n",
       "      <td>1364.233333</td>\n",
       "    </tr>\n",
       "    <tr>\n",
       "      <th>9</th>\n",
       "      <td>Sheffield &amp; DePaul</td>\n",
       "      <td>1259.766667</td>\n",
       "    </tr>\n",
       "  </tbody>\n",
       "</table>\n",
       "</div>"
      ],
      "text/plain": [
       "  dropoff_location_name  average_trips\n",
       "0                  Loop   10727.466667\n",
       "1           River North    9523.666667\n",
       "2         Streeterville    6664.666667\n",
       "3             West Loop    5163.666667\n",
       "4                O'Hare    2546.900000\n",
       "5             Lake View    2420.966667\n",
       "6            Grant Park    2068.533333\n",
       "7         Museum Campus    1510.000000\n",
       "8            Gold Coast    1364.233333\n",
       "9    Sheffield & DePaul    1259.766667"
      ]
     },
     "execution_count": 25,
     "metadata": {},
     "output_type": "execute_result"
    }
   ],
   "source": [
    "top_dropoff_location"
   ]
  },
  {
   "cell_type": "markdown",
   "id": "6ba2c510-9b41-4505-beda-f8829965d32f",
   "metadata": {},
   "source": [
    "- Comentario\n",
    "\n",
    "Lista de los diez principales barrios en términos de finalización"
   ]
  },
  {
   "cell_type": "markdown",
   "id": "249d3ede-d2c2-47ea-86fc-48d12056b2d6",
   "metadata": {},
   "source": [
    "**Gráfico \"Empresas de taxis Vs Número de viajes\"**"
   ]
  },
  {
   "cell_type": "code",
   "execution_count": 26,
   "id": "f1ce2d3f-0cec-49e3-aa22-65391c6e65d5",
   "metadata": {},
   "outputs": [
    {
     "data": {
      "text/plain": [
       "<Figure size 1200x600 with 0 Axes>"
      ]
     },
     "metadata": {},
     "output_type": "display_data"
    },
    {
     "data": {
      "image/png": "[encoded data removed]",
      "text/plain": [
       "<Figure size 640x480 with 1 Axes>"
      ]
     },
     "metadata": {},
     "output_type": "display_data"
    }
   ],
   "source": [
    "plt.figure(figsize=(12, 6))\n",
    "top_companies = company_trips.head(10)\n",
    "top_companies.plot(kind='bar', x='company_name', y='trips_amount', title='\"Número de viajes por empresas de taxis\"', rot=90, xlabel='Empresa de Taxi', ylabel='Número de viajes',legend=False)\n",
    "plt.tight_layout()\n",
    "plt.show()"
   ]
  },
  {
   "cell_type": "markdown",
   "id": "d5f11039-8ebb-4ed5-b56a-0bfa5db7ef6c",
   "metadata": {},
   "source": [
    "- Comentario\n",
    "\n",
    "Para fines de éste análisis elegí representar en la gráfica las 10 empresas con mayor cantidad de viajes. La empresa con cantidad superior de viajes en quince y dieciséis de noviembre del 2017 es Flash Cab, de ahí éste número disminuye casi a la mitad en el resto de las empresas de taxis."
   ]
  },
  {
   "cell_type": "markdown",
   "id": "e4b8949e-6f1d-45fb-ba6b-5b8628387644",
   "metadata": {},
   "source": [
    "**Gráfico de los diez principales barrios por promedio de viajes finalizados**"
   ]
  },
  {
   "cell_type": "code",
   "execution_count": 27,
   "id": "bc42a7f1-a9b2-45e4-853d-735fd2e0c1d9",
   "metadata": {},
   "outputs": [
    {
     "data": {
      "text/plain": [
       "<Figure size 1200x600 with 0 Axes>"
      ]
     },
     "metadata": {},
     "output_type": "display_data"
    },
    {
     "data": {
      "image/png": "[encoded data removed]",
      "text/plain": [
       "<Figure size 640x480 with 1 Axes>"
      ]
     },
     "metadata": {},
     "output_type": "display_data"
    }
   ],
   "source": [
    "plt.figure(figsize=(12, 6))\n",
    "top_dropoff_location.plot(kind='bar', x='dropoff_location_name', y='average_trips', title='\"los diez principales barrios por número de viajes finalizados\"', rot=90, xlabel='Barrios', ylabel='Promedio de viajes finalizados',legend=False)\n",
    "plt.tight_layout()\n",
    "plt.show()"
   ]
  },
  {
   "cell_type": "markdown",
   "id": "5b037880-70ff-4f08-af45-6d718ce35df0",
   "metadata": {},
   "source": [
    "- Comentario \n",
    "\n",
    "En el mes de noviembre del 2017, los barrios que registraron el promedio superior de viajes finalizados fueron Loop y River North, de ahí el promedio fue disminuyendo en el resto de los barrios."
   ]
  },
  {
   "cell_type": "markdown",
   "id": "164cb749-6682-4524-8c9a-46001f139e9e",
   "metadata": {},
   "source": [
    "# Prueba de Hipótesis (Paso 5)"
   ]
  },
  {
   "cell_type": "markdown",
   "id": "ff6a0c64-f76c-4e06-b976-2634ed8505e2",
   "metadata": {},
   "source": [
    "**Explorar los datos**"
   ]
  },
  {
   "cell_type": "code",
   "execution_count": 28,
   "id": "0d6ebf91-00eb-454b-8acf-b66598b25771",
   "metadata": {},
   "outputs": [
    {
     "data": {
      "text/html": [
       "<div>\n",
       "<style scoped>\n",
       "    .dataframe tbody tr th:only-of-type {\n",
       "        vertical-align: middle;\n",
       "    }\n",
       "\n",
       "    .dataframe tbody tr th {\n",
       "        vertical-align: top;\n",
       "    }\n",
       "\n",
       "    .dataframe thead th {\n",
       "        text-align: right;\n",
       "    }\n",
       "</style>\n",
       "<table border=\"1\" class=\"dataframe\">\n",
       "  <thead>\n",
       "    <tr style=\"text-align: right;\">\n",
       "      <th></th>\n",
       "      <th>start_ts</th>\n",
       "      <th>weather_conditions</th>\n",
       "      <th>duration_seconds</th>\n",
       "    </tr>\n",
       "  </thead>\n",
       "  <tbody>\n",
       "    <tr>\n",
       "      <th>0</th>\n",
       "      <td>2017-11-25 16:00:00</td>\n",
       "      <td>Good</td>\n",
       "      <td>2410.0</td>\n",
       "    </tr>\n",
       "    <tr>\n",
       "      <th>1</th>\n",
       "      <td>2017-11-25 14:00:00</td>\n",
       "      <td>Good</td>\n",
       "      <td>1920.0</td>\n",
       "    </tr>\n",
       "    <tr>\n",
       "      <th>2</th>\n",
       "      <td>2017-11-25 12:00:00</td>\n",
       "      <td>Good</td>\n",
       "      <td>1543.0</td>\n",
       "    </tr>\n",
       "    <tr>\n",
       "      <th>3</th>\n",
       "      <td>2017-11-04 10:00:00</td>\n",
       "      <td>Good</td>\n",
       "      <td>2512.0</td>\n",
       "    </tr>\n",
       "    <tr>\n",
       "      <th>4</th>\n",
       "      <td>2017-11-11 07:00:00</td>\n",
       "      <td>Good</td>\n",
       "      <td>1440.0</td>\n",
       "    </tr>\n",
       "  </tbody>\n",
       "</table>\n",
       "</div>"
      ],
      "text/plain": [
       "              start_ts weather_conditions  duration_seconds\n",
       "0  2017-11-25 16:00:00               Good            2410.0\n",
       "1  2017-11-25 14:00:00               Good            1920.0\n",
       "2  2017-11-25 12:00:00               Good            1543.0\n",
       "3  2017-11-04 10:00:00               Good            2512.0\n",
       "4  2017-11-11 07:00:00               Good            1440.0"
      ]
     },
     "execution_count": 28,
     "metadata": {},
     "output_type": "execute_result"
    }
   ],
   "source": [
    "Loop_OHare_trips.head()"
   ]
  },
  {
   "cell_type": "code",
   "execution_count": 29,
   "id": "0d0b093e-bf7c-4f42-8704-07c133d51a46",
   "metadata": {},
   "outputs": [
    {
     "name": "stdout",
     "output_type": "stream",
     "text": [
      "<class 'pandas.core.frame.DataFrame'>\n",
      "RangeIndex: 1068 entries, 0 to 1067\n",
      "Data columns (total 3 columns):\n",
      " #   Column              Non-Null Count  Dtype  \n",
      "---  ------              --------------  -----  \n",
      " 0   start_ts            1068 non-null   object \n",
      " 1   weather_conditions  1068 non-null   object \n",
      " 2   duration_seconds    1068 non-null   float64\n",
      "dtypes: float64(1), object(2)\n",
      "memory usage: 25.2+ KB\n"
     ]
    }
   ],
   "source": [
    "Loop_OHare_trips.info()"
   ]
  },
  {
   "cell_type": "code",
   "execution_count": 30,
   "id": "5cf0ff3f-cfcb-4aee-b76a-8cb9cc3b8b6f",
   "metadata": {},
   "outputs": [
    {
     "data": {
      "text/html": [
       "<div>\n",
       "<style scoped>\n",
       "    .dataframe tbody tr th:only-of-type {\n",
       "        vertical-align: middle;\n",
       "    }\n",
       "\n",
       "    .dataframe tbody tr th {\n",
       "        vertical-align: top;\n",
       "    }\n",
       "\n",
       "    .dataframe thead th {\n",
       "        text-align: right;\n",
       "    }\n",
       "</style>\n",
       "<table border=\"1\" class=\"dataframe\">\n",
       "  <thead>\n",
       "    <tr style=\"text-align: right;\">\n",
       "      <th></th>\n",
       "      <th>duration_seconds</th>\n",
       "    </tr>\n",
       "  </thead>\n",
       "  <tbody>\n",
       "    <tr>\n",
       "      <th>count</th>\n",
       "      <td>1068.000000</td>\n",
       "    </tr>\n",
       "    <tr>\n",
       "      <th>mean</th>\n",
       "      <td>2071.731273</td>\n",
       "    </tr>\n",
       "    <tr>\n",
       "      <th>std</th>\n",
       "      <td>769.461125</td>\n",
       "    </tr>\n",
       "    <tr>\n",
       "      <th>min</th>\n",
       "      <td>0.000000</td>\n",
       "    </tr>\n",
       "    <tr>\n",
       "      <th>25%</th>\n",
       "      <td>1438.250000</td>\n",
       "    </tr>\n",
       "    <tr>\n",
       "      <th>50%</th>\n",
       "      <td>1980.000000</td>\n",
       "    </tr>\n",
       "    <tr>\n",
       "      <th>75%</th>\n",
       "      <td>2580.000000</td>\n",
       "    </tr>\n",
       "    <tr>\n",
       "      <th>max</th>\n",
       "      <td>7440.000000</td>\n",
       "    </tr>\n",
       "  </tbody>\n",
       "</table>\n",
       "</div>"
      ],
      "text/plain": [
       "       duration_seconds\n",
       "count       1068.000000\n",
       "mean        2071.731273\n",
       "std          769.461125\n",
       "min            0.000000\n",
       "25%         1438.250000\n",
       "50%         1980.000000\n",
       "75%         2580.000000\n",
       "max         7440.000000"
      ]
     },
     "execution_count": 30,
     "metadata": {},
     "output_type": "execute_result"
    }
   ],
   "source": [
    "Loop_OHare_trips.describe()"
   ]
  },
  {
   "cell_type": "code",
   "execution_count": 31,
   "id": "e38ce5d3-cdab-49ce-b015-02d6763f9707",
   "metadata": {},
   "outputs": [
    {
     "data": {
      "text/plain": [
       "197"
      ]
     },
     "execution_count": 31,
     "metadata": {},
     "output_type": "execute_result"
    }
   ],
   "source": [
    "Loop_OHare_trips.duplicated().sum()"
   ]
  },
  {
   "cell_type": "code",
   "execution_count": 32,
   "id": "c384f0d1-b692-4611-a18a-cca8e1204744",
   "metadata": {},
   "outputs": [],
   "source": [
    "Loop_OHare_trips = Loop_OHare_trips.drop_duplicates()"
   ]
  },
  {
   "cell_type": "code",
   "execution_count": 33,
   "id": "6c09e858-4873-40d7-95db-3321cf50a4d8",
   "metadata": {},
   "outputs": [
    {
     "data": {
      "text/plain": [
       "0"
      ]
     },
     "execution_count": 33,
     "metadata": {},
     "output_type": "execute_result"
    }
   ],
   "source": [
    "Loop_OHare_trips.duplicated().sum()"
   ]
  },
  {
   "cell_type": "code",
   "execution_count": 34,
   "id": "e9e669ee-8318-42bc-aea1-1958403cdb4e",
   "metadata": {},
   "outputs": [
    {
     "data": {
      "text/plain": [
       "start_ts              0\n",
       "weather_conditions    0\n",
       "duration_seconds      0\n",
       "dtype: int64"
      ]
     },
     "execution_count": 34,
     "metadata": {},
     "output_type": "execute_result"
    }
   ],
   "source": [
    "Loop_OHare_trips.isna().sum()"
   ]
  },
  {
   "cell_type": "markdown",
   "id": "18637347-0974-41d7-a7cd-08b1a65ff2bb",
   "metadata": {},
   "source": [
    "- Valores atípicos"
   ]
  },
  {
   "cell_type": "code",
   "execution_count": 35,
   "id": "5874fe02-235c-45c0-97ad-c70a7ae2a2a2",
   "metadata": {},
   "outputs": [],
   "source": [
    "z_scores = stats.zscore(Loop_OHare_trips['duration_seconds'])"
   ]
  },
  {
   "cell_type": "code",
   "execution_count": 36,
   "id": "922080de-c5ab-41ce-9f66-b9a7bcbce59c",
   "metadata": {},
   "outputs": [],
   "source": [
    "Loop_OHare_trips_no_outliers = Loop_OHare_trips[(z_scores < 3) & (z_scores > -3)]"
   ]
  },
  {
   "cell_type": "code",
   "execution_count": 37,
   "id": "8215807f-95fe-4d90-9227-be4db19c82f8",
   "metadata": {},
   "outputs": [
    {
     "name": "stdout",
     "output_type": "stream",
     "text": [
      "                 start_ts weather_conditions  duration_seconds\n",
      "0     2017-11-25 16:00:00               Good            2410.0\n",
      "1     2017-11-25 14:00:00               Good            1920.0\n",
      "2     2017-11-25 12:00:00               Good            1543.0\n",
      "3     2017-11-04 10:00:00               Good            2512.0\n",
      "4     2017-11-11 07:00:00               Good            1440.0\n",
      "...                   ...                ...               ...\n",
      "1060  2017-11-04 14:00:00               Good            2700.0\n",
      "1061  2017-11-18 16:00:00                Bad            2186.0\n",
      "1063  2017-11-25 11:00:00               Good               0.0\n",
      "1064  2017-11-11 10:00:00               Good            1318.0\n",
      "1067  2017-11-04 16:00:00                Bad            2834.0\n",
      "\n",
      "[866 rows x 3 columns]\n"
     ]
    }
   ],
   "source": [
    "print(Loop_OHare_trips_no_outliers)"
   ]
  },
  {
   "cell_type": "code",
   "execution_count": 38,
   "id": "75a01a49-9edf-498a-8ed7-f0ce65111115",
   "metadata": {},
   "outputs": [],
   "source": [
    "Loop_OHare_trips_no_outliers = Loop_OHare_trips"
   ]
  },
  {
   "cell_type": "markdown",
   "id": "89b3c017-e93d-4e1d-8669-1eadd603b13b",
   "metadata": {},
   "source": [
    "-Comentario\n",
    "\n",
    "En este conjunto de datos no hay datos nulos, se encontraron 197 datos duplicados que fueron eliminados, el tipo de dato es el correcto y fueron eliminados valores atípicos."
   ]
  },
  {
   "cell_type": "markdown",
   "id": "88dcbb6b-2fb0-49dc-bd57-584ff1a24bb5",
   "metadata": {},
   "source": [
    "**Prueba de hipótesis**"
   ]
  },
  {
   "cell_type": "markdown",
   "id": "c74ed55c-bda2-49a4-93ec-822c10b8d021",
   "metadata": {},
   "source": [
    "-La duración promedio de los viajes desde el Loop hasta el Aeropuerto Internacional O'Hare cambia los sábados lluviosos. Esta hipótesis que se pondrá a prueba establece que existe un efecto o cambio por lo cual se considera como hipótesis alternativa."
   ]
  },
  {
   "cell_type": "markdown",
   "id": "55321a64-370a-4a18-8b6a-34f177fe7cc1",
   "metadata": {},
   "source": [
    "#H0 = La duración promedio de los viajes desde el Loop hasta el Aeropuerto Internacional O'Hare no cambia en los sábados lluviosos.\n",
    "\n",
    "#H1 = La duración promedio de los viajes desde el Loop hasta el Aeropuerto Internacional O'Hare cambia los sábados lluviosos."
   ]
  },
  {
   "cell_type": "code",
   "execution_count": 39,
   "id": "d3361f0b-4f54-436b-a772-1632dca2d9fc",
   "metadata": {},
   "outputs": [
    {
     "data": {
      "text/plain": [
       "0       2410.0\n",
       "1       1920.0\n",
       "2       1543.0\n",
       "3       2512.0\n",
       "4       1440.0\n",
       "         ...  \n",
       "1057    2492.0\n",
       "1059    1303.0\n",
       "1060    2700.0\n",
       "1063       0.0\n",
       "1064    1318.0\n",
       "Name: duration_seconds, Length: 723, dtype: float64"
      ]
     },
     "execution_count": 39,
     "metadata": {},
     "output_type": "execute_result"
    }
   ],
   "source": [
    "alpha = 0.05\n",
    "\n",
    "sample_1 = Loop_OHare_trips.loc[Loop_OHare_trips['weather_conditions'] == 'Good', 'duration_seconds']\n",
    "\n",
    "sample_1\n"
   ]
  },
  {
   "cell_type": "code",
   "execution_count": 40,
   "id": "a6377f0a-498f-437f-bd88-86bf9f929f75",
   "metadata": {},
   "outputs": [
    {
     "data": {
      "text/plain": [
       "6       2969.0\n",
       "30      1980.0\n",
       "34      2460.0\n",
       "51      2760.0\n",
       "52      2460.0\n",
       "         ...  \n",
       "1031    2560.0\n",
       "1032    1908.0\n",
       "1053    2400.0\n",
       "1061    2186.0\n",
       "1067    2834.0\n",
       "Name: duration_seconds, Length: 148, dtype: float64"
      ]
     },
     "execution_count": 40,
     "metadata": {},
     "output_type": "execute_result"
    }
   ],
   "source": [
    "sample_2 = Loop_OHare_trips.loc[Loop_OHare_trips['weather_conditions'] == 'Bad', 'duration_seconds']\n",
    "\n",
    "sample_2"
   ]
  },
  {
   "cell_type": "code",
   "execution_count": 41,
   "id": "4f06faf7-2107-4f01-b0b7-eba8c8d608d5",
   "metadata": {},
   "outputs": [
    {
     "name": "stdout",
     "output_type": "stream",
     "text": [
      "p-value:9.126383933880083e-08\n"
     ]
    }
   ],
   "source": [
    "from scipy import stats as st\n",
    "\n",
    "resultados = st.ttest_ind(sample_1, sample_2, equal_var= False)\n",
    "print(f'p-value:{resultados.pvalue}')"
   ]
  },
  {
   "cell_type": "code",
   "execution_count": 42,
   "id": "82decedd-04b4-4c37-b2f4-58f66162a0d3",
   "metadata": {},
   "outputs": [
    {
     "name": "stdout",
     "output_type": "stream",
     "text": [
      "Podemos rechazar la hipótesis nula\n"
     ]
    }
   ],
   "source": [
    "if resultados.pvalue < alpha:\n",
    "    print(\"Podemos rechazar la hipótesis nula\")\n",
    "else:\n",
    "    print(\"No podemos rechazar la hipótesis nula\")"
   ]
  },
  {
   "cell_type": "markdown",
   "id": "de53a3ac-45a0-48c1-b395-982208f18ff0",
   "metadata": {},
   "source": [
    "- Comentario\n",
    "\n",
    "  El resultado de la prueba de hipótesis es que la duración promedio de los viajes desde el Loop hasta el Aeropuerto Internacional O'Hare cambia los sábados lluviosos."
   ]
  },
  {
   "cell_type": "code",
   "execution_count": 43,
   "id": "c1f1f008-60de-4b66-b4fe-6a43c1e7011a",
   "metadata": {},
   "outputs": [],
   "source": [
    "Good_weather = Loop_OHare_trips.loc[Loop_OHare_trips['weather_conditions'] == 'Good', 'duration_seconds']"
   ]
  },
  {
   "cell_type": "code",
   "execution_count": 44,
   "id": "fdb28155-fe8c-4bd7-81ea-1a6cf424318f",
   "metadata": {},
   "outputs": [
    {
     "data": {
      "text/plain": [
       "597389.5417434272"
      ]
     },
     "execution_count": 44,
     "metadata": {},
     "output_type": "execute_result"
    }
   ],
   "source": [
    "np.var(Good_weather)"
   ]
  },
  {
   "cell_type": "code",
   "execution_count": 45,
   "id": "a7cd8534-6273-4f36-9954-4fbad7e710d8",
   "metadata": {},
   "outputs": [],
   "source": [
    "Bad_weather = Loop_OHare_trips.loc[Loop_OHare_trips['weather_conditions'] == 'Bad', 'duration_seconds']"
   ]
  },
  {
   "cell_type": "code",
   "execution_count": 46,
   "id": "7521e27f-6d95-4a9e-a8ef-112ca612a16d",
   "metadata": {},
   "outputs": [
    {
     "data": {
      "text/plain": [
       "561003.0958729"
      ]
     },
     "execution_count": 46,
     "metadata": {},
     "output_type": "execute_result"
    }
   ],
   "source": [
    "np.var(Bad_weather)"
   ]
  },
  {
   "cell_type": "markdown",
   "id": "2686fceb-b9d0-4829-97e7-d9bd4a793318",
   "metadata": {},
   "source": [
    "**Prueba levene**"
   ]
  },
  {
   "cell_type": "code",
   "execution_count": 47,
   "id": "6b831226-8c12-4cf1-a157-388551cb345d",
   "metadata": {},
   "outputs": [
    {
     "name": "stdout",
     "output_type": "stream",
     "text": [
      "Estadístico de Levene: 0.000586951625283602\n",
      "p-value de Levene: 0.9806770360671218\n"
     ]
    }
   ],
   "source": [
    "stat, p_value_levene = st.levene(Good_weather, Bad_weather )\n",
    "print(f'Estadístico de Levene: {stat}')\n",
    "print(f'p-value de Levene: {p_value_levene}')"
   ]
  },
  {
   "cell_type": "code",
   "execution_count": 48,
   "id": "6b54acde-12e0-45fe-b00b-a0c73d4f778b",
   "metadata": {},
   "outputs": [
    {
     "name": "stdout",
     "output_type": "stream",
     "text": [
      "No se rechaza la hipótesis nula: las varianzas son iguales.\n"
     ]
    }
   ],
   "source": [
    "alpha = 0.05\n",
    "equal_var = p_value_levene > alpha\n",
    "\n",
    "if equal_var:\n",
    "    print(\"No se rechaza la hipótesis nula: las varianzas son iguales.\")\n",
    "else:\n",
    "    print(\"Se rechaza la hipótesis nula: las varianzas no son iguales.\")"
   ]
  },
  {
   "cell_type": "markdown",
   "id": "1c1790d7-9df2-46fb-a4ae-735bf1f60c2b",
   "metadata": {},
   "source": [
    "**Prueba t de Student**"
   ]
  },
  {
   "cell_type": "code",
   "execution_count": 49,
   "id": "6134ba20-1876-4ef1-8913-079c828b2992",
   "metadata": {},
   "outputs": [
    {
     "name": "stdout",
     "output_type": "stream",
     "text": [
      "Estadístico t: -5.531968188074177\n",
      "p-value de la prueba t: 9.126383933880083e-08\n"
     ]
    }
   ],
   "source": [
    "resultados_ttest = st.ttest_ind(Good_weather, Bad_weather, equal_var=False)\n",
    "print(f'Estadístico t: {resultados_ttest.statistic}')\n",
    "print(f'p-value de la prueba t: {resultados_ttest.pvalue}')"
   ]
  },
  {
   "cell_type": "code",
   "execution_count": 50,
   "id": "b8c37c2c-6107-40d1-b35f-9c0dffee4912",
   "metadata": {},
   "outputs": [
    {
     "name": "stdout",
     "output_type": "stream",
     "text": [
      "Se rechaza la hipótesis nula: las puntuaciones promedio son diferentes.\n"
     ]
    }
   ],
   "source": [
    "if resultados_ttest.pvalue < alpha:\n",
    "    print(\"Se rechaza la hipótesis nula: las puntuaciones promedio son diferentes.\")\n",
    "else:\n",
    "    print(\"No se rechaza la hipótesis nula: no hay evidencia suficiente para afirmar que las puntuaciones promedio son diferentes.\")"
   ]
  },
  {
   "cell_type": "markdown",
   "id": "aa4442d7-6448-4a6b-bce2-c28e11897217",
   "metadata": {},
   "source": [
    "- Comentario \n",
    "La prueba de Levene mostró que las varianzas de los dos grupos son iguales.La prueba t de Student mostró que las medias de los dos grupos son significativamente diferentes. En conclusión, aunque las varianzas de los grupos son similares, las medias de los grupos difieren de manera significativa. Esto indica que, aunque la dispersión (varianza) de los datos en ambos grupos es similar, sus valores promedio son distintos."
   ]
  },
  {
   "cell_type": "markdown",
   "id": "5d9c1090-6ac7-4aa8-b9bf-8be1435a1123",
   "metadata": {},
   "source": [
    "# Conclusión general del Proyecto "
   ]
  },
  {
   "cell_type": "markdown",
   "id": "e8e995af-932f-4167-a66d-cd21905e3db5",
   "metadata": {},
   "source": [
    "* Para realizar el proyecto cargué las librerías necesarias para poder realizar los análisis solicitados. \n",
    "\n",
    "* Para la recuperación y análisis de Datos Climáticos se realizó una solicitud HTTP al URL proporcionado, que apunta a una página HTML que contiene una tabla con datos climáticos de Chicago para noviembre de 2017, se utilizó BeautifulSoup para analizar el contenido HTML de la página, facilitando la extracción de datos específicos. En este caso, la tabla de interés se seleccionó utilizando su atributo id (weather_records). Se extrajeron los encabezados de la tabla (nombres de columnas) recorriendo todas las etiquetas <th> (table headers) y almacenando sus textos en la lista heading_table.Se recorrieron las filas de la tabla (<tr>) que contienen datos (<td>), excluyendo las que contienen encabezados (<th>). Los datos extraídos se almacenaron en la lista content.Finalmente, se creó un DataFrame de Pandas con los datos extraídos, utilizando la lista content como los datos y heading_table como los nombres de las columnas. \n",
    "    \n",
    "* Para el análisis exploratorio de datos con SQL\n",
    " 1. Esta consulta cuenta el número de viajes realizados por cada empresa de taxis en el rango de fechas especificado (15-16 de noviembre de 2017) y devuelve una lista ordenada de empresas por cantidad de viajes en orden descendente. Se seleccionan dos campos para la salida: company_name de la tabla cabs, que es el nombre de la empresa de taxis.COUNT(trips.trip_id) AS trips_amount, que cuenta el número de viajes (trip_id) de la tabla trips y lo nombra como trips_amount. Se realiza una unión interna (INNER JOIN) entre las tablas cabs y trips utilizando el campo cab_id, que es común a ambas tablas. Esto permite relacionar cada viaje con su correspondiente empresa de taxis. Se filtran los registros para incluir solo aquellos viajes cuyo campo start_ts (fecha y hora de inicio del viaje) cae entre el 15 y el 16 de noviembre de 2017. Se utiliza CAST para convertir start_ts a un tipo de dato de fecha (date) y así facilitar la comparación.Los resultados se agrupan por el nombre de la empresa de taxis (company_name). Esto significa que el conteo de viajes se realiza para cada empresa de taxis por separado.Finalmente, los resultados se ordenan en orden descendente según trips_amount, mostrando primero las empresas con la mayor cantidad de viajes.\n",
    " 2. Esta consulta recupera y cuenta la cantidad de viajes de taxis realizados por empresas cuyo nombre contiene las palabras \"Yellow\" o \"Blue\" en un rango de fechas específico.Combina los resultados de ambas consultas utilizando UNION ALL para obtener una lista completa de todas las empresas de taxis con las palabras \"Yellow\" o \"Blue\" en su nombre junto con la cantidad de viajes que realizaron en el rango de fechas especificado.\n",
    " 3. Este código SQL cuenta el número de viajes de taxis entre el 1 y el 7 de noviembre de 2017, clasificando las empresas de taxis en tres grupos: \"Flash Cab,\" \"Taxi Affiliation Services,\" y \"Other\" (cualquier otra empresa).Luego, muestra estas categorías junto con la cantidad de viajes, ordenándolas de mayor a menor.\n",
    "    \n",
    " * Prueba de Hipótesis sobre la Duración de Viajes en Condiciones Meteorológicas Específicas\n",
    "   \n",
    " 1. Este código SQL recupera los identificadores y nombres de barrios de la tabla neighborhoods cuyo nombre contiene las palabras \"Hare\" o \"Loop.\"Esta consulta selecciona los identificadores (neighborhood_id) y los nombres (name) de los barrios en la tabla neighborhoods que cumplen con la condición de tener \"Hare\" al final de su nombre o contener \"Loop\" en cualquier parte del nombre.\n",
    " 2. Este código SQL clasifica las condiciones climáticas en \"Bad\" (malo) o \"Good\" (bueno) basándose en las descripciones de las condiciones meteorológicas de la tabla weather_records. Este código selecciona la fecha y hora (ts) de cada registro meteorológico y clasifica las condiciones climáticas en \"Bad\" si incluyen palabras relacionadas con lluvia o tormenta. En caso contrario, las clasifica como \"Good.\" El resultado es una tabla con la fecha, hora y una categoría simplificada de las condiciones climáticas.\n",
    " 3. Este código SQL recupera información sobre viajes en taxi, específicamente aquellos que comenzaron en el barrio \"Loop\" y terminaron en el Aeropuerto Internacional O'Hare (utilizando los IDs de los barrios) los sábados. Los resultados incluyen la fecha y hora de inicio, las condiciones climáticas y la duración de cada viaje, ordenados por el identificador del viaje.\n",
    "\n",
    " * Análisis Exploratorio de Datos Adicional con Python\n",
    "   \n",
    "Incorporé la base de datos y ocupé los  métodos head, info y describe para explorar la cantidad y los tipos de datos, la información de las columnas y los datos estadísticos, la detección de datos ausentes y eliminación de datos duplicados de este grupo de datos. Se identificaron los 10 principales barrios en términos de finalización, se realizaron los  gráficos: empresas de taxis Vs número de viaje y los 10 barrios principales por número de viajes finalizados. La empresa con cantidad superior de viajes en quince y dieciséis de noviembre del 2017 es Flash Cab, de ahí éste número disminuye casi a la mitad en el resto de las empresas de taxis. En el mes de noviembre del 2017, los barrios que registraron el promedio superior de viajes finalizados fueron Loop y River North, de ahí el promedio fue disminuyendo en el resto de los barrios.\n",
    " \n",
    "* Prueba de Hipótesis\n",
    "  \n",
    "Incorporé la base de datos y ocupé los  métodos head, info y describe para explorar la cantidad y los tipos de datos, la información de las columnas y los datos estadísticos de este grupo de datos. Al probar la hipótesis -La duración promedio de los viajes desde el Loop hasta el Aeropuerto Internacional O'Hare cambia los sábados lluviosos se considero como hipótesis alternativa (establece que hay un cambio). El resultado del análisis fue que podemos rechazar la hipótesis nula, es decir que la duración promedio de los viajes desde el Loop hasta el Aeropuerto Internacional O'Hare cambia los sábados lluviosos.\n",
    "\n",
    "La prueba de Levene se utilizó para comprobar si las varianzas entre los dos grupos (sábados lluviosos y no lluviosos) son iguales. Dado que el valor p es mucho mayor que el nivel de significancia común (0.05), no se rechaza la hipótesis nula. Esto significa que las varianzas de las duraciones de los viajes en los dos grupos son iguales.\n",
    "\n",
    "La prueba t se usó para comparar las medias de duración de los viajes en los sábados lluviosos y no lluviosos. El valor p es extremadamente bajo (muy inferior a 0.05), lo que indica que se rechaza la hipótesis nula. Esto implica que existe una diferencia significativa en las duraciones promedio de los viajes entre los dos grupos.\n",
    "\n",
    "Conclusión de la prueba de hipótesis: los resultados indican que hay una diferencia significativa en la duración promedio de los viajes desde el Loop hasta el Aeropuerto Internacional O'Hare los sábados lluviosos en comparación con los sábados no lluviosos. Esto sugiere que las condiciones climáticas (lluvia) tienen un impacto significativo en la duración de los viajes."
   ]
  }
 ],
 "metadata": {
  "ExecuteTimeLog": [
   {
    "duration": 2609,
    "start_time": "2024-09-17T03:38:01.776Z"
   },
   {
    "duration": 468,
    "start_time": "2024-09-17T03:38:04.388Z"
   },
   {
    "duration": 6,
    "start_time": "2024-09-17T03:38:04.858Z"
   },
   {
    "duration": 5,
    "start_time": "2024-09-17T03:38:04.867Z"
   },
   {
    "duration": 8,
    "start_time": "2024-09-17T03:38:04.873Z"
   },
   {
    "duration": 8,
    "start_time": "2024-09-17T03:38:04.883Z"
   },
   {
    "duration": 10,
    "start_time": "2024-09-17T03:38:04.894Z"
   },
   {
    "duration": 39,
    "start_time": "2024-09-17T03:38:04.906Z"
   },
   {
    "duration": 10,
    "start_time": "2024-09-17T03:38:04.947Z"
   },
   {
    "duration": 9,
    "start_time": "2024-09-17T03:38:04.961Z"
   },
   {
    "duration": 3,
    "start_time": "2024-09-17T03:38:04.972Z"
   },
   {
    "duration": 6,
    "start_time": "2024-09-17T03:38:04.977Z"
   },
   {
    "duration": 322,
    "start_time": "2024-09-17T03:38:04.985Z"
   },
   {
    "duration": 263,
    "start_time": "2024-09-17T03:38:05.309Z"
   },
   {
    "duration": 6,
    "start_time": "2024-09-17T03:38:05.574Z"
   },
   {
    "duration": 7,
    "start_time": "2024-09-17T03:38:05.581Z"
   },
   {
    "duration": 8,
    "start_time": "2024-09-17T03:38:05.590Z"
   },
   {
    "duration": 9,
    "start_time": "2024-09-17T03:38:05.599Z"
   },
   {
    "duration": 35,
    "start_time": "2024-09-17T03:38:05.610Z"
   },
   {
    "duration": 6,
    "start_time": "2024-09-17T03:38:05.647Z"
   },
   {
    "duration": 4,
    "start_time": "2024-09-17T03:38:05.654Z"
   },
   {
    "duration": 3,
    "start_time": "2024-09-17T03:38:05.660Z"
   },
   {
    "duration": 3,
    "start_time": "2024-09-17T03:38:05.664Z"
   },
   {
    "duration": 4,
    "start_time": "2024-09-17T03:38:05.669Z"
   },
   {
    "duration": 3,
    "start_time": "2024-09-17T03:38:05.675Z"
   },
   {
    "duration": 5,
    "start_time": "2024-09-17T03:38:05.679Z"
   },
   {
    "duration": 4,
    "start_time": "2024-09-17T03:38:05.686Z"
   },
   {
    "duration": 4,
    "start_time": "2024-09-17T03:38:05.743Z"
   },
   {
    "duration": 4,
    "start_time": "2024-09-17T03:38:05.749Z"
   },
   {
    "duration": 3,
    "start_time": "2024-09-17T03:38:05.755Z"
   },
   {
    "duration": 2653,
    "start_time": "2024-09-18T03:42:33.849Z"
   },
   {
    "duration": 507,
    "start_time": "2024-09-18T03:42:36.504Z"
   },
   {
    "duration": 9,
    "start_time": "2024-09-18T03:42:37.013Z"
   },
   {
    "duration": 9,
    "start_time": "2024-09-18T03:42:37.024Z"
   },
   {
    "duration": 10,
    "start_time": "2024-09-18T03:42:37.035Z"
   },
   {
    "duration": 7,
    "start_time": "2024-09-18T03:42:37.048Z"
   },
   {
    "duration": 8,
    "start_time": "2024-09-18T03:42:37.057Z"
   },
   {
    "duration": 10,
    "start_time": "2024-09-18T03:42:37.067Z"
   },
   {
    "duration": 5,
    "start_time": "2024-09-18T03:42:37.078Z"
   },
   {
    "duration": 24,
    "start_time": "2024-09-18T03:42:37.086Z"
   },
   {
    "duration": 6,
    "start_time": "2024-09-18T03:42:37.112Z"
   },
   {
    "duration": 3,
    "start_time": "2024-09-18T03:42:37.119Z"
   },
   {
    "duration": 5,
    "start_time": "2024-09-18T03:42:37.124Z"
   },
   {
    "duration": 3,
    "start_time": "2024-09-18T03:42:37.130Z"
   },
   {
    "duration": 5,
    "start_time": "2024-09-18T03:42:37.135Z"
   },
   {
    "duration": 9,
    "start_time": "2024-09-18T03:42:37.142Z"
   },
   {
    "duration": 8,
    "start_time": "2024-09-18T03:42:37.153Z"
   },
   {
    "duration": 50,
    "start_time": "2024-09-18T03:42:37.163Z"
   },
   {
    "duration": 5,
    "start_time": "2024-09-18T03:42:37.215Z"
   },
   {
    "duration": 5,
    "start_time": "2024-09-18T03:42:37.224Z"
   },
   {
    "duration": 3,
    "start_time": "2024-09-18T03:42:37.231Z"
   },
   {
    "duration": 5,
    "start_time": "2024-09-18T03:42:37.235Z"
   },
   {
    "duration": 2,
    "start_time": "2024-09-18T03:42:37.242Z"
   },
   {
    "duration": 4,
    "start_time": "2024-09-18T03:42:37.245Z"
   },
   {
    "duration": 8,
    "start_time": "2024-09-18T03:42:37.251Z"
   },
   {
    "duration": 319,
    "start_time": "2024-09-18T03:42:37.261Z"
   },
   {
    "duration": 274,
    "start_time": "2024-09-18T03:42:37.582Z"
   },
   {
    "duration": 7,
    "start_time": "2024-09-18T03:42:37.861Z"
   },
   {
    "duration": 8,
    "start_time": "2024-09-18T03:42:37.870Z"
   },
   {
    "duration": 30,
    "start_time": "2024-09-18T03:42:37.880Z"
   },
   {
    "duration": 5,
    "start_time": "2024-09-18T03:42:37.911Z"
   },
   {
    "duration": 4,
    "start_time": "2024-09-18T03:42:37.918Z"
   },
   {
    "duration": 5,
    "start_time": "2024-09-18T03:42:37.923Z"
   },
   {
    "duration": 5,
    "start_time": "2024-09-18T03:42:37.929Z"
   },
   {
    "duration": 13,
    "start_time": "2024-09-18T03:42:37.935Z"
   },
   {
    "duration": 3,
    "start_time": "2024-09-18T03:42:37.950Z"
   },
   {
    "duration": 6,
    "start_time": "2024-09-18T03:42:37.955Z"
   },
   {
    "duration": 2,
    "start_time": "2024-09-18T03:42:37.963Z"
   },
   {
    "duration": 45,
    "start_time": "2024-09-18T03:42:37.967Z"
   },
   {
    "duration": 6,
    "start_time": "2024-09-18T03:42:38.013Z"
   },
   {
    "duration": 4,
    "start_time": "2024-09-18T03:42:38.020Z"
   },
   {
    "duration": 3,
    "start_time": "2024-09-18T03:42:38.026Z"
   },
   {
    "duration": 3,
    "start_time": "2024-09-18T03:42:38.031Z"
   },
   {
    "duration": 4,
    "start_time": "2024-09-18T03:42:38.036Z"
   },
   {
    "duration": 3,
    "start_time": "2024-09-18T03:42:38.041Z"
   },
   {
    "duration": 4,
    "start_time": "2024-09-18T03:42:38.046Z"
   },
   {
    "duration": 4,
    "start_time": "2024-09-18T03:42:38.052Z"
   },
   {
    "duration": 51,
    "start_time": "2024-09-18T03:42:38.058Z"
   },
   {
    "duration": 5,
    "start_time": "2024-09-18T03:42:38.111Z"
   },
   {
    "duration": 3,
    "start_time": "2024-09-18T03:42:38.118Z"
   }
  ],
  "kernelspec": {
   "display_name": "Python 3 (ipykernel)",
   "language": "python",
   "name": "python3"
  },
  "language_info": {
   "codemirror_mode": {
    "name": "ipython",
    "version": 3
   },
   "file_extension": ".py",
   "mimetype": "text/x-python",
   "name": "python",
   "nbconvert_exporter": "python",
   "pygments_lexer": "ipython3",
   "version": "3.12.4"
  },
  "toc": {
   "base_numbering": 1,
   "nav_menu": {},
   "number_sections": true,
   "sideBar": true,
   "skip_h1_title": true,
   "title_cell": "Table of Contents",
   "title_sidebar": "Contents",
   "toc_cell": false,
   "toc_position": {},
   "toc_section_display": true,
   "toc_window_display": false
  }
 },
 "nbformat": 4,
 "nbformat_minor": 5
}
