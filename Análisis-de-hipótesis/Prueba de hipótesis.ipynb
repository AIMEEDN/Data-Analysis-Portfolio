{
 "cells": [
  {
   "cell_type": "markdown",
   "metadata": {},
   "source": [
    "# Tabla de contenido\n",
    "1. [Introduccción al Proyecto Sprint 10](#Introduccción-al-Proyecto-Sprint-10)\n",
    "2. [Objetivos específicos](#Objetivos-específicos)\n",
    "3. [Etapas de análisis del proyecto](#Etapas-de-análisis-del-proyecto)\n",
    "4. [Acceso y preparación de datos](#Acceso-y-preparación-de-datos)\n",
    "5. [Priorizar hipótesis](#Priorizar-hipótesis)\n",
    "6. [Análisis del test A/B](#Análisis-del-test-A/B)\n"
   ]
  },
  {
   "cell_type": "markdown",
   "metadata": {},
   "source": [
    "# Introducción al Proyecto Sprint 10\n",
    "\n",
    "Este proyecto tiene como objetivo analizar y priorizar hipótesis para mejorar los ingresos de una tienda online y evaluar los resultados de un test A/B. Utilizando datos del departamento de marketing y ventas, las hipótesis serán evaluadas con los frameworks ICE y RICE para optimizar el proceso de selección. Posteriormente, se realizará un análisis detallado del test A/B, que permitirá determinar la efectividad de las estrategias propuestas."
   ]
  },
  {
   "cell_type": "markdown",
   "metadata": {},
   "source": [
    "# Objetivos específicos\n",
    "\n",
    "**1.** Priorizar las hipótesis para aumentar los ingresos utilizando los frameworks ICE y RICE.\n",
    "\n",
    "**2.** Analizar el impacto del test A/B en las métricas clave de conversión y ventas.\n",
    "\n",
    "**3.** Identificar posibles anomalías en los datos y calcular su significancia estadística."
   ]
  },
  {
   "cell_type": "markdown",
   "metadata": {},
   "source": [
    "# Etapas de análisis del proyecto\n",
    "\n",
    "**1.** Preprocesamiento de datos: Limpieza y formateo de los datasets (hipótesis, pedidos, visitas).\n",
    "\n",
    "**2.** Priorizar hipótesis: Aplicar los modelos ICE y RICE, ordenando las hipótesis según su viabilidad.\n",
    "\n",
    "**3.** Análisis del test A/B: Visualizar y comparar ingresos, tamaño de pedido y tasa de conversión entre grupos.\n",
    "\n",
    "**4.** Análisis estadístico: Evaluar la significancia estadística de las diferencias entre grupos, considerando datos brutos y filtrados.\n",
    "\n",
    "**5.** Conclusiones: Tomar decisiones basadas en los resultados del test A/B."
   ]
  },
  {
   "cell_type": "markdown",
   "metadata": {},
   "source": [
    "# Acceso y preparación de datos"
   ]
  },
  {
   "cell_type": "markdown",
   "metadata": {},
   "source": [
    "**Inicialización**"
   ]
  },
  {
   "cell_type": "code",
   "execution_count": 1,
   "metadata": {},
   "outputs": [],
   "source": [
    "import pandas as pd \n",
    "import numpy as np\n",
    "import matplotlib.pyplot as plt \n",
    "import datetime as dt\n",
    "import scipy.stats as stats"
   ]
  },
  {
   "cell_type": "markdown",
   "metadata": {},
   "source": [
    "**Cargar y explorar los datos**"
   ]
  },
  {
   "cell_type": "code",
   "execution_count": 2,
   "metadata": {},
   "outputs": [],
   "source": [
    "hipotesis = pd.read_csv('/datasets/hypotheses_us.csv', sep=';')"
   ]
  },
  {
   "cell_type": "code",
   "execution_count": 3,
   "metadata": {},
   "outputs": [],
   "source": [
    "pedidos = pd.read_csv('/datasets/orders_us.csv')"
   ]
  },
  {
   "cell_type": "code",
   "execution_count": 4,
   "metadata": {},
   "outputs": [],
   "source": [
    "visitas = pd.read_csv('/datasets/visits_us.csv')"
   ]
  },
  {
   "cell_type": "markdown",
   "metadata": {},
   "source": [
    "**hipotesis**"
   ]
  },
  {
   "cell_type": "code",
   "execution_count": 5,
   "metadata": {},
   "outputs": [
    {
     "data": {
      "text/html": [
       "<div>\n",
       "<style scoped>\n",
       "    .dataframe tbody tr th:only-of-type {\n",
       "        vertical-align: middle;\n",
       "    }\n",
       "\n",
       "    .dataframe tbody tr th {\n",
       "        vertical-align: top;\n",
       "    }\n",
       "\n",
       "    .dataframe thead th {\n",
       "        text-align: right;\n",
       "    }\n",
       "</style>\n",
       "<table border=\"1\" class=\"dataframe\">\n",
       "  <thead>\n",
       "    <tr style=\"text-align: right;\">\n",
       "      <th></th>\n",
       "      <th>Hypothesis</th>\n",
       "      <th>Reach</th>\n",
       "      <th>Impact</th>\n",
       "      <th>Confidence</th>\n",
       "      <th>Effort</th>\n",
       "    </tr>\n",
       "  </thead>\n",
       "  <tbody>\n",
       "    <tr>\n",
       "      <th>0</th>\n",
       "      <td>Add two new channels for attracting traffic. T...</td>\n",
       "      <td>3</td>\n",
       "      <td>10</td>\n",
       "      <td>8</td>\n",
       "      <td>6</td>\n",
       "    </tr>\n",
       "    <tr>\n",
       "      <th>1</th>\n",
       "      <td>Launch your own delivery service. This will sh...</td>\n",
       "      <td>2</td>\n",
       "      <td>5</td>\n",
       "      <td>4</td>\n",
       "      <td>10</td>\n",
       "    </tr>\n",
       "    <tr>\n",
       "      <th>2</th>\n",
       "      <td>Add product recommendation blocks to the store...</td>\n",
       "      <td>8</td>\n",
       "      <td>3</td>\n",
       "      <td>7</td>\n",
       "      <td>3</td>\n",
       "    </tr>\n",
       "    <tr>\n",
       "      <th>3</th>\n",
       "      <td>Change the category structure. This will incre...</td>\n",
       "      <td>8</td>\n",
       "      <td>3</td>\n",
       "      <td>3</td>\n",
       "      <td>8</td>\n",
       "    </tr>\n",
       "    <tr>\n",
       "      <th>4</th>\n",
       "      <td>Change the background color on the main page. ...</td>\n",
       "      <td>3</td>\n",
       "      <td>1</td>\n",
       "      <td>1</td>\n",
       "      <td>1</td>\n",
       "    </tr>\n",
       "  </tbody>\n",
       "</table>\n",
       "</div>"
      ],
      "text/plain": [
       "                                          Hypothesis  Reach  Impact  \\\n",
       "0  Add two new channels for attracting traffic. T...      3      10   \n",
       "1  Launch your own delivery service. This will sh...      2       5   \n",
       "2  Add product recommendation blocks to the store...      8       3   \n",
       "3  Change the category structure. This will incre...      8       3   \n",
       "4  Change the background color on the main page. ...      3       1   \n",
       "\n",
       "   Confidence  Effort  \n",
       "0           8       6  \n",
       "1           4      10  \n",
       "2           7       3  \n",
       "3           3       8  \n",
       "4           1       1  "
      ]
     },
     "execution_count": 5,
     "metadata": {},
     "output_type": "execute_result"
    }
   ],
   "source": [
    "hipotesis.head()"
   ]
  },
  {
   "cell_type": "code",
   "execution_count": 6,
   "metadata": {},
   "outputs": [
    {
     "name": "stdout",
     "output_type": "stream",
     "text": [
      "<class 'pandas.core.frame.DataFrame'>\n",
      "RangeIndex: 9 entries, 0 to 8\n",
      "Data columns (total 5 columns):\n",
      " #   Column      Non-Null Count  Dtype \n",
      "---  ------      --------------  ----- \n",
      " 0   Hypothesis  9 non-null      object\n",
      " 1   Reach       9 non-null      int64 \n",
      " 2   Impact      9 non-null      int64 \n",
      " 3   Confidence  9 non-null      int64 \n",
      " 4   Effort      9 non-null      int64 \n",
      "dtypes: int64(4), object(1)\n",
      "memory usage: 488.0+ bytes\n"
     ]
    }
   ],
   "source": [
    "hipotesis.info()"
   ]
  },
  {
   "cell_type": "code",
   "execution_count": 7,
   "metadata": {},
   "outputs": [],
   "source": [
    "hipotesis.columns = hipotesis.columns.str.lower()"
   ]
  },
  {
   "cell_type": "code",
   "execution_count": 8,
   "metadata": {},
   "outputs": [
    {
     "data": {
      "text/plain": [
       "Index(['hypothesis', 'reach', 'impact', 'confidence', 'effort'], dtype='object')"
      ]
     },
     "execution_count": 8,
     "metadata": {},
     "output_type": "execute_result"
    }
   ],
   "source": [
    "hipotesis.columns"
   ]
  },
  {
   "cell_type": "code",
   "execution_count": 9,
   "metadata": {},
   "outputs": [
    {
     "data": {
      "text/plain": [
       "hypothesis    0\n",
       "reach         0\n",
       "impact        0\n",
       "confidence    0\n",
       "effort        0\n",
       "dtype: int64"
      ]
     },
     "execution_count": 9,
     "metadata": {},
     "output_type": "execute_result"
    }
   ],
   "source": [
    "hipotesis.isna().sum()"
   ]
  },
  {
   "cell_type": "code",
   "execution_count": 10,
   "metadata": {},
   "outputs": [
    {
     "data": {
      "text/plain": [
       "0"
      ]
     },
     "execution_count": 10,
     "metadata": {},
     "output_type": "execute_result"
    }
   ],
   "source": [
    "hipotesis.duplicated().sum()"
   ]
  },
  {
   "cell_type": "markdown",
   "metadata": {},
   "source": [
    "**pedidos**"
   ]
  },
  {
   "cell_type": "code",
   "execution_count": 11,
   "metadata": {},
   "outputs": [
    {
     "data": {
      "text/html": [
       "<div>\n",
       "<style scoped>\n",
       "    .dataframe tbody tr th:only-of-type {\n",
       "        vertical-align: middle;\n",
       "    }\n",
       "\n",
       "    .dataframe tbody tr th {\n",
       "        vertical-align: top;\n",
       "    }\n",
       "\n",
       "    .dataframe thead th {\n",
       "        text-align: right;\n",
       "    }\n",
       "</style>\n",
       "<table border=\"1\" class=\"dataframe\">\n",
       "  <thead>\n",
       "    <tr style=\"text-align: right;\">\n",
       "      <th></th>\n",
       "      <th>transactionId</th>\n",
       "      <th>visitorId</th>\n",
       "      <th>date</th>\n",
       "      <th>revenue</th>\n",
       "      <th>group</th>\n",
       "    </tr>\n",
       "  </thead>\n",
       "  <tbody>\n",
       "    <tr>\n",
       "      <th>0</th>\n",
       "      <td>3667963787</td>\n",
       "      <td>3312258926</td>\n",
       "      <td>2019-08-15</td>\n",
       "      <td>30.4</td>\n",
       "      <td>B</td>\n",
       "    </tr>\n",
       "    <tr>\n",
       "      <th>1</th>\n",
       "      <td>2804400009</td>\n",
       "      <td>3642806036</td>\n",
       "      <td>2019-08-15</td>\n",
       "      <td>15.2</td>\n",
       "      <td>B</td>\n",
       "    </tr>\n",
       "    <tr>\n",
       "      <th>2</th>\n",
       "      <td>2961555356</td>\n",
       "      <td>4069496402</td>\n",
       "      <td>2019-08-15</td>\n",
       "      <td>10.2</td>\n",
       "      <td>A</td>\n",
       "    </tr>\n",
       "    <tr>\n",
       "      <th>3</th>\n",
       "      <td>3797467345</td>\n",
       "      <td>1196621759</td>\n",
       "      <td>2019-08-15</td>\n",
       "      <td>155.1</td>\n",
       "      <td>B</td>\n",
       "    </tr>\n",
       "    <tr>\n",
       "      <th>4</th>\n",
       "      <td>2282983706</td>\n",
       "      <td>2322279887</td>\n",
       "      <td>2019-08-15</td>\n",
       "      <td>40.5</td>\n",
       "      <td>B</td>\n",
       "    </tr>\n",
       "  </tbody>\n",
       "</table>\n",
       "</div>"
      ],
      "text/plain": [
       "   transactionId   visitorId        date  revenue group\n",
       "0     3667963787  3312258926  2019-08-15     30.4     B\n",
       "1     2804400009  3642806036  2019-08-15     15.2     B\n",
       "2     2961555356  4069496402  2019-08-15     10.2     A\n",
       "3     3797467345  1196621759  2019-08-15    155.1     B\n",
       "4     2282983706  2322279887  2019-08-15     40.5     B"
      ]
     },
     "execution_count": 11,
     "metadata": {},
     "output_type": "execute_result"
    }
   ],
   "source": [
    "pedidos.head()"
   ]
  },
  {
   "cell_type": "code",
   "execution_count": 12,
   "metadata": {},
   "outputs": [
    {
     "name": "stdout",
     "output_type": "stream",
     "text": [
      "<class 'pandas.core.frame.DataFrame'>\n",
      "RangeIndex: 1197 entries, 0 to 1196\n",
      "Data columns (total 5 columns):\n",
      " #   Column         Non-Null Count  Dtype  \n",
      "---  ------         --------------  -----  \n",
      " 0   transactionId  1197 non-null   int64  \n",
      " 1   visitorId      1197 non-null   int64  \n",
      " 2   date           1197 non-null   object \n",
      " 3   revenue        1197 non-null   float64\n",
      " 4   group          1197 non-null   object \n",
      "dtypes: float64(1), int64(2), object(2)\n",
      "memory usage: 46.9+ KB\n"
     ]
    }
   ],
   "source": [
    "pedidos.info()"
   ]
  },
  {
   "cell_type": "code",
   "execution_count": 13,
   "metadata": {},
   "outputs": [
    {
     "data": {
      "text/plain": [
       "transactionId    0\n",
       "visitorId        0\n",
       "date             0\n",
       "revenue          0\n",
       "group            0\n",
       "dtype: int64"
      ]
     },
     "execution_count": 13,
     "metadata": {},
     "output_type": "execute_result"
    }
   ],
   "source": [
    "pedidos.isna().sum()"
   ]
  },
  {
   "cell_type": "code",
   "execution_count": 14,
   "metadata": {},
   "outputs": [
    {
     "data": {
      "text/plain": [
       "0"
      ]
     },
     "execution_count": 14,
     "metadata": {},
     "output_type": "execute_result"
    }
   ],
   "source": [
    "pedidos.duplicated().sum()"
   ]
  },
  {
   "cell_type": "markdown",
   "metadata": {},
   "source": [
    "**visitas**"
   ]
  },
  {
   "cell_type": "code",
   "execution_count": 15,
   "metadata": {},
   "outputs": [
    {
     "data": {
      "text/html": [
       "<div>\n",
       "<style scoped>\n",
       "    .dataframe tbody tr th:only-of-type {\n",
       "        vertical-align: middle;\n",
       "    }\n",
       "\n",
       "    .dataframe tbody tr th {\n",
       "        vertical-align: top;\n",
       "    }\n",
       "\n",
       "    .dataframe thead th {\n",
       "        text-align: right;\n",
       "    }\n",
       "</style>\n",
       "<table border=\"1\" class=\"dataframe\">\n",
       "  <thead>\n",
       "    <tr style=\"text-align: right;\">\n",
       "      <th></th>\n",
       "      <th>date</th>\n",
       "      <th>group</th>\n",
       "      <th>visits</th>\n",
       "    </tr>\n",
       "  </thead>\n",
       "  <tbody>\n",
       "    <tr>\n",
       "      <th>0</th>\n",
       "      <td>2019-08-01</td>\n",
       "      <td>A</td>\n",
       "      <td>719</td>\n",
       "    </tr>\n",
       "    <tr>\n",
       "      <th>1</th>\n",
       "      <td>2019-08-02</td>\n",
       "      <td>A</td>\n",
       "      <td>619</td>\n",
       "    </tr>\n",
       "    <tr>\n",
       "      <th>2</th>\n",
       "      <td>2019-08-03</td>\n",
       "      <td>A</td>\n",
       "      <td>507</td>\n",
       "    </tr>\n",
       "    <tr>\n",
       "      <th>3</th>\n",
       "      <td>2019-08-04</td>\n",
       "      <td>A</td>\n",
       "      <td>717</td>\n",
       "    </tr>\n",
       "    <tr>\n",
       "      <th>4</th>\n",
       "      <td>2019-08-05</td>\n",
       "      <td>A</td>\n",
       "      <td>756</td>\n",
       "    </tr>\n",
       "  </tbody>\n",
       "</table>\n",
       "</div>"
      ],
      "text/plain": [
       "         date group  visits\n",
       "0  2019-08-01     A     719\n",
       "1  2019-08-02     A     619\n",
       "2  2019-08-03     A     507\n",
       "3  2019-08-04     A     717\n",
       "4  2019-08-05     A     756"
      ]
     },
     "execution_count": 15,
     "metadata": {},
     "output_type": "execute_result"
    }
   ],
   "source": [
    "visitas.head()"
   ]
  },
  {
   "cell_type": "code",
   "execution_count": 16,
   "metadata": {},
   "outputs": [
    {
     "name": "stdout",
     "output_type": "stream",
     "text": [
      "<class 'pandas.core.frame.DataFrame'>\n",
      "RangeIndex: 62 entries, 0 to 61\n",
      "Data columns (total 3 columns):\n",
      " #   Column  Non-Null Count  Dtype \n",
      "---  ------  --------------  ----- \n",
      " 0   date    62 non-null     object\n",
      " 1   group   62 non-null     object\n",
      " 2   visits  62 non-null     int64 \n",
      "dtypes: int64(1), object(2)\n",
      "memory usage: 1.6+ KB\n"
     ]
    }
   ],
   "source": [
    "visitas.info()"
   ]
  },
  {
   "cell_type": "code",
   "execution_count": 17,
   "metadata": {},
   "outputs": [
    {
     "data": {
      "text/plain": [
       "date      0\n",
       "group     0\n",
       "visits    0\n",
       "dtype: int64"
      ]
     },
     "execution_count": 17,
     "metadata": {},
     "output_type": "execute_result"
    }
   ],
   "source": [
    "visitas.isna().sum()"
   ]
  },
  {
   "cell_type": "code",
   "execution_count": 18,
   "metadata": {},
   "outputs": [
    {
     "data": {
      "text/plain": [
       "0"
      ]
     },
     "execution_count": 18,
     "metadata": {},
     "output_type": "execute_result"
    }
   ],
   "source": [
    "visitas.duplicated().sum()"
   ]
  },
  {
   "cell_type": "markdown",
   "metadata": {},
   "source": [
    "**Pre-procesamiento de los datos**"
   ]
  },
  {
   "cell_type": "markdown",
   "metadata": {},
   "source": [
    "* Verificar usuarios que podrían haber entrado tanto en el grupo A como en el grupo B y eliminarlos ya que podrían afectar el resultado del análisis."
   ]
  },
  {
   "cell_type": "code",
   "execution_count": 19,
   "metadata": {},
   "outputs": [
    {
     "data": {
      "text/plain": [
       "visitorId\n",
       "2654030115    2\n",
       "3891541246    2\n",
       "3941795274    2\n",
       "1404934699    2\n",
       "351125977     2\n",
       "             ..\n",
       "1476256851    1\n",
       "1476741193    1\n",
       "1484903144    1\n",
       "1485964287    1\n",
       "4283872382    1\n",
       "Name: group, Length: 1031, dtype: int64"
      ]
     },
     "execution_count": 19,
     "metadata": {},
     "output_type": "execute_result"
    }
   ],
   "source": [
    "#Búsqueda de usuarios que participaron tanto en el grupo A como en el grupo B\n",
    "\n",
    "pedidos.groupby(['visitorId'])['group'].nunique().sort_values(ascending=False)"
   ]
  },
  {
   "cell_type": "code",
   "execution_count": 20,
   "metadata": {},
   "outputs": [
    {
     "data": {
      "text/html": [
       "<div>\n",
       "<style scoped>\n",
       "    .dataframe tbody tr th:only-of-type {\n",
       "        vertical-align: middle;\n",
       "    }\n",
       "\n",
       "    .dataframe tbody tr th {\n",
       "        vertical-align: top;\n",
       "    }\n",
       "\n",
       "    .dataframe thead th {\n",
       "        text-align: right;\n",
       "    }\n",
       "</style>\n",
       "<table border=\"1\" class=\"dataframe\">\n",
       "  <thead>\n",
       "    <tr style=\"text-align: right;\">\n",
       "      <th></th>\n",
       "      <th>visitorId</th>\n",
       "      <th>group</th>\n",
       "    </tr>\n",
       "  </thead>\n",
       "  <tbody>\n",
       "    <tr>\n",
       "      <th>0</th>\n",
       "      <td>2654030115</td>\n",
       "      <td>2</td>\n",
       "    </tr>\n",
       "    <tr>\n",
       "      <th>1</th>\n",
       "      <td>3891541246</td>\n",
       "      <td>2</td>\n",
       "    </tr>\n",
       "    <tr>\n",
       "      <th>2</th>\n",
       "      <td>3941795274</td>\n",
       "      <td>2</td>\n",
       "    </tr>\n",
       "    <tr>\n",
       "      <th>3</th>\n",
       "      <td>1404934699</td>\n",
       "      <td>2</td>\n",
       "    </tr>\n",
       "    <tr>\n",
       "      <th>4</th>\n",
       "      <td>351125977</td>\n",
       "      <td>2</td>\n",
       "    </tr>\n",
       "    <tr>\n",
       "      <th>5</th>\n",
       "      <td>3951559397</td>\n",
       "      <td>2</td>\n",
       "    </tr>\n",
       "    <tr>\n",
       "      <th>6</th>\n",
       "      <td>2927087541</td>\n",
       "      <td>2</td>\n",
       "    </tr>\n",
       "    <tr>\n",
       "      <th>7</th>\n",
       "      <td>3963646447</td>\n",
       "      <td>2</td>\n",
       "    </tr>\n",
       "    <tr>\n",
       "      <th>8</th>\n",
       "      <td>2458001652</td>\n",
       "      <td>2</td>\n",
       "    </tr>\n",
       "    <tr>\n",
       "      <th>9</th>\n",
       "      <td>3972127743</td>\n",
       "      <td>2</td>\n",
       "    </tr>\n",
       "    <tr>\n",
       "      <th>10</th>\n",
       "      <td>3984495233</td>\n",
       "      <td>2</td>\n",
       "    </tr>\n",
       "    <tr>\n",
       "      <th>11</th>\n",
       "      <td>2949041841</td>\n",
       "      <td>2</td>\n",
       "    </tr>\n",
       "    <tr>\n",
       "      <th>12</th>\n",
       "      <td>1959144690</td>\n",
       "      <td>2</td>\n",
       "    </tr>\n",
       "    <tr>\n",
       "      <th>13</th>\n",
       "      <td>276558944</td>\n",
       "      <td>2</td>\n",
       "    </tr>\n",
       "    <tr>\n",
       "      <th>14</th>\n",
       "      <td>2954449915</td>\n",
       "      <td>2</td>\n",
       "    </tr>\n",
       "    <tr>\n",
       "      <th>15</th>\n",
       "      <td>237748145</td>\n",
       "      <td>2</td>\n",
       "    </tr>\n",
       "    <tr>\n",
       "      <th>16</th>\n",
       "      <td>963407295</td>\n",
       "      <td>2</td>\n",
       "    </tr>\n",
       "    <tr>\n",
       "      <th>17</th>\n",
       "      <td>1333886533</td>\n",
       "      <td>2</td>\n",
       "    </tr>\n",
       "    <tr>\n",
       "      <th>18</th>\n",
       "      <td>232979603</td>\n",
       "      <td>2</td>\n",
       "    </tr>\n",
       "    <tr>\n",
       "      <th>19</th>\n",
       "      <td>4069496402</td>\n",
       "      <td>2</td>\n",
       "    </tr>\n",
       "    <tr>\n",
       "      <th>20</th>\n",
       "      <td>2378935119</td>\n",
       "      <td>2</td>\n",
       "    </tr>\n",
       "    <tr>\n",
       "      <th>21</th>\n",
       "      <td>393266494</td>\n",
       "      <td>2</td>\n",
       "    </tr>\n",
       "    <tr>\n",
       "      <th>22</th>\n",
       "      <td>2579882178</td>\n",
       "      <td>2</td>\n",
       "    </tr>\n",
       "    <tr>\n",
       "      <th>23</th>\n",
       "      <td>1316129916</td>\n",
       "      <td>2</td>\n",
       "    </tr>\n",
       "    <tr>\n",
       "      <th>24</th>\n",
       "      <td>1801183820</td>\n",
       "      <td>2</td>\n",
       "    </tr>\n",
       "    <tr>\n",
       "      <th>25</th>\n",
       "      <td>3656415546</td>\n",
       "      <td>2</td>\n",
       "    </tr>\n",
       "    <tr>\n",
       "      <th>26</th>\n",
       "      <td>1614305549</td>\n",
       "      <td>2</td>\n",
       "    </tr>\n",
       "    <tr>\n",
       "      <th>27</th>\n",
       "      <td>1648269707</td>\n",
       "      <td>2</td>\n",
       "    </tr>\n",
       "    <tr>\n",
       "      <th>28</th>\n",
       "      <td>2686716486</td>\n",
       "      <td>2</td>\n",
       "    </tr>\n",
       "    <tr>\n",
       "      <th>29</th>\n",
       "      <td>2712142231</td>\n",
       "      <td>2</td>\n",
       "    </tr>\n",
       "    <tr>\n",
       "      <th>30</th>\n",
       "      <td>2716752286</td>\n",
       "      <td>2</td>\n",
       "    </tr>\n",
       "    <tr>\n",
       "      <th>31</th>\n",
       "      <td>1668030113</td>\n",
       "      <td>2</td>\n",
       "    </tr>\n",
       "    <tr>\n",
       "      <th>32</th>\n",
       "      <td>1602967004</td>\n",
       "      <td>2</td>\n",
       "    </tr>\n",
       "    <tr>\n",
       "      <th>33</th>\n",
       "      <td>3717692402</td>\n",
       "      <td>2</td>\n",
       "    </tr>\n",
       "    <tr>\n",
       "      <th>34</th>\n",
       "      <td>3766097110</td>\n",
       "      <td>2</td>\n",
       "    </tr>\n",
       "    <tr>\n",
       "      <th>35</th>\n",
       "      <td>1738359350</td>\n",
       "      <td>2</td>\n",
       "    </tr>\n",
       "    <tr>\n",
       "      <th>36</th>\n",
       "      <td>2780786433</td>\n",
       "      <td>2</td>\n",
       "    </tr>\n",
       "    <tr>\n",
       "      <th>37</th>\n",
       "      <td>3803269165</td>\n",
       "      <td>2</td>\n",
       "    </tr>\n",
       "    <tr>\n",
       "      <th>38</th>\n",
       "      <td>477780734</td>\n",
       "      <td>2</td>\n",
       "    </tr>\n",
       "    <tr>\n",
       "      <th>39</th>\n",
       "      <td>471551937</td>\n",
       "      <td>2</td>\n",
       "    </tr>\n",
       "    <tr>\n",
       "      <th>40</th>\n",
       "      <td>2600415354</td>\n",
       "      <td>2</td>\n",
       "    </tr>\n",
       "    <tr>\n",
       "      <th>41</th>\n",
       "      <td>818047933</td>\n",
       "      <td>2</td>\n",
       "    </tr>\n",
       "    <tr>\n",
       "      <th>42</th>\n",
       "      <td>457167155</td>\n",
       "      <td>2</td>\n",
       "    </tr>\n",
       "    <tr>\n",
       "      <th>43</th>\n",
       "      <td>2587333274</td>\n",
       "      <td>2</td>\n",
       "    </tr>\n",
       "    <tr>\n",
       "      <th>44</th>\n",
       "      <td>2038680547</td>\n",
       "      <td>2</td>\n",
       "    </tr>\n",
       "    <tr>\n",
       "      <th>45</th>\n",
       "      <td>3957174400</td>\n",
       "      <td>2</td>\n",
       "    </tr>\n",
       "    <tr>\n",
       "      <th>46</th>\n",
       "      <td>3234906277</td>\n",
       "      <td>2</td>\n",
       "    </tr>\n",
       "    <tr>\n",
       "      <th>47</th>\n",
       "      <td>1294878855</td>\n",
       "      <td>2</td>\n",
       "    </tr>\n",
       "    <tr>\n",
       "      <th>48</th>\n",
       "      <td>199603092</td>\n",
       "      <td>2</td>\n",
       "    </tr>\n",
       "    <tr>\n",
       "      <th>49</th>\n",
       "      <td>3202540741</td>\n",
       "      <td>2</td>\n",
       "    </tr>\n",
       "    <tr>\n",
       "      <th>50</th>\n",
       "      <td>1230306981</td>\n",
       "      <td>2</td>\n",
       "    </tr>\n",
       "    <tr>\n",
       "      <th>51</th>\n",
       "      <td>3062433592</td>\n",
       "      <td>2</td>\n",
       "    </tr>\n",
       "    <tr>\n",
       "      <th>52</th>\n",
       "      <td>4256040402</td>\n",
       "      <td>2</td>\n",
       "    </tr>\n",
       "    <tr>\n",
       "      <th>53</th>\n",
       "      <td>4266935830</td>\n",
       "      <td>2</td>\n",
       "    </tr>\n",
       "    <tr>\n",
       "      <th>54</th>\n",
       "      <td>4186807279</td>\n",
       "      <td>2</td>\n",
       "    </tr>\n",
       "    <tr>\n",
       "      <th>55</th>\n",
       "      <td>8300375</td>\n",
       "      <td>2</td>\n",
       "    </tr>\n",
       "    <tr>\n",
       "      <th>56</th>\n",
       "      <td>4120364173</td>\n",
       "      <td>2</td>\n",
       "    </tr>\n",
       "    <tr>\n",
       "      <th>57</th>\n",
       "      <td>2044997962</td>\n",
       "      <td>2</td>\n",
       "    </tr>\n",
       "  </tbody>\n",
       "</table>\n",
       "</div>"
      ],
      "text/plain": [
       "     visitorId  group\n",
       "0   2654030115      2\n",
       "1   3891541246      2\n",
       "2   3941795274      2\n",
       "3   1404934699      2\n",
       "4    351125977      2\n",
       "5   3951559397      2\n",
       "6   2927087541      2\n",
       "7   3963646447      2\n",
       "8   2458001652      2\n",
       "9   3972127743      2\n",
       "10  3984495233      2\n",
       "11  2949041841      2\n",
       "12  1959144690      2\n",
       "13   276558944      2\n",
       "14  2954449915      2\n",
       "15   237748145      2\n",
       "16   963407295      2\n",
       "17  1333886533      2\n",
       "18   232979603      2\n",
       "19  4069496402      2\n",
       "20  2378935119      2\n",
       "21   393266494      2\n",
       "22  2579882178      2\n",
       "23  1316129916      2\n",
       "24  1801183820      2\n",
       "25  3656415546      2\n",
       "26  1614305549      2\n",
       "27  1648269707      2\n",
       "28  2686716486      2\n",
       "29  2712142231      2\n",
       "30  2716752286      2\n",
       "31  1668030113      2\n",
       "32  1602967004      2\n",
       "33  3717692402      2\n",
       "34  3766097110      2\n",
       "35  1738359350      2\n",
       "36  2780786433      2\n",
       "37  3803269165      2\n",
       "38   477780734      2\n",
       "39   471551937      2\n",
       "40  2600415354      2\n",
       "41   818047933      2\n",
       "42   457167155      2\n",
       "43  2587333274      2\n",
       "44  2038680547      2\n",
       "45  3957174400      2\n",
       "46  3234906277      2\n",
       "47  1294878855      2\n",
       "48   199603092      2\n",
       "49  3202540741      2\n",
       "50  1230306981      2\n",
       "51  3062433592      2\n",
       "52  4256040402      2\n",
       "53  4266935830      2\n",
       "54  4186807279      2\n",
       "55     8300375      2\n",
       "56  4120364173      2\n",
       "57  2044997962      2"
      ]
     },
     "execution_count": 20,
     "metadata": {},
     "output_type": "execute_result"
    }
   ],
   "source": [
    "pedidos.groupby(['visitorId'])['group'].nunique().sort_values(ascending=False).reset_index().query('group>1')"
   ]
  },
  {
   "cell_type": "code",
   "execution_count": 21,
   "metadata": {},
   "outputs": [],
   "source": [
    "#Búsqueda de usuarios que participaron tanto en el grupo A como en el grupo B en el mismo día\n",
    "usuarios_ambos_grupos = pedidos.groupby(['visitorId', 'date'])['group'].nunique().sort_values(ascending=False).reset_index().query('group>1')"
   ]
  },
  {
   "cell_type": "markdown",
   "metadata": {},
   "source": [
    "**Observación**, se decidió descartar a los usuarios que participaron el mismo día en ambos grupos A y B porque este grupo de usuarios podría influir negativamente en el análisis ya que su motivación de compra era fuerte y similar para presentar ambas pruebas. En cambio, los usuarios que participaron en diferentes días en ambas pruebas no afectarían el análisis ya que su motivación y necesidad de compra son diferentes en cada fecha. "
   ]
  },
  {
   "cell_type": "code",
   "execution_count": 22,
   "metadata": {},
   "outputs": [
    {
     "data": {
      "text/plain": [
       "0     2587333274\n",
       "1      477780734\n",
       "2     2579882178\n",
       "3     2038680547\n",
       "4     1316129916\n",
       "5      232979603\n",
       "6     3891541246\n",
       "7     1801183820\n",
       "8     3062433592\n",
       "9     1230306981\n",
       "10     237748145\n",
       "11    3951559397\n",
       "12    2949041841\n",
       "13    3963646447\n",
       "14    2378935119\n",
       "15    4266935830\n",
       "16    2686716486\n",
       "17    3202540741\n",
       "18    1614305549\n",
       "19    3717692402\n",
       "20    2458001652\n",
       "21    4256040402\n",
       "22    3766097110\n",
       "Name: visitorId, dtype: int64"
      ]
     },
     "execution_count": 22,
     "metadata": {},
     "output_type": "execute_result"
    }
   ],
   "source": [
    "usuarios_ambos_grupos['visitorId']"
   ]
  },
  {
   "cell_type": "code",
   "execution_count": 23,
   "metadata": {},
   "outputs": [],
   "source": [
    "pedidos_limpio = pedidos[~pedidos['visitorId'].isin(usuarios_ambos_grupos['visitorId'])]"
   ]
  },
  {
   "cell_type": "code",
   "execution_count": 24,
   "metadata": {},
   "outputs": [],
   "source": [
    "pedidos = pedidos_limpio"
   ]
  },
  {
   "cell_type": "markdown",
   "metadata": {},
   "source": [
    "**Cálculo de métricas acumuladas**"
   ]
  },
  {
   "cell_type": "code",
   "execution_count": 25,
   "metadata": {},
   "outputs": [],
   "source": [
    "pedidos['date'] = pedidos['date'].map(\n",
    "    lambda x: dt.datetime.strptime(x, '%Y-%m-%d')\n",
    ")"
   ]
  },
  {
   "cell_type": "code",
   "execution_count": 26,
   "metadata": {},
   "outputs": [],
   "source": [
    "visitas['date'] = visitas['date'].map(\n",
    "    lambda x: dt.datetime.strptime(x, '%Y-%m-%d')\n",
    ")"
   ]
  },
  {
   "cell_type": "code",
   "execution_count": 27,
   "metadata": {},
   "outputs": [
    {
     "data": {
      "text/html": [
       "<div>\n",
       "<style scoped>\n",
       "    .dataframe tbody tr th:only-of-type {\n",
       "        vertical-align: middle;\n",
       "    }\n",
       "\n",
       "    .dataframe tbody tr th {\n",
       "        vertical-align: top;\n",
       "    }\n",
       "\n",
       "    .dataframe thead th {\n",
       "        text-align: right;\n",
       "    }\n",
       "</style>\n",
       "<table border=\"1\" class=\"dataframe\">\n",
       "  <thead>\n",
       "    <tr style=\"text-align: right;\">\n",
       "      <th></th>\n",
       "      <th>transactionId</th>\n",
       "      <th>visitorId</th>\n",
       "      <th>date</th>\n",
       "      <th>revenue</th>\n",
       "      <th>group</th>\n",
       "    </tr>\n",
       "  </thead>\n",
       "  <tbody>\n",
       "    <tr>\n",
       "      <th>0</th>\n",
       "      <td>3667963787</td>\n",
       "      <td>3312258926</td>\n",
       "      <td>2019-08-15</td>\n",
       "      <td>30.4</td>\n",
       "      <td>B</td>\n",
       "    </tr>\n",
       "    <tr>\n",
       "      <th>1</th>\n",
       "      <td>2804400009</td>\n",
       "      <td>3642806036</td>\n",
       "      <td>2019-08-15</td>\n",
       "      <td>15.2</td>\n",
       "      <td>B</td>\n",
       "    </tr>\n",
       "    <tr>\n",
       "      <th>2</th>\n",
       "      <td>2961555356</td>\n",
       "      <td>4069496402</td>\n",
       "      <td>2019-08-15</td>\n",
       "      <td>10.2</td>\n",
       "      <td>A</td>\n",
       "    </tr>\n",
       "    <tr>\n",
       "      <th>3</th>\n",
       "      <td>3797467345</td>\n",
       "      <td>1196621759</td>\n",
       "      <td>2019-08-15</td>\n",
       "      <td>155.1</td>\n",
       "      <td>B</td>\n",
       "    </tr>\n",
       "    <tr>\n",
       "      <th>4</th>\n",
       "      <td>2282983706</td>\n",
       "      <td>2322279887</td>\n",
       "      <td>2019-08-15</td>\n",
       "      <td>40.5</td>\n",
       "      <td>B</td>\n",
       "    </tr>\n",
       "  </tbody>\n",
       "</table>\n",
       "</div>"
      ],
      "text/plain": [
       "   transactionId   visitorId       date  revenue group\n",
       "0     3667963787  3312258926 2019-08-15     30.4     B\n",
       "1     2804400009  3642806036 2019-08-15     15.2     B\n",
       "2     2961555356  4069496402 2019-08-15     10.2     A\n",
       "3     3797467345  1196621759 2019-08-15    155.1     B\n",
       "4     2282983706  2322279887 2019-08-15     40.5     B"
      ]
     },
     "execution_count": 27,
     "metadata": {},
     "output_type": "execute_result"
    }
   ],
   "source": [
    "pedidos.head()"
   ]
  },
  {
   "cell_type": "code",
   "execution_count": 28,
   "metadata": {},
   "outputs": [
    {
     "data": {
      "text/html": [
       "<div>\n",
       "<style scoped>\n",
       "    .dataframe tbody tr th:only-of-type {\n",
       "        vertical-align: middle;\n",
       "    }\n",
       "\n",
       "    .dataframe tbody tr th {\n",
       "        vertical-align: top;\n",
       "    }\n",
       "\n",
       "    .dataframe thead th {\n",
       "        text-align: right;\n",
       "    }\n",
       "</style>\n",
       "<table border=\"1\" class=\"dataframe\">\n",
       "  <thead>\n",
       "    <tr style=\"text-align: right;\">\n",
       "      <th></th>\n",
       "      <th>date</th>\n",
       "      <th>group</th>\n",
       "      <th>visits</th>\n",
       "    </tr>\n",
       "  </thead>\n",
       "  <tbody>\n",
       "    <tr>\n",
       "      <th>0</th>\n",
       "      <td>2019-08-01</td>\n",
       "      <td>A</td>\n",
       "      <td>719</td>\n",
       "    </tr>\n",
       "    <tr>\n",
       "      <th>1</th>\n",
       "      <td>2019-08-02</td>\n",
       "      <td>A</td>\n",
       "      <td>619</td>\n",
       "    </tr>\n",
       "    <tr>\n",
       "      <th>2</th>\n",
       "      <td>2019-08-03</td>\n",
       "      <td>A</td>\n",
       "      <td>507</td>\n",
       "    </tr>\n",
       "    <tr>\n",
       "      <th>3</th>\n",
       "      <td>2019-08-04</td>\n",
       "      <td>A</td>\n",
       "      <td>717</td>\n",
       "    </tr>\n",
       "    <tr>\n",
       "      <th>4</th>\n",
       "      <td>2019-08-05</td>\n",
       "      <td>A</td>\n",
       "      <td>756</td>\n",
       "    </tr>\n",
       "  </tbody>\n",
       "</table>\n",
       "</div>"
      ],
      "text/plain": [
       "        date group  visits\n",
       "0 2019-08-01     A     719\n",
       "1 2019-08-02     A     619\n",
       "2 2019-08-03     A     507\n",
       "3 2019-08-04     A     717\n",
       "4 2019-08-05     A     756"
      ]
     },
     "execution_count": 28,
     "metadata": {},
     "output_type": "execute_result"
    }
   ],
   "source": [
    "visitas.head()"
   ]
  },
  {
   "cell_type": "markdown",
   "metadata": {},
   "source": [
    "**Recopilación de datos acumulados**"
   ]
  },
  {
   "cell_type": "code",
   "execution_count": 29,
   "metadata": {},
   "outputs": [],
   "source": [
    "fecha_grupos = pedidos[['date','group']].drop_duplicates()"
   ]
  },
  {
   "cell_type": "code",
   "execution_count": 30,
   "metadata": {},
   "outputs": [
    {
     "data": {
      "text/html": [
       "<div>\n",
       "<style scoped>\n",
       "    .dataframe tbody tr th:only-of-type {\n",
       "        vertical-align: middle;\n",
       "    }\n",
       "\n",
       "    .dataframe tbody tr th {\n",
       "        vertical-align: top;\n",
       "    }\n",
       "\n",
       "    .dataframe thead th {\n",
       "        text-align: right;\n",
       "    }\n",
       "</style>\n",
       "<table border=\"1\" class=\"dataframe\">\n",
       "  <thead>\n",
       "    <tr style=\"text-align: right;\">\n",
       "      <th></th>\n",
       "      <th>date</th>\n",
       "      <th>group</th>\n",
       "    </tr>\n",
       "  </thead>\n",
       "  <tbody>\n",
       "    <tr>\n",
       "      <th>0</th>\n",
       "      <td>2019-08-15</td>\n",
       "      <td>B</td>\n",
       "    </tr>\n",
       "    <tr>\n",
       "      <th>2</th>\n",
       "      <td>2019-08-15</td>\n",
       "      <td>A</td>\n",
       "    </tr>\n",
       "    <tr>\n",
       "      <th>45</th>\n",
       "      <td>2019-08-16</td>\n",
       "      <td>A</td>\n",
       "    </tr>\n",
       "    <tr>\n",
       "      <th>47</th>\n",
       "      <td>2019-08-16</td>\n",
       "      <td>B</td>\n",
       "    </tr>\n",
       "    <tr>\n",
       "      <th>55</th>\n",
       "      <td>2019-08-01</td>\n",
       "      <td>A</td>\n",
       "    </tr>\n",
       "    <tr>\n",
       "      <th>...</th>\n",
       "      <td>...</td>\n",
       "      <td>...</td>\n",
       "    </tr>\n",
       "    <tr>\n",
       "      <th>1068</th>\n",
       "      <td>2019-08-12</td>\n",
       "      <td>A</td>\n",
       "    </tr>\n",
       "    <tr>\n",
       "      <th>1114</th>\n",
       "      <td>2019-08-13</td>\n",
       "      <td>B</td>\n",
       "    </tr>\n",
       "    <tr>\n",
       "      <th>1116</th>\n",
       "      <td>2019-08-13</td>\n",
       "      <td>A</td>\n",
       "    </tr>\n",
       "    <tr>\n",
       "      <th>1149</th>\n",
       "      <td>2019-08-14</td>\n",
       "      <td>B</td>\n",
       "    </tr>\n",
       "    <tr>\n",
       "      <th>1150</th>\n",
       "      <td>2019-08-14</td>\n",
       "      <td>A</td>\n",
       "    </tr>\n",
       "  </tbody>\n",
       "</table>\n",
       "<p>62 rows × 2 columns</p>\n",
       "</div>"
      ],
      "text/plain": [
       "           date group\n",
       "0    2019-08-15     B\n",
       "2    2019-08-15     A\n",
       "45   2019-08-16     A\n",
       "47   2019-08-16     B\n",
       "55   2019-08-01     A\n",
       "...         ...   ...\n",
       "1068 2019-08-12     A\n",
       "1114 2019-08-13     B\n",
       "1116 2019-08-13     A\n",
       "1149 2019-08-14     B\n",
       "1150 2019-08-14     A\n",
       "\n",
       "[62 rows x 2 columns]"
      ]
     },
     "execution_count": 30,
     "metadata": {},
     "output_type": "execute_result"
    }
   ],
   "source": [
    "fecha_grupos"
   ]
  },
  {
   "cell_type": "code",
   "execution_count": 31,
   "metadata": {},
   "outputs": [
    {
     "data": {
      "text/plain": [
       "0"
      ]
     },
     "execution_count": 31,
     "metadata": {},
     "output_type": "execute_result"
    }
   ],
   "source": [
    "fecha_grupos.duplicated().sum()"
   ]
  },
  {
   "cell_type": "code",
   "execution_count": 32,
   "metadata": {},
   "outputs": [],
   "source": [
    "pedidos_agg = fecha_grupos.apply(lambda x: pedidos[np.logical_and(pedidos['date'] <= x['date'], pedidos['group'] == x['group'])].agg({'date' : 'max', 'group' : 'max', 'transactionId' : pd.Series.nunique, 'visitorId' : pd.Series.nunique, 'revenue' : 'sum'}), axis=1).sort_values(by=['date','group'])"
   ]
  },
  {
   "cell_type": "code",
   "execution_count": 33,
   "metadata": {},
   "outputs": [],
   "source": [
    "visitas_agg = fecha_grupos.apply(lambda x: visitas[np.logical_and(visitas['date'] <= x['date'], visitas['group'] == x['group'])].agg({'date' : 'max', 'group' : 'max', 'visits' : 'sum'}), axis=1).sort_values(by=['date','group'])\n"
   ]
  },
  {
   "cell_type": "code",
   "execution_count": 34,
   "metadata": {},
   "outputs": [],
   "source": [
    " cumulativeData = pedidos_agg.merge(visitas_agg, left_on=['date', 'group'], right_on=['date', 'group'])"
   ]
  },
  {
   "cell_type": "code",
   "execution_count": 35,
   "metadata": {},
   "outputs": [
    {
     "data": {
      "text/html": [
       "<div>\n",
       "<style scoped>\n",
       "    .dataframe tbody tr th:only-of-type {\n",
       "        vertical-align: middle;\n",
       "    }\n",
       "\n",
       "    .dataframe tbody tr th {\n",
       "        vertical-align: top;\n",
       "    }\n",
       "\n",
       "    .dataframe thead th {\n",
       "        text-align: right;\n",
       "    }\n",
       "</style>\n",
       "<table border=\"1\" class=\"dataframe\">\n",
       "  <thead>\n",
       "    <tr style=\"text-align: right;\">\n",
       "      <th></th>\n",
       "      <th>date</th>\n",
       "      <th>group</th>\n",
       "      <th>transactionId</th>\n",
       "      <th>visitorId</th>\n",
       "      <th>revenue</th>\n",
       "      <th>visits</th>\n",
       "    </tr>\n",
       "  </thead>\n",
       "  <tbody>\n",
       "    <tr>\n",
       "      <th>0</th>\n",
       "      <td>2019-08-01</td>\n",
       "      <td>A</td>\n",
       "      <td>23</td>\n",
       "      <td>19</td>\n",
       "      <td>2266.6</td>\n",
       "      <td>719</td>\n",
       "    </tr>\n",
       "    <tr>\n",
       "      <th>1</th>\n",
       "      <td>2019-08-01</td>\n",
       "      <td>B</td>\n",
       "      <td>19</td>\n",
       "      <td>19</td>\n",
       "      <td>1258.8</td>\n",
       "      <td>713</td>\n",
       "    </tr>\n",
       "    <tr>\n",
       "      <th>2</th>\n",
       "      <td>2019-08-02</td>\n",
       "      <td>A</td>\n",
       "      <td>43</td>\n",
       "      <td>37</td>\n",
       "      <td>3770.1</td>\n",
       "      <td>1338</td>\n",
       "    </tr>\n",
       "    <tr>\n",
       "      <th>3</th>\n",
       "      <td>2019-08-02</td>\n",
       "      <td>B</td>\n",
       "      <td>43</td>\n",
       "      <td>42</td>\n",
       "      <td>3882.6</td>\n",
       "      <td>1294</td>\n",
       "    </tr>\n",
       "    <tr>\n",
       "      <th>4</th>\n",
       "      <td>2019-08-03</td>\n",
       "      <td>A</td>\n",
       "      <td>67</td>\n",
       "      <td>61</td>\n",
       "      <td>5585.3</td>\n",
       "      <td>1845</td>\n",
       "    </tr>\n",
       "    <tr>\n",
       "      <th>...</th>\n",
       "      <td>...</td>\n",
       "      <td>...</td>\n",
       "      <td>...</td>\n",
       "      <td>...</td>\n",
       "      <td>...</td>\n",
       "      <td>...</td>\n",
       "    </tr>\n",
       "    <tr>\n",
       "      <th>57</th>\n",
       "      <td>2019-08-29</td>\n",
       "      <td>B</td>\n",
       "      <td>554</td>\n",
       "      <td>524</td>\n",
       "      <td>78801.1</td>\n",
       "      <td>17708</td>\n",
       "    </tr>\n",
       "    <tr>\n",
       "      <th>58</th>\n",
       "      <td>2019-08-30</td>\n",
       "      <td>A</td>\n",
       "      <td>499</td>\n",
       "      <td>471</td>\n",
       "      <td>57133.5</td>\n",
       "      <td>18037</td>\n",
       "    </tr>\n",
       "    <tr>\n",
       "      <th>59</th>\n",
       "      <td>2019-08-30</td>\n",
       "      <td>B</td>\n",
       "      <td>576</td>\n",
       "      <td>545</td>\n",
       "      <td>82123.7</td>\n",
       "      <td>18198</td>\n",
       "    </tr>\n",
       "    <tr>\n",
       "      <th>60</th>\n",
       "      <td>2019-08-31</td>\n",
       "      <td>A</td>\n",
       "      <td>509</td>\n",
       "      <td>480</td>\n",
       "      <td>58038.5</td>\n",
       "      <td>18736</td>\n",
       "    </tr>\n",
       "    <tr>\n",
       "      <th>61</th>\n",
       "      <td>2019-08-31</td>\n",
       "      <td>B</td>\n",
       "      <td>594</td>\n",
       "      <td>563</td>\n",
       "      <td>84151.9</td>\n",
       "      <td>18916</td>\n",
       "    </tr>\n",
       "  </tbody>\n",
       "</table>\n",
       "<p>62 rows × 6 columns</p>\n",
       "</div>"
      ],
      "text/plain": [
       "         date group  transactionId  visitorId  revenue  visits\n",
       "0  2019-08-01     A             23         19   2266.6     719\n",
       "1  2019-08-01     B             19         19   1258.8     713\n",
       "2  2019-08-02     A             43         37   3770.1    1338\n",
       "3  2019-08-02     B             43         42   3882.6    1294\n",
       "4  2019-08-03     A             67         61   5585.3    1845\n",
       "..        ...   ...            ...        ...      ...     ...\n",
       "57 2019-08-29     B            554        524  78801.1   17708\n",
       "58 2019-08-30     A            499        471  57133.5   18037\n",
       "59 2019-08-30     B            576        545  82123.7   18198\n",
       "60 2019-08-31     A            509        480  58038.5   18736\n",
       "61 2019-08-31     B            594        563  84151.9   18916\n",
       "\n",
       "[62 rows x 6 columns]"
      ]
     },
     "execution_count": 35,
     "metadata": {},
     "output_type": "execute_result"
    }
   ],
   "source": [
    "cumulativeData"
   ]
  },
  {
   "cell_type": "code",
   "execution_count": 36,
   "metadata": {},
   "outputs": [],
   "source": [
    "cumulativeData.columns = ['date', 'group', 'orders', 'visitorId', 'revenue', 'visits']\n"
   ]
  },
  {
   "cell_type": "code",
   "execution_count": 37,
   "metadata": {},
   "outputs": [
    {
     "name": "stdout",
     "output_type": "stream",
     "text": [
      "        date group  orders  visitorId  revenue  visits\n",
      "0 2019-08-01     A      23         19   2266.6     719\n",
      "1 2019-08-01     B      19         19   1258.8     713\n",
      "2 2019-08-02     A      43         37   3770.1    1338\n",
      "3 2019-08-02     B      43         42   3882.6    1294\n",
      "4 2019-08-03     A      67         61   5585.3    1845\n"
     ]
    }
   ],
   "source": [
    "print(cumulativeData.head(5))"
   ]
  },
  {
   "cell_type": "markdown",
   "metadata": {},
   "source": [
    "# Priorizar hipótesis"
   ]
  },
  {
   "cell_type": "markdown",
   "metadata": {},
   "source": [
    "**Framework ICE/RICE**"
   ]
  },
  {
   "cell_type": "code",
   "execution_count": 38,
   "metadata": {},
   "outputs": [
    {
     "data": {
      "text/html": [
       "<div>\n",
       "<style scoped>\n",
       "    .dataframe tbody tr th:only-of-type {\n",
       "        vertical-align: middle;\n",
       "    }\n",
       "\n",
       "    .dataframe tbody tr th {\n",
       "        vertical-align: top;\n",
       "    }\n",
       "\n",
       "    .dataframe thead th {\n",
       "        text-align: right;\n",
       "    }\n",
       "</style>\n",
       "<table border=\"1\" class=\"dataframe\">\n",
       "  <thead>\n",
       "    <tr style=\"text-align: right;\">\n",
       "      <th></th>\n",
       "      <th>hypothesis</th>\n",
       "      <th>reach</th>\n",
       "      <th>impact</th>\n",
       "      <th>confidence</th>\n",
       "      <th>effort</th>\n",
       "    </tr>\n",
       "  </thead>\n",
       "  <tbody>\n",
       "    <tr>\n",
       "      <th>0</th>\n",
       "      <td>Add two new channels for attracting traffic. T...</td>\n",
       "      <td>3</td>\n",
       "      <td>10</td>\n",
       "      <td>8</td>\n",
       "      <td>6</td>\n",
       "    </tr>\n",
       "    <tr>\n",
       "      <th>1</th>\n",
       "      <td>Launch your own delivery service. This will sh...</td>\n",
       "      <td>2</td>\n",
       "      <td>5</td>\n",
       "      <td>4</td>\n",
       "      <td>10</td>\n",
       "    </tr>\n",
       "    <tr>\n",
       "      <th>2</th>\n",
       "      <td>Add product recommendation blocks to the store...</td>\n",
       "      <td>8</td>\n",
       "      <td>3</td>\n",
       "      <td>7</td>\n",
       "      <td>3</td>\n",
       "    </tr>\n",
       "    <tr>\n",
       "      <th>3</th>\n",
       "      <td>Change the category structure. This will incre...</td>\n",
       "      <td>8</td>\n",
       "      <td>3</td>\n",
       "      <td>3</td>\n",
       "      <td>8</td>\n",
       "    </tr>\n",
       "    <tr>\n",
       "      <th>4</th>\n",
       "      <td>Change the background color on the main page. ...</td>\n",
       "      <td>3</td>\n",
       "      <td>1</td>\n",
       "      <td>1</td>\n",
       "      <td>1</td>\n",
       "    </tr>\n",
       "    <tr>\n",
       "      <th>5</th>\n",
       "      <td>Add a customer review page. This will increase...</td>\n",
       "      <td>3</td>\n",
       "      <td>2</td>\n",
       "      <td>2</td>\n",
       "      <td>3</td>\n",
       "    </tr>\n",
       "    <tr>\n",
       "      <th>6</th>\n",
       "      <td>Show banners with current offers and sales on ...</td>\n",
       "      <td>5</td>\n",
       "      <td>3</td>\n",
       "      <td>8</td>\n",
       "      <td>3</td>\n",
       "    </tr>\n",
       "    <tr>\n",
       "      <th>7</th>\n",
       "      <td>Add a subscription form to all the main pages....</td>\n",
       "      <td>10</td>\n",
       "      <td>7</td>\n",
       "      <td>8</td>\n",
       "      <td>5</td>\n",
       "    </tr>\n",
       "    <tr>\n",
       "      <th>8</th>\n",
       "      <td>Launch a promotion that gives users discounts ...</td>\n",
       "      <td>1</td>\n",
       "      <td>9</td>\n",
       "      <td>9</td>\n",
       "      <td>5</td>\n",
       "    </tr>\n",
       "  </tbody>\n",
       "</table>\n",
       "</div>"
      ],
      "text/plain": [
       "                                          hypothesis  reach  impact  \\\n",
       "0  Add two new channels for attracting traffic. T...      3      10   \n",
       "1  Launch your own delivery service. This will sh...      2       5   \n",
       "2  Add product recommendation blocks to the store...      8       3   \n",
       "3  Change the category structure. This will incre...      8       3   \n",
       "4  Change the background color on the main page. ...      3       1   \n",
       "5  Add a customer review page. This will increase...      3       2   \n",
       "6  Show banners with current offers and sales on ...      5       3   \n",
       "7  Add a subscription form to all the main pages....     10       7   \n",
       "8  Launch a promotion that gives users discounts ...      1       9   \n",
       "\n",
       "   confidence  effort  \n",
       "0           8       6  \n",
       "1           4      10  \n",
       "2           7       3  \n",
       "3           3       8  \n",
       "4           1       1  \n",
       "5           2       3  \n",
       "6           8       3  \n",
       "7           8       5  \n",
       "8           9       5  "
      ]
     },
     "execution_count": 38,
     "metadata": {},
     "output_type": "execute_result"
    }
   ],
   "source": [
    "hipotesis"
   ]
  },
  {
   "cell_type": "code",
   "execution_count": 39,
   "metadata": {},
   "outputs": [
    {
     "data": {
      "text/plain": [
       "'Add two new channels for attracting traffic. This will bring 30% more users'"
      ]
     },
     "execution_count": 39,
     "metadata": {},
     "output_type": "execute_result"
    }
   ],
   "source": [
    "hipotesis.iloc[0,0]"
   ]
  },
  {
   "cell_type": "code",
   "execution_count": 40,
   "metadata": {},
   "outputs": [],
   "source": [
    "hipotesis['ICE'] = hipotesis['impact']*hipotesis['confidence']/hipotesis['effort']"
   ]
  },
  {
   "cell_type": "code",
   "execution_count": 41,
   "metadata": {},
   "outputs": [],
   "source": [
    "hipotesis['RICE'] = (hipotesis['reach']*hipotesis['impact']*hipotesis['confidence'])/hipotesis['effort']"
   ]
  },
  {
   "cell_type": "code",
   "execution_count": 42,
   "metadata": {},
   "outputs": [
    {
     "data": {
      "text/html": [
       "<div>\n",
       "<style scoped>\n",
       "    .dataframe tbody tr th:only-of-type {\n",
       "        vertical-align: middle;\n",
       "    }\n",
       "\n",
       "    .dataframe tbody tr th {\n",
       "        vertical-align: top;\n",
       "    }\n",
       "\n",
       "    .dataframe thead th {\n",
       "        text-align: right;\n",
       "    }\n",
       "</style>\n",
       "<table border=\"1\" class=\"dataframe\">\n",
       "  <thead>\n",
       "    <tr style=\"text-align: right;\">\n",
       "      <th></th>\n",
       "      <th>hypothesis</th>\n",
       "      <th>reach</th>\n",
       "      <th>impact</th>\n",
       "      <th>confidence</th>\n",
       "      <th>effort</th>\n",
       "      <th>ICE</th>\n",
       "      <th>RICE</th>\n",
       "    </tr>\n",
       "  </thead>\n",
       "  <tbody>\n",
       "    <tr>\n",
       "      <th>8</th>\n",
       "      <td>Launch a promotion that gives users discounts ...</td>\n",
       "      <td>1</td>\n",
       "      <td>9</td>\n",
       "      <td>9</td>\n",
       "      <td>5</td>\n",
       "      <td>16.200000</td>\n",
       "      <td>16.2</td>\n",
       "    </tr>\n",
       "    <tr>\n",
       "      <th>0</th>\n",
       "      <td>Add two new channels for attracting traffic. T...</td>\n",
       "      <td>3</td>\n",
       "      <td>10</td>\n",
       "      <td>8</td>\n",
       "      <td>6</td>\n",
       "      <td>13.333333</td>\n",
       "      <td>40.0</td>\n",
       "    </tr>\n",
       "    <tr>\n",
       "      <th>7</th>\n",
       "      <td>Add a subscription form to all the main pages....</td>\n",
       "      <td>10</td>\n",
       "      <td>7</td>\n",
       "      <td>8</td>\n",
       "      <td>5</td>\n",
       "      <td>11.200000</td>\n",
       "      <td>112.0</td>\n",
       "    </tr>\n",
       "    <tr>\n",
       "      <th>6</th>\n",
       "      <td>Show banners with current offers and sales on ...</td>\n",
       "      <td>5</td>\n",
       "      <td>3</td>\n",
       "      <td>8</td>\n",
       "      <td>3</td>\n",
       "      <td>8.000000</td>\n",
       "      <td>40.0</td>\n",
       "    </tr>\n",
       "    <tr>\n",
       "      <th>2</th>\n",
       "      <td>Add product recommendation blocks to the store...</td>\n",
       "      <td>8</td>\n",
       "      <td>3</td>\n",
       "      <td>7</td>\n",
       "      <td>3</td>\n",
       "      <td>7.000000</td>\n",
       "      <td>56.0</td>\n",
       "    </tr>\n",
       "    <tr>\n",
       "      <th>1</th>\n",
       "      <td>Launch your own delivery service. This will sh...</td>\n",
       "      <td>2</td>\n",
       "      <td>5</td>\n",
       "      <td>4</td>\n",
       "      <td>10</td>\n",
       "      <td>2.000000</td>\n",
       "      <td>4.0</td>\n",
       "    </tr>\n",
       "    <tr>\n",
       "      <th>5</th>\n",
       "      <td>Add a customer review page. This will increase...</td>\n",
       "      <td>3</td>\n",
       "      <td>2</td>\n",
       "      <td>2</td>\n",
       "      <td>3</td>\n",
       "      <td>1.333333</td>\n",
       "      <td>4.0</td>\n",
       "    </tr>\n",
       "    <tr>\n",
       "      <th>3</th>\n",
       "      <td>Change the category structure. This will incre...</td>\n",
       "      <td>8</td>\n",
       "      <td>3</td>\n",
       "      <td>3</td>\n",
       "      <td>8</td>\n",
       "      <td>1.125000</td>\n",
       "      <td>9.0</td>\n",
       "    </tr>\n",
       "    <tr>\n",
       "      <th>4</th>\n",
       "      <td>Change the background color on the main page. ...</td>\n",
       "      <td>3</td>\n",
       "      <td>1</td>\n",
       "      <td>1</td>\n",
       "      <td>1</td>\n",
       "      <td>1.000000</td>\n",
       "      <td>3.0</td>\n",
       "    </tr>\n",
       "  </tbody>\n",
       "</table>\n",
       "</div>"
      ],
      "text/plain": [
       "                                          hypothesis  reach  impact  \\\n",
       "8  Launch a promotion that gives users discounts ...      1       9   \n",
       "0  Add two new channels for attracting traffic. T...      3      10   \n",
       "7  Add a subscription form to all the main pages....     10       7   \n",
       "6  Show banners with current offers and sales on ...      5       3   \n",
       "2  Add product recommendation blocks to the store...      8       3   \n",
       "1  Launch your own delivery service. This will sh...      2       5   \n",
       "5  Add a customer review page. This will increase...      3       2   \n",
       "3  Change the category structure. This will incre...      8       3   \n",
       "4  Change the background color on the main page. ...      3       1   \n",
       "\n",
       "   confidence  effort        ICE   RICE  \n",
       "8           9       5  16.200000   16.2  \n",
       "0           8       6  13.333333   40.0  \n",
       "7           8       5  11.200000  112.0  \n",
       "6           8       3   8.000000   40.0  \n",
       "2           7       3   7.000000   56.0  \n",
       "1           4      10   2.000000    4.0  \n",
       "5           2       3   1.333333    4.0  \n",
       "3           3       8   1.125000    9.0  \n",
       "4           1       1   1.000000    3.0  "
      ]
     },
     "execution_count": 42,
     "metadata": {},
     "output_type": "execute_result"
    }
   ],
   "source": [
    "hipotesis.sort_values(by='ICE', ascending=False)"
   ]
  },
  {
   "cell_type": "code",
   "execution_count": 43,
   "metadata": {},
   "outputs": [],
   "source": [
    "hipotesis.sort_values(by='RICE', ascending=False, inplace=True)"
   ]
  },
  {
   "cell_type": "code",
   "execution_count": 44,
   "metadata": {},
   "outputs": [
    {
     "data": {
      "text/html": [
       "<div>\n",
       "<style scoped>\n",
       "    .dataframe tbody tr th:only-of-type {\n",
       "        vertical-align: middle;\n",
       "    }\n",
       "\n",
       "    .dataframe tbody tr th {\n",
       "        vertical-align: top;\n",
       "    }\n",
       "\n",
       "    .dataframe thead th {\n",
       "        text-align: right;\n",
       "    }\n",
       "</style>\n",
       "<table border=\"1\" class=\"dataframe\">\n",
       "  <thead>\n",
       "    <tr style=\"text-align: right;\">\n",
       "      <th></th>\n",
       "      <th>hypothesis</th>\n",
       "      <th>reach</th>\n",
       "      <th>impact</th>\n",
       "      <th>confidence</th>\n",
       "      <th>effort</th>\n",
       "      <th>ICE</th>\n",
       "      <th>RICE</th>\n",
       "    </tr>\n",
       "  </thead>\n",
       "  <tbody>\n",
       "    <tr>\n",
       "      <th>7</th>\n",
       "      <td>Add a subscription form to all the main pages....</td>\n",
       "      <td>10</td>\n",
       "      <td>7</td>\n",
       "      <td>8</td>\n",
       "      <td>5</td>\n",
       "      <td>11.200000</td>\n",
       "      <td>112.0</td>\n",
       "    </tr>\n",
       "    <tr>\n",
       "      <th>2</th>\n",
       "      <td>Add product recommendation blocks to the store...</td>\n",
       "      <td>8</td>\n",
       "      <td>3</td>\n",
       "      <td>7</td>\n",
       "      <td>3</td>\n",
       "      <td>7.000000</td>\n",
       "      <td>56.0</td>\n",
       "    </tr>\n",
       "    <tr>\n",
       "      <th>0</th>\n",
       "      <td>Add two new channels for attracting traffic. T...</td>\n",
       "      <td>3</td>\n",
       "      <td>10</td>\n",
       "      <td>8</td>\n",
       "      <td>6</td>\n",
       "      <td>13.333333</td>\n",
       "      <td>40.0</td>\n",
       "    </tr>\n",
       "    <tr>\n",
       "      <th>6</th>\n",
       "      <td>Show banners with current offers and sales on ...</td>\n",
       "      <td>5</td>\n",
       "      <td>3</td>\n",
       "      <td>8</td>\n",
       "      <td>3</td>\n",
       "      <td>8.000000</td>\n",
       "      <td>40.0</td>\n",
       "    </tr>\n",
       "    <tr>\n",
       "      <th>8</th>\n",
       "      <td>Launch a promotion that gives users discounts ...</td>\n",
       "      <td>1</td>\n",
       "      <td>9</td>\n",
       "      <td>9</td>\n",
       "      <td>5</td>\n",
       "      <td>16.200000</td>\n",
       "      <td>16.2</td>\n",
       "    </tr>\n",
       "    <tr>\n",
       "      <th>3</th>\n",
       "      <td>Change the category structure. This will incre...</td>\n",
       "      <td>8</td>\n",
       "      <td>3</td>\n",
       "      <td>3</td>\n",
       "      <td>8</td>\n",
       "      <td>1.125000</td>\n",
       "      <td>9.0</td>\n",
       "    </tr>\n",
       "    <tr>\n",
       "      <th>1</th>\n",
       "      <td>Launch your own delivery service. This will sh...</td>\n",
       "      <td>2</td>\n",
       "      <td>5</td>\n",
       "      <td>4</td>\n",
       "      <td>10</td>\n",
       "      <td>2.000000</td>\n",
       "      <td>4.0</td>\n",
       "    </tr>\n",
       "    <tr>\n",
       "      <th>5</th>\n",
       "      <td>Add a customer review page. This will increase...</td>\n",
       "      <td>3</td>\n",
       "      <td>2</td>\n",
       "      <td>2</td>\n",
       "      <td>3</td>\n",
       "      <td>1.333333</td>\n",
       "      <td>4.0</td>\n",
       "    </tr>\n",
       "    <tr>\n",
       "      <th>4</th>\n",
       "      <td>Change the background color on the main page. ...</td>\n",
       "      <td>3</td>\n",
       "      <td>1</td>\n",
       "      <td>1</td>\n",
       "      <td>1</td>\n",
       "      <td>1.000000</td>\n",
       "      <td>3.0</td>\n",
       "    </tr>\n",
       "  </tbody>\n",
       "</table>\n",
       "</div>"
      ],
      "text/plain": [
       "                                          hypothesis  reach  impact  \\\n",
       "7  Add a subscription form to all the main pages....     10       7   \n",
       "2  Add product recommendation blocks to the store...      8       3   \n",
       "0  Add two new channels for attracting traffic. T...      3      10   \n",
       "6  Show banners with current offers and sales on ...      5       3   \n",
       "8  Launch a promotion that gives users discounts ...      1       9   \n",
       "3  Change the category structure. This will incre...      8       3   \n",
       "1  Launch your own delivery service. This will sh...      2       5   \n",
       "5  Add a customer review page. This will increase...      3       2   \n",
       "4  Change the background color on the main page. ...      3       1   \n",
       "\n",
       "   confidence  effort        ICE   RICE  \n",
       "7           8       5  11.200000  112.0  \n",
       "2           7       3   7.000000   56.0  \n",
       "0           8       6  13.333333   40.0  \n",
       "6           8       3   8.000000   40.0  \n",
       "8           9       5  16.200000   16.2  \n",
       "3           3       8   1.125000    9.0  \n",
       "1           4      10   2.000000    4.0  \n",
       "5           2       3   1.333333    4.0  \n",
       "4           1       1   1.000000    3.0  "
      ]
     },
     "execution_count": 44,
     "metadata": {},
     "output_type": "execute_result"
    }
   ],
   "source": [
    "hipotesis"
   ]
  },
  {
   "cell_type": "code",
   "execution_count": 45,
   "metadata": {},
   "outputs": [
    {
     "data": {
      "text/plain": [
       "'Add a subscription form to all the main pages. This will help you compile a mailing list'"
      ]
     },
     "execution_count": 45,
     "metadata": {},
     "output_type": "execute_result"
    }
   ],
   "source": [
    "hipotesis.iloc[0,0]"
   ]
  },
  {
   "cell_type": "markdown",
   "metadata": {},
   "source": [
    "**Observaciones** El aumento significativo de la puntuación al pasar de ICE a RICE indica que el factor \"alcance\" ha tenido un impacto considerable. Al agregar un formulario de suscripción a todas las páginas principales, se está exponiendo la oportunidad de suscripción a un número mucho mayor de usuarios. Esto aumenta significativamente el potencial de crecimiento de la lista de correo, lo que a su vez puede traducirse en un mayor retorno de la inversión en marketing por correo electrónico."
   ]
  },
  {
   "cell_type": "markdown",
   "metadata": {},
   "source": [
    "#  Análisis del test A/B"
   ]
  },
  {
   "cell_type": "markdown",
   "metadata": {},
   "source": [
    "**Representa gráficamente el ingreso acumulado por grupo. Haz conclusiones y conjeturas.**"
   ]
  },
  {
   "cell_type": "code",
   "execution_count": 46,
   "metadata": {},
   "outputs": [],
   "source": [
    "cumulativeRevenueA = cumulativeData[cumulativeData['group']=='A'][['date','revenue', 'orders']]"
   ]
  },
  {
   "cell_type": "code",
   "execution_count": 47,
   "metadata": {},
   "outputs": [],
   "source": [
    "cumulativeRevenueB = cumulativeData[cumulativeData['group']=='B'][['date','revenue', 'orders']]"
   ]
  },
  {
   "cell_type": "code",
   "execution_count": 48,
   "metadata": {},
   "outputs": [
    {
     "data": {
      "image/png": "[encoded data removed]",
      "text/plain": [
       "<Figure size 640x480 with 1 Axes>"
      ]
     },
     "metadata": {},
     "output_type": "display_data"
    }
   ],
   "source": [
    "plt.plot(cumulativeRevenueA['date'], cumulativeRevenueA['revenue'], label='A')\n",
    "plt.plot(cumulativeRevenueB['date'], cumulativeRevenueB['revenue'], label='B')\n",
    "plt.legend()\n",
    "plt.title('Ingreso acumulado por grupo')\n",
    "plt.xlabel('Fecha')\n",
    "plt.ylabel('Ingreso')\n",
    "plt.xticks(rotation=30)\n",
    "plt.show()\n"
   ]
  },
  {
   "cell_type": "markdown",
   "metadata": {},
   "source": [
    "**Observación**: El grupo B (línea naranja) tiene un ingreso acumulado mayor y crece a un ritmo más rápido que el grupo A (línea azul). Esto sugiere que el grupo B ha generado consistentemente más ingresos que el grupo A a lo largo del experimento. \n",
    "En particular, entre el 13 y el 17 de agosto, el grupo B experimenta un aumento notorio en ingresos acumulados, lo que podría deberse a algún evento o promoción que impactó positivamente en las ventas de este grupo. Al final del período analizado (31 de agosto), la diferencia de ingresos acumulados sigue creciendo."
   ]
  },
  {
   "cell_type": "markdown",
   "metadata": {},
   "source": [
    "**Representa gráficamente el tamaño de pedido promedio acumulado por grupo. Haz conclusiones y conjeturas.**"
   ]
  },
  {
   "cell_type": "code",
   "execution_count": 49,
   "metadata": {},
   "outputs": [
    {
     "data": {
      "image/png": "[encoded data removed]",
      "text/plain": [
       "<Figure size 640x480 with 1 Axes>"
      ]
     },
     "metadata": {},
     "output_type": "display_data"
    }
   ],
   "source": [
    "plt.plot(cumulativeRevenueA['date'], cumulativeRevenueA['revenue']/cumulativeRevenueA['orders'], label='A')\n",
    "plt.plot(cumulativeRevenueB['date'], cumulativeRevenueB['revenue']/cumulativeRevenueB['orders'], label='B')\n",
    "plt.legend()\n",
    "plt.title('Pedido promedio acumulado por grupo')\n",
    "plt.xlabel('Fecha')\n",
    "plt.ylabel('Pedido promedio')\n",
    "plt.xticks(rotation=30)\n",
    "plt.show()"
   ]
  },
  {
   "cell_type": "markdown",
   "metadata": {},
   "source": [
    "**Observación**: El grupo B (línea naranja) muestra un incremento significativo en el tamaño promedio del pedido acumulado alrededor de mediados de agosto, llegando a superar claramente al grupo A (línea azul). A partir de este aumento, el tamaño promedio del pedido del grupo B se mantiene consistentemente por encima del grupo A hasta el final del período, aunque muestra una ligera tendencia a la baja en las últimas fechas. El grupo B logra un tamaño de pedido promedio acumulado superior al grupo A durante la mayor parte del período. Este resultado sugiere que las condiciones aplicadas al grupo B lograron no solo aumentar la frecuencia de pedidos, sino también el valor promedio de cada transacción.\n"
   ]
  },
  {
   "cell_type": "markdown",
   "metadata": {},
   "source": [
    "**Representa gráficamente la diferencia relativa en el tamaño de pedido promedio acumulado para el grupo B en comparación con el grupo A. Haz conclusiones y conjeturas.**"
   ]
  },
  {
   "cell_type": "code",
   "execution_count": 50,
   "metadata": {},
   "outputs": [
    {
     "data": {
      "image/png": "[encoded data removed]",
      "text/plain": [
       "<Figure size 640x480 with 1 Axes>"
      ]
     },
     "metadata": {},
     "output_type": "display_data"
    }
   ],
   "source": [
    "mergedCumulativeRevenue = cumulativeRevenueA.merge(cumulativeRevenueB, left_on='date', right_on='date', how='left', suffixes=['A', 'B'])\n",
    "plt.plot(mergedCumulativeRevenue['date'], (mergedCumulativeRevenue['revenueB']/mergedCumulativeRevenue['ordersB'])/(mergedCumulativeRevenue['revenueA']/mergedCumulativeRevenue['ordersA'])-1)\n",
    "plt.axhline(y=0, color='black', linestyle='--')\n",
    "plt.title('Diferencia relativa en el tamaño promedio de pedido')\n",
    "plt.xlabel('Fecha')\n",
    "plt.xticks(rotation=30)\n",
    "plt.show()"
   ]
  },
  {
   "cell_type": "markdown",
   "metadata": {},
   "source": [
    "**Observación:** La línea azul muestra la diferencia relativa del tamaño de pedido promedio del grupo B en comparación con el grupo A a lo largo del tiempo. Inicialmente, el tamaño de pedido promedio del grupo B es menor que el del grupo A, con valores negativos hasta principios de agosto. A partir de la segunda semana de agosto, el tamaño promedio de pedido del grupo B comienza a superar al del grupo A, alcanzando picos en donde la diferencia relativa es de más del 40% en algunos puntos. \n",
    "La tendencia indica que el grupo B mantuvo un tamaño promedio de pedido acumulado mayor en comparación con el grupo A durante un período considerable en agosto.Esto sugiere que cualquier intervención aplicada al grupo B fue efectiva en incrementar el valor promedio de los pedidos, lo que podría tener implicaciones positivas en términos de ingresos si se considera extender estas condiciones a una mayor parte de la base de clientes.\n"
   ]
  },
  {
   "cell_type": "markdown",
   "metadata": {},
   "source": [
    "**Calcula la tasa de conversión de cada grupo como la relación entre los pedidos y el número de visitas de cada día. Representa gráficamente las tasas de conversión diarias de los dos grupos y describe la diferencia.**"
   ]
  },
  {
   "cell_type": "code",
   "execution_count": 51,
   "metadata": {},
   "outputs": [],
   "source": [
    "cumulativeData['conversion'] = cumulativeData['orders']/cumulativeData['visits']"
   ]
  },
  {
   "cell_type": "code",
   "execution_count": 52,
   "metadata": {},
   "outputs": [],
   "source": [
    "cumulativeDataA = cumulativeData[cumulativeData['group']=='A']"
   ]
  },
  {
   "cell_type": "code",
   "execution_count": 53,
   "metadata": {},
   "outputs": [],
   "source": [
    "cumulativeDataB = cumulativeData[cumulativeData['group']=='B']"
   ]
  },
  {
   "cell_type": "code",
   "execution_count": 54,
   "metadata": {},
   "outputs": [
    {
     "data": {
      "image/png": "[encoded data removed]",
      "text/plain": [
       "<Figure size 640x480 with 1 Axes>"
      ]
     },
     "metadata": {},
     "output_type": "display_data"
    }
   ],
   "source": [
    "plt.plot(cumulativeDataA['date'], cumulativeDataA['conversion'], label='A')\n",
    "plt.plot(cumulativeDataB['date'], cumulativeDataB['conversion'], label='B')\n",
    "plt.legend()\n",
    "plt.title('Tasa de conversión diaria del grupo A y B')\n",
    "plt.xlabel('Fecha')\n",
    "plt.ylabel('Conversión')\n",
    "plt.xticks(rotation=30)\n",
    "plt.show()"
   ]
  },
  {
   "cell_type": "markdown",
   "metadata": {},
   "source": [
    "**Observación**: El grupo A presenta una tasa de conversión inicial alta, con un pico significativo al comienzo del período. Luego, experimenta una disminución gradual, aunque con algunas fluctuaciones.\n",
    "El grupo B muestra un comportamiento más estable, con un aumento inicial más gradual y menos pronunciado que el Grupo A. A partir de mediados del período, la tasa de conversión se mantiene relativamente constante, con pequeñas variaciones.La estrategia del Grupo A podría ser más agresiva al inicio, pero menos sostenible a largo plazo.La tasa de conversión más estable del grupo B indica que las acciones implementadas para este grupo están generando resultados más predecibles y confiables.\n"
   ]
  },
  {
   "cell_type": "markdown",
   "metadata": {},
   "source": [
    "**Trazar un gráfico de diferencia relativa para las tasas de conversión acumuladas.**"
   ]
  },
  {
   "cell_type": "code",
   "execution_count": 55,
   "metadata": {},
   "outputs": [
    {
     "data": {
      "image/png": "[encoded data removed]",
      "text/plain": [
       "<Figure size 640x480 with 1 Axes>"
      ]
     },
     "metadata": {},
     "output_type": "display_data"
    }
   ],
   "source": [
    "mergedCumulativeConversions = cumulativeDataA[['date','conversion']].merge(cumulativeDataB[['date','conversion']], left_on='date', right_on='date', how='left', suffixes=['A', 'B'])\n",
    "\n",
    "plt.plot(mergedCumulativeConversions['date'], mergedCumulativeConversions['conversionB']/mergedCumulativeConversions['conversionA']-1)\n",
    "plt.title('Diferencia relativa para las tasas de conversión acumuladas')\n",
    "plt.xlabel('Fecha')\n",
    "plt.axhline(y=0, color='black', linestyle='--')\n",
    "plt.axhline(y=-0.1, color='grey', linestyle='--')\n",
    "plt.xticks(rotation=30)\n",
    "plt.show()\n"
   ]
  },
  {
   "cell_type": "markdown",
   "metadata": {},
   "source": [
    "**Observaciones:** Al inicio de la prueba, el grupo B estaba notablemente rezagado pero a mediados de agosto tomó la delantera  y  empezó a crecer gradualmente manteniendo su conversión."
   ]
  },
  {
   "cell_type": "markdown",
   "metadata": {},
   "source": [
    "**Traza un gráfico de dispersión del número de pedidos por usuario. Haz conclusiones y conjeturas.**"
   ]
  },
  {
   "cell_type": "markdown",
   "metadata": {},
   "source": [
    "* Se realizó el conteo de pedidos por usuario utilizando el dataset 'pedidos'."
   ]
  },
  {
   "cell_type": "code",
   "execution_count": 56,
   "metadata": {},
   "outputs": [],
   "source": [
    "pedidos_por_usuario = pedidos.groupby('visitorId')['transactionId'].count().reset_index()"
   ]
  },
  {
   "cell_type": "code",
   "execution_count": 57,
   "metadata": {},
   "outputs": [
    {
     "data": {
      "text/html": [
       "<div>\n",
       "<style scoped>\n",
       "    .dataframe tbody tr th:only-of-type {\n",
       "        vertical-align: middle;\n",
       "    }\n",
       "\n",
       "    .dataframe tbody tr th {\n",
       "        vertical-align: top;\n",
       "    }\n",
       "\n",
       "    .dataframe thead th {\n",
       "        text-align: right;\n",
       "    }\n",
       "</style>\n",
       "<table border=\"1\" class=\"dataframe\">\n",
       "  <thead>\n",
       "    <tr style=\"text-align: right;\">\n",
       "      <th></th>\n",
       "      <th>visitorId</th>\n",
       "      <th>transactionId</th>\n",
       "    </tr>\n",
       "  </thead>\n",
       "  <tbody>\n",
       "    <tr>\n",
       "      <th>0</th>\n",
       "      <td>5114589</td>\n",
       "      <td>1</td>\n",
       "    </tr>\n",
       "    <tr>\n",
       "      <th>1</th>\n",
       "      <td>6958315</td>\n",
       "      <td>1</td>\n",
       "    </tr>\n",
       "    <tr>\n",
       "      <th>2</th>\n",
       "      <td>8300375</td>\n",
       "      <td>2</td>\n",
       "    </tr>\n",
       "    <tr>\n",
       "      <th>3</th>\n",
       "      <td>11685486</td>\n",
       "      <td>1</td>\n",
       "    </tr>\n",
       "    <tr>\n",
       "      <th>4</th>\n",
       "      <td>39475350</td>\n",
       "      <td>1</td>\n",
       "    </tr>\n",
       "    <tr>\n",
       "      <th>...</th>\n",
       "      <td>...</td>\n",
       "      <td>...</td>\n",
       "    </tr>\n",
       "    <tr>\n",
       "      <th>1003</th>\n",
       "      <td>4259830713</td>\n",
       "      <td>1</td>\n",
       "    </tr>\n",
       "    <tr>\n",
       "      <th>1004</th>\n",
       "      <td>4278982564</td>\n",
       "      <td>1</td>\n",
       "    </tr>\n",
       "    <tr>\n",
       "      <th>1005</th>\n",
       "      <td>4279090005</td>\n",
       "      <td>1</td>\n",
       "    </tr>\n",
       "    <tr>\n",
       "      <th>1006</th>\n",
       "      <td>4281247801</td>\n",
       "      <td>1</td>\n",
       "    </tr>\n",
       "    <tr>\n",
       "      <th>1007</th>\n",
       "      <td>4283872382</td>\n",
       "      <td>1</td>\n",
       "    </tr>\n",
       "  </tbody>\n",
       "</table>\n",
       "<p>1008 rows × 2 columns</p>\n",
       "</div>"
      ],
      "text/plain": [
       "       visitorId  transactionId\n",
       "0        5114589              1\n",
       "1        6958315              1\n",
       "2        8300375              2\n",
       "3       11685486              1\n",
       "4       39475350              1\n",
       "...          ...            ...\n",
       "1003  4259830713              1\n",
       "1004  4278982564              1\n",
       "1005  4279090005              1\n",
       "1006  4281247801              1\n",
       "1007  4283872382              1\n",
       "\n",
       "[1008 rows x 2 columns]"
      ]
     },
     "execution_count": 57,
     "metadata": {},
     "output_type": "execute_result"
    }
   ],
   "source": [
    "pedidos_por_usuario"
   ]
  },
  {
   "cell_type": "code",
   "execution_count": 58,
   "metadata": {},
   "outputs": [
    {
     "data": {
      "image/png": "[encoded data removed]",
      "text/plain": [
       "<Figure size 640x480 with 1 Axes>"
      ]
     },
     "metadata": {},
     "output_type": "display_data"
    }
   ],
   "source": [
    "x_values = pd.Series(range(0,len(pedidos_por_usuario)))\n",
    "plt.scatter(x_values, pedidos_por_usuario['transactionId'])\n",
    "plt.title('Dispersión del número de pedidos por usuario')\n",
    "plt.xlabel('Usuario')\n",
    "plt.ylabel('Número de pedidos')\n",
    "plt.grid(True)\n",
    "plt.tight_layout()\n",
    "plt.show()"
   ]
  },
  {
   "cell_type": "markdown",
   "metadata": {},
   "source": [
    "**Observaciones:** La gran mayoría de los usuarios realiza entre 1 y 3 pedidos. Existe un grupo más reducido de usuarios que realiza entre 3 y 5 pedidos, y solo unos pocos usuarios realizan más de 5 pedidos. La mayoría de los clientes tienden a realizar un número relativamente bajo de pedidos.Existe un pequeño segmento de clientes que realiza un número significativamente mayor de pedidos. Estos clientes podrían ser considerados como \"clientes leales\" o \"compradores compulsivos\".La mayor parte de los pedidos se concentra en un rango relativamente estrecho. Esto indica que la distribución de los pedidos no es muy dispersa y que existe un patrón de compra relativamente homogéneo entre los usuarios."
   ]
  },
  {
   "cell_type": "markdown",
   "metadata": {},
   "source": [
    "**Calcula los percentiles 95 y 99 del número de pedidos por usuario. Define el punto en el cual un punto de datos se convierte en una anomalía.**"
   ]
  },
  {
   "cell_type": "code",
   "execution_count": 59,
   "metadata": {},
   "outputs": [
    {
     "data": {
      "text/plain": [
       "array([2., 3.])"
      ]
     },
     "execution_count": 59,
     "metadata": {},
     "output_type": "execute_result"
    }
   ],
   "source": [
    "np.percentile(pedidos_por_usuario['transactionId'], [95, 99])"
   ]
  },
  {
   "cell_type": "markdown",
   "metadata": {},
   "source": [
    "**Observación:** El 95% de los usuarios realizaron 2 o menos pedidos. Esto significa que el 5% de los usuarios más activos realizaron más de 2 pedidos.El 99% de los usuarios realizaron 3 o menos pedidos. Esto implica que solo el 1% de los usuarios más activos realizó más de 3 pedidos.La gran mayoría de los usuarios (95%) realiza una cantidad relativamente baja de pedidos (2 o menos). Esto sugiere que el comportamiento típico de los usuarios es realizar pocas transacciones.Sería razonable fijar un umbral de dos órdenes por usuario como límite superior para un comportamiento normal y utilizarlo para filtrar cualquier anomalía."
   ]
  },
  {
   "cell_type": "markdown",
   "metadata": {},
   "source": [
    "**Traza un gráfico de dispersión de los precios de los pedidos. Haz conclusiones y conjeturas.**"
   ]
  },
  {
   "cell_type": "markdown",
   "metadata": {},
   "source": [
    "* Se realizó el gráfico registrando la cantidad de ingreso por pedido utilizando el dataset 'pedidos'."
   ]
  },
  {
   "cell_type": "code",
   "execution_count": 60,
   "metadata": {},
   "outputs": [
    {
     "data": {
      "image/png": "[encoded data removed]",
      "text/plain": [
       "<Figure size 640x480 with 1 Axes>"
      ]
     },
     "metadata": {},
     "output_type": "display_data"
    }
   ],
   "source": [
    "x_values = pd.Series(range(0, len(pedidos['revenue'])))\n",
    "plt.scatter(x_values, pedidos['revenue'])\n",
    "plt.title('Dispersión del ingreso por pedido')\n",
    "plt.xlabel('Pedidos')\n",
    "plt.ylabel('Ingresos de los pedidos')\n",
    "plt.grid(True)\n",
    "plt.tight_layout()\n",
    "plt.show()"
   ]
  },
  {
   "cell_type": "markdown",
   "metadata": {},
   "source": [
    "**Observaciones:** La gran mayoría de los pedidos generan ingresos relativamente bajos, concentrados en la parte inferior del eje Y. Sin embargo, existen algunos pedidos que generan ingresos significativamente más altos, representando puntos aislados en la parte superior del gráfico.La mayoría de los pedidos generan ingresos similares, lo que indica una baja variabilidad en el valor de los productos o servicios ofrecidos.Existe un pequeño grupo de pedidos que generan ingresos mucho más altos que el promedio. Estos pedidos podrían corresponder a productos o servicios premium, ventas a grandes clientes o promociones especiales.  Para maximizar los ingresos altos, es importante identificar estos pedidos y desarrollar estrategias para aumentar su frecuencia. "
   ]
  },
  {
   "cell_type": "markdown",
   "metadata": {},
   "source": [
    "**Calcula los percentiles 95 y 99 de los precios de los pedidos. Define el punto en el cual un punto de datos se convierte en una anomalía.**"
   ]
  },
  {
   "cell_type": "code",
   "execution_count": 61,
   "metadata": {},
   "outputs": [],
   "source": [
    "precios_por_pedido = pedidos.groupby('transactionId')['revenue'].sum().reset_index()"
   ]
  },
  {
   "cell_type": "code",
   "execution_count": 62,
   "metadata": {},
   "outputs": [
    {
     "data": {
      "text/html": [
       "<div>\n",
       "<style scoped>\n",
       "    .dataframe tbody tr th:only-of-type {\n",
       "        vertical-align: middle;\n",
       "    }\n",
       "\n",
       "    .dataframe tbody tr th {\n",
       "        vertical-align: top;\n",
       "    }\n",
       "\n",
       "    .dataframe thead th {\n",
       "        text-align: right;\n",
       "    }\n",
       "</style>\n",
       "<table border=\"1\" class=\"dataframe\">\n",
       "  <thead>\n",
       "    <tr style=\"text-align: right;\">\n",
       "      <th></th>\n",
       "      <th>transactionId</th>\n",
       "      <th>revenue</th>\n",
       "    </tr>\n",
       "  </thead>\n",
       "  <tbody>\n",
       "    <tr>\n",
       "      <th>0</th>\n",
       "      <td>1062393</td>\n",
       "      <td>100.8</td>\n",
       "    </tr>\n",
       "    <tr>\n",
       "      <th>1</th>\n",
       "      <td>4919758</td>\n",
       "      <td>40.2</td>\n",
       "    </tr>\n",
       "    <tr>\n",
       "      <th>2</th>\n",
       "      <td>7210578</td>\n",
       "      <td>60.5</td>\n",
       "    </tr>\n",
       "    <tr>\n",
       "      <th>3</th>\n",
       "      <td>8131427</td>\n",
       "      <td>75.5</td>\n",
       "    </tr>\n",
       "    <tr>\n",
       "      <th>4</th>\n",
       "      <td>11068804</td>\n",
       "      <td>75.7</td>\n",
       "    </tr>\n",
       "    <tr>\n",
       "      <th>...</th>\n",
       "      <td>...</td>\n",
       "      <td>...</td>\n",
       "    </tr>\n",
       "    <tr>\n",
       "      <th>1098</th>\n",
       "      <td>4276811111</td>\n",
       "      <td>55.2</td>\n",
       "    </tr>\n",
       "    <tr>\n",
       "      <th>1099</th>\n",
       "      <td>4279408906</td>\n",
       "      <td>15.8</td>\n",
       "    </tr>\n",
       "    <tr>\n",
       "      <th>1100</th>\n",
       "      <td>4281129020</td>\n",
       "      <td>60.2</td>\n",
       "    </tr>\n",
       "    <tr>\n",
       "      <th>1101</th>\n",
       "      <td>4288552432</td>\n",
       "      <td>10.8</td>\n",
       "    </tr>\n",
       "    <tr>\n",
       "      <th>1102</th>\n",
       "      <td>4293855558</td>\n",
       "      <td>30.5</td>\n",
       "    </tr>\n",
       "  </tbody>\n",
       "</table>\n",
       "<p>1103 rows × 2 columns</p>\n",
       "</div>"
      ],
      "text/plain": [
       "      transactionId  revenue\n",
       "0           1062393    100.8\n",
       "1           4919758     40.2\n",
       "2           7210578     60.5\n",
       "3           8131427     75.5\n",
       "4          11068804     75.7\n",
       "...             ...      ...\n",
       "1098     4276811111     55.2\n",
       "1099     4279408906     15.8\n",
       "1100     4281129020     60.2\n",
       "1101     4288552432     10.8\n",
       "1102     4293855558     30.5\n",
       "\n",
       "[1103 rows x 2 columns]"
      ]
     },
     "execution_count": 62,
     "metadata": {},
     "output_type": "execute_result"
    }
   ],
   "source": [
    "precios_por_pedido"
   ]
  },
  {
   "cell_type": "code",
   "execution_count": 63,
   "metadata": {},
   "outputs": [
    {
     "data": {
      "text/plain": [
       "array([419.14, 830.01])"
      ]
     },
     "execution_count": 63,
     "metadata": {},
     "output_type": "execute_result"
    }
   ],
   "source": [
    "np.percentile(pedidos['revenue'], [95, 99])"
   ]
  },
  {
   "cell_type": "markdown",
   "metadata": {},
   "source": [
    "**Observación:** El 95% de los pedidos tienen un valor de 419.14 o menos. Esto significa que el 5% de los pedidos más caros tienen un valor superior a 419.14.El 99% de los pedidos tienen un valor de 830.01  o menos. Esto implica que solo el 1% de los pedidos más caros tienen un valor superior a 830.01.Si un pedido tiene un valor superior a 830.01 (percentil 99), podríamos considerarlo como un caso atípico o una anomalía."
   ]
  },
  {
   "cell_type": "markdown",
   "metadata": {},
   "source": [
    "**Encuentra la significancia estadística de la diferencia en la conversión entre los grupos utilizando los datos en bruto. Haz conclusiones y conjeturas.**"
   ]
  },
  {
   "cell_type": "code",
   "execution_count": 64,
   "metadata": {},
   "outputs": [],
   "source": [
    "ordersByUsersA = pedidos[pedidos['group']=='A'].groupby('visitorId', as_index=False).agg({'transactionId' : pd.Series.nunique})\n",
    "ordersByUsersA.columns = ['visitorId', 'orders']\n"
   ]
  },
  {
   "cell_type": "code",
   "execution_count": 65,
   "metadata": {},
   "outputs": [],
   "source": [
    "ordersByUsersB = pedidos[pedidos['group']=='B'].groupby('visitorId', as_index=False).agg({'transactionId' : pd.Series.nunique})\n",
    "ordersByUsersB.columns = ['visitorId', 'orders']"
   ]
  },
  {
   "cell_type": "code",
   "execution_count": 66,
   "metadata": {},
   "outputs": [],
   "source": [
    "sampleA = pd.concat([ordersByUsersA['orders'],pd.Series(0, index=np.arange(visitas[visitas['group']=='A']['visits'].sum() - len(ordersByUsersA['orders'])), name='orders')],axis=0)"
   ]
  },
  {
   "cell_type": "code",
   "execution_count": 67,
   "metadata": {},
   "outputs": [],
   "source": [
    "sampleB = pd.concat([ordersByUsersA['orders'],pd.Series(0, index=np.arange(visitas[visitas['group']=='B']['visits'].sum() - len(ordersByUsersA['orders'])), name='orders')],axis=0)"
   ]
  },
  {
   "cell_type": "code",
   "execution_count": 68,
   "metadata": {},
   "outputs": [
    {
     "name": "stdout",
     "output_type": "stream",
     "text": [
      "0.881\n",
      "-0.010\n"
     ]
    }
   ],
   "source": [
    "print(\"{0:.3f}\".format(stats.mannwhitneyu(sampleA, sampleB)[1]))\n",
    "\n",
    "print(\"{0:.3f}\".format(sampleB.mean()/sampleA.mean()-1))"
   ]
  },
  {
   "cell_type": "markdown",
   "metadata": {},
   "source": [
    "**Observaciones:** El valor de p de 0.881 indica que no hay una diferencia estadísticamente significativa en la tasa de conversión entre los grupos A y B, ya que este valor está muy por encima del umbral comúnmente utilizado de 0.05. Esto sugiere que las conversiones en ambos grupos no son lo suficientemente diferentes como para concluir que cualquier cambio observado se deba a un efecto de la intervención y no al azar.La diferencia porcentual promedio de -0.010 sugiere que el grupo B tiene una tasa de conversión ligeramente menor que el grupo A (un 1% menor), pero esta diferencia es muy pequeña y no es significativa desde el punto de vista estadístico.ado que no hay evidencia estadísticamente significativa de que la tasa de conversión difiera entre los grupos, es probable que la intervención o modificación aplicada al grupo B no haya tenido un impacto en la tasa de conversión.Es posible que se necesiten ajustes en la intervención o experimentar con otras variables para lograr un impacto medible en la conversión."
   ]
  },
  {
   "cell_type": "markdown",
   "metadata": {},
   "source": [
    "**Encuentra la significancia estadística de la diferencia en el tamaño promedio de pedido entre los grupos utilizando los datos en bruto. Haz conclusiones y conjeturas.**"
   ]
  },
  {
   "cell_type": "code",
   "execution_count": 69,
   "metadata": {},
   "outputs": [
    {
     "name": "stdout",
     "output_type": "stream",
     "text": [
      "0.653\n",
      "0.242\n"
     ]
    }
   ],
   "source": [
    "print('{0:.3f}'.format(stats.mannwhitneyu(pedidos[pedidos['group']=='A']['revenue'], pedidos[pedidos['group']=='B']['revenue'])[1]))\n",
    "print('{0:.3f}'.format(pedidos[pedidos['group']=='B']['revenue'].mean()/pedidos[pedidos['group']=='A']['revenue'].mean()-1))"
   ]
  },
  {
   "cell_type": "markdown",
   "metadata": {},
   "source": [
    "**Observaciones:** Un valor de p de 0.653 indica que no hay una diferencia estadísticamente significativa en el tamaño promedio de pedido entre los grupos A y B.La diferencia porcentual en el tamaño promedio de pedido es de 24.2%, lo que sugiere que, en promedio, el grupo B tiene pedidos un 24.2% mayores que el grupo A. Aunque esto puede parecer una diferencia notable, el análisis estadístico indica que esta variación no es estadísticamente significativa y podría deberse al azar.\n"
   ]
  },
  {
   "cell_type": "markdown",
   "metadata": {},
   "source": [
    "**Encuentra la significancia estadística de la diferencia en la conversión entre los grupos utilizando los datos filtrados. Haz conclusiones y conjeturas.**"
   ]
  },
  {
   "cell_type": "code",
   "execution_count": 70,
   "metadata": {},
   "outputs": [
    {
     "name": "stdout",
     "output_type": "stream",
     "text": [
      "568     113298937\n",
      "1099    148427295\n",
      "18      199603092\n",
      "928     204675465\n",
      "35      249864742\n",
      "Name: visitorId, dtype: int64\n",
      "(66,)\n"
     ]
    }
   ],
   "source": [
    "usersWithManyOrders = pd.concat([ordersByUsersA[ordersByUsersA['orders'] > 2]['visitorId'], ordersByUsersB[ordersByUsersB['orders'] > 2]['visitorId']], axis = 0)\n",
    "usersWithExpensiveOrders = pedidos[pedidos['revenue'] > 419]['visitorId']\n",
    "abnormalUsers = pd.concat([usersWithManyOrders, usersWithExpensiveOrders], axis = 0).drop_duplicates().sort_values()\n",
    "print(abnormalUsers.head(5))\n",
    "print(abnormalUsers.shape)"
   ]
  },
  {
   "cell_type": "markdown",
   "metadata": {},
   "source": [
    "En total, tenemos 66 usuarios anómalos. "
   ]
  },
  {
   "cell_type": "markdown",
   "metadata": {},
   "source": [
    "**Encuentra la significancia estadística de la diferencia en el tamaño promedio de pedido entre los grupos utilizando los datos filtrados. Haz conclusiones y conjeturas.**"
   ]
  },
  {
   "cell_type": "code",
   "execution_count": 71,
   "metadata": {},
   "outputs": [],
   "source": [
    "sampleAFiltered = pd.concat([ordersByUsersA[np.logical_not(ordersByUsersA['visitorId'].isin(abnormalUsers))]['orders'],pd.Series(0, index=np.arange(visitas[visitas['group']=='A']['visits'].sum() - len(ordersByUsersA['orders'])),name='orders')],axis=0)\n",
    "\n",
    "sampleBFiltered = pd.concat([ordersByUsersB[np.logical_not(ordersByUsersB['visitorId'].isin(abnormalUsers))]['orders'],pd.Series(0, index=np.arange(visitas[visitas['group']=='B']['visits'].sum() - len(ordersByUsersB['orders'])),name='orders')],axis=0)"
   ]
  },
  {
   "cell_type": "code",
   "execution_count": 72,
   "metadata": {},
   "outputs": [
    {
     "name": "stdout",
     "output_type": "stream",
     "text": [
      "0.015\n",
      "0.174\n"
     ]
    }
   ],
   "source": [
    "print(\"{0:.3f}\".format(stats.mannwhitneyu(sampleAFiltered, sampleBFiltered)[1]))\n",
    "print(\"{0:.3f}\".format(sampleBFiltered.mean()/sampleAFiltered.mean()-1))"
   ]
  },
  {
   "cell_type": "markdown",
   "metadata": {},
   "source": [
    "**Observaciones:** Un valor de p de 0.015 indica que la diferencia en el tamaño promedio de pedido entre los grupos A y B es estadísticamente significativa al nivel de significancia típico de 0.05. Esto significa que, después de filtrar los datos para eliminar usuarios anómalos, la diferencia observada en el tamaño de pedido promedio entre los dos grupos no parece deberse al azar, sino a un efecto real. La diferencia porcentual muestra que el grupo B tiene un tamaño de pedido promedio un 17.4% mayor que el grupo A. Dado que esta diferencia es significativa estadísticamente, sugiere que el grupo B efectivamente tiene pedidos más grandes en promedio, lo que podría deberse a la intervención o cambio aplicado. A diferencia del análisis con los datos en bruto, los datos filtrados revelan una diferencia estadísticamente significativa en el tamaño de pedido promedio. Esto sugiere que los usuarios anómalos, que fueron excluidos en esta ocasión, podrían haber estado afectando la interpretación inicial de los datos.La significancia estadística observada en el grupo B sugiere que la intervención aplicada en este grupo podría estar impulsando un tamaño promedio de pedido más alto. "
   ]
  },
  {
   "cell_type": "code",
   "execution_count": 73,
   "metadata": {},
   "outputs": [
    {
     "name": "stdout",
     "output_type": "stream",
     "text": [
      "0.576\n",
      "-0.044\n"
     ]
    }
   ],
   "source": [
    "print(\"{0:.3f}\".format(stats.mannwhitneyu(\n",
    "    pedidos[np.logical_and(\n",
    "        pedidos['group']=='A',  \n",
    "        np.logical_not(pedidos['visitorId'].isin(abnormalUsers)))]['revenue'], \n",
    "    pedidos[np.logical_and(\n",
    "        pedidos['group']=='B',  \n",
    "        np.logical_not(pedidos['visitorId'].isin(abnormalUsers)))]['revenue']  \n",
    ")[1])) \n",
    "\n",
    "\n",
    "print(\"{0:.3f}\".format(\n",
    "    pedidos[np.logical_and(pedidos['group']=='B', \n",
    "           np.logical_not(pedidos['visitorId'].isin(abnormalUsers)))]['revenue'].mean() /  \n",
    "    pedidos[np.logical_and(pedidos['group']=='A', \n",
    "           np.logical_not(pedidos['visitorId'].isin(abnormalUsers)))]['revenue'].mean() - 1))       \n"
   ]
  },
  {
   "cell_type": "markdown",
   "metadata": {},
   "source": [
    "**Observaciones:** Un valor de p de 0.576 indica que no hay una diferencia estadísticamente significativa en el tamaño promedio de los pedidos entre los grupos A y B después de filtrar los usuarios anómalos. Este resultado sugiere que cualquier diferencia observada en el tamaño promedio de los pedidos es probablemente debida al azar y no a un efecto real de la intervención.La diferencia porcentual entre los grupos muestra que el grupo B tiene un tamaño de pedido promedio un 4.4% menor que el grupo A. Sin embargo, dado que esta diferencia no es estadísticamente significativa, no se puede concluir que el grupo B tenga un tamaño de pedido promedio menor de forma concluyente.La intervención en el grupo B no parece tener un impacto significativo en el tamaño promedio de los pedidos, según estos datos filtrados. Es decir, una vez eliminados los usuarios anómalos, no se observa una diferencia relevante en el tamaño promedio de pedido entre los dos grupos.Dado que no hay evidencia estadísticamente significativa de un efecto positivo de la intervención sobre el tamaño de pedido, se podría reconsiderar la intervención en el grupo B o revisar la estrategia aplicada. "
   ]
  },
  {
   "cell_type": "markdown",
   "metadata": {},
   "source": [
    "**Toma una decisión basada en los resultados de la prueba. Las decisiones posibles son: 1. Parar la prueba, considerar a uno de los grupos como líder. 2. Parar la prueba, concluir que no hay diferencia entre los grupos. 3. Continuar la prueba.**"
   ]
  },
  {
   "cell_type": "markdown",
   "metadata": {},
   "source": [
    "**Conclusión de los Resultados:**\n",
    "\n",
    "1. **Tasa de Conversión:** La prueba indica que no hay una diferencia estadísticamente significativa en la tasa de conversión entre los grupos A y B (valor de p = 0.881). La diferencia en la tasa de conversión es muy pequeña (-1%) y no significativa. Esto sugiere que la intervención en el grupo B no tuvo un efecto notable en la tasa de conversión.\n",
    "\n",
    "2. **Tamaño Promedio de Pedido (Datos en Bruto):** Cuando se analizan los datos sin filtrar, la diferencia en el tamaño promedio de pedido no es estadísticamente significativa (valor de p = 0.653). Aunque el grupo B muestra un tamaño de pedido un 24.2% mayor en promedio, esta diferencia podría deberse al azar y no a un efecto de la intervención.\n",
    "\n",
    "3. **Tamaño Promedio de Pedido (Datos Filtrados):** En los datos filtrados para eliminar usuarios anómalos, la diferencia en el tamaño promedio de pedido se vuelve estadísticamente significativa (valor de p = 0.015), con el grupo B teniendo un tamaño de pedido promedio un 17.4% mayor que el grupo A. Esto sugiere un posible efecto real de la intervención en el tamaño de los pedidos.\n",
    "\n",
    "4. **Tamaño Promedio de Pedido (Datos Filtrados):** Otro análisis de los datos filtrados muestra nuevamente que la diferencia no es significativa (valor de p = 0.576), indicando que la intervención podría no estar teniendo un efecto claro o consistente sobre el tamaño de los pedidos.\n",
    "\n",
    "**Decisión: Parar la prueba, concluir que no hay diferencia entre los grupos.**\n",
    "\n",
    "**Justificación de la Decisión**\n",
    "\n",
    "Dado que los análisis muestran una falta de significancia estadística en las métricas clave (tasa de conversión y tamaño promedio de pedido en la mayoría de las pruebas), no hay suficiente evidencia para continuar con la prueba o para considerar que uno de los grupos es superior al otro. Aunque hubo una diferencia significativa en un análisis del tamaño promedio de pedido en los datos filtrados, los resultados inconsistentes sugieren que esta diferencia puede no ser robusta o lo suficientemente estable para tomar decisiones sobre la intervención.\n",
    "\n",
    "Por lo tanto, la recomendación es **detener la prueba y concluir que no hay diferencia significativa** entre los grupos en términos de tasa de conversión y tamaño promedio de pedido, lo cual sugiere que la intervención aplicada al grupo B no tiene un efecto claro o consistente."
   ]
  }
 ],
 "metadata": {
  "ExecuteTimeLog": [
   {
    "duration": 9,
    "start_time": "2024-10-19T23:12:25.009Z"
   },
   {
    "duration": 2139,
    "start_time": "2024-10-19T23:14:10.954Z"
   },
   {
    "duration": 190,
    "start_time": "2024-10-19T23:17:00.899Z"
   },
   {
    "duration": 363,
    "start_time": "2024-10-19T23:17:34.461Z"
   },
   {
    "duration": 57,
    "start_time": "2024-10-19T23:19:03.986Z"
   },
   {
    "duration": 8,
    "start_time": "2024-10-19T23:20:06.267Z"
   },
   {
    "duration": 11,
    "start_time": "2024-10-19T23:22:25.502Z"
   },
   {
    "duration": 8,
    "start_time": "2024-10-19T23:23:13.923Z"
   },
   {
    "duration": 7,
    "start_time": "2024-10-19T23:32:22.400Z"
   },
   {
    "duration": 415,
    "start_time": "2024-10-19T23:34:42.085Z"
   },
   {
    "duration": 48,
    "start_time": "2024-10-19T23:34:42.502Z"
   },
   {
    "duration": 7,
    "start_time": "2024-10-19T23:34:42.551Z"
   },
   {
    "duration": 5,
    "start_time": "2024-10-19T23:34:42.560Z"
   },
   {
    "duration": 8,
    "start_time": "2024-10-19T23:34:42.567Z"
   },
   {
    "duration": 9,
    "start_time": "2024-10-19T23:36:12.595Z"
   },
   {
    "duration": 454,
    "start_time": "2024-10-19T23:46:58.943Z"
   },
   {
    "duration": 50,
    "start_time": "2024-10-19T23:46:59.399Z"
   },
   {
    "duration": 7,
    "start_time": "2024-10-19T23:46:59.451Z"
   },
   {
    "duration": 5,
    "start_time": "2024-10-19T23:46:59.461Z"
   },
   {
    "duration": 9,
    "start_time": "2024-10-19T23:46:59.467Z"
   },
   {
    "duration": 8,
    "start_time": "2024-10-19T23:46:59.478Z"
   },
   {
    "duration": 3,
    "start_time": "2024-10-19T23:46:59.488Z"
   },
   {
    "duration": 5,
    "start_time": "2024-10-19T23:47:34.277Z"
   },
   {
    "duration": 4,
    "start_time": "2024-10-19T23:48:12.459Z"
   },
   {
    "duration": 5,
    "start_time": "2024-10-19T23:51:55.159Z"
   },
   {
    "duration": 5,
    "start_time": "2024-10-19T23:52:44.733Z"
   },
   {
    "duration": 3,
    "start_time": "2024-10-20T00:18:55.253Z"
   },
   {
    "duration": 7,
    "start_time": "2024-10-20T00:19:40.221Z"
   },
   {
    "duration": 9,
    "start_time": "2024-10-20T00:22:02.577Z"
   },
   {
    "duration": 4,
    "start_time": "2024-10-20T00:29:46.847Z"
   },
   {
    "duration": 10,
    "start_time": "2024-10-20T00:30:29.346Z"
   },
   {
    "duration": 5,
    "start_time": "2024-10-20T00:51:38.823Z"
   },
   {
    "duration": 5,
    "start_time": "2024-10-20T00:52:46.289Z"
   },
   {
    "duration": 7,
    "start_time": "2024-10-20T00:53:51.575Z"
   },
   {
    "duration": 8,
    "start_time": "2024-10-20T00:54:44.512Z"
   },
   {
    "duration": 3,
    "start_time": "2024-10-20T00:55:45.939Z"
   },
   {
    "duration": 8,
    "start_time": "2024-10-20T00:55:55.197Z"
   },
   {
    "duration": 5,
    "start_time": "2024-10-20T00:59:12.840Z"
   },
   {
    "duration": 5,
    "start_time": "2024-10-20T00:59:42.783Z"
   },
   {
    "duration": 537,
    "start_time": "2024-10-20T01:21:59.587Z"
   },
   {
    "duration": 5,
    "start_time": "2024-10-20T01:47:02.800Z"
   },
   {
    "duration": 19,
    "start_time": "2024-10-20T01:47:45.362Z"
   },
   {
    "duration": 4,
    "start_time": "2024-10-20T01:47:55.954Z"
   },
   {
    "duration": 4,
    "start_time": "2024-10-20T01:48:12.179Z"
   },
   {
    "duration": 401,
    "start_time": "2024-10-20T01:51:42.704Z"
   },
   {
    "duration": 46,
    "start_time": "2024-10-20T01:51:43.107Z"
   },
   {
    "duration": 6,
    "start_time": "2024-10-20T01:51:43.155Z"
   },
   {
    "duration": 5,
    "start_time": "2024-10-20T01:51:43.163Z"
   },
   {
    "duration": 20,
    "start_time": "2024-10-20T01:51:43.171Z"
   },
   {
    "duration": 10,
    "start_time": "2024-10-20T01:51:43.193Z"
   },
   {
    "duration": 3,
    "start_time": "2024-10-20T01:51:43.205Z"
   },
   {
    "duration": 22,
    "start_time": "2024-10-20T01:51:43.210Z"
   },
   {
    "duration": 4,
    "start_time": "2024-10-20T01:51:43.234Z"
   },
   {
    "duration": 5,
    "start_time": "2024-10-20T01:51:43.240Z"
   },
   {
    "duration": 7,
    "start_time": "2024-10-20T01:51:43.246Z"
   },
   {
    "duration": 9,
    "start_time": "2024-10-20T01:51:43.254Z"
   },
   {
    "duration": 4,
    "start_time": "2024-10-20T01:51:43.264Z"
   },
   {
    "duration": 8,
    "start_time": "2024-10-20T01:51:43.272Z"
   },
   {
    "duration": 5,
    "start_time": "2024-10-20T01:51:43.281Z"
   },
   {
    "duration": 46,
    "start_time": "2024-10-20T01:51:43.288Z"
   },
   {
    "duration": 7,
    "start_time": "2024-10-20T01:51:43.336Z"
   },
   {
    "duration": 7,
    "start_time": "2024-10-20T01:51:43.345Z"
   },
   {
    "duration": 3,
    "start_time": "2024-10-20T01:51:43.354Z"
   },
   {
    "duration": 8,
    "start_time": "2024-10-20T01:51:43.359Z"
   },
   {
    "duration": 5,
    "start_time": "2024-10-20T01:51:43.369Z"
   },
   {
    "duration": 4,
    "start_time": "2024-10-20T01:51:43.376Z"
   },
   {
    "duration": 49,
    "start_time": "2024-10-20T01:51:43.382Z"
   },
   {
    "duration": 4,
    "start_time": "2024-10-20T01:51:43.434Z"
   },
   {
    "duration": 0,
    "start_time": "2024-10-20T01:51:43.440Z"
   },
   {
    "duration": 0,
    "start_time": "2024-10-20T01:51:43.442Z"
   },
   {
    "duration": 0,
    "start_time": "2024-10-20T01:51:43.443Z"
   },
   {
    "duration": 438,
    "start_time": "2024-10-20T01:51:56.874Z"
   },
   {
    "duration": 41,
    "start_time": "2024-10-20T01:51:57.314Z"
   },
   {
    "duration": 5,
    "start_time": "2024-10-20T01:51:57.356Z"
   },
   {
    "duration": 6,
    "start_time": "2024-10-20T01:51:57.363Z"
   },
   {
    "duration": 10,
    "start_time": "2024-10-20T01:51:57.371Z"
   },
   {
    "duration": 8,
    "start_time": "2024-10-20T01:51:57.382Z"
   },
   {
    "duration": 2,
    "start_time": "2024-10-20T01:51:57.392Z"
   },
   {
    "duration": 4,
    "start_time": "2024-10-20T01:51:57.396Z"
   },
   {
    "duration": 33,
    "start_time": "2024-10-20T01:51:57.401Z"
   },
   {
    "duration": 4,
    "start_time": "2024-10-20T01:51:57.436Z"
   },
   {
    "duration": 7,
    "start_time": "2024-10-20T01:51:57.442Z"
   },
   {
    "duration": 8,
    "start_time": "2024-10-20T01:51:57.451Z"
   },
   {
    "duration": 5,
    "start_time": "2024-10-20T01:51:57.461Z"
   },
   {
    "duration": 10,
    "start_time": "2024-10-20T01:51:57.470Z"
   },
   {
    "duration": 5,
    "start_time": "2024-10-20T01:51:57.481Z"
   },
   {
    "duration": 49,
    "start_time": "2024-10-20T01:51:57.487Z"
   },
   {
    "duration": 7,
    "start_time": "2024-10-20T01:51:57.537Z"
   },
   {
    "duration": 16,
    "start_time": "2024-10-20T01:51:57.545Z"
   },
   {
    "duration": 3,
    "start_time": "2024-10-20T01:51:57.563Z"
   },
   {
    "duration": 7,
    "start_time": "2024-10-20T01:51:57.568Z"
   },
   {
    "duration": 5,
    "start_time": "2024-10-20T01:51:57.576Z"
   },
   {
    "duration": 6,
    "start_time": "2024-10-20T01:51:57.583Z"
   },
   {
    "duration": 4,
    "start_time": "2024-10-20T01:51:57.590Z"
   },
   {
    "duration": 39,
    "start_time": "2024-10-20T01:51:57.596Z"
   },
   {
    "duration": 4,
    "start_time": "2024-10-20T01:51:57.637Z"
   },
   {
    "duration": 3,
    "start_time": "2024-10-20T01:51:57.642Z"
   },
   {
    "duration": 3,
    "start_time": "2024-10-20T01:51:57.651Z"
   },
   {
    "duration": 398,
    "start_time": "2024-10-20T01:52:45.418Z"
   },
   {
    "duration": 53,
    "start_time": "2024-10-20T01:52:45.819Z"
   },
   {
    "duration": 6,
    "start_time": "2024-10-20T01:52:45.874Z"
   },
   {
    "duration": 6,
    "start_time": "2024-10-20T01:52:45.881Z"
   },
   {
    "duration": 7,
    "start_time": "2024-10-20T01:52:45.890Z"
   },
   {
    "duration": 8,
    "start_time": "2024-10-20T01:52:45.899Z"
   },
   {
    "duration": 4,
    "start_time": "2024-10-20T01:52:45.932Z"
   },
   {
    "duration": 5,
    "start_time": "2024-10-20T01:52:45.937Z"
   },
   {
    "duration": 5,
    "start_time": "2024-10-20T01:52:45.943Z"
   },
   {
    "duration": 5,
    "start_time": "2024-10-20T01:52:45.949Z"
   },
   {
    "duration": 7,
    "start_time": "2024-10-20T01:52:45.955Z"
   },
   {
    "duration": 8,
    "start_time": "2024-10-20T01:52:45.963Z"
   },
   {
    "duration": 4,
    "start_time": "2024-10-20T01:52:45.972Z"
   },
   {
    "duration": 7,
    "start_time": "2024-10-20T01:52:45.980Z"
   },
   {
    "duration": 5,
    "start_time": "2024-10-20T01:52:45.989Z"
   },
   {
    "duration": 37,
    "start_time": "2024-10-20T01:52:45.995Z"
   },
   {
    "duration": 7,
    "start_time": "2024-10-20T01:52:46.033Z"
   },
   {
    "duration": 11,
    "start_time": "2024-10-20T01:52:46.042Z"
   },
   {
    "duration": 3,
    "start_time": "2024-10-20T01:52:46.055Z"
   },
   {
    "duration": 8,
    "start_time": "2024-10-20T01:52:46.060Z"
   },
   {
    "duration": 5,
    "start_time": "2024-10-20T01:52:46.070Z"
   },
   {
    "duration": 59,
    "start_time": "2024-10-20T01:52:46.077Z"
   },
   {
    "duration": 5,
    "start_time": "2024-10-20T01:52:46.138Z"
   },
   {
    "duration": 6,
    "start_time": "2024-10-20T01:52:46.146Z"
   },
   {
    "duration": 13,
    "start_time": "2024-10-20T01:52:46.155Z"
   },
   {
    "duration": 4,
    "start_time": "2024-10-20T01:52:46.170Z"
   },
   {
    "duration": 2,
    "start_time": "2024-10-20T01:52:46.176Z"
   },
   {
    "duration": 396,
    "start_time": "2024-10-20T01:53:09.607Z"
   },
   {
    "duration": 42,
    "start_time": "2024-10-20T01:53:10.005Z"
   },
   {
    "duration": 7,
    "start_time": "2024-10-20T01:53:10.049Z"
   },
   {
    "duration": 4,
    "start_time": "2024-10-20T01:53:10.058Z"
   },
   {
    "duration": 9,
    "start_time": "2024-10-20T01:53:10.063Z"
   },
   {
    "duration": 9,
    "start_time": "2024-10-20T01:53:10.073Z"
   },
   {
    "duration": 3,
    "start_time": "2024-10-20T01:53:10.084Z"
   },
   {
    "duration": 4,
    "start_time": "2024-10-20T01:53:10.088Z"
   },
   {
    "duration": 43,
    "start_time": "2024-10-20T01:53:10.094Z"
   },
   {
    "duration": 5,
    "start_time": "2024-10-20T01:53:10.141Z"
   },
   {
    "duration": 7,
    "start_time": "2024-10-20T01:53:10.147Z"
   },
   {
    "duration": 9,
    "start_time": "2024-10-20T01:53:10.155Z"
   },
   {
    "duration": 4,
    "start_time": "2024-10-20T01:53:10.166Z"
   },
   {
    "duration": 9,
    "start_time": "2024-10-20T01:53:10.171Z"
   },
   {
    "duration": 6,
    "start_time": "2024-10-20T01:53:10.182Z"
   },
   {
    "duration": 43,
    "start_time": "2024-10-20T01:53:10.189Z"
   },
   {
    "duration": 7,
    "start_time": "2024-10-20T01:53:10.234Z"
   },
   {
    "duration": 7,
    "start_time": "2024-10-20T01:53:10.243Z"
   },
   {
    "duration": 3,
    "start_time": "2024-10-20T01:53:10.253Z"
   },
   {
    "duration": 9,
    "start_time": "2024-10-20T01:53:10.257Z"
   },
   {
    "duration": 5,
    "start_time": "2024-10-20T01:53:10.267Z"
   },
   {
    "duration": 5,
    "start_time": "2024-10-20T01:53:10.274Z"
   },
   {
    "duration": 4,
    "start_time": "2024-10-20T01:53:10.281Z"
   },
   {
    "duration": 6,
    "start_time": "2024-10-20T01:53:10.286Z"
   },
   {
    "duration": 42,
    "start_time": "2024-10-20T01:53:10.293Z"
   },
   {
    "duration": 3,
    "start_time": "2024-10-20T01:53:10.337Z"
   },
   {
    "duration": 2,
    "start_time": "2024-10-20T01:53:10.342Z"
   },
   {
    "duration": 403,
    "start_time": "2024-10-20T01:54:00.207Z"
   },
   {
    "duration": 41,
    "start_time": "2024-10-20T01:54:00.612Z"
   },
   {
    "duration": 6,
    "start_time": "2024-10-20T01:54:00.655Z"
   },
   {
    "duration": 5,
    "start_time": "2024-10-20T01:54:00.662Z"
   },
   {
    "duration": 9,
    "start_time": "2024-10-20T01:54:00.670Z"
   },
   {
    "duration": 9,
    "start_time": "2024-10-20T01:54:00.680Z"
   },
   {
    "duration": 3,
    "start_time": "2024-10-20T01:54:00.691Z"
   },
   {
    "duration": 36,
    "start_time": "2024-10-20T01:54:00.695Z"
   },
   {
    "duration": 6,
    "start_time": "2024-10-20T01:54:00.732Z"
   },
   {
    "duration": 4,
    "start_time": "2024-10-20T01:54:00.740Z"
   },
   {
    "duration": 6,
    "start_time": "2024-10-20T01:54:00.746Z"
   },
   {
    "duration": 9,
    "start_time": "2024-10-20T01:54:00.754Z"
   },
   {
    "duration": 4,
    "start_time": "2024-10-20T01:54:00.764Z"
   },
   {
    "duration": 8,
    "start_time": "2024-10-20T01:54:00.772Z"
   },
   {
    "duration": 5,
    "start_time": "2024-10-20T01:54:00.782Z"
   },
   {
    "duration": 47,
    "start_time": "2024-10-20T01:54:00.788Z"
   },
   {
    "duration": 7,
    "start_time": "2024-10-20T01:54:00.836Z"
   },
   {
    "duration": 8,
    "start_time": "2024-10-20T01:54:00.844Z"
   },
   {
    "duration": 4,
    "start_time": "2024-10-20T01:54:00.853Z"
   },
   {
    "duration": 8,
    "start_time": "2024-10-20T01:54:00.858Z"
   },
   {
    "duration": 5,
    "start_time": "2024-10-20T01:54:00.868Z"
   },
   {
    "duration": 4,
    "start_time": "2024-10-20T01:54:00.875Z"
   },
   {
    "duration": 5,
    "start_time": "2024-10-20T01:54:00.882Z"
   },
   {
    "duration": 47,
    "start_time": "2024-10-20T01:54:00.889Z"
   },
   {
    "duration": 4,
    "start_time": "2024-10-20T01:54:00.938Z"
   },
   {
    "duration": 3,
    "start_time": "2024-10-20T01:54:00.944Z"
   },
   {
    "duration": 3,
    "start_time": "2024-10-20T01:54:00.949Z"
   },
   {
    "duration": 2,
    "start_time": "2024-10-20T01:54:00.953Z"
   },
   {
    "duration": 398,
    "start_time": "2024-10-20T01:54:42.608Z"
   },
   {
    "duration": 39,
    "start_time": "2024-10-20T01:54:43.008Z"
   },
   {
    "duration": 5,
    "start_time": "2024-10-20T01:54:43.049Z"
   },
   {
    "duration": 5,
    "start_time": "2024-10-20T01:54:43.056Z"
   },
   {
    "duration": 9,
    "start_time": "2024-10-20T01:54:43.063Z"
   },
   {
    "duration": 8,
    "start_time": "2024-10-20T01:54:43.074Z"
   },
   {
    "duration": 2,
    "start_time": "2024-10-20T01:54:43.084Z"
   },
   {
    "duration": 4,
    "start_time": "2024-10-20T01:54:43.088Z"
   },
   {
    "duration": 4,
    "start_time": "2024-10-20T01:54:43.094Z"
   },
   {
    "duration": 6,
    "start_time": "2024-10-20T01:54:43.133Z"
   },
   {
    "duration": 8,
    "start_time": "2024-10-20T01:54:43.140Z"
   },
   {
    "duration": 9,
    "start_time": "2024-10-20T01:54:43.149Z"
   },
   {
    "duration": 4,
    "start_time": "2024-10-20T01:54:43.160Z"
   },
   {
    "duration": 8,
    "start_time": "2024-10-20T01:54:43.168Z"
   },
   {
    "duration": 6,
    "start_time": "2024-10-20T01:54:43.178Z"
   },
   {
    "duration": 7,
    "start_time": "2024-10-20T01:54:43.186Z"
   },
   {
    "duration": 6,
    "start_time": "2024-10-20T01:54:43.231Z"
   },
   {
    "duration": 7,
    "start_time": "2024-10-20T01:54:43.239Z"
   },
   {
    "duration": 3,
    "start_time": "2024-10-20T01:54:43.248Z"
   },
   {
    "duration": 9,
    "start_time": "2024-10-20T01:54:43.252Z"
   },
   {
    "duration": 4,
    "start_time": "2024-10-20T01:54:43.263Z"
   },
   {
    "duration": 4,
    "start_time": "2024-10-20T01:54:43.269Z"
   },
   {
    "duration": 5,
    "start_time": "2024-10-20T01:54:43.274Z"
   },
   {
    "duration": 7,
    "start_time": "2024-10-20T01:54:43.280Z"
   },
   {
    "duration": 45,
    "start_time": "2024-10-20T01:54:43.289Z"
   },
   {
    "duration": 4,
    "start_time": "2024-10-20T01:54:43.335Z"
   },
   {
    "duration": 3,
    "start_time": "2024-10-20T01:54:43.341Z"
   },
   {
    "duration": 1,
    "start_time": "2024-10-20T01:54:43.347Z"
   },
   {
    "duration": 408,
    "start_time": "2024-10-20T01:55:21.390Z"
   },
   {
    "duration": 45,
    "start_time": "2024-10-20T01:55:21.800Z"
   },
   {
    "duration": 6,
    "start_time": "2024-10-20T01:55:21.846Z"
   },
   {
    "duration": 5,
    "start_time": "2024-10-20T01:55:21.853Z"
   },
   {
    "duration": 8,
    "start_time": "2024-10-20T01:55:21.860Z"
   },
   {
    "duration": 8,
    "start_time": "2024-10-20T01:55:21.870Z"
   },
   {
    "duration": 3,
    "start_time": "2024-10-20T01:55:21.880Z"
   },
   {
    "duration": 4,
    "start_time": "2024-10-20T01:55:21.884Z"
   },
   {
    "duration": 5,
    "start_time": "2024-10-20T01:55:21.890Z"
   },
   {
    "duration": 5,
    "start_time": "2024-10-20T01:55:21.931Z"
   },
   {
    "duration": 9,
    "start_time": "2024-10-20T01:55:21.937Z"
   },
   {
    "duration": 13,
    "start_time": "2024-10-20T01:55:21.947Z"
   },
   {
    "duration": 6,
    "start_time": "2024-10-20T01:55:21.961Z"
   },
   {
    "duration": 10,
    "start_time": "2024-10-20T01:55:21.971Z"
   },
   {
    "duration": 5,
    "start_time": "2024-10-20T01:55:21.982Z"
   },
   {
    "duration": 43,
    "start_time": "2024-10-20T01:55:21.989Z"
   },
   {
    "duration": 13,
    "start_time": "2024-10-20T01:55:22.035Z"
   },
   {
    "duration": 8,
    "start_time": "2024-10-20T01:55:22.050Z"
   },
   {
    "duration": 3,
    "start_time": "2024-10-20T01:55:22.060Z"
   },
   {
    "duration": 7,
    "start_time": "2024-10-20T01:55:22.065Z"
   },
   {
    "duration": 5,
    "start_time": "2024-10-20T01:55:22.074Z"
   },
   {
    "duration": 5,
    "start_time": "2024-10-20T01:55:22.080Z"
   },
   {
    "duration": 5,
    "start_time": "2024-10-20T01:55:22.086Z"
   },
   {
    "duration": 5,
    "start_time": "2024-10-20T01:55:22.092Z"
   },
   {
    "duration": 5,
    "start_time": "2024-10-20T01:55:22.132Z"
   },
   {
    "duration": 4,
    "start_time": "2024-10-20T01:55:22.139Z"
   },
   {
    "duration": 4,
    "start_time": "2024-10-20T01:55:22.144Z"
   },
   {
    "duration": 2,
    "start_time": "2024-10-20T01:55:22.150Z"
   },
   {
    "duration": 470,
    "start_time": "2024-10-20T01:56:22.353Z"
   },
   {
    "duration": 52,
    "start_time": "2024-10-20T01:56:22.826Z"
   },
   {
    "duration": 6,
    "start_time": "2024-10-20T01:56:22.880Z"
   },
   {
    "duration": 4,
    "start_time": "2024-10-20T01:56:22.888Z"
   },
   {
    "duration": 8,
    "start_time": "2024-10-20T01:56:22.896Z"
   },
   {
    "duration": 33,
    "start_time": "2024-10-20T01:56:22.905Z"
   },
   {
    "duration": 3,
    "start_time": "2024-10-20T01:56:22.939Z"
   },
   {
    "duration": 5,
    "start_time": "2024-10-20T01:56:22.943Z"
   },
   {
    "duration": 5,
    "start_time": "2024-10-20T01:56:22.949Z"
   },
   {
    "duration": 5,
    "start_time": "2024-10-20T01:56:22.956Z"
   },
   {
    "duration": 7,
    "start_time": "2024-10-20T01:56:22.962Z"
   },
   {
    "duration": 8,
    "start_time": "2024-10-20T01:56:22.971Z"
   },
   {
    "duration": 4,
    "start_time": "2024-10-20T01:56:22.981Z"
   },
   {
    "duration": 50,
    "start_time": "2024-10-20T01:56:22.988Z"
   },
   {
    "duration": 5,
    "start_time": "2024-10-20T01:56:23.040Z"
   },
   {
    "duration": 5,
    "start_time": "2024-10-20T01:56:23.047Z"
   },
   {
    "duration": 5,
    "start_time": "2024-10-20T01:56:23.054Z"
   },
   {
    "duration": 8,
    "start_time": "2024-10-20T01:56:23.061Z"
   },
   {
    "duration": 4,
    "start_time": "2024-10-20T01:56:23.070Z"
   },
   {
    "duration": 8,
    "start_time": "2024-10-20T01:56:23.077Z"
   },
   {
    "duration": 47,
    "start_time": "2024-10-20T01:56:23.087Z"
   },
   {
    "duration": 5,
    "start_time": "2024-10-20T01:56:23.136Z"
   },
   {
    "duration": 5,
    "start_time": "2024-10-20T01:56:23.144Z"
   },
   {
    "duration": 5,
    "start_time": "2024-10-20T01:56:23.151Z"
   },
   {
    "duration": 5,
    "start_time": "2024-10-20T01:56:23.158Z"
   },
   {
    "duration": 4,
    "start_time": "2024-10-20T01:56:23.164Z"
   },
   {
    "duration": 2,
    "start_time": "2024-10-20T01:56:23.170Z"
   },
   {
    "duration": 4,
    "start_time": "2024-10-20T02:27:59.543Z"
   },
   {
    "duration": 10,
    "start_time": "2024-10-20T02:28:15.986Z"
   },
   {
    "duration": 6,
    "start_time": "2024-10-20T02:28:57.421Z"
   },
   {
    "duration": 8,
    "start_time": "2024-10-22T01:28:05.155Z"
   },
   {
    "duration": 168,
    "start_time": "2024-10-22T02:07:15.884Z"
   },
   {
    "duration": 2160,
    "start_time": "2024-10-22T02:07:26.729Z"
   },
   {
    "duration": 8,
    "start_time": "2024-10-22T02:07:28.891Z"
   },
   {
    "duration": 6,
    "start_time": "2024-10-22T02:07:28.901Z"
   },
   {
    "duration": 6,
    "start_time": "2024-10-22T02:07:28.909Z"
   },
   {
    "duration": 9,
    "start_time": "2024-10-22T02:07:28.918Z"
   },
   {
    "duration": 8,
    "start_time": "2024-10-22T02:07:28.929Z"
   },
   {
    "duration": 3,
    "start_time": "2024-10-22T02:07:28.938Z"
   },
   {
    "duration": 4,
    "start_time": "2024-10-22T02:07:28.943Z"
   },
   {
    "duration": 38,
    "start_time": "2024-10-22T02:07:28.949Z"
   },
   {
    "duration": 6,
    "start_time": "2024-10-22T02:07:28.989Z"
   },
   {
    "duration": 8,
    "start_time": "2024-10-22T02:07:28.996Z"
   },
   {
    "duration": 9,
    "start_time": "2024-10-22T02:07:29.007Z"
   },
   {
    "duration": 6,
    "start_time": "2024-10-22T02:07:29.017Z"
   },
   {
    "duration": 8,
    "start_time": "2024-10-22T02:07:29.026Z"
   },
   {
    "duration": 5,
    "start_time": "2024-10-22T02:07:29.036Z"
   },
   {
    "duration": 46,
    "start_time": "2024-10-22T02:07:29.042Z"
   },
   {
    "duration": 7,
    "start_time": "2024-10-22T02:07:29.089Z"
   },
   {
    "duration": 9,
    "start_time": "2024-10-22T02:07:29.098Z"
   },
   {
    "duration": 4,
    "start_time": "2024-10-22T02:07:29.108Z"
   },
   {
    "duration": 8,
    "start_time": "2024-10-22T02:07:29.114Z"
   },
   {
    "duration": 5,
    "start_time": "2024-10-22T02:07:29.124Z"
   },
   {
    "duration": 5,
    "start_time": "2024-10-22T02:07:29.130Z"
   },
   {
    "duration": 7,
    "start_time": "2024-10-22T02:07:29.136Z"
   },
   {
    "duration": 20,
    "start_time": "2024-10-22T02:10:17.780Z"
   },
   {
    "duration": 12,
    "start_time": "2024-10-22T02:14:05.931Z"
   },
   {
    "duration": 165,
    "start_time": "2024-10-22T03:35:20.964Z"
   },
   {
    "duration": 2182,
    "start_time": "2024-10-22T03:36:44.343Z"
   },
   {
    "duration": 9,
    "start_time": "2024-10-22T03:36:46.527Z"
   },
   {
    "duration": 7,
    "start_time": "2024-10-22T03:36:46.537Z"
   },
   {
    "duration": 7,
    "start_time": "2024-10-22T03:36:46.547Z"
   },
   {
    "duration": 9,
    "start_time": "2024-10-22T03:36:46.556Z"
   },
   {
    "duration": 9,
    "start_time": "2024-10-22T03:36:46.566Z"
   },
   {
    "duration": 3,
    "start_time": "2024-10-22T03:36:46.576Z"
   },
   {
    "duration": 5,
    "start_time": "2024-10-22T03:36:46.580Z"
   },
   {
    "duration": 27,
    "start_time": "2024-10-22T03:36:46.586Z"
   },
   {
    "duration": 5,
    "start_time": "2024-10-22T03:36:46.615Z"
   },
   {
    "duration": 8,
    "start_time": "2024-10-22T03:36:46.622Z"
   },
   {
    "duration": 8,
    "start_time": "2024-10-22T03:36:46.632Z"
   },
   {
    "duration": 4,
    "start_time": "2024-10-22T03:36:46.641Z"
   },
   {
    "duration": 7,
    "start_time": "2024-10-22T03:36:46.648Z"
   },
   {
    "duration": 6,
    "start_time": "2024-10-22T03:36:46.656Z"
   },
   {
    "duration": 50,
    "start_time": "2024-10-22T03:36:46.663Z"
   },
   {
    "duration": 6,
    "start_time": "2024-10-22T03:36:46.715Z"
   },
   {
    "duration": 9,
    "start_time": "2024-10-22T03:36:46.722Z"
   },
   {
    "duration": 4,
    "start_time": "2024-10-22T03:36:46.733Z"
   },
   {
    "duration": 8,
    "start_time": "2024-10-22T03:36:46.738Z"
   },
   {
    "duration": 6,
    "start_time": "2024-10-22T03:36:46.748Z"
   },
   {
    "duration": 4,
    "start_time": "2024-10-22T03:36:46.756Z"
   },
   {
    "duration": 5,
    "start_time": "2024-10-22T03:36:46.762Z"
   },
   {
    "duration": 11,
    "start_time": "2024-10-22T03:36:46.810Z"
   },
   {
    "duration": 7,
    "start_time": "2024-10-22T03:36:46.823Z"
   },
   {
    "duration": 4,
    "start_time": "2024-10-22T03:36:46.831Z"
   },
   {
    "duration": 19,
    "start_time": "2024-10-22T03:53:05.391Z"
   },
   {
    "duration": 14,
    "start_time": "2024-10-22T04:06:50.460Z"
   },
   {
    "duration": 464,
    "start_time": "2024-10-22T04:25:16.520Z"
   },
   {
    "duration": 45,
    "start_time": "2024-10-22T04:25:16.986Z"
   },
   {
    "duration": 6,
    "start_time": "2024-10-22T04:25:17.033Z"
   },
   {
    "duration": 6,
    "start_time": "2024-10-22T04:25:17.041Z"
   },
   {
    "duration": 8,
    "start_time": "2024-10-22T04:25:17.050Z"
   },
   {
    "duration": 9,
    "start_time": "2024-10-22T04:25:17.059Z"
   },
   {
    "duration": 4,
    "start_time": "2024-10-22T04:25:17.069Z"
   },
   {
    "duration": 4,
    "start_time": "2024-10-22T04:25:17.074Z"
   },
   {
    "duration": 34,
    "start_time": "2024-10-22T04:25:17.079Z"
   },
   {
    "duration": 4,
    "start_time": "2024-10-22T04:25:17.115Z"
   },
   {
    "duration": 7,
    "start_time": "2024-10-22T04:25:17.121Z"
   },
   {
    "duration": 9,
    "start_time": "2024-10-22T04:25:17.129Z"
   },
   {
    "duration": 4,
    "start_time": "2024-10-22T04:25:17.140Z"
   },
   {
    "duration": 9,
    "start_time": "2024-10-22T04:25:17.148Z"
   },
   {
    "duration": 5,
    "start_time": "2024-10-22T04:25:17.159Z"
   },
   {
    "duration": 48,
    "start_time": "2024-10-22T04:25:17.166Z"
   },
   {
    "duration": 8,
    "start_time": "2024-10-22T04:25:17.216Z"
   },
   {
    "duration": 11,
    "start_time": "2024-10-22T04:25:17.228Z"
   },
   {
    "duration": 4,
    "start_time": "2024-10-22T04:25:17.240Z"
   },
   {
    "duration": 11,
    "start_time": "2024-10-22T04:25:17.246Z"
   },
   {
    "duration": 6,
    "start_time": "2024-10-22T04:25:17.258Z"
   },
   {
    "duration": 6,
    "start_time": "2024-10-22T04:25:17.266Z"
   },
   {
    "duration": 40,
    "start_time": "2024-10-22T04:25:17.274Z"
   },
   {
    "duration": 13,
    "start_time": "2024-10-22T04:25:17.316Z"
   },
   {
    "duration": 7,
    "start_time": "2024-10-22T04:25:17.331Z"
   },
   {
    "duration": 4,
    "start_time": "2024-10-22T04:25:17.339Z"
   },
   {
    "duration": 9,
    "start_time": "2024-10-22T04:25:17.345Z"
   },
   {
    "duration": 8,
    "start_time": "2024-10-22T04:25:17.355Z"
   },
   {
    "duration": 44,
    "start_time": "2024-10-22T04:25:17.365Z"
   },
   {
    "duration": 0,
    "start_time": "2024-10-22T04:25:17.411Z"
   },
   {
    "duration": 7,
    "start_time": "2024-10-22T04:25:45.426Z"
   },
   {
    "duration": 12,
    "start_time": "2024-10-22T04:25:46.754Z"
   },
   {
    "duration": 6,
    "start_time": "2024-10-22T04:27:27.308Z"
   },
   {
    "duration": 2,
    "start_time": "2024-10-22T04:34:22.509Z"
   },
   {
    "duration": 13,
    "start_time": "2024-10-22T04:34:23.279Z"
   },
   {
    "duration": 424,
    "start_time": "2024-10-22T04:37:30.677Z"
   },
   {
    "duration": 46,
    "start_time": "2024-10-22T04:37:31.104Z"
   },
   {
    "duration": 7,
    "start_time": "2024-10-22T04:37:31.152Z"
   },
   {
    "duration": 6,
    "start_time": "2024-10-22T04:37:31.161Z"
   },
   {
    "duration": 9,
    "start_time": "2024-10-22T04:37:31.169Z"
   },
   {
    "duration": 9,
    "start_time": "2024-10-22T04:37:31.180Z"
   },
   {
    "duration": 3,
    "start_time": "2024-10-22T04:37:31.209Z"
   },
   {
    "duration": 3,
    "start_time": "2024-10-22T04:37:31.214Z"
   },
   {
    "duration": 6,
    "start_time": "2024-10-22T04:37:31.219Z"
   },
   {
    "duration": 5,
    "start_time": "2024-10-22T04:37:31.226Z"
   },
   {
    "duration": 6,
    "start_time": "2024-10-22T04:37:31.233Z"
   },
   {
    "duration": 8,
    "start_time": "2024-10-22T04:37:31.241Z"
   },
   {
    "duration": 4,
    "start_time": "2024-10-22T04:37:31.251Z"
   },
   {
    "duration": 53,
    "start_time": "2024-10-22T04:37:31.258Z"
   },
   {
    "duration": 6,
    "start_time": "2024-10-22T04:37:31.314Z"
   },
   {
    "duration": 5,
    "start_time": "2024-10-22T04:37:31.322Z"
   },
   {
    "duration": 6,
    "start_time": "2024-10-22T04:37:31.329Z"
   },
   {
    "duration": 8,
    "start_time": "2024-10-22T04:37:31.337Z"
   },
   {
    "duration": 3,
    "start_time": "2024-10-22T04:37:31.347Z"
   },
   {
    "duration": 7,
    "start_time": "2024-10-22T04:37:31.352Z"
   },
   {
    "duration": 5,
    "start_time": "2024-10-22T04:37:31.361Z"
   },
   {
    "duration": 6,
    "start_time": "2024-10-22T04:37:31.410Z"
   },
   {
    "duration": 7,
    "start_time": "2024-10-22T04:37:31.418Z"
   },
   {
    "duration": 14,
    "start_time": "2024-10-22T04:37:31.427Z"
   },
   {
    "duration": 9,
    "start_time": "2024-10-22T04:37:31.443Z"
   },
   {
    "duration": 5,
    "start_time": "2024-10-22T04:37:31.453Z"
   },
   {
    "duration": 13,
    "start_time": "2024-10-22T04:37:31.460Z"
   },
   {
    "duration": 41,
    "start_time": "2024-10-22T04:37:31.474Z"
   },
   {
    "duration": 6,
    "start_time": "2024-10-22T04:37:31.516Z"
   },
   {
    "duration": 12,
    "start_time": "2024-10-22T04:37:31.524Z"
   },
   {
    "duration": 5,
    "start_time": "2024-10-22T04:37:31.538Z"
   },
   {
    "duration": 3,
    "start_time": "2024-10-22T04:37:31.544Z"
   },
   {
    "duration": 11,
    "start_time": "2024-10-22T04:37:31.548Z"
   },
   {
    "duration": 2187,
    "start_time": "2024-10-22T18:45:37.955Z"
   },
   {
    "duration": 8,
    "start_time": "2024-10-22T18:45:40.145Z"
   },
   {
    "duration": 6,
    "start_time": "2024-10-22T18:45:40.154Z"
   },
   {
    "duration": 7,
    "start_time": "2024-10-22T18:45:40.169Z"
   },
   {
    "duration": 10,
    "start_time": "2024-10-22T18:45:40.177Z"
   },
   {
    "duration": 9,
    "start_time": "2024-10-22T18:45:40.188Z"
   },
   {
    "duration": 3,
    "start_time": "2024-10-22T18:45:40.198Z"
   },
   {
    "duration": 4,
    "start_time": "2024-10-22T18:45:40.203Z"
   },
   {
    "duration": 4,
    "start_time": "2024-10-22T18:45:40.209Z"
   },
   {
    "duration": 4,
    "start_time": "2024-10-22T18:45:40.218Z"
   },
   {
    "duration": 7,
    "start_time": "2024-10-22T18:45:40.224Z"
   },
   {
    "duration": 9,
    "start_time": "2024-10-22T18:45:40.271Z"
   },
   {
    "duration": 5,
    "start_time": "2024-10-22T18:45:40.282Z"
   },
   {
    "duration": 8,
    "start_time": "2024-10-22T18:45:40.289Z"
   },
   {
    "duration": 5,
    "start_time": "2024-10-22T18:45:40.299Z"
   },
   {
    "duration": 6,
    "start_time": "2024-10-22T18:45:40.306Z"
   },
   {
    "duration": 7,
    "start_time": "2024-10-22T18:45:40.313Z"
   },
   {
    "duration": 50,
    "start_time": "2024-10-22T18:45:40.321Z"
   },
   {
    "duration": 4,
    "start_time": "2024-10-22T18:45:40.372Z"
   },
   {
    "duration": 8,
    "start_time": "2024-10-22T18:45:40.378Z"
   },
   {
    "duration": 5,
    "start_time": "2024-10-22T18:45:40.388Z"
   },
   {
    "duration": 5,
    "start_time": "2024-10-22T18:45:40.395Z"
   },
   {
    "duration": 8,
    "start_time": "2024-10-22T18:45:40.401Z"
   },
   {
    "duration": 11,
    "start_time": "2024-10-22T18:45:40.411Z"
   },
   {
    "duration": 7,
    "start_time": "2024-10-22T18:45:40.424Z"
   },
   {
    "duration": 4,
    "start_time": "2024-10-22T18:45:40.471Z"
   },
   {
    "duration": 10,
    "start_time": "2024-10-22T18:45:40.477Z"
   },
   {
    "duration": 8,
    "start_time": "2024-10-22T18:45:40.490Z"
   },
   {
    "duration": 5,
    "start_time": "2024-10-22T18:45:40.500Z"
   },
   {
    "duration": 12,
    "start_time": "2024-10-22T18:45:40.507Z"
   },
   {
    "duration": 6,
    "start_time": "2024-10-22T18:45:40.520Z"
   },
   {
    "duration": 43,
    "start_time": "2024-10-22T18:45:40.527Z"
   },
   {
    "duration": 14,
    "start_time": "2024-10-22T18:45:40.574Z"
   },
   {
    "duration": 6,
    "start_time": "2024-10-22T18:47:19.526Z"
   },
   {
    "duration": 5,
    "start_time": "2024-10-22T19:03:05.244Z"
   },
   {
    "duration": 4,
    "start_time": "2024-10-22T19:08:32.362Z"
   },
   {
    "duration": 389,
    "start_time": "2024-10-22T19:10:25.423Z"
   },
   {
    "duration": 4,
    "start_time": "2024-10-22T19:12:17.480Z"
   },
   {
    "duration": 9,
    "start_time": "2024-10-22T19:16:26.657Z"
   },
   {
    "duration": 9,
    "start_time": "2024-10-22T19:17:00.019Z"
   },
   {
    "duration": 3,
    "start_time": "2024-10-22T19:22:07.203Z"
   },
   {
    "duration": 4,
    "start_time": "2024-10-22T19:22:13.145Z"
   },
   {
    "duration": 8,
    "start_time": "2024-10-22T19:22:33.392Z"
   },
   {
    "duration": 3,
    "start_time": "2024-10-22T19:23:04.227Z"
   },
   {
    "duration": 439,
    "start_time": "2024-10-22T19:44:05.433Z"
   },
   {
    "duration": 40,
    "start_time": "2024-10-22T19:44:05.876Z"
   },
   {
    "duration": 6,
    "start_time": "2024-10-22T19:44:05.918Z"
   },
   {
    "duration": 5,
    "start_time": "2024-10-22T19:44:05.925Z"
   },
   {
    "duration": 9,
    "start_time": "2024-10-22T19:44:05.934Z"
   },
   {
    "duration": 27,
    "start_time": "2024-10-22T19:44:05.945Z"
   },
   {
    "duration": 3,
    "start_time": "2024-10-22T19:44:05.974Z"
   },
   {
    "duration": 4,
    "start_time": "2024-10-22T19:44:05.978Z"
   },
   {
    "duration": 5,
    "start_time": "2024-10-22T19:44:05.985Z"
   },
   {
    "duration": 5,
    "start_time": "2024-10-22T19:44:05.991Z"
   },
   {
    "duration": 7,
    "start_time": "2024-10-22T19:44:05.997Z"
   },
   {
    "duration": 9,
    "start_time": "2024-10-22T19:44:06.006Z"
   },
   {
    "duration": 4,
    "start_time": "2024-10-22T19:44:06.017Z"
   },
   {
    "duration": 51,
    "start_time": "2024-10-22T19:44:06.025Z"
   },
   {
    "duration": 5,
    "start_time": "2024-10-22T19:44:06.077Z"
   },
   {
    "duration": 5,
    "start_time": "2024-10-22T19:44:06.084Z"
   },
   {
    "duration": 6,
    "start_time": "2024-10-22T19:44:06.090Z"
   },
   {
    "duration": 9,
    "start_time": "2024-10-22T19:44:06.098Z"
   },
   {
    "duration": 3,
    "start_time": "2024-10-22T19:44:06.108Z"
   },
   {
    "duration": 7,
    "start_time": "2024-10-22T19:44:06.113Z"
   },
   {
    "duration": 5,
    "start_time": "2024-10-22T19:44:06.121Z"
   },
   {
    "duration": 45,
    "start_time": "2024-10-22T19:44:06.128Z"
   },
   {
    "duration": 6,
    "start_time": "2024-10-22T19:44:06.174Z"
   },
   {
    "duration": 11,
    "start_time": "2024-10-22T19:44:06.181Z"
   },
   {
    "duration": 8,
    "start_time": "2024-10-22T19:44:06.193Z"
   },
   {
    "duration": 4,
    "start_time": "2024-10-22T19:44:06.203Z"
   },
   {
    "duration": 9,
    "start_time": "2024-10-22T19:44:06.209Z"
   },
   {
    "duration": 8,
    "start_time": "2024-10-22T19:44:06.219Z"
   },
   {
    "duration": 46,
    "start_time": "2024-10-22T19:44:06.228Z"
   },
   {
    "duration": 11,
    "start_time": "2024-10-22T19:44:06.275Z"
   },
   {
    "duration": 5,
    "start_time": "2024-10-22T19:44:06.288Z"
   },
   {
    "duration": 3,
    "start_time": "2024-10-22T19:44:06.294Z"
   },
   {
    "duration": 12,
    "start_time": "2024-10-22T19:44:06.298Z"
   },
   {
    "duration": 6,
    "start_time": "2024-10-22T19:44:06.311Z"
   },
   {
    "duration": 4,
    "start_time": "2024-10-22T19:44:06.319Z"
   },
   {
    "duration": 44,
    "start_time": "2024-10-22T19:44:06.325Z"
   },
   {
    "duration": 4,
    "start_time": "2024-10-22T19:44:06.372Z"
   },
   {
    "duration": 9,
    "start_time": "2024-10-22T19:44:06.377Z"
   },
   {
    "duration": 3,
    "start_time": "2024-10-22T19:44:06.387Z"
   },
   {
    "duration": 8,
    "start_time": "2024-10-22T19:44:06.391Z"
   },
   {
    "duration": 3,
    "start_time": "2024-10-22T19:44:06.404Z"
   },
   {
    "duration": 11,
    "start_time": "2024-10-22T20:27:14.287Z"
   },
   {
    "duration": 5,
    "start_time": "2024-10-22T20:28:16.452Z"
   },
   {
    "duration": 14,
    "start_time": "2024-10-22T20:28:26.547Z"
   },
   {
    "duration": 5,
    "start_time": "2024-10-22T20:29:23.463Z"
   },
   {
    "duration": 8,
    "start_time": "2024-10-22T20:29:30.930Z"
   },
   {
    "duration": 2119,
    "start_time": "2024-10-22T23:55:45.741Z"
   },
   {
    "duration": 8,
    "start_time": "2024-10-22T23:55:47.862Z"
   },
   {
    "duration": 7,
    "start_time": "2024-10-22T23:55:47.872Z"
   },
   {
    "duration": 6,
    "start_time": "2024-10-22T23:55:47.882Z"
   },
   {
    "duration": 18,
    "start_time": "2024-10-22T23:55:47.890Z"
   },
   {
    "duration": 8,
    "start_time": "2024-10-22T23:55:47.910Z"
   },
   {
    "duration": 3,
    "start_time": "2024-10-22T23:55:47.920Z"
   },
   {
    "duration": 4,
    "start_time": "2024-10-22T23:55:47.925Z"
   },
   {
    "duration": 5,
    "start_time": "2024-10-22T23:55:47.930Z"
   },
   {
    "duration": 4,
    "start_time": "2024-10-22T23:55:47.938Z"
   },
   {
    "duration": 6,
    "start_time": "2024-10-22T23:55:47.944Z"
   },
   {
    "duration": 9,
    "start_time": "2024-10-22T23:55:47.952Z"
   },
   {
    "duration": 45,
    "start_time": "2024-10-22T23:55:47.962Z"
   },
   {
    "duration": 9,
    "start_time": "2024-10-22T23:55:48.008Z"
   },
   {
    "duration": 7,
    "start_time": "2024-10-22T23:55:48.018Z"
   },
   {
    "duration": 5,
    "start_time": "2024-10-22T23:55:48.026Z"
   },
   {
    "duration": 6,
    "start_time": "2024-10-22T23:55:48.033Z"
   },
   {
    "duration": 7,
    "start_time": "2024-10-22T23:55:48.040Z"
   },
   {
    "duration": 3,
    "start_time": "2024-10-22T23:55:48.049Z"
   },
   {
    "duration": 8,
    "start_time": "2024-10-22T23:55:48.054Z"
   },
   {
    "duration": 5,
    "start_time": "2024-10-22T23:55:48.106Z"
   },
   {
    "duration": 4,
    "start_time": "2024-10-22T23:55:48.113Z"
   },
   {
    "duration": 6,
    "start_time": "2024-10-22T23:55:48.119Z"
   },
   {
    "duration": 11,
    "start_time": "2024-10-22T23:55:48.126Z"
   },
   {
    "duration": 8,
    "start_time": "2024-10-22T23:55:48.138Z"
   },
   {
    "duration": 3,
    "start_time": "2024-10-22T23:55:48.148Z"
   },
   {
    "duration": 9,
    "start_time": "2024-10-22T23:55:48.153Z"
   },
   {
    "duration": 7,
    "start_time": "2024-10-22T23:55:48.207Z"
   },
   {
    "duration": 6,
    "start_time": "2024-10-22T23:55:48.215Z"
   },
   {
    "duration": 11,
    "start_time": "2024-10-22T23:55:48.222Z"
   },
   {
    "duration": 5,
    "start_time": "2024-10-22T23:55:48.235Z"
   },
   {
    "duration": 3,
    "start_time": "2024-10-22T23:55:48.242Z"
   },
   {
    "duration": 11,
    "start_time": "2024-10-22T23:55:48.246Z"
   },
   {
    "duration": 6,
    "start_time": "2024-10-22T23:55:48.259Z"
   },
   {
    "duration": 40,
    "start_time": "2024-10-22T23:55:48.266Z"
   },
   {
    "duration": 3,
    "start_time": "2024-10-22T23:55:48.308Z"
   },
   {
    "duration": 4,
    "start_time": "2024-10-22T23:55:48.313Z"
   },
   {
    "duration": 9,
    "start_time": "2024-10-22T23:55:48.319Z"
   },
   {
    "duration": 3,
    "start_time": "2024-10-22T23:55:48.330Z"
   },
   {
    "duration": 7,
    "start_time": "2024-10-22T23:55:48.335Z"
   },
   {
    "duration": 4,
    "start_time": "2024-10-22T23:55:48.344Z"
   },
   {
    "duration": 6,
    "start_time": "2024-10-22T23:55:48.349Z"
   },
   {
    "duration": 49,
    "start_time": "2024-10-22T23:55:48.356Z"
   },
   {
    "duration": 5,
    "start_time": "2024-10-22T23:55:48.407Z"
   },
   {
    "duration": 10,
    "start_time": "2024-10-22T23:55:48.414Z"
   },
   {
    "duration": 155,
    "start_time": "2024-10-22T23:55:48.426Z"
   },
   {
    "duration": 4,
    "start_time": "2024-10-23T00:24:00.462Z"
   },
   {
    "duration": 4,
    "start_time": "2024-10-23T00:44:45.163Z"
   },
   {
    "duration": 3,
    "start_time": "2024-10-23T00:44:46.026Z"
   },
   {
    "duration": 4,
    "start_time": "2024-10-23T00:50:11.150Z"
   },
   {
    "duration": 3,
    "start_time": "2024-10-23T00:50:11.892Z"
   },
   {
    "duration": 167,
    "start_time": "2024-10-23T00:52:31.949Z"
   },
   {
    "duration": 125,
    "start_time": "2024-10-23T00:53:34.727Z"
   },
   {
    "duration": 792,
    "start_time": "2024-10-23T01:07:05.091Z"
   },
   {
    "duration": 7,
    "start_time": "2024-10-23T01:07:05.885Z"
   },
   {
    "duration": 14,
    "start_time": "2024-10-23T01:07:05.893Z"
   },
   {
    "duration": 4,
    "start_time": "2024-10-23T01:07:05.909Z"
   },
   {
    "duration": 8,
    "start_time": "2024-10-23T01:07:05.916Z"
   },
   {
    "duration": 8,
    "start_time": "2024-10-23T01:07:05.925Z"
   },
   {
    "duration": 2,
    "start_time": "2024-10-23T01:07:05.935Z"
   },
   {
    "duration": 4,
    "start_time": "2024-10-23T01:07:05.939Z"
   },
   {
    "duration": 5,
    "start_time": "2024-10-23T01:07:05.944Z"
   },
   {
    "duration": 5,
    "start_time": "2024-10-23T01:07:05.951Z"
   },
   {
    "duration": 8,
    "start_time": "2024-10-23T01:07:05.958Z"
   },
   {
    "duration": 45,
    "start_time": "2024-10-23T01:07:05.967Z"
   },
   {
    "duration": 4,
    "start_time": "2024-10-23T01:07:06.014Z"
   },
   {
    "duration": 7,
    "start_time": "2024-10-23T01:07:06.023Z"
   },
   {
    "duration": 5,
    "start_time": "2024-10-23T01:07:06.032Z"
   },
   {
    "duration": 5,
    "start_time": "2024-10-23T01:07:06.040Z"
   },
   {
    "duration": 7,
    "start_time": "2024-10-23T01:07:06.046Z"
   },
   {
    "duration": 8,
    "start_time": "2024-10-23T01:07:06.055Z"
   },
   {
    "duration": 3,
    "start_time": "2024-10-23T01:07:06.106Z"
   },
   {
    "duration": 8,
    "start_time": "2024-10-23T01:07:06.110Z"
   },
   {
    "duration": 5,
    "start_time": "2024-10-23T01:07:06.120Z"
   },
   {
    "duration": 4,
    "start_time": "2024-10-23T01:07:06.126Z"
   },
   {
    "duration": 5,
    "start_time": "2024-10-23T01:07:06.132Z"
   },
   {
    "duration": 11,
    "start_time": "2024-10-23T01:07:06.138Z"
   },
   {
    "duration": 7,
    "start_time": "2024-10-23T01:07:06.150Z"
   },
   {
    "duration": 4,
    "start_time": "2024-10-23T01:07:06.158Z"
   },
   {
    "duration": 10,
    "start_time": "2024-10-23T01:07:06.204Z"
   },
   {
    "duration": 8,
    "start_time": "2024-10-23T01:07:06.215Z"
   },
   {
    "duration": 5,
    "start_time": "2024-10-23T01:07:06.224Z"
   },
   {
    "duration": 11,
    "start_time": "2024-10-23T01:07:06.231Z"
   },
   {
    "duration": 5,
    "start_time": "2024-10-23T01:07:06.244Z"
   },
   {
    "duration": 2,
    "start_time": "2024-10-23T01:07:06.250Z"
   },
   {
    "duration": 10,
    "start_time": "2024-10-23T01:07:06.254Z"
   },
   {
    "duration": 43,
    "start_time": "2024-10-23T01:07:06.266Z"
   },
   {
    "duration": 3,
    "start_time": "2024-10-23T01:07:06.311Z"
   },
   {
    "duration": 3,
    "start_time": "2024-10-23T01:07:06.317Z"
   },
   {
    "duration": 5,
    "start_time": "2024-10-23T01:07:06.321Z"
   },
   {
    "duration": 9,
    "start_time": "2024-10-23T01:07:06.328Z"
   },
   {
    "duration": 4,
    "start_time": "2024-10-23T01:07:06.338Z"
   },
   {
    "duration": 9,
    "start_time": "2024-10-23T01:07:06.343Z"
   },
   {
    "duration": 5,
    "start_time": "2024-10-23T01:07:06.357Z"
   },
   {
    "duration": 45,
    "start_time": "2024-10-23T01:07:06.363Z"
   },
   {
    "duration": 8,
    "start_time": "2024-10-23T01:07:06.410Z"
   },
   {
    "duration": 5,
    "start_time": "2024-10-23T01:07:06.420Z"
   },
   {
    "duration": 8,
    "start_time": "2024-10-23T01:07:06.426Z"
   },
   {
    "duration": 173,
    "start_time": "2024-10-23T01:07:06.436Z"
   },
   {
    "duration": 4,
    "start_time": "2024-10-23T01:07:06.611Z"
   },
   {
    "duration": 3,
    "start_time": "2024-10-23T01:07:06.617Z"
   },
   {
    "duration": 6,
    "start_time": "2024-10-23T01:07:06.622Z"
   },
   {
    "duration": 114,
    "start_time": "2024-10-23T01:07:06.630Z"
   },
   {
    "duration": 180,
    "start_time": "2024-10-23T01:11:44.471Z"
   },
   {
    "duration": 7,
    "start_time": "2024-10-23T01:13:55.265Z"
   },
   {
    "duration": 3,
    "start_time": "2024-10-23T01:15:39.415Z"
   },
   {
    "duration": 3,
    "start_time": "2024-10-23T01:15:41.250Z"
   },
   {
    "duration": 5,
    "start_time": "2024-10-23T01:17:57.538Z"
   },
   {
    "duration": 4,
    "start_time": "2024-10-23T01:18:24.770Z"
   },
   {
    "duration": 3,
    "start_time": "2024-10-23T01:18:41.146Z"
   },
   {
    "duration": 4,
    "start_time": "2024-10-23T01:18:46.295Z"
   },
   {
    "duration": 111,
    "start_time": "2024-10-23T01:35:21.425Z"
   },
   {
    "duration": 107,
    "start_time": "2024-10-23T01:35:33.616Z"
   },
   {
    "duration": 97,
    "start_time": "2024-10-23T01:35:43.272Z"
   },
   {
    "duration": 424,
    "start_time": "2024-10-23T01:36:45.333Z"
   },
   {
    "duration": 37,
    "start_time": "2024-10-23T01:36:45.760Z"
   },
   {
    "duration": 10,
    "start_time": "2024-10-23T01:36:45.798Z"
   },
   {
    "duration": 4,
    "start_time": "2024-10-23T01:36:45.810Z"
   },
   {
    "duration": 8,
    "start_time": "2024-10-23T01:36:45.817Z"
   },
   {
    "duration": 8,
    "start_time": "2024-10-23T01:36:45.827Z"
   },
   {
    "duration": 4,
    "start_time": "2024-10-23T01:36:45.837Z"
   },
   {
    "duration": 4,
    "start_time": "2024-10-23T01:36:45.842Z"
   },
   {
    "duration": 6,
    "start_time": "2024-10-23T01:36:45.848Z"
   },
   {
    "duration": 4,
    "start_time": "2024-10-23T01:36:45.856Z"
   },
   {
    "duration": 49,
    "start_time": "2024-10-23T01:36:45.862Z"
   },
   {
    "duration": 9,
    "start_time": "2024-10-23T01:36:45.912Z"
   },
   {
    "duration": 4,
    "start_time": "2024-10-23T01:36:45.922Z"
   },
   {
    "duration": 8,
    "start_time": "2024-10-23T01:36:45.930Z"
   },
   {
    "duration": 5,
    "start_time": "2024-10-23T01:36:45.939Z"
   },
   {
    "duration": 4,
    "start_time": "2024-10-23T01:36:45.946Z"
   },
   {
    "duration": 6,
    "start_time": "2024-10-23T01:36:45.952Z"
   },
   {
    "duration": 48,
    "start_time": "2024-10-23T01:36:45.960Z"
   },
   {
    "duration": 3,
    "start_time": "2024-10-23T01:36:46.010Z"
   },
   {
    "duration": 8,
    "start_time": "2024-10-23T01:36:46.015Z"
   },
   {
    "duration": 6,
    "start_time": "2024-10-23T01:36:46.025Z"
   },
   {
    "duration": 4,
    "start_time": "2024-10-23T01:36:46.033Z"
   },
   {
    "duration": 5,
    "start_time": "2024-10-23T01:36:46.039Z"
   },
   {
    "duration": 11,
    "start_time": "2024-10-23T01:36:46.046Z"
   },
   {
    "duration": 6,
    "start_time": "2024-10-23T01:36:46.058Z"
   },
   {
    "duration": 40,
    "start_time": "2024-10-23T01:36:46.066Z"
   },
   {
    "duration": 8,
    "start_time": "2024-10-23T01:36:46.108Z"
   },
   {
    "duration": 8,
    "start_time": "2024-10-23T01:36:46.118Z"
   },
   {
    "duration": 6,
    "start_time": "2024-10-23T01:36:46.127Z"
   },
   {
    "duration": 11,
    "start_time": "2024-10-23T01:36:46.135Z"
   },
   {
    "duration": 6,
    "start_time": "2024-10-23T01:36:46.147Z"
   },
   {
    "duration": 3,
    "start_time": "2024-10-23T01:36:46.155Z"
   },
   {
    "duration": 48,
    "start_time": "2024-10-23T01:36:46.159Z"
   },
   {
    "duration": 6,
    "start_time": "2024-10-23T01:36:46.208Z"
   },
   {
    "duration": 5,
    "start_time": "2024-10-23T01:36:46.215Z"
   },
   {
    "duration": 3,
    "start_time": "2024-10-23T01:36:46.222Z"
   },
   {
    "duration": 4,
    "start_time": "2024-10-23T01:36:46.227Z"
   },
   {
    "duration": 9,
    "start_time": "2024-10-23T01:36:46.232Z"
   },
   {
    "duration": 3,
    "start_time": "2024-10-23T01:36:46.242Z"
   },
   {
    "duration": 8,
    "start_time": "2024-10-23T01:36:46.247Z"
   },
   {
    "duration": 3,
    "start_time": "2024-10-23T01:36:46.260Z"
   },
   {
    "duration": 44,
    "start_time": "2024-10-23T01:36:46.264Z"
   },
   {
    "duration": 9,
    "start_time": "2024-10-23T01:36:46.309Z"
   },
   {
    "duration": 4,
    "start_time": "2024-10-23T01:36:46.320Z"
   },
   {
    "duration": 7,
    "start_time": "2024-10-23T01:36:46.326Z"
   },
   {
    "duration": 159,
    "start_time": "2024-10-23T01:36:46.336Z"
   },
   {
    "duration": 12,
    "start_time": "2024-10-23T01:36:46.496Z"
   },
   {
    "duration": 4,
    "start_time": "2024-10-23T01:36:46.509Z"
   },
   {
    "duration": 95,
    "start_time": "2024-10-23T01:36:46.515Z"
   },
   {
    "duration": 102,
    "start_time": "2024-10-23T01:36:46.612Z"
   },
   {
    "duration": 91,
    "start_time": "2024-10-23T01:37:17.706Z"
   },
   {
    "duration": 392,
    "start_time": "2024-10-23T01:40:04.185Z"
   },
   {
    "duration": 41,
    "start_time": "2024-10-23T01:40:04.579Z"
   },
   {
    "duration": 5,
    "start_time": "2024-10-23T01:40:04.622Z"
   },
   {
    "duration": 5,
    "start_time": "2024-10-23T01:40:04.629Z"
   },
   {
    "duration": 8,
    "start_time": "2024-10-23T01:40:04.637Z"
   },
   {
    "duration": 8,
    "start_time": "2024-10-23T01:40:04.646Z"
   },
   {
    "duration": 3,
    "start_time": "2024-10-23T01:40:04.656Z"
   },
   {
    "duration": 4,
    "start_time": "2024-10-23T01:40:04.661Z"
   },
   {
    "duration": 6,
    "start_time": "2024-10-23T01:40:04.666Z"
   },
   {
    "duration": 5,
    "start_time": "2024-10-23T01:40:04.704Z"
   },
   {
    "duration": 8,
    "start_time": "2024-10-23T01:40:04.711Z"
   },
   {
    "duration": 7,
    "start_time": "2024-10-23T01:40:04.721Z"
   },
   {
    "duration": 4,
    "start_time": "2024-10-23T01:40:04.730Z"
   },
   {
    "duration": 8,
    "start_time": "2024-10-23T01:40:04.738Z"
   },
   {
    "duration": 5,
    "start_time": "2024-10-23T01:40:04.747Z"
   },
   {
    "duration": 5,
    "start_time": "2024-10-23T01:40:04.754Z"
   },
   {
    "duration": 49,
    "start_time": "2024-10-23T01:40:04.760Z"
   },
   {
    "duration": 8,
    "start_time": "2024-10-23T01:40:04.811Z"
   },
   {
    "duration": 3,
    "start_time": "2024-10-23T01:40:04.821Z"
   },
   {
    "duration": 7,
    "start_time": "2024-10-23T01:40:04.826Z"
   },
   {
    "duration": 6,
    "start_time": "2024-10-23T01:40:04.835Z"
   },
   {
    "duration": 5,
    "start_time": "2024-10-23T01:40:04.843Z"
   },
   {
    "duration": 6,
    "start_time": "2024-10-23T01:40:04.850Z"
   },
   {
    "duration": 48,
    "start_time": "2024-10-23T01:40:04.858Z"
   },
   {
    "duration": 6,
    "start_time": "2024-10-23T01:40:04.908Z"
   },
   {
    "duration": 5,
    "start_time": "2024-10-23T01:40:04.916Z"
   },
   {
    "duration": 10,
    "start_time": "2024-10-23T01:40:04.923Z"
   },
   {
    "duration": 8,
    "start_time": "2024-10-23T01:40:04.934Z"
   },
   {
    "duration": 6,
    "start_time": "2024-10-23T01:40:04.943Z"
   },
   {
    "duration": 11,
    "start_time": "2024-10-23T01:40:04.951Z"
   },
   {
    "duration": 45,
    "start_time": "2024-10-23T01:40:04.963Z"
   },
   {
    "duration": 3,
    "start_time": "2024-10-23T01:40:05.011Z"
   },
   {
    "duration": 12,
    "start_time": "2024-10-23T01:40:05.015Z"
   },
   {
    "duration": 6,
    "start_time": "2024-10-23T01:40:05.029Z"
   },
   {
    "duration": 4,
    "start_time": "2024-10-23T01:40:05.037Z"
   },
   {
    "duration": 3,
    "start_time": "2024-10-23T01:40:05.044Z"
   },
   {
    "duration": 4,
    "start_time": "2024-10-23T01:40:05.049Z"
   },
   {
    "duration": 8,
    "start_time": "2024-10-23T01:40:05.056Z"
   },
   {
    "duration": 40,
    "start_time": "2024-10-23T01:40:05.066Z"
   },
   {
    "duration": 7,
    "start_time": "2024-10-23T01:40:05.107Z"
   },
   {
    "duration": 4,
    "start_time": "2024-10-23T01:40:05.119Z"
   },
   {
    "duration": 5,
    "start_time": "2024-10-23T01:40:05.124Z"
   },
   {
    "duration": 8,
    "start_time": "2024-10-23T01:40:05.131Z"
   },
   {
    "duration": 4,
    "start_time": "2024-10-23T01:40:05.141Z"
   },
   {
    "duration": 12,
    "start_time": "2024-10-23T01:40:05.146Z"
   },
   {
    "duration": 171,
    "start_time": "2024-10-23T01:40:05.160Z"
   },
   {
    "duration": 6,
    "start_time": "2024-10-23T01:40:05.332Z"
   },
   {
    "duration": 4,
    "start_time": "2024-10-23T01:40:05.339Z"
   },
   {
    "duration": 108,
    "start_time": "2024-10-23T01:40:05.344Z"
   },
   {
    "duration": 3,
    "start_time": "2024-10-23T01:57:29.333Z"
   },
   {
    "duration": 4,
    "start_time": "2024-10-23T01:57:38.418Z"
   },
   {
    "duration": 404,
    "start_time": "2024-10-23T02:07:45.263Z"
   },
   {
    "duration": 39,
    "start_time": "2024-10-23T02:07:45.669Z"
   },
   {
    "duration": 5,
    "start_time": "2024-10-23T02:07:45.710Z"
   },
   {
    "duration": 5,
    "start_time": "2024-10-23T02:07:45.717Z"
   },
   {
    "duration": 8,
    "start_time": "2024-10-23T02:07:45.724Z"
   },
   {
    "duration": 9,
    "start_time": "2024-10-23T02:07:45.733Z"
   },
   {
    "duration": 4,
    "start_time": "2024-10-23T02:07:45.743Z"
   },
   {
    "duration": 4,
    "start_time": "2024-10-23T02:07:45.748Z"
   },
   {
    "duration": 5,
    "start_time": "2024-10-23T02:07:45.754Z"
   },
   {
    "duration": 5,
    "start_time": "2024-10-23T02:07:45.760Z"
   },
   {
    "duration": 7,
    "start_time": "2024-10-23T02:07:45.805Z"
   },
   {
    "duration": 10,
    "start_time": "2024-10-23T02:07:45.813Z"
   },
   {
    "duration": 4,
    "start_time": "2024-10-23T02:07:45.826Z"
   },
   {
    "duration": 8,
    "start_time": "2024-10-23T02:07:45.833Z"
   },
   {
    "duration": 4,
    "start_time": "2024-10-23T02:07:45.843Z"
   },
   {
    "duration": 4,
    "start_time": "2024-10-23T02:07:45.849Z"
   },
   {
    "duration": 6,
    "start_time": "2024-10-23T02:07:45.855Z"
   },
   {
    "duration": 49,
    "start_time": "2024-10-23T02:07:45.862Z"
   },
   {
    "duration": 3,
    "start_time": "2024-10-23T02:07:45.913Z"
   },
   {
    "duration": 9,
    "start_time": "2024-10-23T02:07:45.918Z"
   },
   {
    "duration": 6,
    "start_time": "2024-10-23T02:07:45.929Z"
   },
   {
    "duration": 6,
    "start_time": "2024-10-23T02:07:45.936Z"
   },
   {
    "duration": 7,
    "start_time": "2024-10-23T02:07:45.943Z"
   },
   {
    "duration": 11,
    "start_time": "2024-10-23T02:07:45.952Z"
   },
   {
    "duration": 45,
    "start_time": "2024-10-23T02:07:45.965Z"
   },
   {
    "duration": 5,
    "start_time": "2024-10-23T02:07:46.011Z"
   },
   {
    "duration": 11,
    "start_time": "2024-10-23T02:07:46.017Z"
   },
   {
    "duration": 8,
    "start_time": "2024-10-23T02:07:46.029Z"
   },
   {
    "duration": 5,
    "start_time": "2024-10-23T02:07:46.038Z"
   },
   {
    "duration": 11,
    "start_time": "2024-10-23T02:07:46.045Z"
   },
   {
    "duration": 5,
    "start_time": "2024-10-23T02:07:46.057Z"
   },
   {
    "duration": 42,
    "start_time": "2024-10-23T02:07:46.063Z"
   },
   {
    "duration": 11,
    "start_time": "2024-10-23T02:07:46.107Z"
   },
   {
    "duration": 6,
    "start_time": "2024-10-23T02:07:46.119Z"
   },
   {
    "duration": 4,
    "start_time": "2024-10-23T02:07:46.126Z"
   },
   {
    "duration": 4,
    "start_time": "2024-10-23T02:07:46.131Z"
   },
   {
    "duration": 4,
    "start_time": "2024-10-23T02:07:46.136Z"
   },
   {
    "duration": 8,
    "start_time": "2024-10-23T02:07:46.142Z"
   },
   {
    "duration": 3,
    "start_time": "2024-10-23T02:07:46.151Z"
   },
   {
    "duration": 8,
    "start_time": "2024-10-23T02:07:46.155Z"
   },
   {
    "duration": 3,
    "start_time": "2024-10-23T02:07:46.205Z"
   },
   {
    "duration": 5,
    "start_time": "2024-10-23T02:07:46.210Z"
   },
   {
    "duration": 10,
    "start_time": "2024-10-23T02:07:46.216Z"
   },
   {
    "duration": 5,
    "start_time": "2024-10-23T02:07:46.227Z"
   },
   {
    "duration": 8,
    "start_time": "2024-10-23T02:07:46.233Z"
   },
   {
    "duration": 173,
    "start_time": "2024-10-23T02:07:46.243Z"
   },
   {
    "duration": 5,
    "start_time": "2024-10-23T02:07:46.418Z"
   },
   {
    "duration": 4,
    "start_time": "2024-10-23T02:07:46.424Z"
   },
   {
    "duration": 112,
    "start_time": "2024-10-23T02:07:46.430Z"
   },
   {
    "duration": 2,
    "start_time": "2024-10-23T02:07:46.544Z"
   },
   {
    "duration": 3,
    "start_time": "2024-10-23T02:07:46.548Z"
   },
   {
    "duration": 2,
    "start_time": "2024-10-23T02:07:46.553Z"
   },
   {
    "duration": 5,
    "start_time": "2024-10-23T02:07:46.557Z"
   },
   {
    "duration": 132,
    "start_time": "2024-10-23T02:09:27.697Z"
   },
   {
    "duration": 468,
    "start_time": "2024-10-23T03:34:26.996Z"
   },
   {
    "duration": 45,
    "start_time": "2024-10-23T03:34:27.466Z"
   },
   {
    "duration": 7,
    "start_time": "2024-10-23T03:34:27.513Z"
   },
   {
    "duration": 5,
    "start_time": "2024-10-23T03:34:27.521Z"
   },
   {
    "duration": 10,
    "start_time": "2024-10-23T03:34:27.529Z"
   },
   {
    "duration": 11,
    "start_time": "2024-10-23T03:34:27.540Z"
   },
   {
    "duration": 2,
    "start_time": "2024-10-23T03:34:27.553Z"
   },
   {
    "duration": 4,
    "start_time": "2024-10-23T03:34:27.557Z"
   },
   {
    "duration": 5,
    "start_time": "2024-10-23T03:34:27.562Z"
   },
   {
    "duration": 40,
    "start_time": "2024-10-23T03:34:27.568Z"
   },
   {
    "duration": 9,
    "start_time": "2024-10-23T03:34:27.610Z"
   },
   {
    "duration": 8,
    "start_time": "2024-10-23T03:34:27.623Z"
   },
   {
    "duration": 4,
    "start_time": "2024-10-23T03:34:27.633Z"
   },
   {
    "duration": 9,
    "start_time": "2024-10-23T03:34:27.640Z"
   },
   {
    "duration": 5,
    "start_time": "2024-10-23T03:34:27.650Z"
   },
   {
    "duration": 5,
    "start_time": "2024-10-23T03:34:27.657Z"
   },
   {
    "duration": 48,
    "start_time": "2024-10-23T03:34:27.663Z"
   },
   {
    "duration": 8,
    "start_time": "2024-10-23T03:34:27.713Z"
   },
   {
    "duration": 5,
    "start_time": "2024-10-23T03:34:27.722Z"
   },
   {
    "duration": 9,
    "start_time": "2024-10-23T03:34:27.729Z"
   },
   {
    "duration": 5,
    "start_time": "2024-10-23T03:34:27.739Z"
   },
   {
    "duration": 6,
    "start_time": "2024-10-23T03:34:27.745Z"
   },
   {
    "duration": 6,
    "start_time": "2024-10-23T03:34:27.752Z"
   },
   {
    "duration": 50,
    "start_time": "2024-10-23T03:34:27.760Z"
   },
   {
    "duration": 7,
    "start_time": "2024-10-23T03:34:27.812Z"
   },
   {
    "duration": 6,
    "start_time": "2024-10-23T03:34:27.822Z"
   },
   {
    "duration": 11,
    "start_time": "2024-10-23T03:34:27.830Z"
   },
   {
    "duration": 6,
    "start_time": "2024-10-23T03:34:27.843Z"
   },
   {
    "duration": 6,
    "start_time": "2024-10-23T03:34:27.851Z"
   },
   {
    "duration": 11,
    "start_time": "2024-10-23T03:34:27.859Z"
   },
   {
    "duration": 37,
    "start_time": "2024-10-23T03:34:27.871Z"
   },
   {
    "duration": 3,
    "start_time": "2024-10-23T03:34:27.911Z"
   },
   {
    "duration": 15,
    "start_time": "2024-10-23T03:34:27.916Z"
   },
   {
    "duration": 8,
    "start_time": "2024-10-23T03:34:27.933Z"
   },
   {
    "duration": 5,
    "start_time": "2024-10-23T03:34:27.943Z"
   },
   {
    "duration": 3,
    "start_time": "2024-10-23T03:34:27.950Z"
   },
   {
    "duration": 5,
    "start_time": "2024-10-23T03:34:27.954Z"
   },
   {
    "duration": 46,
    "start_time": "2024-10-23T03:34:27.960Z"
   },
   {
    "duration": 3,
    "start_time": "2024-10-23T03:34:28.008Z"
   },
   {
    "duration": 10,
    "start_time": "2024-10-23T03:34:28.014Z"
   },
   {
    "duration": 4,
    "start_time": "2024-10-23T03:34:28.030Z"
   },
   {
    "duration": 7,
    "start_time": "2024-10-23T03:34:28.036Z"
   },
   {
    "duration": 8,
    "start_time": "2024-10-23T03:34:28.044Z"
   },
   {
    "duration": 5,
    "start_time": "2024-10-23T03:34:28.055Z"
   },
   {
    "duration": 44,
    "start_time": "2024-10-23T03:34:28.062Z"
   },
   {
    "duration": 167,
    "start_time": "2024-10-23T03:34:28.108Z"
   },
   {
    "duration": 8,
    "start_time": "2024-10-23T03:34:28.277Z"
   },
   {
    "duration": 18,
    "start_time": "2024-10-23T03:34:28.287Z"
   },
   {
    "duration": 116,
    "start_time": "2024-10-23T03:34:28.307Z"
   },
   {
    "duration": 4,
    "start_time": "2024-10-23T03:34:28.426Z"
   },
   {
    "duration": 3,
    "start_time": "2024-10-23T03:34:28.432Z"
   },
   {
    "duration": 3,
    "start_time": "2024-10-23T03:34:28.437Z"
   },
   {
    "duration": 4,
    "start_time": "2024-10-23T03:34:28.442Z"
   },
   {
    "duration": 157,
    "start_time": "2024-10-23T03:34:28.448Z"
   },
   {
    "duration": 4,
    "start_time": "2024-10-23T03:34:28.607Z"
   },
   {
    "duration": 583,
    "start_time": "2024-10-23T03:34:28.613Z"
   },
   {
    "duration": 319,
    "start_time": "2024-10-23T03:34:54.187Z"
   },
   {
    "duration": 5,
    "start_time": "2024-10-23T03:36:31.223Z"
   },
   {
    "duration": 158,
    "start_time": "2024-10-23T04:31:53.740Z"
   },
   {
    "duration": 2189,
    "start_time": "2024-10-23T04:32:00.044Z"
   },
   {
    "duration": 14,
    "start_time": "2024-10-23T04:32:02.236Z"
   },
   {
    "duration": 13,
    "start_time": "2024-10-23T04:32:02.252Z"
   },
   {
    "duration": 10,
    "start_time": "2024-10-23T04:32:02.267Z"
   },
   {
    "duration": 10,
    "start_time": "2024-10-23T04:32:02.279Z"
   },
   {
    "duration": 9,
    "start_time": "2024-10-23T04:32:02.291Z"
   },
   {
    "duration": 3,
    "start_time": "2024-10-23T04:32:02.309Z"
   },
   {
    "duration": 4,
    "start_time": "2024-10-23T04:32:02.314Z"
   },
   {
    "duration": 5,
    "start_time": "2024-10-23T04:32:02.320Z"
   },
   {
    "duration": 5,
    "start_time": "2024-10-23T04:32:02.326Z"
   },
   {
    "duration": 7,
    "start_time": "2024-10-23T04:32:02.333Z"
   },
   {
    "duration": 9,
    "start_time": "2024-10-23T04:32:02.341Z"
   },
   {
    "duration": 5,
    "start_time": "2024-10-23T04:32:02.351Z"
   },
   {
    "duration": 54,
    "start_time": "2024-10-23T04:32:02.360Z"
   },
   {
    "duration": 7,
    "start_time": "2024-10-23T04:32:02.416Z"
   },
   {
    "duration": 6,
    "start_time": "2024-10-23T04:32:02.425Z"
   },
   {
    "duration": 6,
    "start_time": "2024-10-23T04:32:02.433Z"
   },
   {
    "duration": 8,
    "start_time": "2024-10-23T04:32:02.441Z"
   },
   {
    "duration": 3,
    "start_time": "2024-10-23T04:32:02.451Z"
   },
   {
    "duration": 9,
    "start_time": "2024-10-23T04:32:02.456Z"
   },
   {
    "duration": 46,
    "start_time": "2024-10-23T04:32:02.467Z"
   },
   {
    "duration": 4,
    "start_time": "2024-10-23T04:32:02.515Z"
   },
   {
    "duration": 5,
    "start_time": "2024-10-23T04:32:02.521Z"
   },
   {
    "duration": 12,
    "start_time": "2024-10-23T04:32:02.528Z"
   },
   {
    "duration": 7,
    "start_time": "2024-10-23T04:32:02.541Z"
   },
   {
    "duration": 4,
    "start_time": "2024-10-23T04:32:02.550Z"
   },
   {
    "duration": 10,
    "start_time": "2024-10-23T04:32:02.555Z"
   },
   {
    "duration": 49,
    "start_time": "2024-10-23T04:32:02.567Z"
   },
   {
    "duration": 6,
    "start_time": "2024-10-23T04:32:02.617Z"
   },
   {
    "duration": 13,
    "start_time": "2024-10-23T04:32:02.624Z"
   },
   {
    "duration": 5,
    "start_time": "2024-10-23T04:32:02.638Z"
   },
   {
    "duration": 2,
    "start_time": "2024-10-23T04:32:02.645Z"
   },
   {
    "duration": 12,
    "start_time": "2024-10-23T04:32:02.648Z"
   },
   {
    "duration": 6,
    "start_time": "2024-10-23T04:32:02.661Z"
   },
   {
    "duration": 40,
    "start_time": "2024-10-23T04:32:02.669Z"
   },
   {
    "duration": 4,
    "start_time": "2024-10-23T04:32:02.711Z"
   },
   {
    "duration": 4,
    "start_time": "2024-10-23T04:32:02.716Z"
   },
   {
    "duration": 8,
    "start_time": "2024-10-23T04:32:02.722Z"
   },
   {
    "duration": 3,
    "start_time": "2024-10-23T04:32:02.732Z"
   },
   {
    "duration": 9,
    "start_time": "2024-10-23T04:32:02.736Z"
   },
   {
    "duration": 3,
    "start_time": "2024-10-23T04:32:02.750Z"
   },
   {
    "duration": 5,
    "start_time": "2024-10-23T04:32:02.755Z"
   },
   {
    "duration": 48,
    "start_time": "2024-10-23T04:32:02.762Z"
   },
   {
    "duration": 6,
    "start_time": "2024-10-23T04:32:02.811Z"
   },
   {
    "duration": 8,
    "start_time": "2024-10-23T04:32:02.819Z"
   },
   {
    "duration": 155,
    "start_time": "2024-10-23T04:32:02.828Z"
   },
   {
    "duration": 3,
    "start_time": "2024-10-23T04:32:02.985Z"
   },
   {
    "duration": 4,
    "start_time": "2024-10-23T04:32:02.990Z"
   },
   {
    "duration": 104,
    "start_time": "2024-10-23T04:32:03.009Z"
   },
   {
    "duration": 2,
    "start_time": "2024-10-23T04:32:03.115Z"
   },
   {
    "duration": 3,
    "start_time": "2024-10-23T04:32:03.119Z"
   },
   {
    "duration": 2,
    "start_time": "2024-10-23T04:32:03.124Z"
   },
   {
    "duration": 4,
    "start_time": "2024-10-23T04:32:03.128Z"
   },
   {
    "duration": 155,
    "start_time": "2024-10-23T04:32:03.133Z"
   },
   {
    "duration": 3,
    "start_time": "2024-10-23T04:32:03.291Z"
   },
   {
    "duration": 14,
    "start_time": "2024-10-23T04:32:03.296Z"
   },
   {
    "duration": 326,
    "start_time": "2024-10-23T04:32:03.311Z"
   },
   {
    "duration": 5,
    "start_time": "2024-10-23T04:32:03.639Z"
   },
   {
    "duration": 225,
    "start_time": "2024-10-23T04:32:53.836Z"
   },
   {
    "duration": 227,
    "start_time": "2024-10-23T04:34:29.053Z"
   },
   {
    "duration": 5,
    "start_time": "2024-10-23T04:51:40.767Z"
   },
   {
    "duration": 5,
    "start_time": "2024-10-23T05:04:46.299Z"
   },
   {
    "duration": 216,
    "start_time": "2024-10-23T05:07:06.551Z"
   },
   {
    "duration": 239,
    "start_time": "2024-10-23T05:08:18.682Z"
   },
   {
    "duration": 4,
    "start_time": "2024-10-23T05:18:18.928Z"
   },
   {
    "duration": 162,
    "start_time": "2024-10-23T19:36:35.203Z"
   },
   {
    "duration": 2119,
    "start_time": "2024-10-23T19:36:44.583Z"
   },
   {
    "duration": 8,
    "start_time": "2024-10-23T19:36:46.705Z"
   },
   {
    "duration": 6,
    "start_time": "2024-10-23T19:36:46.715Z"
   },
   {
    "duration": 5,
    "start_time": "2024-10-23T19:36:46.722Z"
   },
   {
    "duration": 8,
    "start_time": "2024-10-23T19:36:46.730Z"
   },
   {
    "duration": 8,
    "start_time": "2024-10-23T19:36:46.740Z"
   },
   {
    "duration": 3,
    "start_time": "2024-10-23T19:36:46.750Z"
   },
   {
    "duration": 4,
    "start_time": "2024-10-23T19:36:46.754Z"
   },
   {
    "duration": 4,
    "start_time": "2024-10-23T19:36:46.760Z"
   },
   {
    "duration": 43,
    "start_time": "2024-10-23T19:36:46.766Z"
   },
   {
    "duration": 7,
    "start_time": "2024-10-23T19:36:46.811Z"
   },
   {
    "duration": 9,
    "start_time": "2024-10-23T19:36:46.820Z"
   },
   {
    "duration": 5,
    "start_time": "2024-10-23T19:36:46.830Z"
   },
   {
    "duration": 8,
    "start_time": "2024-10-23T19:36:46.838Z"
   },
   {
    "duration": 5,
    "start_time": "2024-10-23T19:36:46.848Z"
   },
   {
    "duration": 4,
    "start_time": "2024-10-23T19:36:46.855Z"
   },
   {
    "duration": 49,
    "start_time": "2024-10-23T19:36:46.860Z"
   },
   {
    "duration": 8,
    "start_time": "2024-10-23T19:36:46.911Z"
   },
   {
    "duration": 4,
    "start_time": "2024-10-23T19:36:46.920Z"
   },
   {
    "duration": 8,
    "start_time": "2024-10-23T19:36:46.925Z"
   },
   {
    "duration": 5,
    "start_time": "2024-10-23T19:36:46.936Z"
   },
   {
    "duration": 4,
    "start_time": "2024-10-23T19:36:46.943Z"
   },
   {
    "duration": 5,
    "start_time": "2024-10-23T19:36:46.949Z"
   },
   {
    "duration": 11,
    "start_time": "2024-10-23T19:36:46.956Z"
   },
   {
    "duration": 45,
    "start_time": "2024-10-23T19:36:46.969Z"
   },
   {
    "duration": 4,
    "start_time": "2024-10-23T19:36:47.016Z"
   },
   {
    "duration": 11,
    "start_time": "2024-10-23T19:36:47.021Z"
   },
   {
    "duration": 8,
    "start_time": "2024-10-23T19:36:47.034Z"
   },
   {
    "duration": 5,
    "start_time": "2024-10-23T19:36:47.044Z"
   },
   {
    "duration": 14,
    "start_time": "2024-10-23T19:36:47.051Z"
   },
   {
    "duration": 43,
    "start_time": "2024-10-23T19:36:47.066Z"
   },
   {
    "duration": 3,
    "start_time": "2024-10-23T19:36:47.111Z"
   },
   {
    "duration": 12,
    "start_time": "2024-10-23T19:36:47.115Z"
   },
   {
    "duration": 6,
    "start_time": "2024-10-23T19:36:47.129Z"
   },
   {
    "duration": 4,
    "start_time": "2024-10-23T19:36:47.137Z"
   },
   {
    "duration": 4,
    "start_time": "2024-10-23T19:36:47.142Z"
   },
   {
    "duration": 4,
    "start_time": "2024-10-23T19:36:47.147Z"
   },
   {
    "duration": 8,
    "start_time": "2024-10-23T19:36:47.153Z"
   },
   {
    "duration": 46,
    "start_time": "2024-10-23T19:36:47.163Z"
   },
   {
    "duration": 11,
    "start_time": "2024-10-23T19:36:47.212Z"
   },
   {
    "duration": 7,
    "start_time": "2024-10-23T19:36:47.231Z"
   },
   {
    "duration": 5,
    "start_time": "2024-10-23T19:36:47.240Z"
   },
   {
    "duration": 11,
    "start_time": "2024-10-23T19:36:47.247Z"
   },
   {
    "duration": 5,
    "start_time": "2024-10-23T19:36:47.260Z"
   },
   {
    "duration": 12,
    "start_time": "2024-10-23T19:36:47.267Z"
   },
   {
    "duration": 150,
    "start_time": "2024-10-23T19:36:47.309Z"
   },
   {
    "duration": 4,
    "start_time": "2024-10-23T19:36:47.462Z"
   },
   {
    "duration": 4,
    "start_time": "2024-10-23T19:36:47.467Z"
   },
   {
    "duration": 113,
    "start_time": "2024-10-23T19:36:47.473Z"
   },
   {
    "duration": 3,
    "start_time": "2024-10-23T19:36:47.588Z"
   },
   {
    "duration": 2,
    "start_time": "2024-10-23T19:36:47.609Z"
   },
   {
    "duration": 5,
    "start_time": "2024-10-23T19:36:47.613Z"
   },
   {
    "duration": 4,
    "start_time": "2024-10-23T19:36:47.620Z"
   },
   {
    "duration": 139,
    "start_time": "2024-10-23T19:36:47.626Z"
   },
   {
    "duration": 5,
    "start_time": "2024-10-23T19:36:47.767Z"
   },
   {
    "duration": 5,
    "start_time": "2024-10-23T19:36:47.773Z"
   },
   {
    "duration": 370,
    "start_time": "2024-10-23T19:36:47.780Z"
   },
   {
    "duration": 6,
    "start_time": "2024-10-23T19:36:48.152Z"
   },
   {
    "duration": 220,
    "start_time": "2024-10-23T19:36:48.159Z"
   },
   {
    "duration": 5,
    "start_time": "2024-10-23T19:36:48.381Z"
   },
   {
    "duration": 22,
    "start_time": "2024-10-23T19:36:48.387Z"
   },
   {
    "duration": 248,
    "start_time": "2024-10-23T19:36:48.410Z"
   },
   {
    "duration": 5,
    "start_time": "2024-10-23T19:36:48.660Z"
   },
   {
    "duration": 101,
    "start_time": "2024-10-23T19:50:47.020Z"
   },
   {
    "duration": 248,
    "start_time": "2024-10-23T19:52:11.803Z"
   },
   {
    "duration": 253,
    "start_time": "2024-10-23T19:54:50.991Z"
   },
   {
    "duration": 99,
    "start_time": "2024-10-23T20:15:36.132Z"
   },
   {
    "duration": 242,
    "start_time": "2024-10-23T20:16:26.401Z"
   },
   {
    "duration": 5,
    "start_time": "2024-10-23T20:30:43.886Z"
   },
   {
    "duration": 165,
    "start_time": "2024-10-24T00:53:00.907Z"
   },
   {
    "duration": 2182,
    "start_time": "2024-10-24T00:53:08.647Z"
   },
   {
    "duration": 9,
    "start_time": "2024-10-24T00:53:10.832Z"
   },
   {
    "duration": 9,
    "start_time": "2024-10-24T00:53:10.842Z"
   },
   {
    "duration": 7,
    "start_time": "2024-10-24T00:53:10.853Z"
   },
   {
    "duration": 10,
    "start_time": "2024-10-24T00:53:10.862Z"
   },
   {
    "duration": 11,
    "start_time": "2024-10-24T00:53:10.874Z"
   },
   {
    "duration": 3,
    "start_time": "2024-10-24T00:53:10.910Z"
   },
   {
    "duration": 5,
    "start_time": "2024-10-24T00:53:10.915Z"
   },
   {
    "duration": 5,
    "start_time": "2024-10-24T00:53:10.922Z"
   },
   {
    "duration": 5,
    "start_time": "2024-10-24T00:53:10.930Z"
   },
   {
    "duration": 7,
    "start_time": "2024-10-24T00:53:10.936Z"
   },
   {
    "duration": 9,
    "start_time": "2024-10-24T00:53:10.945Z"
   },
   {
    "duration": 4,
    "start_time": "2024-10-24T00:53:10.956Z"
   },
   {
    "duration": 51,
    "start_time": "2024-10-24T00:53:10.962Z"
   },
   {
    "duration": 6,
    "start_time": "2024-10-24T00:53:11.015Z"
   },
   {
    "duration": 5,
    "start_time": "2024-10-24T00:53:11.022Z"
   },
   {
    "duration": 6,
    "start_time": "2024-10-24T00:53:11.029Z"
   },
   {
    "duration": 8,
    "start_time": "2024-10-24T00:53:11.036Z"
   },
   {
    "duration": 3,
    "start_time": "2024-10-24T00:53:11.046Z"
   },
   {
    "duration": 9,
    "start_time": "2024-10-24T00:53:11.050Z"
   },
   {
    "duration": 50,
    "start_time": "2024-10-24T00:53:11.061Z"
   },
   {
    "duration": 5,
    "start_time": "2024-10-24T00:53:11.113Z"
   },
   {
    "duration": 6,
    "start_time": "2024-10-24T00:53:11.119Z"
   },
   {
    "duration": 12,
    "start_time": "2024-10-24T00:53:11.126Z"
   },
   {
    "duration": 8,
    "start_time": "2024-10-24T00:53:11.140Z"
   },
   {
    "duration": 4,
    "start_time": "2024-10-24T00:53:11.149Z"
   },
   {
    "duration": 9,
    "start_time": "2024-10-24T00:53:11.155Z"
   },
   {
    "duration": 45,
    "start_time": "2024-10-24T00:53:11.169Z"
   },
   {
    "duration": 6,
    "start_time": "2024-10-24T00:53:11.215Z"
   },
   {
    "duration": 12,
    "start_time": "2024-10-24T00:53:11.222Z"
   },
   {
    "duration": 5,
    "start_time": "2024-10-24T00:53:11.235Z"
   },
   {
    "duration": 3,
    "start_time": "2024-10-24T00:53:11.241Z"
   },
   {
    "duration": 12,
    "start_time": "2024-10-24T00:53:11.245Z"
   },
   {
    "duration": 6,
    "start_time": "2024-10-24T00:53:11.258Z"
   },
   {
    "duration": 43,
    "start_time": "2024-10-24T00:53:11.266Z"
   },
   {
    "duration": 4,
    "start_time": "2024-10-24T00:53:11.311Z"
   },
   {
    "duration": 3,
    "start_time": "2024-10-24T00:53:11.317Z"
   },
   {
    "duration": 9,
    "start_time": "2024-10-24T00:53:11.322Z"
   },
   {
    "duration": 3,
    "start_time": "2024-10-24T00:53:11.333Z"
   },
   {
    "duration": 8,
    "start_time": "2024-10-24T00:53:11.337Z"
   },
   {
    "duration": 4,
    "start_time": "2024-10-24T00:53:11.346Z"
   },
   {
    "duration": 5,
    "start_time": "2024-10-24T00:53:11.351Z"
   },
   {
    "duration": 8,
    "start_time": "2024-10-24T00:53:11.358Z"
   },
   {
    "duration": 45,
    "start_time": "2024-10-24T00:53:11.368Z"
   },
   {
    "duration": 8,
    "start_time": "2024-10-24T00:53:11.416Z"
   },
   {
    "duration": 159,
    "start_time": "2024-10-24T00:53:11.425Z"
   },
   {
    "duration": 147,
    "start_time": "2024-10-24T00:53:11.586Z"
   },
   {
    "duration": 3,
    "start_time": "2024-10-24T00:53:11.735Z"
   },
   {
    "duration": 3,
    "start_time": "2024-10-24T00:53:11.740Z"
   },
   {
    "duration": 3,
    "start_time": "2024-10-24T00:53:11.745Z"
   },
   {
    "duration": 4,
    "start_time": "2024-10-24T00:53:11.749Z"
   },
   {
    "duration": 117,
    "start_time": "2024-10-24T00:53:11.754Z"
   },
   {
    "duration": 3,
    "start_time": "2024-10-24T00:53:11.873Z"
   },
   {
    "duration": 4,
    "start_time": "2024-10-24T00:53:11.878Z"
   },
   {
    "duration": 365,
    "start_time": "2024-10-24T00:53:11.884Z"
   },
   {
    "duration": 5,
    "start_time": "2024-10-24T00:53:12.252Z"
   },
   {
    "duration": 197,
    "start_time": "2024-10-24T00:53:12.258Z"
   },
   {
    "duration": 5,
    "start_time": "2024-10-24T00:53:12.457Z"
   },
   {
    "duration": 200,
    "start_time": "2024-10-24T00:53:12.463Z"
   },
   {
    "duration": 225,
    "start_time": "2024-10-24T00:53:12.665Z"
   },
   {
    "duration": 137,
    "start_time": "2024-10-24T00:53:58.382Z"
   },
   {
    "duration": 211,
    "start_time": "2024-10-24T01:12:36.161Z"
   },
   {
    "duration": 213,
    "start_time": "2024-10-24T01:13:51.463Z"
   },
   {
    "duration": 240,
    "start_time": "2024-10-24T01:14:04.705Z"
   },
   {
    "duration": 5,
    "start_time": "2024-10-24T01:19:40.790Z"
   },
   {
    "duration": 5,
    "start_time": "2024-10-24T01:19:41.750Z"
   },
   {
    "duration": 63,
    "start_time": "2024-10-24T01:38:55.581Z"
   },
   {
    "duration": 3,
    "start_time": "2024-10-24T01:39:32.106Z"
   },
   {
    "duration": 4,
    "start_time": "2024-10-24T01:41:14.717Z"
   },
   {
    "duration": 3,
    "start_time": "2024-10-24T01:41:15.448Z"
   },
   {
    "duration": 137,
    "start_time": "2024-10-24T01:45:46.881Z"
   },
   {
    "duration": 142,
    "start_time": "2024-10-24T01:46:19.968Z"
   },
   {
    "duration": 159,
    "start_time": "2024-10-24T03:19:09.967Z"
   },
   {
    "duration": 2188,
    "start_time": "2024-10-24T03:19:57.367Z"
   },
   {
    "duration": 9,
    "start_time": "2024-10-24T03:19:59.557Z"
   },
   {
    "duration": 7,
    "start_time": "2024-10-24T03:19:59.568Z"
   },
   {
    "duration": 7,
    "start_time": "2024-10-24T03:19:59.577Z"
   },
   {
    "duration": 8,
    "start_time": "2024-10-24T03:19:59.587Z"
   },
   {
    "duration": 9,
    "start_time": "2024-10-24T03:19:59.596Z"
   },
   {
    "duration": 3,
    "start_time": "2024-10-24T03:19:59.623Z"
   },
   {
    "duration": 3,
    "start_time": "2024-10-24T03:19:59.628Z"
   },
   {
    "duration": 5,
    "start_time": "2024-10-24T03:19:59.633Z"
   },
   {
    "duration": 5,
    "start_time": "2024-10-24T03:19:59.640Z"
   },
   {
    "duration": 7,
    "start_time": "2024-10-24T03:19:59.646Z"
   },
   {
    "duration": 8,
    "start_time": "2024-10-24T03:19:59.655Z"
   },
   {
    "duration": 4,
    "start_time": "2024-10-24T03:19:59.665Z"
   },
   {
    "duration": 54,
    "start_time": "2024-10-24T03:19:59.673Z"
   },
   {
    "duration": 6,
    "start_time": "2024-10-24T03:19:59.729Z"
   },
   {
    "duration": 6,
    "start_time": "2024-10-24T03:19:59.737Z"
   },
   {
    "duration": 6,
    "start_time": "2024-10-24T03:19:59.744Z"
   },
   {
    "duration": 10,
    "start_time": "2024-10-24T03:19:59.752Z"
   },
   {
    "duration": 3,
    "start_time": "2024-10-24T03:19:59.764Z"
   },
   {
    "duration": 9,
    "start_time": "2024-10-24T03:19:59.769Z"
   },
   {
    "duration": 46,
    "start_time": "2024-10-24T03:19:59.779Z"
   },
   {
    "duration": 4,
    "start_time": "2024-10-24T03:19:59.827Z"
   },
   {
    "duration": 6,
    "start_time": "2024-10-24T03:19:59.834Z"
   },
   {
    "duration": 11,
    "start_time": "2024-10-24T03:19:59.841Z"
   },
   {
    "duration": 7,
    "start_time": "2024-10-24T03:19:59.854Z"
   },
   {
    "duration": 4,
    "start_time": "2024-10-24T03:19:59.863Z"
   },
   {
    "duration": 9,
    "start_time": "2024-10-24T03:19:59.869Z"
   },
   {
    "duration": 47,
    "start_time": "2024-10-24T03:19:59.881Z"
   },
   {
    "duration": 5,
    "start_time": "2024-10-24T03:19:59.929Z"
   },
   {
    "duration": 11,
    "start_time": "2024-10-24T03:19:59.936Z"
   },
   {
    "duration": 6,
    "start_time": "2024-10-24T03:19:59.948Z"
   },
   {
    "duration": 3,
    "start_time": "2024-10-24T03:19:59.955Z"
   },
   {
    "duration": 11,
    "start_time": "2024-10-24T03:19:59.959Z"
   },
   {
    "duration": 6,
    "start_time": "2024-10-24T03:19:59.972Z"
   },
   {
    "duration": 4,
    "start_time": "2024-10-24T03:19:59.980Z"
   },
   {
    "duration": 40,
    "start_time": "2024-10-24T03:19:59.985Z"
   },
   {
    "duration": 4,
    "start_time": "2024-10-24T03:20:00.027Z"
   },
   {
    "duration": 9,
    "start_time": "2024-10-24T03:20:00.033Z"
   },
   {
    "duration": 4,
    "start_time": "2024-10-24T03:20:00.044Z"
   },
   {
    "duration": 9,
    "start_time": "2024-10-24T03:20:00.050Z"
   },
   {
    "duration": 4,
    "start_time": "2024-10-24T03:20:00.064Z"
   },
   {
    "duration": 6,
    "start_time": "2024-10-24T03:20:00.070Z"
   },
   {
    "duration": 54,
    "start_time": "2024-10-24T03:20:00.078Z"
   },
   {
    "duration": 5,
    "start_time": "2024-10-24T03:20:00.134Z"
   },
   {
    "duration": 9,
    "start_time": "2024-10-24T03:20:00.140Z"
   },
   {
    "duration": 161,
    "start_time": "2024-10-24T03:20:00.151Z"
   },
   {
    "duration": 157,
    "start_time": "2024-10-24T03:20:00.314Z"
   },
   {
    "duration": 232,
    "start_time": "2024-10-24T03:20:00.473Z"
   },
   {
    "duration": 4,
    "start_time": "2024-10-24T03:20:00.706Z"
   },
   {
    "duration": 3,
    "start_time": "2024-10-24T03:20:00.724Z"
   },
   {
    "duration": 3,
    "start_time": "2024-10-24T03:20:00.729Z"
   },
   {
    "duration": 168,
    "start_time": "2024-10-24T03:20:00.733Z"
   },
   {
    "duration": 5,
    "start_time": "2024-10-24T03:20:00.903Z"
   },
   {
    "duration": 258,
    "start_time": "2024-10-24T03:20:00.910Z"
   },
   {
    "duration": 7,
    "start_time": "2024-10-24T03:20:01.170Z"
   },
   {
    "duration": 194,
    "start_time": "2024-10-24T03:20:01.178Z"
   },
   {
    "duration": 4,
    "start_time": "2024-10-24T03:20:01.374Z"
   },
   {
    "duration": 0,
    "start_time": "2024-10-24T03:20:01.380Z"
   },
   {
    "duration": 0,
    "start_time": "2024-10-24T03:20:01.381Z"
   },
   {
    "duration": 5,
    "start_time": "2024-10-24T03:20:31.651Z"
   },
   {
    "duration": 4,
    "start_time": "2024-10-24T03:20:33.752Z"
   },
   {
    "duration": 194,
    "start_time": "2024-10-24T03:20:37.642Z"
   },
   {
    "duration": 9,
    "start_time": "2024-10-24T03:21:09.419Z"
   },
   {
    "duration": 8,
    "start_time": "2024-10-24T03:25:53.616Z"
   },
   {
    "duration": 406,
    "start_time": "2024-10-24T03:34:29.464Z"
   },
   {
    "duration": 4,
    "start_time": "2024-10-24T03:35:23.799Z"
   },
   {
    "duration": 5,
    "start_time": "2024-10-24T03:38:03.450Z"
   },
   {
    "duration": 12,
    "start_time": "2024-10-24T03:38:37.755Z"
   },
   {
    "duration": 765,
    "start_time": "2024-10-24T03:39:20.202Z"
   },
   {
    "duration": 6,
    "start_time": "2024-10-24T03:39:20.970Z"
   },
   {
    "duration": 4,
    "start_time": "2024-10-24T03:39:20.978Z"
   },
   {
    "duration": 4,
    "start_time": "2024-10-24T03:39:20.984Z"
   },
   {
    "duration": 10,
    "start_time": "2024-10-24T03:39:20.990Z"
   },
   {
    "duration": 27,
    "start_time": "2024-10-24T03:39:21.001Z"
   },
   {
    "duration": 3,
    "start_time": "2024-10-24T03:39:21.031Z"
   },
   {
    "duration": 4,
    "start_time": "2024-10-24T03:39:21.035Z"
   },
   {
    "duration": 5,
    "start_time": "2024-10-24T03:39:21.041Z"
   },
   {
    "duration": 5,
    "start_time": "2024-10-24T03:39:21.047Z"
   },
   {
    "duration": 7,
    "start_time": "2024-10-24T03:39:21.055Z"
   },
   {
    "duration": 9,
    "start_time": "2024-10-24T03:39:21.064Z"
   },
   {
    "duration": 5,
    "start_time": "2024-10-24T03:39:21.074Z"
   },
   {
    "duration": 9,
    "start_time": "2024-10-24T03:39:21.124Z"
   },
   {
    "duration": 5,
    "start_time": "2024-10-24T03:39:21.134Z"
   },
   {
    "duration": 6,
    "start_time": "2024-10-24T03:39:21.140Z"
   },
   {
    "duration": 5,
    "start_time": "2024-10-24T03:39:21.147Z"
   },
   {
    "duration": 8,
    "start_time": "2024-10-24T03:39:21.154Z"
   },
   {
    "duration": 4,
    "start_time": "2024-10-24T03:39:21.163Z"
   },
   {
    "duration": 12,
    "start_time": "2024-10-24T03:39:21.168Z"
   },
   {
    "duration": 43,
    "start_time": "2024-10-24T03:39:21.182Z"
   },
   {
    "duration": 5,
    "start_time": "2024-10-24T03:39:21.227Z"
   },
   {
    "duration": 5,
    "start_time": "2024-10-24T03:39:21.234Z"
   },
   {
    "duration": 11,
    "start_time": "2024-10-24T03:39:21.241Z"
   },
   {
    "duration": 7,
    "start_time": "2024-10-24T03:39:21.253Z"
   },
   {
    "duration": 4,
    "start_time": "2024-10-24T03:39:21.261Z"
   },
   {
    "duration": 9,
    "start_time": "2024-10-24T03:39:21.267Z"
   },
   {
    "duration": 48,
    "start_time": "2024-10-24T03:39:21.277Z"
   },
   {
    "duration": 8,
    "start_time": "2024-10-24T03:39:21.327Z"
   },
   {
    "duration": 11,
    "start_time": "2024-10-24T03:39:21.337Z"
   },
   {
    "duration": 6,
    "start_time": "2024-10-24T03:39:21.349Z"
   },
   {
    "duration": 3,
    "start_time": "2024-10-24T03:39:21.357Z"
   },
   {
    "duration": 11,
    "start_time": "2024-10-24T03:39:21.361Z"
   },
   {
    "duration": 6,
    "start_time": "2024-10-24T03:39:21.375Z"
   },
   {
    "duration": 41,
    "start_time": "2024-10-24T03:39:21.383Z"
   },
   {
    "duration": 3,
    "start_time": "2024-10-24T03:39:21.426Z"
   },
   {
    "duration": 3,
    "start_time": "2024-10-24T03:39:21.431Z"
   },
   {
    "duration": 9,
    "start_time": "2024-10-24T03:39:21.436Z"
   },
   {
    "duration": 3,
    "start_time": "2024-10-24T03:39:21.446Z"
   },
   {
    "duration": 7,
    "start_time": "2024-10-24T03:39:21.451Z"
   },
   {
    "duration": 3,
    "start_time": "2024-10-24T03:39:21.463Z"
   },
   {
    "duration": 5,
    "start_time": "2024-10-24T03:39:21.468Z"
   },
   {
    "duration": 8,
    "start_time": "2024-10-24T03:39:21.474Z"
   },
   {
    "duration": 42,
    "start_time": "2024-10-24T03:39:21.483Z"
   },
   {
    "duration": 9,
    "start_time": "2024-10-24T03:39:21.527Z"
   },
   {
    "duration": 155,
    "start_time": "2024-10-24T03:39:21.538Z"
   },
   {
    "duration": 146,
    "start_time": "2024-10-24T03:39:21.695Z"
   },
   {
    "duration": 240,
    "start_time": "2024-10-24T03:39:21.844Z"
   },
   {
    "duration": 4,
    "start_time": "2024-10-24T03:39:22.088Z"
   },
   {
    "duration": 4,
    "start_time": "2024-10-24T03:39:22.094Z"
   },
   {
    "duration": 4,
    "start_time": "2024-10-24T03:39:22.099Z"
   },
   {
    "duration": 177,
    "start_time": "2024-10-24T03:39:22.104Z"
   },
   {
    "duration": 6,
    "start_time": "2024-10-24T03:39:22.282Z"
   },
   {
    "duration": 275,
    "start_time": "2024-10-24T03:39:22.290Z"
   },
   {
    "duration": 5,
    "start_time": "2024-10-24T03:39:22.567Z"
   },
   {
    "duration": 203,
    "start_time": "2024-10-24T03:39:22.574Z"
   },
   {
    "duration": 4,
    "start_time": "2024-10-24T03:39:22.779Z"
   },
   {
    "duration": 4,
    "start_time": "2024-10-24T03:39:22.784Z"
   },
   {
    "duration": 42,
    "start_time": "2024-10-24T03:39:22.790Z"
   },
   {
    "duration": 8,
    "start_time": "2024-10-24T03:39:22.834Z"
   },
   {
    "duration": 4,
    "start_time": "2024-10-24T03:39:22.843Z"
   },
   {
    "duration": 3,
    "start_time": "2024-10-24T03:39:22.849Z"
   },
   {
    "duration": 5,
    "start_time": "2024-10-24T03:39:22.854Z"
   },
   {
    "duration": 8,
    "start_time": "2024-10-24T03:59:05.676Z"
   },
   {
    "duration": 219,
    "start_time": "2024-10-24T04:41:39.305Z"
   },
   {
    "duration": 8,
    "start_time": "2024-10-24T04:42:04.292Z"
   },
   {
    "duration": 7,
    "start_time": "2024-10-24T04:45:05.400Z"
   },
   {
    "duration": 7,
    "start_time": "2024-10-24T05:03:52.644Z"
   },
   {
    "duration": 5,
    "start_time": "2024-10-24T05:04:26.460Z"
   },
   {
    "duration": 434,
    "start_time": "2024-10-24T05:19:15.969Z"
   },
   {
    "duration": 11,
    "start_time": "2024-10-24T05:19:35.456Z"
   },
   {
    "duration": 7,
    "start_time": "2024-10-24T14:56:53.487Z"
   },
   {
    "duration": 800,
    "start_time": "2024-10-24T15:26:52.134Z"
   },
   {
    "duration": 10,
    "start_time": "2024-10-24T15:26:52.936Z"
   },
   {
    "duration": 9,
    "start_time": "2024-10-24T15:26:52.948Z"
   },
   {
    "duration": 8,
    "start_time": "2024-10-24T15:26:52.960Z"
   },
   {
    "duration": 8,
    "start_time": "2024-10-24T15:26:52.970Z"
   },
   {
    "duration": 9,
    "start_time": "2024-10-24T15:26:52.979Z"
   },
   {
    "duration": 2,
    "start_time": "2024-10-24T15:26:52.990Z"
   },
   {
    "duration": 4,
    "start_time": "2024-10-24T15:26:53.009Z"
   },
   {
    "duration": 5,
    "start_time": "2024-10-24T15:26:53.014Z"
   },
   {
    "duration": 4,
    "start_time": "2024-10-24T15:26:53.023Z"
   },
   {
    "duration": 7,
    "start_time": "2024-10-24T15:26:53.028Z"
   },
   {
    "duration": 8,
    "start_time": "2024-10-24T15:26:53.037Z"
   },
   {
    "duration": 8,
    "start_time": "2024-10-24T15:26:53.046Z"
   },
   {
    "duration": 10,
    "start_time": "2024-10-24T15:26:53.056Z"
   },
   {
    "duration": 45,
    "start_time": "2024-10-24T15:26:53.067Z"
   },
   {
    "duration": 4,
    "start_time": "2024-10-24T15:26:53.114Z"
   },
   {
    "duration": 6,
    "start_time": "2024-10-24T15:26:53.120Z"
   },
   {
    "duration": 7,
    "start_time": "2024-10-24T15:26:53.128Z"
   },
   {
    "duration": 3,
    "start_time": "2024-10-24T15:26:53.137Z"
   },
   {
    "duration": 8,
    "start_time": "2024-10-24T15:26:53.141Z"
   },
   {
    "duration": 5,
    "start_time": "2024-10-24T15:26:53.151Z"
   },
   {
    "duration": 5,
    "start_time": "2024-10-24T15:26:53.157Z"
   },
   {
    "duration": 49,
    "start_time": "2024-10-24T15:26:53.163Z"
   },
   {
    "duration": 12,
    "start_time": "2024-10-24T15:26:53.213Z"
   },
   {
    "duration": 8,
    "start_time": "2024-10-24T15:26:53.226Z"
   },
   {
    "duration": 4,
    "start_time": "2024-10-24T15:26:53.235Z"
   },
   {
    "duration": 9,
    "start_time": "2024-10-24T15:26:53.241Z"
   },
   {
    "duration": 7,
    "start_time": "2024-10-24T15:26:53.255Z"
   },
   {
    "duration": 6,
    "start_time": "2024-10-24T15:26:53.263Z"
   },
   {
    "duration": 49,
    "start_time": "2024-10-24T15:26:53.271Z"
   },
   {
    "duration": 6,
    "start_time": "2024-10-24T15:26:53.321Z"
   },
   {
    "duration": 2,
    "start_time": "2024-10-24T15:26:53.329Z"
   },
   {
    "duration": 10,
    "start_time": "2024-10-24T15:26:53.333Z"
   },
   {
    "duration": 7,
    "start_time": "2024-10-24T15:26:53.345Z"
   },
   {
    "duration": 4,
    "start_time": "2024-10-24T15:26:53.354Z"
   },
   {
    "duration": 6,
    "start_time": "2024-10-24T15:26:53.359Z"
   },
   {
    "duration": 4,
    "start_time": "2024-10-24T15:26:53.366Z"
   },
   {
    "duration": 8,
    "start_time": "2024-10-24T15:26:53.410Z"
   },
   {
    "duration": 3,
    "start_time": "2024-10-24T15:26:53.419Z"
   },
   {
    "duration": 8,
    "start_time": "2024-10-24T15:26:53.423Z"
   },
   {
    "duration": 4,
    "start_time": "2024-10-24T15:26:53.433Z"
   },
   {
    "duration": 5,
    "start_time": "2024-10-24T15:26:53.439Z"
   },
   {
    "duration": 8,
    "start_time": "2024-10-24T15:26:53.446Z"
   },
   {
    "duration": 5,
    "start_time": "2024-10-24T15:26:53.456Z"
   },
   {
    "duration": 50,
    "start_time": "2024-10-24T15:26:53.462Z"
   },
   {
    "duration": 148,
    "start_time": "2024-10-24T15:26:53.514Z"
   },
   {
    "duration": 145,
    "start_time": "2024-10-24T15:26:53.664Z"
   },
   {
    "duration": 255,
    "start_time": "2024-10-24T15:26:53.810Z"
   },
   {
    "duration": 3,
    "start_time": "2024-10-24T15:26:54.068Z"
   },
   {
    "duration": 4,
    "start_time": "2024-10-24T15:26:54.072Z"
   },
   {
    "duration": 4,
    "start_time": "2024-10-24T15:26:54.078Z"
   },
   {
    "duration": 163,
    "start_time": "2024-10-24T15:26:54.083Z"
   },
   {
    "duration": 5,
    "start_time": "2024-10-24T15:26:54.247Z"
   },
   {
    "duration": 293,
    "start_time": "2024-10-24T15:26:54.254Z"
   },
   {
    "duration": 5,
    "start_time": "2024-10-24T15:26:54.548Z"
   },
   {
    "duration": 211,
    "start_time": "2024-10-24T15:26:54.555Z"
   },
   {
    "duration": 6,
    "start_time": "2024-10-24T15:26:54.768Z"
   },
   {
    "duration": 34,
    "start_time": "2024-10-24T15:26:54.776Z"
   },
   {
    "duration": 9,
    "start_time": "2024-10-24T15:26:54.812Z"
   },
   {
    "duration": 7,
    "start_time": "2024-10-24T15:26:54.823Z"
   },
   {
    "duration": 5,
    "start_time": "2024-10-24T15:26:54.832Z"
   },
   {
    "duration": 5,
    "start_time": "2024-10-24T15:26:54.838Z"
   },
   {
    "duration": 6,
    "start_time": "2024-10-24T15:26:54.844Z"
   },
   {
    "duration": 8,
    "start_time": "2024-10-24T15:26:54.851Z"
   },
   {
    "duration": 8,
    "start_time": "2024-10-24T15:26:54.861Z"
   },
   {
    "duration": 45,
    "start_time": "2024-10-24T15:26:54.871Z"
   },
   {
    "duration": 5,
    "start_time": "2024-10-24T15:26:54.918Z"
   },
   {
    "duration": 9,
    "start_time": "2024-10-24T15:26:54.924Z"
   },
   {
    "duration": 9,
    "start_time": "2024-10-24T15:27:29.347Z"
   },
   {
    "duration": 559,
    "start_time": "2024-10-24T15:27:45.262Z"
   },
   {
    "duration": 49,
    "start_time": "2024-10-24T15:28:40.778Z"
   },
   {
    "duration": 776,
    "start_time": "2024-10-24T15:28:47.467Z"
   },
   {
    "duration": 7,
    "start_time": "2024-10-24T15:28:48.245Z"
   },
   {
    "duration": 5,
    "start_time": "2024-10-24T15:28:48.253Z"
   },
   {
    "duration": 4,
    "start_time": "2024-10-24T15:28:48.261Z"
   },
   {
    "duration": 8,
    "start_time": "2024-10-24T15:28:48.267Z"
   },
   {
    "duration": 9,
    "start_time": "2024-10-24T15:28:48.277Z"
   },
   {
    "duration": 24,
    "start_time": "2024-10-24T15:28:48.287Z"
   },
   {
    "duration": 5,
    "start_time": "2024-10-24T15:28:48.313Z"
   },
   {
    "duration": 6,
    "start_time": "2024-10-24T15:28:48.319Z"
   },
   {
    "duration": 4,
    "start_time": "2024-10-24T15:28:48.329Z"
   },
   {
    "duration": 7,
    "start_time": "2024-10-24T15:28:48.335Z"
   },
   {
    "duration": 8,
    "start_time": "2024-10-24T15:28:48.344Z"
   },
   {
    "duration": 4,
    "start_time": "2024-10-24T15:28:48.353Z"
   },
   {
    "duration": 9,
    "start_time": "2024-10-24T15:28:48.358Z"
   },
   {
    "duration": 6,
    "start_time": "2024-10-24T15:28:48.408Z"
   },
   {
    "duration": 5,
    "start_time": "2024-10-24T15:28:48.416Z"
   },
   {
    "duration": 6,
    "start_time": "2024-10-24T15:28:48.423Z"
   },
   {
    "duration": 9,
    "start_time": "2024-10-24T15:28:48.431Z"
   },
   {
    "duration": 4,
    "start_time": "2024-10-24T15:28:48.441Z"
   },
   {
    "duration": 8,
    "start_time": "2024-10-24T15:28:48.446Z"
   },
   {
    "duration": 5,
    "start_time": "2024-10-24T15:28:48.456Z"
   },
   {
    "duration": 47,
    "start_time": "2024-10-24T15:28:48.463Z"
   },
   {
    "duration": 7,
    "start_time": "2024-10-24T15:28:48.512Z"
   },
   {
    "duration": 12,
    "start_time": "2024-10-24T15:28:48.520Z"
   },
   {
    "duration": 7,
    "start_time": "2024-10-24T15:28:48.534Z"
   },
   {
    "duration": 5,
    "start_time": "2024-10-24T15:28:48.543Z"
   },
   {
    "duration": 579,
    "start_time": "2024-10-24T15:28:48.549Z"
   },
   {
    "duration": 0,
    "start_time": "2024-10-24T15:28:49.132Z"
   },
   {
    "duration": 0,
    "start_time": "2024-10-24T15:28:49.133Z"
   },
   {
    "duration": 0,
    "start_time": "2024-10-24T15:28:49.134Z"
   },
   {
    "duration": 0,
    "start_time": "2024-10-24T15:28:49.137Z"
   },
   {
    "duration": 0,
    "start_time": "2024-10-24T15:28:49.138Z"
   },
   {
    "duration": 0,
    "start_time": "2024-10-24T15:28:49.139Z"
   },
   {
    "duration": 0,
    "start_time": "2024-10-24T15:28:49.141Z"
   },
   {
    "duration": 0,
    "start_time": "2024-10-24T15:28:49.143Z"
   },
   {
    "duration": 0,
    "start_time": "2024-10-24T15:28:49.144Z"
   },
   {
    "duration": 0,
    "start_time": "2024-10-24T15:28:49.145Z"
   },
   {
    "duration": 0,
    "start_time": "2024-10-24T15:28:49.147Z"
   },
   {
    "duration": 0,
    "start_time": "2024-10-24T15:28:49.148Z"
   },
   {
    "duration": 0,
    "start_time": "2024-10-24T15:28:49.150Z"
   },
   {
    "duration": 0,
    "start_time": "2024-10-24T15:28:49.152Z"
   },
   {
    "duration": 0,
    "start_time": "2024-10-24T15:28:49.153Z"
   },
   {
    "duration": 0,
    "start_time": "2024-10-24T15:28:49.155Z"
   },
   {
    "duration": 0,
    "start_time": "2024-10-24T15:28:49.156Z"
   },
   {
    "duration": 0,
    "start_time": "2024-10-24T15:28:49.157Z"
   },
   {
    "duration": 0,
    "start_time": "2024-10-24T15:28:49.159Z"
   },
   {
    "duration": 0,
    "start_time": "2024-10-24T15:28:49.160Z"
   },
   {
    "duration": 0,
    "start_time": "2024-10-24T15:28:49.209Z"
   },
   {
    "duration": 0,
    "start_time": "2024-10-24T15:28:49.210Z"
   },
   {
    "duration": 0,
    "start_time": "2024-10-24T15:28:49.211Z"
   },
   {
    "duration": 0,
    "start_time": "2024-10-24T15:28:49.212Z"
   },
   {
    "duration": 0,
    "start_time": "2024-10-24T15:28:49.213Z"
   },
   {
    "duration": 0,
    "start_time": "2024-10-24T15:28:49.214Z"
   },
   {
    "duration": 0,
    "start_time": "2024-10-24T15:28:49.216Z"
   },
   {
    "duration": 0,
    "start_time": "2024-10-24T15:28:49.217Z"
   },
   {
    "duration": 0,
    "start_time": "2024-10-24T15:28:49.218Z"
   },
   {
    "duration": 0,
    "start_time": "2024-10-24T15:28:49.219Z"
   },
   {
    "duration": 0,
    "start_time": "2024-10-24T15:28:49.221Z"
   },
   {
    "duration": 0,
    "start_time": "2024-10-24T15:28:49.222Z"
   },
   {
    "duration": 0,
    "start_time": "2024-10-24T15:28:49.223Z"
   },
   {
    "duration": 0,
    "start_time": "2024-10-24T15:28:49.223Z"
   },
   {
    "duration": 0,
    "start_time": "2024-10-24T15:28:49.225Z"
   },
   {
    "duration": 0,
    "start_time": "2024-10-24T15:28:49.225Z"
   },
   {
    "duration": 0,
    "start_time": "2024-10-24T15:28:49.226Z"
   },
   {
    "duration": 0,
    "start_time": "2024-10-24T15:28:49.227Z"
   },
   {
    "duration": 0,
    "start_time": "2024-10-24T15:28:49.228Z"
   },
   {
    "duration": 0,
    "start_time": "2024-10-24T15:28:49.229Z"
   },
   {
    "duration": 0,
    "start_time": "2024-10-24T15:28:49.230Z"
   },
   {
    "duration": 0,
    "start_time": "2024-10-24T15:28:49.230Z"
   },
   {
    "duration": 10,
    "start_time": "2024-10-24T15:29:19.039Z"
   },
   {
    "duration": 12,
    "start_time": "2024-10-24T15:29:20.952Z"
   },
   {
    "duration": 11,
    "start_time": "2024-10-24T15:30:31.489Z"
   },
   {
    "duration": 11,
    "start_time": "2024-10-24T15:30:33.814Z"
   },
   {
    "duration": 10,
    "start_time": "2024-10-24T15:30:45.590Z"
   },
   {
    "duration": 11,
    "start_time": "2024-10-24T15:30:49.009Z"
   },
   {
    "duration": 89,
    "start_time": "2024-10-24T15:32:57.075Z"
   },
   {
    "duration": 124,
    "start_time": "2024-10-24T15:33:10.681Z"
   },
   {
    "duration": 131,
    "start_time": "2024-10-24T15:33:22.339Z"
   },
   {
    "duration": 110,
    "start_time": "2024-10-24T15:34:13.092Z"
   },
   {
    "duration": 11,
    "start_time": "2024-10-24T15:35:24.421Z"
   },
   {
    "duration": 81,
    "start_time": "2024-10-24T15:36:09.638Z"
   },
   {
    "duration": 810,
    "start_time": "2024-10-24T15:52:46.120Z"
   },
   {
    "duration": 8,
    "start_time": "2024-10-24T15:52:46.932Z"
   },
   {
    "duration": 7,
    "start_time": "2024-10-24T15:52:46.941Z"
   },
   {
    "duration": 5,
    "start_time": "2024-10-24T15:52:46.951Z"
   },
   {
    "duration": 9,
    "start_time": "2024-10-24T15:52:46.958Z"
   },
   {
    "duration": 9,
    "start_time": "2024-10-24T15:52:46.968Z"
   },
   {
    "duration": 3,
    "start_time": "2024-10-24T15:52:46.978Z"
   },
   {
    "duration": 27,
    "start_time": "2024-10-24T15:52:46.982Z"
   },
   {
    "duration": 4,
    "start_time": "2024-10-24T15:52:47.011Z"
   },
   {
    "duration": 6,
    "start_time": "2024-10-24T15:52:47.019Z"
   },
   {
    "duration": 7,
    "start_time": "2024-10-24T15:52:47.026Z"
   },
   {
    "duration": 7,
    "start_time": "2024-10-24T15:52:47.035Z"
   },
   {
    "duration": 4,
    "start_time": "2024-10-24T15:52:47.044Z"
   },
   {
    "duration": 8,
    "start_time": "2024-10-24T15:52:47.050Z"
   },
   {
    "duration": 6,
    "start_time": "2024-10-24T15:52:47.060Z"
   },
   {
    "duration": 43,
    "start_time": "2024-10-24T15:52:47.067Z"
   },
   {
    "duration": 7,
    "start_time": "2024-10-24T15:52:47.112Z"
   },
   {
    "duration": 9,
    "start_time": "2024-10-24T15:52:47.120Z"
   },
   {
    "duration": 4,
    "start_time": "2024-10-24T15:52:47.130Z"
   },
   {
    "duration": 8,
    "start_time": "2024-10-24T15:52:47.136Z"
   },
   {
    "duration": 6,
    "start_time": "2024-10-24T15:52:47.145Z"
   },
   {
    "duration": 5,
    "start_time": "2024-10-24T15:52:47.152Z"
   },
   {
    "duration": 5,
    "start_time": "2024-10-24T15:52:47.159Z"
   },
   {
    "duration": 59,
    "start_time": "2024-10-24T15:52:47.166Z"
   },
   {
    "duration": 9,
    "start_time": "2024-10-24T15:52:47.227Z"
   },
   {
    "duration": 5,
    "start_time": "2024-10-24T15:52:47.239Z"
   },
   {
    "duration": 11,
    "start_time": "2024-10-24T15:52:47.246Z"
   },
   {
    "duration": 8,
    "start_time": "2024-10-24T15:52:47.264Z"
   },
   {
    "duration": 37,
    "start_time": "2024-10-24T15:52:47.274Z"
   },
   {
    "duration": 15,
    "start_time": "2024-10-24T15:52:47.313Z"
   },
   {
    "duration": 5,
    "start_time": "2024-10-24T15:52:47.330Z"
   },
   {
    "duration": 3,
    "start_time": "2024-10-24T15:52:47.337Z"
   },
   {
    "duration": 12,
    "start_time": "2024-10-24T15:52:47.342Z"
   },
   {
    "duration": 6,
    "start_time": "2024-10-24T15:52:47.356Z"
   },
   {
    "duration": 4,
    "start_time": "2024-10-24T15:52:47.363Z"
   },
   {
    "duration": 9,
    "start_time": "2024-10-24T15:52:47.368Z"
   },
   {
    "duration": 33,
    "start_time": "2024-10-24T15:52:47.378Z"
   },
   {
    "duration": 11,
    "start_time": "2024-10-24T15:52:47.413Z"
   },
   {
    "duration": 3,
    "start_time": "2024-10-24T15:52:47.427Z"
   },
   {
    "duration": 10,
    "start_time": "2024-10-24T15:52:47.431Z"
   },
   {
    "duration": 5,
    "start_time": "2024-10-24T15:52:47.442Z"
   },
   {
    "duration": 6,
    "start_time": "2024-10-24T15:52:47.448Z"
   },
   {
    "duration": 9,
    "start_time": "2024-10-24T15:52:47.456Z"
   },
   {
    "duration": 5,
    "start_time": "2024-10-24T15:52:47.466Z"
   },
   {
    "duration": 44,
    "start_time": "2024-10-24T15:52:47.472Z"
   },
   {
    "duration": 155,
    "start_time": "2024-10-24T15:52:47.518Z"
   },
   {
    "duration": 152,
    "start_time": "2024-10-24T15:52:47.675Z"
   },
   {
    "duration": 251,
    "start_time": "2024-10-24T15:52:47.829Z"
   },
   {
    "duration": 4,
    "start_time": "2024-10-24T15:52:48.082Z"
   },
   {
    "duration": 21,
    "start_time": "2024-10-24T15:52:48.088Z"
   },
   {
    "duration": 4,
    "start_time": "2024-10-24T15:52:48.111Z"
   },
   {
    "duration": 155,
    "start_time": "2024-10-24T15:52:48.117Z"
   },
   {
    "duration": 7,
    "start_time": "2024-10-24T15:52:48.274Z"
   },
   {
    "duration": 271,
    "start_time": "2024-10-24T15:52:48.284Z"
   },
   {
    "duration": 4,
    "start_time": "2024-10-24T15:52:48.557Z"
   },
   {
    "duration": 246,
    "start_time": "2024-10-24T15:52:48.564Z"
   },
   {
    "duration": 5,
    "start_time": "2024-10-24T15:52:48.812Z"
   },
   {
    "duration": 5,
    "start_time": "2024-10-24T15:52:48.819Z"
   },
   {
    "duration": 9,
    "start_time": "2024-10-24T15:52:48.825Z"
   },
   {
    "duration": 7,
    "start_time": "2024-10-24T15:52:48.835Z"
   },
   {
    "duration": 4,
    "start_time": "2024-10-24T15:52:48.844Z"
   },
   {
    "duration": 4,
    "start_time": "2024-10-24T15:52:48.850Z"
   },
   {
    "duration": 5,
    "start_time": "2024-10-24T15:52:48.857Z"
   },
   {
    "duration": 48,
    "start_time": "2024-10-24T15:52:48.863Z"
   },
   {
    "duration": 6,
    "start_time": "2024-10-24T15:52:48.912Z"
   },
   {
    "duration": 6,
    "start_time": "2024-10-24T15:52:48.921Z"
   },
   {
    "duration": 5,
    "start_time": "2024-10-24T15:52:48.929Z"
   },
   {
    "duration": 10,
    "start_time": "2024-10-24T15:52:48.935Z"
   },
   {
    "duration": 13,
    "start_time": "2024-10-24T16:38:24.290Z"
   },
   {
    "duration": 3,
    "start_time": "2024-10-24T16:38:54.842Z"
   },
   {
    "duration": 8,
    "start_time": "2024-10-24T16:48:49.764Z"
   },
   {
    "duration": 5,
    "start_time": "2024-10-24T16:49:16.229Z"
   },
   {
    "duration": 745,
    "start_time": "2024-10-24T17:14:06.101Z"
   },
   {
    "duration": 8,
    "start_time": "2024-10-24T17:14:06.849Z"
   },
   {
    "duration": 6,
    "start_time": "2024-10-24T17:14:06.858Z"
   },
   {
    "duration": 5,
    "start_time": "2024-10-24T17:14:06.866Z"
   },
   {
    "duration": 9,
    "start_time": "2024-10-24T17:14:06.874Z"
   },
   {
    "duration": 26,
    "start_time": "2024-10-24T17:14:06.884Z"
   },
   {
    "duration": 3,
    "start_time": "2024-10-24T17:14:06.911Z"
   },
   {
    "duration": 4,
    "start_time": "2024-10-24T17:14:06.916Z"
   },
   {
    "duration": 5,
    "start_time": "2024-10-24T17:14:06.921Z"
   },
   {
    "duration": 5,
    "start_time": "2024-10-24T17:14:06.928Z"
   },
   {
    "duration": 7,
    "start_time": "2024-10-24T17:14:06.934Z"
   },
   {
    "duration": 8,
    "start_time": "2024-10-24T17:14:06.943Z"
   },
   {
    "duration": 4,
    "start_time": "2024-10-24T17:14:06.952Z"
   },
   {
    "duration": 50,
    "start_time": "2024-10-24T17:14:06.960Z"
   },
   {
    "duration": 5,
    "start_time": "2024-10-24T17:14:07.011Z"
   },
   {
    "duration": 5,
    "start_time": "2024-10-24T17:14:07.018Z"
   },
   {
    "duration": 6,
    "start_time": "2024-10-24T17:14:07.024Z"
   },
   {
    "duration": 8,
    "start_time": "2024-10-24T17:14:07.032Z"
   },
   {
    "duration": 4,
    "start_time": "2024-10-24T17:14:07.041Z"
   },
   {
    "duration": 7,
    "start_time": "2024-10-24T17:14:07.047Z"
   },
   {
    "duration": 5,
    "start_time": "2024-10-24T17:14:07.056Z"
   },
   {
    "duration": 46,
    "start_time": "2024-10-24T17:14:07.063Z"
   },
   {
    "duration": 6,
    "start_time": "2024-10-24T17:14:07.111Z"
   },
   {
    "duration": 11,
    "start_time": "2024-10-24T17:14:07.118Z"
   },
   {
    "duration": 7,
    "start_time": "2024-10-24T17:14:07.130Z"
   },
   {
    "duration": 4,
    "start_time": "2024-10-24T17:14:07.138Z"
   },
   {
    "duration": 10,
    "start_time": "2024-10-24T17:14:07.144Z"
   },
   {
    "duration": 7,
    "start_time": "2024-10-24T17:14:07.156Z"
   },
   {
    "duration": 5,
    "start_time": "2024-10-24T17:14:07.165Z"
   },
   {
    "duration": 12,
    "start_time": "2024-10-24T17:14:07.210Z"
   },
   {
    "duration": 5,
    "start_time": "2024-10-24T17:14:07.224Z"
   },
   {
    "duration": 3,
    "start_time": "2024-10-24T17:14:07.230Z"
   },
   {
    "duration": 10,
    "start_time": "2024-10-24T17:14:07.235Z"
   },
   {
    "duration": 6,
    "start_time": "2024-10-24T17:14:07.246Z"
   },
   {
    "duration": 4,
    "start_time": "2024-10-24T17:14:07.254Z"
   },
   {
    "duration": 4,
    "start_time": "2024-10-24T17:14:07.259Z"
   },
   {
    "duration": 45,
    "start_time": "2024-10-24T17:14:07.264Z"
   },
   {
    "duration": 14,
    "start_time": "2024-10-24T17:14:07.311Z"
   },
   {
    "duration": 4,
    "start_time": "2024-10-24T17:14:07.326Z"
   },
   {
    "duration": 8,
    "start_time": "2024-10-24T17:14:07.332Z"
   },
   {
    "duration": 4,
    "start_time": "2024-10-24T17:14:07.347Z"
   },
   {
    "duration": 7,
    "start_time": "2024-10-24T17:14:07.352Z"
   },
   {
    "duration": 10,
    "start_time": "2024-10-24T17:14:07.360Z"
   },
   {
    "duration": 38,
    "start_time": "2024-10-24T17:14:07.372Z"
   },
   {
    "duration": 10,
    "start_time": "2024-10-24T17:14:07.412Z"
   },
   {
    "duration": 156,
    "start_time": "2024-10-24T17:14:07.424Z"
   },
   {
    "duration": 150,
    "start_time": "2024-10-24T17:14:07.581Z"
   },
   {
    "duration": 255,
    "start_time": "2024-10-24T17:14:07.733Z"
   },
   {
    "duration": 4,
    "start_time": "2024-10-24T17:14:07.990Z"
   },
   {
    "duration": 18,
    "start_time": "2024-10-24T17:14:07.995Z"
   },
   {
    "duration": 4,
    "start_time": "2024-10-24T17:14:08.014Z"
   },
   {
    "duration": 153,
    "start_time": "2024-10-24T17:14:08.019Z"
   },
   {
    "duration": 5,
    "start_time": "2024-10-24T17:14:08.174Z"
   },
   {
    "duration": 280,
    "start_time": "2024-10-24T17:14:08.181Z"
   },
   {
    "duration": 5,
    "start_time": "2024-10-24T17:14:08.462Z"
   },
   {
    "duration": 5,
    "start_time": "2024-10-24T17:14:08.469Z"
   },
   {
    "duration": 251,
    "start_time": "2024-10-24T17:14:08.476Z"
   },
   {
    "duration": 4,
    "start_time": "2024-10-24T17:14:08.730Z"
   },
   {
    "duration": 6,
    "start_time": "2024-10-24T17:14:08.736Z"
   },
   {
    "duration": 9,
    "start_time": "2024-10-24T17:14:08.744Z"
   },
   {
    "duration": 8,
    "start_time": "2024-10-24T17:14:08.755Z"
   },
   {
    "duration": 4,
    "start_time": "2024-10-24T17:14:08.765Z"
   },
   {
    "duration": 4,
    "start_time": "2024-10-24T17:14:08.771Z"
   },
   {
    "duration": 6,
    "start_time": "2024-10-24T17:14:08.808Z"
   },
   {
    "duration": 8,
    "start_time": "2024-10-24T17:14:08.815Z"
   },
   {
    "duration": 8,
    "start_time": "2024-10-24T17:14:08.824Z"
   },
   {
    "duration": 7,
    "start_time": "2024-10-24T17:14:08.835Z"
   },
   {
    "duration": 5,
    "start_time": "2024-10-24T17:14:08.844Z"
   },
   {
    "duration": 9,
    "start_time": "2024-10-24T17:14:08.851Z"
   },
   {
    "duration": 160,
    "start_time": "2024-10-24T19:10:13.944Z"
   },
   {
    "duration": 2414,
    "start_time": "2024-10-24T19:10:20.570Z"
   },
   {
    "duration": 8,
    "start_time": "2024-10-24T19:10:22.986Z"
   },
   {
    "duration": 12,
    "start_time": "2024-10-24T19:10:22.995Z"
   },
   {
    "duration": 7,
    "start_time": "2024-10-24T19:10:23.011Z"
   },
   {
    "duration": 9,
    "start_time": "2024-10-24T19:10:23.020Z"
   },
   {
    "duration": 8,
    "start_time": "2024-10-24T19:10:23.031Z"
   },
   {
    "duration": 3,
    "start_time": "2024-10-24T19:10:23.041Z"
   },
   {
    "duration": 5,
    "start_time": "2024-10-24T19:10:23.046Z"
   },
   {
    "duration": 5,
    "start_time": "2024-10-24T19:10:23.052Z"
   },
   {
    "duration": 5,
    "start_time": "2024-10-24T19:10:23.061Z"
   },
   {
    "duration": 40,
    "start_time": "2024-10-24T19:10:23.067Z"
   },
   {
    "duration": 8,
    "start_time": "2024-10-24T19:10:23.110Z"
   },
   {
    "duration": 5,
    "start_time": "2024-10-24T19:10:23.120Z"
   },
   {
    "duration": 9,
    "start_time": "2024-10-24T19:10:23.126Z"
   },
   {
    "duration": 5,
    "start_time": "2024-10-24T19:10:23.136Z"
   },
   {
    "duration": 5,
    "start_time": "2024-10-24T19:10:23.142Z"
   },
   {
    "duration": 5,
    "start_time": "2024-10-24T19:10:23.149Z"
   },
   {
    "duration": 8,
    "start_time": "2024-10-24T19:10:23.156Z"
   },
   {
    "duration": 40,
    "start_time": "2024-10-24T19:10:23.165Z"
   },
   {
    "duration": 8,
    "start_time": "2024-10-24T19:10:23.207Z"
   },
   {
    "duration": 5,
    "start_time": "2024-10-24T19:10:23.217Z"
   },
   {
    "duration": 4,
    "start_time": "2024-10-24T19:10:23.224Z"
   },
   {
    "duration": 6,
    "start_time": "2024-10-24T19:10:23.229Z"
   },
   {
    "duration": 12,
    "start_time": "2024-10-24T19:10:23.236Z"
   },
   {
    "duration": 7,
    "start_time": "2024-10-24T19:10:23.250Z"
   },
   {
    "duration": 4,
    "start_time": "2024-10-24T19:10:23.259Z"
   },
   {
    "duration": 9,
    "start_time": "2024-10-24T19:10:23.305Z"
   },
   {
    "duration": 7,
    "start_time": "2024-10-24T19:10:23.320Z"
   },
   {
    "duration": 6,
    "start_time": "2024-10-24T19:10:23.329Z"
   },
   {
    "duration": 11,
    "start_time": "2024-10-24T19:10:23.336Z"
   },
   {
    "duration": 6,
    "start_time": "2024-10-24T19:10:23.349Z"
   },
   {
    "duration": 2,
    "start_time": "2024-10-24T19:10:23.357Z"
   },
   {
    "duration": 48,
    "start_time": "2024-10-24T19:10:23.361Z"
   },
   {
    "duration": 6,
    "start_time": "2024-10-24T19:10:23.411Z"
   },
   {
    "duration": 4,
    "start_time": "2024-10-24T19:10:23.418Z"
   },
   {
    "duration": 4,
    "start_time": "2024-10-24T19:10:23.424Z"
   },
   {
    "duration": 4,
    "start_time": "2024-10-24T19:10:23.429Z"
   },
   {
    "duration": 9,
    "start_time": "2024-10-24T19:10:23.435Z"
   },
   {
    "duration": 4,
    "start_time": "2024-10-24T19:10:23.445Z"
   },
   {
    "duration": 8,
    "start_time": "2024-10-24T19:10:23.450Z"
   },
   {
    "duration": 4,
    "start_time": "2024-10-24T19:10:23.460Z"
   },
   {
    "duration": 6,
    "start_time": "2024-10-24T19:10:23.504Z"
   },
   {
    "duration": 9,
    "start_time": "2024-10-24T19:10:23.512Z"
   },
   {
    "duration": 5,
    "start_time": "2024-10-24T19:10:23.522Z"
   },
   {
    "duration": 9,
    "start_time": "2024-10-24T19:10:23.528Z"
   },
   {
    "duration": 159,
    "start_time": "2024-10-24T19:10:23.538Z"
   },
   {
    "duration": 141,
    "start_time": "2024-10-24T19:10:23.704Z"
   },
   {
    "duration": 237,
    "start_time": "2024-10-24T19:10:23.847Z"
   },
   {
    "duration": 3,
    "start_time": "2024-10-24T19:10:24.086Z"
   },
   {
    "duration": 16,
    "start_time": "2024-10-24T19:10:24.091Z"
   },
   {
    "duration": 4,
    "start_time": "2024-10-24T19:10:24.108Z"
   },
   {
    "duration": 173,
    "start_time": "2024-10-24T19:10:24.113Z"
   },
   {
    "duration": 5,
    "start_time": "2024-10-24T19:10:24.287Z"
   },
   {
    "duration": 4,
    "start_time": "2024-10-24T19:10:24.294Z"
   },
   {
    "duration": 244,
    "start_time": "2024-10-24T19:10:24.300Z"
   },
   {
    "duration": 4,
    "start_time": "2024-10-24T19:10:24.546Z"
   },
   {
    "duration": 6,
    "start_time": "2024-10-24T19:10:24.551Z"
   },
   {
    "duration": 199,
    "start_time": "2024-10-24T19:10:24.558Z"
   },
   {
    "duration": 4,
    "start_time": "2024-10-24T19:10:24.759Z"
   },
   {
    "duration": 41,
    "start_time": "2024-10-24T19:10:24.765Z"
   },
   {
    "duration": 9,
    "start_time": "2024-10-24T19:10:24.808Z"
   },
   {
    "duration": 8,
    "start_time": "2024-10-24T19:10:24.819Z"
   },
   {
    "duration": 4,
    "start_time": "2024-10-24T19:10:24.828Z"
   },
   {
    "duration": 4,
    "start_time": "2024-10-24T19:10:24.834Z"
   },
   {
    "duration": 6,
    "start_time": "2024-10-24T19:10:24.840Z"
   },
   {
    "duration": 7,
    "start_time": "2024-10-24T19:10:24.847Z"
   },
   {
    "duration": 6,
    "start_time": "2024-10-24T19:10:24.856Z"
   },
   {
    "duration": 45,
    "start_time": "2024-10-24T19:10:24.864Z"
   },
   {
    "duration": 7,
    "start_time": "2024-10-24T19:10:24.911Z"
   },
   {
    "duration": 11,
    "start_time": "2024-10-24T19:10:24.920Z"
   },
   {
    "duration": 654,
    "start_time": "2024-10-24T19:11:31.872Z"
   },
   {
    "duration": 746,
    "start_time": "2024-10-24T19:12:49.189Z"
   },
   {
    "duration": 6,
    "start_time": "2024-10-24T19:12:49.938Z"
   },
   {
    "duration": 5,
    "start_time": "2024-10-24T19:12:49.945Z"
   },
   {
    "duration": 5,
    "start_time": "2024-10-24T19:12:49.951Z"
   },
   {
    "duration": 8,
    "start_time": "2024-10-24T19:12:49.958Z"
   },
   {
    "duration": 8,
    "start_time": "2024-10-24T19:12:49.968Z"
   },
   {
    "duration": 27,
    "start_time": "2024-10-24T19:12:49.978Z"
   },
   {
    "duration": 3,
    "start_time": "2024-10-24T19:12:50.007Z"
   },
   {
    "duration": 6,
    "start_time": "2024-10-24T19:12:50.012Z"
   },
   {
    "duration": 4,
    "start_time": "2024-10-24T19:12:50.020Z"
   },
   {
    "duration": 7,
    "start_time": "2024-10-24T19:12:50.026Z"
   },
   {
    "duration": 8,
    "start_time": "2024-10-24T19:12:50.035Z"
   },
   {
    "duration": 4,
    "start_time": "2024-10-24T19:12:50.044Z"
   },
   {
    "duration": 8,
    "start_time": "2024-10-24T19:12:50.052Z"
   },
   {
    "duration": 46,
    "start_time": "2024-10-24T19:12:50.061Z"
   },
   {
    "duration": 5,
    "start_time": "2024-10-24T19:12:50.109Z"
   },
   {
    "duration": 6,
    "start_time": "2024-10-24T19:12:50.115Z"
   },
   {
    "duration": 9,
    "start_time": "2024-10-24T19:12:50.122Z"
   },
   {
    "duration": 4,
    "start_time": "2024-10-24T19:12:50.132Z"
   },
   {
    "duration": 9,
    "start_time": "2024-10-24T19:12:50.138Z"
   },
   {
    "duration": 6,
    "start_time": "2024-10-24T19:12:50.149Z"
   },
   {
    "duration": 5,
    "start_time": "2024-10-24T19:12:50.157Z"
   },
   {
    "duration": 43,
    "start_time": "2024-10-24T19:12:50.163Z"
   },
   {
    "duration": 11,
    "start_time": "2024-10-24T19:12:50.208Z"
   },
   {
    "duration": 8,
    "start_time": "2024-10-24T19:12:50.221Z"
   },
   {
    "duration": 4,
    "start_time": "2024-10-24T19:12:50.231Z"
   },
   {
    "duration": 10,
    "start_time": "2024-10-24T19:12:50.236Z"
   },
   {
    "duration": 7,
    "start_time": "2024-10-24T19:12:50.248Z"
   },
   {
    "duration": 6,
    "start_time": "2024-10-24T19:12:50.256Z"
   },
   {
    "duration": 47,
    "start_time": "2024-10-24T19:12:50.263Z"
   },
   {
    "duration": 4,
    "start_time": "2024-10-24T19:12:50.312Z"
   },
   {
    "duration": 3,
    "start_time": "2024-10-24T19:12:50.318Z"
   },
   {
    "duration": 11,
    "start_time": "2024-10-24T19:12:50.322Z"
   },
   {
    "duration": 7,
    "start_time": "2024-10-24T19:12:50.336Z"
   },
   {
    "duration": 3,
    "start_time": "2024-10-24T19:12:50.345Z"
   },
   {
    "duration": 3,
    "start_time": "2024-10-24T19:12:50.350Z"
   },
   {
    "duration": 5,
    "start_time": "2024-10-24T19:12:50.354Z"
   },
   {
    "duration": 9,
    "start_time": "2024-10-24T19:12:50.360Z"
   },
   {
    "duration": 3,
    "start_time": "2024-10-24T19:12:50.406Z"
   },
   {
    "duration": 9,
    "start_time": "2024-10-24T19:12:50.411Z"
   },
   {
    "duration": 4,
    "start_time": "2024-10-24T19:12:50.425Z"
   },
   {
    "duration": 5,
    "start_time": "2024-10-24T19:12:50.430Z"
   },
   {
    "duration": 8,
    "start_time": "2024-10-24T19:12:50.436Z"
   },
   {
    "duration": 5,
    "start_time": "2024-10-24T19:12:50.446Z"
   },
   {
    "duration": 9,
    "start_time": "2024-10-24T19:12:50.452Z"
   },
   {
    "duration": 178,
    "start_time": "2024-10-24T19:12:50.463Z"
   },
   {
    "duration": 141,
    "start_time": "2024-10-24T19:12:50.643Z"
   },
   {
    "duration": 237,
    "start_time": "2024-10-24T19:12:50.786Z"
   },
   {
    "duration": 3,
    "start_time": "2024-10-24T19:12:51.025Z"
   },
   {
    "duration": 5,
    "start_time": "2024-10-24T19:12:51.030Z"
   },
   {
    "duration": 4,
    "start_time": "2024-10-24T19:12:51.036Z"
   },
   {
    "duration": 168,
    "start_time": "2024-10-24T19:12:51.042Z"
   },
   {
    "duration": 5,
    "start_time": "2024-10-24T19:12:51.211Z"
   },
   {
    "duration": 249,
    "start_time": "2024-10-24T19:12:51.218Z"
   },
   {
    "duration": 4,
    "start_time": "2024-10-24T19:12:51.469Z"
   },
   {
    "duration": 266,
    "start_time": "2024-10-24T19:12:51.475Z"
   },
   {
    "duration": 4,
    "start_time": "2024-10-24T19:12:51.743Z"
   },
   {
    "duration": 6,
    "start_time": "2024-10-24T19:12:51.749Z"
   },
   {
    "duration": 202,
    "start_time": "2024-10-24T19:12:51.757Z"
   },
   {
    "duration": 5,
    "start_time": "2024-10-24T19:12:51.961Z"
   },
   {
    "duration": 42,
    "start_time": "2024-10-24T19:12:51.967Z"
   },
   {
    "duration": 9,
    "start_time": "2024-10-24T19:12:52.010Z"
   },
   {
    "duration": 9,
    "start_time": "2024-10-24T19:12:52.020Z"
   },
   {
    "duration": 5,
    "start_time": "2024-10-24T19:12:52.030Z"
   },
   {
    "duration": 4,
    "start_time": "2024-10-24T19:12:52.037Z"
   },
   {
    "duration": 5,
    "start_time": "2024-10-24T19:12:52.043Z"
   },
   {
    "duration": 7,
    "start_time": "2024-10-24T19:12:52.049Z"
   },
   {
    "duration": 7,
    "start_time": "2024-10-24T19:12:52.058Z"
   },
   {
    "duration": 8,
    "start_time": "2024-10-24T19:12:52.105Z"
   },
   {
    "duration": 4,
    "start_time": "2024-10-24T19:12:52.115Z"
   },
   {
    "duration": 9,
    "start_time": "2024-10-24T19:12:52.121Z"
   },
   {
    "duration": 5,
    "start_time": "2024-10-24T19:14:44.414Z"
   },
   {
    "duration": 214,
    "start_time": "2024-10-24T19:14:45.928Z"
   },
   {
    "duration": 6,
    "start_time": "2024-10-24T19:20:42.164Z"
   },
   {
    "duration": 580,
    "start_time": "2024-10-24T19:27:04.471Z"
   },
   {
    "duration": 4,
    "start_time": "2024-10-24T19:29:06.277Z"
   },
   {
    "duration": 4,
    "start_time": "2024-10-24T19:30:05.755Z"
   },
   {
    "duration": 5,
    "start_time": "2024-10-24T19:34:04.212Z"
   },
   {
    "duration": 197,
    "start_time": "2024-10-24T19:35:24.537Z"
   },
   {
    "duration": 743,
    "start_time": "2024-10-24T19:36:11.388Z"
   },
   {
    "duration": 7,
    "start_time": "2024-10-24T19:36:12.134Z"
   },
   {
    "duration": 5,
    "start_time": "2024-10-24T19:36:12.142Z"
   },
   {
    "duration": 5,
    "start_time": "2024-10-24T19:36:12.149Z"
   },
   {
    "duration": 8,
    "start_time": "2024-10-24T19:36:12.157Z"
   },
   {
    "duration": 9,
    "start_time": "2024-10-24T19:36:12.166Z"
   },
   {
    "duration": 3,
    "start_time": "2024-10-24T19:36:12.177Z"
   },
   {
    "duration": 3,
    "start_time": "2024-10-24T19:36:12.205Z"
   },
   {
    "duration": 5,
    "start_time": "2024-10-24T19:36:12.211Z"
   },
   {
    "duration": 5,
    "start_time": "2024-10-24T19:36:12.218Z"
   },
   {
    "duration": 7,
    "start_time": "2024-10-24T19:36:12.225Z"
   },
   {
    "duration": 9,
    "start_time": "2024-10-24T19:36:12.233Z"
   },
   {
    "duration": 5,
    "start_time": "2024-10-24T19:36:12.243Z"
   },
   {
    "duration": 8,
    "start_time": "2024-10-24T19:36:12.252Z"
   },
   {
    "duration": 45,
    "start_time": "2024-10-24T19:36:12.262Z"
   },
   {
    "duration": 5,
    "start_time": "2024-10-24T19:36:12.309Z"
   },
   {
    "duration": 5,
    "start_time": "2024-10-24T19:36:12.316Z"
   },
   {
    "duration": 8,
    "start_time": "2024-10-24T19:36:12.323Z"
   },
   {
    "duration": 4,
    "start_time": "2024-10-24T19:36:12.332Z"
   },
   {
    "duration": 8,
    "start_time": "2024-10-24T19:36:12.338Z"
   },
   {
    "duration": 5,
    "start_time": "2024-10-24T19:36:12.348Z"
   },
   {
    "duration": 6,
    "start_time": "2024-10-24T19:36:12.355Z"
   },
   {
    "duration": 43,
    "start_time": "2024-10-24T19:36:12.362Z"
   },
   {
    "duration": 10,
    "start_time": "2024-10-24T19:36:12.407Z"
   },
   {
    "duration": 9,
    "start_time": "2024-10-24T19:36:12.419Z"
   },
   {
    "duration": 6,
    "start_time": "2024-10-24T19:36:12.430Z"
   },
   {
    "duration": 15,
    "start_time": "2024-10-24T19:36:12.439Z"
   },
   {
    "duration": 7,
    "start_time": "2024-10-24T19:36:12.455Z"
   },
   {
    "duration": 5,
    "start_time": "2024-10-24T19:36:12.464Z"
   },
   {
    "duration": 42,
    "start_time": "2024-10-24T19:36:12.470Z"
   },
   {
    "duration": 7,
    "start_time": "2024-10-24T19:36:12.514Z"
   },
   {
    "duration": 3,
    "start_time": "2024-10-24T19:36:12.522Z"
   },
   {
    "duration": 13,
    "start_time": "2024-10-24T19:36:12.527Z"
   },
   {
    "duration": 7,
    "start_time": "2024-10-24T19:36:12.541Z"
   },
   {
    "duration": 3,
    "start_time": "2024-10-24T19:36:12.550Z"
   },
   {
    "duration": 3,
    "start_time": "2024-10-24T19:36:12.555Z"
   },
   {
    "duration": 3,
    "start_time": "2024-10-24T19:36:12.560Z"
   },
   {
    "duration": 42,
    "start_time": "2024-10-24T19:36:12.565Z"
   },
   {
    "duration": 9,
    "start_time": "2024-10-24T19:36:12.608Z"
   },
   {
    "duration": 11,
    "start_time": "2024-10-24T19:36:12.618Z"
   },
   {
    "duration": 4,
    "start_time": "2024-10-24T19:36:12.634Z"
   },
   {
    "duration": 5,
    "start_time": "2024-10-24T19:36:12.640Z"
   },
   {
    "duration": 9,
    "start_time": "2024-10-24T19:36:12.646Z"
   },
   {
    "duration": 6,
    "start_time": "2024-10-24T19:36:12.656Z"
   },
   {
    "duration": 8,
    "start_time": "2024-10-24T19:36:12.663Z"
   },
   {
    "duration": 179,
    "start_time": "2024-10-24T19:36:12.673Z"
   },
   {
    "duration": 143,
    "start_time": "2024-10-24T19:36:12.854Z"
   },
   {
    "duration": 231,
    "start_time": "2024-10-24T19:36:12.999Z"
   },
   {
    "duration": 4,
    "start_time": "2024-10-24T19:36:13.232Z"
   },
   {
    "duration": 5,
    "start_time": "2024-10-24T19:36:13.237Z"
   },
   {
    "duration": 4,
    "start_time": "2024-10-24T19:36:13.243Z"
   },
   {
    "duration": 173,
    "start_time": "2024-10-24T19:36:13.248Z"
   },
   {
    "duration": 5,
    "start_time": "2024-10-24T19:36:13.423Z"
   },
   {
    "duration": 7,
    "start_time": "2024-10-24T19:36:13.430Z"
   },
   {
    "duration": 299,
    "start_time": "2024-10-24T19:36:13.438Z"
   },
   {
    "duration": 4,
    "start_time": "2024-10-24T19:36:13.739Z"
   },
   {
    "duration": 8,
    "start_time": "2024-10-24T19:36:13.745Z"
   },
   {
    "duration": 198,
    "start_time": "2024-10-24T19:36:13.754Z"
   },
   {
    "duration": 4,
    "start_time": "2024-10-24T19:36:13.953Z"
   },
   {
    "duration": 5,
    "start_time": "2024-10-24T19:36:13.959Z"
   },
   {
    "duration": 44,
    "start_time": "2024-10-24T19:36:13.966Z"
   },
   {
    "duration": 8,
    "start_time": "2024-10-24T19:36:14.012Z"
   },
   {
    "duration": 5,
    "start_time": "2024-10-24T19:36:14.022Z"
   },
   {
    "duration": 5,
    "start_time": "2024-10-24T19:36:14.028Z"
   },
   {
    "duration": 4,
    "start_time": "2024-10-24T19:36:14.035Z"
   },
   {
    "duration": 7,
    "start_time": "2024-10-24T19:36:14.041Z"
   },
   {
    "duration": 8,
    "start_time": "2024-10-24T19:36:14.050Z"
   },
   {
    "duration": 8,
    "start_time": "2024-10-24T19:36:14.059Z"
   },
   {
    "duration": 6,
    "start_time": "2024-10-24T19:36:14.104Z"
   },
   {
    "duration": 10,
    "start_time": "2024-10-24T19:36:14.112Z"
   },
   {
    "duration": 5,
    "start_time": "2024-10-24T19:48:07.884Z"
   },
   {
    "duration": 8,
    "start_time": "2024-10-24T19:48:09.965Z"
   },
   {
    "duration": 235,
    "start_time": "2024-10-24T19:48:40.295Z"
   },
   {
    "duration": 713,
    "start_time": "2024-10-24T19:49:09.167Z"
   },
   {
    "duration": 7,
    "start_time": "2024-10-24T19:49:09.883Z"
   },
   {
    "duration": 5,
    "start_time": "2024-10-24T19:49:09.891Z"
   },
   {
    "duration": 5,
    "start_time": "2024-10-24T19:49:09.906Z"
   },
   {
    "duration": 8,
    "start_time": "2024-10-24T19:49:09.912Z"
   },
   {
    "duration": 8,
    "start_time": "2024-10-24T19:49:09.921Z"
   },
   {
    "duration": 3,
    "start_time": "2024-10-24T19:49:09.931Z"
   },
   {
    "duration": 5,
    "start_time": "2024-10-24T19:49:09.935Z"
   },
   {
    "duration": 6,
    "start_time": "2024-10-24T19:49:09.941Z"
   },
   {
    "duration": 4,
    "start_time": "2024-10-24T19:49:09.950Z"
   },
   {
    "duration": 7,
    "start_time": "2024-10-24T19:49:09.956Z"
   },
   {
    "duration": 47,
    "start_time": "2024-10-24T19:49:09.964Z"
   },
   {
    "duration": 4,
    "start_time": "2024-10-24T19:49:10.013Z"
   },
   {
    "duration": 9,
    "start_time": "2024-10-24T19:49:10.019Z"
   },
   {
    "duration": 6,
    "start_time": "2024-10-24T19:49:10.029Z"
   },
   {
    "duration": 6,
    "start_time": "2024-10-24T19:49:10.036Z"
   },
   {
    "duration": 7,
    "start_time": "2024-10-24T19:49:10.043Z"
   },
   {
    "duration": 9,
    "start_time": "2024-10-24T19:49:10.051Z"
   },
   {
    "duration": 3,
    "start_time": "2024-10-24T19:49:10.061Z"
   },
   {
    "duration": 8,
    "start_time": "2024-10-24T19:49:10.105Z"
   },
   {
    "duration": 4,
    "start_time": "2024-10-24T19:49:10.115Z"
   },
   {
    "duration": 4,
    "start_time": "2024-10-24T19:49:10.121Z"
   },
   {
    "duration": 6,
    "start_time": "2024-10-24T19:49:10.127Z"
   },
   {
    "duration": 11,
    "start_time": "2024-10-24T19:49:10.134Z"
   },
   {
    "duration": 6,
    "start_time": "2024-10-24T19:49:10.147Z"
   },
   {
    "duration": 3,
    "start_time": "2024-10-24T19:49:10.155Z"
   },
   {
    "duration": 45,
    "start_time": "2024-10-24T19:49:10.161Z"
   },
   {
    "duration": 8,
    "start_time": "2024-10-24T19:49:10.211Z"
   },
   {
    "duration": 6,
    "start_time": "2024-10-24T19:49:10.221Z"
   },
   {
    "duration": 11,
    "start_time": "2024-10-24T19:49:10.229Z"
   },
   {
    "duration": 5,
    "start_time": "2024-10-24T19:49:10.243Z"
   },
   {
    "duration": 3,
    "start_time": "2024-10-24T19:49:10.249Z"
   },
   {
    "duration": 11,
    "start_time": "2024-10-24T19:49:10.254Z"
   },
   {
    "duration": 40,
    "start_time": "2024-10-24T19:49:10.266Z"
   },
   {
    "duration": 3,
    "start_time": "2024-10-24T19:49:10.308Z"
   },
   {
    "duration": 3,
    "start_time": "2024-10-24T19:49:10.313Z"
   },
   {
    "duration": 4,
    "start_time": "2024-10-24T19:49:10.318Z"
   },
   {
    "duration": 9,
    "start_time": "2024-10-24T19:49:10.324Z"
   },
   {
    "duration": 5,
    "start_time": "2024-10-24T19:49:10.334Z"
   },
   {
    "duration": 8,
    "start_time": "2024-10-24T19:49:10.340Z"
   },
   {
    "duration": 3,
    "start_time": "2024-10-24T19:49:10.350Z"
   },
   {
    "duration": 6,
    "start_time": "2024-10-24T19:49:10.355Z"
   },
   {
    "duration": 46,
    "start_time": "2024-10-24T19:49:10.362Z"
   },
   {
    "duration": 6,
    "start_time": "2024-10-24T19:49:10.409Z"
   },
   {
    "duration": 8,
    "start_time": "2024-10-24T19:49:10.417Z"
   },
   {
    "duration": 166,
    "start_time": "2024-10-24T19:49:10.427Z"
   },
   {
    "duration": 138,
    "start_time": "2024-10-24T19:49:10.595Z"
   },
   {
    "duration": 234,
    "start_time": "2024-10-24T19:49:10.735Z"
   },
   {
    "duration": 5,
    "start_time": "2024-10-24T19:49:10.971Z"
   },
   {
    "duration": 4,
    "start_time": "2024-10-24T19:49:10.977Z"
   },
   {
    "duration": 3,
    "start_time": "2024-10-24T19:49:10.983Z"
   },
   {
    "duration": 156,
    "start_time": "2024-10-24T19:49:11.006Z"
   },
   {
    "duration": 4,
    "start_time": "2024-10-24T19:49:11.164Z"
   },
   {
    "duration": 7,
    "start_time": "2024-10-24T19:49:11.170Z"
   },
   {
    "duration": 262,
    "start_time": "2024-10-24T19:49:11.178Z"
   },
   {
    "duration": 5,
    "start_time": "2024-10-24T19:49:11.442Z"
   },
   {
    "duration": 8,
    "start_time": "2024-10-24T19:49:11.449Z"
   },
   {
    "duration": 202,
    "start_time": "2024-10-24T19:49:11.458Z"
   },
   {
    "duration": 5,
    "start_time": "2024-10-24T19:49:11.706Z"
   },
   {
    "duration": 6,
    "start_time": "2024-10-24T19:49:11.712Z"
   },
   {
    "duration": 10,
    "start_time": "2024-10-24T19:49:11.719Z"
   },
   {
    "duration": 9,
    "start_time": "2024-10-24T19:49:11.730Z"
   },
   {
    "duration": 6,
    "start_time": "2024-10-24T19:49:11.740Z"
   },
   {
    "duration": 5,
    "start_time": "2024-10-24T19:49:11.747Z"
   },
   {
    "duration": 5,
    "start_time": "2024-10-24T19:49:11.753Z"
   },
   {
    "duration": 6,
    "start_time": "2024-10-24T19:49:11.760Z"
   },
   {
    "duration": 41,
    "start_time": "2024-10-24T19:49:11.768Z"
   },
   {
    "duration": 7,
    "start_time": "2024-10-24T19:49:11.810Z"
   },
   {
    "duration": 6,
    "start_time": "2024-10-24T19:49:11.818Z"
   },
   {
    "duration": 9,
    "start_time": "2024-10-24T19:49:11.826Z"
   },
   {
    "duration": 210,
    "start_time": "2024-10-24T20:15:55.341Z"
   },
   {
    "duration": 7,
    "start_time": "2024-10-24T20:18:17.960Z"
   },
   {
    "duration": 5,
    "start_time": "2024-10-24T20:19:13.213Z"
   },
   {
    "duration": 5,
    "start_time": "2024-10-24T20:20:23.888Z"
   },
   {
    "duration": 8,
    "start_time": "2024-10-24T20:20:26.534Z"
   },
   {
    "duration": 5,
    "start_time": "2024-10-24T20:21:44.254Z"
   },
   {
    "duration": 8,
    "start_time": "2024-10-24T20:21:44.986Z"
   },
   {
    "duration": 4,
    "start_time": "2024-10-24T20:21:54.949Z"
   },
   {
    "duration": 771,
    "start_time": "2024-10-24T20:22:14.227Z"
   },
   {
    "duration": 7,
    "start_time": "2024-10-24T20:22:15.001Z"
   },
   {
    "duration": 6,
    "start_time": "2024-10-24T20:22:15.009Z"
   },
   {
    "duration": 6,
    "start_time": "2024-10-24T20:22:15.017Z"
   },
   {
    "duration": 8,
    "start_time": "2024-10-24T20:22:15.025Z"
   },
   {
    "duration": 8,
    "start_time": "2024-10-24T20:22:15.035Z"
   },
   {
    "duration": 3,
    "start_time": "2024-10-24T20:22:15.045Z"
   },
   {
    "duration": 5,
    "start_time": "2024-10-24T20:22:15.049Z"
   },
   {
    "duration": 5,
    "start_time": "2024-10-24T20:22:15.055Z"
   },
   {
    "duration": 44,
    "start_time": "2024-10-24T20:22:15.062Z"
   },
   {
    "duration": 7,
    "start_time": "2024-10-24T20:22:15.108Z"
   },
   {
    "duration": 8,
    "start_time": "2024-10-24T20:22:15.117Z"
   },
   {
    "duration": 4,
    "start_time": "2024-10-24T20:22:15.126Z"
   },
   {
    "duration": 7,
    "start_time": "2024-10-24T20:22:15.135Z"
   },
   {
    "duration": 6,
    "start_time": "2024-10-24T20:22:15.144Z"
   },
   {
    "duration": 6,
    "start_time": "2024-10-24T20:22:15.151Z"
   },
   {
    "duration": 48,
    "start_time": "2024-10-24T20:22:15.158Z"
   },
   {
    "duration": 7,
    "start_time": "2024-10-24T20:22:15.208Z"
   },
   {
    "duration": 4,
    "start_time": "2024-10-24T20:22:15.217Z"
   },
   {
    "duration": 7,
    "start_time": "2024-10-24T20:22:15.223Z"
   },
   {
    "duration": 5,
    "start_time": "2024-10-24T20:22:15.231Z"
   },
   {
    "duration": 4,
    "start_time": "2024-10-24T20:22:15.237Z"
   },
   {
    "duration": 5,
    "start_time": "2024-10-24T20:22:15.243Z"
   },
   {
    "duration": 11,
    "start_time": "2024-10-24T20:22:15.249Z"
   },
   {
    "duration": 7,
    "start_time": "2024-10-24T20:22:15.305Z"
   },
   {
    "duration": 4,
    "start_time": "2024-10-24T20:22:15.313Z"
   },
   {
    "duration": 10,
    "start_time": "2024-10-24T20:22:15.319Z"
   },
   {
    "duration": 8,
    "start_time": "2024-10-24T20:22:15.330Z"
   },
   {
    "duration": 6,
    "start_time": "2024-10-24T20:22:15.339Z"
   },
   {
    "duration": 11,
    "start_time": "2024-10-24T20:22:15.347Z"
   },
   {
    "duration": 5,
    "start_time": "2024-10-24T20:22:15.359Z"
   },
   {
    "duration": 3,
    "start_time": "2024-10-24T20:22:15.366Z"
   },
   {
    "duration": 14,
    "start_time": "2024-10-24T20:22:15.405Z"
   },
   {
    "duration": 8,
    "start_time": "2024-10-24T20:22:15.421Z"
   },
   {
    "duration": 4,
    "start_time": "2024-10-24T20:22:15.431Z"
   },
   {
    "duration": 5,
    "start_time": "2024-10-24T20:22:15.436Z"
   },
   {
    "duration": 5,
    "start_time": "2024-10-24T20:22:15.442Z"
   },
   {
    "duration": 10,
    "start_time": "2024-10-24T20:22:15.449Z"
   },
   {
    "duration": 3,
    "start_time": "2024-10-24T20:22:15.461Z"
   },
   {
    "duration": 46,
    "start_time": "2024-10-24T20:22:15.465Z"
   },
   {
    "duration": 3,
    "start_time": "2024-10-24T20:22:15.516Z"
   },
   {
    "duration": 5,
    "start_time": "2024-10-24T20:22:15.521Z"
   },
   {
    "duration": 8,
    "start_time": "2024-10-24T20:22:15.528Z"
   },
   {
    "duration": 5,
    "start_time": "2024-10-24T20:22:15.538Z"
   },
   {
    "duration": 8,
    "start_time": "2024-10-24T20:22:15.545Z"
   },
   {
    "duration": 173,
    "start_time": "2024-10-24T20:22:15.555Z"
   },
   {
    "duration": 143,
    "start_time": "2024-10-24T20:22:15.730Z"
   },
   {
    "duration": 225,
    "start_time": "2024-10-24T20:22:15.875Z"
   },
   {
    "duration": 3,
    "start_time": "2024-10-24T20:22:16.106Z"
   },
   {
    "duration": 4,
    "start_time": "2024-10-24T20:22:16.111Z"
   },
   {
    "duration": 4,
    "start_time": "2024-10-24T20:22:16.117Z"
   },
   {
    "duration": 172,
    "start_time": "2024-10-24T20:22:16.122Z"
   },
   {
    "duration": 5,
    "start_time": "2024-10-24T20:22:16.295Z"
   },
   {
    "duration": 8,
    "start_time": "2024-10-24T20:22:16.301Z"
   },
   {
    "duration": 247,
    "start_time": "2024-10-24T20:22:16.310Z"
   },
   {
    "duration": 5,
    "start_time": "2024-10-24T20:22:16.559Z"
   },
   {
    "duration": 260,
    "start_time": "2024-10-24T20:22:16.565Z"
   },
   {
    "duration": 5,
    "start_time": "2024-10-24T20:22:16.826Z"
   },
   {
    "duration": 8,
    "start_time": "2024-10-24T20:22:16.832Z"
   },
   {
    "duration": 4,
    "start_time": "2024-10-24T20:22:16.841Z"
   },
   {
    "duration": 7,
    "start_time": "2024-10-24T20:22:16.846Z"
   },
   {
    "duration": 606,
    "start_time": "2024-10-24T20:22:16.854Z"
   },
   {
    "duration": 0,
    "start_time": "2024-10-24T20:22:17.462Z"
   },
   {
    "duration": 0,
    "start_time": "2024-10-24T20:22:17.463Z"
   },
   {
    "duration": 0,
    "start_time": "2024-10-24T20:22:17.464Z"
   },
   {
    "duration": 0,
    "start_time": "2024-10-24T20:22:17.466Z"
   },
   {
    "duration": 0,
    "start_time": "2024-10-24T20:22:17.467Z"
   },
   {
    "duration": 0,
    "start_time": "2024-10-24T20:22:17.468Z"
   },
   {
    "duration": 0,
    "start_time": "2024-10-24T20:22:17.469Z"
   },
   {
    "duration": 0,
    "start_time": "2024-10-24T20:22:17.470Z"
   },
   {
    "duration": 0,
    "start_time": "2024-10-24T20:22:17.470Z"
   },
   {
    "duration": 0,
    "start_time": "2024-10-24T20:22:17.471Z"
   },
   {
    "duration": 6,
    "start_time": "2024-10-24T20:23:04.440Z"
   },
   {
    "duration": 5,
    "start_time": "2024-10-24T20:25:20.421Z"
   },
   {
    "duration": 2514,
    "start_time": "2024-10-24T22:41:20.545Z"
   },
   {
    "duration": 9,
    "start_time": "2024-10-24T22:41:23.062Z"
   },
   {
    "duration": 8,
    "start_time": "2024-10-24T22:41:23.072Z"
   },
   {
    "duration": 6,
    "start_time": "2024-10-24T22:41:23.082Z"
   },
   {
    "duration": 8,
    "start_time": "2024-10-24T22:41:23.090Z"
   },
   {
    "duration": 15,
    "start_time": "2024-10-24T22:41:23.100Z"
   },
   {
    "duration": 3,
    "start_time": "2024-10-24T22:41:23.116Z"
   },
   {
    "duration": 4,
    "start_time": "2024-10-24T22:41:23.121Z"
   },
   {
    "duration": 5,
    "start_time": "2024-10-24T22:41:23.127Z"
   },
   {
    "duration": 10,
    "start_time": "2024-10-24T22:41:23.133Z"
   },
   {
    "duration": 41,
    "start_time": "2024-10-24T22:41:23.146Z"
   },
   {
    "duration": 11,
    "start_time": "2024-10-24T22:41:23.189Z"
   },
   {
    "duration": 4,
    "start_time": "2024-10-24T22:41:23.202Z"
   },
   {
    "duration": 8,
    "start_time": "2024-10-24T22:41:23.209Z"
   },
   {
    "duration": 5,
    "start_time": "2024-10-24T22:41:23.219Z"
   },
   {
    "duration": 6,
    "start_time": "2024-10-24T22:41:23.226Z"
   },
   {
    "duration": 5,
    "start_time": "2024-10-24T22:41:23.234Z"
   },
   {
    "duration": 47,
    "start_time": "2024-10-24T22:41:23.241Z"
   },
   {
    "duration": 4,
    "start_time": "2024-10-24T22:41:23.290Z"
   },
   {
    "duration": 8,
    "start_time": "2024-10-24T22:41:23.296Z"
   },
   {
    "duration": 5,
    "start_time": "2024-10-24T22:41:23.306Z"
   },
   {
    "duration": 4,
    "start_time": "2024-10-24T22:41:23.312Z"
   },
   {
    "duration": 5,
    "start_time": "2024-10-24T22:41:23.318Z"
   },
   {
    "duration": 12,
    "start_time": "2024-10-24T22:41:23.325Z"
   },
   {
    "duration": 7,
    "start_time": "2024-10-24T22:41:23.339Z"
   },
   {
    "duration": 41,
    "start_time": "2024-10-24T22:41:23.347Z"
   },
   {
    "duration": 4,
    "start_time": "2024-10-24T22:41:23.391Z"
   },
   {
    "duration": 12,
    "start_time": "2024-10-24T22:41:23.397Z"
   },
   {
    "duration": 10,
    "start_time": "2024-10-24T22:41:23.410Z"
   },
   {
    "duration": 6,
    "start_time": "2024-10-24T22:41:23.421Z"
   },
   {
    "duration": 11,
    "start_time": "2024-10-24T22:41:23.428Z"
   },
   {
    "duration": 46,
    "start_time": "2024-10-24T22:41:23.441Z"
   },
   {
    "duration": 3,
    "start_time": "2024-10-24T22:41:23.489Z"
   },
   {
    "duration": 13,
    "start_time": "2024-10-24T22:41:23.497Z"
   },
   {
    "duration": 6,
    "start_time": "2024-10-24T22:41:23.511Z"
   },
   {
    "duration": 4,
    "start_time": "2024-10-24T22:41:23.518Z"
   },
   {
    "duration": 3,
    "start_time": "2024-10-24T22:41:23.524Z"
   },
   {
    "duration": 4,
    "start_time": "2024-10-24T22:41:23.530Z"
   },
   {
    "duration": 9,
    "start_time": "2024-10-24T22:41:23.535Z"
   },
   {
    "duration": 3,
    "start_time": "2024-10-24T22:41:23.546Z"
   },
   {
    "duration": 8,
    "start_time": "2024-10-24T22:41:23.587Z"
   },
   {
    "duration": 4,
    "start_time": "2024-10-24T22:41:23.597Z"
   },
   {
    "duration": 10,
    "start_time": "2024-10-24T22:41:23.602Z"
   },
   {
    "duration": 8,
    "start_time": "2024-10-24T22:41:23.614Z"
   },
   {
    "duration": 4,
    "start_time": "2024-10-24T22:41:23.624Z"
   },
   {
    "duration": 8,
    "start_time": "2024-10-24T22:41:23.630Z"
   },
   {
    "duration": 173,
    "start_time": "2024-10-24T22:41:23.639Z"
   },
   {
    "duration": 147,
    "start_time": "2024-10-24T22:41:23.814Z"
   },
   {
    "duration": 252,
    "start_time": "2024-10-24T22:41:23.963Z"
   },
   {
    "duration": 3,
    "start_time": "2024-10-24T22:41:24.218Z"
   },
   {
    "duration": 3,
    "start_time": "2024-10-24T22:41:24.223Z"
   },
   {
    "duration": 3,
    "start_time": "2024-10-24T22:41:24.227Z"
   },
   {
    "duration": 180,
    "start_time": "2024-10-24T22:41:24.231Z"
   },
   {
    "duration": 5,
    "start_time": "2024-10-24T22:41:24.413Z"
   },
   {
    "duration": 8,
    "start_time": "2024-10-24T22:41:24.419Z"
   },
   {
    "duration": 199,
    "start_time": "2024-10-24T22:41:24.428Z"
   },
   {
    "duration": 4,
    "start_time": "2024-10-24T22:41:24.629Z"
   },
   {
    "duration": 217,
    "start_time": "2024-10-24T22:41:24.635Z"
   },
   {
    "duration": 35,
    "start_time": "2024-10-24T22:41:24.854Z"
   },
   {
    "duration": 7,
    "start_time": "2024-10-24T22:41:24.892Z"
   },
   {
    "duration": 5,
    "start_time": "2024-10-24T22:41:24.900Z"
   },
   {
    "duration": 7,
    "start_time": "2024-10-24T22:41:24.907Z"
   },
   {
    "duration": 8,
    "start_time": "2024-10-24T22:41:24.916Z"
   },
   {
    "duration": 4,
    "start_time": "2024-10-24T22:41:24.925Z"
   },
   {
    "duration": 4,
    "start_time": "2024-10-24T22:41:24.931Z"
   },
   {
    "duration": 5,
    "start_time": "2024-10-24T22:41:24.936Z"
   },
   {
    "duration": 49,
    "start_time": "2024-10-24T22:41:24.943Z"
   },
   {
    "duration": 7,
    "start_time": "2024-10-24T22:41:24.993Z"
   },
   {
    "duration": 7,
    "start_time": "2024-10-24T22:41:25.002Z"
   },
   {
    "duration": 5,
    "start_time": "2024-10-24T22:41:25.010Z"
   },
   {
    "duration": 15,
    "start_time": "2024-10-24T22:41:25.016Z"
   },
   {
    "duration": 267,
    "start_time": "2024-10-24T22:42:25.531Z"
   },
   {
    "duration": 767,
    "start_time": "2024-10-24T22:42:32.656Z"
   },
   {
    "duration": 6,
    "start_time": "2024-10-24T22:42:33.426Z"
   },
   {
    "duration": 5,
    "start_time": "2024-10-24T22:42:33.434Z"
   },
   {
    "duration": 4,
    "start_time": "2024-10-24T22:42:33.440Z"
   },
   {
    "duration": 9,
    "start_time": "2024-10-24T22:42:33.447Z"
   },
   {
    "duration": 29,
    "start_time": "2024-10-24T22:42:33.458Z"
   },
   {
    "duration": 2,
    "start_time": "2024-10-24T22:42:33.489Z"
   },
   {
    "duration": 4,
    "start_time": "2024-10-24T22:42:33.493Z"
   },
   {
    "duration": 4,
    "start_time": "2024-10-24T22:42:33.500Z"
   },
   {
    "duration": 4,
    "start_time": "2024-10-24T22:42:33.506Z"
   },
   {
    "duration": 7,
    "start_time": "2024-10-24T22:42:33.512Z"
   },
   {
    "duration": 9,
    "start_time": "2024-10-24T22:42:33.520Z"
   },
   {
    "duration": 4,
    "start_time": "2024-10-24T22:42:33.531Z"
   },
   {
    "duration": 50,
    "start_time": "2024-10-24T22:42:33.539Z"
   },
   {
    "duration": 6,
    "start_time": "2024-10-24T22:42:33.591Z"
   },
   {
    "duration": 7,
    "start_time": "2024-10-24T22:42:33.599Z"
   },
   {
    "duration": 6,
    "start_time": "2024-10-24T22:42:33.607Z"
   },
   {
    "duration": 7,
    "start_time": "2024-10-24T22:42:33.615Z"
   },
   {
    "duration": 3,
    "start_time": "2024-10-24T22:42:33.624Z"
   },
   {
    "duration": 8,
    "start_time": "2024-10-24T22:42:33.628Z"
   },
   {
    "duration": 5,
    "start_time": "2024-10-24T22:42:33.637Z"
   },
   {
    "duration": 47,
    "start_time": "2024-10-24T22:42:33.644Z"
   },
   {
    "duration": 8,
    "start_time": "2024-10-24T22:42:33.693Z"
   },
   {
    "duration": 11,
    "start_time": "2024-10-24T22:42:33.703Z"
   },
   {
    "duration": 7,
    "start_time": "2024-10-24T22:42:33.716Z"
   },
   {
    "duration": 4,
    "start_time": "2024-10-24T22:42:33.725Z"
   },
   {
    "duration": 4,
    "start_time": "2024-10-24T22:42:33.731Z"
   },
   {
    "duration": 2,
    "start_time": "2024-10-24T22:42:33.736Z"
   },
   {
    "duration": 47,
    "start_time": "2024-10-24T22:42:33.740Z"
   },
   {
    "duration": 10,
    "start_time": "2024-10-24T22:42:33.788Z"
   },
   {
    "duration": 5,
    "start_time": "2024-10-24T22:42:33.800Z"
   },
   {
    "duration": 11,
    "start_time": "2024-10-24T22:42:33.807Z"
   },
   {
    "duration": 5,
    "start_time": "2024-10-24T22:42:33.820Z"
   },
   {
    "duration": 3,
    "start_time": "2024-10-24T22:42:33.827Z"
   },
   {
    "duration": 11,
    "start_time": "2024-10-24T22:42:33.831Z"
   },
   {
    "duration": 6,
    "start_time": "2024-10-24T22:42:33.843Z"
   },
   {
    "duration": 4,
    "start_time": "2024-10-24T22:42:33.887Z"
   },
   {
    "duration": 5,
    "start_time": "2024-10-24T22:42:33.892Z"
   },
   {
    "duration": 3,
    "start_time": "2024-10-24T22:42:33.899Z"
   },
   {
    "duration": 8,
    "start_time": "2024-10-24T22:42:33.904Z"
   },
   {
    "duration": 3,
    "start_time": "2024-10-24T22:42:33.918Z"
   },
   {
    "duration": 7,
    "start_time": "2024-10-24T22:42:33.923Z"
   },
   {
    "duration": 4,
    "start_time": "2024-10-24T22:42:33.931Z"
   },
   {
    "duration": 5,
    "start_time": "2024-10-24T22:42:33.936Z"
   },
   {
    "duration": 47,
    "start_time": "2024-10-24T22:42:33.942Z"
   },
   {
    "duration": 6,
    "start_time": "2024-10-24T22:42:33.990Z"
   },
   {
    "duration": 10,
    "start_time": "2024-10-24T22:42:33.998Z"
   },
   {
    "duration": 183,
    "start_time": "2024-10-24T22:42:34.009Z"
   },
   {
    "duration": 145,
    "start_time": "2024-10-24T22:42:34.194Z"
   },
   {
    "duration": 214,
    "start_time": "2024-10-24T22:42:34.341Z"
   },
   {
    "duration": 3,
    "start_time": "2024-10-24T22:42:34.557Z"
   },
   {
    "duration": 3,
    "start_time": "2024-10-24T22:42:34.562Z"
   },
   {
    "duration": 20,
    "start_time": "2024-10-24T22:42:34.567Z"
   },
   {
    "duration": 163,
    "start_time": "2024-10-24T22:42:34.588Z"
   },
   {
    "duration": 5,
    "start_time": "2024-10-24T22:42:34.753Z"
   },
   {
    "duration": 8,
    "start_time": "2024-10-24T22:42:34.759Z"
   },
   {
    "duration": 266,
    "start_time": "2024-10-24T22:42:34.769Z"
   },
   {
    "duration": 4,
    "start_time": "2024-10-24T22:42:35.036Z"
   },
   {
    "duration": 251,
    "start_time": "2024-10-24T22:42:35.043Z"
   },
   {
    "duration": 4,
    "start_time": "2024-10-24T22:42:35.296Z"
   },
   {
    "duration": 8,
    "start_time": "2024-10-24T22:42:35.302Z"
   },
   {
    "duration": 4,
    "start_time": "2024-10-24T22:42:35.311Z"
   },
   {
    "duration": 8,
    "start_time": "2024-10-24T22:42:35.317Z"
   },
   {
    "duration": 8,
    "start_time": "2024-10-24T22:42:35.327Z"
   },
   {
    "duration": 4,
    "start_time": "2024-10-24T22:42:35.337Z"
   },
   {
    "duration": 44,
    "start_time": "2024-10-24T22:42:35.343Z"
   },
   {
    "duration": 5,
    "start_time": "2024-10-24T22:42:35.389Z"
   },
   {
    "duration": 7,
    "start_time": "2024-10-24T22:42:35.396Z"
   },
   {
    "duration": 7,
    "start_time": "2024-10-24T22:42:35.404Z"
   },
   {
    "duration": 8,
    "start_time": "2024-10-24T22:42:35.412Z"
   },
   {
    "duration": 5,
    "start_time": "2024-10-24T22:42:35.421Z"
   },
   {
    "duration": 9,
    "start_time": "2024-10-24T22:42:35.428Z"
   },
   {
    "duration": 159,
    "start_time": "2024-10-24T23:53:36.089Z"
   },
   {
    "duration": 2440,
    "start_time": "2024-10-24T23:54:10.625Z"
   },
   {
    "duration": 8,
    "start_time": "2024-10-24T23:54:13.068Z"
   },
   {
    "duration": 7,
    "start_time": "2024-10-24T23:54:13.078Z"
   },
   {
    "duration": 6,
    "start_time": "2024-10-24T23:54:13.088Z"
   },
   {
    "duration": 8,
    "start_time": "2024-10-24T23:54:13.096Z"
   },
   {
    "duration": 10,
    "start_time": "2024-10-24T23:54:13.105Z"
   },
   {
    "duration": 3,
    "start_time": "2024-10-24T23:54:13.116Z"
   },
   {
    "duration": 3,
    "start_time": "2024-10-24T23:54:13.121Z"
   },
   {
    "duration": 5,
    "start_time": "2024-10-24T23:54:13.127Z"
   },
   {
    "duration": 5,
    "start_time": "2024-10-24T23:54:13.169Z"
   },
   {
    "duration": 7,
    "start_time": "2024-10-24T23:54:13.176Z"
   },
   {
    "duration": 7,
    "start_time": "2024-10-24T23:54:13.185Z"
   },
   {
    "duration": 5,
    "start_time": "2024-10-24T23:54:13.194Z"
   },
   {
    "duration": 8,
    "start_time": "2024-10-24T23:54:13.200Z"
   },
   {
    "duration": 6,
    "start_time": "2024-10-24T23:54:13.210Z"
   },
   {
    "duration": 5,
    "start_time": "2024-10-24T23:54:13.217Z"
   },
   {
    "duration": 46,
    "start_time": "2024-10-24T23:54:13.225Z"
   },
   {
    "duration": 9,
    "start_time": "2024-10-24T23:54:13.273Z"
   },
   {
    "duration": 3,
    "start_time": "2024-10-24T23:54:13.284Z"
   },
   {
    "duration": 9,
    "start_time": "2024-10-24T23:54:13.289Z"
   },
   {
    "duration": 5,
    "start_time": "2024-10-24T23:54:13.300Z"
   },
   {
    "duration": 5,
    "start_time": "2024-10-24T23:54:13.307Z"
   },
   {
    "duration": 7,
    "start_time": "2024-10-24T23:54:13.314Z"
   },
   {
    "duration": 55,
    "start_time": "2024-10-24T23:54:13.323Z"
   },
   {
    "duration": 8,
    "start_time": "2024-10-24T23:54:13.380Z"
   },
   {
    "duration": 5,
    "start_time": "2024-10-24T23:54:13.390Z"
   },
   {
    "duration": 4,
    "start_time": "2024-10-24T23:54:13.396Z"
   },
   {
    "duration": 2,
    "start_time": "2024-10-24T23:54:13.405Z"
   },
   {
    "duration": 393,
    "start_time": "2024-10-24T23:54:13.408Z"
   },
   {
    "duration": 0,
    "start_time": "2024-10-24T23:54:13.804Z"
   },
   {
    "duration": 0,
    "start_time": "2024-10-24T23:54:13.805Z"
   },
   {
    "duration": 0,
    "start_time": "2024-10-24T23:54:13.806Z"
   },
   {
    "duration": 0,
    "start_time": "2024-10-24T23:54:13.808Z"
   },
   {
    "duration": 0,
    "start_time": "2024-10-24T23:54:13.810Z"
   },
   {
    "duration": 0,
    "start_time": "2024-10-24T23:54:13.811Z"
   },
   {
    "duration": 0,
    "start_time": "2024-10-24T23:54:13.812Z"
   },
   {
    "duration": 0,
    "start_time": "2024-10-24T23:54:13.813Z"
   },
   {
    "duration": 0,
    "start_time": "2024-10-24T23:54:13.814Z"
   },
   {
    "duration": 0,
    "start_time": "2024-10-24T23:54:13.815Z"
   },
   {
    "duration": 0,
    "start_time": "2024-10-24T23:54:13.816Z"
   },
   {
    "duration": 0,
    "start_time": "2024-10-24T23:54:13.819Z"
   },
   {
    "duration": 0,
    "start_time": "2024-10-24T23:54:13.820Z"
   },
   {
    "duration": 0,
    "start_time": "2024-10-24T23:54:13.821Z"
   },
   {
    "duration": 0,
    "start_time": "2024-10-24T23:54:13.822Z"
   },
   {
    "duration": 0,
    "start_time": "2024-10-24T23:54:13.823Z"
   },
   {
    "duration": 0,
    "start_time": "2024-10-24T23:54:13.824Z"
   },
   {
    "duration": 0,
    "start_time": "2024-10-24T23:54:13.825Z"
   },
   {
    "duration": 0,
    "start_time": "2024-10-24T23:54:13.827Z"
   },
   {
    "duration": 0,
    "start_time": "2024-10-24T23:54:13.827Z"
   },
   {
    "duration": 0,
    "start_time": "2024-10-24T23:54:13.829Z"
   },
   {
    "duration": 0,
    "start_time": "2024-10-24T23:54:13.870Z"
   },
   {
    "duration": 0,
    "start_time": "2024-10-24T23:54:13.871Z"
   },
   {
    "duration": 0,
    "start_time": "2024-10-24T23:54:13.872Z"
   },
   {
    "duration": 0,
    "start_time": "2024-10-24T23:54:13.873Z"
   },
   {
    "duration": 1,
    "start_time": "2024-10-24T23:54:13.874Z"
   },
   {
    "duration": 0,
    "start_time": "2024-10-24T23:54:13.876Z"
   },
   {
    "duration": 0,
    "start_time": "2024-10-24T23:54:13.876Z"
   },
   {
    "duration": 0,
    "start_time": "2024-10-24T23:54:13.878Z"
   },
   {
    "duration": 0,
    "start_time": "2024-10-24T23:54:13.879Z"
   },
   {
    "duration": 0,
    "start_time": "2024-10-24T23:54:13.880Z"
   },
   {
    "duration": 0,
    "start_time": "2024-10-24T23:54:13.881Z"
   },
   {
    "duration": 0,
    "start_time": "2024-10-24T23:54:13.882Z"
   },
   {
    "duration": 0,
    "start_time": "2024-10-24T23:54:13.885Z"
   },
   {
    "duration": 0,
    "start_time": "2024-10-24T23:54:13.887Z"
   },
   {
    "duration": 0,
    "start_time": "2024-10-24T23:54:13.888Z"
   },
   {
    "duration": 0,
    "start_time": "2024-10-24T23:54:13.890Z"
   },
   {
    "duration": 741,
    "start_time": "2024-10-24T23:57:37.462Z"
   },
   {
    "duration": 7,
    "start_time": "2024-10-24T23:57:38.206Z"
   },
   {
    "duration": 5,
    "start_time": "2024-10-24T23:57:38.214Z"
   },
   {
    "duration": 5,
    "start_time": "2024-10-24T23:57:38.220Z"
   },
   {
    "duration": 8,
    "start_time": "2024-10-24T23:57:38.229Z"
   },
   {
    "duration": 32,
    "start_time": "2024-10-24T23:57:38.238Z"
   },
   {
    "duration": 2,
    "start_time": "2024-10-24T23:57:38.272Z"
   },
   {
    "duration": 4,
    "start_time": "2024-10-24T23:57:38.276Z"
   },
   {
    "duration": 5,
    "start_time": "2024-10-24T23:57:38.281Z"
   },
   {
    "duration": 4,
    "start_time": "2024-10-24T23:57:38.288Z"
   },
   {
    "duration": 7,
    "start_time": "2024-10-24T23:57:38.294Z"
   },
   {
    "duration": 8,
    "start_time": "2024-10-24T23:57:38.303Z"
   },
   {
    "duration": 4,
    "start_time": "2024-10-24T23:57:38.313Z"
   },
   {
    "duration": 4,
    "start_time": "2024-10-24T23:57:38.321Z"
   },
   {
    "duration": 7,
    "start_time": "2024-10-24T23:57:38.370Z"
   },
   {
    "duration": 8,
    "start_time": "2024-10-24T23:57:38.379Z"
   },
   {
    "duration": 3,
    "start_time": "2024-10-24T23:57:38.389Z"
   },
   {
    "duration": 8,
    "start_time": "2024-10-24T23:57:38.395Z"
   },
   {
    "duration": 5,
    "start_time": "2024-10-24T23:57:38.404Z"
   },
   {
    "duration": 5,
    "start_time": "2024-10-24T23:57:38.410Z"
   },
   {
    "duration": 5,
    "start_time": "2024-10-24T23:57:38.417Z"
   },
   {
    "duration": 55,
    "start_time": "2024-10-24T23:57:38.423Z"
   },
   {
    "duration": 6,
    "start_time": "2024-10-24T23:57:38.480Z"
   },
   {
    "duration": 4,
    "start_time": "2024-10-24T23:57:38.488Z"
   },
   {
    "duration": 4,
    "start_time": "2024-10-24T23:57:38.493Z"
   },
   {
    "duration": 2,
    "start_time": "2024-10-24T23:57:38.498Z"
   },
   {
    "duration": 8,
    "start_time": "2024-10-24T23:57:38.502Z"
   },
   {
    "duration": 6,
    "start_time": "2024-10-24T23:57:38.512Z"
   },
   {
    "duration": 4,
    "start_time": "2024-10-24T23:57:38.519Z"
   },
   {
    "duration": 4,
    "start_time": "2024-10-24T23:57:38.524Z"
   },
   {
    "duration": 43,
    "start_time": "2024-10-24T23:57:38.529Z"
   },
   {
    "duration": 9,
    "start_time": "2024-10-24T23:57:38.574Z"
   },
   {
    "duration": 5,
    "start_time": "2024-10-24T23:57:38.584Z"
   },
   {
    "duration": 8,
    "start_time": "2024-10-24T23:57:38.590Z"
   },
   {
    "duration": 4,
    "start_time": "2024-10-24T23:57:38.599Z"
   },
   {
    "duration": 256,
    "start_time": "2024-10-24T23:57:38.604Z"
   },
   {
    "duration": 0,
    "start_time": "2024-10-24T23:57:38.862Z"
   },
   {
    "duration": 0,
    "start_time": "2024-10-24T23:57:38.863Z"
   },
   {
    "duration": 0,
    "start_time": "2024-10-24T23:57:38.864Z"
   },
   {
    "duration": 0,
    "start_time": "2024-10-24T23:57:38.870Z"
   },
   {
    "duration": 0,
    "start_time": "2024-10-24T23:57:38.871Z"
   },
   {
    "duration": 0,
    "start_time": "2024-10-24T23:57:38.872Z"
   },
   {
    "duration": 0,
    "start_time": "2024-10-24T23:57:38.873Z"
   },
   {
    "duration": 0,
    "start_time": "2024-10-24T23:57:38.874Z"
   },
   {
    "duration": 0,
    "start_time": "2024-10-24T23:57:38.875Z"
   },
   {
    "duration": 0,
    "start_time": "2024-10-24T23:57:38.877Z"
   },
   {
    "duration": 0,
    "start_time": "2024-10-24T23:57:38.878Z"
   },
   {
    "duration": 0,
    "start_time": "2024-10-24T23:57:38.879Z"
   },
   {
    "duration": 0,
    "start_time": "2024-10-24T23:57:38.880Z"
   },
   {
    "duration": 0,
    "start_time": "2024-10-24T23:57:38.881Z"
   },
   {
    "duration": 0,
    "start_time": "2024-10-24T23:57:38.882Z"
   },
   {
    "duration": 0,
    "start_time": "2024-10-24T23:57:38.883Z"
   },
   {
    "duration": 0,
    "start_time": "2024-10-24T23:57:38.884Z"
   },
   {
    "duration": 0,
    "start_time": "2024-10-24T23:57:38.885Z"
   },
   {
    "duration": 0,
    "start_time": "2024-10-24T23:57:38.886Z"
   },
   {
    "duration": 0,
    "start_time": "2024-10-24T23:57:38.887Z"
   },
   {
    "duration": 0,
    "start_time": "2024-10-24T23:57:38.888Z"
   },
   {
    "duration": 0,
    "start_time": "2024-10-24T23:57:38.889Z"
   },
   {
    "duration": 0,
    "start_time": "2024-10-24T23:57:38.890Z"
   },
   {
    "duration": 0,
    "start_time": "2024-10-24T23:57:38.891Z"
   },
   {
    "duration": 0,
    "start_time": "2024-10-24T23:57:38.892Z"
   },
   {
    "duration": 0,
    "start_time": "2024-10-24T23:57:38.893Z"
   },
   {
    "duration": 0,
    "start_time": "2024-10-24T23:57:38.894Z"
   },
   {
    "duration": 0,
    "start_time": "2024-10-24T23:57:38.895Z"
   },
   {
    "duration": 793,
    "start_time": "2024-10-24T23:59:04.794Z"
   },
   {
    "duration": 6,
    "start_time": "2024-10-24T23:59:05.589Z"
   },
   {
    "duration": 7,
    "start_time": "2024-10-24T23:59:05.596Z"
   },
   {
    "duration": 4,
    "start_time": "2024-10-24T23:59:05.606Z"
   },
   {
    "duration": 9,
    "start_time": "2024-10-24T23:59:05.612Z"
   },
   {
    "duration": 8,
    "start_time": "2024-10-24T23:59:05.622Z"
   },
   {
    "duration": 2,
    "start_time": "2024-10-24T23:59:05.632Z"
   },
   {
    "duration": 3,
    "start_time": "2024-10-24T23:59:05.636Z"
   },
   {
    "duration": 5,
    "start_time": "2024-10-24T23:59:05.670Z"
   },
   {
    "duration": 5,
    "start_time": "2024-10-24T23:59:05.676Z"
   },
   {
    "duration": 6,
    "start_time": "2024-10-24T23:59:05.683Z"
   },
   {
    "duration": 9,
    "start_time": "2024-10-24T23:59:05.690Z"
   },
   {
    "duration": 4,
    "start_time": "2024-10-24T23:59:05.700Z"
   },
   {
    "duration": 4,
    "start_time": "2024-10-24T23:59:05.708Z"
   },
   {
    "duration": 7,
    "start_time": "2024-10-24T23:59:05.714Z"
   },
   {
    "duration": 49,
    "start_time": "2024-10-24T23:59:05.723Z"
   },
   {
    "duration": 5,
    "start_time": "2024-10-24T23:59:05.774Z"
   },
   {
    "duration": 4,
    "start_time": "2024-10-24T23:59:05.781Z"
   },
   {
    "duration": 6,
    "start_time": "2024-10-24T23:59:05.787Z"
   },
   {
    "duration": 10,
    "start_time": "2024-10-24T23:59:05.796Z"
   },
   {
    "duration": 6,
    "start_time": "2024-10-24T23:59:05.808Z"
   },
   {
    "duration": 4,
    "start_time": "2024-10-24T23:59:05.816Z"
   },
   {
    "duration": 3,
    "start_time": "2024-10-24T23:59:05.822Z"
   },
   {
    "duration": 44,
    "start_time": "2024-10-24T23:59:05.826Z"
   },
   {
    "duration": 10,
    "start_time": "2024-10-24T23:59:05.871Z"
   },
   {
    "duration": 223,
    "start_time": "2024-10-24T23:59:05.883Z"
   },
   {
    "duration": 0,
    "start_time": "2024-10-24T23:59:06.109Z"
   },
   {
    "duration": 0,
    "start_time": "2024-10-24T23:59:06.110Z"
   },
   {
    "duration": 0,
    "start_time": "2024-10-24T23:59:06.112Z"
   },
   {
    "duration": 0,
    "start_time": "2024-10-24T23:59:06.113Z"
   },
   {
    "duration": 0,
    "start_time": "2024-10-24T23:59:06.114Z"
   },
   {
    "duration": 0,
    "start_time": "2024-10-24T23:59:06.115Z"
   },
   {
    "duration": 0,
    "start_time": "2024-10-24T23:59:06.116Z"
   },
   {
    "duration": 0,
    "start_time": "2024-10-24T23:59:06.117Z"
   },
   {
    "duration": 0,
    "start_time": "2024-10-24T23:59:06.118Z"
   },
   {
    "duration": 0,
    "start_time": "2024-10-24T23:59:06.119Z"
   },
   {
    "duration": 0,
    "start_time": "2024-10-24T23:59:06.120Z"
   },
   {
    "duration": 0,
    "start_time": "2024-10-24T23:59:06.121Z"
   },
   {
    "duration": 0,
    "start_time": "2024-10-24T23:59:06.122Z"
   },
   {
    "duration": 0,
    "start_time": "2024-10-24T23:59:06.123Z"
   },
   {
    "duration": 0,
    "start_time": "2024-10-24T23:59:06.124Z"
   },
   {
    "duration": 0,
    "start_time": "2024-10-24T23:59:06.125Z"
   },
   {
    "duration": 0,
    "start_time": "2024-10-24T23:59:06.126Z"
   },
   {
    "duration": 0,
    "start_time": "2024-10-24T23:59:06.126Z"
   },
   {
    "duration": 0,
    "start_time": "2024-10-24T23:59:06.127Z"
   },
   {
    "duration": 0,
    "start_time": "2024-10-24T23:59:06.129Z"
   },
   {
    "duration": 0,
    "start_time": "2024-10-24T23:59:06.130Z"
   },
   {
    "duration": 0,
    "start_time": "2024-10-24T23:59:06.131Z"
   },
   {
    "duration": 0,
    "start_time": "2024-10-24T23:59:06.170Z"
   },
   {
    "duration": 0,
    "start_time": "2024-10-24T23:59:06.171Z"
   },
   {
    "duration": 0,
    "start_time": "2024-10-24T23:59:06.172Z"
   },
   {
    "duration": 0,
    "start_time": "2024-10-24T23:59:06.174Z"
   },
   {
    "duration": 0,
    "start_time": "2024-10-24T23:59:06.174Z"
   },
   {
    "duration": 0,
    "start_time": "2024-10-24T23:59:06.175Z"
   },
   {
    "duration": 0,
    "start_time": "2024-10-24T23:59:06.177Z"
   },
   {
    "duration": 0,
    "start_time": "2024-10-24T23:59:06.178Z"
   },
   {
    "duration": 0,
    "start_time": "2024-10-24T23:59:06.179Z"
   },
   {
    "duration": 0,
    "start_time": "2024-10-24T23:59:06.181Z"
   },
   {
    "duration": 0,
    "start_time": "2024-10-24T23:59:06.182Z"
   },
   {
    "duration": 0,
    "start_time": "2024-10-24T23:59:06.183Z"
   },
   {
    "duration": 0,
    "start_time": "2024-10-24T23:59:06.184Z"
   },
   {
    "duration": 0,
    "start_time": "2024-10-24T23:59:06.184Z"
   },
   {
    "duration": 0,
    "start_time": "2024-10-24T23:59:06.186Z"
   },
   {
    "duration": 237,
    "start_time": "2024-10-24T23:59:57.939Z"
   },
   {
    "duration": 36,
    "start_time": "2024-10-25T00:02:50.511Z"
   },
   {
    "duration": 57,
    "start_time": "2024-10-25T00:03:30.926Z"
   },
   {
    "duration": 753,
    "start_time": "2024-10-25T00:03:41.523Z"
   },
   {
    "duration": 6,
    "start_time": "2024-10-25T00:03:42.279Z"
   },
   {
    "duration": 5,
    "start_time": "2024-10-25T00:03:42.286Z"
   },
   {
    "duration": 4,
    "start_time": "2024-10-25T00:03:42.292Z"
   },
   {
    "duration": 9,
    "start_time": "2024-10-25T00:03:42.298Z"
   },
   {
    "duration": 8,
    "start_time": "2024-10-25T00:03:42.308Z"
   },
   {
    "duration": 3,
    "start_time": "2024-10-25T00:03:42.317Z"
   },
   {
    "duration": 4,
    "start_time": "2024-10-25T00:03:42.322Z"
   },
   {
    "duration": 5,
    "start_time": "2024-10-25T00:03:42.327Z"
   },
   {
    "duration": 5,
    "start_time": "2024-10-25T00:03:42.369Z"
   },
   {
    "duration": 7,
    "start_time": "2024-10-25T00:03:42.376Z"
   },
   {
    "duration": 8,
    "start_time": "2024-10-25T00:03:42.385Z"
   },
   {
    "duration": 5,
    "start_time": "2024-10-25T00:03:42.394Z"
   },
   {
    "duration": 4,
    "start_time": "2024-10-25T00:03:42.403Z"
   },
   {
    "duration": 6,
    "start_time": "2024-10-25T00:03:42.409Z"
   },
   {
    "duration": 8,
    "start_time": "2024-10-25T00:03:42.417Z"
   },
   {
    "duration": 4,
    "start_time": "2024-10-25T00:03:42.471Z"
   },
   {
    "duration": 9,
    "start_time": "2024-10-25T00:03:42.477Z"
   },
   {
    "duration": 5,
    "start_time": "2024-10-25T00:03:42.487Z"
   },
   {
    "duration": 11,
    "start_time": "2024-10-25T00:03:42.494Z"
   },
   {
    "duration": 7,
    "start_time": "2024-10-25T00:03:42.507Z"
   },
   {
    "duration": 3,
    "start_time": "2024-10-25T00:03:42.516Z"
   },
   {
    "duration": 3,
    "start_time": "2024-10-25T00:03:42.521Z"
   },
   {
    "duration": 2,
    "start_time": "2024-10-25T00:03:42.527Z"
   },
   {
    "duration": 487,
    "start_time": "2024-10-25T00:03:42.531Z"
   },
   {
    "duration": 0,
    "start_time": "2024-10-25T00:03:43.021Z"
   },
   {
    "duration": 0,
    "start_time": "2024-10-25T00:03:43.022Z"
   },
   {
    "duration": 0,
    "start_time": "2024-10-25T00:03:43.023Z"
   },
   {
    "duration": 0,
    "start_time": "2024-10-25T00:03:43.025Z"
   },
   {
    "duration": 0,
    "start_time": "2024-10-25T00:03:43.026Z"
   },
   {
    "duration": 0,
    "start_time": "2024-10-25T00:03:43.027Z"
   },
   {
    "duration": 0,
    "start_time": "2024-10-25T00:03:43.030Z"
   },
   {
    "duration": 0,
    "start_time": "2024-10-25T00:03:43.031Z"
   },
   {
    "duration": 0,
    "start_time": "2024-10-25T00:03:43.033Z"
   },
   {
    "duration": 0,
    "start_time": "2024-10-25T00:03:43.034Z"
   },
   {
    "duration": 0,
    "start_time": "2024-10-25T00:03:43.035Z"
   },
   {
    "duration": 0,
    "start_time": "2024-10-25T00:03:43.037Z"
   },
   {
    "duration": 0,
    "start_time": "2024-10-25T00:03:43.038Z"
   },
   {
    "duration": 0,
    "start_time": "2024-10-25T00:03:43.040Z"
   },
   {
    "duration": 0,
    "start_time": "2024-10-25T00:03:43.042Z"
   },
   {
    "duration": 0,
    "start_time": "2024-10-25T00:03:43.070Z"
   },
   {
    "duration": 0,
    "start_time": "2024-10-25T00:03:43.072Z"
   },
   {
    "duration": 0,
    "start_time": "2024-10-25T00:03:43.074Z"
   },
   {
    "duration": 0,
    "start_time": "2024-10-25T00:03:43.075Z"
   },
   {
    "duration": 0,
    "start_time": "2024-10-25T00:03:43.076Z"
   },
   {
    "duration": 0,
    "start_time": "2024-10-25T00:03:43.077Z"
   },
   {
    "duration": 0,
    "start_time": "2024-10-25T00:03:43.079Z"
   },
   {
    "duration": 0,
    "start_time": "2024-10-25T00:03:43.080Z"
   },
   {
    "duration": 0,
    "start_time": "2024-10-25T00:03:43.081Z"
   },
   {
    "duration": 0,
    "start_time": "2024-10-25T00:03:43.082Z"
   },
   {
    "duration": 0,
    "start_time": "2024-10-25T00:03:43.084Z"
   },
   {
    "duration": 0,
    "start_time": "2024-10-25T00:03:43.085Z"
   },
   {
    "duration": 0,
    "start_time": "2024-10-25T00:03:43.086Z"
   },
   {
    "duration": 0,
    "start_time": "2024-10-25T00:03:43.087Z"
   },
   {
    "duration": 0,
    "start_time": "2024-10-25T00:03:43.088Z"
   },
   {
    "duration": 0,
    "start_time": "2024-10-25T00:03:43.089Z"
   },
   {
    "duration": 0,
    "start_time": "2024-10-25T00:03:43.090Z"
   },
   {
    "duration": 0,
    "start_time": "2024-10-25T00:03:43.091Z"
   },
   {
    "duration": 0,
    "start_time": "2024-10-25T00:03:43.092Z"
   },
   {
    "duration": 0,
    "start_time": "2024-10-25T00:03:43.093Z"
   },
   {
    "duration": 0,
    "start_time": "2024-10-25T00:03:43.094Z"
   },
   {
    "duration": 0,
    "start_time": "2024-10-25T00:03:43.095Z"
   },
   {
    "duration": 0,
    "start_time": "2024-10-25T00:03:43.096Z"
   },
   {
    "duration": 9,
    "start_time": "2024-10-25T00:04:40.940Z"
   },
   {
    "duration": 4,
    "start_time": "2024-10-25T00:04:51.391Z"
   },
   {
    "duration": 9,
    "start_time": "2024-10-25T00:05:50.358Z"
   },
   {
    "duration": 10,
    "start_time": "2024-10-25T00:05:54.037Z"
   },
   {
    "duration": 4,
    "start_time": "2024-10-25T00:09:57.094Z"
   },
   {
    "duration": 9,
    "start_time": "2024-10-25T00:10:09.547Z"
   },
   {
    "duration": 16,
    "start_time": "2024-10-25T00:18:21.833Z"
   },
   {
    "duration": 140,
    "start_time": "2024-10-25T00:18:45.595Z"
   },
   {
    "duration": 90,
    "start_time": "2024-10-25T00:22:55.431Z"
   },
   {
    "duration": 6,
    "start_time": "2024-10-25T00:26:30.739Z"
   },
   {
    "duration": 4,
    "start_time": "2024-10-25T00:38:17.538Z"
   },
   {
    "duration": 6,
    "start_time": "2024-10-25T00:39:16.498Z"
   },
   {
    "duration": 7,
    "start_time": "2024-10-25T00:41:45.726Z"
   },
   {
    "duration": 3,
    "start_time": "2024-10-25T00:41:46.765Z"
   },
   {
    "duration": 6,
    "start_time": "2024-10-25T00:41:48.734Z"
   },
   {
    "duration": 4,
    "start_time": "2024-10-25T00:41:49.940Z"
   },
   {
    "duration": 9,
    "start_time": "2024-10-25T00:41:51.344Z"
   },
   {
    "duration": 3,
    "start_time": "2024-10-25T00:41:54.487Z"
   },
   {
    "duration": 8,
    "start_time": "2024-10-25T00:41:57.491Z"
   },
   {
    "duration": 4,
    "start_time": "2024-10-25T00:42:00.123Z"
   },
   {
    "duration": 16,
    "start_time": "2024-10-25T00:44:01.088Z"
   },
   {
    "duration": 763,
    "start_time": "2024-10-25T00:44:19.494Z"
   },
   {
    "duration": 8,
    "start_time": "2024-10-25T00:44:20.259Z"
   },
   {
    "duration": 5,
    "start_time": "2024-10-25T00:44:20.269Z"
   },
   {
    "duration": 4,
    "start_time": "2024-10-25T00:44:20.277Z"
   },
   {
    "duration": 9,
    "start_time": "2024-10-25T00:44:20.283Z"
   },
   {
    "duration": 7,
    "start_time": "2024-10-25T00:44:20.295Z"
   },
   {
    "duration": 3,
    "start_time": "2024-10-25T00:44:20.304Z"
   },
   {
    "duration": 3,
    "start_time": "2024-10-25T00:44:20.309Z"
   },
   {
    "duration": 4,
    "start_time": "2024-10-25T00:44:20.315Z"
   },
   {
    "duration": 5,
    "start_time": "2024-10-25T00:44:20.321Z"
   },
   {
    "duration": 43,
    "start_time": "2024-10-25T00:44:20.328Z"
   },
   {
    "duration": 9,
    "start_time": "2024-10-25T00:44:20.373Z"
   },
   {
    "duration": 5,
    "start_time": "2024-10-25T00:44:20.383Z"
   },
   {
    "duration": 5,
    "start_time": "2024-10-25T00:44:20.391Z"
   },
   {
    "duration": 5,
    "start_time": "2024-10-25T00:44:20.397Z"
   },
   {
    "duration": 7,
    "start_time": "2024-10-25T00:44:20.404Z"
   },
   {
    "duration": 5,
    "start_time": "2024-10-25T00:44:20.412Z"
   },
   {
    "duration": 4,
    "start_time": "2024-10-25T00:44:20.420Z"
   },
   {
    "duration": 7,
    "start_time": "2024-10-25T00:44:20.471Z"
   },
   {
    "duration": 12,
    "start_time": "2024-10-25T00:44:20.480Z"
   },
   {
    "duration": 8,
    "start_time": "2024-10-25T00:44:20.495Z"
   },
   {
    "duration": 6,
    "start_time": "2024-10-25T00:44:20.504Z"
   },
   {
    "duration": 3,
    "start_time": "2024-10-25T00:44:20.512Z"
   },
   {
    "duration": 2,
    "start_time": "2024-10-25T00:44:20.517Z"
   },
   {
    "duration": 8,
    "start_time": "2024-10-25T00:44:20.521Z"
   },
   {
    "duration": 3,
    "start_time": "2024-10-25T00:44:20.531Z"
   },
   {
    "duration": 40,
    "start_time": "2024-10-25T00:44:20.535Z"
   },
   {
    "duration": 7,
    "start_time": "2024-10-25T00:44:20.576Z"
   },
   {
    "duration": 5,
    "start_time": "2024-10-25T00:44:20.586Z"
   },
   {
    "duration": 7,
    "start_time": "2024-10-25T00:44:20.592Z"
   },
   {
    "duration": 162,
    "start_time": "2024-10-25T00:44:20.601Z"
   },
   {
    "duration": 91,
    "start_time": "2024-10-25T00:44:20.765Z"
   },
   {
    "duration": 16,
    "start_time": "2024-10-25T00:44:20.857Z"
   },
   {
    "duration": 2,
    "start_time": "2024-10-25T00:44:20.875Z"
   },
   {
    "duration": 5,
    "start_time": "2024-10-25T00:44:20.879Z"
   },
   {
    "duration": 7,
    "start_time": "2024-10-25T00:44:20.886Z"
   },
   {
    "duration": 3,
    "start_time": "2024-10-25T00:44:20.896Z"
   },
   {
    "duration": 3,
    "start_time": "2024-10-25T00:44:20.901Z"
   },
   {
    "duration": 3,
    "start_time": "2024-10-25T00:44:20.906Z"
   },
   {
    "duration": 9,
    "start_time": "2024-10-25T00:44:20.910Z"
   },
   {
    "duration": 49,
    "start_time": "2024-10-25T00:44:20.924Z"
   },
   {
    "duration": 9,
    "start_time": "2024-10-25T00:44:20.974Z"
   },
   {
    "duration": 4,
    "start_time": "2024-10-25T00:44:20.984Z"
   },
   {
    "duration": 4,
    "start_time": "2024-10-25T00:44:20.989Z"
   },
   {
    "duration": 4,
    "start_time": "2024-10-25T00:44:20.995Z"
   },
   {
    "duration": 165,
    "start_time": "2024-10-25T00:44:21.001Z"
   },
   {
    "duration": 267,
    "start_time": "2024-10-25T00:44:21.170Z"
   },
   {
    "duration": 0,
    "start_time": "2024-10-25T00:44:21.439Z"
   },
   {
    "duration": 0,
    "start_time": "2024-10-25T00:44:21.440Z"
   },
   {
    "duration": 0,
    "start_time": "2024-10-25T00:44:21.442Z"
   },
   {
    "duration": 0,
    "start_time": "2024-10-25T00:44:21.443Z"
   },
   {
    "duration": 0,
    "start_time": "2024-10-25T00:44:21.444Z"
   },
   {
    "duration": 0,
    "start_time": "2024-10-25T00:44:21.446Z"
   },
   {
    "duration": 0,
    "start_time": "2024-10-25T00:44:21.447Z"
   },
   {
    "duration": 0,
    "start_time": "2024-10-25T00:44:21.447Z"
   },
   {
    "duration": 0,
    "start_time": "2024-10-25T00:44:21.449Z"
   },
   {
    "duration": 1,
    "start_time": "2024-10-25T00:44:21.469Z"
   },
   {
    "duration": 0,
    "start_time": "2024-10-25T00:44:21.471Z"
   },
   {
    "duration": 0,
    "start_time": "2024-10-25T00:44:21.472Z"
   },
   {
    "duration": 0,
    "start_time": "2024-10-25T00:44:21.473Z"
   },
   {
    "duration": 0,
    "start_time": "2024-10-25T00:44:21.474Z"
   },
   {
    "duration": 0,
    "start_time": "2024-10-25T00:44:21.474Z"
   },
   {
    "duration": 0,
    "start_time": "2024-10-25T00:44:21.476Z"
   },
   {
    "duration": 0,
    "start_time": "2024-10-25T00:44:21.477Z"
   },
   {
    "duration": 0,
    "start_time": "2024-10-25T00:44:21.479Z"
   },
   {
    "duration": 0,
    "start_time": "2024-10-25T00:44:21.480Z"
   },
   {
    "duration": 0,
    "start_time": "2024-10-25T00:44:21.481Z"
   },
   {
    "duration": 0,
    "start_time": "2024-10-25T00:44:21.482Z"
   },
   {
    "duration": 0,
    "start_time": "2024-10-25T00:44:21.483Z"
   },
   {
    "duration": 0,
    "start_time": "2024-10-25T00:44:21.483Z"
   },
   {
    "duration": 0,
    "start_time": "2024-10-25T00:44:21.489Z"
   },
   {
    "duration": 132,
    "start_time": "2024-10-25T00:45:20.586Z"
   },
   {
    "duration": 136,
    "start_time": "2024-10-25T00:50:16.878Z"
   },
   {
    "duration": 248,
    "start_time": "2024-10-25T00:57:09.887Z"
   },
   {
    "duration": 4,
    "start_time": "2024-10-25T01:07:14.895Z"
   },
   {
    "duration": 3,
    "start_time": "2024-10-25T01:07:15.678Z"
   },
   {
    "duration": 3,
    "start_time": "2024-10-25T01:07:16.879Z"
   },
   {
    "duration": 134,
    "start_time": "2024-10-25T01:07:17.647Z"
   },
   {
    "duration": 5,
    "start_time": "2024-10-25T01:08:53.113Z"
   },
   {
    "duration": 7,
    "start_time": "2024-10-25T01:08:53.950Z"
   },
   {
    "duration": 198,
    "start_time": "2024-10-25T01:08:56.823Z"
   },
   {
    "duration": 5,
    "start_time": "2024-10-25T01:09:39.588Z"
   },
   {
    "duration": 201,
    "start_time": "2024-10-25T01:09:51.705Z"
   },
   {
    "duration": 5,
    "start_time": "2024-10-25T01:10:01.910Z"
   },
   {
    "duration": 7,
    "start_time": "2024-10-25T01:10:03.384Z"
   },
   {
    "duration": 4,
    "start_time": "2024-10-25T01:10:07.024Z"
   },
   {
    "duration": 56,
    "start_time": "2024-10-25T01:29:22.476Z"
   },
   {
    "duration": 68,
    "start_time": "2024-10-25T01:32:17.748Z"
   },
   {
    "duration": 780,
    "start_time": "2024-10-25T01:38:47.713Z"
   },
   {
    "duration": 6,
    "start_time": "2024-10-25T01:38:48.497Z"
   },
   {
    "duration": 5,
    "start_time": "2024-10-25T01:38:48.505Z"
   },
   {
    "duration": 5,
    "start_time": "2024-10-25T01:38:48.512Z"
   },
   {
    "duration": 8,
    "start_time": "2024-10-25T01:38:48.519Z"
   },
   {
    "duration": 8,
    "start_time": "2024-10-25T01:38:48.529Z"
   },
   {
    "duration": 2,
    "start_time": "2024-10-25T01:38:48.540Z"
   },
   {
    "duration": 27,
    "start_time": "2024-10-25T01:38:48.544Z"
   },
   {
    "duration": 5,
    "start_time": "2024-10-25T01:38:48.572Z"
   },
   {
    "duration": 4,
    "start_time": "2024-10-25T01:38:48.579Z"
   },
   {
    "duration": 7,
    "start_time": "2024-10-25T01:38:48.584Z"
   },
   {
    "duration": 8,
    "start_time": "2024-10-25T01:38:48.593Z"
   },
   {
    "duration": 5,
    "start_time": "2024-10-25T01:38:48.602Z"
   },
   {
    "duration": 4,
    "start_time": "2024-10-25T01:38:48.611Z"
   },
   {
    "duration": 6,
    "start_time": "2024-10-25T01:38:48.617Z"
   },
   {
    "duration": 9,
    "start_time": "2024-10-25T01:38:48.670Z"
   },
   {
    "duration": 6,
    "start_time": "2024-10-25T01:38:48.680Z"
   },
   {
    "duration": 5,
    "start_time": "2024-10-25T01:38:48.687Z"
   },
   {
    "duration": 6,
    "start_time": "2024-10-25T01:38:48.693Z"
   },
   {
    "duration": 11,
    "start_time": "2024-10-25T01:38:48.700Z"
   },
   {
    "duration": 7,
    "start_time": "2024-10-25T01:38:48.713Z"
   },
   {
    "duration": 5,
    "start_time": "2024-10-25T01:38:48.721Z"
   },
   {
    "duration": 42,
    "start_time": "2024-10-25T01:38:48.729Z"
   },
   {
    "duration": 3,
    "start_time": "2024-10-25T01:38:48.773Z"
   },
   {
    "duration": 9,
    "start_time": "2024-10-25T01:38:48.778Z"
   },
   {
    "duration": 7,
    "start_time": "2024-10-25T01:38:48.789Z"
   },
   {
    "duration": 8,
    "start_time": "2024-10-25T01:38:48.798Z"
   },
   {
    "duration": 8,
    "start_time": "2024-10-25T01:38:48.808Z"
   },
   {
    "duration": 4,
    "start_time": "2024-10-25T01:38:48.818Z"
   },
   {
    "duration": 8,
    "start_time": "2024-10-25T01:38:48.823Z"
   },
   {
    "duration": 178,
    "start_time": "2024-10-25T01:38:48.833Z"
   },
   {
    "duration": 95,
    "start_time": "2024-10-25T01:38:49.013Z"
   },
   {
    "duration": 6,
    "start_time": "2024-10-25T01:38:49.109Z"
   },
   {
    "duration": 3,
    "start_time": "2024-10-25T01:38:49.116Z"
   },
   {
    "duration": 5,
    "start_time": "2024-10-25T01:38:49.121Z"
   },
   {
    "duration": 7,
    "start_time": "2024-10-25T01:38:49.128Z"
   },
   {
    "duration": 35,
    "start_time": "2024-10-25T01:38:49.136Z"
   },
   {
    "duration": 3,
    "start_time": "2024-10-25T01:38:49.173Z"
   },
   {
    "duration": 3,
    "start_time": "2024-10-25T01:38:49.178Z"
   },
   {
    "duration": 9,
    "start_time": "2024-10-25T01:38:49.183Z"
   },
   {
    "duration": 3,
    "start_time": "2024-10-25T01:38:49.196Z"
   },
   {
    "duration": 8,
    "start_time": "2024-10-25T01:38:49.200Z"
   },
   {
    "duration": 4,
    "start_time": "2024-10-25T01:38:49.209Z"
   },
   {
    "duration": 4,
    "start_time": "2024-10-25T01:38:49.215Z"
   },
   {
    "duration": 4,
    "start_time": "2024-10-25T01:38:49.220Z"
   },
   {
    "duration": 183,
    "start_time": "2024-10-25T01:38:49.226Z"
   },
   {
    "duration": 138,
    "start_time": "2024-10-25T01:38:49.411Z"
   },
   {
    "duration": 194,
    "start_time": "2024-10-25T01:38:49.551Z"
   },
   {
    "duration": 3,
    "start_time": "2024-10-25T01:38:49.771Z"
   },
   {
    "duration": 4,
    "start_time": "2024-10-25T01:38:49.776Z"
   },
   {
    "duration": 6,
    "start_time": "2024-10-25T01:38:49.781Z"
   },
   {
    "duration": 157,
    "start_time": "2024-10-25T01:38:49.789Z"
   },
   {
    "duration": 5,
    "start_time": "2024-10-25T01:38:49.948Z"
   },
   {
    "duration": 18,
    "start_time": "2024-10-25T01:38:49.955Z"
   },
   {
    "duration": 249,
    "start_time": "2024-10-25T01:38:49.974Z"
   },
   {
    "duration": 4,
    "start_time": "2024-10-25T01:38:50.225Z"
   },
   {
    "duration": 267,
    "start_time": "2024-10-25T01:38:50.231Z"
   },
   {
    "duration": 5,
    "start_time": "2024-10-25T01:38:50.500Z"
   },
   {
    "duration": 8,
    "start_time": "2024-10-25T01:38:50.506Z"
   },
   {
    "duration": 4,
    "start_time": "2024-10-25T01:38:50.516Z"
   },
   {
    "duration": 81,
    "start_time": "2024-10-25T01:38:50.521Z"
   },
   {
    "duration": 76,
    "start_time": "2024-10-25T01:38:50.603Z"
   },
   {
    "duration": 219,
    "start_time": "2024-10-25T01:38:50.681Z"
   },
   {
    "duration": 0,
    "start_time": "2024-10-25T01:38:50.901Z"
   },
   {
    "duration": 0,
    "start_time": "2024-10-25T01:38:50.902Z"
   },
   {
    "duration": 0,
    "start_time": "2024-10-25T01:38:50.903Z"
   },
   {
    "duration": 0,
    "start_time": "2024-10-25T01:38:50.904Z"
   },
   {
    "duration": 0,
    "start_time": "2024-10-25T01:38:50.905Z"
   },
   {
    "duration": 0,
    "start_time": "2024-10-25T01:38:50.906Z"
   },
   {
    "duration": 0,
    "start_time": "2024-10-25T01:38:50.908Z"
   },
   {
    "duration": 5,
    "start_time": "2024-10-25T01:43:49.553Z"
   },
   {
    "duration": 5,
    "start_time": "2024-10-25T01:45:11.070Z"
   },
   {
    "duration": 16,
    "start_time": "2024-10-25T01:45:24.494Z"
   },
   {
    "duration": 9,
    "start_time": "2024-10-25T02:01:58.601Z"
   },
   {
    "duration": 9,
    "start_time": "2024-10-25T02:13:05.866Z"
   },
   {
    "duration": 7,
    "start_time": "2024-10-25T02:17:55.617Z"
   },
   {
    "duration": 24,
    "start_time": "2024-10-25T02:18:30.287Z"
   },
   {
    "duration": 31,
    "start_time": "2024-10-25T02:25:04.224Z"
   },
   {
    "duration": 10,
    "start_time": "2024-10-25T02:25:33.497Z"
   },
   {
    "duration": 5,
    "start_time": "2024-10-25T02:28:37.942Z"
   },
   {
    "duration": 857,
    "start_time": "2024-10-25T02:28:46.020Z"
   },
   {
    "duration": 7,
    "start_time": "2024-10-25T02:28:46.883Z"
   },
   {
    "duration": 6,
    "start_time": "2024-10-25T02:28:46.892Z"
   },
   {
    "duration": 5,
    "start_time": "2024-10-25T02:28:46.901Z"
   },
   {
    "duration": 8,
    "start_time": "2024-10-25T02:28:46.909Z"
   },
   {
    "duration": 9,
    "start_time": "2024-10-25T02:28:46.919Z"
   },
   {
    "duration": 4,
    "start_time": "2024-10-25T02:28:46.930Z"
   },
   {
    "duration": 5,
    "start_time": "2024-10-25T02:28:46.936Z"
   },
   {
    "duration": 29,
    "start_time": "2024-10-25T02:28:46.942Z"
   },
   {
    "duration": 6,
    "start_time": "2024-10-25T02:28:46.973Z"
   },
   {
    "duration": 9,
    "start_time": "2024-10-25T02:28:46.980Z"
   },
   {
    "duration": 10,
    "start_time": "2024-10-25T02:28:46.990Z"
   },
   {
    "duration": 5,
    "start_time": "2024-10-25T02:28:47.001Z"
   },
   {
    "duration": 6,
    "start_time": "2024-10-25T02:28:47.010Z"
   },
   {
    "duration": 6,
    "start_time": "2024-10-25T02:28:47.017Z"
   },
   {
    "duration": 48,
    "start_time": "2024-10-25T02:28:47.025Z"
   },
   {
    "duration": 6,
    "start_time": "2024-10-25T02:28:47.075Z"
   },
   {
    "duration": 7,
    "start_time": "2024-10-25T02:28:47.083Z"
   },
   {
    "duration": 6,
    "start_time": "2024-10-25T02:28:47.092Z"
   },
   {
    "duration": 13,
    "start_time": "2024-10-25T02:28:47.099Z"
   },
   {
    "duration": 8,
    "start_time": "2024-10-25T02:28:47.115Z"
   },
   {
    "duration": 5,
    "start_time": "2024-10-25T02:28:47.124Z"
   },
   {
    "duration": 41,
    "start_time": "2024-10-25T02:28:47.130Z"
   },
   {
    "duration": 7,
    "start_time": "2024-10-25T02:28:47.176Z"
   },
   {
    "duration": 14,
    "start_time": "2024-10-25T02:28:47.187Z"
   },
   {
    "duration": 5,
    "start_time": "2024-10-25T02:28:47.202Z"
   },
   {
    "duration": 8,
    "start_time": "2024-10-25T02:28:47.209Z"
   },
   {
    "duration": 6,
    "start_time": "2024-10-25T02:28:47.219Z"
   },
   {
    "duration": 8,
    "start_time": "2024-10-25T02:28:47.226Z"
   },
   {
    "duration": 10,
    "start_time": "2024-10-25T02:28:47.235Z"
   },
   {
    "duration": 26,
    "start_time": "2024-10-25T02:28:47.247Z"
   },
   {
    "duration": 150,
    "start_time": "2024-10-25T02:28:47.274Z"
   },
   {
    "duration": 110,
    "start_time": "2024-10-25T02:28:47.426Z"
   },
   {
    "duration": 7,
    "start_time": "2024-10-25T02:28:47.538Z"
   },
   {
    "duration": 4,
    "start_time": "2024-10-25T02:28:47.546Z"
   },
   {
    "duration": 20,
    "start_time": "2024-10-25T02:28:47.551Z"
   },
   {
    "duration": 7,
    "start_time": "2024-10-25T02:28:47.573Z"
   },
   {
    "duration": 3,
    "start_time": "2024-10-25T02:28:47.582Z"
   },
   {
    "duration": 3,
    "start_time": "2024-10-25T02:28:47.587Z"
   },
   {
    "duration": 3,
    "start_time": "2024-10-25T02:28:47.592Z"
   },
   {
    "duration": 10,
    "start_time": "2024-10-25T02:28:47.601Z"
   },
   {
    "duration": 2,
    "start_time": "2024-10-25T02:28:47.613Z"
   },
   {
    "duration": 8,
    "start_time": "2024-10-25T02:28:47.616Z"
   },
   {
    "duration": 45,
    "start_time": "2024-10-25T02:28:47.626Z"
   },
   {
    "duration": 7,
    "start_time": "2024-10-25T02:28:47.673Z"
   },
   {
    "duration": 5,
    "start_time": "2024-10-25T02:28:47.682Z"
   },
   {
    "duration": 160,
    "start_time": "2024-10-25T02:28:47.689Z"
   },
   {
    "duration": 159,
    "start_time": "2024-10-25T02:28:47.851Z"
   },
   {
    "duration": 228,
    "start_time": "2024-10-25T02:28:48.011Z"
   },
   {
    "duration": 4,
    "start_time": "2024-10-25T02:28:48.240Z"
   },
   {
    "duration": 4,
    "start_time": "2024-10-25T02:28:48.246Z"
   },
   {
    "duration": 19,
    "start_time": "2024-10-25T02:28:48.251Z"
   },
   {
    "duration": 166,
    "start_time": "2024-10-25T02:28:48.271Z"
   },
   {
    "duration": 5,
    "start_time": "2024-10-25T02:28:48.439Z"
   },
   {
    "duration": 9,
    "start_time": "2024-10-25T02:28:48.445Z"
   },
   {
    "duration": 274,
    "start_time": "2024-10-25T02:28:48.455Z"
   },
   {
    "duration": 7,
    "start_time": "2024-10-25T02:28:48.731Z"
   },
   {
    "duration": 284,
    "start_time": "2024-10-25T02:28:48.740Z"
   },
   {
    "duration": 6,
    "start_time": "2024-10-25T02:28:49.026Z"
   },
   {
    "duration": 10,
    "start_time": "2024-10-25T02:28:49.033Z"
   },
   {
    "duration": 26,
    "start_time": "2024-10-25T02:28:49.045Z"
   },
   {
    "duration": 58,
    "start_time": "2024-10-25T02:28:49.072Z"
   },
   {
    "duration": 88,
    "start_time": "2024-10-25T02:28:49.133Z"
   },
   {
    "duration": 5,
    "start_time": "2024-10-25T02:28:49.224Z"
   },
   {
    "duration": 5,
    "start_time": "2024-10-25T02:28:49.230Z"
   },
   {
    "duration": 37,
    "start_time": "2024-10-25T02:28:49.237Z"
   },
   {
    "duration": 9,
    "start_time": "2024-10-25T02:28:49.276Z"
   },
   {
    "duration": 8,
    "start_time": "2024-10-25T02:28:49.287Z"
   },
   {
    "duration": 7,
    "start_time": "2024-10-25T02:28:49.297Z"
   },
   {
    "duration": 16,
    "start_time": "2024-10-25T02:28:49.305Z"
   },
   {
    "duration": 11,
    "start_time": "2024-10-25T02:28:49.323Z"
   },
   {
    "duration": 779,
    "start_time": "2024-10-25T04:22:23.914Z"
   },
   {
    "duration": 6,
    "start_time": "2024-10-25T04:22:24.696Z"
   },
   {
    "duration": 5,
    "start_time": "2024-10-25T04:22:24.704Z"
   },
   {
    "duration": 5,
    "start_time": "2024-10-25T04:22:24.711Z"
   },
   {
    "duration": 9,
    "start_time": "2024-10-25T04:22:24.718Z"
   },
   {
    "duration": 10,
    "start_time": "2024-10-25T04:22:24.728Z"
   },
   {
    "duration": 31,
    "start_time": "2024-10-25T04:22:24.739Z"
   },
   {
    "duration": 4,
    "start_time": "2024-10-25T04:22:24.772Z"
   },
   {
    "duration": 5,
    "start_time": "2024-10-25T04:22:24.778Z"
   },
   {
    "duration": 5,
    "start_time": "2024-10-25T04:22:24.785Z"
   },
   {
    "duration": 8,
    "start_time": "2024-10-25T04:22:24.791Z"
   },
   {
    "duration": 9,
    "start_time": "2024-10-25T04:22:24.800Z"
   },
   {
    "duration": 5,
    "start_time": "2024-10-25T04:22:24.810Z"
   },
   {
    "duration": 4,
    "start_time": "2024-10-25T04:22:24.819Z"
   },
   {
    "duration": 46,
    "start_time": "2024-10-25T04:22:24.825Z"
   },
   {
    "duration": 9,
    "start_time": "2024-10-25T04:22:24.873Z"
   },
   {
    "duration": 5,
    "start_time": "2024-10-25T04:22:24.884Z"
   },
   {
    "duration": 4,
    "start_time": "2024-10-25T04:22:24.891Z"
   },
   {
    "duration": 6,
    "start_time": "2024-10-25T04:22:24.897Z"
   },
   {
    "duration": 11,
    "start_time": "2024-10-25T04:22:24.905Z"
   },
   {
    "duration": 7,
    "start_time": "2024-10-25T04:22:24.917Z"
   },
   {
    "duration": 47,
    "start_time": "2024-10-25T04:22:24.925Z"
   },
   {
    "duration": 4,
    "start_time": "2024-10-25T04:22:24.974Z"
   },
   {
    "duration": 2,
    "start_time": "2024-10-25T04:22:24.980Z"
   },
   {
    "duration": 9,
    "start_time": "2024-10-25T04:22:24.984Z"
   },
   {
    "duration": 4,
    "start_time": "2024-10-25T04:22:24.994Z"
   },
   {
    "duration": 8,
    "start_time": "2024-10-25T04:22:24.999Z"
   },
   {
    "duration": 6,
    "start_time": "2024-10-25T04:22:25.009Z"
   },
   {
    "duration": 5,
    "start_time": "2024-10-25T04:22:25.017Z"
   },
   {
    "duration": 48,
    "start_time": "2024-10-25T04:22:25.023Z"
   },
   {
    "duration": 6,
    "start_time": "2024-10-25T04:22:25.073Z"
   },
   {
    "duration": 161,
    "start_time": "2024-10-25T04:22:25.081Z"
   },
   {
    "duration": 93,
    "start_time": "2024-10-25T04:22:25.243Z"
   },
   {
    "duration": 6,
    "start_time": "2024-10-25T04:22:25.338Z"
   },
   {
    "duration": 2,
    "start_time": "2024-10-25T04:22:25.346Z"
   },
   {
    "duration": 5,
    "start_time": "2024-10-25T04:22:25.350Z"
   },
   {
    "duration": 7,
    "start_time": "2024-10-25T04:22:25.370Z"
   },
   {
    "duration": 4,
    "start_time": "2024-10-25T04:22:25.379Z"
   },
   {
    "duration": 4,
    "start_time": "2024-10-25T04:22:25.384Z"
   },
   {
    "duration": 4,
    "start_time": "2024-10-25T04:22:25.390Z"
   },
   {
    "duration": 8,
    "start_time": "2024-10-25T04:22:25.399Z"
   },
   {
    "duration": 3,
    "start_time": "2024-10-25T04:22:25.408Z"
   },
   {
    "duration": 7,
    "start_time": "2024-10-25T04:22:25.412Z"
   },
   {
    "duration": 4,
    "start_time": "2024-10-25T04:22:25.421Z"
   },
   {
    "duration": 47,
    "start_time": "2024-10-25T04:22:25.426Z"
   },
   {
    "duration": 4,
    "start_time": "2024-10-25T04:22:25.474Z"
   },
   {
    "duration": 157,
    "start_time": "2024-10-25T04:22:25.480Z"
   },
   {
    "duration": 143,
    "start_time": "2024-10-25T04:22:25.639Z"
   },
   {
    "duration": 240,
    "start_time": "2024-10-25T04:22:25.785Z"
   },
   {
    "duration": 4,
    "start_time": "2024-10-25T04:22:26.026Z"
   },
   {
    "duration": 3,
    "start_time": "2024-10-25T04:22:26.032Z"
   },
   {
    "duration": 4,
    "start_time": "2024-10-25T04:22:26.037Z"
   },
   {
    "duration": 165,
    "start_time": "2024-10-25T04:22:26.042Z"
   },
   {
    "duration": 5,
    "start_time": "2024-10-25T04:22:26.209Z"
   },
   {
    "duration": 7,
    "start_time": "2024-10-25T04:22:26.216Z"
   },
   {
    "duration": 306,
    "start_time": "2024-10-25T04:22:26.224Z"
   },
   {
    "duration": 4,
    "start_time": "2024-10-25T04:22:26.532Z"
   },
   {
    "duration": 277,
    "start_time": "2024-10-25T04:22:26.538Z"
   },
   {
    "duration": 5,
    "start_time": "2024-10-25T04:22:26.817Z"
   },
   {
    "duration": 7,
    "start_time": "2024-10-25T04:22:26.825Z"
   },
   {
    "duration": 4,
    "start_time": "2024-10-25T04:22:26.834Z"
   },
   {
    "duration": 77,
    "start_time": "2024-10-25T04:22:26.840Z"
   },
   {
    "duration": 75,
    "start_time": "2024-10-25T04:22:26.919Z"
   },
   {
    "duration": 5,
    "start_time": "2024-10-25T04:22:26.996Z"
   },
   {
    "duration": 4,
    "start_time": "2024-10-25T04:22:27.003Z"
   },
   {
    "duration": 16,
    "start_time": "2024-10-25T04:22:27.008Z"
   },
   {
    "duration": 9,
    "start_time": "2024-10-25T04:22:27.025Z"
   },
   {
    "duration": 35,
    "start_time": "2024-10-25T04:22:27.035Z"
   },
   {
    "duration": 9,
    "start_time": "2024-10-25T04:22:27.072Z"
   },
   {
    "duration": 15,
    "start_time": "2024-10-25T04:22:27.086Z"
   },
   {
    "duration": 11,
    "start_time": "2024-10-25T04:22:27.103Z"
   },
   {
    "duration": 2470,
    "start_time": "2024-10-25T18:58:42.001Z"
   },
   {
    "duration": 9,
    "start_time": "2024-10-25T18:58:44.474Z"
   },
   {
    "duration": 8,
    "start_time": "2024-10-25T18:58:44.484Z"
   },
   {
    "duration": 7,
    "start_time": "2024-10-25T18:58:44.493Z"
   },
   {
    "duration": 8,
    "start_time": "2024-10-25T18:58:44.504Z"
   },
   {
    "duration": 9,
    "start_time": "2024-10-25T18:58:44.513Z"
   },
   {
    "duration": 3,
    "start_time": "2024-10-25T18:58:44.523Z"
   },
   {
    "duration": 3,
    "start_time": "2024-10-25T18:58:44.528Z"
   },
   {
    "duration": 4,
    "start_time": "2024-10-25T18:58:44.533Z"
   },
   {
    "duration": 4,
    "start_time": "2024-10-25T18:58:44.539Z"
   },
   {
    "duration": 7,
    "start_time": "2024-10-25T18:58:44.545Z"
   },
   {
    "duration": 8,
    "start_time": "2024-10-25T18:58:44.553Z"
   },
   {
    "duration": 4,
    "start_time": "2024-10-25T18:58:44.605Z"
   },
   {
    "duration": 4,
    "start_time": "2024-10-25T18:58:44.614Z"
   },
   {
    "duration": 6,
    "start_time": "2024-10-25T18:58:44.620Z"
   },
   {
    "duration": 7,
    "start_time": "2024-10-25T18:58:44.628Z"
   },
   {
    "duration": 5,
    "start_time": "2024-10-25T18:58:44.636Z"
   },
   {
    "duration": 4,
    "start_time": "2024-10-25T18:58:44.643Z"
   },
   {
    "duration": 6,
    "start_time": "2024-10-25T18:58:44.649Z"
   },
   {
    "duration": 50,
    "start_time": "2024-10-25T18:58:44.657Z"
   },
   {
    "duration": 7,
    "start_time": "2024-10-25T18:58:44.709Z"
   },
   {
    "duration": 4,
    "start_time": "2024-10-25T18:58:44.718Z"
   },
   {
    "duration": 3,
    "start_time": "2024-10-25T18:58:44.724Z"
   },
   {
    "duration": 2,
    "start_time": "2024-10-25T18:58:44.729Z"
   },
   {
    "duration": 9,
    "start_time": "2024-10-25T18:58:44.733Z"
   },
   {
    "duration": 4,
    "start_time": "2024-10-25T18:58:44.743Z"
   },
   {
    "duration": 7,
    "start_time": "2024-10-25T18:58:44.748Z"
   },
   {
    "duration": 48,
    "start_time": "2024-10-25T18:58:44.757Z"
   },
   {
    "duration": 4,
    "start_time": "2024-10-25T18:58:44.807Z"
   },
   {
    "duration": 9,
    "start_time": "2024-10-25T18:58:44.813Z"
   },
   {
    "duration": 6,
    "start_time": "2024-10-25T18:58:44.823Z"
   },
   {
    "duration": 164,
    "start_time": "2024-10-25T18:58:44.831Z"
   },
   {
    "duration": 108,
    "start_time": "2024-10-25T18:58:44.997Z"
   },
   {
    "duration": 4,
    "start_time": "2024-10-25T18:58:45.107Z"
   },
   {
    "duration": 10,
    "start_time": "2024-10-25T18:58:45.113Z"
   },
   {
    "duration": 2,
    "start_time": "2024-10-25T18:58:45.125Z"
   },
   {
    "duration": 5,
    "start_time": "2024-10-25T18:58:45.129Z"
   },
   {
    "duration": 6,
    "start_time": "2024-10-25T18:58:45.136Z"
   },
   {
    "duration": 4,
    "start_time": "2024-10-25T18:58:45.143Z"
   },
   {
    "duration": 3,
    "start_time": "2024-10-25T18:58:45.149Z"
   },
   {
    "duration": 3,
    "start_time": "2024-10-25T18:58:45.157Z"
   },
   {
    "duration": 44,
    "start_time": "2024-10-25T18:58:45.162Z"
   },
   {
    "duration": 3,
    "start_time": "2024-10-25T18:58:45.208Z"
   },
   {
    "duration": 9,
    "start_time": "2024-10-25T18:58:45.212Z"
   },
   {
    "duration": 4,
    "start_time": "2024-10-25T18:58:45.222Z"
   },
   {
    "duration": 3,
    "start_time": "2024-10-25T18:58:45.228Z"
   },
   {
    "duration": 4,
    "start_time": "2024-10-25T18:58:45.233Z"
   },
   {
    "duration": 174,
    "start_time": "2024-10-25T18:58:45.239Z"
   },
   {
    "duration": 139,
    "start_time": "2024-10-25T18:58:45.415Z"
   },
   {
    "duration": 226,
    "start_time": "2024-10-25T18:58:45.556Z"
   },
   {
    "duration": 4,
    "start_time": "2024-10-25T18:58:45.784Z"
   },
   {
    "duration": 17,
    "start_time": "2024-10-25T18:58:45.790Z"
   },
   {
    "duration": 4,
    "start_time": "2024-10-25T18:58:45.808Z"
   },
   {
    "duration": 145,
    "start_time": "2024-10-25T18:58:45.813Z"
   },
   {
    "duration": 4,
    "start_time": "2024-10-25T18:58:45.960Z"
   },
   {
    "duration": 8,
    "start_time": "2024-10-25T18:58:45.966Z"
   },
   {
    "duration": 267,
    "start_time": "2024-10-25T18:58:45.976Z"
   },
   {
    "duration": 4,
    "start_time": "2024-10-25T18:58:46.245Z"
   },
   {
    "duration": 208,
    "start_time": "2024-10-25T18:58:46.250Z"
   },
   {
    "duration": 5,
    "start_time": "2024-10-25T18:58:46.459Z"
   },
   {
    "duration": 39,
    "start_time": "2024-10-25T18:58:46.466Z"
   },
   {
    "duration": 4,
    "start_time": "2024-10-25T18:58:46.507Z"
   },
   {
    "duration": 61,
    "start_time": "2024-10-25T18:58:46.513Z"
   },
   {
    "duration": 80,
    "start_time": "2024-10-25T18:58:46.576Z"
   },
   {
    "duration": 4,
    "start_time": "2024-10-25T18:58:46.658Z"
   },
   {
    "duration": 4,
    "start_time": "2024-10-25T18:58:46.664Z"
   },
   {
    "duration": 36,
    "start_time": "2024-10-25T18:58:46.670Z"
   },
   {
    "duration": 9,
    "start_time": "2024-10-25T18:58:46.708Z"
   },
   {
    "duration": 6,
    "start_time": "2024-10-25T18:58:46.719Z"
   },
   {
    "duration": 7,
    "start_time": "2024-10-25T18:58:46.727Z"
   },
   {
    "duration": 15,
    "start_time": "2024-10-25T18:58:46.736Z"
   },
   {
    "duration": 9,
    "start_time": "2024-10-25T18:58:46.753Z"
   },
   {
    "duration": 6,
    "start_time": "2024-10-25T19:10:00.679Z"
   },
   {
    "duration": 736,
    "start_time": "2024-10-25T20:14:59.738Z"
   },
   {
    "duration": 7,
    "start_time": "2024-10-25T20:15:00.477Z"
   },
   {
    "duration": 6,
    "start_time": "2024-10-25T20:15:00.486Z"
   },
   {
    "duration": 13,
    "start_time": "2024-10-25T20:15:00.493Z"
   },
   {
    "duration": 9,
    "start_time": "2024-10-25T20:15:00.508Z"
   },
   {
    "duration": 9,
    "start_time": "2024-10-25T20:15:00.518Z"
   },
   {
    "duration": 2,
    "start_time": "2024-10-25T20:15:00.529Z"
   },
   {
    "duration": 4,
    "start_time": "2024-10-25T20:15:00.533Z"
   },
   {
    "duration": 5,
    "start_time": "2024-10-25T20:15:00.538Z"
   },
   {
    "duration": 6,
    "start_time": "2024-10-25T20:15:00.546Z"
   },
   {
    "duration": 7,
    "start_time": "2024-10-25T20:15:00.553Z"
   },
   {
    "duration": 49,
    "start_time": "2024-10-25T20:15:00.562Z"
   },
   {
    "duration": 5,
    "start_time": "2024-10-25T20:15:00.612Z"
   },
   {
    "duration": 4,
    "start_time": "2024-10-25T20:15:00.621Z"
   },
   {
    "duration": 6,
    "start_time": "2024-10-25T20:15:00.626Z"
   },
   {
    "duration": 9,
    "start_time": "2024-10-25T20:15:00.633Z"
   },
   {
    "duration": 5,
    "start_time": "2024-10-25T20:15:00.643Z"
   },
   {
    "duration": 4,
    "start_time": "2024-10-25T20:15:00.650Z"
   },
   {
    "duration": 6,
    "start_time": "2024-10-25T20:15:00.655Z"
   },
   {
    "duration": 50,
    "start_time": "2024-10-25T20:15:00.664Z"
   },
   {
    "duration": 7,
    "start_time": "2024-10-25T20:15:00.717Z"
   },
   {
    "duration": 4,
    "start_time": "2024-10-25T20:15:00.725Z"
   },
   {
    "duration": 4,
    "start_time": "2024-10-25T20:15:00.730Z"
   },
   {
    "duration": 4,
    "start_time": "2024-10-25T20:15:00.735Z"
   },
   {
    "duration": 12,
    "start_time": "2024-10-25T20:15:00.740Z"
   },
   {
    "duration": 3,
    "start_time": "2024-10-25T20:15:00.754Z"
   },
   {
    "duration": 7,
    "start_time": "2024-10-25T20:15:00.758Z"
   },
   {
    "duration": 42,
    "start_time": "2024-10-25T20:15:00.767Z"
   },
   {
    "duration": 5,
    "start_time": "2024-10-25T20:15:00.811Z"
   },
   {
    "duration": 8,
    "start_time": "2024-10-25T20:15:00.817Z"
   },
   {
    "duration": 4,
    "start_time": "2024-10-25T20:15:00.827Z"
   },
   {
    "duration": 165,
    "start_time": "2024-10-25T20:15:00.832Z"
   },
   {
    "duration": 85,
    "start_time": "2024-10-25T20:15:00.999Z"
   },
   {
    "duration": 6,
    "start_time": "2024-10-25T20:15:01.085Z"
   },
   {
    "duration": 19,
    "start_time": "2024-10-25T20:15:01.093Z"
   },
   {
    "duration": 3,
    "start_time": "2024-10-25T20:15:01.113Z"
   },
   {
    "duration": 5,
    "start_time": "2024-10-25T20:15:01.118Z"
   },
   {
    "duration": 6,
    "start_time": "2024-10-25T20:15:01.125Z"
   },
   {
    "duration": 4,
    "start_time": "2024-10-25T20:15:01.132Z"
   },
   {
    "duration": 4,
    "start_time": "2024-10-25T20:15:01.137Z"
   },
   {
    "duration": 5,
    "start_time": "2024-10-25T20:15:01.145Z"
   },
   {
    "duration": 11,
    "start_time": "2024-10-25T20:15:01.151Z"
   },
   {
    "duration": 44,
    "start_time": "2024-10-25T20:15:01.163Z"
   },
   {
    "duration": 8,
    "start_time": "2024-10-25T20:15:01.209Z"
   },
   {
    "duration": 4,
    "start_time": "2024-10-25T20:15:01.219Z"
   },
   {
    "duration": 4,
    "start_time": "2024-10-25T20:15:01.225Z"
   },
   {
    "duration": 4,
    "start_time": "2024-10-25T20:15:01.231Z"
   },
   {
    "duration": 191,
    "start_time": "2024-10-25T20:15:01.236Z"
   },
   {
    "duration": 137,
    "start_time": "2024-10-25T20:15:01.430Z"
   },
   {
    "duration": 229,
    "start_time": "2024-10-25T20:15:01.569Z"
   },
   {
    "duration": 7,
    "start_time": "2024-10-25T20:15:01.800Z"
   },
   {
    "duration": 4,
    "start_time": "2024-10-25T20:15:01.809Z"
   },
   {
    "duration": 5,
    "start_time": "2024-10-25T20:15:01.814Z"
   },
   {
    "duration": 150,
    "start_time": "2024-10-25T20:15:01.820Z"
   },
   {
    "duration": 1109,
    "start_time": "2024-10-25T20:15:01.972Z"
   },
   {
    "duration": 0,
    "start_time": "2024-10-25T20:15:03.082Z"
   },
   {
    "duration": 0,
    "start_time": "2024-10-25T20:15:03.084Z"
   },
   {
    "duration": 0,
    "start_time": "2024-10-25T20:15:03.085Z"
   },
   {
    "duration": 0,
    "start_time": "2024-10-25T20:15:03.087Z"
   },
   {
    "duration": 0,
    "start_time": "2024-10-25T20:15:03.088Z"
   },
   {
    "duration": 0,
    "start_time": "2024-10-25T20:15:03.088Z"
   },
   {
    "duration": 0,
    "start_time": "2024-10-25T20:15:03.089Z"
   },
   {
    "duration": 0,
    "start_time": "2024-10-25T20:15:03.090Z"
   },
   {
    "duration": 0,
    "start_time": "2024-10-25T20:15:03.091Z"
   },
   {
    "duration": 0,
    "start_time": "2024-10-25T20:15:03.091Z"
   },
   {
    "duration": 0,
    "start_time": "2024-10-25T20:15:03.092Z"
   },
   {
    "duration": 0,
    "start_time": "2024-10-25T20:15:03.105Z"
   },
   {
    "duration": 0,
    "start_time": "2024-10-25T20:15:03.108Z"
   },
   {
    "duration": 0,
    "start_time": "2024-10-25T20:15:03.111Z"
   },
   {
    "duration": 0,
    "start_time": "2024-10-25T20:15:03.113Z"
   },
   {
    "duration": 0,
    "start_time": "2024-10-25T20:15:03.114Z"
   },
   {
    "duration": 0,
    "start_time": "2024-10-25T20:15:03.115Z"
   },
   {
    "duration": 0,
    "start_time": "2024-10-25T20:15:03.116Z"
   },
   {
    "duration": 146,
    "start_time": "2024-10-25T20:16:01.059Z"
   },
   {
    "duration": 167,
    "start_time": "2024-10-25T23:57:16.820Z"
   },
   {
    "duration": 2537,
    "start_time": "2024-10-25T23:57:25.289Z"
   },
   {
    "duration": 13,
    "start_time": "2024-10-25T23:57:27.830Z"
   },
   {
    "duration": 10,
    "start_time": "2024-10-25T23:57:27.845Z"
   },
   {
    "duration": 7,
    "start_time": "2024-10-25T23:57:27.857Z"
   },
   {
    "duration": 8,
    "start_time": "2024-10-25T23:57:27.867Z"
   },
   {
    "duration": 8,
    "start_time": "2024-10-25T23:57:27.877Z"
   },
   {
    "duration": 3,
    "start_time": "2024-10-25T23:57:27.887Z"
   },
   {
    "duration": 4,
    "start_time": "2024-10-25T23:57:27.892Z"
   },
   {
    "duration": 5,
    "start_time": "2024-10-25T23:57:27.897Z"
   },
   {
    "duration": 6,
    "start_time": "2024-10-25T23:57:27.931Z"
   },
   {
    "duration": 9,
    "start_time": "2024-10-25T23:57:27.939Z"
   },
   {
    "duration": 8,
    "start_time": "2024-10-25T23:57:27.950Z"
   },
   {
    "duration": 5,
    "start_time": "2024-10-25T23:57:27.960Z"
   },
   {
    "duration": 4,
    "start_time": "2024-10-25T23:57:27.969Z"
   },
   {
    "duration": 5,
    "start_time": "2024-10-25T23:57:27.975Z"
   },
   {
    "duration": 7,
    "start_time": "2024-10-25T23:57:27.982Z"
   },
   {
    "duration": 46,
    "start_time": "2024-10-25T23:57:27.990Z"
   },
   {
    "duration": 6,
    "start_time": "2024-10-25T23:57:28.038Z"
   },
   {
    "duration": 7,
    "start_time": "2024-10-25T23:57:28.045Z"
   },
   {
    "duration": 12,
    "start_time": "2024-10-25T23:57:28.053Z"
   },
   {
    "duration": 6,
    "start_time": "2024-10-25T23:57:28.066Z"
   },
   {
    "duration": 4,
    "start_time": "2024-10-25T23:57:28.074Z"
   },
   {
    "duration": 3,
    "start_time": "2024-10-25T23:57:28.080Z"
   },
   {
    "duration": 47,
    "start_time": "2024-10-25T23:57:28.085Z"
   },
   {
    "duration": 14,
    "start_time": "2024-10-25T23:57:28.134Z"
   },
   {
    "duration": 4,
    "start_time": "2024-10-25T23:57:28.151Z"
   },
   {
    "duration": 7,
    "start_time": "2024-10-25T23:57:28.157Z"
   },
   {
    "duration": 6,
    "start_time": "2024-10-25T23:57:28.166Z"
   },
   {
    "duration": 6,
    "start_time": "2024-10-25T23:57:28.173Z"
   },
   {
    "duration": 9,
    "start_time": "2024-10-25T23:57:28.180Z"
   },
   {
    "duration": 4,
    "start_time": "2024-10-25T23:57:28.190Z"
   },
   {
    "duration": 178,
    "start_time": "2024-10-25T23:57:28.196Z"
   },
   {
    "duration": 91,
    "start_time": "2024-10-25T23:57:28.375Z"
   },
   {
    "duration": 5,
    "start_time": "2024-10-25T23:57:28.468Z"
   },
   {
    "duration": 10,
    "start_time": "2024-10-25T23:57:28.475Z"
   },
   {
    "duration": 3,
    "start_time": "2024-10-25T23:57:28.487Z"
   },
   {
    "duration": 6,
    "start_time": "2024-10-25T23:57:28.491Z"
   },
   {
    "duration": 33,
    "start_time": "2024-10-25T23:57:28.498Z"
   },
   {
    "duration": 4,
    "start_time": "2024-10-25T23:57:28.533Z"
   },
   {
    "duration": 3,
    "start_time": "2024-10-25T23:57:28.539Z"
   },
   {
    "duration": 3,
    "start_time": "2024-10-25T23:57:28.548Z"
   },
   {
    "duration": 9,
    "start_time": "2024-10-25T23:57:28.552Z"
   },
   {
    "duration": 3,
    "start_time": "2024-10-25T23:57:28.563Z"
   },
   {
    "duration": 8,
    "start_time": "2024-10-25T23:57:28.567Z"
   },
   {
    "duration": 5,
    "start_time": "2024-10-25T23:57:28.576Z"
   },
   {
    "duration": 48,
    "start_time": "2024-10-25T23:57:28.583Z"
   },
   {
    "duration": 4,
    "start_time": "2024-10-25T23:57:28.634Z"
   },
   {
    "duration": 182,
    "start_time": "2024-10-25T23:57:28.640Z"
   },
   {
    "duration": 159,
    "start_time": "2024-10-25T23:57:28.824Z"
   },
   {
    "duration": 234,
    "start_time": "2024-10-25T23:57:28.985Z"
   },
   {
    "duration": 12,
    "start_time": "2024-10-25T23:57:29.221Z"
   },
   {
    "duration": 4,
    "start_time": "2024-10-25T23:57:29.234Z"
   },
   {
    "duration": 3,
    "start_time": "2024-10-25T23:57:29.240Z"
   },
   {
    "duration": 154,
    "start_time": "2024-10-25T23:57:29.245Z"
   },
   {
    "duration": 1087,
    "start_time": "2024-10-25T23:57:29.401Z"
   },
   {
    "duration": 0,
    "start_time": "2024-10-25T23:57:30.490Z"
   },
   {
    "duration": 0,
    "start_time": "2024-10-25T23:57:30.491Z"
   },
   {
    "duration": 0,
    "start_time": "2024-10-25T23:57:30.494Z"
   },
   {
    "duration": 0,
    "start_time": "2024-10-25T23:57:30.495Z"
   },
   {
    "duration": 0,
    "start_time": "2024-10-25T23:57:30.496Z"
   },
   {
    "duration": 0,
    "start_time": "2024-10-25T23:57:30.497Z"
   },
   {
    "duration": 0,
    "start_time": "2024-10-25T23:57:30.499Z"
   },
   {
    "duration": 0,
    "start_time": "2024-10-25T23:57:30.501Z"
   },
   {
    "duration": 0,
    "start_time": "2024-10-25T23:57:30.502Z"
   },
   {
    "duration": 0,
    "start_time": "2024-10-25T23:57:30.504Z"
   },
   {
    "duration": 0,
    "start_time": "2024-10-25T23:57:30.530Z"
   },
   {
    "duration": 0,
    "start_time": "2024-10-25T23:57:30.532Z"
   },
   {
    "duration": 0,
    "start_time": "2024-10-25T23:57:30.533Z"
   },
   {
    "duration": 0,
    "start_time": "2024-10-25T23:57:30.535Z"
   },
   {
    "duration": 0,
    "start_time": "2024-10-25T23:57:30.536Z"
   },
   {
    "duration": 0,
    "start_time": "2024-10-25T23:57:30.538Z"
   },
   {
    "duration": 0,
    "start_time": "2024-10-25T23:57:30.539Z"
   },
   {
    "duration": 0,
    "start_time": "2024-10-25T23:57:30.541Z"
   },
   {
    "duration": 207,
    "start_time": "2024-10-26T00:28:06.799Z"
   },
   {
    "duration": 779,
    "start_time": "2024-10-26T00:28:29.272Z"
   },
   {
    "duration": 7,
    "start_time": "2024-10-26T00:28:30.054Z"
   },
   {
    "duration": 7,
    "start_time": "2024-10-26T00:28:30.062Z"
   },
   {
    "duration": 5,
    "start_time": "2024-10-26T00:28:30.071Z"
   },
   {
    "duration": 8,
    "start_time": "2024-10-26T00:28:30.078Z"
   },
   {
    "duration": 9,
    "start_time": "2024-10-26T00:28:30.087Z"
   },
   {
    "duration": 3,
    "start_time": "2024-10-26T00:28:30.097Z"
   },
   {
    "duration": 30,
    "start_time": "2024-10-26T00:28:30.102Z"
   },
   {
    "duration": 15,
    "start_time": "2024-10-26T00:28:30.133Z"
   },
   {
    "duration": 5,
    "start_time": "2024-10-26T00:28:30.149Z"
   },
   {
    "duration": 8,
    "start_time": "2024-10-26T00:28:30.156Z"
   },
   {
    "duration": 9,
    "start_time": "2024-10-26T00:28:30.165Z"
   },
   {
    "duration": 6,
    "start_time": "2024-10-26T00:28:30.175Z"
   },
   {
    "duration": 6,
    "start_time": "2024-10-26T00:28:30.185Z"
   },
   {
    "duration": 8,
    "start_time": "2024-10-26T00:28:30.192Z"
   },
   {
    "duration": 8,
    "start_time": "2024-10-26T00:28:30.231Z"
   },
   {
    "duration": 5,
    "start_time": "2024-10-26T00:28:30.241Z"
   },
   {
    "duration": 5,
    "start_time": "2024-10-26T00:28:30.247Z"
   },
   {
    "duration": 6,
    "start_time": "2024-10-26T00:28:30.253Z"
   },
   {
    "duration": 11,
    "start_time": "2024-10-26T00:28:30.260Z"
   },
   {
    "duration": 7,
    "start_time": "2024-10-26T00:28:30.272Z"
   },
   {
    "duration": 4,
    "start_time": "2024-10-26T00:28:30.281Z"
   },
   {
    "duration": 4,
    "start_time": "2024-10-26T00:28:30.331Z"
   },
   {
    "duration": 2,
    "start_time": "2024-10-26T00:28:30.338Z"
   },
   {
    "duration": 10,
    "start_time": "2024-10-26T00:28:30.342Z"
   },
   {
    "duration": 4,
    "start_time": "2024-10-26T00:28:30.353Z"
   },
   {
    "duration": 9,
    "start_time": "2024-10-26T00:28:30.359Z"
   },
   {
    "duration": 6,
    "start_time": "2024-10-26T00:28:30.369Z"
   },
   {
    "duration": 5,
    "start_time": "2024-10-26T00:28:30.377Z"
   },
   {
    "duration": 7,
    "start_time": "2024-10-26T00:28:30.384Z"
   },
   {
    "duration": 40,
    "start_time": "2024-10-26T00:28:30.393Z"
   },
   {
    "duration": 145,
    "start_time": "2024-10-26T00:28:30.435Z"
   },
   {
    "duration": 100,
    "start_time": "2024-10-26T00:28:30.582Z"
   },
   {
    "duration": 6,
    "start_time": "2024-10-26T00:28:30.685Z"
   },
   {
    "duration": 11,
    "start_time": "2024-10-26T00:28:30.693Z"
   },
   {
    "duration": 25,
    "start_time": "2024-10-26T00:28:30.706Z"
   },
   {
    "duration": 5,
    "start_time": "2024-10-26T00:28:30.733Z"
   },
   {
    "duration": 7,
    "start_time": "2024-10-26T00:28:30.740Z"
   },
   {
    "duration": 5,
    "start_time": "2024-10-26T00:28:30.748Z"
   },
   {
    "duration": 4,
    "start_time": "2024-10-26T00:28:30.754Z"
   },
   {
    "duration": 4,
    "start_time": "2024-10-26T00:28:30.763Z"
   },
   {
    "duration": 9,
    "start_time": "2024-10-26T00:28:30.768Z"
   },
   {
    "duration": 3,
    "start_time": "2024-10-26T00:28:30.779Z"
   },
   {
    "duration": 8,
    "start_time": "2024-10-26T00:28:30.784Z"
   },
   {
    "duration": 4,
    "start_time": "2024-10-26T00:28:30.831Z"
   },
   {
    "duration": 4,
    "start_time": "2024-10-26T00:28:30.837Z"
   },
   {
    "duration": 4,
    "start_time": "2024-10-26T00:28:30.843Z"
   },
   {
    "duration": 173,
    "start_time": "2024-10-26T00:28:30.848Z"
   },
   {
    "duration": 157,
    "start_time": "2024-10-26T00:28:31.023Z"
   },
   {
    "duration": 236,
    "start_time": "2024-10-26T00:28:31.181Z"
   },
   {
    "duration": 11,
    "start_time": "2024-10-26T00:28:31.419Z"
   },
   {
    "duration": 3,
    "start_time": "2024-10-26T00:28:31.432Z"
   },
   {
    "duration": 4,
    "start_time": "2024-10-26T00:28:31.437Z"
   },
   {
    "duration": 149,
    "start_time": "2024-10-26T00:28:31.442Z"
   },
   {
    "duration": 1106,
    "start_time": "2024-10-26T00:28:31.593Z"
   },
   {
    "duration": 0,
    "start_time": "2024-10-26T00:28:32.701Z"
   },
   {
    "duration": 0,
    "start_time": "2024-10-26T00:28:32.702Z"
   },
   {
    "duration": 0,
    "start_time": "2024-10-26T00:28:32.704Z"
   },
   {
    "duration": 0,
    "start_time": "2024-10-26T00:28:32.705Z"
   },
   {
    "duration": 0,
    "start_time": "2024-10-26T00:28:32.706Z"
   },
   {
    "duration": 0,
    "start_time": "2024-10-26T00:28:32.707Z"
   },
   {
    "duration": 0,
    "start_time": "2024-10-26T00:28:32.709Z"
   },
   {
    "duration": 0,
    "start_time": "2024-10-26T00:28:32.710Z"
   },
   {
    "duration": 0,
    "start_time": "2024-10-26T00:28:32.711Z"
   },
   {
    "duration": 0,
    "start_time": "2024-10-26T00:28:32.732Z"
   },
   {
    "duration": 0,
    "start_time": "2024-10-26T00:28:32.733Z"
   },
   {
    "duration": 0,
    "start_time": "2024-10-26T00:28:32.734Z"
   },
   {
    "duration": 0,
    "start_time": "2024-10-26T00:28:32.735Z"
   },
   {
    "duration": 0,
    "start_time": "2024-10-26T00:28:32.736Z"
   },
   {
    "duration": 0,
    "start_time": "2024-10-26T00:28:32.737Z"
   },
   {
    "duration": 0,
    "start_time": "2024-10-26T00:28:32.738Z"
   },
   {
    "duration": 0,
    "start_time": "2024-10-26T00:28:32.739Z"
   },
   {
    "duration": 0,
    "start_time": "2024-10-26T00:28:32.740Z"
   },
   {
    "duration": 146,
    "start_time": "2024-10-26T00:38:26.045Z"
   },
   {
    "duration": 275,
    "start_time": "2024-10-26T00:53:48.548Z"
   },
   {
    "duration": 207,
    "start_time": "2024-10-26T00:58:16.406Z"
   },
   {
    "duration": 225,
    "start_time": "2024-10-26T00:58:57.119Z"
   },
   {
    "duration": 5,
    "start_time": "2024-10-26T01:13:08.423Z"
   },
   {
    "duration": 8,
    "start_time": "2024-10-26T01:13:09.998Z"
   },
   {
    "duration": 209,
    "start_time": "2024-10-26T01:13:12.762Z"
   },
   {
    "duration": 4,
    "start_time": "2024-10-26T01:13:41.963Z"
   },
   {
    "duration": 257,
    "start_time": "2024-10-26T01:14:30.514Z"
   },
   {
    "duration": 5,
    "start_time": "2024-10-26T01:20:09.174Z"
   },
   {
    "duration": 5,
    "start_time": "2024-10-26T01:26:08.596Z"
   },
   {
    "duration": 9,
    "start_time": "2024-10-26T01:26:09.632Z"
   },
   {
    "duration": 4,
    "start_time": "2024-10-26T01:26:17.244Z"
   },
   {
    "duration": 55,
    "start_time": "2024-10-26T01:27:56.027Z"
   },
   {
    "duration": 68,
    "start_time": "2024-10-26T01:27:56.946Z"
   },
   {
    "duration": 5,
    "start_time": "2024-10-26T01:27:57.850Z"
   },
   {
    "duration": 5,
    "start_time": "2024-10-26T01:27:58.578Z"
   },
   {
    "duration": 17,
    "start_time": "2024-10-26T01:27:59.168Z"
   },
   {
    "duration": 8,
    "start_time": "2024-10-26T01:36:04.005Z"
   },
   {
    "duration": 7,
    "start_time": "2024-10-26T02:13:17.984Z"
   },
   {
    "duration": 7,
    "start_time": "2024-10-26T02:17:20.358Z"
   },
   {
    "duration": 15,
    "start_time": "2024-10-26T02:17:23.029Z"
   },
   {
    "duration": 93,
    "start_time": "2024-10-26T02:26:04.286Z"
   },
   {
    "duration": 758,
    "start_time": "2024-10-26T03:08:02.104Z"
   },
   {
    "duration": 7,
    "start_time": "2024-10-26T03:08:02.865Z"
   },
   {
    "duration": 6,
    "start_time": "2024-10-26T03:08:02.874Z"
   },
   {
    "duration": 5,
    "start_time": "2024-10-26T03:08:02.881Z"
   },
   {
    "duration": 11,
    "start_time": "2024-10-26T03:08:02.888Z"
   },
   {
    "duration": 9,
    "start_time": "2024-10-26T03:08:02.901Z"
   },
   {
    "duration": 19,
    "start_time": "2024-10-26T03:08:02.912Z"
   },
   {
    "duration": 9,
    "start_time": "2024-10-26T03:08:02.933Z"
   },
   {
    "duration": 5,
    "start_time": "2024-10-26T03:08:02.944Z"
   },
   {
    "duration": 6,
    "start_time": "2024-10-26T03:08:02.950Z"
   },
   {
    "duration": 8,
    "start_time": "2024-10-26T03:08:02.957Z"
   },
   {
    "duration": 8,
    "start_time": "2024-10-26T03:08:02.967Z"
   },
   {
    "duration": 5,
    "start_time": "2024-10-26T03:08:02.977Z"
   },
   {
    "duration": 5,
    "start_time": "2024-10-26T03:08:02.986Z"
   },
   {
    "duration": 43,
    "start_time": "2024-10-26T03:08:02.992Z"
   },
   {
    "duration": 9,
    "start_time": "2024-10-26T03:08:03.037Z"
   },
   {
    "duration": 5,
    "start_time": "2024-10-26T03:08:03.048Z"
   },
   {
    "duration": 4,
    "start_time": "2024-10-26T03:08:03.054Z"
   },
   {
    "duration": 6,
    "start_time": "2024-10-26T03:08:03.060Z"
   },
   {
    "duration": 11,
    "start_time": "2024-10-26T03:08:03.068Z"
   },
   {
    "duration": 53,
    "start_time": "2024-10-26T03:08:03.081Z"
   },
   {
    "duration": 4,
    "start_time": "2024-10-26T03:08:03.136Z"
   },
   {
    "duration": 3,
    "start_time": "2024-10-26T03:08:03.142Z"
   },
   {
    "duration": 4,
    "start_time": "2024-10-26T03:08:03.146Z"
   },
   {
    "duration": 10,
    "start_time": "2024-10-26T03:08:03.151Z"
   },
   {
    "duration": 4,
    "start_time": "2024-10-26T03:08:03.162Z"
   },
   {
    "duration": 7,
    "start_time": "2024-10-26T03:08:03.167Z"
   },
   {
    "duration": 6,
    "start_time": "2024-10-26T03:08:03.176Z"
   },
   {
    "duration": 4,
    "start_time": "2024-10-26T03:08:03.184Z"
   },
   {
    "duration": 48,
    "start_time": "2024-10-26T03:08:03.189Z"
   },
   {
    "duration": 5,
    "start_time": "2024-10-26T03:08:03.239Z"
   },
   {
    "duration": 153,
    "start_time": "2024-10-26T03:08:03.245Z"
   },
   {
    "duration": 97,
    "start_time": "2024-10-26T03:08:03.400Z"
   },
   {
    "duration": 6,
    "start_time": "2024-10-26T03:08:03.499Z"
   },
   {
    "duration": 25,
    "start_time": "2024-10-26T03:08:03.507Z"
   },
   {
    "duration": 3,
    "start_time": "2024-10-26T03:08:03.534Z"
   },
   {
    "duration": 6,
    "start_time": "2024-10-26T03:08:03.538Z"
   },
   {
    "duration": 6,
    "start_time": "2024-10-26T03:08:03.546Z"
   },
   {
    "duration": 4,
    "start_time": "2024-10-26T03:08:03.554Z"
   },
   {
    "duration": 3,
    "start_time": "2024-10-26T03:08:03.559Z"
   },
   {
    "duration": 3,
    "start_time": "2024-10-26T03:08:03.568Z"
   },
   {
    "duration": 9,
    "start_time": "2024-10-26T03:08:03.572Z"
   },
   {
    "duration": 3,
    "start_time": "2024-10-26T03:08:03.583Z"
   },
   {
    "duration": 9,
    "start_time": "2024-10-26T03:08:03.632Z"
   },
   {
    "duration": 4,
    "start_time": "2024-10-26T03:08:03.642Z"
   },
   {
    "duration": 6,
    "start_time": "2024-10-26T03:08:03.648Z"
   },
   {
    "duration": 4,
    "start_time": "2024-10-26T03:08:03.656Z"
   },
   {
    "duration": 187,
    "start_time": "2024-10-26T03:08:03.662Z"
   },
   {
    "duration": 158,
    "start_time": "2024-10-26T03:08:03.853Z"
   },
   {
    "duration": 241,
    "start_time": "2024-10-26T03:08:04.013Z"
   },
   {
    "duration": 4,
    "start_time": "2024-10-26T03:08:04.256Z"
   },
   {
    "duration": 4,
    "start_time": "2024-10-26T03:08:04.261Z"
   },
   {
    "duration": 3,
    "start_time": "2024-10-26T03:08:04.266Z"
   },
   {
    "duration": 166,
    "start_time": "2024-10-26T03:08:04.271Z"
   },
   {
    "duration": 279,
    "start_time": "2024-10-26T03:08:04.439Z"
   },
   {
    "duration": 14,
    "start_time": "2024-10-26T03:08:04.720Z"
   },
   {
    "duration": 7,
    "start_time": "2024-10-26T03:08:04.735Z"
   },
   {
    "duration": 234,
    "start_time": "2024-10-26T03:08:04.744Z"
   },
   {
    "duration": 5,
    "start_time": "2024-10-26T03:08:04.979Z"
   },
   {
    "duration": 255,
    "start_time": "2024-10-26T03:08:04.985Z"
   },
   {
    "duration": 4,
    "start_time": "2024-10-26T03:08:05.242Z"
   },
   {
    "duration": 8,
    "start_time": "2024-10-26T03:08:05.249Z"
   },
   {
    "duration": 5,
    "start_time": "2024-10-26T03:08:05.258Z"
   },
   {
    "duration": 83,
    "start_time": "2024-10-26T03:08:05.264Z"
   },
   {
    "duration": 82,
    "start_time": "2024-10-26T03:08:05.349Z"
   },
   {
    "duration": 6,
    "start_time": "2024-10-26T03:08:05.433Z"
   },
   {
    "duration": 5,
    "start_time": "2024-10-26T03:08:05.440Z"
   },
   {
    "duration": 16,
    "start_time": "2024-10-26T03:08:05.446Z"
   },
   {
    "duration": 8,
    "start_time": "2024-10-26T03:08:05.464Z"
   },
   {
    "duration": 6,
    "start_time": "2024-10-26T03:08:05.474Z"
   },
   {
    "duration": 7,
    "start_time": "2024-10-26T03:08:05.482Z"
   },
   {
    "duration": 52,
    "start_time": "2024-10-26T03:08:05.490Z"
   },
   {
    "duration": 10,
    "start_time": "2024-10-26T03:08:05.544Z"
   },
   {
    "duration": 2488,
    "start_time": "2024-10-26T13:20:11.988Z"
   },
   {
    "duration": 8,
    "start_time": "2024-10-26T13:20:14.479Z"
   },
   {
    "duration": 7,
    "start_time": "2024-10-26T13:20:14.489Z"
   },
   {
    "duration": 6,
    "start_time": "2024-10-26T13:20:14.498Z"
   },
   {
    "duration": 8,
    "start_time": "2024-10-26T13:20:14.506Z"
   },
   {
    "duration": 8,
    "start_time": "2024-10-26T13:20:14.515Z"
   },
   {
    "duration": 17,
    "start_time": "2024-10-26T13:20:14.526Z"
   },
   {
    "duration": 4,
    "start_time": "2024-10-26T13:20:14.545Z"
   },
   {
    "duration": 5,
    "start_time": "2024-10-26T13:20:14.550Z"
   },
   {
    "duration": 4,
    "start_time": "2024-10-26T13:20:14.559Z"
   },
   {
    "duration": 9,
    "start_time": "2024-10-26T13:20:14.565Z"
   },
   {
    "duration": 8,
    "start_time": "2024-10-26T13:20:14.575Z"
   },
   {
    "duration": 4,
    "start_time": "2024-10-26T13:20:14.585Z"
   },
   {
    "duration": 4,
    "start_time": "2024-10-26T13:20:14.591Z"
   },
   {
    "duration": 52,
    "start_time": "2024-10-26T13:20:14.597Z"
   },
   {
    "duration": 8,
    "start_time": "2024-10-26T13:20:14.650Z"
   },
   {
    "duration": 6,
    "start_time": "2024-10-26T13:20:14.659Z"
   },
   {
    "duration": 5,
    "start_time": "2024-10-26T13:20:14.667Z"
   },
   {
    "duration": 5,
    "start_time": "2024-10-26T13:20:14.673Z"
   },
   {
    "duration": 10,
    "start_time": "2024-10-26T13:20:14.680Z"
   },
   {
    "duration": 7,
    "start_time": "2024-10-26T13:20:14.692Z"
   },
   {
    "duration": 46,
    "start_time": "2024-10-26T13:20:14.700Z"
   },
   {
    "duration": 4,
    "start_time": "2024-10-26T13:20:14.747Z"
   },
   {
    "duration": 2,
    "start_time": "2024-10-26T13:20:14.752Z"
   },
   {
    "duration": 10,
    "start_time": "2024-10-26T13:20:14.756Z"
   },
   {
    "duration": 4,
    "start_time": "2024-10-26T13:20:14.769Z"
   },
   {
    "duration": 7,
    "start_time": "2024-10-26T13:20:14.774Z"
   },
   {
    "duration": 6,
    "start_time": "2024-10-26T13:20:14.786Z"
   },
   {
    "duration": 4,
    "start_time": "2024-10-26T13:20:14.794Z"
   },
   {
    "duration": 50,
    "start_time": "2024-10-26T13:20:14.799Z"
   },
   {
    "duration": 5,
    "start_time": "2024-10-26T13:20:14.850Z"
   },
   {
    "duration": 153,
    "start_time": "2024-10-26T13:20:14.856Z"
   },
   {
    "duration": 95,
    "start_time": "2024-10-26T13:20:15.011Z"
   },
   {
    "duration": 6,
    "start_time": "2024-10-26T13:20:15.107Z"
   },
   {
    "duration": 10,
    "start_time": "2024-10-26T13:20:15.116Z"
   },
   {
    "duration": 16,
    "start_time": "2024-10-26T13:20:15.127Z"
   },
   {
    "duration": 6,
    "start_time": "2024-10-26T13:20:15.145Z"
   },
   {
    "duration": 6,
    "start_time": "2024-10-26T13:20:15.153Z"
   },
   {
    "duration": 4,
    "start_time": "2024-10-26T13:20:15.161Z"
   },
   {
    "duration": 5,
    "start_time": "2024-10-26T13:20:15.167Z"
   },
   {
    "duration": 7,
    "start_time": "2024-10-26T13:20:15.174Z"
   },
   {
    "duration": 12,
    "start_time": "2024-10-26T13:20:15.183Z"
   },
   {
    "duration": 3,
    "start_time": "2024-10-26T13:20:15.197Z"
   },
   {
    "duration": 48,
    "start_time": "2024-10-26T13:20:15.202Z"
   },
   {
    "duration": 4,
    "start_time": "2024-10-26T13:20:15.251Z"
   },
   {
    "duration": 4,
    "start_time": "2024-10-26T13:20:15.257Z"
   },
   {
    "duration": 4,
    "start_time": "2024-10-26T13:20:15.263Z"
   },
   {
    "duration": 175,
    "start_time": "2024-10-26T13:20:15.269Z"
   },
   {
    "duration": 155,
    "start_time": "2024-10-26T13:20:15.446Z"
   },
   {
    "duration": 231,
    "start_time": "2024-10-26T13:20:15.603Z"
   },
   {
    "duration": 8,
    "start_time": "2024-10-26T13:20:15.836Z"
   },
   {
    "duration": 4,
    "start_time": "2024-10-26T13:20:15.846Z"
   },
   {
    "duration": 3,
    "start_time": "2024-10-26T13:20:15.852Z"
   },
   {
    "duration": 162,
    "start_time": "2024-10-26T13:20:15.857Z"
   },
   {
    "duration": 246,
    "start_time": "2024-10-26T13:20:16.022Z"
   },
   {
    "duration": 4,
    "start_time": "2024-10-26T13:20:16.270Z"
   },
   {
    "duration": 7,
    "start_time": "2024-10-26T13:20:16.276Z"
   },
   {
    "duration": 223,
    "start_time": "2024-10-26T13:20:16.285Z"
   },
   {
    "duration": 4,
    "start_time": "2024-10-26T13:20:16.510Z"
   },
   {
    "duration": 230,
    "start_time": "2024-10-26T13:20:16.543Z"
   },
   {
    "duration": 5,
    "start_time": "2024-10-26T13:20:16.775Z"
   },
   {
    "duration": 8,
    "start_time": "2024-10-26T13:20:16.781Z"
   },
   {
    "duration": 4,
    "start_time": "2024-10-26T13:20:16.791Z"
   },
   {
    "duration": 80,
    "start_time": "2024-10-26T13:20:16.797Z"
   },
   {
    "duration": 76,
    "start_time": "2024-10-26T13:20:16.878Z"
   },
   {
    "duration": 5,
    "start_time": "2024-10-26T13:20:16.956Z"
   },
   {
    "duration": 5,
    "start_time": "2024-10-26T13:20:16.962Z"
   },
   {
    "duration": 16,
    "start_time": "2024-10-26T13:20:16.968Z"
   },
   {
    "duration": 8,
    "start_time": "2024-10-26T13:20:16.985Z"
   },
   {
    "duration": 6,
    "start_time": "2024-10-26T13:20:16.995Z"
   },
   {
    "duration": 41,
    "start_time": "2024-10-26T13:20:17.003Z"
   },
   {
    "duration": 16,
    "start_time": "2024-10-26T13:20:17.046Z"
   },
   {
    "duration": 10,
    "start_time": "2024-10-26T13:20:17.063Z"
   }
  ],
  "kernelspec": {
   "display_name": "Python 3 (ipykernel)",
   "language": "python",
   "name": "python3"
  },
  "language_info": {
   "codemirror_mode": {
    "name": "ipython",
    "version": 3
   },
   "file_extension": ".py",
   "mimetype": "text/x-python",
   "name": "python",
   "nbconvert_exporter": "python",
   "pygments_lexer": "ipython3",
   "version": "3.12.4"
  },
  "toc": {
   "base_numbering": 1,
   "nav_menu": {},
   "number_sections": true,
   "sideBar": true,
   "skip_h1_title": true,
   "title_cell": "Table of Contents",
   "title_sidebar": "Contents",
   "toc_cell": false,
   "toc_position": {},
   "toc_section_display": true,
   "toc_window_display": false
  }
 },
 "nbformat": 4,
 "nbformat_minor": 4
}
