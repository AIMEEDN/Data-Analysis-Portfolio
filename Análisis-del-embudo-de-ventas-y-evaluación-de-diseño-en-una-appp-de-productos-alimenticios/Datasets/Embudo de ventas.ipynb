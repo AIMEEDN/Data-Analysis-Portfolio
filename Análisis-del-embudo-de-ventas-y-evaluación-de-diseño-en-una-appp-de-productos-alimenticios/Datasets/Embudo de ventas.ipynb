{
 "cells": [
  {
   "cell_type": "markdown",
   "id": "b1fedfe4-68ea-4987-86cd-4f731e8dced8",
   "metadata": {},
   "source": [
    "# Tabla de contenido\n",
    "1. [Introduccción al Proyecto](#Introduccción-al-Proyecto)\n",
    "2. [Objetivos específicos](#Objetivos-específicos)\n",
    "3. [Etapas de análisis del proyecto](#Etapas-de-análisis-del-proyecto)\n",
    "4. [Acceso y preparación de datos](#Acceso-y-preparación-de-datos)\n",
    "5. [Estudiar y comprobar los datos](#Estudiar-y-comprobar-los-datos)\n",
    "6. [Estudiar el embudo de eventos](#Estudiar-el-embudo-de-eventos)\n",
    "7. [Estudiar los resultados del experimento](#Estudiar-los-resultados-del-experimento)"
   ]
  },
  {
   "cell_type": "markdown",
   "id": "adcbb9f0-8102-4232-8de6-cd7d4727cf74",
   "metadata": {},
   "source": [
    "# Introducción al Proyecto \n",
    "En este proyecto, trabajaremos para analizar el comportamiento de los usuarios en la aplicación de una empresa emergente dedicada a la venta de productos alimenticios. Dado el creciente interés por mejorar la experiencia del usuario y maximizar la conversión en la plataforma, este análisis se centrará en entender el recorrido del cliente a través del embudo de ventas y en evaluar el impacto de cambios de diseño mediante un test A/A/B. Esto nos permitirá identificar cuellos de botella en el embudo de ventas y evaluar si el cambio de fuente propuesto podría tener un impacto positivo o negativo en el comportamiento de los usuarios. Los resultados de este análisis orientarán decisiones estratégicas que mejorarán la eficiencia del embudo de ventas y optimizarán la experiencia de usuario en la aplicación."
   ]
  },
  {
   "cell_type": "markdown",
   "id": "c78fa1f2-72c9-459e-990d-622ccac9dd71",
   "metadata": {},
   "source": [
    "# Objetivos específicos\n",
    "**1.Estudiar el embudo de ventas:** Analizar el recorrido de los usuarios desde su ingreso a la plataforma hasta la etapa de compra, identificando puntos críticos donde se pierden usuarios.\n",
    "\n",
    "**2.Evaluar la calidad de la segmentación en el test A/A/B:** Comprobar que los dos grupos de control (A/A) no presentan diferencias significativas para asegurar la validez del experimento.\n",
    "\n",
    "**3.Determinar el impacto del cambio de fuente en el comportamiento del usuario:** Analizar si el nuevo diseño propuesto afecta los resultados clave en comparación con los grupos de control, basándonos en la actividad y la retención de usuarios en cada evento."
   ]
  },
  {
   "cell_type": "markdown",
   "id": "5e021e53-974e-410a-9026-5dee0d0c0b0a",
   "metadata": {},
   "source": [
    "# Etapas de análisis del proyecto\n",
    "**Paso 1:** Cargar y Examinar el Dataset\n",
    "Abrir el archivo /datasets/logs_exp_us.csv y obtener una descripción general de los datos.\n",
    "Renombrar las columnas para facilitar el análisis y verificar los tipos de datos y valores ausentes.\n",
    "Agregar columnas que separen la fecha y hora para mejorar la segmentación temporal de los eventos.\n",
    "\n",
    "**Paso 2:** Preparación de los Datos\n",
    "Identificar y corregir problemas de calidad de datos, como tipos de datos incorrectos o valores nulos.\n",
    "Crear nuevas columnas para gestionar la fecha y la hora, lo que facilitará el análisis temporal de eventos.\n",
    "\n",
    "**Paso 3:** Exploración y Validación de los Datos\n",
    "Calcular el número total de eventos y usuarios en el registro.\n",
    "Analizar la distribución temporal de los datos para confirmar si la cobertura de eventos es uniforme en todo el periodo.\n",
    "Verificar que los tres grupos experimentales (246, 247, 248) estén adecuadamente representados en el conjunto de datos.\n",
    "\n",
    "**Paso 4:** Análisis del Embudo de Ventas\n",
    "Identificar y ordenar los eventos registrados, calculando la frecuencia de cada uno.\n",
    "Medir cuántos usuarios realizan cada acción y calcular la proporción de usuarios que completan cada etapa.\n",
    "Construir un embudo de ventas que muestre el flujo de usuarios de una etapa a la siguiente, identificando dónde se produce la mayor pérdida.\n",
    "Calcular el porcentaje de usuarios que completa el recorrido hasta la compra.\n",
    "\n",
    "**Paso 5:** Análisis de los Resultados del Test A/A/B\n",
    "Dividir a los usuarios en sus respectivos grupos (246, 247 y 248) y verificar la cantidad de usuarios en cada grupo.\n",
    "Comparar los grupos de control (246 y 247) en cuanto a la cantidad de usuarios que completan el evento más común, verificando si existen diferencias estadísticamente significativas.\n",
    "Repetir el análisis para otros eventos y confirmar si los grupos de control son consistentes entre sí.\n",
    "Comparar el grupo experimental (248) con los controles en cada evento individualmente y de manera combinada para evaluar el impacto del cambio de fuente.\n",
    "Establecer un nivel de significancia adecuado para las pruebas estadísticas, teniendo en cuenta la cantidad de hipótesis probadas, y recalcular si es necesario para asegurar conclusiones válidas.\n",
    "Esta metodología permitirá evaluar detalladamente tanto el embudo de ventas como el impacto de las modificaciones en la aplicación, apoyando decisiones informadas para optimizar la experiencia del usuario y el rendimiento de la plataforma."
   ]
  },
  {
   "cell_type": "markdown",
   "id": "453db714-c387-4d75-8f55-2391f1314f91",
   "metadata": {},
   "source": [
    "# Acceso y preparación de datos"
   ]
  },
  {
   "cell_type": "markdown",
   "id": "f46fcacf-7c4f-4b7c-a1bc-581a37d8d7e0",
   "metadata": {},
   "source": [
    "**Inicialización**"
   ]
  },
  {
   "cell_type": "code",
   "execution_count": 3,
   "id": "cceb2115-0104-4c33-964d-3422aa0e1950",
   "metadata": {},
   "outputs": [],
   "source": [
    "import pandas as pd \n",
    "import matplotlib.pyplot as plt\n",
    "from statsmodels.stats.proportion import proportions_ztest"
   ]
  },
  {
   "cell_type": "markdown",
   "id": "d595834c-1b14-4b28-b533-88d500330645",
   "metadata": {},
   "source": [
    "**Cargar y explorar los datos**"
   ]
  },
  {
   "cell_type": "code",
   "execution_count": 4,
   "id": "41f2fc35-99cb-422e-a191-ab2391938a99",
   "metadata": {},
   "outputs": [],
   "source": [
    "data_empresa = pd.read_csv('./datasets/logs_exp_us.csv', sep='\\t')"
   ]
  },
  {
   "cell_type": "code",
   "execution_count": 5,
   "id": "f27b742f-b4d7-4b1d-89f4-9a2a6943e950",
   "metadata": {},
   "outputs": [
    {
     "name": "stdout",
     "output_type": "stream",
     "text": [
      "<class 'pandas.core.frame.DataFrame'>\n",
      "RangeIndex: 244126 entries, 0 to 244125\n",
      "Data columns (total 4 columns):\n",
      " #   Column          Non-Null Count   Dtype \n",
      "---  ------          --------------   ----- \n",
      " 0   EventName       244126 non-null  object\n",
      " 1   DeviceIDHash    244126 non-null  int64 \n",
      " 2   EventTimestamp  244126 non-null  int64 \n",
      " 3   ExpId           244126 non-null  int64 \n",
      "dtypes: int64(3), object(1)\n",
      "memory usage: 7.5+ MB\n"
     ]
    }
   ],
   "source": [
    "data_empresa.info()"
   ]
  },
  {
   "cell_type": "code",
   "execution_count": 6,
   "id": "bae16395-ab55-4dd5-94af-c314ee4d9f4c",
   "metadata": {},
   "outputs": [
    {
     "data": {
      "text/html": [
       "<div>\n",
       "<style scoped>\n",
       "    .dataframe tbody tr th:only-of-type {\n",
       "        vertical-align: middle;\n",
       "    }\n",
       "\n",
       "    .dataframe tbody tr th {\n",
       "        vertical-align: top;\n",
       "    }\n",
       "\n",
       "    .dataframe thead th {\n",
       "        text-align: right;\n",
       "    }\n",
       "</style>\n",
       "<table border=\"1\" class=\"dataframe\">\n",
       "  <thead>\n",
       "    <tr style=\"text-align: right;\">\n",
       "      <th></th>\n",
       "      <th>EventName</th>\n",
       "      <th>DeviceIDHash</th>\n",
       "      <th>EventTimestamp</th>\n",
       "      <th>ExpId</th>\n",
       "    </tr>\n",
       "  </thead>\n",
       "  <tbody>\n",
       "    <tr>\n",
       "      <th>0</th>\n",
       "      <td>MainScreenAppear</td>\n",
       "      <td>4575588528974610257</td>\n",
       "      <td>1564029816</td>\n",
       "      <td>246</td>\n",
       "    </tr>\n",
       "    <tr>\n",
       "      <th>1</th>\n",
       "      <td>MainScreenAppear</td>\n",
       "      <td>7416695313311560658</td>\n",
       "      <td>1564053102</td>\n",
       "      <td>246</td>\n",
       "    </tr>\n",
       "    <tr>\n",
       "      <th>2</th>\n",
       "      <td>PaymentScreenSuccessful</td>\n",
       "      <td>3518123091307005509</td>\n",
       "      <td>1564054127</td>\n",
       "      <td>248</td>\n",
       "    </tr>\n",
       "    <tr>\n",
       "      <th>3</th>\n",
       "      <td>CartScreenAppear</td>\n",
       "      <td>3518123091307005509</td>\n",
       "      <td>1564054127</td>\n",
       "      <td>248</td>\n",
       "    </tr>\n",
       "    <tr>\n",
       "      <th>4</th>\n",
       "      <td>PaymentScreenSuccessful</td>\n",
       "      <td>6217807653094995999</td>\n",
       "      <td>1564055322</td>\n",
       "      <td>248</td>\n",
       "    </tr>\n",
       "    <tr>\n",
       "      <th>5</th>\n",
       "      <td>CartScreenAppear</td>\n",
       "      <td>6217807653094995999</td>\n",
       "      <td>1564055323</td>\n",
       "      <td>248</td>\n",
       "    </tr>\n",
       "    <tr>\n",
       "      <th>6</th>\n",
       "      <td>OffersScreenAppear</td>\n",
       "      <td>8351860793733343758</td>\n",
       "      <td>1564066242</td>\n",
       "      <td>246</td>\n",
       "    </tr>\n",
       "    <tr>\n",
       "      <th>7</th>\n",
       "      <td>MainScreenAppear</td>\n",
       "      <td>5682100281902512875</td>\n",
       "      <td>1564085677</td>\n",
       "      <td>246</td>\n",
       "    </tr>\n",
       "    <tr>\n",
       "      <th>8</th>\n",
       "      <td>MainScreenAppear</td>\n",
       "      <td>1850981295691852772</td>\n",
       "      <td>1564086702</td>\n",
       "      <td>247</td>\n",
       "    </tr>\n",
       "    <tr>\n",
       "      <th>9</th>\n",
       "      <td>MainScreenAppear</td>\n",
       "      <td>5407636962369102641</td>\n",
       "      <td>1564112112</td>\n",
       "      <td>246</td>\n",
       "    </tr>\n",
       "  </tbody>\n",
       "</table>\n",
       "</div>"
      ],
      "text/plain": [
       "                 EventName         DeviceIDHash  EventTimestamp  ExpId\n",
       "0         MainScreenAppear  4575588528974610257      1564029816    246\n",
       "1         MainScreenAppear  7416695313311560658      1564053102    246\n",
       "2  PaymentScreenSuccessful  3518123091307005509      1564054127    248\n",
       "3         CartScreenAppear  3518123091307005509      1564054127    248\n",
       "4  PaymentScreenSuccessful  6217807653094995999      1564055322    248\n",
       "5         CartScreenAppear  6217807653094995999      1564055323    248\n",
       "6       OffersScreenAppear  8351860793733343758      1564066242    246\n",
       "7         MainScreenAppear  5682100281902512875      1564085677    246\n",
       "8         MainScreenAppear  1850981295691852772      1564086702    247\n",
       "9         MainScreenAppear  5407636962369102641      1564112112    246"
      ]
     },
     "execution_count": 6,
     "metadata": {},
     "output_type": "execute_result"
    }
   ],
   "source": [
    "data_empresa.head(10)"
   ]
  },
  {
   "cell_type": "code",
   "execution_count": 7,
   "id": "82c6c892-b23e-428f-80e4-20e3577656da",
   "metadata": {},
   "outputs": [],
   "source": [
    "data_empresa.columns = data_empresa.columns.str.lower()"
   ]
  },
  {
   "cell_type": "code",
   "execution_count": 8,
   "id": "c54bb8c1-e681-48c3-af36-13a57a074a7f",
   "metadata": {},
   "outputs": [
    {
     "data": {
      "text/plain": [
       "Index(['eventname', 'deviceidhash', 'eventtimestamp', 'expid'], dtype='object')"
      ]
     },
     "execution_count": 8,
     "metadata": {},
     "output_type": "execute_result"
    }
   ],
   "source": [
    "data_empresa.columns"
   ]
  },
  {
   "cell_type": "code",
   "execution_count": 9,
   "id": "1a89fec6-9598-49ee-9192-5ca0f767cc0a",
   "metadata": {},
   "outputs": [],
   "source": [
    "data_empresa['eventtimestamp'] = pd.to_datetime(data_empresa['eventtimestamp'], unit = 's')"
   ]
  },
  {
   "cell_type": "code",
   "execution_count": 10,
   "id": "2db55320-a4b5-4892-9d6e-3f806a904642",
   "metadata": {},
   "outputs": [
    {
     "data": {
      "text/plain": [
       "0        2019-07-25 04:43:36\n",
       "1        2019-07-25 11:11:42\n",
       "2        2019-07-25 11:28:47\n",
       "3        2019-07-25 11:28:47\n",
       "4        2019-07-25 11:48:42\n",
       "                 ...        \n",
       "244121   2019-08-07 21:12:25\n",
       "244122   2019-08-07 21:13:59\n",
       "244123   2019-08-07 21:14:43\n",
       "244124   2019-08-07 21:14:58\n",
       "244125   2019-08-07 21:15:17\n",
       "Name: eventtimestamp, Length: 244126, dtype: datetime64[ns]"
      ]
     },
     "execution_count": 10,
     "metadata": {},
     "output_type": "execute_result"
    }
   ],
   "source": [
    "data_empresa['eventtimestamp']"
   ]
  },
  {
   "cell_type": "code",
   "execution_count": 11,
   "id": "3e429c77-ccb4-42d9-bf2c-a90358789df5",
   "metadata": {},
   "outputs": [
    {
     "data": {
      "text/plain": [
       "eventname                 object\n",
       "deviceidhash               int64\n",
       "eventtimestamp    datetime64[ns]\n",
       "expid                      int64\n",
       "dtype: object"
      ]
     },
     "execution_count": 11,
     "metadata": {},
     "output_type": "execute_result"
    }
   ],
   "source": [
    "data_empresa.dtypes"
   ]
  },
  {
   "cell_type": "code",
   "execution_count": 12,
   "id": "4a38fe10-6b87-4886-92b2-b04f8f036549",
   "metadata": {},
   "outputs": [
    {
     "data": {
      "text/plain": [
       "Timestamp('2019-07-25 04:43:36')"
      ]
     },
     "execution_count": 12,
     "metadata": {},
     "output_type": "execute_result"
    }
   ],
   "source": [
    "data_empresa['eventtimestamp'].min()"
   ]
  },
  {
   "cell_type": "code",
   "execution_count": 13,
   "id": "e2fa9e58-52f8-4e08-b1c5-0c4b93ad68b7",
   "metadata": {},
   "outputs": [
    {
     "data": {
      "text/plain": [
       "Timestamp('2019-08-07 21:15:17')"
      ]
     },
     "execution_count": 13,
     "metadata": {},
     "output_type": "execute_result"
    }
   ],
   "source": [
    "data_empresa['eventtimestamp'].max()"
   ]
  },
  {
   "cell_type": "code",
   "execution_count": 14,
   "id": "c8215486-a0ba-4df0-88c1-23b1d0688f9d",
   "metadata": {},
   "outputs": [
    {
     "data": {
      "text/plain": [
       "413"
      ]
     },
     "execution_count": 14,
     "metadata": {},
     "output_type": "execute_result"
    }
   ],
   "source": [
    "data_empresa.duplicated().sum()"
   ]
  },
  {
   "cell_type": "code",
   "execution_count": 15,
   "id": "650f1fba-8844-42b6-b7fa-fafea3e0a06f",
   "metadata": {},
   "outputs": [],
   "source": [
    "data_empresa = data_empresa.drop_duplicates()"
   ]
  },
  {
   "cell_type": "code",
   "execution_count": 16,
   "id": "fd4412b4-15e3-461a-a37b-29ff575fd9a0",
   "metadata": {},
   "outputs": [
    {
     "data": {
      "text/plain": [
       "0"
      ]
     },
     "execution_count": 16,
     "metadata": {},
     "output_type": "execute_result"
    }
   ],
   "source": [
    "data_empresa.duplicated().sum()"
   ]
  },
  {
   "cell_type": "code",
   "execution_count": 17,
   "id": "0af782a1-96a0-41e2-8874-37a07aa420e6",
   "metadata": {},
   "outputs": [
    {
     "data": {
      "text/plain": [
       "eventname         0\n",
       "deviceidhash      0\n",
       "eventtimestamp    0\n",
       "expid             0\n",
       "dtype: int64"
      ]
     },
     "execution_count": 17,
     "metadata": {},
     "output_type": "execute_result"
    }
   ],
   "source": [
    "data_empresa.isna().sum()"
   ]
  },
  {
   "cell_type": "code",
   "execution_count": 18,
   "id": "7822cf76-16c3-4afa-ba4c-a5e8dd8e3ea0",
   "metadata": {},
   "outputs": [],
   "source": [
    "data_empresa['date_hr'] = data_empresa['eventtimestamp']"
   ]
  },
  {
   "cell_type": "code",
   "execution_count": 19,
   "id": "7d44e737-e221-426c-b5f0-0c5c2c00de92",
   "metadata": {},
   "outputs": [
    {
     "data": {
      "text/plain": [
       "0        2019-07-25 04:43:36\n",
       "1        2019-07-25 11:11:42\n",
       "2        2019-07-25 11:28:47\n",
       "3        2019-07-25 11:28:47\n",
       "4        2019-07-25 11:48:42\n",
       "                 ...        \n",
       "244121   2019-08-07 21:12:25\n",
       "244122   2019-08-07 21:13:59\n",
       "244123   2019-08-07 21:14:43\n",
       "244124   2019-08-07 21:14:58\n",
       "244125   2019-08-07 21:15:17\n",
       "Name: date_hr, Length: 243713, dtype: datetime64[ns]"
      ]
     },
     "execution_count": 19,
     "metadata": {},
     "output_type": "execute_result"
    }
   ],
   "source": [
    "data_empresa['date_hr']"
   ]
  },
  {
   "cell_type": "code",
   "execution_count": 20,
   "id": "3a221eba-3fc7-463f-9478-abc85617cca7",
   "metadata": {},
   "outputs": [],
   "source": [
    "data_empresa['date'] = data_empresa['eventtimestamp'].dt.date"
   ]
  },
  {
   "cell_type": "code",
   "execution_count": 21,
   "id": "f1ff06aa-0b5b-4564-9ec0-cea4f6ecbdaf",
   "metadata": {},
   "outputs": [
    {
     "data": {
      "text/plain": [
       "0         2019-07-25\n",
       "1         2019-07-25\n",
       "2         2019-07-25\n",
       "3         2019-07-25\n",
       "4         2019-07-25\n",
       "             ...    \n",
       "244121    2019-08-07\n",
       "244122    2019-08-07\n",
       "244123    2019-08-07\n",
       "244124    2019-08-07\n",
       "244125    2019-08-07\n",
       "Name: date, Length: 243713, dtype: object"
      ]
     },
     "execution_count": 21,
     "metadata": {},
     "output_type": "execute_result"
    }
   ],
   "source": [
    "data_empresa['date']"
   ]
  },
  {
   "cell_type": "code",
   "execution_count": 22,
   "id": "dd83f1a3-ff7c-47db-862a-0d3107260978",
   "metadata": {},
   "outputs": [],
   "source": [
    "nombre_eventos = data_empresa['eventname'].unique()"
   ]
  },
  {
   "cell_type": "code",
   "execution_count": 23,
   "id": "f0cfb06b-6137-4f6c-9b02-dfabce356b35",
   "metadata": {},
   "outputs": [
    {
     "data": {
      "text/plain": [
       "array(['MainScreenAppear', 'PaymentScreenSuccessful', 'CartScreenAppear',\n",
       "       'OffersScreenAppear', 'Tutorial'], dtype=object)"
      ]
     },
     "execution_count": 23,
     "metadata": {},
     "output_type": "execute_result"
    }
   ],
   "source": [
    "nombre_eventos"
   ]
  },
  {
   "cell_type": "markdown",
   "id": "16337a4a-21d5-4646-839a-b5383b4aa976",
   "metadata": {},
   "source": [
    "# Estudiar y comprobar los datos"
   ]
  },
  {
   "cell_type": "markdown",
   "id": "200bc94d-faf1-4071-acfb-dfdd249cc3f3",
   "metadata": {},
   "source": [
    "**¿Cuántos eventos hay en los registros?**"
   ]
  },
  {
   "cell_type": "code",
   "execution_count": 24,
   "id": "4ba43d57-e77c-404b-aed6-438e152933f0",
   "metadata": {},
   "outputs": [],
   "source": [
    "num_eventos = data_empresa['date'].count()"
   ]
  },
  {
   "cell_type": "code",
   "execution_count": 25,
   "id": "62768ce7-1c34-4897-8e56-eae606231aed",
   "metadata": {},
   "outputs": [
    {
     "data": {
      "text/plain": [
       "243713"
      ]
     },
     "execution_count": 25,
     "metadata": {},
     "output_type": "execute_result"
    }
   ],
   "source": [
    "num_eventos"
   ]
  },
  {
   "cell_type": "markdown",
   "id": "f5b54420-ecb6-4087-a541-edf8e2fae74d",
   "metadata": {},
   "source": [
    "**¿Cuántos usuarios y usuarias hay en los registros?**"
   ]
  },
  {
   "cell_type": "code",
   "execution_count": 26,
   "id": "95812005-5767-4f0a-87fe-9f615bfb8564",
   "metadata": {},
   "outputs": [],
   "source": [
    "num_usuarios = data_empresa['deviceidhash'].nunique()"
   ]
  },
  {
   "cell_type": "code",
   "execution_count": 27,
   "id": "20d4402d-ce01-4f6a-9ad9-61fb2a9320a0",
   "metadata": {},
   "outputs": [
    {
     "data": {
      "text/plain": [
       "7551"
      ]
     },
     "execution_count": 27,
     "metadata": {},
     "output_type": "execute_result"
    }
   ],
   "source": [
    "num_usuarios"
   ]
  },
  {
   "cell_type": "markdown",
   "id": "f3a9aa96-a9c5-42ab-abf2-e2e8b004f5be",
   "metadata": {},
   "source": [
    "**¿Cuál es el promedio de eventos por usuario?**"
   ]
  },
  {
   "cell_type": "code",
   "execution_count": 28,
   "id": "29379e9f-0fc5-4472-b787-49abff441e20",
   "metadata": {},
   "outputs": [],
   "source": [
    "promedio_eventos_usuario = data_empresa.groupby('date')['deviceidhash'].nunique().sort_index()"
   ]
  },
  {
   "cell_type": "code",
   "execution_count": 29,
   "id": "5e2fe9a7-cb9d-497e-ade6-906247010017",
   "metadata": {},
   "outputs": [
    {
     "data": {
      "text/plain": [
       "date\n",
       "2019-07-25       7\n",
       "2019-07-26      22\n",
       "2019-07-27      39\n",
       "2019-07-28      69\n",
       "2019-07-29     135\n",
       "2019-07-30     296\n",
       "2019-07-31     924\n",
       "2019-08-01    3703\n",
       "2019-08-02    3647\n",
       "2019-08-03    3482\n",
       "2019-08-04    3527\n",
       "2019-08-05    3802\n",
       "2019-08-06    3922\n",
       "2019-08-07    3651\n",
       "Name: deviceidhash, dtype: int64"
      ]
     },
     "execution_count": 29,
     "metadata": {},
     "output_type": "execute_result"
    }
   ],
   "source": [
    "promedio_eventos_usuario"
   ]
  },
  {
   "cell_type": "code",
   "execution_count": 30,
   "id": "b4c8be1a-1e73-4ac8-b28d-877b568ba674",
   "metadata": {},
   "outputs": [
    {
     "data": {
      "text/plain": [
       "1944.7142857142858"
      ]
     },
     "execution_count": 30,
     "metadata": {},
     "output_type": "execute_result"
    }
   ],
   "source": [
    "promedio_eventos_usuario.mean()"
   ]
  },
  {
   "cell_type": "markdown",
   "id": "e4005e61-9162-4d0e-b82e-3ba7dc96305e",
   "metadata": {},
   "source": [
    "**¿Qué periodo de tiempo cubren los datos? Encuentra la fecha máxima y mínima.**"
   ]
  },
  {
   "cell_type": "code",
   "execution_count": 31,
   "id": "14f33528-bd58-40c3-854c-d2252996ed3b",
   "metadata": {},
   "outputs": [
    {
     "data": {
      "text/plain": [
       "datetime.date(2019, 7, 25)"
      ]
     },
     "execution_count": 31,
     "metadata": {},
     "output_type": "execute_result"
    }
   ],
   "source": [
    "data_empresa['date'].min()"
   ]
  },
  {
   "cell_type": "code",
   "execution_count": 32,
   "id": "521cc23b-5690-419a-abe1-2f99191f48e1",
   "metadata": {},
   "outputs": [
    {
     "data": {
      "text/plain": [
       "datetime.date(2019, 8, 7)"
      ]
     },
     "execution_count": 32,
     "metadata": {},
     "output_type": "execute_result"
    }
   ],
   "source": [
    "data_empresa['date'].max()"
   ]
  },
  {
   "cell_type": "markdown",
   "id": "c7bbbcd7-807b-4de1-b876-87a93bffd69e",
   "metadata": {},
   "source": [
    "**Traza un histograma por fecha y hora. ¿Puedes tener seguridad de que tienes datos igualmente completos para todo el periodo?** "
   ]
  },
  {
   "cell_type": "code",
   "execution_count": 33,
   "id": "05e19042-64d4-4721-96da-0a732f68beba",
   "metadata": {},
   "outputs": [],
   "source": [
    "eventos_fecha_hr = data_empresa.groupby('date_hr')['deviceidhash'].nunique().sort_index()"
   ]
  },
  {
   "cell_type": "code",
   "execution_count": 34,
   "id": "684d08d9-f7a6-40e6-a770-7276086a3866",
   "metadata": {},
   "outputs": [
    {
     "data": {
      "text/plain": [
       "date_hr\n",
       "2019-07-25 04:43:36    1\n",
       "2019-07-25 11:11:42    1\n",
       "2019-07-25 11:28:47    1\n",
       "2019-07-25 11:48:42    1\n",
       "2019-07-25 11:48:43    1\n",
       "                      ..\n",
       "2019-08-07 21:12:25    1\n",
       "2019-08-07 21:13:59    1\n",
       "2019-08-07 21:14:43    1\n",
       "2019-08-07 21:14:58    1\n",
       "2019-08-07 21:15:17    1\n",
       "Name: deviceidhash, Length: 176654, dtype: int64"
      ]
     },
     "execution_count": 34,
     "metadata": {},
     "output_type": "execute_result"
    }
   ],
   "source": [
    "eventos_fecha_hr"
   ]
  },
  {
   "cell_type": "code",
   "execution_count": 35,
   "id": "d915a03a-9c5e-4640-9dd9-9b181ce35c1d",
   "metadata": {},
   "outputs": [
    {
     "data": {
      "image/png": "[encoded data removed]",
      "text/plain": [
       "<Figure size 1400x600 with 1 Axes>"
      ]
     },
     "metadata": {},
     "output_type": "display_data"
    }
   ],
   "source": [
    "plt.figure(figsize=(14, 6))\n",
    "eventos_fecha_hr.plot(kind='line', color='skyblue')\n",
    "plt.title('Usuarios únicos por fecha y hora')\n",
    "plt.xlabel('Fecha y Hora')\n",
    "plt.ylabel('Cantidad de usuarios únicos')\n",
    "plt.xticks(rotation=45)\n",
    "plt.tight_layout()  \n",
    "plt.show()\n"
   ]
  },
  {
   "cell_type": "markdown",
   "id": "1eaa5419-b67e-4c65-bcda-0122c56b82f2",
   "metadata": {},
   "source": [
    "**Los eventos más antiguos podrían terminar en los registros de algunos usuarios o usuarias por razones técnicas y esto podría sesgar el panorama general. Encuentra el momento en el que los datos comienzan a estar completos e ignora la sección anterior. ¿Qué periodo representan realmente los datos?**"
   ]
  },
  {
   "cell_type": "markdown",
   "id": "c1be3788-2e60-4ad5-af71-dd0150a6c458",
   "metadata": {},
   "source": [
    "Los datos comienzan a estar completos a partir del 1-0-8-2019 al 7-08-2019"
   ]
  },
  {
   "cell_type": "code",
   "execution_count": 36,
   "id": "b2089f4f-a8f8-44f8-8638-aad7f6805921",
   "metadata": {},
   "outputs": [],
   "source": [
    "filtro_fecha = (data_empresa['eventtimestamp'] >= '2019-08-01') & (data_empresa['eventtimestamp'] <= '2019-08-08')"
   ]
  },
  {
   "cell_type": "code",
   "execution_count": 37,
   "id": "c1135da3-e091-481d-b139-930867531f60",
   "metadata": {},
   "outputs": [],
   "source": [
    "data_empresa = data_empresa[filtro_fecha]"
   ]
  },
  {
   "cell_type": "code",
   "execution_count": 38,
   "id": "3db303d8-ccf9-4633-856c-641d8930bbe9",
   "metadata": {},
   "outputs": [
    {
     "data": {
      "text/plain": [
       "datetime.date(2019, 8, 1)"
      ]
     },
     "execution_count": 38,
     "metadata": {},
     "output_type": "execute_result"
    }
   ],
   "source": [
    "data_empresa['date'].min()"
   ]
  },
  {
   "cell_type": "code",
   "execution_count": 39,
   "id": "6151030b-e080-46d1-940f-4e9e0de1b727",
   "metadata": {},
   "outputs": [
    {
     "data": {
      "text/plain": [
       "datetime.date(2019, 8, 7)"
      ]
     },
     "execution_count": 39,
     "metadata": {},
     "output_type": "execute_result"
    }
   ],
   "source": [
    "data_empresa['date'].max()"
   ]
  },
  {
   "cell_type": "markdown",
   "id": "d27a03eb-9a25-4eed-a3c9-3b803b879852",
   "metadata": {},
   "source": [
    "**Asegúrate de tener usuarios y usuarias de los tres grupos experimentales.**"
   ]
  },
  {
   "cell_type": "code",
   "execution_count": 40,
   "id": "c9b450a2-a463-41b9-9123-274d58d5e0a1",
   "metadata": {},
   "outputs": [],
   "source": [
    "usuarios_por_grupo = data_empresa.groupby('expid')['deviceidhash'].nunique()"
   ]
  },
  {
   "cell_type": "code",
   "execution_count": 41,
   "id": "52825cc7-f4b4-4515-85dd-3bde83eaa543",
   "metadata": {},
   "outputs": [
    {
     "data": {
      "text/plain": [
       "expid\n",
       "246    2484\n",
       "247    2513\n",
       "248    2537\n",
       "Name: deviceidhash, dtype: int64"
      ]
     },
     "execution_count": 41,
     "metadata": {},
     "output_type": "execute_result"
    }
   ],
   "source": [
    "usuarios_por_grupo.head()"
   ]
  },
  {
   "cell_type": "markdown",
   "id": "5d9d3d3e-3ee6-4bfa-9bd5-78850b1a5d8c",
   "metadata": {},
   "source": [
    "**Observa qué eventos hay en los registros y su frecuencia de suceso. Ordénalos por frecuencia.**"
   ]
  },
  {
   "cell_type": "code",
   "execution_count": 42,
   "id": "521f9be3-2128-4093-83af-1b271d18a0ea",
   "metadata": {},
   "outputs": [],
   "source": [
    "eventos_frecuencia = data_empresa['eventname'].value_counts()"
   ]
  },
  {
   "cell_type": "code",
   "execution_count": 43,
   "id": "347dd1b8-215e-4682-9ee2-c0c2253c39e8",
   "metadata": {},
   "outputs": [
    {
     "data": {
      "text/plain": [
       "eventname\n",
       "MainScreenAppear           117328\n",
       "OffersScreenAppear          46333\n",
       "CartScreenAppear            42303\n",
       "PaymentScreenSuccessful     33918\n",
       "Tutorial                     1005\n",
       "Name: count, dtype: int64"
      ]
     },
     "execution_count": 43,
     "metadata": {},
     "output_type": "execute_result"
    }
   ],
   "source": [
    "eventos_frecuencia"
   ]
  },
  {
   "cell_type": "markdown",
   "id": "e1b9e491-d13b-4f3f-9237-1d9d28630d8b",
   "metadata": {},
   "source": [
    "**Encuentra la cantidad de usuarios y usuarias que realizaron cada una de estas acciones. Ordena los eventos por el número de usuarios y usuarias. Calcula la proporción de usuarios y usuarias que realizaron la acción al menos una vez.**"
   ]
  },
  {
   "cell_type": "code",
   "execution_count": 44,
   "id": "d2cf9bcb-ca59-4268-ac55-afb1d4b703f6",
   "metadata": {},
   "outputs": [],
   "source": [
    "usuarios_por_evento = data_empresa.groupby('eventname')['deviceidhash'].nunique().sort_values(ascending=False)"
   ]
  },
  {
   "cell_type": "code",
   "execution_count": 45,
   "id": "c8bae7db-9698-4281-b982-bcb969d6eabe",
   "metadata": {},
   "outputs": [
    {
     "data": {
      "text/plain": [
       "eventname\n",
       "MainScreenAppear           7419\n",
       "OffersScreenAppear         4593\n",
       "CartScreenAppear           3734\n",
       "PaymentScreenSuccessful    3539\n",
       "Tutorial                    840\n",
       "Name: deviceidhash, dtype: int64"
      ]
     },
     "execution_count": 45,
     "metadata": {},
     "output_type": "execute_result"
    }
   ],
   "source": [
    "usuarios_por_evento"
   ]
  },
  {
   "cell_type": "code",
   "execution_count": 46,
   "id": "0ab04024-6bc5-428e-ad3a-fe5c8e213627",
   "metadata": {},
   "outputs": [],
   "source": [
    "proporcion_usuarios_por_evento = usuarios_por_evento/num_usuarios"
   ]
  },
  {
   "cell_type": "code",
   "execution_count": 47,
   "id": "12853b4b-54eb-451f-b94b-dd576f8c8497",
   "metadata": {},
   "outputs": [
    {
     "data": {
      "text/plain": [
       "eventname\n",
       "MainScreenAppear           0.982519\n",
       "OffersScreenAppear         0.608264\n",
       "CartScreenAppear           0.494504\n",
       "PaymentScreenSuccessful    0.468680\n",
       "Tutorial                   0.111244\n",
       "Name: deviceidhash, dtype: float64"
      ]
     },
     "execution_count": 47,
     "metadata": {},
     "output_type": "execute_result"
    }
   ],
   "source": [
    "proporcion_usuarios_por_evento"
   ]
  },
  {
   "cell_type": "markdown",
   "id": "a257a5c2-f329-4aae-8882-06a5ea71c7ba",
   "metadata": {},
   "source": [
    "**¿En qué orden crees que ocurrieron las acciones? ¿Todas son parte de una sola secuencia? No es necesario tenerlas en cuenta al calcular el embudo.**"
   ]
  },
  {
   "cell_type": "markdown",
   "id": "adb5ba4d-6b0e-49c3-92fa-5aee5f115cd8",
   "metadata": {},
   "source": [
    "Basándome en las proporciones de usuarios que realizaron cada evento, podemos suponer el siguiente orden de las acciones como una secuencia lógica en la aplicación:\n",
    "\n",
    "1. **MainScreenAppear** (98.2%): La mayoría de los usuarios ven la pantalla principal, lo que tiene sentido como primer paso en la secuencia.\n",
    "2. **OffersScreenAppear** (60.8%): Después de ver la pantalla principal, muchos usuarios probablemente acceden a ofertas.\n",
    "3. **CartScreenAppear** (49.4%): Una vez que ven ofertas, algunos usuarios colocan artículos en el carrito, lo que se refleja en la aparición de la pantalla del carrito.\n",
    "4. **PaymentScreenSuccessful** (46.9%): Tras añadir artículos al carrito, una parte realiza con éxito el pago.\n",
    "5. **Tutorial** (11.2%): La baja proporción sugiere que el tutorial puede ser opcional o dirigido a nuevos usuarios.\n",
    "\n",
    "Estos eventos forman una secuencia lógica de navegación de usuarios hacia la compra en la aplicación, aunque no necesariamente todos los usuarios siguen el flujo completo. También es posible que el **Tutorial** no sea un paso obligatorio en el embudo de conversión, lo que explicaría su baja participación."
   ]
  },
  {
   "cell_type": "markdown",
   "id": "c5b6ac9d-fa2d-466a-9b63-1879d15c92af",
   "metadata": {},
   "source": [
    "**Utiliza el embudo de eventos para encontrar la proporción de usuarios y usuarias que pasan de una etapa a la siguiente. (Por ejemplo, para la secuencia de eventos A → B → C, calcula la proporción de usuarios en la etapa B a la cantidad de usuarios en la etapa A y la proporción de usuarios en la etapa C a la cantidad en la etapa B).**"
   ]
  },
  {
   "cell_type": "code",
   "execution_count": 48,
   "id": "3cddc5ea-c739-42c7-8ebe-e60c39833dae",
   "metadata": {},
   "outputs": [],
   "source": [
    "usuarios_evento = data_empresa.groupby('eventname')['deviceidhash'].nunique().loc[\n",
    "    ['MainScreenAppear', 'OffersScreenAppear', 'CartScreenAppear', 'PaymentScreenSuccessful']\n",
    "]"
   ]
  },
  {
   "cell_type": "code",
   "execution_count": 49,
   "id": "3471f421-47a3-4a7d-99d2-47162c5362f5",
   "metadata": {},
   "outputs": [
    {
     "data": {
      "text/plain": [
       "eventname\n",
       "MainScreenAppear           7419\n",
       "OffersScreenAppear         4593\n",
       "CartScreenAppear           3734\n",
       "PaymentScreenSuccessful    3539\n",
       "Name: deviceidhash, dtype: int64"
      ]
     },
     "execution_count": 49,
     "metadata": {},
     "output_type": "execute_result"
    }
   ],
   "source": [
    "usuarios_evento"
   ]
  },
  {
   "cell_type": "code",
   "execution_count": 50,
   "id": "44322deb-954c-4ab9-a635-0bb9a42f5267",
   "metadata": {},
   "outputs": [],
   "source": [
    "conversion_a_ofertas = usuarios_evento['OffersScreenAppear'] / usuarios_evento['MainScreenAppear']\n",
    "conversion_a_carrito = usuarios_evento['CartScreenAppear'] / usuarios_evento['OffersScreenAppear']\n",
    "conversion_a_pago = usuarios_evento['PaymentScreenSuccessful'] / usuarios_evento['CartScreenAppear']"
   ]
  },
  {
   "cell_type": "code",
   "execution_count": 51,
   "id": "13117d26-aec5-4ac2-907d-be490ef7d19f",
   "metadata": {},
   "outputs": [
    {
     "name": "stdout",
     "output_type": "stream",
     "text": [
      "Proporción de usuarios que pasaron de MainScreenAppear a OffersScreenAppear: 0.6190861302062273\n",
      "Proporción de usuarios que pasaron de OffersScreenAppear a CartScreenAppear: 0.8129762682342695\n",
      "Proporción de usuarios que pasaron de CartScreenAppear a PaymentScreenSuccessful: 0.9477771826459561\n"
     ]
    }
   ],
   "source": [
    "print(\"Proporción de usuarios que pasaron de MainScreenAppear a OffersScreenAppear:\", conversion_a_ofertas)\n",
    "print(\"Proporción de usuarios que pasaron de OffersScreenAppear a CartScreenAppear:\", conversion_a_carrito)\n",
    "print(\"Proporción de usuarios que pasaron de CartScreenAppear a PaymentScreenSuccessful:\", conversion_a_pago)"
   ]
  },
  {
   "cell_type": "markdown",
   "id": "88fd738c-8415-4038-9076-0d23ff11357d",
   "metadata": {},
   "source": [
    "**¿En qué etapa pierdes más usuarios y usuarias?**"
   ]
  },
  {
   "cell_type": "markdown",
   "id": "e5b05a67-7ac2-47e9-b4ae-a2844a7223cf",
   "metadata": {},
   "source": [
    "La etapa con la menor proporción de conversión fue la de usuarios que pasaron de MainScreenAppear a OffersScreenAppear que  representa la mayor pérdida de usuarios."
   ]
  },
  {
   "cell_type": "markdown",
   "id": "40184481-0832-4c0e-9917-5517724f3e20",
   "metadata": {},
   "source": [
    "**¿Qué porcentaje de usuarios y usuarias hace todo el viaje desde su primer evento hasta el pago?**"
   ]
  },
  {
   "cell_type": "code",
   "execution_count": 52,
   "id": "30a8bd48-91f0-4c5a-9f6f-43275ce0dba9",
   "metadata": {},
   "outputs": [],
   "source": [
    "conversion_total = usuarios_por_evento['PaymentScreenSuccessful'] / usuarios_por_evento['MainScreenAppear']"
   ]
  },
  {
   "cell_type": "code",
   "execution_count": 53,
   "id": "90c09250-9404-41cc-a48d-ac5274b53d61",
   "metadata": {},
   "outputs": [
    {
     "name": "stdout",
     "output_type": "stream",
     "text": [
      "Proporción de usuarios que completan todo el embudo: 0.47701846610055265\n"
     ]
    }
   ],
   "source": [
    "print(\"Proporción de usuarios que completan todo el embudo:\", conversion_total)"
   ]
  },
  {
   "cell_type": "markdown",
   "id": "3f3ac562-d67b-4dfd-97c4-56736e704abb",
   "metadata": {},
   "source": [
    "Este valor final nos indica el porcentaje de usuarios que realizaron el viaje completo desde la pantalla principal hasta el pago exitoso."
   ]
  },
  {
   "cell_type": "markdown",
   "id": "93122f8a-8bfe-40eb-8594-7ada68bb4e87",
   "metadata": {},
   "source": [
    "# Estudiar los resultados del experimento"
   ]
  },
  {
   "cell_type": "markdown",
   "id": "5722631c-ac8d-4c67-b8b7-11f44318f554",
   "metadata": {},
   "source": [
    "**¿Cuántos usuarios y usuarias hay en cada grupo?**"
   ]
  },
  {
   "cell_type": "code",
   "execution_count": 54,
   "id": "bbc240e3-40de-4b7a-933b-311c50207fd6",
   "metadata": {},
   "outputs": [],
   "source": [
    "usuarios_por_grupo = data_empresa.groupby('expid')['deviceidhash'].nunique()"
   ]
  },
  {
   "cell_type": "code",
   "execution_count": 55,
   "id": "025d9827-f984-4a24-aa38-4851e3cbb7d9",
   "metadata": {},
   "outputs": [
    {
     "data": {
      "text/plain": [
       "expid\n",
       "246    2484\n",
       "247    2513\n",
       "248    2537\n",
       "Name: deviceidhash, dtype: int64"
      ]
     },
     "execution_count": 55,
     "metadata": {},
     "output_type": "execute_result"
    }
   ],
   "source": [
    "usuarios_por_grupo"
   ]
  },
  {
   "cell_type": "markdown",
   "id": "b0f5a728-750d-4bc3-a121-b46b06a34ed2",
   "metadata": {},
   "source": [
    "**Tenemos dos grupos de control en el test A/A, donde comprobamos nuestros mecanismos y cálculos. Observa si hay una diferencia estadísticamente significativa entre las muestras 246 y 247.**"
   ]
  },
  {
   "cell_type": "code",
   "execution_count": 56,
   "id": "cc827a1f-1b6e-44da-924d-2be8e4978d12",
   "metadata": {},
   "outputs": [],
   "source": [
    "# Filtramos los datos para los dos grupos de control\n",
    "grupo_246 = data_empresa[data_empresa['expid'] == 246]\n",
    "grupo_247 = data_empresa[data_empresa['expid'] == 247]"
   ]
  },
  {
   "cell_type": "code",
   "execution_count": 57,
   "id": "73f709d6-d018-4fa7-b2ad-e0172abcf89c",
   "metadata": {},
   "outputs": [],
   "source": [
    "# Calculamos la cantidad total de usuarios en cada grupo\n",
    "total_usuarios_246 = data_empresa[data_empresa['expid'] == 246]['deviceidhash'].nunique()\n",
    "total_usuarios_247 = data_empresa[data_empresa['expid'] == 247]['deviceidhash'].nunique()"
   ]
  },
  {
   "cell_type": "code",
   "execution_count": 58,
   "id": "3c2d7e1e-885c-4133-aa7f-9f5bcd8caaff",
   "metadata": {},
   "outputs": [
    {
     "data": {
      "text/plain": [
       "2484"
      ]
     },
     "execution_count": 58,
     "metadata": {},
     "output_type": "execute_result"
    }
   ],
   "source": [
    "total_usuarios_246"
   ]
  },
  {
   "cell_type": "code",
   "execution_count": 59,
   "id": "74c6729c-3d23-4a67-a65e-dda1f1651b9f",
   "metadata": {},
   "outputs": [
    {
     "data": {
      "text/plain": [
       "2513"
      ]
     },
     "execution_count": 59,
     "metadata": {},
     "output_type": "execute_result"
    }
   ],
   "source": [
    "total_usuarios_247"
   ]
  },
  {
   "cell_type": "code",
   "execution_count": 60,
   "id": "e5d229e9-f386-46cc-8190-9a2e77a96db3",
   "metadata": {},
   "outputs": [],
   "source": [
    "# Calculamos la cantidad de usuarios que llegaron a \"PaymentScreenSuccessful\" en cada grupo\n",
    "usuarios_conversion_246 = grupo_246[grupo_246['eventname'] == 'PaymentScreenSuccessful']['deviceidhash'].nunique()\n",
    "usuarios_conversion_247 = grupo_247[grupo_247['eventname'] == 'PaymentScreenSuccessful']['deviceidhash'].nunique()"
   ]
  },
  {
   "cell_type": "code",
   "execution_count": 61,
   "id": "4b6e17d9-5222-4b3e-965a-6c89cf56181b",
   "metadata": {},
   "outputs": [],
   "source": [
    "# Calculamos la tasa de conversión en cada grupo\n",
    "tasa_conversion_246 = usuarios_conversion_246 / total_usuarios_246"
   ]
  },
  {
   "cell_type": "code",
   "execution_count": 62,
   "id": "71d6037b-60ba-470b-8c6b-5cb63c21b331",
   "metadata": {},
   "outputs": [],
   "source": [
    "tasa_conversion_247 = usuarios_conversion_247 / total_usuarios_247"
   ]
  },
  {
   "cell_type": "code",
   "execution_count": 63,
   "id": "c9f5e7b0-fc53-4a7b-9287-f7bb8b6cb183",
   "metadata": {},
   "outputs": [
    {
     "name": "stdout",
     "output_type": "stream",
     "text": [
      "Tasa de conversión en el grupo 246: 0.4830917874396135\n"
     ]
    }
   ],
   "source": [
    "print(\"Tasa de conversión en el grupo 246:\", tasa_conversion_246)"
   ]
  },
  {
   "cell_type": "code",
   "execution_count": 64,
   "id": "114d8aee-77db-403e-b98d-1fa9bb4312f0",
   "metadata": {},
   "outputs": [
    {
     "name": "stdout",
     "output_type": "stream",
     "text": [
      "Tasa de conversión en el grupo 247: 0.46080382013529647\n"
     ]
    }
   ],
   "source": [
    "print(\"Tasa de conversión en el grupo 247:\", tasa_conversion_247)"
   ]
  },
  {
   "cell_type": "code",
   "execution_count": 65,
   "id": "add0a400-b44c-4ef3-961c-df3a56a021f3",
   "metadata": {},
   "outputs": [],
   "source": [
    "conteos_conversion = [usuarios_conversion_246, usuarios_conversion_247]\n",
    "totales = [total_usuarios_246, total_usuarios_247]"
   ]
  },
  {
   "cell_type": "code",
   "execution_count": 66,
   "id": "e9c37bf0-700d-4526-98fd-52b3e5aad10a",
   "metadata": {},
   "outputs": [],
   "source": [
    "stat, p_value = proportions_ztest(conteos_conversion, totales)"
   ]
  },
  {
   "cell_type": "code",
   "execution_count": 67,
   "id": "753f7862-54ac-4f1f-8300-38896cf46693",
   "metadata": {},
   "outputs": [
    {
     "name": "stdout",
     "output_type": "stream",
     "text": [
      "Estadístico de prueba z: 1.5779948491596598\n",
      "Valor p: 0.11456679313141847\n"
     ]
    }
   ],
   "source": [
    "print(\"Estadístico de prueba z:\", stat)\n",
    "print(\"Valor p:\", p_value)"
   ]
  },
  {
   "cell_type": "markdown",
   "id": "635a59c0-166c-4b92-ae35-47032639dc47",
   "metadata": {},
   "source": [
    "**Observación**: El valor p es mayor que 0.05, entonces no hay suficiente evidencia para decir que las tasas de conversión difieren significativamente entre los dos grupos de control. Esto indicaría que nuestros grupos de control están alineados y que los resultados de nuestras pruebas son confiables."
   ]
  },
  {
   "cell_type": "markdown",
   "id": "c6b3f869-1d5f-4302-b061-fd4a6725b001",
   "metadata": {},
   "source": [
    "**Selecciona el evento más popular. En cada uno de los grupos de control, encuentra la cantidad de usuarios y usuarias que realizaron esta acción. Encuentra su proporción. Comprueba si la diferencia entre los grupos es estadísticamente significativa.**"
   ]
  },
  {
   "cell_type": "code",
   "execution_count": 68,
   "id": "54c735cd-6087-436a-9ae8-3403d805e1c5",
   "metadata": {},
   "outputs": [],
   "source": [
    "# Contar la frecuencia de cada evento\n",
    "evento_mas_popular = data_empresa['eventname'].value_counts().idxmax()"
   ]
  },
  {
   "cell_type": "code",
   "execution_count": 69,
   "id": "d5742138-1386-4550-a6c4-181421597048",
   "metadata": {},
   "outputs": [
    {
     "name": "stdout",
     "output_type": "stream",
     "text": [
      "El evento más popular es: MainScreenAppear\n"
     ]
    }
   ],
   "source": [
    "print(f\"El evento más popular es: {evento_mas_popular}\")"
   ]
  },
  {
   "cell_type": "code",
   "execution_count": 70,
   "id": "43b7b870-19b9-418f-9e68-dd5dc5f273aa",
   "metadata": {},
   "outputs": [],
   "source": [
    "# Calculamos la cantidad de usuarios que llegaron a \"MainScreenAppear\" en cada grupo\n",
    "usuarios_conversion_246 = grupo_246[grupo_246['eventname'] == 'MainScreenAppear']['deviceidhash'].nunique()\n",
    "usuarios_conversion_247 = grupo_247[grupo_247['eventname'] == 'MainScreenAppear']['deviceidhash'].nunique()"
   ]
  },
  {
   "cell_type": "code",
   "execution_count": 71,
   "id": "bf613fd4-6e0b-4673-aff7-296c1c4812fa",
   "metadata": {},
   "outputs": [],
   "source": [
    "# Calculamos la tasa de conversión en cada grupo\n",
    "tasa_conversion_246 = usuarios_conversion_246 / total_usuarios_246"
   ]
  },
  {
   "cell_type": "code",
   "execution_count": 72,
   "id": "517e760e-344d-4a10-b9e8-d78bd144b490",
   "metadata": {},
   "outputs": [],
   "source": [
    "tasa_conversion_247 = usuarios_conversion_247 / total_usuarios_247"
   ]
  },
  {
   "cell_type": "code",
   "execution_count": 73,
   "id": "c8928f2c-6329-4167-b39a-a51ad1e29171",
   "metadata": {},
   "outputs": [
    {
     "name": "stdout",
     "output_type": "stream",
     "text": [
      "Tasa de conversión en el grupo 246: 0.9863123993558777\n"
     ]
    }
   ],
   "source": [
    "print(\"Tasa de conversión en el grupo 246:\", tasa_conversion_246)"
   ]
  },
  {
   "cell_type": "code",
   "execution_count": 74,
   "id": "25650b2f-1264-49fe-9fab-f182119e48bc",
   "metadata": {},
   "outputs": [
    {
     "name": "stdout",
     "output_type": "stream",
     "text": [
      "Tasa de conversión en el grupo 247: 0.9852765618782332\n"
     ]
    }
   ],
   "source": [
    "print(\"Tasa de conversión en el grupo 247:\", tasa_conversion_247)"
   ]
  },
  {
   "cell_type": "code",
   "execution_count": 75,
   "id": "5bcf6b90-3bbb-4b33-8921-a321900ae736",
   "metadata": {},
   "outputs": [],
   "source": [
    "conteos_conversion = [usuarios_conversion_246, usuarios_conversion_247]\n",
    "totales = [total_usuarios_246, total_usuarios_247]"
   ]
  },
  {
   "cell_type": "code",
   "execution_count": 76,
   "id": "98a1248a-94ff-4f45-805f-af70fff520bd",
   "metadata": {},
   "outputs": [],
   "source": [
    "stat, p_value = proportions_ztest(conteos_conversion, totales)"
   ]
  },
  {
   "cell_type": "code",
   "execution_count": 77,
   "id": "c7f719f2-feb6-471e-b864-f6480cc40414",
   "metadata": {},
   "outputs": [
    {
     "name": "stdout",
     "output_type": "stream",
     "text": [
      "Estadístico de prueba z: 0.3093441851418436\n",
      "Valor p: 0.7570597232046099\n"
     ]
    }
   ],
   "source": [
    "print(\"Estadístico de prueba z:\", stat)\n",
    "print(\"Valor p:\", p_value)"
   ]
  },
  {
   "cell_type": "markdown",
   "id": "57b958d7-b844-45f1-b64d-b7873ecace97",
   "metadata": {},
   "source": [
    "**Observación**: El valor p es mayor que 0.05, entonces no hay suficiente evidencia para decir que las tasas de conversión difieren significativamente entre los dos grupos de control. Esto indicaría que nuestros grupos de control están alineados y que los resultados de nuestras pruebas son confiables."
   ]
  },
  {
   "cell_type": "markdown",
   "id": "9e0c26de-d2e3-4fcc-b1d1-b35e58786418",
   "metadata": {},
   "source": [
    "**Repite el procedimiento para todos los demás eventos (ahorrarás tiempo si creas una función especial para esta prueba). ¿Puedes confirmar que los grupos se dividieron correctamente?**"
   ]
  },
  {
   "cell_type": "code",
   "execution_count": 78,
   "id": "43ff34fe-e929-47e5-bef2-0aac2796beea",
   "metadata": {},
   "outputs": [
    {
     "name": "stdout",
     "output_type": "stream",
     "text": [
      "Evento: Tutorial\n",
      "Usuarios grupo 246: 278, Usuarios grupo 247: 283\n",
      "Proporción grupo 246: 0.1119, Proporción grupo 247: 0.1126\n",
      "Estadístico z: -0.0782, Valor p: 0.9377\n",
      "\n",
      "Evento: MainScreenAppear\n",
      "Usuarios grupo 246: 2450, Usuarios grupo 247: 2476\n",
      "Proporción grupo 246: 0.9863, Proporción grupo 247: 0.9853\n",
      "Estadístico z: 0.3093, Valor p: 0.7571\n",
      "\n",
      "Evento: OffersScreenAppear\n",
      "Usuarios grupo 246: 1542, Usuarios grupo 247: 1520\n",
      "Proporción grupo 246: 0.6208, Proporción grupo 247: 0.6049\n",
      "Estadístico z: 1.1550, Valor p: 0.2481\n",
      "\n",
      "Evento: CartScreenAppear\n",
      "Usuarios grupo 246: 1266, Usuarios grupo 247: 1238\n",
      "Proporción grupo 246: 0.5097, Proporción grupo 247: 0.4926\n",
      "Estadístico z: 1.2034, Valor p: 0.2288\n",
      "\n",
      "Evento: PaymentScreenSuccessful\n",
      "Usuarios grupo 246: 1200, Usuarios grupo 247: 1158\n",
      "Proporción grupo 246: 0.4831, Proporción grupo 247: 0.4608\n",
      "Estadístico z: 1.5780, Valor p: 0.1146\n",
      "\n"
     ]
    }
   ],
   "source": [
    "# Función para comparar proporciones entre los grupos de control\n",
    "def comparar_proporciones(evento): \n",
    "    # Filtrar usuarios únicos que realizaron el evento en cada grupo de control\n",
    "    usuarios_control_246 = data_empresa[(data_empresa['eventname'] == evento) & (data_empresa['expid'] == 246)]['deviceidhash'].nunique()\n",
    "    usuarios_control_247 = data_empresa[(data_empresa['eventname'] == evento) & (data_empresa['expid'] == 247)]['deviceidhash'].nunique()\n",
    "    # Calcular el total de usuarios únicos en cada grupo de control\n",
    "    total_usuarios_246 = data_empresa[data_empresa['expid'] == 246]['deviceidhash'].nunique()\n",
    "    total_usuarios_247 = data_empresa[data_empresa['expid'] == 247]['deviceidhash'].nunique()\n",
    "     # Preparar los datos para la prueba de proporciones\n",
    "    conteos_conversion = [usuarios_control_246, usuarios_control_247]\n",
    "    totales = [total_usuarios_246, total_usuarios_247]\n",
    "    # Realizar la prueba de proporciones\n",
    "    stat, p_value = proportions_ztest(conteos_conversion, totales)\n",
    "    # Resultados\n",
    "    print(f\"Evento: {evento}\")\n",
    "    print(f\"Usuarios grupo 246: {usuarios_control_246}, Usuarios grupo 247: {usuarios_control_247}\")\n",
    "    print(f\"Proporción grupo 246: {usuarios_control_246 / total_usuarios_246:.4f}, Proporción grupo 247: {usuarios_control_247 / total_usuarios_247:.4f}\")\n",
    "    print(f\"Estadístico z: {stat:.4f}, Valor p: {p_value:.4f}\\n\")\n",
    "    # Obtener todos los eventos únicos en el dataset\n",
    "eventos_unicos = data_empresa['eventname'].unique()\n",
    "\n",
    "# Aplicar la función a cada evento\n",
    "for evento in eventos_unicos:\n",
    "    comparar_proporciones(evento)"
   ]
  },
  {
   "cell_type": "markdown",
   "id": "dfed0198-eb7b-4aaa-acd7-b171e2a01bde",
   "metadata": {},
   "source": [
    "**Observaciones:** Los resultados de las pruebas estadísticas indican que no hay diferencias estadísticamente significativas entre los grupos de control (246 y 247) para ninguno de los eventos, ya que todos los valores p son mayores que 0.05. Esto sugiere que ambos grupos se comportan de manera similar y que no hay sesgo en la asignación de los usuarios a los grupos de control. La ausencia de diferencias significativas para todos los eventos sugiere que los grupos de control están bien balanceados. Esto es una señal positiva, ya que indica que los mecanismos de división y aleatorización han funcionado correctamente, y los grupos de control pueden ser comparables al realizar el análisis en el experimento A/B/A.los valores p altos confirman que las proporciones son equivalentes entre los grupos para todos los eventos, lo cual valida la configuración del experimento."
   ]
  },
  {
   "cell_type": "markdown",
   "id": "5d64a5aa-faa6-44b0-ac46-293f9cc45a58",
   "metadata": {},
   "source": [
    "**Haz lo mismo para el grupo con fuentes alteradas. Compara los resultados con los de cada uno de los grupos de control para cada evento de forma aislada. Compara los resultados con los resultados combinados de los grupos de control. ¿Qué conclusiones puedes sacar del experimento?**"
   ]
  },
  {
   "cell_type": "code",
   "execution_count": 79,
   "id": "2c817bd2-da93-463e-a8d1-17db66d1765b",
   "metadata": {},
   "outputs": [],
   "source": [
    "# Calcular el número de usuarios únicos que realizaron cada evento en cada grupo\n",
    "# Filtra los datos para cada grupo\n",
    "grupo_246 = data_empresa[data_empresa['expid'] == 246]\n",
    "grupo_247 = data_empresa[data_empresa['expid'] == 247]\n",
    "grupo_248 = data_empresa[data_empresa['expid'] == 248]"
   ]
  },
  {
   "cell_type": "code",
   "execution_count": 80,
   "id": "aeea8c7a-6f63-42fb-921d-b0534c7d82c1",
   "metadata": {},
   "outputs": [],
   "source": [
    "# Contar usuarios únicos por evento en cada grupo\n",
    "usuarios_evento_246 = grupo_246.groupby('eventname')['deviceidhash'].nunique()\n",
    "usuarios_evento_247 = grupo_247.groupby('eventname')['deviceidhash'].nunique()\n",
    "usuarios_evento_248 = grupo_248.groupby('eventname')['deviceidhash'].nunique()"
   ]
  },
  {
   "cell_type": "code",
   "execution_count": 81,
   "id": "a318ab6b-fa13-4f51-9043-c6ef736f1d3c",
   "metadata": {},
   "outputs": [],
   "source": [
    "# Obtener la cantidad total de usuarios únicos en cada grupo\n",
    "total_usuarios_246 = grupo_246['deviceidhash'].nunique()\n",
    "total_usuarios_247 = grupo_247['deviceidhash'].nunique()\n",
    "total_usuarios_248 = grupo_248['deviceidhash'].nunique()"
   ]
  },
  {
   "cell_type": "code",
   "execution_count": 82,
   "id": "8dfea9d4-e900-4abd-8484-3a1344431b35",
   "metadata": {},
   "outputs": [
    {
     "name": "stdout",
     "output_type": "stream",
     "text": [
      "                    Evento  Estadístico z (vs Grupo 246)  \\\n",
      "0         CartScreenAppear                      1.759874   \n",
      "1         MainScreenAppear                      1.047276   \n",
      "2       OffersScreenAppear                      1.258082   \n",
      "3  PaymentScreenSuccessful                      1.247388   \n",
      "4                 Tutorial                      0.219283   \n",
      "\n",
      "   Valor p (vs Grupo 246)  Estadístico z (vs Grupo 247)  \\\n",
      "0                0.078429                      0.555402   \n",
      "1                0.294972                      0.740980   \n",
      "2                0.208362                      0.100709   \n",
      "3                0.212255                     -0.335376   \n",
      "4                0.826429                      0.298497   \n",
      "\n",
      "   Valor p (vs Grupo 247)  Estadístico z (vs Control Combinado)  \\\n",
      "0                0.578620                              1.155053   \n",
      "1                0.458705                              0.892239   \n",
      "2                0.919782                              0.675828   \n",
      "3                0.737342                              0.453091   \n",
      "4                0.765324                              0.259089   \n",
      "\n",
      "   Valor p (vs Control Combinado)  \n",
      "0                        0.248069  \n",
      "1                        0.372265  \n",
      "2                        0.499150  \n",
      "3                        0.650483  \n",
      "4                        0.795566  \n"
     ]
    }
   ],
   "source": [
    "# Definir una función para comparar proporciones entre el grupo de prueba y cada grupo de control\n",
    "def comparar_proporciones(evento, usuarios_evento_control, total_control, usuarios_evento_prueba, total_prueba):\n",
    "    # Contar el número de usuarios que hicieron el evento en cada grupo\n",
    "    conteos = [usuarios_evento_control, usuarios_evento_prueba]\n",
    "    totales = [total_control, total_prueba]\n",
    "    \n",
    "    # Realizar la prueba z para proporciones\n",
    "    stat, p_value = proportions_ztest(conteos, totales)\n",
    "    return stat, p_value\n",
    "    # Crear un DataFrame para almacenar los resultados\n",
    "resultados = []\n",
    "# Comparar cada evento entre los grupos de control y el grupo de prueba\n",
    "for evento in usuarios_evento_246.index:\n",
    "    # Comparación con grupo 246\n",
    "    stat_246, p_value_246 = comparar_proporciones(\n",
    "        evento,\n",
    "        usuarios_evento_246.get(evento, 0),\n",
    "        total_usuarios_246,\n",
    "        usuarios_evento_248.get(evento, 0),\n",
    "        total_usuarios_248\n",
    "    )\n",
    "    # Comparación con grupo 247\n",
    "    stat_247, p_value_247 = comparar_proporciones(\n",
    "        evento,\n",
    "        usuarios_evento_247.get(evento, 0),\n",
    "        total_usuarios_247,\n",
    "        usuarios_evento_248.get(evento, 0),\n",
    "        total_usuarios_248\n",
    "    )\n",
    "    # Comparación con la media combinada de los grupos de control\n",
    "    usuarios_evento_control_comb = (usuarios_evento_246.get(evento, 0) + usuarios_evento_247.get(evento, 0)) / 2\n",
    "    total_control_comb = (total_usuarios_246 + total_usuarios_247) / 2\n",
    "    \n",
    "    stat_comb, p_value_comb = comparar_proporciones(\n",
    "        evento,\n",
    "        usuarios_evento_control_comb,\n",
    "        total_control_comb,\n",
    "        usuarios_evento_248.get(evento, 0),\n",
    "        total_usuarios_248\n",
    "    )\n",
    "    # Agregar los resultados al DataFrame\n",
    "    resultados.append({\n",
    "        'Evento': evento,\n",
    "        'Estadístico z (vs Grupo 246)': stat_246,\n",
    "        'Valor p (vs Grupo 246)': p_value_246,\n",
    "        'Estadístico z (vs Grupo 247)': stat_247,\n",
    "        'Valor p (vs Grupo 247)': p_value_247,\n",
    "        'Estadístico z (vs Control Combinado)': stat_comb,\n",
    "        'Valor p (vs Control Combinado)': p_value_comb,\n",
    "    })\n",
    "# Convertir los resultados en un DataFrame\n",
    "df_resultados = pd.DataFrame(resultados)\n",
    "\n",
    "# Mostrar los resultados\n",
    "print(df_resultados)"
   ]
  },
  {
   "cell_type": "markdown",
   "id": "1ac6cdbd-2daf-482b-8468-1a28dcfb456d",
   "metadata": {},
   "source": [
    "**Observaciones:** \n",
    "Para interpretar estos resultados, vamos a revisar el valor p de cada evento en la comparación entre el grupo de prueba (grupo 248) y los grupos de control (grupos 246 y 247), así como el control combinado.\n",
    "\n",
    "Interpretación clave del valor p:<br>\n",
    "Si el valor p es menor a 0.05, se considera que hay una diferencia estadísticamente significativa en el evento entre los grupos.<br>                       Si el valor p es mayor o igual a 0.05, no hay evidencia de una diferencia significativa.\n",
    "\n",
    "**CartScreenAppear:**<br>\n",
    "Comparación con grupo 246: Estadístico z = 1.759874 , Valor p = 0.078429<br>\n",
    "Comparación con grupo 247: Estadístico z = 0.555402 , Valor p = 0.578620<br>\n",
    "Comparación con el control combinado: Estadístico z =  1.155053, Valor p =  0.248069<br>\n",
    "Interpretación: Ninguna de estas comparaciones muestra un valor p menor a 0.05. Esto sugiere que la frecuencia del evento \"CartScreenAppear\" no es significativamente diferente en el grupo de prueba en comparación con los grupos de control.\n",
    "\n",
    "**MainScreenAppear:**<br>\n",
    "\n",
    "Comparación con grupo 246: Estadístico z =1.047276  , Valor p =0.294972  <br>\n",
    "Comparación con grupo 247: Estadístico z = 0.740980 , Valor p =  0.458705  <br>\n",
    "Comparación con el control combinado: Estadístico z = 0.892239 , Valor p = 0.372265<br>\n",
    "Interpretación: Tampoco se observa diferencia significativa aquí, ya que todos los valores p son mayores que 0.05. Esto indica que el evento \"MainScreenAppear\" es consistente entre el grupo de prueba y los grupos de control.\n",
    "\n",
    "**OffersScreenAppear:**<br>\n",
    "\n",
    "Comparación con grupo 246: Estadístico z = 1.258082 , Valor p = 0.208362 <br>\n",
    "Comparación con grupo 247: Estadístico z = 0.100709 , Valor p = 0.919782 <br>\n",
    "Comparación con el control combinado: Estadístico z = 0.675828, Valor p = 0.499150 <br>\n",
    "Interpretación: Nuevamente, no hay diferencias significativas en \"OffersScreenAppear\" entre el grupo de prueba y los grupos de control.\n",
    "\n",
    "**PaymentScreenSuccessful:**<br>\n",
    "\n",
    "Comparación con grupo 246: Estadístico z = 1.247388 , Valor p = 0.212255 <br>\n",
    "Comparación con grupo 247: Estadístico z =-0.335376  , Valor p =  0.737342 <br>\n",
    "Comparación con el control combinado: Estadístico z =  0.453091, Valor p =  0.650483<br>\n",
    "Interpretación: No se encuentra diferencia estadísticamente significativa para el evento \"PaymentScreenSuccessful\".\n",
    "\n",
    "**Tutorial:**<br>\n",
    "\n",
    "Comparación con grupo 246: Estadístico z =  0.219283, Valor p = 0.826429<br>\n",
    "Comparación con grupo 247: Estadístico z = 0.298497, Valor p = 0.765324 <br>\n",
    "Comparación con el control combinado: Estadístico z = 0.259089, Valor p = 0.795566<br>\n",
    "Interpretación: Los valores p en todos los casos son muy altos, indicando que no hay diferencia significativa en el evento \"Tutorial\" entre el grupo de prueba y los grupos de control.\n",
    "\n",
    "**Conclusión**<br>\n",
    "En todas las comparaciones, los valores p son mayores a 0.05, lo que indica que no hay diferencias estadísticamente significativas entre el grupo de prueba (248) y los grupos de control (246 y 247), tanto individualmente como en combinación, para ninguno de los eventos. Esto sugiere que los grupos de control y el grupo de prueba probablemente están correctamente equilibrados, y que el cambio en las fuentes (fuentes alteradas en el grupo de prueba) no tuvo un impacto significativo en el comportamiento de los usuarios en estos eventos.\n",
    "\n"
   ]
  },
  {
   "cell_type": "markdown",
   "id": "abda40cc-2d88-47f2-8adf-be5a2acc23b0",
   "metadata": {},
   "source": [
    "**¿Qué nivel de significación has establecido para probar las hipótesis estadísticas mencionadas anteriormente? Calcula cuántas pruebas de hipótesis estadísticas has realizado. Con un nivel de significancia estadística de 0.1, uno de cada 10 resultados podría ser falso. ¿Cuál debería ser el nivel de significación? Si deseas cambiarlo, vuelve a ejecutar los pasos anteriores y comprueba tus conclusiones.**"
   ]
  },
  {
   "cell_type": "markdown",
   "id": "db5f3c57-20c0-484f-8736-3dbff97621a9",
   "metadata": {},
   "source": [
    "Con un nivel de significancia de 0.05, cada prueba de hipótesis tiene una probabilidad de 5% de arrojar un falso positivo, es decir, de encontrar una diferencia estadísticamente significativa cuando en realidad no la hay.<br> \n",
    "Cantidad de pruebas realizadas: Basándonos en los datos, se realizaron 15 pruebas (cinco eventos por cada una de las comparaciones entre el grupo de prueba y los grupos de control: Grupo 246, Grupo 247 y Control Combinado).<br>\n",
    "Proporción de falsos positivos con un nivel de 0.05: Dado que se realizaron 15 pruebas y si usamos un nivel de significancia de 0.05, aproximadamente uno de cada 20 resultados podría ser falso positivo. Así, podríamos esperar alrededor de 15×0.05=0.75 falsos positivos solo por el número de pruebas realizadas.\n",
    "Nivel de significancia recomendado: Para reducir el riesgo de falsos positivos, podríamos considerar reducir el nivel de significancia. Aplicando la corrección de Bonferroni, dividiríamos 0.05 entre 15, lo que resulta en un nuevo nivel de significancia de aproximadamente 0.0033 para cada prueba individual."
   ]
  }
 ],
 "metadata": {
  "kernelspec": {
   "display_name": "base",
   "language": "python",
   "name": "python3"
  },
  "language_info": {
   "codemirror_mode": {
    "name": "ipython",
    "version": 3
   },
   "file_extension": ".py",
   "mimetype": "text/x-python",
   "name": "python",
   "nbconvert_exporter": "python",
   "pygments_lexer": "ipython3",
   "version": "3.12.4"
  },
  "toc": {
   "base_numbering": 1,
   "nav_menu": {},
   "number_sections": true,
   "sideBar": true,
   "skip_h1_title": true,
   "title_cell": "Table of Contents",
   "title_sidebar": "Contents",
   "toc_cell": false,
   "toc_position": {},
   "toc_section_display": true,
   "toc_window_display": false
  }
 },
 "nbformat": 4,
 "nbformat_minor": 5
}
