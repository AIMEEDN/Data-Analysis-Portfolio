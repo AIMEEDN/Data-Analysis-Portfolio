{
 "cells": [
  {
   "cell_type": "markdown",
   "id": "13446053-1150-4909-b76c-e5a2b745fb55",
   "metadata": {},
   "source": [
    "# Proyecto Evaluación del impacto de un nuevo sistema de recomendaciones: Análisis de Prueba A/B "
   ]
  },
  {
   "cell_type": "markdown",
   "id": "3af42d7a-9404-4ff8-8f13-7e664060ee95",
   "metadata": {},
   "source": [
    "# Tabla de contenido\n",
    "1. [Introducción al Proyecto](#Introduccción-al-Proyecto)\n",
    "2. [Objetivos específicos](#Objetivos-específicos)\n",
    "3. [Etapas de análisis del proyecto](#Etapas-de-análisis-del-proyecto)\n",
    "4. [Preparación de datos](#Preparación-de-datos)\n",
    "5. [Análisis Exploratorio de Datos (EDA)](#Análisis-Exploratorio-de-Datos-(EDA))\n",
    "6. [Análisis de resultados de la prueba A/B](#Análisis-de-resultados-de-la-prueba-A/B)\n",
    "7. [Conclusiones y recomendaciones](#Conclusiones-y-recomendaciones)"
   ]
  },
  {
   "cell_type": "markdown",
   "id": "460ddb9e-1306-4565-af5d-7537f514ba19",
   "metadata": {},
   "source": [
    "# Introducción al Proyecto \n",
    "Este proyecto tiene como objetivo analizar los resultados de una prueba A/B implementada por una tienda en línea internacional para evaluar un sistema de recomendaciones mejorado. El experimento, denominado recommender_system_test, fue diseñado para medir el impacto de un nuevo embudo de pago en la conversión de los usuarios a través de tres etapas clave del embudo de ventas: vistas de página de producto, adición de productos al carrito y compras finales. La audiencia objetivo abarcó el 15% de los nuevos usuarios en la región de la UE durante el período de prueba, desde el 7 de diciembre de 2020 hasta el 1 de enero de 2021.\n",
    "\n",
    "El propósito principal es determinar si el nuevo sistema logró incrementar la conversión en al menos un 10% en cada etapa del embudo, en comparación con el grupo de control. Este análisis implica evaluar la eficacia del sistema de recomendaciones propuesto mediante una combinación de análisis exploratorio de datos y pruebas estadísticas."
   ]
  },
  {
   "cell_type": "markdown",
   "id": "a88477f5-bee4-4008-ac48-b0f700e30d34",
   "metadata": {},
   "source": [
    "# Objetivos específicos\n",
    "**1.Explorar y limpiar los datos del experimento**\n",
    "Examinar los datos proporcionados para identificar valores faltantes, duplicados y anomalías. Asegurarse de que los tipos de datos sean adecuados para el análisis y realizar las transformaciones necesarias.\n",
    "\n",
    "**2.Analizar las métricas de conversión en el embudo de ventas**\n",
    "Evaluar el comportamiento de los usuarios en las distintas etapas del embudo (product_page → product_card → purchase) y determinar si hay diferencias significativas entre los grupos de prueba y control en términos de número de eventos, conversión por etapa y actividad diaria.\n",
    "\n",
    "**3.Evaluar los resultados estadísticos de la prueba A/B**\n",
    "Realizar una prueba Z para comparar las proporciones de conversión entre los grupos de prueba y control. Determinar si las diferencias observadas son estadísticamente significativas y cumplen con los objetivos establecidos de la prueba."
   ]
  },
  {
   "cell_type": "markdown",
   "id": "44059044-3da0-4783-a5af-33e57dc280b8",
   "metadata": {},
   "source": [
    "# Etapas de análisis del proyecto\n",
    "**-Preparación de datos**\n",
    "\n",
    "Cargar los datos de las tablas proporcionadas.\n",
    "Identificar y tratar valores ausentes, duplicados o inconsistentes.\n",
    "Verificar la existencia de usuarios en múltiples grupos de prueba.\n",
    "Asegurarse de que las columnas relevantes tengan el formato correcto (fechas, numéricos, etc.).\n",
    "\n",
    "**-Análisis exploratorio de datos (EDA)**\n",
    "\n",
    "Evaluar la distribución de eventos en el tiempo y por usuario.\n",
    "\n",
    "\n",
    "**-Análisis de resultados de la prueba A/B**\n",
    "\n",
    "Calcular las tasas de conversión por etapa para ambos grupos.\n",
    "Realizar una prueba Z para determinar si las diferencias entre los grupos son estadísticamente significativas.\n",
    "Comprobar si se alcanzaron los incrementos esperados del 10% en cada etapa del embudo.\n",
    "\n",
    "**-Conclusiones y recomendaciones**\n",
    "\n",
    "Proporcionar recomendaciones basadas en los resultados de la prueba para mejorar el sistema de recomendaciones y la experiencia del usuario."
   ]
  },
  {
   "cell_type": "markdown",
   "id": "1f284777-4a8a-469c-a1f7-056bdfee4609",
   "metadata": {},
   "source": [
    "# Preparación de datos"
   ]
  },
  {
   "cell_type": "markdown",
   "id": "4511a1cf-0a7c-42d5-8d6c-7289ed5450f4",
   "metadata": {},
   "source": [
    "**Inicialización**"
   ]
  },
  {
   "cell_type": "code",
   "execution_count": 1,
   "id": "53fa99eb-3acc-42ce-9185-febced4f30b9",
   "metadata": {},
   "outputs": [],
   "source": [
    "import requests\n",
    "import pandas as pd\n",
    "import matplotlib.pyplot as plt\n",
    "plt.style.use('seaborn-v0_8-darkgrid')\n",
    "import numpy as np\n",
    "from scipy.stats import norm"
   ]
  },
  {
   "cell_type": "code",
   "execution_count": 2,
   "id": "81d68b25-dbe8-4330-b725-3b040ac559ea",
   "metadata": {},
   "outputs": [],
   "source": [
    "url = \"https://file.notion.so/f/f/662b586e-86b7-4f44-9740-1dc06c7a67a4/0fe62c32-aa77-49a5-8a8b-007bd5b2412e/ab_project_marketing_events_us_(1).csv?table=block&id=1146ed1e-fc93-8146-806d-ef3d6da82fb2&spaceId=662b586e-86b7-4f44-9740-1dc06c7a67a4&expirationTimestamp=1734405806668&signature=C7oclFEoxNhRXGYy-_wSq_KABClqhdp6kh6DZw2B8DA&downloadName=ab_project_marketing_events_us.csv\""
   ]
  },
  {
   "cell_type": "code",
   "execution_count": 3,
   "id": "dd6d240a-a44a-4638-b9e1-bc07d439fba9",
   "metadata": {},
   "outputs": [],
   "source": [
    "file_name = \"ab_project_marketing_events_us.csv\""
   ]
  },
  {
   "cell_type": "code",
   "execution_count": 4,
   "id": "7a409334-c83e-4a0f-bf10-8af2e7b5f17f",
   "metadata": {},
   "outputs": [
    {
     "name": "stdout",
     "output_type": "stream",
     "text": [
      "Error al descargar el archivo: 419 Client Error: Unknown for url: https://file.notion.so/f/f/662b586e-86b7-4f44-9740-1dc06c7a67a4/0fe62c32-aa77-49a5-8a8b-007bd5b2412e/ab_project_marketing_events_us_(1).csv?table=block&id=1146ed1e-fc93-8146-806d-ef3d6da82fb2&spaceId=662b586e-86b7-4f44-9740-1dc06c7a67a4&expirationTimestamp=1734405806668&signature=C7oclFEoxNhRXGYy-_wSq_KABClqhdp6kh6DZw2B8DA&downloadName=ab_project_marketing_events_us.csv\n"
     ]
    }
   ],
   "source": [
    "try:\n",
    "    response = requests.get(url)\n",
    "    response.raise_for_status() \n",
    "    with open(\"ab_project_marketing_events_us.csv\", \"wb\") as file:\n",
    "        file.write(response.content)\n",
    "    print(f\"Archivo descargado exitosamente como: {\"ab_project_marketing_events_us.csv\"}\")\n",
    "except requests.exceptions.RequestException as e:\n",
    "    print(f\"Error al descargar el archivo: {e}\")"
   ]
  },
  {
   "cell_type": "code",
   "execution_count": 5,
   "id": "ab86a2b8-55ea-4a53-91c5-d995a760cb28",
   "metadata": {},
   "outputs": [],
   "source": [
    "url = \"https://file.notion.so/f/f/662b586e-86b7-4f44-9740-1dc06c7a67a4/6be71a24-aa02-41c6-8588-9f89ee459d65/final_ab_new_users_upd_us.csv?table=block&id=1146ed1e-fc93-81ba-97e0-cef88e5bb104&spaceId=662b586e-86b7-4f44-9740-1dc06c7a67a4&expirationTimestamp=1734408685636&signature=FacKKus7vdfcUOMjxIjdrnHBdxu3YDs-p9O-ENSLpqk&downloadName=final_ab_new_users_upd_us.csv\""
   ]
  },
  {
   "cell_type": "code",
   "execution_count": 6,
   "id": "23457525-6055-4ade-8d6a-3fe2a133aca9",
   "metadata": {},
   "outputs": [],
   "source": [
    "file_name = \"final_ab_new_users_upd_us.csv\""
   ]
  },
  {
   "cell_type": "code",
   "execution_count": 7,
   "id": "640f25f6-fd49-48e2-bdbe-c69dff38d8e2",
   "metadata": {},
   "outputs": [
    {
     "name": "stdout",
     "output_type": "stream",
     "text": [
      "Error al descargar el archivo: 419 Client Error: Unknown for url: https://file.notion.so/f/f/662b586e-86b7-4f44-9740-1dc06c7a67a4/6be71a24-aa02-41c6-8588-9f89ee459d65/final_ab_new_users_upd_us.csv?table=block&id=1146ed1e-fc93-81ba-97e0-cef88e5bb104&spaceId=662b586e-86b7-4f44-9740-1dc06c7a67a4&expirationTimestamp=1734408685636&signature=FacKKus7vdfcUOMjxIjdrnHBdxu3YDs-p9O-ENSLpqk&downloadName=final_ab_new_users_upd_us.csv\n"
     ]
    }
   ],
   "source": [
    "try:\n",
    "    response = requests.get(url)\n",
    "    response.raise_for_status() \n",
    "    with open(\"final_ab_new_users_upd_us.csv\", \"wb\") as file:\n",
    "        file.write(response.content)\n",
    "    print(f\"Archivo descargado exitosamente como: {\"final_ab_new_users_upd_us.csv\"}\")\n",
    "except requests.exceptions.RequestException as e:\n",
    "    print(f\"Error al descargar el archivo: {e}\")"
   ]
  },
  {
   "cell_type": "code",
   "execution_count": 8,
   "id": "83baa8ff-5ce9-4f63-92bd-69da9cc4f80b",
   "metadata": {},
   "outputs": [],
   "source": [
    "url = \"https://file.notion.so/f/f/662b586e-86b7-4f44-9740-1dc06c7a67a4/bded79e7-4918-453d-9259-4fcac87163e3/final_ab_events_upd_us.csv?table=block&id=1146ed1e-fc93-8199-b4fd-f0c1da3c1b8e&spaceId=662b586e-86b7-4f44-9740-1dc06c7a67a4&expirationTimestamp=1734408849587&signature=-CSZGmr5rYXOZdu_qkoOm-3tAJSDINtZaI5ANEz7-No&downloadName=final_ab_events_upd_us.csv\""
   ]
  },
  {
   "cell_type": "code",
   "execution_count": 9,
   "id": "375a7b48-0969-43d1-808d-09d197bf4117",
   "metadata": {},
   "outputs": [],
   "source": [
    "file_name = \"final_ab_events_upd_us.csv\""
   ]
  },
  {
   "cell_type": "code",
   "execution_count": 10,
   "id": "a9166570-e1a0-4833-8356-43b70b81c05c",
   "metadata": {},
   "outputs": [
    {
     "name": "stdout",
     "output_type": "stream",
     "text": [
      "Error al descargar el archivo: 419 Client Error: Unknown for url: https://file.notion.so/f/f/662b586e-86b7-4f44-9740-1dc06c7a67a4/bded79e7-4918-453d-9259-4fcac87163e3/final_ab_events_upd_us.csv?table=block&id=1146ed1e-fc93-8199-b4fd-f0c1da3c1b8e&spaceId=662b586e-86b7-4f44-9740-1dc06c7a67a4&expirationTimestamp=1734408849587&signature=-CSZGmr5rYXOZdu_qkoOm-3tAJSDINtZaI5ANEz7-No&downloadName=final_ab_events_upd_us.csv\n"
     ]
    }
   ],
   "source": [
    "try:\n",
    "    response = requests.get(url)\n",
    "    response.raise_for_status() \n",
    "    with open(\"final_ab_events_upd_us.csv\", \"wb\") as file:\n",
    "        file.write(response.content)\n",
    "    print(f\"Archivo descargado exitosamente como: {\"final_ab_events_upd_us.csv\"}\")\n",
    "except requests.exceptions.RequestException as e:\n",
    "    print(f\"Error al descargar el archivo: {e}\")"
   ]
  },
  {
   "cell_type": "code",
   "execution_count": 11,
   "id": "4e0b21a7-318e-498a-942d-e4d2ab4b9dcf",
   "metadata": {},
   "outputs": [],
   "source": [
    "url = \"https://file.notion.so/f/f/662b586e-86b7-4f44-9740-1dc06c7a67a4/ec5c9f7b-86f7-4d00-89ed-e36b34f7be09/final_ab_participants_upd_us.csv?table=block&id=1146ed1e-fc93-8111-aa93-e46ca0da63a8&spaceId=662b586e-86b7-4f44-9740-1dc06c7a67a4&expirationTimestamp=1734409004285&signature=Ohp_DwIVycXFe50w3e5Q7F8B-PZhiSJP7Iti1pMbDzY&downloadName=final_ab_participants_upd_us.csv\""
   ]
  },
  {
   "cell_type": "code",
   "execution_count": 12,
   "id": "90f39d4f-29f1-4df2-9dfc-0f75254e1990",
   "metadata": {},
   "outputs": [],
   "source": [
    "file_name = \"final_ab_participants_upd_us.csv\""
   ]
  },
  {
   "cell_type": "code",
   "execution_count": 13,
   "id": "6d665c8c-35ab-4a77-9460-01b69655ef76",
   "metadata": {},
   "outputs": [
    {
     "name": "stdout",
     "output_type": "stream",
     "text": [
      "Archivo descargado exitosamente como: final_ab_participants_upd_us.csv\n"
     ]
    }
   ],
   "source": [
    "try:\n",
    "    response = requests.get(url)\n",
    "    response.raise_for_status() \n",
    "    with open(\"final_ab_participants_upd_us.csv\", \"wb\") as file:\n",
    "        file.write(response.content)\n",
    "    print(f\"Archivo descargado exitosamente como: {\"final_ab_participants_upd_us.csv\"}\")\n",
    "except requests.exceptions.RequestException as e:\n",
    "    print(f\"Error al descargar el archivo: {e}\")"
   ]
  },
  {
   "cell_type": "markdown",
   "id": "9532e385-67a1-43f2-a270-0155765631a8",
   "metadata": {},
   "source": [
    "**Cargar los datos**"
   ]
  },
  {
   "cell_type": "code",
   "execution_count": 14,
   "id": "6abece68-ad33-408e-8151-90e0ec32a621",
   "metadata": {},
   "outputs": [],
   "source": [
    "project_marketing_events = pd.read_csv('ab_project_marketing_events_us.csv')"
   ]
  },
  {
   "cell_type": "code",
   "execution_count": 15,
   "id": "f1af1c2d-3aca-427a-8856-546f00a6b8e0",
   "metadata": {},
   "outputs": [],
   "source": [
    "new_users = pd.read_csv('final_ab_new_users_upd_us.csv')"
   ]
  },
  {
   "cell_type": "code",
   "execution_count": 16,
   "id": "b725e873-80a0-4bba-8068-de85c9db0e85",
   "metadata": {},
   "outputs": [],
   "source": [
    "events = pd.read_csv('final_ab_events_upd_us.csv')"
   ]
  },
  {
   "cell_type": "code",
   "execution_count": 17,
   "id": "43ae7290-d13d-4c56-9b27-6b46987e7f0c",
   "metadata": {},
   "outputs": [],
   "source": [
    "participants = pd.read_csv('final_ab_participants_upd_us.csv')"
   ]
  },
  {
   "cell_type": "markdown",
   "id": "b560c430-98c5-45b2-9425-41bf13023fdc",
   "metadata": {},
   "source": [
    "**project_marketing_events**"
   ]
  },
  {
   "cell_type": "code",
   "execution_count": 18,
   "id": "11091e2d-0ea6-4ba3-8ce4-4d17267ae342",
   "metadata": {},
   "outputs": [
    {
     "data": {
      "text/html": [
       "<div>\n",
       "<style scoped>\n",
       "    .dataframe tbody tr th:only-of-type {\n",
       "        vertical-align: middle;\n",
       "    }\n",
       "\n",
       "    .dataframe tbody tr th {\n",
       "        vertical-align: top;\n",
       "    }\n",
       "\n",
       "    .dataframe thead th {\n",
       "        text-align: right;\n",
       "    }\n",
       "</style>\n",
       "<table border=\"1\" class=\"dataframe\">\n",
       "  <thead>\n",
       "    <tr style=\"text-align: right;\">\n",
       "      <th></th>\n",
       "      <th>name</th>\n",
       "      <th>regions</th>\n",
       "      <th>start_dt</th>\n",
       "      <th>finish_dt</th>\n",
       "    </tr>\n",
       "  </thead>\n",
       "  <tbody>\n",
       "    <tr>\n",
       "      <th>0</th>\n",
       "      <td>Christmas&amp;New Year Promo</td>\n",
       "      <td>EU, N.America</td>\n",
       "      <td>2020-12-25</td>\n",
       "      <td>2021-01-03</td>\n",
       "    </tr>\n",
       "    <tr>\n",
       "      <th>1</th>\n",
       "      <td>St. Valentine's Day Giveaway</td>\n",
       "      <td>EU, CIS, APAC, N.America</td>\n",
       "      <td>2020-02-14</td>\n",
       "      <td>2020-02-16</td>\n",
       "    </tr>\n",
       "    <tr>\n",
       "      <th>2</th>\n",
       "      <td>St. Patric's Day Promo</td>\n",
       "      <td>EU, N.America</td>\n",
       "      <td>2020-03-17</td>\n",
       "      <td>2020-03-19</td>\n",
       "    </tr>\n",
       "    <tr>\n",
       "      <th>3</th>\n",
       "      <td>Easter Promo</td>\n",
       "      <td>EU, CIS, APAC, N.America</td>\n",
       "      <td>2020-04-12</td>\n",
       "      <td>2020-04-19</td>\n",
       "    </tr>\n",
       "    <tr>\n",
       "      <th>4</th>\n",
       "      <td>4th of July Promo</td>\n",
       "      <td>N.America</td>\n",
       "      <td>2020-07-04</td>\n",
       "      <td>2020-07-11</td>\n",
       "    </tr>\n",
       "  </tbody>\n",
       "</table>\n",
       "</div>"
      ],
      "text/plain": [
       "                           name                   regions    start_dt  \\\n",
       "0      Christmas&New Year Promo             EU, N.America  2020-12-25   \n",
       "1  St. Valentine's Day Giveaway  EU, CIS, APAC, N.America  2020-02-14   \n",
       "2        St. Patric's Day Promo             EU, N.America  2020-03-17   \n",
       "3                  Easter Promo  EU, CIS, APAC, N.America  2020-04-12   \n",
       "4             4th of July Promo                 N.America  2020-07-04   \n",
       "\n",
       "    finish_dt  \n",
       "0  2021-01-03  \n",
       "1  2020-02-16  \n",
       "2  2020-03-19  \n",
       "3  2020-04-19  \n",
       "4  2020-07-11  "
      ]
     },
     "execution_count": 18,
     "metadata": {},
     "output_type": "execute_result"
    }
   ],
   "source": [
    "project_marketing_events.head()"
   ]
  },
  {
   "cell_type": "code",
   "execution_count": 19,
   "id": "031bc841-c24c-4745-b47a-1dc28147a562",
   "metadata": {},
   "outputs": [
    {
     "name": "stdout",
     "output_type": "stream",
     "text": [
      "<class 'pandas.core.frame.DataFrame'>\n",
      "RangeIndex: 14 entries, 0 to 13\n",
      "Data columns (total 4 columns):\n",
      " #   Column     Non-Null Count  Dtype \n",
      "---  ------     --------------  ----- \n",
      " 0   name       14 non-null     object\n",
      " 1   regions    14 non-null     object\n",
      " 2   start_dt   14 non-null     object\n",
      " 3   finish_dt  14 non-null     object\n",
      "dtypes: object(4)\n",
      "memory usage: 580.0+ bytes\n"
     ]
    }
   ],
   "source": [
    "project_marketing_events.info()"
   ]
  },
  {
   "cell_type": "code",
   "execution_count": 20,
   "id": "b3ee5895-1e68-4ba9-b525-597a5f8012c4",
   "metadata": {},
   "outputs": [],
   "source": [
    "project_marketing_events['start_dt'] = pd.to_datetime(project_marketing_events['start_dt'], format = '%Y-%m-%d')"
   ]
  },
  {
   "cell_type": "code",
   "execution_count": 21,
   "id": "28c21489-dbf8-4374-8c74-9b01656d6f47",
   "metadata": {},
   "outputs": [],
   "source": [
    "project_marketing_events['finish_dt'] = pd.to_datetime(project_marketing_events['finish_dt'], format = '%Y-%m-%d')"
   ]
  },
  {
   "cell_type": "code",
   "execution_count": 22,
   "id": "44567355-fa3a-4347-aa4c-aa7bedbbc287",
   "metadata": {},
   "outputs": [
    {
     "name": "stdout",
     "output_type": "stream",
     "text": [
      "<class 'pandas.core.frame.DataFrame'>\n",
      "RangeIndex: 14 entries, 0 to 13\n",
      "Data columns (total 4 columns):\n",
      " #   Column     Non-Null Count  Dtype         \n",
      "---  ------     --------------  -----         \n",
      " 0   name       14 non-null     object        \n",
      " 1   regions    14 non-null     object        \n",
      " 2   start_dt   14 non-null     datetime64[ns]\n",
      " 3   finish_dt  14 non-null     datetime64[ns]\n",
      "dtypes: datetime64[ns](2), object(2)\n",
      "memory usage: 580.0+ bytes\n"
     ]
    }
   ],
   "source": [
    "project_marketing_events.info()"
   ]
  },
  {
   "cell_type": "code",
   "execution_count": 23,
   "id": "e83be245-fd38-4156-abee-5a3f28ba9c53",
   "metadata": {},
   "outputs": [
    {
     "data": {
      "text/plain": [
       "name         0\n",
       "regions      0\n",
       "start_dt     0\n",
       "finish_dt    0\n",
       "dtype: int64"
      ]
     },
     "execution_count": 23,
     "metadata": {},
     "output_type": "execute_result"
    }
   ],
   "source": [
    "project_marketing_events.isna().sum()"
   ]
  },
  {
   "cell_type": "code",
   "execution_count": 24,
   "id": "e1ff3879-75eb-4ae2-917b-341ef6676153",
   "metadata": {},
   "outputs": [
    {
     "data": {
      "text/plain": [
       "0"
      ]
     },
     "execution_count": 24,
     "metadata": {},
     "output_type": "execute_result"
    }
   ],
   "source": [
    "project_marketing_events.duplicated().sum()"
   ]
  },
  {
   "cell_type": "markdown",
   "id": "fb0b770c-a699-4398-bc54-906e94a482d7",
   "metadata": {},
   "source": [
    "**new_users**"
   ]
  },
  {
   "cell_type": "code",
   "execution_count": 25,
   "id": "0f5ff44f-8735-4bb6-82ed-a027fcf4afe1",
   "metadata": {},
   "outputs": [
    {
     "data": {
      "text/html": [
       "<div>\n",
       "<style scoped>\n",
       "    .dataframe tbody tr th:only-of-type {\n",
       "        vertical-align: middle;\n",
       "    }\n",
       "\n",
       "    .dataframe tbody tr th {\n",
       "        vertical-align: top;\n",
       "    }\n",
       "\n",
       "    .dataframe thead th {\n",
       "        text-align: right;\n",
       "    }\n",
       "</style>\n",
       "<table border=\"1\" class=\"dataframe\">\n",
       "  <thead>\n",
       "    <tr style=\"text-align: right;\">\n",
       "      <th></th>\n",
       "      <th>user_id</th>\n",
       "      <th>first_date</th>\n",
       "      <th>region</th>\n",
       "      <th>device</th>\n",
       "    </tr>\n",
       "  </thead>\n",
       "  <tbody>\n",
       "    <tr>\n",
       "      <th>0</th>\n",
       "      <td>D72A72121175D8BE</td>\n",
       "      <td>2020-12-07</td>\n",
       "      <td>EU</td>\n",
       "      <td>PC</td>\n",
       "    </tr>\n",
       "    <tr>\n",
       "      <th>1</th>\n",
       "      <td>F1C668619DFE6E65</td>\n",
       "      <td>2020-12-07</td>\n",
       "      <td>N.America</td>\n",
       "      <td>Android</td>\n",
       "    </tr>\n",
       "    <tr>\n",
       "      <th>2</th>\n",
       "      <td>2E1BF1D4C37EA01F</td>\n",
       "      <td>2020-12-07</td>\n",
       "      <td>EU</td>\n",
       "      <td>PC</td>\n",
       "    </tr>\n",
       "    <tr>\n",
       "      <th>3</th>\n",
       "      <td>50734A22C0C63768</td>\n",
       "      <td>2020-12-07</td>\n",
       "      <td>EU</td>\n",
       "      <td>iPhone</td>\n",
       "    </tr>\n",
       "    <tr>\n",
       "      <th>4</th>\n",
       "      <td>E1BDDCE0DAFA2679</td>\n",
       "      <td>2020-12-07</td>\n",
       "      <td>N.America</td>\n",
       "      <td>iPhone</td>\n",
       "    </tr>\n",
       "  </tbody>\n",
       "</table>\n",
       "</div>"
      ],
      "text/plain": [
       "            user_id  first_date     region   device\n",
       "0  D72A72121175D8BE  2020-12-07         EU       PC\n",
       "1  F1C668619DFE6E65  2020-12-07  N.America  Android\n",
       "2  2E1BF1D4C37EA01F  2020-12-07         EU       PC\n",
       "3  50734A22C0C63768  2020-12-07         EU   iPhone\n",
       "4  E1BDDCE0DAFA2679  2020-12-07  N.America   iPhone"
      ]
     },
     "execution_count": 25,
     "metadata": {},
     "output_type": "execute_result"
    }
   ],
   "source": [
    "new_users.head()"
   ]
  },
  {
   "cell_type": "code",
   "execution_count": 26,
   "id": "1b22c2ac-b7d3-424f-883c-6e98c69924e2",
   "metadata": {},
   "outputs": [
    {
     "name": "stdout",
     "output_type": "stream",
     "text": [
      "<class 'pandas.core.frame.DataFrame'>\n",
      "RangeIndex: 58703 entries, 0 to 58702\n",
      "Data columns (total 4 columns):\n",
      " #   Column      Non-Null Count  Dtype \n",
      "---  ------      --------------  ----- \n",
      " 0   user_id     58703 non-null  object\n",
      " 1   first_date  58703 non-null  object\n",
      " 2   region      58703 non-null  object\n",
      " 3   device      58703 non-null  object\n",
      "dtypes: object(4)\n",
      "memory usage: 1.8+ MB\n"
     ]
    }
   ],
   "source": [
    "new_users.info()"
   ]
  },
  {
   "cell_type": "code",
   "execution_count": 27,
   "id": "9c93fa68-dc8d-4c69-a90b-1bdde518edac",
   "metadata": {},
   "outputs": [],
   "source": [
    "new_users['first_date'] = pd.to_datetime(new_users['first_date'], format = '%Y-%m-%d')"
   ]
  },
  {
   "cell_type": "code",
   "execution_count": 28,
   "id": "b139deba-b1be-4f5b-9c0b-a585e0bdbfbd",
   "metadata": {},
   "outputs": [
    {
     "name": "stdout",
     "output_type": "stream",
     "text": [
      "<class 'pandas.core.frame.DataFrame'>\n",
      "RangeIndex: 58703 entries, 0 to 58702\n",
      "Data columns (total 4 columns):\n",
      " #   Column      Non-Null Count  Dtype         \n",
      "---  ------      --------------  -----         \n",
      " 0   user_id     58703 non-null  object        \n",
      " 1   first_date  58703 non-null  datetime64[ns]\n",
      " 2   region      58703 non-null  object        \n",
      " 3   device      58703 non-null  object        \n",
      "dtypes: datetime64[ns](1), object(3)\n",
      "memory usage: 1.8+ MB\n"
     ]
    }
   ],
   "source": [
    "new_users.info()"
   ]
  },
  {
   "cell_type": "code",
   "execution_count": 29,
   "id": "8ba39879-8009-4dd5-8ea4-287495f0151f",
   "metadata": {},
   "outputs": [
    {
     "data": {
      "text/plain": [
       "user_id       0\n",
       "first_date    0\n",
       "region        0\n",
       "device        0\n",
       "dtype: int64"
      ]
     },
     "execution_count": 29,
     "metadata": {},
     "output_type": "execute_result"
    }
   ],
   "source": [
    "new_users.isna().sum()"
   ]
  },
  {
   "cell_type": "code",
   "execution_count": 30,
   "id": "632bea7b-369b-4c44-826d-249b6aa13a51",
   "metadata": {},
   "outputs": [
    {
     "data": {
      "text/plain": [
       "0"
      ]
     },
     "execution_count": 30,
     "metadata": {},
     "output_type": "execute_result"
    }
   ],
   "source": [
    "new_users.duplicated().sum()"
   ]
  },
  {
   "cell_type": "markdown",
   "id": "d5647004-6e0e-49c7-b45d-251aee6b3db3",
   "metadata": {},
   "source": [
    "**events**"
   ]
  },
  {
   "cell_type": "code",
   "execution_count": 31,
   "id": "fa8ff9e0-a5d1-49d3-9fc9-ecd208ecceab",
   "metadata": {},
   "outputs": [
    {
     "data": {
      "text/html": [
       "<div>\n",
       "<style scoped>\n",
       "    .dataframe tbody tr th:only-of-type {\n",
       "        vertical-align: middle;\n",
       "    }\n",
       "\n",
       "    .dataframe tbody tr th {\n",
       "        vertical-align: top;\n",
       "    }\n",
       "\n",
       "    .dataframe thead th {\n",
       "        text-align: right;\n",
       "    }\n",
       "</style>\n",
       "<table border=\"1\" class=\"dataframe\">\n",
       "  <thead>\n",
       "    <tr style=\"text-align: right;\">\n",
       "      <th></th>\n",
       "      <th>user_id</th>\n",
       "      <th>event_dt</th>\n",
       "      <th>event_name</th>\n",
       "      <th>details</th>\n",
       "    </tr>\n",
       "  </thead>\n",
       "  <tbody>\n",
       "    <tr>\n",
       "      <th>0</th>\n",
       "      <td>E1BDDCE0DAFA2679</td>\n",
       "      <td>2020-12-07 20:22:03</td>\n",
       "      <td>purchase</td>\n",
       "      <td>99.99</td>\n",
       "    </tr>\n",
       "    <tr>\n",
       "      <th>1</th>\n",
       "      <td>7B6452F081F49504</td>\n",
       "      <td>2020-12-07 09:22:53</td>\n",
       "      <td>purchase</td>\n",
       "      <td>9.99</td>\n",
       "    </tr>\n",
       "    <tr>\n",
       "      <th>2</th>\n",
       "      <td>9CD9F34546DF254C</td>\n",
       "      <td>2020-12-07 12:59:29</td>\n",
       "      <td>purchase</td>\n",
       "      <td>4.99</td>\n",
       "    </tr>\n",
       "    <tr>\n",
       "      <th>3</th>\n",
       "      <td>96F27A054B191457</td>\n",
       "      <td>2020-12-07 04:02:40</td>\n",
       "      <td>purchase</td>\n",
       "      <td>4.99</td>\n",
       "    </tr>\n",
       "    <tr>\n",
       "      <th>4</th>\n",
       "      <td>1FD7660FDF94CA1F</td>\n",
       "      <td>2020-12-07 10:15:09</td>\n",
       "      <td>purchase</td>\n",
       "      <td>4.99</td>\n",
       "    </tr>\n",
       "  </tbody>\n",
       "</table>\n",
       "</div>"
      ],
      "text/plain": [
       "            user_id             event_dt event_name  details\n",
       "0  E1BDDCE0DAFA2679  2020-12-07 20:22:03   purchase    99.99\n",
       "1  7B6452F081F49504  2020-12-07 09:22:53   purchase     9.99\n",
       "2  9CD9F34546DF254C  2020-12-07 12:59:29   purchase     4.99\n",
       "3  96F27A054B191457  2020-12-07 04:02:40   purchase     4.99\n",
       "4  1FD7660FDF94CA1F  2020-12-07 10:15:09   purchase     4.99"
      ]
     },
     "execution_count": 31,
     "metadata": {},
     "output_type": "execute_result"
    }
   ],
   "source": [
    "events.head()"
   ]
  },
  {
   "cell_type": "code",
   "execution_count": 32,
   "id": "7999d169-5200-4335-834a-19988a4aac39",
   "metadata": {},
   "outputs": [
    {
     "name": "stdout",
     "output_type": "stream",
     "text": [
      "<class 'pandas.core.frame.DataFrame'>\n",
      "RangeIndex: 423761 entries, 0 to 423760\n",
      "Data columns (total 4 columns):\n",
      " #   Column      Non-Null Count   Dtype  \n",
      "---  ------      --------------   -----  \n",
      " 0   user_id     423761 non-null  object \n",
      " 1   event_dt    423761 non-null  object \n",
      " 2   event_name  423761 non-null  object \n",
      " 3   details     60314 non-null   float64\n",
      "dtypes: float64(1), object(3)\n",
      "memory usage: 12.9+ MB\n"
     ]
    }
   ],
   "source": [
    "events.info()"
   ]
  },
  {
   "cell_type": "code",
   "execution_count": 33,
   "id": "32cba44f-c37d-4656-93ca-8fd05e731930",
   "metadata": {},
   "outputs": [],
   "source": [
    "events['event_dt'] = pd.to_datetime(events['event_dt'])"
   ]
  },
  {
   "cell_type": "code",
   "execution_count": 34,
   "id": "bd7c168a-641c-4c48-a3d2-d1bb61ac9a25",
   "metadata": {},
   "outputs": [
    {
     "name": "stdout",
     "output_type": "stream",
     "text": [
      "<class 'pandas.core.frame.DataFrame'>\n",
      "RangeIndex: 423761 entries, 0 to 423760\n",
      "Data columns (total 4 columns):\n",
      " #   Column      Non-Null Count   Dtype         \n",
      "---  ------      --------------   -----         \n",
      " 0   user_id     423761 non-null  object        \n",
      " 1   event_dt    423761 non-null  datetime64[ns]\n",
      " 2   event_name  423761 non-null  object        \n",
      " 3   details     60314 non-null   float64       \n",
      "dtypes: datetime64[ns](1), float64(1), object(2)\n",
      "memory usage: 12.9+ MB\n"
     ]
    }
   ],
   "source": [
    "events.info()"
   ]
  },
  {
   "cell_type": "code",
   "execution_count": 35,
   "id": "9360fd86-57c8-4827-b37f-81b4e815a530",
   "metadata": {},
   "outputs": [
    {
     "data": {
      "text/plain": [
       "user_id            0\n",
       "event_dt           0\n",
       "event_name         0\n",
       "details       363447\n",
       "dtype: int64"
      ]
     },
     "execution_count": 35,
     "metadata": {},
     "output_type": "execute_result"
    }
   ],
   "source": [
    "events.isna().sum()"
   ]
  },
  {
   "cell_type": "markdown",
   "id": "98dc5d5d-e1fc-466d-a504-ab510867a768",
   "metadata": {},
   "source": [
    "-Análisis de los datos nulos en details"
   ]
  },
  {
   "cell_type": "code",
   "execution_count": 36,
   "id": "6762c254-504a-4cfc-9709-d8cc75099ba6",
   "metadata": {},
   "outputs": [
    {
     "name": "stdout",
     "output_type": "stream",
     "text": [
      "event_name\n",
      "login           182465\n",
      "product_page    120862\n",
      "product_cart     60120\n",
      "Name: count, dtype: int64\n"
     ]
    }
   ],
   "source": [
    "print(events[events['details'].isnull()]['event_name'].value_counts())"
   ]
  },
  {
   "cell_type": "code",
   "execution_count": 37,
   "id": "537da9fc-4494-4dbb-947c-9598296d9bc2",
   "metadata": {},
   "outputs": [],
   "source": [
    "events['details'] = events['details'].fillna('Not Applicable')"
   ]
  },
  {
   "cell_type": "code",
   "execution_count": 38,
   "id": "59978a69-3ca6-4ace-9cb0-b255d022abe0",
   "metadata": {},
   "outputs": [
    {
     "data": {
      "text/plain": [
       "user_id       0\n",
       "event_dt      0\n",
       "event_name    0\n",
       "details       0\n",
       "dtype: int64"
      ]
     },
     "execution_count": 38,
     "metadata": {},
     "output_type": "execute_result"
    }
   ],
   "source": [
    "events.isna().sum()"
   ]
  },
  {
   "cell_type": "markdown",
   "id": "079565f7-221a-443c-85dc-1cf3519a3036",
   "metadata": {},
   "source": [
    "**Observaciones**\n",
    "\n",
    "-Columna login: 182,465 nulos. Es razonable que este evento tenga valores nulos en details. No parece que este evento requiera información adicional específica en esa columna.                                                                                                                          \n",
    "-Columna product_page: 120,862 nulos. Los usuarios visitan páginas de productos, pero la columna details probablemente no sea necesaria aquí. Es poco probable que esta métrica dependa de datos adicionales.                                                                                               \n",
    "-Columna product_cart: 60,120 nulos. Aunque este evento podría beneficiarse de información adicional, como el ID del producto o detalles del carrito, parece que esta información no está disponible en este conjunto de datos.                                                                             \n",
    "En los tres casos se rellenó con un marcador claro como \"Not Applicable\" para indicar que no hay datos relevantes para este evento."
   ]
  },
  {
   "cell_type": "markdown",
   "id": "d1870fce-85ae-4a67-95b8-2d94a03db37f",
   "metadata": {},
   "source": [
    "events.duplicated().sum()"
   ]
  },
  {
   "cell_type": "markdown",
   "id": "18cdcd6c-56c4-4021-b34d-fa9987105b5c",
   "metadata": {},
   "source": [
    "**participants**"
   ]
  },
  {
   "cell_type": "code",
   "execution_count": 39,
   "id": "1776dfe7-1698-4cc5-b2d4-5e29520780e8",
   "metadata": {},
   "outputs": [
    {
     "data": {
      "text/html": [
       "<div>\n",
       "<style scoped>\n",
       "    .dataframe tbody tr th:only-of-type {\n",
       "        vertical-align: middle;\n",
       "    }\n",
       "\n",
       "    .dataframe tbody tr th {\n",
       "        vertical-align: top;\n",
       "    }\n",
       "\n",
       "    .dataframe thead th {\n",
       "        text-align: right;\n",
       "    }\n",
       "</style>\n",
       "<table border=\"1\" class=\"dataframe\">\n",
       "  <thead>\n",
       "    <tr style=\"text-align: right;\">\n",
       "      <th></th>\n",
       "      <th>user_id</th>\n",
       "      <th>group</th>\n",
       "      <th>ab_test</th>\n",
       "    </tr>\n",
       "  </thead>\n",
       "  <tbody>\n",
       "    <tr>\n",
       "      <th>0</th>\n",
       "      <td>D1ABA3E2887B6A73</td>\n",
       "      <td>A</td>\n",
       "      <td>recommender_system_test</td>\n",
       "    </tr>\n",
       "    <tr>\n",
       "      <th>1</th>\n",
       "      <td>A7A3664BD6242119</td>\n",
       "      <td>A</td>\n",
       "      <td>recommender_system_test</td>\n",
       "    </tr>\n",
       "    <tr>\n",
       "      <th>2</th>\n",
       "      <td>DABC14FDDFADD29E</td>\n",
       "      <td>A</td>\n",
       "      <td>recommender_system_test</td>\n",
       "    </tr>\n",
       "    <tr>\n",
       "      <th>3</th>\n",
       "      <td>04988C5DF189632E</td>\n",
       "      <td>A</td>\n",
       "      <td>recommender_system_test</td>\n",
       "    </tr>\n",
       "    <tr>\n",
       "      <th>4</th>\n",
       "      <td>4FF2998A348C484F</td>\n",
       "      <td>A</td>\n",
       "      <td>recommender_system_test</td>\n",
       "    </tr>\n",
       "  </tbody>\n",
       "</table>\n",
       "</div>"
      ],
      "text/plain": [
       "            user_id group                  ab_test\n",
       "0  D1ABA3E2887B6A73     A  recommender_system_test\n",
       "1  A7A3664BD6242119     A  recommender_system_test\n",
       "2  DABC14FDDFADD29E     A  recommender_system_test\n",
       "3  04988C5DF189632E     A  recommender_system_test\n",
       "4  4FF2998A348C484F     A  recommender_system_test"
      ]
     },
     "execution_count": 39,
     "metadata": {},
     "output_type": "execute_result"
    }
   ],
   "source": [
    "participants.head()"
   ]
  },
  {
   "cell_type": "code",
   "execution_count": 40,
   "id": "66c193c4-a513-48ef-813a-56630ca2c138",
   "metadata": {},
   "outputs": [
    {
     "name": "stdout",
     "output_type": "stream",
     "text": [
      "<class 'pandas.core.frame.DataFrame'>\n",
      "RangeIndex: 14525 entries, 0 to 14524\n",
      "Data columns (total 3 columns):\n",
      " #   Column   Non-Null Count  Dtype \n",
      "---  ------   --------------  ----- \n",
      " 0   user_id  14525 non-null  object\n",
      " 1   group    14525 non-null  object\n",
      " 2   ab_test  14525 non-null  object\n",
      "dtypes: object(3)\n",
      "memory usage: 340.6+ KB\n"
     ]
    }
   ],
   "source": [
    "participants.info()"
   ]
  },
  {
   "cell_type": "code",
   "execution_count": 41,
   "id": "5a1bebc0-60d2-4134-95fe-6a167797399c",
   "metadata": {},
   "outputs": [
    {
     "data": {
      "text/plain": [
       "user_id    0\n",
       "group      0\n",
       "ab_test    0\n",
       "dtype: int64"
      ]
     },
     "execution_count": 41,
     "metadata": {},
     "output_type": "execute_result"
    }
   ],
   "source": [
    "participants.isna().sum()"
   ]
  },
  {
   "cell_type": "code",
   "execution_count": 42,
   "id": "f69edfaa-ce42-42c1-a6e2-e5956e8894ba",
   "metadata": {},
   "outputs": [
    {
     "data": {
      "text/plain": [
       "0"
      ]
     },
     "execution_count": 42,
     "metadata": {},
     "output_type": "execute_result"
    }
   ],
   "source": [
    "participants.duplicated().sum()"
   ]
  },
  {
   "cell_type": "markdown",
   "id": "329aca92-6370-4883-8bbc-0dd749c4285a",
   "metadata": {},
   "source": [
    "-Verificar usuarios que podrían haber entrado tanto en el grupo A como en el grupo B.Si un usuario participa tanto en el grupo de control (A) como en el grupo de prueba (B), sus resultados pueden no ser independientes. Esto puede sesgar las métricas de conversión, ya que el comportamiento de un usuario podría verse afectado por su exposición a ambas versiones."
   ]
  },
  {
   "cell_type": "code",
   "execution_count": 43,
   "id": "1233bf2b-0bb9-418f-9abc-09944d7113d9",
   "metadata": {},
   "outputs": [
    {
     "data": {
      "text/plain": [
       "user_id\n",
       "B06B45B7C3E5E721    2\n",
       "E594B711ADD81DD8    2\n",
       "A8C25A605F613665    2\n",
       "3A6D88AB973BD99D    2\n",
       "0ADFFFE9C0D60092    2\n",
       "                   ..\n",
       "570D3B2EFF6747A2    1\n",
       "5710EDF8BA684005    1\n",
       "57150D3838DE301A    1\n",
       "571B20781EF5D222    1\n",
       "FFF58BC33966EB51    1\n",
       "Name: group, Length: 13638, dtype: int64"
      ]
     },
     "execution_count": 43,
     "metadata": {},
     "output_type": "execute_result"
    }
   ],
   "source": [
    "participants.groupby(['user_id'])['group'].nunique().sort_values(ascending=False)"
   ]
  },
  {
   "cell_type": "code",
   "execution_count": 44,
   "id": "f27fb1ce-436b-4079-88d7-7cd121a1577f",
   "metadata": {},
   "outputs": [],
   "source": [
    "usuarios_ambos_grupos = participants.groupby(['user_id'])['group'].nunique().sort_values(ascending=False).reset_index().query('group>1')"
   ]
  },
  {
   "cell_type": "code",
   "execution_count": 45,
   "id": "08e2bce4-4587-4a67-8d7e-46f7c250a67b",
   "metadata": {},
   "outputs": [
    {
     "data": {
      "text/plain": [
       "0      B06B45B7C3E5E721\n",
       "1      E594B711ADD81DD8\n",
       "2      A8C25A605F613665\n",
       "3      3A6D88AB973BD99D\n",
       "4      0ADFFFE9C0D60092\n",
       "             ...       \n",
       "436    BAAEE6D68FB90D22\n",
       "437    4409E20FCD07CD14\n",
       "438    C1E43A9B1D675927\n",
       "439    D9C92EC5F9478381\n",
       "440    83E9CFC64D61108E\n",
       "Name: user_id, Length: 441, dtype: object"
      ]
     },
     "execution_count": 45,
     "metadata": {},
     "output_type": "execute_result"
    }
   ],
   "source": [
    "usuarios_ambos_grupos['user_id']"
   ]
  },
  {
   "cell_type": "code",
   "execution_count": 46,
   "id": "b43d5a2d-d5db-469d-8758-19163a22b680",
   "metadata": {},
   "outputs": [],
   "source": [
    "participants_limpio = participants[~participants['user_id'].isin(usuarios_ambos_grupos['user_id'])]"
   ]
  },
  {
   "cell_type": "code",
   "execution_count": 47,
   "id": "dcfb220d-59e1-4a4c-8822-e526a55cb5c6",
   "metadata": {},
   "outputs": [
    {
     "data": {
      "text/plain": [
       "13197"
      ]
     },
     "execution_count": 47,
     "metadata": {},
     "output_type": "execute_result"
    }
   ],
   "source": [
    "participants_limpio['user_id'].nunique()"
   ]
  },
  {
   "cell_type": "code",
   "execution_count": 48,
   "id": "f346d4ed-e3d4-4a90-844e-c5abba190f1e",
   "metadata": {},
   "outputs": [],
   "source": [
    "participants = participants_limpio"
   ]
  },
  {
   "cell_type": "markdown",
   "id": "8943e66b-a99f-4a8d-85cd-5327990f7bed",
   "metadata": {},
   "source": [
    "# Análisis Exploratorio de Datos (EDA)"
   ]
  },
  {
   "cell_type": "markdown",
   "id": "9885086d-b017-4908-bbd7-64b2967cd7ba",
   "metadata": {},
   "source": [
    "-Evaluar la distribución de eventos en el tiempo y por usuario"
   ]
  },
  {
   "cell_type": "code",
   "execution_count": 49,
   "id": "1ec9b5e3-a95a-432d-b151-066420e54649",
   "metadata": {},
   "outputs": [],
   "source": [
    "events_with_group = events.merge(participants[['user_id', 'group']], on='user_id', how='left')"
   ]
  },
  {
   "cell_type": "code",
   "execution_count": 50,
   "id": "2f26b3d2-a57d-437b-846e-af4c4028b23f",
   "metadata": {},
   "outputs": [
    {
     "name": "stdout",
     "output_type": "stream",
     "text": [
      "            user_id            event_dt event_name details group\n",
      "0  E1BDDCE0DAFA2679 2020-12-07 20:22:03   purchase   99.99   NaN\n",
      "1  7B6452F081F49504 2020-12-07 09:22:53   purchase    9.99   NaN\n",
      "2  9CD9F34546DF254C 2020-12-07 12:59:29   purchase    4.99   NaN\n",
      "3  96F27A054B191457 2020-12-07 04:02:40   purchase    4.99     B\n",
      "4  1FD7660FDF94CA1F 2020-12-07 10:15:09   purchase    4.99   NaN\n"
     ]
    }
   ],
   "source": [
    "print(events_with_group.head())"
   ]
  },
  {
   "cell_type": "markdown",
   "id": "3ac1d572-3063-4738-89d6-ec78870fce94",
   "metadata": {},
   "source": [
    "-Eventos diarios por grupo"
   ]
  },
  {
   "cell_type": "code",
   "execution_count": 51,
   "id": "9e9129cc-b4ef-4e0c-bea2-a9a623d9431a",
   "metadata": {},
   "outputs": [],
   "source": [
    "events_with_group['event_date'] = events_with_group['event_dt'].dt.date"
   ]
  },
  {
   "cell_type": "code",
   "execution_count": 52,
   "id": "38faf939-88d4-4983-a4a8-21ebb9484838",
   "metadata": {},
   "outputs": [],
   "source": [
    "daily_events = events_with_group.groupby(['event_date', 'group']).size().reset_index(name='event_count')"
   ]
  },
  {
   "cell_type": "code",
   "execution_count": 53,
   "id": "a893ac65-c69a-4a83-9187-905df0d892fa",
   "metadata": {},
   "outputs": [
    {
     "data": {
      "image/png": "[encoded data removed]",
      "text/plain": [
       "<Figure size 1200x600 with 1 Axes>"
      ]
     },
     "metadata": {},
     "output_type": "display_data"
    }
   ],
   "source": [
    "plt.figure(figsize=(12, 6))\n",
    "for group in ['A', 'B']:\n",
    "    subset = daily_events[daily_events['group'] == group]\n",
    "    plt.plot(subset['event_date'], subset['event_count'], label=f'Grupo {group}')\n",
    "\n",
    "plt.xlabel('Fecha')\n",
    "plt.ylabel('Número de eventos')\n",
    "plt.title('Distribución de eventos en el tiempo por grupo')\n",
    "plt.legend()\n",
    "plt.xticks(rotation=45)\n",
    "plt.show()"
   ]
  },
  {
   "cell_type": "markdown",
   "id": "76a8509c-169d-4548-8a96-63b32b099cf4",
   "metadata": {},
   "source": [
    "Observaciones                                                                                                                                          \n",
    "Grupo A: Presenta un crecimiento constante hasta alcanzar un pico alrededor del 2020-12-21, luego comienza a disminuir.Grupo B: También muestra un crecimiento inicial, pero su pico es menos pronunciado y ocurre unos días antes que en el Grupo A. Posteriormente, su descenso es más rápido.           Los eventos no están distribuidos uniformemente entre los grupos. Hay momentos en los que un grupo tiene significativamente más eventos que el otro, especialmente en los picos.La diferencia entre los grupos se acentúa a medida que se acerca el pico máximo. El pico alrededor del 2020-12-21 representa un evento o factor externo de gran relevancia para ambos grupos, y su estudio podría proporcionar insights valiosos sobre la naturaleza de estos eventos.Después de los picos, ambos grupos experimentan una disminución marcada en el número de eventos, lo que podría indicar una saturación o cambio en las condiciones que generaban los eventos."
   ]
  },
  {
   "cell_type": "markdown",
   "id": "492434e3-c65c-40e9-bcb2-ca6aec92294b",
   "metadata": {},
   "source": [
    "-Eventos de cada tipo que ocurrieron en cada grupo"
   ]
  },
  {
   "cell_type": "code",
   "execution_count": 54,
   "id": "f95b7291-ae30-4cfc-966c-969c8ade5ce9",
   "metadata": {},
   "outputs": [],
   "source": [
    "event_distribution = events_with_group.groupby(['event_name', 'group']).size().reset_index(name='event_count')"
   ]
  },
  {
   "cell_type": "code",
   "execution_count": 55,
   "id": "b1f29e8e-5c41-4dc9-9ea3-dabd7e69bf9c",
   "metadata": {},
   "outputs": [
    {
     "data": {
      "image/png": "[encoded data removed]",
      "text/plain": [
       "<Figure size 1000x600 with 1 Axes>"
      ]
     },
     "metadata": {},
     "output_type": "display_data"
    }
   ],
   "source": [
    "plt.figure(figsize=(10, 6))\n",
    "for group in ['A', 'B']:\n",
    "    subset = event_distribution[event_distribution['group'] == group]\n",
    "    plt.bar(subset['event_name'], subset['event_count'], alpha=0.7, label=f'Grupo {group}')\n",
    "\n",
    "plt.xlabel('Tipo de evento')\n",
    "plt.ylabel('Número de eventos')\n",
    "plt.title('Distribución de eventos por tipo y grupo')\n",
    "plt.legend()\n",
    "plt.xticks(rotation=45)\n",
    "plt.show()"
   ]
  },
  {
   "cell_type": "markdown",
   "id": "c8ee9c0e-e699-4eb7-a5d3-87d175e84557",
   "metadata": {},
   "source": [
    "Observaciones\n",
    "\n",
    "Si bien ambos grupos presentan una distribución similar en los tipos de eventos (login, product_cart, product_page y purchase), la proporción de cada tipo de evento varía entre ellos. Ambos grupos muestran un patrón similar: el evento \"login\" es el más frecuente, seguido de \"product_page\", \"product_cart\" y finalmente \"purchase\". Esto sugiere un flujo de usuario común en ambos grupos, donde los usuarios inician sesión, navegan por productos y algunos eventualmente realizan una compra. Ambos grupos muestran un comportamiento similar en términos de los tipos de eventos y su orden de frecuencia. A pesar de las similitudes, existen diferencias en las proporciones de cada tipo de evento entre los grupos. Esto podría indicar variaciones en el engagement de los usuarios, la eficacia de las estrategias de marketing o incluso diferencias en las características demográficas de cada grupo."
   ]
  },
  {
   "cell_type": "markdown",
   "id": "6d2e526f-12e1-4214-862e-b4462420764d",
   "metadata": {},
   "source": [
    "-Eventos por usuario"
   ]
  },
  {
   "cell_type": "code",
   "execution_count": 56,
   "id": "6576f0e4-47ac-4823-ae01-8cd5c96929e9",
   "metadata": {},
   "outputs": [],
   "source": [
    "events_per_user = events_with_group.groupby(['user_id', 'group']).size().reset_index(name='event_count')"
   ]
  },
  {
   "cell_type": "code",
   "execution_count": 57,
   "id": "4b0d8910-6b38-49da-8caf-e8dd31720076",
   "metadata": {},
   "outputs": [
    {
     "data": {
      "image/png": "[encoded data removed]",
      "text/plain": [
       "<Figure size 1200x600 with 1 Axes>"
      ]
     },
     "metadata": {},
     "output_type": "display_data"
    }
   ],
   "source": [
    "plt.figure(figsize=(12, 6))\n",
    "for group in ['A', 'B']:\n",
    "    subset = events_per_user[events_per_user['group'] == group]\n",
    "    plt.hist(subset['event_count'], bins=50, alpha=0.6, label=f'Grupo {group}')\n",
    "\n",
    "plt.xlabel('Número de eventos por usuario')\n",
    "plt.ylabel('Número de usuarios')\n",
    "plt.title('Distribución del número de eventos por usuario')\n",
    "plt.legend()\n",
    "plt.show()"
   ]
  },
  {
   "cell_type": "markdown",
   "id": "9b14308c-29f2-4f9f-86dd-01a6ea6b5229",
   "metadata": {},
   "source": [
    "Observaciones\n",
    "\n",
    "La cantidad de eventos por usuario no está perfectamente equilibrada entre los grupos A y B. Si bien ambos grupos presentan una distribución similar, con una mayor concentración de usuarios que realizan una cantidad moderada de eventos, existen algunas diferencias notables:\n",
    "Pico en el Grupo A: El Grupo A muestra un pico más pronunciado en la cantidad de usuarios que realizan entre 5 y 10 eventos. Esto sugiere que una proporción ligeramente mayor de usuarios en el Grupo A se encuentra en este rango. Por otro lado, el Grupo B presenta una cola más larga hacia la derecha, lo que indica que hay una mayor proporción de usuarios en este grupo que realizan una cantidad significativamente mayor de eventos. La presencia de usuarios extremos, es decir, aquellos que realizan una cantidad muy alta de eventos, podría efectivamente introducir ruido en el análisis."
   ]
  },
  {
   "cell_type": "markdown",
   "id": "1e0ea647-4f7d-4824-a228-a752a482b0f8",
   "metadata": {},
   "source": [
    "# Análisis de resultados de la prueba A/B"
   ]
  },
  {
   "cell_type": "markdown",
   "id": "925bf92e-6cc4-4db6-a9fa-7bd5c3521e8c",
   "metadata": {},
   "source": [
    "-Analizar la conversión en las etapas del embudo para los grupos A y B"
   ]
  },
  {
   "cell_type": "markdown",
   "id": "35b7ed33-ab9a-4520-b0cb-8e6c26c72bc6",
   "metadata": {},
   "source": [
    "*Obtener el conjunto de usuarios únicos por etapa y grupo"
   ]
  },
  {
   "cell_type": "code",
   "execution_count": 58,
   "id": "268096fa-4f3c-4bfb-8bfc-1076750a29b6",
   "metadata": {},
   "outputs": [],
   "source": [
    "product_page_users = events_with_group[events_with_group['event_name'] == 'product_page'].groupby('group')['user_id'].nunique()\n",
    "product_cart_users = events_with_group[events_with_group['event_name'] == 'product_cart'].groupby('group')['user_id'].nunique()\n",
    "purchase_users = events_with_group[events_with_group['event_name'] == 'purchase'].groupby('group')['user_id'].nunique()"
   ]
  },
  {
   "cell_type": "code",
   "execution_count": 59,
   "id": "a0e0b2e6-2f81-4923-88b5-486c88298f2b",
   "metadata": {},
   "outputs": [],
   "source": [
    "funnel = pd.DataFrame({\n",
    "    'product_page': product_page_users,\n",
    "    'product_cart': product_cart_users,\n",
    "    'purchase': purchase_users\n",
    "})"
   ]
  },
  {
   "cell_type": "code",
   "execution_count": 60,
   "id": "bea51e6e-122a-45bc-ba99-004320b8d013",
   "metadata": {},
   "outputs": [],
   "source": [
    "funnel['cart_conversion'] = funnel['product_cart'] / funnel['product_page']\n",
    "funnel['purchase_conversion'] = funnel['purchase'] / funnel['product_cart']"
   ]
  },
  {
   "cell_type": "code",
   "execution_count": 61,
   "id": "4185e6a4-ccba-4f93-a39d-ddade602da6a",
   "metadata": {},
   "outputs": [
    {
     "name": "stdout",
     "output_type": "stream",
     "text": [
      "       product_page  product_cart  purchase  cart_conversion  \\\n",
      "group                                                          \n",
      "A              4937          2357      2555         0.477415   \n",
      "B              3715          1911      1881         0.514401   \n",
      "\n",
      "       purchase_conversion  \n",
      "group                       \n",
      "A                 1.084005  \n",
      "B                 0.984301  \n"
     ]
    }
   ],
   "source": [
    "print(funnel)"
   ]
  },
  {
   "cell_type": "markdown",
   "id": "1eed7573-cbbb-42d5-9f94-0ab21df6042d",
   "metadata": {},
   "source": [
    "-Visualización del embudo de conversión"
   ]
  },
  {
   "cell_type": "code",
   "execution_count": 62,
   "id": "8b860e6a-d1bf-4a12-a8b5-285423a6408e",
   "metadata": {},
   "outputs": [],
   "source": [
    "labels = ['Product Page', 'Product Cart', 'Purchase']\n",
    "x = np.arange(len(labels))"
   ]
  },
  {
   "cell_type": "code",
   "execution_count": 63,
   "id": "afad7f00-7696-4eae-bf66-a92f22862858",
   "metadata": {},
   "outputs": [
    {
     "data": {
      "image/png": "[encoded data removed]",
      "text/plain": [
       "<Figure size 1000x600 with 1 Axes>"
      ]
     },
     "metadata": {},
     "output_type": "display_data"
    }
   ],
   "source": [
    "fig, ax = plt.subplots(figsize=(10, 6))\n",
    "bar_width = 0.35\n",
    "ax.bar(x - bar_width/2, funnel.loc['A', ['product_page', 'product_cart', 'purchase']], width=bar_width, label='Grupo A')\n",
    "ax.bar(x + bar_width/2, funnel.loc['B', ['product_page', 'product_cart', 'purchase']], width=bar_width, label='Grupo B')\n",
    "ax.set_xticks(x)\n",
    "ax.set_xticklabels(labels)\n",
    "ax.set_ylabel('Número de usuarios únicos')\n",
    "ax.set_title('Conversión en las etapas del embudo por grupo')\n",
    "ax.legend()\n",
    "\n",
    "plt.show()"
   ]
  },
  {
   "cell_type": "markdown",
   "id": "7096fe20-fc4f-40d4-94a6-7d898c1cd23b",
   "metadata": {},
   "source": [
    "-Comparación de tasas de conversión"
   ]
  },
  {
   "cell_type": "code",
   "execution_count": 64,
   "id": "41ce1701-909d-488b-ac89-9af3ccbe3b31",
   "metadata": {},
   "outputs": [
    {
     "data": {
      "image/png": "[encoded data removed]",
      "text/plain": [
       "<Figure size 1000x600 with 1 Axes>"
      ]
     },
     "metadata": {},
     "output_type": "display_data"
    }
   ],
   "source": [
    "plt.figure(figsize=(10, 6))\n",
    "x_labels = ['Product Page → Product Cart', 'Product Cart → Purchase']\n",
    "conversion_rates_A = [funnel.loc['A', 'cart_conversion'], funnel.loc['A', 'purchase_conversion']]\n",
    "conversion_rates_B = [funnel.loc['B', 'cart_conversion'], funnel.loc['B', 'purchase_conversion']]\n",
    "x = np.arange(len(x_labels))\n",
    "bar_width = 0.35\n",
    "\n",
    "plt.bar(x - bar_width/2, conversion_rates_A, width=bar_width, label='Grupo A')\n",
    "plt.bar(x + bar_width/2, conversion_rates_B, width=bar_width, label='Grupo B')\n",
    "plt.xticks(x, x_labels)\n",
    "plt.ylabel('Tasa de Conversión')\n",
    "plt.title('Tasa de conversión entre etapas del embudo')\n",
    "plt.legend()\n",
    "\n",
    "plt.show()"
   ]
  },
  {
   "cell_type": "markdown",
   "id": "a7a72844-84d7-418b-8093-af8da2badea4",
   "metadata": {},
   "source": [
    "-Observaciones"
   ]
  },
  {
   "cell_type": "markdown",
   "id": "1d4a8c73-c66e-4811-8f44-a4a302a39f07",
   "metadata": {},
   "source": [
    "Usuarios por etapa                                                                                                                                      \n",
    "Grupo A:                                                                                                                                                \n",
    "Product Page: 4,937 usuarios visitaron la página del producto.                                                                                          \n",
    "Product Cart: 2,357 usuarios añadieron un producto al carrito (47.7% de los que visitaron la página).                                                   \n",
    "Purchase: 2,555 usuarios realizaron una compra.                                                                                                         \n",
    "Grupo B:                                                                                                                                                \n",
    "Product Page: 3,715 usuarios visitaron la página del producto.                                                                                          \n",
    "Product Cart: 1,911 usuarios añadieron un producto al carrito (51.4% de los que visitaron la página).                                                   \n",
    "Purchase: 1,881 usuarios realizaron una compra.                                                                                                         "
   ]
  },
  {
   "cell_type": "markdown",
   "id": "52044538-7ea9-494f-bbc2-b6d474ac81f3",
   "metadata": {},
   "source": [
    "Conversión entre etapas                                                                                                                                 \n",
    "De product_page a product_cart (cart_conversion):                                                                                                       \n",
    "Grupo A: El 47.7% de los usuarios que visitaron la página del producto añadieron un artículo al carrito.                                                \n",
    "Grupo B: El 51.4% de los usuarios que visitaron la página del producto añadieron un artículo al carrito.                                                \n",
    "El grupo B tiene una tasa de conversión ligeramente superior (51.4% vs. 47.7%), lo que podría indicar que el nuevo sistema de recomendaciones está ayudando a más usuarios a avanzar en el embudo en esta etapa.                                                                                           \n",
    "\n",
    "De product_cart a purchase (purchase_conversion):                                                                                                       \n",
    "Grupo A: La tasa de conversión es 1.084 (108.4%), lo que es anómalo. Esto significa que hay más compras que usuarios que llegaron a la etapa del carrito. Esto podría deberse a usuarios que realizan múltiples compras después de añadir productos al carrito.                                          \n",
    "Grupo B: La tasa de conversión es 0.984 (98.4%), lo que sugiere que hay ligeramente menos compras que usuarios que llegaron al carrito. Esto podría reflejar que el grupo B realiza menos compras múltiples.                                                                                                "
   ]
  },
  {
   "cell_type": "markdown",
   "id": "15229f3c-ddde-4757-a575-3e9049fa6f5a",
   "metadata": {},
   "source": [
    "Rendimiento del embudo \n",
    "\n",
    "El grupo B tiene un rendimiento ligeramente mejor en la primera etapa del embudo (product_page → product_cart), con un aumento en la tasa de conversión de 3.7 puntos porcentuales (51.4% vs. 47.7%). Sin embargo, en la etapa final del embudo (product_cart → purchase), el grupo A tiene un comportamiento inusual (tasa superior al 100%), mientras que el grupo B tiene una conversión más estándar.                                                            \n",
    "\n",
    "Usuarios en cada etapa\n",
    "\n",
    "Hay menos usuarios en el grupo B en cada etapa (3,715 vs. 4,937 en product_page), lo que podría ser una fuente de sesgo si el tamaño muestral no fue balanceado. La conversión global (desde product_page hasta purchase) no muestra mejoras significativas para el grupo B en comparación con el grupo A.\n",
    "\n",
    "Anomalía en la conversión de purchase del grupo A\n",
    "\n",
    "La tasa de conversión mayor al 100% en el grupo A sugiere que algunos usuarios realizaron múltiples compras después de añadir productos al carrito.\n",
    "Esto debería ser investigado más a fondo para confirmar si es un error en los datos o un comportamiento típico del grupo A.\n"
   ]
  },
  {
   "cell_type": "markdown",
   "id": "86ec40f0-1c98-4c08-a79a-bfc49a9f5a56",
   "metadata": {},
   "source": [
    "-Prueba Z"
   ]
  },
  {
   "cell_type": "markdown",
   "id": "7d915224-ae2f-43f2-807c-179c33fb485b",
   "metadata": {},
   "source": [
    "Definir hipótesis:\n",
    "\n",
    "Hipótesis nula (H₀): No hay diferencia significativa entre las proporciones de los grupos A y B.\n",
    "\n",
    "Hipótesis alternativa (H₁): Hay una diferencia significativa entre las proporciones de los grupos A y B."
   ]
  },
  {
   "cell_type": "code",
   "execution_count": 65,
   "id": "ebb0b9a0-94a9-4d6a-bd5f-a680ee069c25",
   "metadata": {},
   "outputs": [],
   "source": [
    "data = {\n",
    "    \"product_page\": {\"A\": 4937, \"B\": 3715},  # Total de usuarios que visitaron la página del producto\n",
    "    \"product_cart\": {\"A\": 2357, \"B\": 1911},  # Total de usuarios que agregaron productos al carrito\n",
    "    \"purchase\": {\"A\": 2555, \"B\": 1881},      # Total de usuarios que realizaron una compra\n",
    "}"
   ]
  },
  {
   "cell_type": "code",
   "execution_count": 66,
   "id": "fee4034c-605d-451e-b648-a5d362761ade",
   "metadata": {},
   "outputs": [],
   "source": [
    "n_A = 4937  \n",
    "n_B = 3715 "
   ]
  },
  {
   "cell_type": "code",
   "execution_count": 67,
   "id": "cff2d634-bc0e-4e09-84af-4f500ee9d685",
   "metadata": {},
   "outputs": [],
   "source": [
    "results = {}"
   ]
  },
  {
   "cell_type": "code",
   "execution_count": 68,
   "id": "062b1970-5669-4759-98b4-6a13f953e3df",
   "metadata": {},
   "outputs": [
    {
     "name": "stderr",
     "output_type": "stream",
     "text": [
      "C:\\Users\\AIMEE DGUEZ NIETO\\AppData\\Local\\Temp\\ipykernel_24052\\1418768130.py:10: RuntimeWarning: invalid value encountered in scalar divide\n",
      "  Z = (p_A - p_B) / np.sqrt(P * (1 - P) * (1 / n_A + 1 / n_B))\n"
     ]
    }
   ],
   "source": [
    "for stage, counts in data.items():\n",
    "    # Proporciones de conversión\n",
    "    p_A = counts[\"A\"] / n_A\n",
    "    p_B = counts[\"B\"] / n_B\n",
    "\n",
    "    # Proporción combinada\n",
    "    P = (counts[\"A\"] + counts[\"B\"]) / (n_A + n_B)\n",
    "\n",
    "    # Estadístico Z\n",
    "    Z = (p_A - p_B) / np.sqrt(P * (1 - P) * (1 / n_A + 1 / n_B))\n",
    "\n",
    "    # P-valor (doble cola)\n",
    "    p_value = 2 * (1 - norm.cdf(abs(Z)))\n",
    "\n",
    "    # Incremento esperado (10%)\n",
    "    increment_needed = p_A * 0.10\n",
    "\n",
    "    # Guardar resultados\n",
    "    results[stage] = {\n",
    "        \"p_A\": p_A,\n",
    "        \"p_B\": p_B,\n",
    "        \"Z\": Z,\n",
    "        \"p_value\": p_value,\n",
    "        \"increment_needed\": increment_needed,\n",
    "        \"meets_increment\": (p_B - p_A) >= increment_needed,\n",
    "    }\n"
   ]
  },
  {
   "cell_type": "code",
   "execution_count": 69,
   "id": "47b2e137-1fd0-4554-8623-0be8ad3ca086",
   "metadata": {},
   "outputs": [
    {
     "name": "stdout",
     "output_type": "stream",
     "text": [
      "Etapa: product_page\n",
      "  Conversión Grupo A: 100.00%\n",
      "  Conversión Grupo B: 100.00%\n",
      "  Estadístico Z: nan\n",
      "  P-valor: nan\n",
      "  Incremento esperado (10%): 10.00%\n",
      "  ¿Se alcanzó el incremento esperado?: False\n",
      "---\n",
      "Etapa: product_cart\n",
      "  Conversión Grupo A: 47.74%\n",
      "  Conversión Grupo B: 51.44%\n",
      "  Estadístico Z: -3.41\n",
      "  P-valor: 0.0007\n",
      "  Incremento esperado (10%): 4.77%\n",
      "  ¿Se alcanzó el incremento esperado?: False\n",
      "---\n",
      "Etapa: purchase\n",
      "  Conversión Grupo A: 51.75%\n",
      "  Conversión Grupo B: 50.63%\n",
      "  Estadístico Z: 1.03\n",
      "  P-valor: 0.3024\n",
      "  Incremento esperado (10%): 5.18%\n",
      "  ¿Se alcanzó el incremento esperado?: False\n",
      "---\n"
     ]
    }
   ],
   "source": [
    "for stage, metrics in results.items():\n",
    "    print(f\"Etapa: {stage}\")\n",
    "    print(f\"  Conversión Grupo A: {metrics['p_A']:.2%}\")\n",
    "    print(f\"  Conversión Grupo B: {metrics['p_B']:.2%}\")\n",
    "    print(f\"  Estadístico Z: {metrics['Z']:.2f}\")\n",
    "    print(f\"  P-valor: {metrics['p_value']:.4f}\")\n",
    "    print(f\"  Incremento esperado (10%): {metrics['increment_needed']:.2%}\")\n",
    "    print(f\"  ¿Se alcanzó el incremento esperado?: {metrics['meets_increment']}\")\n",
    "    print(\"---\")"
   ]
  },
  {
   "cell_type": "markdown",
   "id": "afb6df03-2858-499a-ac82-dfcfd6eda4cf",
   "metadata": {},
   "source": [
    "Etapa: product_page\n",
    "\n",
    "Conversión Grupo A y Grupo B: Ambas son del 100%, lo que significa que todos los usuarios que ingresaron al grupo A o B visitaron al menos una página del producto.\n",
    "Estadístico Z y p-valor: Ambas métricas resultan en NaN, probablemente debido a que no hay variación entre los grupos (las conversiones son iguales y perfectas). Esto indica que no hay suficiente información para realizar una comparación estadística en esta etapa.\n",
    "Incremento esperado: Aunque el incremento esperado del 10% es calculado (10%), no se alcanzó porque no existe diferencia entre los grupos.\n",
    "Conclusión: No se pueden extraer diferencias significativas entre los grupos en esta etapa porque todos los usuarios accedieron a la página del producto.\n",
    "\n",
    "Etapa: product_cart\n",
    "Conversión Grupo A: 47.74%, es decir, casi la mitad de los usuarios del grupo A agregaron un producto al carrito.\n",
    "Conversión Grupo B: 51.44%, ligeramente superior al Grupo A, lo que muestra que más usuarios del grupo B llegaron a esta etapa del embudo.\n",
    "Estadístico Z y p-valor:\n",
    "El valor del estadístico Z es -3.41, lo que significa que la diferencia entre los grupos es estadísticamente significativa.\n",
    "El p-valor (0.0007) es mucho menor que 0.05, lo que refuerza que la diferencia observada no es debida al azar.\n",
    "Incremento esperado: El incremento esperado del 10% sobre la conversión del grupo A (4.77%) no se alcanzó, ya que la diferencia observada entre B y A fue menor.\n",
    "Conclusión: Aunque la diferencia en la conversión hacia product_cart entre los grupos es estadísticamente significativa, no se logró alcanzar el incremento esperado del 10%. Esto sugiere que el nuevo sistema de recomendaciones tuvo un impacto positivo, pero no lo suficientemente fuerte como para alcanzar los objetivos esperados.\n",
    "\n",
    "Etapa: purchase\n",
    "Conversión Grupo A: 51.75%, es decir, más de la mitad de los usuarios en el grupo A realizaron una compra.\n",
    "Conversión Grupo B: 50.63%, ligeramente inferior al Grupo A, lo que sugiere que el nuevo sistema no ayudó a mejorar la conversión en esta etapa final del embudo.\n",
    "Estadístico Z y p-valor:\n",
    "El valor del estadístico Z es 1.03, lo que indica que la diferencia no es significativa.\n",
    "El p-valor (0.3024) es mayor que 0.05, lo que significa que no hay evidencia estadística para concluir que los grupos difieran en esta etapa.\n",
    "Incremento esperado: El incremento esperado del 10% sobre la conversión del grupo A (5.18%) no se alcanzó. De hecho, la conversión del grupo B fue menor que la del grupo A.\n",
    "Conclusión: En esta etapa final del embudo, el nuevo sistema no solo no logró un incremento del 10% esperado, sino que el grupo B mostró un rendimiento ligeramente inferior al grupo A. Esto sugiere que el sistema de recomendaciones no mejoró las conversiones en compras."
   ]
  },
  {
   "cell_type": "markdown",
   "id": "7266cf29-7bae-49a4-8c99-852f70bb54a9",
   "metadata": {},
   "source": [
    "# Conclusiones y recomendaciones"
   ]
  },
  {
   "cell_type": "markdown",
   "id": "3383a8c7-a4ae-4848-921c-faa48c250729",
   "metadata": {},
   "source": [
    "**Conclusiones**\n",
    "\n",
    "El análisis de la prueba A/B para el sistema de recomendaciones mostró los siguientes hallazgos clave:\n",
    "\n",
    "**Tasa de Conversión por Etapa:**\n",
    "\n",
    "En la etapa inicial (product_page), la conversión fue del 100% para ambos grupos, sin diferencias entre ellos. Esto sugiere que todos los usuarios llegaron a la página del producto independientemente del sistema de recomendaciones.\n",
    "En la etapa intermedia (product_cart), el grupo B mostró una mejora estadísticamente significativa respecto al grupo A (51.44% vs. 47.74%, con un p-valor de 0.0007). Sin embargo, esta mejora no alcanzó el incremento esperado del 10%.\n",
    "En la etapa final (purchase), el grupo B tuvo una conversión menor que el grupo A (50.63% vs. 51.75%), y la diferencia no fue estadísticamente significativa (p-valor = 0.3024). Esto indica que el sistema de recomendaciones no logró impactar positivamente las compras, la métrica principal de éxito.\n",
    "\n",
    "**Objetivos No Alcanzados:**\n",
    "\n",
    "Ninguna de las etapas del embudo alcanzó el incremento esperado del 10%.\n",
    "En la etapa clave de purchase, el nuevo sistema no solo falló en mejorar las conversiones, sino que mostró un rendimiento inferior al grupo control.\n",
    "\n",
    "**Resultados Estadísticos:**\n",
    "\n",
    "Las mejoras observadas en la etapa de product_cart son significativas, pero su impacto no es suficiente para justificar el cambio en el sistema de recomendaciones.En la etapa final, donde se esperaban resultados más sólidos, no hubo evidencia de que el nuevo sistema ofreciera beneficios.\n",
    "\n",
    "**Recomendaciones**\n",
    "\n",
    "**1. Optimizar el Sistema de Recomendaciones:**\n",
    "\n",
    "Revisar el Algoritmo de Recomendación: Analizar cómo se generan las recomendaciones actuales y ajustar los parámetros para hacerlas más relevantes. Es posible que el sistema esté mostrando productos no alineados con los intereses de los usuarios.\n",
    "Fomentar el Descubrimiento de Productos: Implementar recomendaciones más personalizadas, como productos similares a los vistos recientemente o productos comprados con frecuencia por otros usuarios con intereses similares.\n",
    "\n",
    "**2. Mejorar la Experiencia en la Etapa de Compra:**\n",
    "\n",
    "Simplificar el Proceso de Pago: Evaluar la experiencia del usuario en el flujo de compra para identificar posibles fricciones (como demasiados pasos, opciones de pago limitadas o falta de claridad en los costos).\n",
    "Ofrecer Incentivos: Considerar promociones como descuentos exclusivos, envío gratuito o cupones aplicables al finalizar la compra para aumentar la motivación de los usuarios en el grupo B.\n",
    "\n",
    "**3. Analizar el Comportamiento de los Usuarios:**\n",
    "\n",
    "Segmentación por Perfil: Evaluar cómo varían las conversiones por dispositivo, región o tiempo para identificar subgrupos donde el sistema de recomendaciones podría estar funcionando mejor o peor.\n",
    "Evaluar Diferencias por Productos: Examinar si ciertos tipos de productos tienen mejor rendimiento bajo el nuevo sistema, y enfocar las mejoras en estos casos.\n",
    "\n",
    "**4. Realizar Pruebas Adicionales:**\n",
    "\n",
    "Prueba Iterativa A/B: Implementar pequeñas modificaciones en el sistema de recomendaciones y realizar nuevas pruebas A/B para medir su efectividad incremental.\n",
    "Pruebas Multivariadas: Experimentar con diferentes formatos y ubicaciones de las recomendaciones en la página del producto y el carrito.\n",
    "\n",
    "**5. Incorporar Feedback de los Usuarios:**\n",
    "\n",
    "Encuestas cualitativas para entender si los usuarios encuentran útiles las recomendaciones ofrecidas.\n",
    "Análisis de sesiones grabadas para identificar cómo interactúan los usuarios con el sistema de recomendaciones y si estas interacciones terminan en una compra.\n",
    "\n",
    "Aunque el sistema de recomendaciones mostró un impacto positivo en la etapa intermedia del embudo (product_cart), no cumplió con los objetivos esperados ni mejoró las conversiones en la etapa final (purchase). Es crucial optimizar tanto la relevancia de las recomendaciones como la experiencia del usuario en el proceso de compra. Con ajustes estratégicos y pruebas iterativas, existe el potencial de lograr un impacto positivo y significativo en el futuro.\n",
    "\n"
   ]
  }
 ],
 "metadata": {
  "kernelspec": {
   "display_name": "Python 3 (ipykernel)",
   "language": "python",
   "name": "python3"
  },
  "language_info": {
   "codemirror_mode": {
    "name": "ipython",
    "version": 3
   },
   "file_extension": ".py",
   "mimetype": "text/x-python",
   "name": "python",
   "nbconvert_exporter": "python",
   "pygments_lexer": "ipython3",
   "version": "3.12.4"
  }
 },
 "nbformat": 4,
 "nbformat_minor": 5
}
