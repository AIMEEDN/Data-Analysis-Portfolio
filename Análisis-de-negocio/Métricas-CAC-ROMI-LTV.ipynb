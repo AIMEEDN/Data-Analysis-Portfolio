{
 "cells": [
  {
   "cell_type": "markdown",
   "id": "cc4419b6-03da-42f2-8479-06a43688b993",
   "metadata": {},
   "source": [
    "# Tabla de contenido\n",
    "1. [Introducción al Proyecto](#Introduccción-al-Proyecto)\n",
    "2. [Objetivos específicos](#Objetivos-específicos)\n",
    "3. [Etapas de análisis del proyecto](#Etapas-de-análisis-del-proyecto)\n",
    "4. [Acceso y preparación de datos](#Acceso-y-preparación-de-datos)\n",
    "5. [Análisis exploratorio y cálculo de métricas](#Análisis-exploratorio-y-cálculo-de-métricas)\n",
    "6. [Conclusión y recomendaciones](#Conclusión-y-recomendaciones) "
   ]
  },
  {
   "cell_type": "markdown",
   "id": "87720a35-cc4b-4983-a146-7940e5497f9b",
   "metadata": {},
   "source": [
    "# Introducción al Proyecto"
   ]
  },
  {
   "cell_type": "markdown",
   "id": "caf4ddbc-27ad-49aa-8b08-839b050231d5",
   "metadata": {},
   "source": [
    "En el proyecto de análisis de datos para el departamento de analítica de la empresa Showz, el objetivo es optimizar los gastos de marketing utilizando datos de visitas al sitio web, pedidos y estadísticas de marketing. "
   ]
  },
  {
   "cell_type": "markdown",
   "id": "d6fa6580-9ac1-4976-8565-da4025c1395c",
   "metadata": {},
   "source": [
    "# Objetivos específicos"
   ]
  },
  {
   "cell_type": "markdown",
   "id": "9158cb1d-cad7-47fa-9608-995a6e4160b7",
   "metadata": {},
   "source": [
    "\n",
    "1. **Análisis del comportamiento del cliente**: Estudiar cómo los clientes utilizan el servicio y determinar patrones en su interacción con la plataforma, incluyendo cuándo y cómo realizan compras, para entender mejor su comportamiento.\n",
    "\n",
    "2. **Evaluación de la rentabilidad del cliente**: Medir cuánto dinero genera cada cliente para la compañía a lo largo del tiempo, y analizar en qué momento los ingresos obtenidos cubren el costo de adquisición de los clientes.\n",
    "\n",
    "3. **Optimización del presupuesto de marketing**: Investigar la eficiencia de las campañas de marketing en relación con las conversiones de clientes, identificando oportunidades para mejorar la asignación de recursos y reducir los costos de adquisición."
   ]
  },
  {
   "cell_type": "markdown",
   "id": "54c0db3f-fee8-4732-8e96-e1231cd26acd",
   "metadata": {},
   "source": [
    "# Etapas de análisis del proyecto"
   ]
  },
  {
   "cell_type": "markdown",
   "id": "988823a8-7d1c-4645-8379-9203b901f68c",
   "metadata": {},
   "source": [
    "**1. Acceso y preparación de datos**  \n",
    "- **Descripción**: En esta etapa, se cargan y optimizan los datasets de visitas, pedidos y costos. Se verifica que cada columna tenga el tipo de dato adecuado para el análisis.\n",
    "- **Acciones clave**: \n",
    "  - Almacenar los datasets en variables (`visits_log_us.csv`, `orders_log_us.csv`, `costs_us.csv`).\n",
    "  - Verificar y corregir tipos de datos para cada columna, como fechas, números y cadenas.\n",
    "\n",
    "**2. Análisis exploratorio y cálculo de métricas**  \n",
    "- **Descripción**: En esta fase se analizan las visitas, ventas y gastos de marketing. Se calculan las métricas clave, se segmentan los datos por fuente de adquisición y se identifican patrones de comportamiento de los usuarios.\n",
    "- **Acciones clave**: \n",
    "  - **Visitas**: Calcular usuarios activos por día, semana y mes; sesiones diarias; duración promedio de sesiones; y frecuencia de retorno de los usuarios.\n",
    "  - **Ventas**: Analizar cuándo los usuarios comienzan a comprar, cuántos pedidos realizan, el tamaño promedio de compra y su valor para la compañía (LTV).\n",
    "  - **Marketing**: Evaluar los gastos totales, el costo de adquisición de clientes (CAC) por fuente de adquisición y la rentabilidad de las inversiones (ROMI).\n",
    "  - **Visualización**: Crear gráficos que muestren cómo varían estas métricas según diferentes dispositivos, fuentes de anuncios y en el tiempo.\n",
    "\n",
    "**3. Conclusión y recomendaciones**  \n",
    "- **Descripción**: Se elabora una conclusión final basada en los análisis realizados, ofreciendo recomendaciones específicas a los expertos de marketing sobre qué plataformas o fuentes de adquisición deberían priorizar y cómo asignar el presupuesto de manera efectiva.\n",
    "- **Acciones clave**:\n",
    "  - Analizar los resultados de las métricas calculadas para fundamentar las recomendaciones.\n",
    "  - Identificar las fuentes de adquisición más efectivas en términos de CAC y ROMI.\n",
    "  - Proponer estrategias de optimización para la inversión en marketing basadas en los datos."
   ]
  },
  {
   "cell_type": "markdown",
   "id": "f95a5e44-ea81-49de-9a61-132719c663d7",
   "metadata": {},
   "source": [
    "# Acceso y preparación de datos"
   ]
  },
  {
   "cell_type": "markdown",
   "id": "e4d87e83-32ee-4513-bc12-33787fe56724",
   "metadata": {},
   "source": [
    "**Inicialización**"
   ]
  },
  {
   "cell_type": "code",
   "execution_count": null,
   "id": "9624e5e1-31ea-4aae-904e-e88ac62d6700",
   "metadata": {},
   "outputs": [],
   "source": [
    "import pandas as pd \n",
    "import matplotlib.pyplot as plt \n",
    "import scipy.stats as st\n",
    "import numpy as np\n",
    "from scipy import stats\n",
    "import seaborn as sns"
   ]
  },
  {
   "cell_type": "markdown",
   "id": "04579636-412b-4cd2-ba6e-5eb60bd2c018",
   "metadata": {},
   "source": [
    "**Cargar y explorar los datos**"
   ]
  },
  {
   "cell_type": "code",
   "execution_count": null,
   "id": "ae6547b2-0655-4505-8dde-55a95db67e2f",
   "metadata": {},
   "outputs": [],
   "source": [
    "visits = pd.read_csv('./datasets/visits_log_us.csv')"
   ]
  },
  {
   "cell_type": "code",
   "execution_count": null,
   "id": "77062c91-4889-4cce-b00a-953116a2c968",
   "metadata": {},
   "outputs": [],
   "source": [
    "orders = pd.read_csv('./datasets/orders_log_us.csv')"
   ]
  },
  {
   "cell_type": "code",
   "execution_count": null,
   "id": "36d1af42-503a-46d6-b2d0-bbc5d7b71648",
   "metadata": {},
   "outputs": [],
   "source": [
    "costs = pd.read_csv('./datasets/costs_us.csv')"
   ]
  },
  {
   "cell_type": "markdown",
   "id": "49f9ad53-9fa6-4e3b-a81c-b11aa6ef3baa",
   "metadata": {},
   "source": [
    "**visits**"
   ]
  },
  {
   "cell_type": "code",
   "execution_count": null,
   "id": "0e6030f3-d18b-438f-852c-9b499d72d3c5",
   "metadata": {},
   "outputs": [
    {
     "data": {
      "text/html": [
       "<div>\n",
       "<style scoped>\n",
       "    .dataframe tbody tr th:only-of-type {\n",
       "        vertical-align: middle;\n",
       "    }\n",
       "\n",
       "    .dataframe tbody tr th {\n",
       "        vertical-align: top;\n",
       "    }\n",
       "\n",
       "    .dataframe thead th {\n",
       "        text-align: right;\n",
       "    }\n",
       "</style>\n",
       "<table border=\"1\" class=\"dataframe\">\n",
       "  <thead>\n",
       "    <tr style=\"text-align: right;\">\n",
       "      <th></th>\n",
       "      <th>Device</th>\n",
       "      <th>End Ts</th>\n",
       "      <th>Source Id</th>\n",
       "      <th>Start Ts</th>\n",
       "      <th>Uid</th>\n",
       "    </tr>\n",
       "  </thead>\n",
       "  <tbody>\n",
       "    <tr>\n",
       "      <th>0</th>\n",
       "      <td>touch</td>\n",
       "      <td>2017-12-20 17:38:00</td>\n",
       "      <td>4</td>\n",
       "      <td>2017-12-20 17:20:00</td>\n",
       "      <td>16879256277535980062</td>\n",
       "    </tr>\n",
       "    <tr>\n",
       "      <th>1</th>\n",
       "      <td>desktop</td>\n",
       "      <td>2018-02-19 17:21:00</td>\n",
       "      <td>2</td>\n",
       "      <td>2018-02-19 16:53:00</td>\n",
       "      <td>104060357244891740</td>\n",
       "    </tr>\n",
       "    <tr>\n",
       "      <th>2</th>\n",
       "      <td>touch</td>\n",
       "      <td>2017-07-01 01:54:00</td>\n",
       "      <td>5</td>\n",
       "      <td>2017-07-01 01:54:00</td>\n",
       "      <td>7459035603376831527</td>\n",
       "    </tr>\n",
       "    <tr>\n",
       "      <th>3</th>\n",
       "      <td>desktop</td>\n",
       "      <td>2018-05-20 11:23:00</td>\n",
       "      <td>9</td>\n",
       "      <td>2018-05-20 10:59:00</td>\n",
       "      <td>16174680259334210214</td>\n",
       "    </tr>\n",
       "    <tr>\n",
       "      <th>4</th>\n",
       "      <td>desktop</td>\n",
       "      <td>2017-12-27 14:06:00</td>\n",
       "      <td>3</td>\n",
       "      <td>2017-12-27 14:06:00</td>\n",
       "      <td>9969694820036681168</td>\n",
       "    </tr>\n",
       "  </tbody>\n",
       "</table>\n",
       "</div>"
      ],
      "text/plain": [
       "    Device               End Ts  Source Id             Start Ts  \\\n",
       "0    touch  2017-12-20 17:38:00          4  2017-12-20 17:20:00   \n",
       "1  desktop  2018-02-19 17:21:00          2  2018-02-19 16:53:00   \n",
       "2    touch  2017-07-01 01:54:00          5  2017-07-01 01:54:00   \n",
       "3  desktop  2018-05-20 11:23:00          9  2018-05-20 10:59:00   \n",
       "4  desktop  2017-12-27 14:06:00          3  2017-12-27 14:06:00   \n",
       "\n",
       "                    Uid  \n",
       "0  16879256277535980062  \n",
       "1    104060357244891740  \n",
       "2   7459035603376831527  \n",
       "3  16174680259334210214  \n",
       "4   9969694820036681168  "
      ]
     },
     "execution_count": 5,
     "metadata": {},
     "output_type": "execute_result"
    }
   ],
   "source": [
    "visits.head()"
   ]
  },
  {
   "cell_type": "code",
   "execution_count": null,
   "id": "4131d014-858b-48fa-a3ba-834dfe7ca8c8",
   "metadata": {},
   "outputs": [
    {
     "name": "stdout",
     "output_type": "stream",
     "text": [
      "<class 'pandas.core.frame.DataFrame'>\n",
      "RangeIndex: 359400 entries, 0 to 359399\n",
      "Data columns (total 5 columns):\n",
      " #   Column     Non-Null Count   Dtype \n",
      "---  ------     --------------   ----- \n",
      " 0   Device     359400 non-null  object\n",
      " 1   End Ts     359400 non-null  object\n",
      " 2   Source Id  359400 non-null  int64 \n",
      " 3   Start Ts   359400 non-null  object\n",
      " 4   Uid        359400 non-null  uint64\n",
      "dtypes: int64(1), object(3), uint64(1)\n",
      "memory usage: 13.7+ MB\n"
     ]
    }
   ],
   "source": [
    "visits.info()"
   ]
  },
  {
   "cell_type": "code",
   "execution_count": null,
   "id": "e30cbb83-d6d0-4bae-84be-b4a7568816a9",
   "metadata": {},
   "outputs": [],
   "source": [
    "visits.columns = visits.columns.str.replace(' ', '_')"
   ]
  },
  {
   "cell_type": "code",
   "execution_count": null,
   "id": "7730b2e8-93f7-4989-acb0-3eb19347bc4f",
   "metadata": {},
   "outputs": [],
   "source": [
    "visits.columns = visits.columns.str.lower()"
   ]
  },
  {
   "cell_type": "code",
   "execution_count": null,
   "id": "2e6498cd-2af1-4797-a783-107e33ad9a5b",
   "metadata": {},
   "outputs": [
    {
     "name": "stdout",
     "output_type": "stream",
     "text": [
      "Index(['device', 'end_ts', 'source_id', 'start_ts', 'uid'], dtype='object')\n"
     ]
    }
   ],
   "source": [
    "print(visits.columns)"
   ]
  },
  {
   "cell_type": "code",
   "execution_count": null,
   "id": "fcf0dacb-4918-4319-be86-4c20d158cff6",
   "metadata": {},
   "outputs": [],
   "source": [
    "visits['end_ts'] = pd.to_datetime(visits['end_ts'], format = '%Y-%m-%d %H:%M:%S' )"
   ]
  },
  {
   "cell_type": "code",
   "execution_count": null,
   "id": "5ab61fd5-d1c5-4e00-8ef0-942b2bd1259c",
   "metadata": {},
   "outputs": [],
   "source": [
    "visits['start_ts'] = pd.to_datetime(visits['start_ts'], format = '%Y-%m-%d %H:%M:%S' )"
   ]
  },
  {
   "cell_type": "code",
   "execution_count": null,
   "id": "06325dfd-1485-4f95-86ed-68748bc93aa8",
   "metadata": {},
   "outputs": [
    {
     "name": "stdout",
     "output_type": "stream",
     "text": [
      "device               object\n",
      "end_ts       datetime64[ns]\n",
      "source_id             int64\n",
      "start_ts     datetime64[ns]\n",
      "uid                  uint64\n",
      "dtype: object\n"
     ]
    }
   ],
   "source": [
    "print(visits.dtypes)"
   ]
  },
  {
   "cell_type": "code",
   "execution_count": null,
   "id": "2e314ddb-fdec-49d4-baf3-b52a73b52a18",
   "metadata": {},
   "outputs": [
    {
     "data": {
      "text/html": [
       "<div>\n",
       "<style scoped>\n",
       "    .dataframe tbody tr th:only-of-type {\n",
       "        vertical-align: middle;\n",
       "    }\n",
       "\n",
       "    .dataframe tbody tr th {\n",
       "        vertical-align: top;\n",
       "    }\n",
       "\n",
       "    .dataframe thead th {\n",
       "        text-align: right;\n",
       "    }\n",
       "</style>\n",
       "<table border=\"1\" class=\"dataframe\">\n",
       "  <thead>\n",
       "    <tr style=\"text-align: right;\">\n",
       "      <th></th>\n",
       "      <th>end_ts</th>\n",
       "      <th>source_id</th>\n",
       "      <th>start_ts</th>\n",
       "      <th>uid</th>\n",
       "    </tr>\n",
       "  </thead>\n",
       "  <tbody>\n",
       "    <tr>\n",
       "      <th>count</th>\n",
       "      <td>359400</td>\n",
       "      <td>359400.000000</td>\n",
       "      <td>359400</td>\n",
       "      <td>3.594000e+05</td>\n",
       "    </tr>\n",
       "    <tr>\n",
       "      <th>mean</th>\n",
       "      <td>2017-12-18 06:28:15.036205056</td>\n",
       "      <td>3.750515</td>\n",
       "      <td>2017-12-18 06:17:32.010517760</td>\n",
       "      <td>9.202557e+18</td>\n",
       "    </tr>\n",
       "    <tr>\n",
       "      <th>min</th>\n",
       "      <td>2017-06-01 00:02:00</td>\n",
       "      <td>1.000000</td>\n",
       "      <td>2017-06-01 00:01:00</td>\n",
       "      <td>1.186350e+13</td>\n",
       "    </tr>\n",
       "    <tr>\n",
       "      <th>25%</th>\n",
       "      <td>2017-10-15 09:45:45</td>\n",
       "      <td>3.000000</td>\n",
       "      <td>2017-10-15 09:41:00</td>\n",
       "      <td>4.613407e+18</td>\n",
       "    </tr>\n",
       "    <tr>\n",
       "      <th>50%</th>\n",
       "      <td>2017-12-18 18:59:30</td>\n",
       "      <td>4.000000</td>\n",
       "      <td>2017-12-18 18:46:00</td>\n",
       "      <td>9.227413e+18</td>\n",
       "    </tr>\n",
       "    <tr>\n",
       "      <th>75%</th>\n",
       "      <td>2018-02-28 10:08:15</td>\n",
       "      <td>5.000000</td>\n",
       "      <td>2018-02-28 09:54:00</td>\n",
       "      <td>1.372824e+19</td>\n",
       "    </tr>\n",
       "    <tr>\n",
       "      <th>max</th>\n",
       "      <td>2018-06-01 01:26:00</td>\n",
       "      <td>10.000000</td>\n",
       "      <td>2018-05-31 23:59:00</td>\n",
       "      <td>1.844668e+19</td>\n",
       "    </tr>\n",
       "    <tr>\n",
       "      <th>std</th>\n",
       "      <td>NaN</td>\n",
       "      <td>1.917116</td>\n",
       "      <td>NaN</td>\n",
       "      <td>5.298433e+18</td>\n",
       "    </tr>\n",
       "  </tbody>\n",
       "</table>\n",
       "</div>"
      ],
      "text/plain": [
       "                              end_ts      source_id  \\\n",
       "count                         359400  359400.000000   \n",
       "mean   2017-12-18 06:28:15.036205056       3.750515   \n",
       "min              2017-06-01 00:02:00       1.000000   \n",
       "25%              2017-10-15 09:45:45       3.000000   \n",
       "50%              2017-12-18 18:59:30       4.000000   \n",
       "75%              2018-02-28 10:08:15       5.000000   \n",
       "max              2018-06-01 01:26:00      10.000000   \n",
       "std                              NaN       1.917116   \n",
       "\n",
       "                            start_ts           uid  \n",
       "count                         359400  3.594000e+05  \n",
       "mean   2017-12-18 06:17:32.010517760  9.202557e+18  \n",
       "min              2017-06-01 00:01:00  1.186350e+13  \n",
       "25%              2017-10-15 09:41:00  4.613407e+18  \n",
       "50%              2017-12-18 18:46:00  9.227413e+18  \n",
       "75%              2018-02-28 09:54:00  1.372824e+19  \n",
       "max              2018-05-31 23:59:00  1.844668e+19  \n",
       "std                              NaN  5.298433e+18  "
      ]
     },
     "execution_count": 13,
     "metadata": {},
     "output_type": "execute_result"
    }
   ],
   "source": [
    "visits.describe()"
   ]
  },
  {
   "cell_type": "code",
   "execution_count": null,
   "id": "666b5299-5c22-47ce-9056-e1f56730dcd8",
   "metadata": {},
   "outputs": [
    {
     "name": "stdout",
     "output_type": "stream",
     "text": [
      "2017-06-01 00:01:00\n"
     ]
    }
   ],
   "source": [
    "print(visits['start_ts'].min())"
   ]
  },
  {
   "cell_type": "code",
   "execution_count": null,
   "id": "6fe7af25-12a7-4f01-9f6e-c35510dd22fa",
   "metadata": {},
   "outputs": [
    {
     "name": "stdout",
     "output_type": "stream",
     "text": [
      "2018-05-31 23:59:00\n"
     ]
    }
   ],
   "source": [
    "print(visits['start_ts'].max())"
   ]
  },
  {
   "cell_type": "code",
   "execution_count": null,
   "id": "f3ccc956-a059-4eb1-9513-2a1dd40d5a60",
   "metadata": {},
   "outputs": [
    {
     "name": "stdout",
     "output_type": "stream",
     "text": [
      "2017-06-01 00:02:00\n"
     ]
    }
   ],
   "source": [
    "print(visits['end_ts'].min())"
   ]
  },
  {
   "cell_type": "code",
   "execution_count": null,
   "id": "ce1be9ad-66f9-47f9-9333-e987e0c90b0f",
   "metadata": {},
   "outputs": [
    {
     "name": "stdout",
     "output_type": "stream",
     "text": [
      "2018-06-01 01:26:00\n"
     ]
    }
   ],
   "source": [
    "print(visits['end_ts'].max())"
   ]
  },
  {
   "cell_type": "code",
   "execution_count": null,
   "id": "e864c918-c340-408c-8813-0707c5c56d40",
   "metadata": {},
   "outputs": [
    {
     "data": {
      "text/plain": [
       "0"
      ]
     },
     "execution_count": 18,
     "metadata": {},
     "output_type": "execute_result"
    }
   ],
   "source": [
    "visits.duplicated().sum()"
   ]
  },
  {
   "cell_type": "code",
   "execution_count": null,
   "id": "38a6763e-63da-47c7-b178-cb0a148a3108",
   "metadata": {},
   "outputs": [
    {
     "data": {
      "text/plain": [
       "device       0\n",
       "end_ts       0\n",
       "source_id    0\n",
       "start_ts     0\n",
       "uid          0\n",
       "dtype: int64"
      ]
     },
     "execution_count": 19,
     "metadata": {},
     "output_type": "execute_result"
    }
   ],
   "source": [
    "visits.isna().sum()"
   ]
  },
  {
   "cell_type": "markdown",
   "id": "24ddf47d-cfec-4dd9-823c-c1427fad63b0",
   "metadata": {},
   "source": [
    "**orders**"
   ]
  },
  {
   "cell_type": "code",
   "execution_count": null,
   "id": "15609f31-f864-4081-a862-efd22428739f",
   "metadata": {},
   "outputs": [
    {
     "data": {
      "text/html": [
       "<div>\n",
       "<style scoped>\n",
       "    .dataframe tbody tr th:only-of-type {\n",
       "        vertical-align: middle;\n",
       "    }\n",
       "\n",
       "    .dataframe tbody tr th {\n",
       "        vertical-align: top;\n",
       "    }\n",
       "\n",
       "    .dataframe thead th {\n",
       "        text-align: right;\n",
       "    }\n",
       "</style>\n",
       "<table border=\"1\" class=\"dataframe\">\n",
       "  <thead>\n",
       "    <tr style=\"text-align: right;\">\n",
       "      <th></th>\n",
       "      <th>Buy Ts</th>\n",
       "      <th>Revenue</th>\n",
       "      <th>Uid</th>\n",
       "    </tr>\n",
       "  </thead>\n",
       "  <tbody>\n",
       "    <tr>\n",
       "      <th>0</th>\n",
       "      <td>2017-06-01 00:10:00</td>\n",
       "      <td>17.00</td>\n",
       "      <td>10329302124590727494</td>\n",
       "    </tr>\n",
       "    <tr>\n",
       "      <th>1</th>\n",
       "      <td>2017-06-01 00:25:00</td>\n",
       "      <td>0.55</td>\n",
       "      <td>11627257723692907447</td>\n",
       "    </tr>\n",
       "    <tr>\n",
       "      <th>2</th>\n",
       "      <td>2017-06-01 00:27:00</td>\n",
       "      <td>0.37</td>\n",
       "      <td>17903680561304213844</td>\n",
       "    </tr>\n",
       "    <tr>\n",
       "      <th>3</th>\n",
       "      <td>2017-06-01 00:29:00</td>\n",
       "      <td>0.55</td>\n",
       "      <td>16109239769442553005</td>\n",
       "    </tr>\n",
       "    <tr>\n",
       "      <th>4</th>\n",
       "      <td>2017-06-01 07:58:00</td>\n",
       "      <td>0.37</td>\n",
       "      <td>14200605875248379450</td>\n",
       "    </tr>\n",
       "  </tbody>\n",
       "</table>\n",
       "</div>"
      ],
      "text/plain": [
       "                Buy Ts  Revenue                   Uid\n",
       "0  2017-06-01 00:10:00    17.00  10329302124590727494\n",
       "1  2017-06-01 00:25:00     0.55  11627257723692907447\n",
       "2  2017-06-01 00:27:00     0.37  17903680561304213844\n",
       "3  2017-06-01 00:29:00     0.55  16109239769442553005\n",
       "4  2017-06-01 07:58:00     0.37  14200605875248379450"
      ]
     },
     "execution_count": 20,
     "metadata": {},
     "output_type": "execute_result"
    }
   ],
   "source": [
    "orders.head()"
   ]
  },
  {
   "cell_type": "code",
   "execution_count": null,
   "id": "70108290-cd8c-4bbb-8ec7-0ec04f11be20",
   "metadata": {},
   "outputs": [
    {
     "name": "stdout",
     "output_type": "stream",
     "text": [
      "<class 'pandas.core.frame.DataFrame'>\n",
      "RangeIndex: 50415 entries, 0 to 50414\n",
      "Data columns (total 3 columns):\n",
      " #   Column   Non-Null Count  Dtype  \n",
      "---  ------   --------------  -----  \n",
      " 0   Buy Ts   50415 non-null  object \n",
      " 1   Revenue  50415 non-null  float64\n",
      " 2   Uid      50415 non-null  uint64 \n",
      "dtypes: float64(1), object(1), uint64(1)\n",
      "memory usage: 1.2+ MB\n"
     ]
    }
   ],
   "source": [
    "orders.info()"
   ]
  },
  {
   "cell_type": "code",
   "execution_count": null,
   "id": "fdf6fe04-79b4-4dd8-8b65-d0ae12712361",
   "metadata": {},
   "outputs": [],
   "source": [
    "orders.columns = orders.columns.str.replace(' ', '_')"
   ]
  },
  {
   "cell_type": "code",
   "execution_count": null,
   "id": "6b694da2-c63f-462d-91dd-92ac562405a8",
   "metadata": {},
   "outputs": [],
   "source": [
    "orders.columns = orders.columns.str.lower()"
   ]
  },
  {
   "cell_type": "code",
   "execution_count": null,
   "id": "ce9c1050-d974-4b14-adf3-797d9275a073",
   "metadata": {},
   "outputs": [
    {
     "name": "stdout",
     "output_type": "stream",
     "text": [
      "Index(['buy_ts', 'revenue', 'uid'], dtype='object')\n"
     ]
    }
   ],
   "source": [
    "print(orders.columns)"
   ]
  },
  {
   "cell_type": "code",
   "execution_count": null,
   "id": "9b970bb2-d34f-4803-b0f2-2996078062b6",
   "metadata": {},
   "outputs": [],
   "source": [
    "orders['buy_ts'] = pd.to_datetime(orders['buy_ts'], format = '%Y-%m-%d %H:%M:%S' )"
   ]
  },
  {
   "cell_type": "code",
   "execution_count": null,
   "id": "7303027a-24a1-4e4c-85bc-6d82371b690b",
   "metadata": {},
   "outputs": [
    {
     "name": "stdout",
     "output_type": "stream",
     "text": [
      "buy_ts     datetime64[ns]\n",
      "revenue           float64\n",
      "uid                uint64\n",
      "dtype: object\n"
     ]
    }
   ],
   "source": [
    "print(orders.dtypes)"
   ]
  },
  {
   "cell_type": "code",
   "execution_count": null,
   "id": "f068873b-5378-47f1-84f1-9a699ac42332",
   "metadata": {},
   "outputs": [
    {
     "data": {
      "text/html": [
       "<div>\n",
       "<style scoped>\n",
       "    .dataframe tbody tr th:only-of-type {\n",
       "        vertical-align: middle;\n",
       "    }\n",
       "\n",
       "    .dataframe tbody tr th {\n",
       "        vertical-align: top;\n",
       "    }\n",
       "\n",
       "    .dataframe thead th {\n",
       "        text-align: right;\n",
       "    }\n",
       "</style>\n",
       "<table border=\"1\" class=\"dataframe\">\n",
       "  <thead>\n",
       "    <tr style=\"text-align: right;\">\n",
       "      <th></th>\n",
       "      <th>buy_ts</th>\n",
       "      <th>revenue</th>\n",
       "      <th>uid</th>\n",
       "    </tr>\n",
       "  </thead>\n",
       "  <tbody>\n",
       "    <tr>\n",
       "      <th>count</th>\n",
       "      <td>50415</td>\n",
       "      <td>50415.000000</td>\n",
       "      <td>5.041500e+04</td>\n",
       "    </tr>\n",
       "    <tr>\n",
       "      <th>mean</th>\n",
       "      <td>2017-12-20 05:14:24.846176768</td>\n",
       "      <td>4.999647</td>\n",
       "      <td>9.098161e+18</td>\n",
       "    </tr>\n",
       "    <tr>\n",
       "      <th>min</th>\n",
       "      <td>2017-06-01 00:10:00</td>\n",
       "      <td>0.000000</td>\n",
       "      <td>3.135781e+14</td>\n",
       "    </tr>\n",
       "    <tr>\n",
       "      <th>25%</th>\n",
       "      <td>2017-10-13 17:28:00</td>\n",
       "      <td>1.220000</td>\n",
       "      <td>4.533567e+18</td>\n",
       "    </tr>\n",
       "    <tr>\n",
       "      <th>50%</th>\n",
       "      <td>2017-12-21 14:12:00</td>\n",
       "      <td>2.500000</td>\n",
       "      <td>9.102274e+18</td>\n",
       "    </tr>\n",
       "    <tr>\n",
       "      <th>75%</th>\n",
       "      <td>2018-03-02 16:10:00</td>\n",
       "      <td>4.890000</td>\n",
       "      <td>1.368290e+19</td>\n",
       "    </tr>\n",
       "    <tr>\n",
       "      <th>max</th>\n",
       "      <td>2018-06-01 00:02:00</td>\n",
       "      <td>2633.280000</td>\n",
       "      <td>1.844617e+19</td>\n",
       "    </tr>\n",
       "    <tr>\n",
       "      <th>std</th>\n",
       "      <td>NaN</td>\n",
       "      <td>21.818359</td>\n",
       "      <td>5.285742e+18</td>\n",
       "    </tr>\n",
       "  </tbody>\n",
       "</table>\n",
       "</div>"
      ],
      "text/plain": [
       "                              buy_ts       revenue           uid\n",
       "count                          50415  50415.000000  5.041500e+04\n",
       "mean   2017-12-20 05:14:24.846176768      4.999647  9.098161e+18\n",
       "min              2017-06-01 00:10:00      0.000000  3.135781e+14\n",
       "25%              2017-10-13 17:28:00      1.220000  4.533567e+18\n",
       "50%              2017-12-21 14:12:00      2.500000  9.102274e+18\n",
       "75%              2018-03-02 16:10:00      4.890000  1.368290e+19\n",
       "max              2018-06-01 00:02:00   2633.280000  1.844617e+19\n",
       "std                              NaN     21.818359  5.285742e+18"
      ]
     },
     "execution_count": 27,
     "metadata": {},
     "output_type": "execute_result"
    }
   ],
   "source": [
    "orders.describe()"
   ]
  },
  {
   "cell_type": "code",
   "execution_count": null,
   "id": "a1e5b2f7-bf4a-4526-862e-cd83ff675667",
   "metadata": {},
   "outputs": [
    {
     "name": "stdout",
     "output_type": "stream",
     "text": [
      "2017-06-01 00:10:00\n"
     ]
    }
   ],
   "source": [
    "print(orders['buy_ts'].min())"
   ]
  },
  {
   "cell_type": "code",
   "execution_count": null,
   "id": "bc1ddae9-7dd4-43f5-bfd2-f0a6c4c8a2da",
   "metadata": {},
   "outputs": [
    {
     "name": "stdout",
     "output_type": "stream",
     "text": [
      "2018-06-01 00:02:00\n"
     ]
    }
   ],
   "source": [
    "print(orders['buy_ts'].max())"
   ]
  },
  {
   "cell_type": "code",
   "execution_count": null,
   "id": "fd489f01-4874-4444-a3de-d5d529fa21fd",
   "metadata": {},
   "outputs": [
    {
     "data": {
      "text/plain": [
       "0"
      ]
     },
     "execution_count": 30,
     "metadata": {},
     "output_type": "execute_result"
    }
   ],
   "source": [
    "orders.duplicated().sum()"
   ]
  },
  {
   "cell_type": "code",
   "execution_count": null,
   "id": "bbc812b1-3aa8-4243-809b-3f869e162c28",
   "metadata": {},
   "outputs": [
    {
     "data": {
      "text/plain": [
       "buy_ts     0\n",
       "revenue    0\n",
       "uid        0\n",
       "dtype: int64"
      ]
     },
     "execution_count": 31,
     "metadata": {},
     "output_type": "execute_result"
    }
   ],
   "source": [
    "orders.isna().sum()"
   ]
  },
  {
   "cell_type": "markdown",
   "id": "2a3077f3-1a1e-442b-8060-c40faf004a11",
   "metadata": {},
   "source": [
    "**costs**"
   ]
  },
  {
   "cell_type": "code",
   "execution_count": null,
   "id": "8a99bd29-0aed-4a4d-a1d9-784ed4be0881",
   "metadata": {},
   "outputs": [
    {
     "data": {
      "text/html": [
       "<div>\n",
       "<style scoped>\n",
       "    .dataframe tbody tr th:only-of-type {\n",
       "        vertical-align: middle;\n",
       "    }\n",
       "\n",
       "    .dataframe tbody tr th {\n",
       "        vertical-align: top;\n",
       "    }\n",
       "\n",
       "    .dataframe thead th {\n",
       "        text-align: right;\n",
       "    }\n",
       "</style>\n",
       "<table border=\"1\" class=\"dataframe\">\n",
       "  <thead>\n",
       "    <tr style=\"text-align: right;\">\n",
       "      <th></th>\n",
       "      <th>source_id</th>\n",
       "      <th>dt</th>\n",
       "      <th>costs</th>\n",
       "    </tr>\n",
       "  </thead>\n",
       "  <tbody>\n",
       "    <tr>\n",
       "      <th>0</th>\n",
       "      <td>1</td>\n",
       "      <td>2017-06-01</td>\n",
       "      <td>75.20</td>\n",
       "    </tr>\n",
       "    <tr>\n",
       "      <th>1</th>\n",
       "      <td>1</td>\n",
       "      <td>2017-06-02</td>\n",
       "      <td>62.25</td>\n",
       "    </tr>\n",
       "    <tr>\n",
       "      <th>2</th>\n",
       "      <td>1</td>\n",
       "      <td>2017-06-03</td>\n",
       "      <td>36.53</td>\n",
       "    </tr>\n",
       "    <tr>\n",
       "      <th>3</th>\n",
       "      <td>1</td>\n",
       "      <td>2017-06-04</td>\n",
       "      <td>55.00</td>\n",
       "    </tr>\n",
       "    <tr>\n",
       "      <th>4</th>\n",
       "      <td>1</td>\n",
       "      <td>2017-06-05</td>\n",
       "      <td>57.08</td>\n",
       "    </tr>\n",
       "  </tbody>\n",
       "</table>\n",
       "</div>"
      ],
      "text/plain": [
       "   source_id          dt  costs\n",
       "0          1  2017-06-01  75.20\n",
       "1          1  2017-06-02  62.25\n",
       "2          1  2017-06-03  36.53\n",
       "3          1  2017-06-04  55.00\n",
       "4          1  2017-06-05  57.08"
      ]
     },
     "execution_count": 32,
     "metadata": {},
     "output_type": "execute_result"
    }
   ],
   "source": [
    "costs.head()"
   ]
  },
  {
   "cell_type": "code",
   "execution_count": null,
   "id": "07a4f25e-0669-4132-9a74-8317bdcf9422",
   "metadata": {},
   "outputs": [
    {
     "name": "stdout",
     "output_type": "stream",
     "text": [
      "<class 'pandas.core.frame.DataFrame'>\n",
      "RangeIndex: 2542 entries, 0 to 2541\n",
      "Data columns (total 3 columns):\n",
      " #   Column     Non-Null Count  Dtype  \n",
      "---  ------     --------------  -----  \n",
      " 0   source_id  2542 non-null   int64  \n",
      " 1   dt         2542 non-null   object \n",
      " 2   costs      2542 non-null   float64\n",
      "dtypes: float64(1), int64(1), object(1)\n",
      "memory usage: 59.7+ KB\n"
     ]
    }
   ],
   "source": [
    "costs.info()"
   ]
  },
  {
   "cell_type": "code",
   "execution_count": null,
   "id": "18f2b913-ebb5-44c3-8532-97d973efe8c0",
   "metadata": {},
   "outputs": [],
   "source": [
    "costs['dt'] = pd.to_datetime(costs['dt'], format = '%Y-%m-%d' )"
   ]
  },
  {
   "cell_type": "code",
   "execution_count": null,
   "id": "50794f73-db97-4bdb-b52c-89386d894607",
   "metadata": {},
   "outputs": [
    {
     "name": "stdout",
     "output_type": "stream",
     "text": [
      "source_id             int64\n",
      "dt           datetime64[ns]\n",
      "costs               float64\n",
      "dtype: object\n"
     ]
    }
   ],
   "source": [
    "print(costs.dtypes)"
   ]
  },
  {
   "cell_type": "code",
   "execution_count": null,
   "id": "edd093ed-8a0b-4b27-b21c-288bbaa5c038",
   "metadata": {},
   "outputs": [
    {
     "data": {
      "text/html": [
       "<div>\n",
       "<style scoped>\n",
       "    .dataframe tbody tr th:only-of-type {\n",
       "        vertical-align: middle;\n",
       "    }\n",
       "\n",
       "    .dataframe tbody tr th {\n",
       "        vertical-align: top;\n",
       "    }\n",
       "\n",
       "    .dataframe thead th {\n",
       "        text-align: right;\n",
       "    }\n",
       "</style>\n",
       "<table border=\"1\" class=\"dataframe\">\n",
       "  <thead>\n",
       "    <tr style=\"text-align: right;\">\n",
       "      <th></th>\n",
       "      <th>source_id</th>\n",
       "      <th>dt</th>\n",
       "      <th>costs</th>\n",
       "    </tr>\n",
       "  </thead>\n",
       "  <tbody>\n",
       "    <tr>\n",
       "      <th>count</th>\n",
       "      <td>2542.000000</td>\n",
       "      <td>2542</td>\n",
       "      <td>2542.000000</td>\n",
       "    </tr>\n",
       "    <tr>\n",
       "      <th>mean</th>\n",
       "      <td>4.857199</td>\n",
       "      <td>2017-11-29 09:04:57.403619072</td>\n",
       "      <td>129.477427</td>\n",
       "    </tr>\n",
       "    <tr>\n",
       "      <th>min</th>\n",
       "      <td>1.000000</td>\n",
       "      <td>2017-06-01 00:00:00</td>\n",
       "      <td>0.540000</td>\n",
       "    </tr>\n",
       "    <tr>\n",
       "      <th>25%</th>\n",
       "      <td>2.000000</td>\n",
       "      <td>2017-08-30 00:00:00</td>\n",
       "      <td>21.945000</td>\n",
       "    </tr>\n",
       "    <tr>\n",
       "      <th>50%</th>\n",
       "      <td>4.000000</td>\n",
       "      <td>2017-11-29 00:00:00</td>\n",
       "      <td>77.295000</td>\n",
       "    </tr>\n",
       "    <tr>\n",
       "      <th>75%</th>\n",
       "      <td>9.000000</td>\n",
       "      <td>2018-02-28 00:00:00</td>\n",
       "      <td>170.065000</td>\n",
       "    </tr>\n",
       "    <tr>\n",
       "      <th>max</th>\n",
       "      <td>10.000000</td>\n",
       "      <td>2018-05-31 00:00:00</td>\n",
       "      <td>1788.280000</td>\n",
       "    </tr>\n",
       "    <tr>\n",
       "      <th>std</th>\n",
       "      <td>3.181581</td>\n",
       "      <td>NaN</td>\n",
       "      <td>156.296628</td>\n",
       "    </tr>\n",
       "  </tbody>\n",
       "</table>\n",
       "</div>"
      ],
      "text/plain": [
       "         source_id                             dt        costs\n",
       "count  2542.000000                           2542  2542.000000\n",
       "mean      4.857199  2017-11-29 09:04:57.403619072   129.477427\n",
       "min       1.000000            2017-06-01 00:00:00     0.540000\n",
       "25%       2.000000            2017-08-30 00:00:00    21.945000\n",
       "50%       4.000000            2017-11-29 00:00:00    77.295000\n",
       "75%       9.000000            2018-02-28 00:00:00   170.065000\n",
       "max      10.000000            2018-05-31 00:00:00  1788.280000\n",
       "std       3.181581                            NaN   156.296628"
      ]
     },
     "execution_count": 36,
     "metadata": {},
     "output_type": "execute_result"
    }
   ],
   "source": [
    "costs.describe()"
   ]
  },
  {
   "cell_type": "code",
   "execution_count": null,
   "id": "a111dc4f-34b7-4f1e-8004-53ee186d2bd4",
   "metadata": {},
   "outputs": [
    {
     "name": "stdout",
     "output_type": "stream",
     "text": [
      "2017-06-01 00:00:00\n"
     ]
    }
   ],
   "source": [
    "print(costs['dt'].min())"
   ]
  },
  {
   "cell_type": "code",
   "execution_count": null,
   "id": "0e3932f0-20b5-4995-bad1-6f4923a9366f",
   "metadata": {},
   "outputs": [
    {
     "name": "stdout",
     "output_type": "stream",
     "text": [
      "2018-05-31 00:00:00\n"
     ]
    }
   ],
   "source": [
    "print(costs['dt'].max())"
   ]
  },
  {
   "cell_type": "code",
   "execution_count": null,
   "id": "993175e4-7677-4b15-bc44-21e5e9c3f826",
   "metadata": {},
   "outputs": [
    {
     "data": {
      "text/plain": [
       "0"
      ]
     },
     "execution_count": 39,
     "metadata": {},
     "output_type": "execute_result"
    }
   ],
   "source": [
    "costs.duplicated().sum()"
   ]
  },
  {
   "cell_type": "code",
   "execution_count": null,
   "id": "a17985cc-0139-485e-939d-8806e7aad47e",
   "metadata": {},
   "outputs": [
    {
     "data": {
      "text/plain": [
       "source_id    0\n",
       "dt           0\n",
       "costs        0\n",
       "dtype: int64"
      ]
     },
     "execution_count": 40,
     "metadata": {},
     "output_type": "execute_result"
    }
   ],
   "source": [
    "costs.isna().sum()"
   ]
  },
  {
   "cell_type": "markdown",
   "id": "551805aa-50e0-465e-af73-83e33909a3b4",
   "metadata": {},
   "source": [
    "**Observaciones**\n",
    "Se uniformaron los nombres de las columnas a minúsculas, se remplazaron los espacios vacíos' '  por '_' y en el caso de las columnas que tuvieran información de fecha se cambio su tipo de dato object por date time, se examinó si habían datos duplicados y nulos los cuales no se encontraron."
   ]
  },
  {
   "cell_type": "markdown",
   "id": "12a07a40-33c9-4958-b50d-88b0e65ef71d",
   "metadata": {},
   "source": [
    "# Análisis exploratorio y cálculo de métricas"
   ]
  },
  {
   "cell_type": "markdown",
   "id": "91d2903f-eea9-466d-a8b4-1fd4d090f667",
   "metadata": {},
   "source": [
    "**Visitas**"
   ]
  },
  {
   "cell_type": "markdown",
   "id": "81b57985-0872-44c5-90b3-8f8f7e3be36e",
   "metadata": {},
   "source": [
    "¿Cuántas personas lo usan cada día, semana y mes?"
   ]
  },
  {
   "cell_type": "code",
   "execution_count": null,
   "id": "6bab61e0-fd6c-4d5c-ad94-e2da45ebd997",
   "metadata": {},
   "outputs": [],
   "source": [
    "visits['date'] = visits['start_ts'].dt.date"
   ]
  },
  {
   "cell_type": "code",
   "execution_count": null,
   "id": "c77a3aa0-2295-49fc-9ea4-829b3da765d3",
   "metadata": {},
   "outputs": [],
   "source": [
    "visits_per_day = visits.groupby('date')['uid'].nunique().sort_index()"
   ]
  },
  {
   "cell_type": "code",
   "execution_count": null,
   "id": "fc6d8fd1-5e67-451b-89a4-89877ab86e03",
   "metadata": {},
   "outputs": [
    {
     "name": "stdout",
     "output_type": "stream",
     "text": [
      "date\n",
      "2017-06-01     605\n",
      "2017-06-02     608\n",
      "2017-06-03     445\n",
      "2017-06-04     476\n",
      "2017-06-05     820\n",
      "              ... \n",
      "2018-05-27     620\n",
      "2018-05-28    1039\n",
      "2018-05-29     948\n",
      "2018-05-30    1289\n",
      "2018-05-31    1997\n",
      "Name: uid, Length: 364, dtype: int64\n"
     ]
    }
   ],
   "source": [
    "print(visits_per_day)"
   ]
  },
  {
   "cell_type": "code",
   "execution_count": null,
   "id": "160dc4ba-15e6-479a-9ab4-786e61315aa3",
   "metadata": {},
   "outputs": [],
   "source": [
    "visits['week'] = visits['start_ts'].dt.isocalendar().week"
   ]
  },
  {
   "cell_type": "code",
   "execution_count": null,
   "id": "5bd273b8-d81a-401c-ba48-2da510f5ec43",
   "metadata": {},
   "outputs": [],
   "source": [
    "visits_per_week = visits.groupby('week')['uid'].nunique().sort_index()"
   ]
  },
  {
   "cell_type": "code",
   "execution_count": null,
   "id": "deb235f4-33b2-417d-81f1-236b73858083",
   "metadata": {},
   "outputs": [
    {
     "name": "stdout",
     "output_type": "stream",
     "text": [
      "week\n",
      "1      6918\n",
      "2      6703\n",
      "3      6972\n",
      "4      7060\n",
      "5      8111\n",
      "6      7908\n",
      "7      7759\n",
      "8      7518\n",
      "9      7395\n",
      "10     6844\n",
      "11     6225\n",
      "12     7898\n",
      "13     4940\n",
      "14     5383\n",
      "15     5494\n",
      "16     5740\n",
      "17     5503\n",
      "18     3916\n",
      "19     4128\n",
      "20     5070\n",
      "21     4995\n",
      "22     6867\n",
      "23     4129\n",
      "24     2812\n",
      "25     2878\n",
      "26     3064\n",
      "27     3294\n",
      "28     4355\n",
      "29     3841\n",
      "30     2655\n",
      "31     2364\n",
      "32     2444\n",
      "33     2746\n",
      "34     3116\n",
      "35     3694\n",
      "36     4412\n",
      "37     4319\n",
      "38     4874\n",
      "39     6241\n",
      "40     7612\n",
      "41     7074\n",
      "42     7148\n",
      "43     7401\n",
      "44     7480\n",
      "45     7179\n",
      "46     8117\n",
      "47    10586\n",
      "48     8166\n",
      "49     8407\n",
      "50     8214\n",
      "51     7172\n",
      "52     7774\n",
      "Name: uid, dtype: int64\n"
     ]
    }
   ],
   "source": [
    "print(visits_per_week)"
   ]
  },
  {
   "cell_type": "code",
   "execution_count": null,
   "id": "5bc0ff05-7832-400e-b23f-57495e291e23",
   "metadata": {},
   "outputs": [],
   "source": [
    "visits['month'] = visits['start_ts'].dt.month"
   ]
  },
  {
   "cell_type": "code",
   "execution_count": null,
   "id": "8adc0cb8-40cb-4562-9bf5-cce2c3722638",
   "metadata": {},
   "outputs": [],
   "source": [
    "visits_per_month = visits.groupby('month')['uid'].nunique().sort_index()"
   ]
  },
  {
   "cell_type": "code",
   "execution_count": null,
   "id": "067e3b1a-4887-4884-8e97-d1109dd6652d",
   "metadata": {},
   "outputs": [
    {
     "name": "stdout",
     "output_type": "stream",
     "text": [
      "month\n",
      "1     28716\n",
      "2     28749\n",
      "3     27473\n",
      "4     21008\n",
      "5     20701\n",
      "6     13259\n",
      "7     14183\n",
      "8     11631\n",
      "9     18975\n",
      "10    29692\n",
      "11    32797\n",
      "12    31557\n",
      "Name: uid, dtype: int64\n"
     ]
    }
   ],
   "source": [
    "print(visits_per_month)"
   ]
  },
  {
   "cell_type": "code",
   "execution_count": null,
   "id": "8c519bf9-fc39-4dcf-84c4-6fffc9314850",
   "metadata": {},
   "outputs": [
    {
     "name": "stdout",
     "output_type": "stream",
     "text": [
      "Promedio de visitas al día: 907.9917582417582\n"
     ]
    }
   ],
   "source": [
    "print('Promedio de visitas al día:', visits_per_day.mean())"
   ]
  },
  {
   "cell_type": "code",
   "execution_count": null,
   "id": "142164c2-83ee-4c39-ba96-2fecd7f06d04",
   "metadata": {},
   "outputs": [
    {
     "name": "stdout",
     "output_type": "stream",
     "text": [
      "Promedio de visitas a la semana: 5825.288461538462\n"
     ]
    }
   ],
   "source": [
    "print('Promedio de visitas a la semana:', visits_per_week.mean())"
   ]
  },
  {
   "cell_type": "code",
   "execution_count": null,
   "id": "371f1081-1e40-4904-9404-f028fe7c17fb",
   "metadata": {},
   "outputs": [
    {
     "name": "stdout",
     "output_type": "stream",
     "text": [
      "Promedio de visitas al mes: 23228.416666666668\n"
     ]
    }
   ],
   "source": [
    "print('Promedio de visitas al mes:', visits_per_month.mean())"
   ]
  },
  {
   "cell_type": "code",
   "execution_count": null,
   "id": "dd5ef02f-b3a8-499f-bd70-0313d48a624e",
   "metadata": {},
   "outputs": [
    {
     "data": {
      "text/plain": [
       "[Text(0.5, 1.0, 'Visitas por mes'),\n",
       " Text(0.5, 0, 'mes'),\n",
       " Text(0, 0.5, 'usuarios')]"
      ]
     },
     "execution_count": 53,
     "metadata": {},
     "output_type": "execute_result"
    },
    {
     "data": {
      "image/png": "[encoded data removed]",
      "text/plain": [
       "<Figure size 1900x500 with 3 Axes>"
      ]
     },
     "metadata": {},
     "output_type": "display_data"
    }
   ],
   "source": [
    "fig, ax = plt.subplots(1,3, figsize=(19, 5))\n",
    "\n",
    "ax[0].plot(visits_per_day)\n",
    "ax[0].set(title= 'Visitas por día', xlabel='día', ylabel='usuarios')\n",
    "ax[0].tick_params(axis='x', rotation=30)\n",
    "ax[1].plot(visits_per_week)\n",
    "ax[1].set(title= 'Visitas por semana',xlabel='semana', ylabel='usuarios')\n",
    "ax[2].plot(visits_per_month)\n",
    "ax[2].set(title= 'Visitas por mes', xlabel='mes', ylabel='usuarios')\n"
   ]
  },
  {
   "cell_type": "markdown",
   "id": "ec604b3e-9f5a-4ad8-a6df-a4a3b60211d7",
   "metadata": {},
   "source": [
    "**Observaciones** Obtuvimos el promedio de visitas por día 908, por semana 5825 y por mes 23228, cuando gráficamos los resultados de las visitas notamos que un día se disparan las visitas y coicide con la fecha 24-11-2017 que fue 'Black Friday'. El comportamiento de visitas por semana y por mes son sumilares en el sentido que disminuyen a partir de oct, nov y dic del 2017 y empiezan a recuperarse en febrero del 2018."
   ]
  },
  {
   "cell_type": "markdown",
   "id": "5804f9ba-fcba-4d53-95d0-86e60583abfe",
   "metadata": {},
   "source": [
    "¿Cuántas sesiones hay por día? (Un usuario puede tener más de una sesión)."
   ]
  },
  {
   "cell_type": "code",
   "execution_count": null,
   "id": "59364cab-3272-4e02-8cc4-ff1613223503",
   "metadata": {},
   "outputs": [],
   "source": [
    "sesiones_por_usuario = visits.groupby('date').agg({'uid':['count', 'nunique']})"
   ]
  },
  {
   "cell_type": "code",
   "execution_count": null,
   "id": "82ea1d54-fd7c-4faf-bb7d-cf3c1ac4904a",
   "metadata": {},
   "outputs": [],
   "source": [
    "sesiones_por_usuario.columns = ['n_sesiones', 'n_usuarios']"
   ]
  },
  {
   "cell_type": "code",
   "execution_count": null,
   "id": "e9786ce8-a614-476f-a466-66f8a1ea990f",
   "metadata": {},
   "outputs": [
    {
     "name": "stdout",
     "output_type": "stream",
     "text": [
      "            n_sesiones  n_usuarios\n",
      "date                              \n",
      "2017-06-01         664         605\n",
      "2017-06-02         658         608\n",
      "2017-06-03         477         445\n",
      "2017-06-04         510         476\n",
      "2017-06-05         893         820\n",
      "...                ...         ...\n",
      "2018-05-27         672         620\n",
      "2018-05-28        1156        1039\n",
      "2018-05-29        1035         948\n",
      "2018-05-30        1410        1289\n",
      "2018-05-31        2256        1997\n",
      "\n",
      "[364 rows x 2 columns]\n"
     ]
    }
   ],
   "source": [
    "print(sesiones_por_usuario)"
   ]
  },
  {
   "cell_type": "code",
   "execution_count": null,
   "id": "52d0dcb3-1f99-4645-ae2a-64d790533ca7",
   "metadata": {},
   "outputs": [],
   "source": [
    "sesiones_por_usuario['sesion_por_usuario'] = sesiones_por_usuario['n_sesiones']/sesiones_por_usuario['n_usuarios']"
   ]
  },
  {
   "cell_type": "code",
   "execution_count": null,
   "id": "12ff5e62-9919-418a-94cd-b899d64e06e2",
   "metadata": {},
   "outputs": [
    {
     "data": {
      "text/plain": [
       "1.082169644003972"
      ]
     },
     "execution_count": 58,
     "metadata": {},
     "output_type": "execute_result"
    }
   ],
   "source": [
    "sesiones_por_usuario['sesion_por_usuario'].mean()"
   ]
  },
  {
   "cell_type": "markdown",
   "id": "c5f7607f-b362-49e9-971e-72f87604571c",
   "metadata": {},
   "source": [
    "El promedio de sesiones por usuario al día es 1.0821"
   ]
  },
  {
   "cell_type": "code",
   "execution_count": null,
   "id": "6a8d660a-0a24-4605-92bf-d31adb424a8d",
   "metadata": {},
   "outputs": [
    {
     "data": {
      "text/plain": [
       "[Text(0.5, 1.0, 'Sesiones por usuario'),\n",
       " Text(0.5, 0, 'Fecha'),\n",
       " Text(0, 0.5, 'Cantidad de sesiones al día')]"
      ]
     },
     "execution_count": 59,
     "metadata": {},
     "output_type": "execute_result"
    },
    {
     "data": {
      "image/png": "[encoded data removed]",
      "text/plain": [
       "<Figure size 1200x500 with 1 Axes>"
      ]
     },
     "metadata": {},
     "output_type": "display_data"
    }
   ],
   "source": [
    "plt.figure(figsize = (12, 5))\n",
    "sesiones_por_usuario['sesion_por_usuario'].plot().set(title = 'Sesiones por usuario', xlabel='Fecha', ylabel='Cantidad de sesiones al día')"
   ]
  },
  {
   "cell_type": "code",
   "execution_count": null,
   "id": "8cf612c6-7584-4cdb-857b-c256f439d3d9",
   "metadata": {},
   "outputs": [
    {
     "name": "stdout",
     "output_type": "stream",
     "text": [
      "El promedio de sesiones por usuario es de: 1.08\n"
     ]
    }
   ],
   "source": [
    "print('El promedio de sesiones por usuario es de:', round(sesiones_por_usuario['sesion_por_usuario'].mean(), 2))"
   ]
  },
  {
   "cell_type": "code",
   "execution_count": null,
   "id": "cff3cc41-f2ec-4fe7-bf78-e4b8705aa526",
   "metadata": {},
   "outputs": [],
   "source": [
    "visits['day'] = visits['start_ts'].dt.date"
   ]
  },
  {
   "cell_type": "code",
   "execution_count": null,
   "id": "352cf3fe-e245-45aa-a8a2-371b8bc93969",
   "metadata": {},
   "outputs": [],
   "source": [
    "session_per_day = visits.groupby('day')['uid'].count()"
   ]
  },
  {
   "cell_type": "code",
   "execution_count": null,
   "id": "837a62b0-3495-4a90-8ee7-4264363e7de1",
   "metadata": {},
   "outputs": [
    {
     "name": "stdout",
     "output_type": "stream",
     "text": [
      "day\n",
      "2017-06-01     664\n",
      "2017-06-02     658\n",
      "2017-06-03     477\n",
      "2017-06-04     510\n",
      "2017-06-05     893\n",
      "              ... \n",
      "2018-05-27     672\n",
      "2018-05-28    1156\n",
      "2018-05-29    1035\n",
      "2018-05-30    1410\n",
      "2018-05-31    2256\n",
      "Name: uid, Length: 364, dtype: int64\n"
     ]
    }
   ],
   "source": [
    "print(session_per_day)"
   ]
  },
  {
   "cell_type": "code",
   "execution_count": null,
   "id": "676a8026-2681-4505-8ea0-8366076cc73d",
   "metadata": {},
   "outputs": [],
   "source": [
    "max_visits_date = session_per_day.idxmax()"
   ]
  },
  {
   "cell_type": "code",
   "execution_count": null,
   "id": "8a83934d-097b-4dcb-ab04-dc902bde5e73",
   "metadata": {},
   "outputs": [],
   "source": [
    "max_visits_count = session_per_day.max()"
   ]
  },
  {
   "cell_type": "code",
   "execution_count": null,
   "id": "2d943b37-5af7-483e-b42b-72a47d894117",
   "metadata": {},
   "outputs": [
    {
     "name": "stdout",
     "output_type": "stream",
     "text": [
      "La fecha con el mayor número de visitas fue 2017-11-24 con 4042 usuarios.\n"
     ]
    }
   ],
   "source": [
    "print(f\"La fecha con el mayor número de visitas fue {max_visits_date} con {max_visits_count} usuarios.\")"
   ]
  },
  {
   "cell_type": "code",
   "execution_count": null,
   "id": "4706bdb4-3023-498b-b691-cd77b14c4c94",
   "metadata": {},
   "outputs": [],
   "source": [
    "min_visits_date = session_per_day.idxmin()"
   ]
  },
  {
   "cell_type": "code",
   "execution_count": null,
   "id": "3e50c851-7f0d-4615-b30c-4dfe48a5c31b",
   "metadata": {},
   "outputs": [],
   "source": [
    "min_visits_count = session_per_day.min()"
   ]
  },
  {
   "cell_type": "code",
   "execution_count": null,
   "id": "29073a33-5c9d-42e9-b766-2fcb4665a873",
   "metadata": {},
   "outputs": [
    {
     "name": "stdout",
     "output_type": "stream",
     "text": [
      "La fecha con el minímo número de visitas fue 2018-03-31 con 1 usuarios.\n"
     ]
    }
   ],
   "source": [
    "print(f\"La fecha con el minímo número de visitas fue {min_visits_date} con {min_visits_count} usuarios.\")"
   ]
  },
  {
   "cell_type": "markdown",
   "id": "73b09aa9-9fe4-4d92-9ec9-9c504d915e05",
   "metadata": {},
   "source": [
    "**Observaciones** La fecha con el mayor número de visitas 2017-11-24 con 4042 usuarios, coincide con ser el 'Black Friday' en USA, día donde hay muchas rebajas y descuentos por lo que el número de compras se dispara lo que coincide con el aumento de número de usuarios."
   ]
  },
  {
   "cell_type": "markdown",
   "id": "3b5ee56a-382c-4a3b-86a0-acb23b18efbe",
   "metadata": {},
   "source": [
    "¿Cuál es la duración de cada sesión?"
   ]
  },
  {
   "cell_type": "code",
   "execution_count": null,
   "id": "0d80fc66-e844-44f9-99db-eb00a5220f58",
   "metadata": {},
   "outputs": [],
   "source": [
    "visits['session_duration'] = (visits['end_ts'] - visits['start_ts']).dt.seconds"
   ]
  },
  {
   "cell_type": "code",
   "execution_count": null,
   "id": "965d8024-585f-43ea-939b-37588d8de604",
   "metadata": {},
   "outputs": [
    {
     "data": {
      "text/plain": [
       "count    359400.000000\n",
       "mean        643.506489\n",
       "std        1016.334786\n",
       "min           0.000000\n",
       "25%         120.000000\n",
       "50%         300.000000\n",
       "75%         840.000000\n",
       "max       84480.000000\n",
       "Name: session_duration, dtype: float64"
      ]
     },
     "execution_count": 71,
     "metadata": {},
     "output_type": "execute_result"
    }
   ],
   "source": [
    "visits['session_duration'].describe()"
   ]
  },
  {
   "cell_type": "code",
   "execution_count": null,
   "id": "f5802d18-4b29-485d-bbbb-a6a6eeccccac",
   "metadata": {},
   "outputs": [
    {
     "data": {
      "image/png": "[encoded data removed]",
      "text/plain": [
       "<Figure size 1200x500 with 1 Axes>"
      ]
     },
     "metadata": {},
     "output_type": "display_data"
    }
   ],
   "source": [
    "plt.figure(figsize = (12, 5))\n",
    "visits['session_duration'].hist(bins=300).set(title= 'Distribución de la duración de las sesiones', xlabel='duracion(segundos)', ylabel='Cantidad de sesiones')\n",
    "plt.xlim(0,10000)\n",
    "plt.show()"
   ]
  },
  {
   "cell_type": "code",
   "execution_count": null,
   "id": "2878bcd2-8cc4-4310-b078-2474c9c99f5b",
   "metadata": {},
   "outputs": [
    {
     "name": "stdout",
     "output_type": "stream",
     "text": [
      "El promedio de la duración de una sesión es de:  11\n",
      "La mediana de la duración de una sesión es de:  5\n",
      "La moda de la duración de una sesión es de:  1\n"
     ]
    }
   ],
   "source": [
    "print('El promedio de la duración de una sesión es de: ', round(visits['session_duration'].mean()/60)) \n",
    "print('La mediana de la duración de una sesión es de: ', round(visits['session_duration'].median()/60)) \n",
    "print('La moda de la duración de una sesión es de: ', round(visits['session_duration'].mode()[0]/60))\n",
    "\n"
   ]
  },
  {
   "cell_type": "code",
   "execution_count": null,
   "id": "ae2bf21b-0ff1-4fe8-9be6-a981c69a542a",
   "metadata": {},
   "outputs": [
    {
     "name": "stdout",
     "output_type": "stream",
     "text": [
      "    device              end_ts  source_id            start_ts  \\\n",
      "0    touch 2017-12-20 17:38:00          4 2017-12-20 17:20:00   \n",
      "1  desktop 2018-02-19 17:21:00          2 2018-02-19 16:53:00   \n",
      "2    touch 2017-07-01 01:54:00          5 2017-07-01 01:54:00   \n",
      "3  desktop 2018-05-20 11:23:00          9 2018-05-20 10:59:00   \n",
      "4  desktop 2017-12-27 14:06:00          3 2017-12-27 14:06:00   \n",
      "5  desktop 2017-09-03 21:36:00          5 2017-09-03 21:35:00   \n",
      "6  desktop 2018-01-30 12:09:00          1 2018-01-30 11:13:00   \n",
      "7    touch 2017-11-05 15:15:00          3 2017-11-05 15:14:00   \n",
      "8  desktop 2017-07-19 10:44:00          3 2017-07-19 10:41:00   \n",
      "9  desktop 2017-11-08 13:43:00          5 2017-11-08 13:42:00   \n",
      "\n",
      "                    uid        date  week  month         day  session_duration  \n",
      "0  16879256277535980062  2017-12-20    51     12  2017-12-20              1080  \n",
      "1    104060357244891740  2018-02-19     8      2  2018-02-19              1680  \n",
      "2   7459035603376831527  2017-07-01    26      7  2017-07-01                 0  \n",
      "3  16174680259334210214  2018-05-20    20      5  2018-05-20              1440  \n",
      "4   9969694820036681168  2017-12-27    52     12  2017-12-27                 0  \n",
      "5  16007536194108375387  2017-09-03    35      9  2017-09-03                60  \n",
      "6   6661610529277171451  2018-01-30     5      1  2018-01-30              3360  \n",
      "7  11423865690854540312  2017-11-05    44     11  2017-11-05                60  \n",
      "8   2987360259350925644  2017-07-19    29      7  2017-07-19               180  \n",
      "9   1289240080042562063  2017-11-08    45     11  2017-11-08                60  \n"
     ]
    }
   ],
   "source": [
    "print(visits.head(10))"
   ]
  },
  {
   "cell_type": "code",
   "execution_count": null,
   "id": "d1ae44a2-4449-4d56-b0a9-5d547fb8a488",
   "metadata": {},
   "outputs": [
    {
     "name": "stdout",
     "output_type": "stream",
     "text": [
      "El promedio de la duración de la sesión: 643.506488592098\n"
     ]
    }
   ],
   "source": [
    "print('El promedio de la duración de la sesión:', visits['session_duration'].mean())"
   ]
  },
  {
   "cell_type": "markdown",
   "id": "b9d5d4bd-4048-4229-b06f-74b400d9fbd2",
   "metadata": {},
   "source": [
    "¿Con qué frecuencia los usuarios regresan? **RETENCION: si el cliente volvió a visitar el negocio después de la primera visita**"
   ]
  },
  {
   "cell_type": "code",
   "execution_count": null,
   "id": "70d1f981-159b-42ef-bc2d-7e99cd30fc0f",
   "metadata": {},
   "outputs": [],
   "source": [
    "primeras_visitas = visits.groupby('uid')['start_ts'].min().reset_index()"
   ]
  },
  {
   "cell_type": "code",
   "execution_count": null,
   "id": "1de6239f-c8ff-4287-af04-37dd237bf3a8",
   "metadata": {},
   "outputs": [],
   "source": [
    "primeras_visitas.columns = ['uid', 'primera_sesion_start_ts']"
   ]
  },
  {
   "cell_type": "code",
   "execution_count": null,
   "id": "b07fccd4-edd9-4b0e-a4a1-f19d76163f12",
   "metadata": {},
   "outputs": [],
   "source": [
    "primeras_visitas['primera_sesion_fecha'] = primeras_visitas['primera_sesion_start_ts'].dt.date \n",
    "primeras_visitas['primera_sesion_mes'] = primeras_visitas['primera_sesion_start_ts'].dt.month"
   ]
  },
  {
   "cell_type": "code",
   "execution_count": null,
   "id": "44e78720-308e-4268-9074-16d2da6e1794",
   "metadata": {},
   "outputs": [
    {
     "data": {
      "text/html": [
       "<div>\n",
       "<style scoped>\n",
       "    .dataframe tbody tr th:only-of-type {\n",
       "        vertical-align: middle;\n",
       "    }\n",
       "\n",
       "    .dataframe tbody tr th {\n",
       "        vertical-align: top;\n",
       "    }\n",
       "\n",
       "    .dataframe thead th {\n",
       "        text-align: right;\n",
       "    }\n",
       "</style>\n",
       "<table border=\"1\" class=\"dataframe\">\n",
       "  <thead>\n",
       "    <tr style=\"text-align: right;\">\n",
       "      <th></th>\n",
       "      <th>uid</th>\n",
       "      <th>primera_sesion_start_ts</th>\n",
       "      <th>primera_sesion_fecha</th>\n",
       "      <th>primera_sesion_mes</th>\n",
       "    </tr>\n",
       "  </thead>\n",
       "  <tbody>\n",
       "    <tr>\n",
       "      <th>0</th>\n",
       "      <td>11863502262781</td>\n",
       "      <td>2018-03-01 17:27:00</td>\n",
       "      <td>2018-03-01</td>\n",
       "      <td>3</td>\n",
       "    </tr>\n",
       "    <tr>\n",
       "      <th>1</th>\n",
       "      <td>49537067089222</td>\n",
       "      <td>2018-02-06 15:55:00</td>\n",
       "      <td>2018-02-06</td>\n",
       "      <td>2</td>\n",
       "    </tr>\n",
       "    <tr>\n",
       "      <th>2</th>\n",
       "      <td>297729379853735</td>\n",
       "      <td>2017-06-07 18:47:00</td>\n",
       "      <td>2017-06-07</td>\n",
       "      <td>6</td>\n",
       "    </tr>\n",
       "    <tr>\n",
       "      <th>3</th>\n",
       "      <td>313578113262317</td>\n",
       "      <td>2017-09-18 22:49:00</td>\n",
       "      <td>2017-09-18</td>\n",
       "      <td>9</td>\n",
       "    </tr>\n",
       "    <tr>\n",
       "      <th>4</th>\n",
       "      <td>325320750514679</td>\n",
       "      <td>2017-09-30 14:29:00</td>\n",
       "      <td>2017-09-30</td>\n",
       "      <td>9</td>\n",
       "    </tr>\n",
       "  </tbody>\n",
       "</table>\n",
       "</div>"
      ],
      "text/plain": [
       "               uid primera_sesion_start_ts primera_sesion_fecha  \\\n",
       "0   11863502262781     2018-03-01 17:27:00           2018-03-01   \n",
       "1   49537067089222     2018-02-06 15:55:00           2018-02-06   \n",
       "2  297729379853735     2017-06-07 18:47:00           2017-06-07   \n",
       "3  313578113262317     2017-09-18 22:49:00           2017-09-18   \n",
       "4  325320750514679     2017-09-30 14:29:00           2017-09-30   \n",
       "\n",
       "   primera_sesion_mes  \n",
       "0                   3  \n",
       "1                   2  \n",
       "2                   6  \n",
       "3                   9  \n",
       "4                   9  "
      ]
     },
     "execution_count": 79,
     "metadata": {},
     "output_type": "execute_result"
    }
   ],
   "source": [
    "primeras_visitas.head()"
   ]
  },
  {
   "cell_type": "code",
   "execution_count": null,
   "id": "f4bd781f-8618-4be8-9d4e-32fe59820d7b",
   "metadata": {},
   "outputs": [],
   "source": [
    "visitas_full = pd.merge(primeras_visitas, visits, on ='uid')"
   ]
  },
  {
   "cell_type": "code",
   "execution_count": null,
   "id": "b1520004-0e61-4357-a82d-ac3057eda7a4",
   "metadata": {},
   "outputs": [
    {
     "data": {
      "text/html": [
       "<div>\n",
       "<style scoped>\n",
       "    .dataframe tbody tr th:only-of-type {\n",
       "        vertical-align: middle;\n",
       "    }\n",
       "\n",
       "    .dataframe tbody tr th {\n",
       "        vertical-align: top;\n",
       "    }\n",
       "\n",
       "    .dataframe thead th {\n",
       "        text-align: right;\n",
       "    }\n",
       "</style>\n",
       "<table border=\"1\" class=\"dataframe\">\n",
       "  <thead>\n",
       "    <tr style=\"text-align: right;\">\n",
       "      <th></th>\n",
       "      <th>uid</th>\n",
       "      <th>primera_sesion_start_ts</th>\n",
       "      <th>primera_sesion_fecha</th>\n",
       "      <th>primera_sesion_mes</th>\n",
       "      <th>device</th>\n",
       "      <th>end_ts</th>\n",
       "      <th>source_id</th>\n",
       "      <th>start_ts</th>\n",
       "      <th>date</th>\n",
       "      <th>week</th>\n",
       "      <th>month</th>\n",
       "      <th>day</th>\n",
       "      <th>session_duration</th>\n",
       "    </tr>\n",
       "  </thead>\n",
       "  <tbody>\n",
       "    <tr>\n",
       "      <th>0</th>\n",
       "      <td>11863502262781</td>\n",
       "      <td>2018-03-01 17:27:00</td>\n",
       "      <td>2018-03-01</td>\n",
       "      <td>3</td>\n",
       "      <td>touch</td>\n",
       "      <td>2018-03-01 17:33:00</td>\n",
       "      <td>3</td>\n",
       "      <td>2018-03-01 17:27:00</td>\n",
       "      <td>2018-03-01</td>\n",
       "      <td>9</td>\n",
       "      <td>3</td>\n",
       "      <td>2018-03-01</td>\n",
       "      <td>360</td>\n",
       "    </tr>\n",
       "    <tr>\n",
       "      <th>1</th>\n",
       "      <td>49537067089222</td>\n",
       "      <td>2018-02-06 15:55:00</td>\n",
       "      <td>2018-02-06</td>\n",
       "      <td>2</td>\n",
       "      <td>touch</td>\n",
       "      <td>2018-02-06 15:57:00</td>\n",
       "      <td>2</td>\n",
       "      <td>2018-02-06 15:55:00</td>\n",
       "      <td>2018-02-06</td>\n",
       "      <td>6</td>\n",
       "      <td>2</td>\n",
       "      <td>2018-02-06</td>\n",
       "      <td>120</td>\n",
       "    </tr>\n",
       "    <tr>\n",
       "      <th>2</th>\n",
       "      <td>297729379853735</td>\n",
       "      <td>2017-06-07 18:47:00</td>\n",
       "      <td>2017-06-07</td>\n",
       "      <td>6</td>\n",
       "      <td>desktop</td>\n",
       "      <td>2017-06-07 18:48:00</td>\n",
       "      <td>3</td>\n",
       "      <td>2017-06-07 18:47:00</td>\n",
       "      <td>2017-06-07</td>\n",
       "      <td>23</td>\n",
       "      <td>6</td>\n",
       "      <td>2017-06-07</td>\n",
       "      <td>60</td>\n",
       "    </tr>\n",
       "    <tr>\n",
       "      <th>3</th>\n",
       "      <td>313578113262317</td>\n",
       "      <td>2017-09-18 22:49:00</td>\n",
       "      <td>2017-09-18</td>\n",
       "      <td>9</td>\n",
       "      <td>desktop</td>\n",
       "      <td>2018-03-11 17:29:00</td>\n",
       "      <td>2</td>\n",
       "      <td>2018-03-11 17:23:00</td>\n",
       "      <td>2018-03-11</td>\n",
       "      <td>10</td>\n",
       "      <td>3</td>\n",
       "      <td>2018-03-11</td>\n",
       "      <td>360</td>\n",
       "    </tr>\n",
       "    <tr>\n",
       "      <th>4</th>\n",
       "      <td>313578113262317</td>\n",
       "      <td>2017-09-18 22:49:00</td>\n",
       "      <td>2017-09-18</td>\n",
       "      <td>9</td>\n",
       "      <td>desktop</td>\n",
       "      <td>2017-09-18 23:07:00</td>\n",
       "      <td>2</td>\n",
       "      <td>2017-09-18 22:49:00</td>\n",
       "      <td>2017-09-18</td>\n",
       "      <td>38</td>\n",
       "      <td>9</td>\n",
       "      <td>2017-09-18</td>\n",
       "      <td>1080</td>\n",
       "    </tr>\n",
       "  </tbody>\n",
       "</table>\n",
       "</div>"
      ],
      "text/plain": [
       "               uid primera_sesion_start_ts primera_sesion_fecha  \\\n",
       "0   11863502262781     2018-03-01 17:27:00           2018-03-01   \n",
       "1   49537067089222     2018-02-06 15:55:00           2018-02-06   \n",
       "2  297729379853735     2017-06-07 18:47:00           2017-06-07   \n",
       "3  313578113262317     2017-09-18 22:49:00           2017-09-18   \n",
       "4  313578113262317     2017-09-18 22:49:00           2017-09-18   \n",
       "\n",
       "   primera_sesion_mes   device              end_ts  source_id  \\\n",
       "0                   3    touch 2018-03-01 17:33:00          3   \n",
       "1                   2    touch 2018-02-06 15:57:00          2   \n",
       "2                   6  desktop 2017-06-07 18:48:00          3   \n",
       "3                   9  desktop 2018-03-11 17:29:00          2   \n",
       "4                   9  desktop 2017-09-18 23:07:00          2   \n",
       "\n",
       "             start_ts        date  week  month         day  session_duration  \n",
       "0 2018-03-01 17:27:00  2018-03-01     9      3  2018-03-01               360  \n",
       "1 2018-02-06 15:55:00  2018-02-06     6      2  2018-02-06               120  \n",
       "2 2017-06-07 18:47:00  2017-06-07    23      6  2017-06-07                60  \n",
       "3 2018-03-11 17:23:00  2018-03-11    10      3  2018-03-11               360  \n",
       "4 2017-09-18 22:49:00  2017-09-18    38      9  2017-09-18              1080  "
      ]
     },
     "execution_count": 81,
     "metadata": {},
     "output_type": "execute_result"
    }
   ],
   "source": [
    "visitas_full.head()"
   ]
  },
  {
   "cell_type": "code",
   "execution_count": null,
   "id": "a3f25901-40b1-48e6-bc5e-bd6a622b26d9",
   "metadata": {},
   "outputs": [],
   "source": [
    "visitas_full['edad_meses'] = ((visitas_full['date'] - visitas_full['primera_sesion_fecha'])/(30*np.timedelta64(1, 'D'))).round().astype('int')"
   ]
  },
  {
   "cell_type": "code",
   "execution_count": null,
   "id": "2e33bcc3-7210-4e78-8a8c-ec54c4fca50d",
   "metadata": {},
   "outputs": [
    {
     "data": {
      "text/plain": [
       "0         0\n",
       "1         0\n",
       "2         0\n",
       "3         6\n",
       "4         0\n",
       "         ..\n",
       "359395    0\n",
       "359396    0\n",
       "359397    5\n",
       "359398    0\n",
       "359399    0\n",
       "Name: edad_meses, Length: 359400, dtype: int32"
      ]
     },
     "execution_count": 83,
     "metadata": {},
     "output_type": "execute_result"
    }
   ],
   "source": [
    "visitas_full['edad_meses']"
   ]
  },
  {
   "cell_type": "code",
   "execution_count": null,
   "id": "4e0493f0-0f61-4947-805c-b53c808e9443",
   "metadata": {},
   "outputs": [
    {
     "data": {
      "text/html": [
       "<div>\n",
       "<style scoped>\n",
       "    .dataframe tbody tr th:only-of-type {\n",
       "        vertical-align: middle;\n",
       "    }\n",
       "\n",
       "    .dataframe tbody tr th {\n",
       "        vertical-align: top;\n",
       "    }\n",
       "\n",
       "    .dataframe thead th {\n",
       "        text-align: right;\n",
       "    }\n",
       "</style>\n",
       "<table border=\"1\" class=\"dataframe\">\n",
       "  <thead>\n",
       "    <tr style=\"text-align: right;\">\n",
       "      <th></th>\n",
       "      <th>uid</th>\n",
       "      <th>primera_sesion_start_ts</th>\n",
       "      <th>primera_sesion_fecha</th>\n",
       "      <th>primera_sesion_mes</th>\n",
       "      <th>device</th>\n",
       "      <th>end_ts</th>\n",
       "      <th>source_id</th>\n",
       "      <th>start_ts</th>\n",
       "      <th>date</th>\n",
       "      <th>week</th>\n",
       "      <th>month</th>\n",
       "      <th>day</th>\n",
       "      <th>session_duration</th>\n",
       "      <th>edad_meses</th>\n",
       "    </tr>\n",
       "  </thead>\n",
       "  <tbody>\n",
       "    <tr>\n",
       "      <th>0</th>\n",
       "      <td>11863502262781</td>\n",
       "      <td>2018-03-01 17:27:00</td>\n",
       "      <td>2018-03-01</td>\n",
       "      <td>3</td>\n",
       "      <td>touch</td>\n",
       "      <td>2018-03-01 17:33:00</td>\n",
       "      <td>3</td>\n",
       "      <td>2018-03-01 17:27:00</td>\n",
       "      <td>2018-03-01</td>\n",
       "      <td>9</td>\n",
       "      <td>3</td>\n",
       "      <td>2018-03-01</td>\n",
       "      <td>360</td>\n",
       "      <td>0</td>\n",
       "    </tr>\n",
       "    <tr>\n",
       "      <th>1</th>\n",
       "      <td>49537067089222</td>\n",
       "      <td>2018-02-06 15:55:00</td>\n",
       "      <td>2018-02-06</td>\n",
       "      <td>2</td>\n",
       "      <td>touch</td>\n",
       "      <td>2018-02-06 15:57:00</td>\n",
       "      <td>2</td>\n",
       "      <td>2018-02-06 15:55:00</td>\n",
       "      <td>2018-02-06</td>\n",
       "      <td>6</td>\n",
       "      <td>2</td>\n",
       "      <td>2018-02-06</td>\n",
       "      <td>120</td>\n",
       "      <td>0</td>\n",
       "    </tr>\n",
       "    <tr>\n",
       "      <th>2</th>\n",
       "      <td>297729379853735</td>\n",
       "      <td>2017-06-07 18:47:00</td>\n",
       "      <td>2017-06-07</td>\n",
       "      <td>6</td>\n",
       "      <td>desktop</td>\n",
       "      <td>2017-06-07 18:48:00</td>\n",
       "      <td>3</td>\n",
       "      <td>2017-06-07 18:47:00</td>\n",
       "      <td>2017-06-07</td>\n",
       "      <td>23</td>\n",
       "      <td>6</td>\n",
       "      <td>2017-06-07</td>\n",
       "      <td>60</td>\n",
       "      <td>0</td>\n",
       "    </tr>\n",
       "    <tr>\n",
       "      <th>3</th>\n",
       "      <td>313578113262317</td>\n",
       "      <td>2017-09-18 22:49:00</td>\n",
       "      <td>2017-09-18</td>\n",
       "      <td>9</td>\n",
       "      <td>desktop</td>\n",
       "      <td>2018-03-11 17:29:00</td>\n",
       "      <td>2</td>\n",
       "      <td>2018-03-11 17:23:00</td>\n",
       "      <td>2018-03-11</td>\n",
       "      <td>10</td>\n",
       "      <td>3</td>\n",
       "      <td>2018-03-11</td>\n",
       "      <td>360</td>\n",
       "      <td>6</td>\n",
       "    </tr>\n",
       "    <tr>\n",
       "      <th>4</th>\n",
       "      <td>313578113262317</td>\n",
       "      <td>2017-09-18 22:49:00</td>\n",
       "      <td>2017-09-18</td>\n",
       "      <td>9</td>\n",
       "      <td>desktop</td>\n",
       "      <td>2017-09-18 23:07:00</td>\n",
       "      <td>2</td>\n",
       "      <td>2017-09-18 22:49:00</td>\n",
       "      <td>2017-09-18</td>\n",
       "      <td>38</td>\n",
       "      <td>9</td>\n",
       "      <td>2017-09-18</td>\n",
       "      <td>1080</td>\n",
       "      <td>0</td>\n",
       "    </tr>\n",
       "    <tr>\n",
       "      <th>...</th>\n",
       "      <td>...</td>\n",
       "      <td>...</td>\n",
       "      <td>...</td>\n",
       "      <td>...</td>\n",
       "      <td>...</td>\n",
       "      <td>...</td>\n",
       "      <td>...</td>\n",
       "      <td>...</td>\n",
       "      <td>...</td>\n",
       "      <td>...</td>\n",
       "      <td>...</td>\n",
       "      <td>...</td>\n",
       "      <td>...</td>\n",
       "      <td>...</td>\n",
       "    </tr>\n",
       "    <tr>\n",
       "      <th>359395</th>\n",
       "      <td>18446424184725333426</td>\n",
       "      <td>2017-12-06 20:32:00</td>\n",
       "      <td>2017-12-06</td>\n",
       "      <td>12</td>\n",
       "      <td>touch</td>\n",
       "      <td>2017-12-06 20:32:00</td>\n",
       "      <td>4</td>\n",
       "      <td>2017-12-06 20:32:00</td>\n",
       "      <td>2017-12-06</td>\n",
       "      <td>49</td>\n",
       "      <td>12</td>\n",
       "      <td>2017-12-06</td>\n",
       "      <td>0</td>\n",
       "      <td>0</td>\n",
       "    </tr>\n",
       "    <tr>\n",
       "      <th>359396</th>\n",
       "      <td>18446556406699109058</td>\n",
       "      <td>2018-01-01 16:29:00</td>\n",
       "      <td>2018-01-01</td>\n",
       "      <td>1</td>\n",
       "      <td>touch</td>\n",
       "      <td>2018-01-01 16:31:00</td>\n",
       "      <td>3</td>\n",
       "      <td>2018-01-01 16:29:00</td>\n",
       "      <td>2018-01-01</td>\n",
       "      <td>1</td>\n",
       "      <td>1</td>\n",
       "      <td>2018-01-01</td>\n",
       "      <td>120</td>\n",
       "      <td>0</td>\n",
       "    </tr>\n",
       "    <tr>\n",
       "      <th>359397</th>\n",
       "      <td>18446621818809592527</td>\n",
       "      <td>2017-12-27 13:27:00</td>\n",
       "      <td>2017-12-27</td>\n",
       "      <td>12</td>\n",
       "      <td>desktop</td>\n",
       "      <td>2018-05-21 09:45:00</td>\n",
       "      <td>4</td>\n",
       "      <td>2018-05-21 09:30:00</td>\n",
       "      <td>2018-05-21</td>\n",
       "      <td>21</td>\n",
       "      <td>5</td>\n",
       "      <td>2018-05-21</td>\n",
       "      <td>900</td>\n",
       "      <td>5</td>\n",
       "    </tr>\n",
       "    <tr>\n",
       "      <th>359398</th>\n",
       "      <td>18446621818809592527</td>\n",
       "      <td>2017-12-27 13:27:00</td>\n",
       "      <td>2017-12-27</td>\n",
       "      <td>12</td>\n",
       "      <td>desktop</td>\n",
       "      <td>2017-12-27 14:08:00</td>\n",
       "      <td>4</td>\n",
       "      <td>2017-12-27 13:27:00</td>\n",
       "      <td>2017-12-27</td>\n",
       "      <td>52</td>\n",
       "      <td>12</td>\n",
       "      <td>2017-12-27</td>\n",
       "      <td>2460</td>\n",
       "      <td>0</td>\n",
       "    </tr>\n",
       "    <tr>\n",
       "      <th>359399</th>\n",
       "      <td>18446676030785672386</td>\n",
       "      <td>2017-10-04 16:01:00</td>\n",
       "      <td>2017-10-04</td>\n",
       "      <td>10</td>\n",
       "      <td>desktop</td>\n",
       "      <td>2017-10-04 16:27:00</td>\n",
       "      <td>3</td>\n",
       "      <td>2017-10-04 16:01:00</td>\n",
       "      <td>2017-10-04</td>\n",
       "      <td>40</td>\n",
       "      <td>10</td>\n",
       "      <td>2017-10-04</td>\n",
       "      <td>1560</td>\n",
       "      <td>0</td>\n",
       "    </tr>\n",
       "  </tbody>\n",
       "</table>\n",
       "<p>359400 rows × 14 columns</p>\n",
       "</div>"
      ],
      "text/plain": [
       "                         uid primera_sesion_start_ts primera_sesion_fecha  \\\n",
       "0             11863502262781     2018-03-01 17:27:00           2018-03-01   \n",
       "1             49537067089222     2018-02-06 15:55:00           2018-02-06   \n",
       "2            297729379853735     2017-06-07 18:47:00           2017-06-07   \n",
       "3            313578113262317     2017-09-18 22:49:00           2017-09-18   \n",
       "4            313578113262317     2017-09-18 22:49:00           2017-09-18   \n",
       "...                      ...                     ...                  ...   \n",
       "359395  18446424184725333426     2017-12-06 20:32:00           2017-12-06   \n",
       "359396  18446556406699109058     2018-01-01 16:29:00           2018-01-01   \n",
       "359397  18446621818809592527     2017-12-27 13:27:00           2017-12-27   \n",
       "359398  18446621818809592527     2017-12-27 13:27:00           2017-12-27   \n",
       "359399  18446676030785672386     2017-10-04 16:01:00           2017-10-04   \n",
       "\n",
       "        primera_sesion_mes   device              end_ts  source_id  \\\n",
       "0                        3    touch 2018-03-01 17:33:00          3   \n",
       "1                        2    touch 2018-02-06 15:57:00          2   \n",
       "2                        6  desktop 2017-06-07 18:48:00          3   \n",
       "3                        9  desktop 2018-03-11 17:29:00          2   \n",
       "4                        9  desktop 2017-09-18 23:07:00          2   \n",
       "...                    ...      ...                 ...        ...   \n",
       "359395                  12    touch 2017-12-06 20:32:00          4   \n",
       "359396                   1    touch 2018-01-01 16:31:00          3   \n",
       "359397                  12  desktop 2018-05-21 09:45:00          4   \n",
       "359398                  12  desktop 2017-12-27 14:08:00          4   \n",
       "359399                  10  desktop 2017-10-04 16:27:00          3   \n",
       "\n",
       "                  start_ts        date  week  month         day  \\\n",
       "0      2018-03-01 17:27:00  2018-03-01     9      3  2018-03-01   \n",
       "1      2018-02-06 15:55:00  2018-02-06     6      2  2018-02-06   \n",
       "2      2017-06-07 18:47:00  2017-06-07    23      6  2017-06-07   \n",
       "3      2018-03-11 17:23:00  2018-03-11    10      3  2018-03-11   \n",
       "4      2017-09-18 22:49:00  2017-09-18    38      9  2017-09-18   \n",
       "...                    ...         ...   ...    ...         ...   \n",
       "359395 2017-12-06 20:32:00  2017-12-06    49     12  2017-12-06   \n",
       "359396 2018-01-01 16:29:00  2018-01-01     1      1  2018-01-01   \n",
       "359397 2018-05-21 09:30:00  2018-05-21    21      5  2018-05-21   \n",
       "359398 2017-12-27 13:27:00  2017-12-27    52     12  2017-12-27   \n",
       "359399 2017-10-04 16:01:00  2017-10-04    40     10  2017-10-04   \n",
       "\n",
       "        session_duration  edad_meses  \n",
       "0                    360           0  \n",
       "1                    120           0  \n",
       "2                     60           0  \n",
       "3                    360           6  \n",
       "4                   1080           0  \n",
       "...                  ...         ...  \n",
       "359395                 0           0  \n",
       "359396               120           0  \n",
       "359397               900           5  \n",
       "359398              2460           0  \n",
       "359399              1560           0  \n",
       "\n",
       "[359400 rows x 14 columns]"
      ]
     },
     "execution_count": 84,
     "metadata": {},
     "output_type": "execute_result"
    }
   ],
   "source": [
    "visitas_full"
   ]
  },
  {
   "cell_type": "code",
   "execution_count": null,
   "id": "84b10101-4585-4ac2-acbe-5f4bb8709dc5",
   "metadata": {},
   "outputs": [],
   "source": [
    "visits['start_date'] =visits['start_ts'].dt.date"
   ]
  },
  {
   "cell_type": "code",
   "execution_count": null,
   "id": "616a27dd-bc73-4d37-8bda-a6cb03d117b2",
   "metadata": {},
   "outputs": [],
   "source": [
    "visits_user_return = visits.groupby('uid')['start_date'].nunique().reset_index()"
   ]
  },
  {
   "cell_type": "code",
   "execution_count": null,
   "id": "81bfd6be-b04a-4629-bc18-0b90bc9ba9d8",
   "metadata": {},
   "outputs": [],
   "source": [
    "visits_user_return.columns = ['uid', 'return_frequency']"
   ]
  },
  {
   "cell_type": "code",
   "execution_count": null,
   "id": "f90a7a1a-91d1-4002-a10c-7e3066ad2d4b",
   "metadata": {},
   "outputs": [
    {
     "name": "stdout",
     "output_type": "stream",
     "text": [
      "               uid  return_frequency\n",
      "0   11863502262781                 1\n",
      "1   49537067089222                 1\n",
      "2  297729379853735                 1\n",
      "3  313578113262317                 3\n",
      "4  325320750514679                 2\n"
     ]
    }
   ],
   "source": [
    "print(visits_user_return.head())"
   ]
  },
  {
   "cell_type": "code",
   "execution_count": null,
   "id": "29b5b2be-a5d0-48ec-84c7-193221a69ba7",
   "metadata": {},
   "outputs": [
    {
     "name": "stdout",
     "output_type": "stream",
     "text": [
      "El promedio de la frecuencia que los usuarios regresan: 1.4485271881806907\n"
     ]
    }
   ],
   "source": [
    "print('El promedio de la frecuencia que los usuarios regresan:', visits_user_return['return_frequency'].mean())"
   ]
  },
  {
   "cell_type": "markdown",
   "id": "5f4a2ef8-f42d-4c15-a4c5-158a98df5a25",
   "metadata": {},
   "source": [
    "\n",
    "**Cohortes: segmento de clientes, en marketing web analytics se aprupan por meses**\n",
    "**Tasa de retención de la página web**"
   ]
  },
  {
   "cell_type": "code",
   "execution_count": null,
   "id": "107342fd-5716-442d-8efc-dfbc45a9ac4e",
   "metadata": {},
   "outputs": [],
   "source": [
    "cohortes = visitas_full.pivot_table(\n",
    "    index = 'primera_sesion_mes',\n",
    "    columns = 'edad_meses',\n",
    "    values = 'uid',\n",
    "    aggfunc = 'nunique'\n",
    ")"
   ]
  },
  {
   "cell_type": "code",
   "execution_count": null,
   "id": "38fb1db9-a2ff-4a8b-9e56-0dd3980123c8",
   "metadata": {},
   "outputs": [
    {
     "data": {
      "text/html": [
       "<div>\n",
       "<style scoped>\n",
       "    .dataframe tbody tr th:only-of-type {\n",
       "        vertical-align: middle;\n",
       "    }\n",
       "\n",
       "    .dataframe tbody tr th {\n",
       "        vertical-align: top;\n",
       "    }\n",
       "\n",
       "    .dataframe thead th {\n",
       "        text-align: right;\n",
       "    }\n",
       "</style>\n",
       "<table border=\"1\" class=\"dataframe\">\n",
       "  <thead>\n",
       "    <tr style=\"text-align: right;\">\n",
       "      <th>edad_meses</th>\n",
       "      <th>0</th>\n",
       "      <th>1</th>\n",
       "      <th>2</th>\n",
       "      <th>3</th>\n",
       "      <th>4</th>\n",
       "      <th>5</th>\n",
       "      <th>6</th>\n",
       "      <th>7</th>\n",
       "      <th>8</th>\n",
       "      <th>9</th>\n",
       "      <th>10</th>\n",
       "      <th>11</th>\n",
       "      <th>12</th>\n",
       "    </tr>\n",
       "    <tr>\n",
       "      <th>primera_sesion_mes</th>\n",
       "      <th></th>\n",
       "      <th></th>\n",
       "      <th></th>\n",
       "      <th></th>\n",
       "      <th></th>\n",
       "      <th></th>\n",
       "      <th></th>\n",
       "      <th></th>\n",
       "      <th></th>\n",
       "      <th></th>\n",
       "      <th></th>\n",
       "      <th></th>\n",
       "      <th></th>\n",
       "    </tr>\n",
       "  </thead>\n",
       "  <tbody>\n",
       "    <tr>\n",
       "      <th>1</th>\n",
       "      <td>22624.0</td>\n",
       "      <td>1191.0</td>\n",
       "      <td>830.0</td>\n",
       "      <td>557.0</td>\n",
       "      <td>421.0</td>\n",
       "      <td>47.0</td>\n",
       "      <td>NaN</td>\n",
       "      <td>NaN</td>\n",
       "      <td>NaN</td>\n",
       "      <td>NaN</td>\n",
       "      <td>NaN</td>\n",
       "      <td>NaN</td>\n",
       "      <td>NaN</td>\n",
       "    </tr>\n",
       "    <tr>\n",
       "      <th>2</th>\n",
       "      <td>22197.0</td>\n",
       "      <td>1039.0</td>\n",
       "      <td>602.0</td>\n",
       "      <td>407.0</td>\n",
       "      <td>67.0</td>\n",
       "      <td>NaN</td>\n",
       "      <td>NaN</td>\n",
       "      <td>NaN</td>\n",
       "      <td>NaN</td>\n",
       "      <td>NaN</td>\n",
       "      <td>NaN</td>\n",
       "      <td>NaN</td>\n",
       "      <td>NaN</td>\n",
       "    </tr>\n",
       "    <tr>\n",
       "      <th>3</th>\n",
       "      <td>20589.0</td>\n",
       "      <td>835.0</td>\n",
       "      <td>533.0</td>\n",
       "      <td>81.0</td>\n",
       "      <td>NaN</td>\n",
       "      <td>NaN</td>\n",
       "      <td>NaN</td>\n",
       "      <td>NaN</td>\n",
       "      <td>NaN</td>\n",
       "      <td>NaN</td>\n",
       "      <td>NaN</td>\n",
       "      <td>NaN</td>\n",
       "      <td>NaN</td>\n",
       "    </tr>\n",
       "    <tr>\n",
       "      <th>4</th>\n",
       "      <td>15709.0</td>\n",
       "      <td>614.0</td>\n",
       "      <td>82.0</td>\n",
       "      <td>NaN</td>\n",
       "      <td>NaN</td>\n",
       "      <td>NaN</td>\n",
       "      <td>NaN</td>\n",
       "      <td>NaN</td>\n",
       "      <td>NaN</td>\n",
       "      <td>NaN</td>\n",
       "      <td>NaN</td>\n",
       "      <td>NaN</td>\n",
       "      <td>NaN</td>\n",
       "    </tr>\n",
       "    <tr>\n",
       "      <th>5</th>\n",
       "      <td>15273.0</td>\n",
       "      <td>100.0</td>\n",
       "      <td>NaN</td>\n",
       "      <td>NaN</td>\n",
       "      <td>NaN</td>\n",
       "      <td>NaN</td>\n",
       "      <td>NaN</td>\n",
       "      <td>NaN</td>\n",
       "      <td>NaN</td>\n",
       "      <td>NaN</td>\n",
       "      <td>NaN</td>\n",
       "      <td>NaN</td>\n",
       "      <td>NaN</td>\n",
       "    </tr>\n",
       "    <tr>\n",
       "      <th>6</th>\n",
       "      <td>13259.0</td>\n",
       "      <td>955.0</td>\n",
       "      <td>720.0</td>\n",
       "      <td>775.0</td>\n",
       "      <td>944.0</td>\n",
       "      <td>847.0</td>\n",
       "      <td>875.0</td>\n",
       "      <td>713.0</td>\n",
       "      <td>746.0</td>\n",
       "      <td>659.0</td>\n",
       "      <td>576.0</td>\n",
       "      <td>513.0</td>\n",
       "      <td>272.0</td>\n",
       "    </tr>\n",
       "    <tr>\n",
       "      <th>7</th>\n",
       "      <td>13140.0</td>\n",
       "      <td>716.0</td>\n",
       "      <td>688.0</td>\n",
       "      <td>675.0</td>\n",
       "      <td>767.0</td>\n",
       "      <td>609.0</td>\n",
       "      <td>606.0</td>\n",
       "      <td>619.0</td>\n",
       "      <td>527.0</td>\n",
       "      <td>379.0</td>\n",
       "      <td>337.0</td>\n",
       "      <td>113.0</td>\n",
       "      <td>NaN</td>\n",
       "    </tr>\n",
       "    <tr>\n",
       "      <th>8</th>\n",
       "      <td>10181.0</td>\n",
       "      <td>691.0</td>\n",
       "      <td>634.0</td>\n",
       "      <td>577.0</td>\n",
       "      <td>547.0</td>\n",
       "      <td>412.0</td>\n",
       "      <td>438.0</td>\n",
       "      <td>340.0</td>\n",
       "      <td>299.0</td>\n",
       "      <td>243.0</td>\n",
       "      <td>58.0</td>\n",
       "      <td>NaN</td>\n",
       "      <td>NaN</td>\n",
       "    </tr>\n",
       "    <tr>\n",
       "      <th>9</th>\n",
       "      <td>16704.0</td>\n",
       "      <td>1239.0</td>\n",
       "      <td>1117.0</td>\n",
       "      <td>816.0</td>\n",
       "      <td>683.0</td>\n",
       "      <td>642.0</td>\n",
       "      <td>571.0</td>\n",
       "      <td>420.0</td>\n",
       "      <td>366.0</td>\n",
       "      <td>61.0</td>\n",
       "      <td>NaN</td>\n",
       "      <td>NaN</td>\n",
       "      <td>NaN</td>\n",
       "    </tr>\n",
       "    <tr>\n",
       "      <th>10</th>\n",
       "      <td>25977.0</td>\n",
       "      <td>1858.0</td>\n",
       "      <td>1384.0</td>\n",
       "      <td>960.0</td>\n",
       "      <td>975.0</td>\n",
       "      <td>787.0</td>\n",
       "      <td>565.0</td>\n",
       "      <td>478.0</td>\n",
       "      <td>120.0</td>\n",
       "      <td>NaN</td>\n",
       "      <td>NaN</td>\n",
       "      <td>NaN</td>\n",
       "      <td>NaN</td>\n",
       "    </tr>\n",
       "    <tr>\n",
       "      <th>11</th>\n",
       "      <td>27248.0</td>\n",
       "      <td>1849.0</td>\n",
       "      <td>1270.0</td>\n",
       "      <td>1016.0</td>\n",
       "      <td>900.0</td>\n",
       "      <td>639.0</td>\n",
       "      <td>520.0</td>\n",
       "      <td>107.0</td>\n",
       "      <td>NaN</td>\n",
       "      <td>NaN</td>\n",
       "      <td>NaN</td>\n",
       "      <td>NaN</td>\n",
       "      <td>NaN</td>\n",
       "    </tr>\n",
       "    <tr>\n",
       "      <th>12</th>\n",
       "      <td>25268.0</td>\n",
       "      <td>1257.0</td>\n",
       "      <td>1057.0</td>\n",
       "      <td>719.0</td>\n",
       "      <td>577.0</td>\n",
       "      <td>400.0</td>\n",
       "      <td>101.0</td>\n",
       "      <td>NaN</td>\n",
       "      <td>NaN</td>\n",
       "      <td>NaN</td>\n",
       "      <td>NaN</td>\n",
       "      <td>NaN</td>\n",
       "      <td>NaN</td>\n",
       "    </tr>\n",
       "  </tbody>\n",
       "</table>\n",
       "</div>"
      ],
      "text/plain": [
       "edad_meses               0       1       2       3      4      5      6   \\\n",
       "primera_sesion_mes                                                         \n",
       "1                   22624.0  1191.0   830.0   557.0  421.0   47.0    NaN   \n",
       "2                   22197.0  1039.0   602.0   407.0   67.0    NaN    NaN   \n",
       "3                   20589.0   835.0   533.0    81.0    NaN    NaN    NaN   \n",
       "4                   15709.0   614.0    82.0     NaN    NaN    NaN    NaN   \n",
       "5                   15273.0   100.0     NaN     NaN    NaN    NaN    NaN   \n",
       "6                   13259.0   955.0   720.0   775.0  944.0  847.0  875.0   \n",
       "7                   13140.0   716.0   688.0   675.0  767.0  609.0  606.0   \n",
       "8                   10181.0   691.0   634.0   577.0  547.0  412.0  438.0   \n",
       "9                   16704.0  1239.0  1117.0   816.0  683.0  642.0  571.0   \n",
       "10                  25977.0  1858.0  1384.0   960.0  975.0  787.0  565.0   \n",
       "11                  27248.0  1849.0  1270.0  1016.0  900.0  639.0  520.0   \n",
       "12                  25268.0  1257.0  1057.0   719.0  577.0  400.0  101.0   \n",
       "\n",
       "edad_meses             7      8      9      10     11     12  \n",
       "primera_sesion_mes                                            \n",
       "1                     NaN    NaN    NaN    NaN    NaN    NaN  \n",
       "2                     NaN    NaN    NaN    NaN    NaN    NaN  \n",
       "3                     NaN    NaN    NaN    NaN    NaN    NaN  \n",
       "4                     NaN    NaN    NaN    NaN    NaN    NaN  \n",
       "5                     NaN    NaN    NaN    NaN    NaN    NaN  \n",
       "6                   713.0  746.0  659.0  576.0  513.0  272.0  \n",
       "7                   619.0  527.0  379.0  337.0  113.0    NaN  \n",
       "8                   340.0  299.0  243.0   58.0    NaN    NaN  \n",
       "9                   420.0  366.0   61.0    NaN    NaN    NaN  \n",
       "10                  478.0  120.0    NaN    NaN    NaN    NaN  \n",
       "11                  107.0    NaN    NaN    NaN    NaN    NaN  \n",
       "12                    NaN    NaN    NaN    NaN    NaN    NaN  "
      ]
     },
     "execution_count": 91,
     "metadata": {},
     "output_type": "execute_result"
    }
   ],
   "source": [
    "cohortes"
   ]
  },
  {
   "cell_type": "code",
   "execution_count": null,
   "id": "8db6b5e3-0a7c-48ae-9b4f-d4febb47682f",
   "metadata": {},
   "outputs": [
    {
     "data": {
      "text/html": [
       "<div>\n",
       "<style scoped>\n",
       "    .dataframe tbody tr th:only-of-type {\n",
       "        vertical-align: middle;\n",
       "    }\n",
       "\n",
       "    .dataframe tbody tr th {\n",
       "        vertical-align: top;\n",
       "    }\n",
       "\n",
       "    .dataframe thead th {\n",
       "        text-align: right;\n",
       "    }\n",
       "</style>\n",
       "<table border=\"1\" class=\"dataframe\">\n",
       "  <thead>\n",
       "    <tr style=\"text-align: right;\">\n",
       "      <th>edad_meses</th>\n",
       "      <th>0</th>\n",
       "      <th>1</th>\n",
       "      <th>2</th>\n",
       "      <th>3</th>\n",
       "      <th>4</th>\n",
       "      <th>5</th>\n",
       "      <th>6</th>\n",
       "      <th>7</th>\n",
       "      <th>8</th>\n",
       "      <th>9</th>\n",
       "      <th>10</th>\n",
       "      <th>11</th>\n",
       "      <th>12</th>\n",
       "    </tr>\n",
       "    <tr>\n",
       "      <th>primera_sesion_mes</th>\n",
       "      <th></th>\n",
       "      <th></th>\n",
       "      <th></th>\n",
       "      <th></th>\n",
       "      <th></th>\n",
       "      <th></th>\n",
       "      <th></th>\n",
       "      <th></th>\n",
       "      <th></th>\n",
       "      <th></th>\n",
       "      <th></th>\n",
       "      <th></th>\n",
       "      <th></th>\n",
       "    </tr>\n",
       "  </thead>\n",
       "  <tbody>\n",
       "    <tr>\n",
       "      <th>1</th>\n",
       "      <td>22624.0</td>\n",
       "      <td>1191.0</td>\n",
       "      <td>830.0</td>\n",
       "      <td>557.0</td>\n",
       "      <td>421.0</td>\n",
       "      <td>47.0</td>\n",
       "      <td></td>\n",
       "      <td></td>\n",
       "      <td></td>\n",
       "      <td></td>\n",
       "      <td></td>\n",
       "      <td></td>\n",
       "      <td></td>\n",
       "    </tr>\n",
       "    <tr>\n",
       "      <th>2</th>\n",
       "      <td>22197.0</td>\n",
       "      <td>1039.0</td>\n",
       "      <td>602.0</td>\n",
       "      <td>407.0</td>\n",
       "      <td>67.0</td>\n",
       "      <td></td>\n",
       "      <td></td>\n",
       "      <td></td>\n",
       "      <td></td>\n",
       "      <td></td>\n",
       "      <td></td>\n",
       "      <td></td>\n",
       "      <td></td>\n",
       "    </tr>\n",
       "    <tr>\n",
       "      <th>3</th>\n",
       "      <td>20589.0</td>\n",
       "      <td>835.0</td>\n",
       "      <td>533.0</td>\n",
       "      <td>81.0</td>\n",
       "      <td></td>\n",
       "      <td></td>\n",
       "      <td></td>\n",
       "      <td></td>\n",
       "      <td></td>\n",
       "      <td></td>\n",
       "      <td></td>\n",
       "      <td></td>\n",
       "      <td></td>\n",
       "    </tr>\n",
       "    <tr>\n",
       "      <th>4</th>\n",
       "      <td>15709.0</td>\n",
       "      <td>614.0</td>\n",
       "      <td>82.0</td>\n",
       "      <td></td>\n",
       "      <td></td>\n",
       "      <td></td>\n",
       "      <td></td>\n",
       "      <td></td>\n",
       "      <td></td>\n",
       "      <td></td>\n",
       "      <td></td>\n",
       "      <td></td>\n",
       "      <td></td>\n",
       "    </tr>\n",
       "    <tr>\n",
       "      <th>5</th>\n",
       "      <td>15273.0</td>\n",
       "      <td>100.0</td>\n",
       "      <td></td>\n",
       "      <td></td>\n",
       "      <td></td>\n",
       "      <td></td>\n",
       "      <td></td>\n",
       "      <td></td>\n",
       "      <td></td>\n",
       "      <td></td>\n",
       "      <td></td>\n",
       "      <td></td>\n",
       "      <td></td>\n",
       "    </tr>\n",
       "    <tr>\n",
       "      <th>6</th>\n",
       "      <td>13259.0</td>\n",
       "      <td>955.0</td>\n",
       "      <td>720.0</td>\n",
       "      <td>775.0</td>\n",
       "      <td>944.0</td>\n",
       "      <td>847.0</td>\n",
       "      <td>875.0</td>\n",
       "      <td>713.0</td>\n",
       "      <td>746.0</td>\n",
       "      <td>659.0</td>\n",
       "      <td>576.0</td>\n",
       "      <td>513.0</td>\n",
       "      <td>272.0</td>\n",
       "    </tr>\n",
       "    <tr>\n",
       "      <th>7</th>\n",
       "      <td>13140.0</td>\n",
       "      <td>716.0</td>\n",
       "      <td>688.0</td>\n",
       "      <td>675.0</td>\n",
       "      <td>767.0</td>\n",
       "      <td>609.0</td>\n",
       "      <td>606.0</td>\n",
       "      <td>619.0</td>\n",
       "      <td>527.0</td>\n",
       "      <td>379.0</td>\n",
       "      <td>337.0</td>\n",
       "      <td>113.0</td>\n",
       "      <td></td>\n",
       "    </tr>\n",
       "    <tr>\n",
       "      <th>8</th>\n",
       "      <td>10181.0</td>\n",
       "      <td>691.0</td>\n",
       "      <td>634.0</td>\n",
       "      <td>577.0</td>\n",
       "      <td>547.0</td>\n",
       "      <td>412.0</td>\n",
       "      <td>438.0</td>\n",
       "      <td>340.0</td>\n",
       "      <td>299.0</td>\n",
       "      <td>243.0</td>\n",
       "      <td>58.0</td>\n",
       "      <td></td>\n",
       "      <td></td>\n",
       "    </tr>\n",
       "    <tr>\n",
       "      <th>9</th>\n",
       "      <td>16704.0</td>\n",
       "      <td>1239.0</td>\n",
       "      <td>1117.0</td>\n",
       "      <td>816.0</td>\n",
       "      <td>683.0</td>\n",
       "      <td>642.0</td>\n",
       "      <td>571.0</td>\n",
       "      <td>420.0</td>\n",
       "      <td>366.0</td>\n",
       "      <td>61.0</td>\n",
       "      <td></td>\n",
       "      <td></td>\n",
       "      <td></td>\n",
       "    </tr>\n",
       "    <tr>\n",
       "      <th>10</th>\n",
       "      <td>25977.0</td>\n",
       "      <td>1858.0</td>\n",
       "      <td>1384.0</td>\n",
       "      <td>960.0</td>\n",
       "      <td>975.0</td>\n",
       "      <td>787.0</td>\n",
       "      <td>565.0</td>\n",
       "      <td>478.0</td>\n",
       "      <td>120.0</td>\n",
       "      <td></td>\n",
       "      <td></td>\n",
       "      <td></td>\n",
       "      <td></td>\n",
       "    </tr>\n",
       "    <tr>\n",
       "      <th>11</th>\n",
       "      <td>27248.0</td>\n",
       "      <td>1849.0</td>\n",
       "      <td>1270.0</td>\n",
       "      <td>1016.0</td>\n",
       "      <td>900.0</td>\n",
       "      <td>639.0</td>\n",
       "      <td>520.0</td>\n",
       "      <td>107.0</td>\n",
       "      <td></td>\n",
       "      <td></td>\n",
       "      <td></td>\n",
       "      <td></td>\n",
       "      <td></td>\n",
       "    </tr>\n",
       "    <tr>\n",
       "      <th>12</th>\n",
       "      <td>25268.0</td>\n",
       "      <td>1257.0</td>\n",
       "      <td>1057.0</td>\n",
       "      <td>719.0</td>\n",
       "      <td>577.0</td>\n",
       "      <td>400.0</td>\n",
       "      <td>101.0</td>\n",
       "      <td></td>\n",
       "      <td></td>\n",
       "      <td></td>\n",
       "      <td></td>\n",
       "      <td></td>\n",
       "      <td></td>\n",
       "    </tr>\n",
       "  </tbody>\n",
       "</table>\n",
       "</div>"
      ],
      "text/plain": [
       "edad_meses               0       1       2       3      4      5      6   \\\n",
       "primera_sesion_mes                                                         \n",
       "1                   22624.0  1191.0   830.0   557.0  421.0   47.0          \n",
       "2                   22197.0  1039.0   602.0   407.0   67.0                 \n",
       "3                   20589.0   835.0   533.0    81.0                        \n",
       "4                   15709.0   614.0    82.0                                \n",
       "5                   15273.0   100.0                                        \n",
       "6                   13259.0   955.0   720.0   775.0  944.0  847.0  875.0   \n",
       "7                   13140.0   716.0   688.0   675.0  767.0  609.0  606.0   \n",
       "8                   10181.0   691.0   634.0   577.0  547.0  412.0  438.0   \n",
       "9                   16704.0  1239.0  1117.0   816.0  683.0  642.0  571.0   \n",
       "10                  25977.0  1858.0  1384.0   960.0  975.0  787.0  565.0   \n",
       "11                  27248.0  1849.0  1270.0  1016.0  900.0  639.0  520.0   \n",
       "12                  25268.0  1257.0  1057.0   719.0  577.0  400.0  101.0   \n",
       "\n",
       "edad_meses             7      8      9      10     11     12  \n",
       "primera_sesion_mes                                            \n",
       "1                                                             \n",
       "2                                                             \n",
       "3                                                             \n",
       "4                                                             \n",
       "5                                                             \n",
       "6                   713.0  746.0  659.0  576.0  513.0  272.0  \n",
       "7                   619.0  527.0  379.0  337.0  113.0         \n",
       "8                   340.0  299.0  243.0   58.0                \n",
       "9                   420.0  366.0   61.0                       \n",
       "10                  478.0  120.0                              \n",
       "11                  107.0                                     \n",
       "12                                                            "
      ]
     },
     "execution_count": 92,
     "metadata": {},
     "output_type": "execute_result"
    }
   ],
   "source": [
    "cohortes.fillna('')"
   ]
  },
  {
   "cell_type": "code",
   "execution_count": null,
   "id": "a79f02ee-d595-4773-bda3-e423dcf1f7e7",
   "metadata": {},
   "outputs": [],
   "source": [
    "cohortes = cohortes.loc[[6,7,8,9,10,11,12,1,2,3,4,5]]"
   ]
  },
  {
   "cell_type": "code",
   "execution_count": null,
   "id": "7d029f6f-699d-490a-a55d-54ed375224e3",
   "metadata": {},
   "outputs": [],
   "source": [
    "retencion = pd.DataFrame()"
   ]
  },
  {
   "cell_type": "code",
   "execution_count": null,
   "id": "a59586c1-e4a2-43e1-a625-c4e18ebe765d",
   "metadata": {},
   "outputs": [
    {
     "name": "stderr",
     "output_type": "stream",
     "text": [
      "C:\\Users\\AIMEE DGUEZ NIETO\\AppData\\Local\\Temp\\ipykernel_324\\1811453494.py:2: FutureWarning: The behavior of array concatenation with empty entries is deprecated. In a future version, this will no longer exclude empty items when determining the result dtype. To retain the old behavior, exclude the empty entries before the concat operation.\n",
      "  retencion = pd.concat([retencion, cohortes[col]/cohortes[0]], axis=1)\n"
     ]
    }
   ],
   "source": [
    "for col in cohortes.columns:\n",
    "    retencion = pd.concat([retencion, cohortes[col]/cohortes[0]], axis=1) "
   ]
  },
  {
   "cell_type": "code",
   "execution_count": null,
   "id": "1dcb9676-62cd-430e-b8e0-7d5cc2b6c530",
   "metadata": {},
   "outputs": [],
   "source": [
    "retencion.columns = cohortes.columns"
   ]
  },
  {
   "cell_type": "code",
   "execution_count": null,
   "id": "5ea3547c-6b84-48c0-a250-f3fd5526ff7e",
   "metadata": {},
   "outputs": [],
   "source": [
    "retencion.index = [str(indice)[0:12] for indice in retencion.index]"
   ]
  },
  {
   "cell_type": "code",
   "execution_count": null,
   "id": "4203a4cb-0bb7-4df0-849f-70f94d637af5",
   "metadata": {},
   "outputs": [
    {
     "data": {
      "text/html": [
       "<div>\n",
       "<style scoped>\n",
       "    .dataframe tbody tr th:only-of-type {\n",
       "        vertical-align: middle;\n",
       "    }\n",
       "\n",
       "    .dataframe tbody tr th {\n",
       "        vertical-align: top;\n",
       "    }\n",
       "\n",
       "    .dataframe thead th {\n",
       "        text-align: right;\n",
       "    }\n",
       "</style>\n",
       "<table border=\"1\" class=\"dataframe\">\n",
       "  <thead>\n",
       "    <tr style=\"text-align: right;\">\n",
       "      <th>edad_meses</th>\n",
       "      <th>0</th>\n",
       "      <th>1</th>\n",
       "      <th>2</th>\n",
       "      <th>3</th>\n",
       "      <th>4</th>\n",
       "      <th>5</th>\n",
       "      <th>6</th>\n",
       "      <th>7</th>\n",
       "      <th>8</th>\n",
       "      <th>9</th>\n",
       "      <th>10</th>\n",
       "      <th>11</th>\n",
       "      <th>12</th>\n",
       "    </tr>\n",
       "  </thead>\n",
       "  <tbody>\n",
       "    <tr>\n",
       "      <th>6</th>\n",
       "      <td>1.0</td>\n",
       "      <td>0.072027</td>\n",
       "      <td>0.054303</td>\n",
       "      <td>0.058451</td>\n",
       "      <td>0.071197</td>\n",
       "      <td>0.063881</td>\n",
       "      <td>0.065993</td>\n",
       "      <td>0.053775</td>\n",
       "      <td>0.056264</td>\n",
       "      <td>0.049702</td>\n",
       "      <td>0.043442</td>\n",
       "      <td>0.038691</td>\n",
       "      <td>0.020514</td>\n",
       "    </tr>\n",
       "    <tr>\n",
       "      <th>7</th>\n",
       "      <td>1.0</td>\n",
       "      <td>0.054490</td>\n",
       "      <td>0.052359</td>\n",
       "      <td>0.051370</td>\n",
       "      <td>0.058371</td>\n",
       "      <td>0.046347</td>\n",
       "      <td>0.046119</td>\n",
       "      <td>0.047108</td>\n",
       "      <td>0.040107</td>\n",
       "      <td>0.028843</td>\n",
       "      <td>0.025647</td>\n",
       "      <td>0.008600</td>\n",
       "      <td>NaN</td>\n",
       "    </tr>\n",
       "    <tr>\n",
       "      <th>8</th>\n",
       "      <td>1.0</td>\n",
       "      <td>0.067872</td>\n",
       "      <td>0.062273</td>\n",
       "      <td>0.056674</td>\n",
       "      <td>0.053728</td>\n",
       "      <td>0.040468</td>\n",
       "      <td>0.043021</td>\n",
       "      <td>0.033396</td>\n",
       "      <td>0.029368</td>\n",
       "      <td>0.023868</td>\n",
       "      <td>0.005697</td>\n",
       "      <td>NaN</td>\n",
       "      <td>NaN</td>\n",
       "    </tr>\n",
       "    <tr>\n",
       "      <th>9</th>\n",
       "      <td>1.0</td>\n",
       "      <td>0.074174</td>\n",
       "      <td>0.066870</td>\n",
       "      <td>0.048851</td>\n",
       "      <td>0.040888</td>\n",
       "      <td>0.038434</td>\n",
       "      <td>0.034183</td>\n",
       "      <td>0.025144</td>\n",
       "      <td>0.021911</td>\n",
       "      <td>0.003652</td>\n",
       "      <td>NaN</td>\n",
       "      <td>NaN</td>\n",
       "      <td>NaN</td>\n",
       "    </tr>\n",
       "    <tr>\n",
       "      <th>10</th>\n",
       "      <td>1.0</td>\n",
       "      <td>0.071525</td>\n",
       "      <td>0.053278</td>\n",
       "      <td>0.036956</td>\n",
       "      <td>0.037533</td>\n",
       "      <td>0.030296</td>\n",
       "      <td>0.021750</td>\n",
       "      <td>0.018401</td>\n",
       "      <td>0.004619</td>\n",
       "      <td>NaN</td>\n",
       "      <td>NaN</td>\n",
       "      <td>NaN</td>\n",
       "      <td>NaN</td>\n",
       "    </tr>\n",
       "    <tr>\n",
       "      <th>11</th>\n",
       "      <td>1.0</td>\n",
       "      <td>0.067858</td>\n",
       "      <td>0.046609</td>\n",
       "      <td>0.037287</td>\n",
       "      <td>0.033030</td>\n",
       "      <td>0.023451</td>\n",
       "      <td>0.019084</td>\n",
       "      <td>0.003927</td>\n",
       "      <td>NaN</td>\n",
       "      <td>NaN</td>\n",
       "      <td>NaN</td>\n",
       "      <td>NaN</td>\n",
       "      <td>NaN</td>\n",
       "    </tr>\n",
       "    <tr>\n",
       "      <th>12</th>\n",
       "      <td>1.0</td>\n",
       "      <td>0.049747</td>\n",
       "      <td>0.041832</td>\n",
       "      <td>0.028455</td>\n",
       "      <td>0.022835</td>\n",
       "      <td>0.015830</td>\n",
       "      <td>0.003997</td>\n",
       "      <td>NaN</td>\n",
       "      <td>NaN</td>\n",
       "      <td>NaN</td>\n",
       "      <td>NaN</td>\n",
       "      <td>NaN</td>\n",
       "      <td>NaN</td>\n",
       "    </tr>\n",
       "    <tr>\n",
       "      <th>1</th>\n",
       "      <td>1.0</td>\n",
       "      <td>0.052643</td>\n",
       "      <td>0.036687</td>\n",
       "      <td>0.024620</td>\n",
       "      <td>0.018609</td>\n",
       "      <td>0.002077</td>\n",
       "      <td>NaN</td>\n",
       "      <td>NaN</td>\n",
       "      <td>NaN</td>\n",
       "      <td>NaN</td>\n",
       "      <td>NaN</td>\n",
       "      <td>NaN</td>\n",
       "      <td>NaN</td>\n",
       "    </tr>\n",
       "    <tr>\n",
       "      <th>2</th>\n",
       "      <td>1.0</td>\n",
       "      <td>0.046808</td>\n",
       "      <td>0.027121</td>\n",
       "      <td>0.018336</td>\n",
       "      <td>0.003018</td>\n",
       "      <td>NaN</td>\n",
       "      <td>NaN</td>\n",
       "      <td>NaN</td>\n",
       "      <td>NaN</td>\n",
       "      <td>NaN</td>\n",
       "      <td>NaN</td>\n",
       "      <td>NaN</td>\n",
       "      <td>NaN</td>\n",
       "    </tr>\n",
       "    <tr>\n",
       "      <th>3</th>\n",
       "      <td>1.0</td>\n",
       "      <td>0.040556</td>\n",
       "      <td>0.025888</td>\n",
       "      <td>0.003934</td>\n",
       "      <td>NaN</td>\n",
       "      <td>NaN</td>\n",
       "      <td>NaN</td>\n",
       "      <td>NaN</td>\n",
       "      <td>NaN</td>\n",
       "      <td>NaN</td>\n",
       "      <td>NaN</td>\n",
       "      <td>NaN</td>\n",
       "      <td>NaN</td>\n",
       "    </tr>\n",
       "    <tr>\n",
       "      <th>4</th>\n",
       "      <td>1.0</td>\n",
       "      <td>0.039086</td>\n",
       "      <td>0.005220</td>\n",
       "      <td>NaN</td>\n",
       "      <td>NaN</td>\n",
       "      <td>NaN</td>\n",
       "      <td>NaN</td>\n",
       "      <td>NaN</td>\n",
       "      <td>NaN</td>\n",
       "      <td>NaN</td>\n",
       "      <td>NaN</td>\n",
       "      <td>NaN</td>\n",
       "      <td>NaN</td>\n",
       "    </tr>\n",
       "    <tr>\n",
       "      <th>5</th>\n",
       "      <td>1.0</td>\n",
       "      <td>0.006548</td>\n",
       "      <td>NaN</td>\n",
       "      <td>NaN</td>\n",
       "      <td>NaN</td>\n",
       "      <td>NaN</td>\n",
       "      <td>NaN</td>\n",
       "      <td>NaN</td>\n",
       "      <td>NaN</td>\n",
       "      <td>NaN</td>\n",
       "      <td>NaN</td>\n",
       "      <td>NaN</td>\n",
       "      <td>NaN</td>\n",
       "    </tr>\n",
       "  </tbody>\n",
       "</table>\n",
       "</div>"
      ],
      "text/plain": [
       "edad_meses   0         1         2         3         4         5         6   \\\n",
       "6           1.0  0.072027  0.054303  0.058451  0.071197  0.063881  0.065993   \n",
       "7           1.0  0.054490  0.052359  0.051370  0.058371  0.046347  0.046119   \n",
       "8           1.0  0.067872  0.062273  0.056674  0.053728  0.040468  0.043021   \n",
       "9           1.0  0.074174  0.066870  0.048851  0.040888  0.038434  0.034183   \n",
       "10          1.0  0.071525  0.053278  0.036956  0.037533  0.030296  0.021750   \n",
       "11          1.0  0.067858  0.046609  0.037287  0.033030  0.023451  0.019084   \n",
       "12          1.0  0.049747  0.041832  0.028455  0.022835  0.015830  0.003997   \n",
       "1           1.0  0.052643  0.036687  0.024620  0.018609  0.002077       NaN   \n",
       "2           1.0  0.046808  0.027121  0.018336  0.003018       NaN       NaN   \n",
       "3           1.0  0.040556  0.025888  0.003934       NaN       NaN       NaN   \n",
       "4           1.0  0.039086  0.005220       NaN       NaN       NaN       NaN   \n",
       "5           1.0  0.006548       NaN       NaN       NaN       NaN       NaN   \n",
       "\n",
       "edad_meses        7         8         9         10        11        12  \n",
       "6           0.053775  0.056264  0.049702  0.043442  0.038691  0.020514  \n",
       "7           0.047108  0.040107  0.028843  0.025647  0.008600       NaN  \n",
       "8           0.033396  0.029368  0.023868  0.005697       NaN       NaN  \n",
       "9           0.025144  0.021911  0.003652       NaN       NaN       NaN  \n",
       "10          0.018401  0.004619       NaN       NaN       NaN       NaN  \n",
       "11          0.003927       NaN       NaN       NaN       NaN       NaN  \n",
       "12               NaN       NaN       NaN       NaN       NaN       NaN  \n",
       "1                NaN       NaN       NaN       NaN       NaN       NaN  \n",
       "2                NaN       NaN       NaN       NaN       NaN       NaN  \n",
       "3                NaN       NaN       NaN       NaN       NaN       NaN  \n",
       "4                NaN       NaN       NaN       NaN       NaN       NaN  \n",
       "5                NaN       NaN       NaN       NaN       NaN       NaN  "
      ]
     },
     "execution_count": 98,
     "metadata": {},
     "output_type": "execute_result"
    }
   ],
   "source": [
    "retencion"
   ]
  },
  {
   "cell_type": "markdown",
   "id": "1affceab-ef3b-43f3-8078-6c823bfb3cc5",
   "metadata": {},
   "source": [
    "**TASA DE RETENCION DE LA PAGINA WEB**"
   ]
  },
  {
   "cell_type": "code",
   "execution_count": null,
   "id": "ba32f634-4255-45af-93d4-e557e6fea0d8",
   "metadata": {},
   "outputs": [
    {
     "data": {
      "image/png": "[encoded data removed]",
      "text/plain": [
       "<Figure size 1300x900 with 2 Axes>"
      ]
     },
     "metadata": {},
     "output_type": "display_data"
    }
   ],
   "source": [
    "plt.figure(figsize = (13, 9))\n",
    "sns.heatmap(retencion, annot = True, fmt='0.1%', linewidths = 1, linecolor = 'grey', vmax = 0.1, cbar_kws = {'orientation':'horizontal'}).set(title='Ratio de retencion')\n",
    "plt.show()"
   ]
  },
  {
   "cell_type": "markdown",
   "id": "7f95595d-cc1e-4c07-90c8-ed43d6a1f8c8",
   "metadata": {},
   "source": [
    "Promedio de retencion del primer mes siguiente"
   ]
  },
  {
   "cell_type": "code",
   "execution_count": null,
   "id": "16999171-7b57-4e1c-b875-ee127134ff7a",
   "metadata": {},
   "outputs": [
    {
     "name": "stdout",
     "output_type": "stream",
     "text": [
      "0.05361100820922162\n"
     ]
    }
   ],
   "source": [
    "print(retencion[1].mean())"
   ]
  },
  {
   "cell_type": "code",
   "execution_count": null,
   "id": "aaa3cc42-3d1e-4247-98a6-a06a32d5a19f",
   "metadata": {},
   "outputs": [],
   "source": [
    "# Obtener la primera visita de cada usuario\n",
    "first_visit = visits.groupby('uid')['start_ts'].min().reset_index()"
   ]
  },
  {
   "cell_type": "code",
   "execution_count": null,
   "id": "85e0b062-61c3-4e00-8694-1c0fd955ff6e",
   "metadata": {},
   "outputs": [
    {
     "name": "stdout",
     "output_type": "stream",
     "text": [
      "               uid            start_ts\n",
      "0   11863502262781 2018-03-01 17:27:00\n",
      "1   49537067089222 2018-02-06 15:55:00\n",
      "2  297729379853735 2017-06-07 18:47:00\n",
      "3  313578113262317 2017-09-18 22:49:00\n",
      "4  325320750514679 2017-09-30 14:29:00\n"
     ]
    }
   ],
   "source": [
    "print(first_visit.head())"
   ]
  },
  {
   "cell_type": "code",
   "execution_count": null,
   "id": "2661b38d-be72-41e0-820e-ee3bef322654",
   "metadata": {},
   "outputs": [],
   "source": [
    "# Obtener la primera compra de cada usuario\n",
    "first_order = orders.groupby('uid')['buy_ts'].min().reset_index()"
   ]
  },
  {
   "cell_type": "code",
   "execution_count": null,
   "id": "260467ea-0cf5-42ef-bf34-d7f86284cf6c",
   "metadata": {},
   "outputs": [
    {
     "name": "stdout",
     "output_type": "stream",
     "text": [
      "                uid              buy_ts\n",
      "0   313578113262317 2018-01-03 21:51:00\n",
      "1  1575281904278712 2017-06-03 10:13:00\n",
      "2  2429014661409475 2017-10-11 18:33:00\n",
      "3  2464366381792757 2018-01-28 15:54:00\n",
      "4  2551852515556206 2017-11-24 10:14:00\n"
     ]
    }
   ],
   "source": [
    "print(first_order.head())"
   ]
  },
  {
   "cell_type": "code",
   "execution_count": null,
   "id": "03ff8c1f-26d1-48fe-a697-1f537d3c11d9",
   "metadata": {},
   "outputs": [],
   "source": [
    "# Unir las tablas de primera visita y primera compra en base al 'uid'\n",
    "conversion_data = pd.merge(first_visit, first_order, on='uid', how='inner')"
   ]
  },
  {
   "cell_type": "code",
   "execution_count": null,
   "id": "73804ac7-0656-4ee8-bc20-fb562dfb1f71",
   "metadata": {},
   "outputs": [],
   "source": [
    "conversion_data.columns = ['uid', 'first_visit', 'first_order']"
   ]
  },
  {
   "cell_type": "code",
   "execution_count": null,
   "id": "5318794d-3d09-4836-a3f9-c9dcf8d2e4bb",
   "metadata": {},
   "outputs": [
    {
     "name": "stdout",
     "output_type": "stream",
     "text": [
      "                uid         first_visit         first_order\n",
      "0   313578113262317 2017-09-18 22:49:00 2018-01-03 21:51:00\n",
      "1  1575281904278712 2017-06-03 10:13:00 2017-06-03 10:13:00\n",
      "2  2429014661409475 2017-10-11 17:14:00 2017-10-11 18:33:00\n",
      "3  2464366381792757 2018-01-27 20:10:00 2018-01-28 15:54:00\n",
      "4  2551852515556206 2017-11-24 10:14:00 2017-11-24 10:14:00\n"
     ]
    }
   ],
   "source": [
    "print(conversion_data.head())"
   ]
  },
  {
   "cell_type": "code",
   "execution_count": null,
   "id": "c7eeeaa5-c538-4456-bc5c-d0ec5b5d7d6f",
   "metadata": {},
   "outputs": [],
   "source": [
    "# Calcular el tiempo que transcurre entre la primera visita y la primera compra\n",
    "conversion_data['conversion_days'] = (conversion_data['first_order'] - conversion_data['first_visit']).dt.days"
   ]
  },
  {
   "cell_type": "code",
   "execution_count": null,
   "id": "1499b2b4-2f20-4b97-bce4-b8d9b9538d62",
   "metadata": {},
   "outputs": [
    {
     "name": "stdout",
     "output_type": "stream",
     "text": [
      "                uid         first_visit         first_order  conversion_days\n",
      "0   313578113262317 2017-09-18 22:49:00 2018-01-03 21:51:00              106\n",
      "1  1575281904278712 2017-06-03 10:13:00 2017-06-03 10:13:00                0\n",
      "2  2429014661409475 2017-10-11 17:14:00 2017-10-11 18:33:00                0\n",
      "3  2464366381792757 2018-01-27 20:10:00 2018-01-28 15:54:00                0\n",
      "4  2551852515556206 2017-11-24 10:14:00 2017-11-24 10:14:00                0\n"
     ]
    }
   ],
   "source": [
    "print(conversion_data.head())"
   ]
  },
  {
   "cell_type": "code",
   "execution_count": null,
   "id": "c6fb0ddd-4e70-4534-8214-8010970cb2cf",
   "metadata": {},
   "outputs": [],
   "source": [
    "# Clasificar en categorías como Conversion 0d, Conversion 1d, etc.\n",
    "conversion_data['conversion_category'] = 'conversion ' + conversion_data['conversion_days'].astype(str) + 'd'"
   ]
  },
  {
   "cell_type": "code",
   "execution_count": null,
   "id": "f4b50928-fd50-4f86-b304-85ac7b9f31d9",
   "metadata": {},
   "outputs": [
    {
     "name": "stdout",
     "output_type": "stream",
     "text": [
      "                uid         first_visit         first_order  conversion_days  \\\n",
      "0   313578113262317 2017-09-18 22:49:00 2018-01-03 21:51:00              106   \n",
      "1  1575281904278712 2017-06-03 10:13:00 2017-06-03 10:13:00                0   \n",
      "2  2429014661409475 2017-10-11 17:14:00 2017-10-11 18:33:00                0   \n",
      "3  2464366381792757 2018-01-27 20:10:00 2018-01-28 15:54:00                0   \n",
      "4  2551852515556206 2017-11-24 10:14:00 2017-11-24 10:14:00                0   \n",
      "\n",
      "  conversion_category  \n",
      "0     conversion 106d  \n",
      "1       conversion 0d  \n",
      "2       conversion 0d  \n",
      "3       conversion 0d  \n",
      "4       conversion 0d  \n"
     ]
    }
   ],
   "source": [
    "print(conversion_data.head())"
   ]
  },
  {
   "cell_type": "code",
   "execution_count": null,
   "id": "2e9316ea-cbd4-440f-8274-3abbcef720dd",
   "metadata": {},
   "outputs": [],
   "source": [
    "# Contar la frecuencia de cada categoría de conversión\n",
    "conversion_counts = conversion_data['conversion_category'].value_counts().reset_index()"
   ]
  },
  {
   "cell_type": "code",
   "execution_count": null,
   "id": "fd824a22-5205-4e91-815f-3641a507daab",
   "metadata": {},
   "outputs": [],
   "source": [
    "conversion_counts.columns = ['conversion_category', 'count']"
   ]
  },
  {
   "cell_type": "code",
   "execution_count": null,
   "id": "50365408-c4bb-4629-a10e-7e0e7a55a1e6",
   "metadata": {},
   "outputs": [
    {
     "data": {
      "text/html": [
       "<div>\n",
       "<style scoped>\n",
       "    .dataframe tbody tr th:only-of-type {\n",
       "        vertical-align: middle;\n",
       "    }\n",
       "\n",
       "    .dataframe tbody tr th {\n",
       "        vertical-align: top;\n",
       "    }\n",
       "\n",
       "    .dataframe thead th {\n",
       "        text-align: right;\n",
       "    }\n",
       "</style>\n",
       "<table border=\"1\" class=\"dataframe\">\n",
       "  <thead>\n",
       "    <tr style=\"text-align: right;\">\n",
       "      <th></th>\n",
       "      <th>count</th>\n",
       "    </tr>\n",
       "  </thead>\n",
       "  <tbody>\n",
       "    <tr>\n",
       "      <th>count</th>\n",
       "      <td>345.000000</td>\n",
       "    </tr>\n",
       "    <tr>\n",
       "      <th>mean</th>\n",
       "      <td>105.863768</td>\n",
       "    </tr>\n",
       "    <tr>\n",
       "      <th>std</th>\n",
       "      <td>1419.681297</td>\n",
       "    </tr>\n",
       "    <tr>\n",
       "      <th>min</th>\n",
       "      <td>1.000000</td>\n",
       "    </tr>\n",
       "    <tr>\n",
       "      <th>25%</th>\n",
       "      <td>5.000000</td>\n",
       "    </tr>\n",
       "    <tr>\n",
       "      <th>50%</th>\n",
       "      <td>13.000000</td>\n",
       "    </tr>\n",
       "    <tr>\n",
       "      <th>75%</th>\n",
       "      <td>29.000000</td>\n",
       "    </tr>\n",
       "    <tr>\n",
       "      <th>max</th>\n",
       "      <td>26363.000000</td>\n",
       "    </tr>\n",
       "  </tbody>\n",
       "</table>\n",
       "</div>"
      ],
      "text/plain": [
       "              count\n",
       "count    345.000000\n",
       "mean     105.863768\n",
       "std     1419.681297\n",
       "min        1.000000\n",
       "25%        5.000000\n",
       "50%       13.000000\n",
       "75%       29.000000\n",
       "max    26363.000000"
      ]
     },
     "execution_count": 113,
     "metadata": {},
     "output_type": "execute_result"
    }
   ],
   "source": [
    "conversion_counts.describe()"
   ]
  },
  {
   "cell_type": "markdown",
   "id": "f683a85a-61b2-4bb9-ad0d-2ddbd36bb858",
   "metadata": {},
   "source": [
    "**Observaciones** La mayoría de los usuarios toman entre 1 y 29 días para realizar la compra después de haberse registrado , ya que el 75% de los usuarios están por debajo de 29 días. "
   ]
  },
  {
   "cell_type": "markdown",
   "id": "5886ddff-ccb5-4367-af09-026d0f8a2412",
   "metadata": {},
   "source": [
    "¿Cuántos pedidos hacen durante un período de tiempo dado?"
   ]
  },
  {
   "cell_type": "code",
   "execution_count": null,
   "id": "37b7d1a0-608f-4200-afed-11bdca8da7e5",
   "metadata": {},
   "outputs": [],
   "source": [
    "# Definir el rango de fechas\n",
    "fecha_inicio = '2017-06-01'\n",
    "fecha_fin = '2017-06-30'"
   ]
  },
  {
   "cell_type": "code",
   "execution_count": null,
   "id": "91907f20-96a6-4496-bba2-bf40d48b513e",
   "metadata": {},
   "outputs": [],
   "source": [
    "# Filtrar los datos dentro del rango de fechas\n",
    "pedidos_en_periodo = orders[(orders['buy_ts'] >= fecha_inicio) & (orders['buy_ts'] <= fecha_fin)]"
   ]
  },
  {
   "cell_type": "code",
   "execution_count": null,
   "id": "dc806050-aa09-4e39-bb62-b03a98abb49a",
   "metadata": {},
   "outputs": [],
   "source": [
    "# Contar el número de pedidos en ese periodo\n",
    "numero_pedidos = pedidos_en_periodo['uid'].count()"
   ]
  },
  {
   "cell_type": "code",
   "execution_count": null,
   "id": "28b4e739-615d-4e49-a520-2223f26e6206",
   "metadata": {},
   "outputs": [
    {
     "name": "stdout",
     "output_type": "stream",
     "text": [
      "Número de pedidos entre 2017-06-01 y 2017-06-30: 2272\n"
     ]
    }
   ],
   "source": [
    "print(f\"Número de pedidos entre {fecha_inicio} y {fecha_fin}: {numero_pedidos}\")"
   ]
  },
  {
   "cell_type": "markdown",
   "id": "ea7bf9b9-86be-4161-aef2-ddb9a9a8cdd1",
   "metadata": {},
   "source": [
    "¿Cuál es el tamaño promedio de compra?"
   ]
  },
  {
   "cell_type": "code",
   "execution_count": null,
   "id": "57472d02-86f8-429f-bd2e-8c950056ff66",
   "metadata": {},
   "outputs": [],
   "source": [
    "# Calcular el tamaño promedio de compra\n",
    "tamaño_promedio_compra = orders['revenue'].mean()"
   ]
  },
  {
   "cell_type": "code",
   "execution_count": null,
   "id": "e516b756-a0ff-4ed1-b4f9-328ba92a48d3",
   "metadata": {},
   "outputs": [
    {
     "name": "stdout",
     "output_type": "stream",
     "text": [
      "El tamaño promedio de compra es: 5.00\n"
     ]
    }
   ],
   "source": [
    "print(f\"El tamaño promedio de compra es: {tamaño_promedio_compra:.2f}\")"
   ]
  },
  {
   "cell_type": "markdown",
   "id": "2bcb1d48-0b86-40dc-a53d-10b0483f735c",
   "metadata": {},
   "source": [
    "¿Cuánto dinero traen? (LTV)"
   ]
  },
  {
   "cell_type": "code",
   "execution_count": null,
   "id": "d0ca052a-6ea5-4f4d-8102-758cf2d2461e",
   "metadata": {},
   "outputs": [],
   "source": [
    "# Agrupar por 'uid' y sumar los ingresos 'revenue' por cada cliente\n",
    "ltv_por_cliente = orders.groupby('uid')['revenue'].sum().reset_index()"
   ]
  },
  {
   "cell_type": "code",
   "execution_count": null,
   "id": "391a1fd5-9833-4574-9d1d-c70af92e8745",
   "metadata": {},
   "outputs": [],
   "source": [
    "# Renombrar la columna de Revenue a LTV\n",
    "ltv_por_cliente = ltv_por_cliente.rename(columns={'revenue': 'LTV'})"
   ]
  },
  {
   "cell_type": "code",
   "execution_count": null,
   "id": "f441801a-9bce-4020-9fa1-f23b37486b2f",
   "metadata": {},
   "outputs": [
    {
     "name": "stdout",
     "output_type": "stream",
     "text": [
      "                uid    LTV\n",
      "0   313578113262317   0.55\n",
      "1  1575281904278712   3.05\n",
      "2  2429014661409475  73.33\n",
      "3  2464366381792757   2.44\n",
      "4  2551852515556206  10.99\n"
     ]
    }
   ],
   "source": [
    "print(ltv_por_cliente.head())"
   ]
  },
  {
   "cell_type": "code",
   "execution_count": null,
   "id": "a76f4aa1-3358-4fea-bf0f-98f01a997084",
   "metadata": {},
   "outputs": [
    {
     "data": {
      "text/html": [
       "<div>\n",
       "<style scoped>\n",
       "    .dataframe tbody tr th:only-of-type {\n",
       "        vertical-align: middle;\n",
       "    }\n",
       "\n",
       "    .dataframe tbody tr th {\n",
       "        vertical-align: top;\n",
       "    }\n",
       "\n",
       "    .dataframe thead th {\n",
       "        text-align: right;\n",
       "    }\n",
       "</style>\n",
       "<table border=\"1\" class=\"dataframe\">\n",
       "  <thead>\n",
       "    <tr style=\"text-align: right;\">\n",
       "      <th></th>\n",
       "      <th>uid</th>\n",
       "      <th>LTV</th>\n",
       "    </tr>\n",
       "  </thead>\n",
       "  <tbody>\n",
       "    <tr>\n",
       "      <th>count</th>\n",
       "      <td>3.652300e+04</td>\n",
       "      <td>36523.000000</td>\n",
       "    </tr>\n",
       "    <tr>\n",
       "      <th>mean</th>\n",
       "      <td>9.213152e+18</td>\n",
       "      <td>6.901328</td>\n",
       "    </tr>\n",
       "    <tr>\n",
       "      <th>std</th>\n",
       "      <td>5.324792e+18</td>\n",
       "      <td>88.128535</td>\n",
       "    </tr>\n",
       "    <tr>\n",
       "      <th>min</th>\n",
       "      <td>3.135781e+14</td>\n",
       "      <td>0.000000</td>\n",
       "    </tr>\n",
       "    <tr>\n",
       "      <th>25%</th>\n",
       "      <td>4.615081e+18</td>\n",
       "      <td>1.470000</td>\n",
       "    </tr>\n",
       "    <tr>\n",
       "      <th>50%</th>\n",
       "      <td>9.245161e+18</td>\n",
       "      <td>3.050000</td>\n",
       "    </tr>\n",
       "    <tr>\n",
       "      <th>75%</th>\n",
       "      <td>1.383709e+19</td>\n",
       "      <td>5.800000</td>\n",
       "    </tr>\n",
       "    <tr>\n",
       "      <th>max</th>\n",
       "      <td>1.844617e+19</td>\n",
       "      <td>11810.180000</td>\n",
       "    </tr>\n",
       "  </tbody>\n",
       "</table>\n",
       "</div>"
      ],
      "text/plain": [
       "                uid           LTV\n",
       "count  3.652300e+04  36523.000000\n",
       "mean   9.213152e+18      6.901328\n",
       "std    5.324792e+18     88.128535\n",
       "min    3.135781e+14      0.000000\n",
       "25%    4.615081e+18      1.470000\n",
       "50%    9.245161e+18      3.050000\n",
       "75%    1.383709e+19      5.800000\n",
       "max    1.844617e+19  11810.180000"
      ]
     },
     "execution_count": 123,
     "metadata": {},
     "output_type": "execute_result"
    }
   ],
   "source": [
    "ltv_por_cliente.describe()"
   ]
  },
  {
   "cell_type": "markdown",
   "id": "578763bd-c458-4fa8-ad87-c4e840ebce00",
   "metadata": {},
   "source": [
    "**Observaciones** Para calcular el LTV (Lifetime Value), que es el valor total que un cliente aporta a la empresa durante toda su relación, se suman los ingresos generados por cada cliente (es decir, todos los valores de revenue asociados a un uid).  El LTV promedio de todos los usuarios es de 6.90, lo cual significa que, en general, un usuario genera aproximadamente esta cantidad de ingresos en su ciclo de vida en la plataforma."
   ]
  },
  {
   "cell_type": "markdown",
   "id": "ed89fb19-b2b8-45d6-b6dd-baed91f4228e",
   "metadata": {},
   "source": [
    "**Marketing**"
   ]
  },
  {
   "cell_type": "markdown",
   "id": "31b4642e-a46a-430c-9daa-2543cc985f37",
   "metadata": {},
   "source": [
    "¿Cuánto dinero se gastó?  (Total/por fuente de adquisición/a lo largo del tiempo) "
   ]
  },
  {
   "cell_type": "code",
   "execution_count": null,
   "id": "8e861390-b800-43d2-af7e-2f7c47b9d540",
   "metadata": {},
   "outputs": [],
   "source": [
    "# Dinero gastado total\n",
    "gasto_total = costs['costs'].sum()"
   ]
  },
  {
   "cell_type": "code",
   "execution_count": null,
   "id": "5b78af00-4817-472a-897e-2c99f4703a91",
   "metadata": {},
   "outputs": [
    {
     "name": "stdout",
     "output_type": "stream",
     "text": [
      "Total gastado: 329131.62\n"
     ]
    }
   ],
   "source": [
    "print(f\"Total gastado: {gasto_total}\")"
   ]
  },
  {
   "cell_type": "code",
   "execution_count": null,
   "id": "d46d6c8c-6c0a-4d6d-8372-1eb4046dfa5d",
   "metadata": {},
   "outputs": [],
   "source": [
    "# Dinero gastado por fuente de adquisición\n",
    "gasto_por_fuente = costs.groupby('source_id')['costs'].sum()"
   ]
  },
  {
   "cell_type": "code",
   "execution_count": null,
   "id": "13f32728-e954-42a6-a8b1-851c9d63f37a",
   "metadata": {},
   "outputs": [
    {
     "name": "stdout",
     "output_type": "stream",
     "text": [
      "Gastado por fuente de adquisición:\n",
      " source_id\n",
      "1      20833.27\n",
      "2      42806.04\n",
      "3     141321.63\n",
      "4      61073.60\n",
      "5      51757.10\n",
      "9       5517.49\n",
      "10      5822.49\n",
      "Name: costs, dtype: float64\n"
     ]
    }
   ],
   "source": [
    "print(\"Gastado por fuente de adquisición:\\n\", gasto_por_fuente.head(10))"
   ]
  },
  {
   "cell_type": "code",
   "execution_count": null,
   "id": "9e77ddc0-a2fe-4a9c-8616-eb9accc673b2",
   "metadata": {},
   "outputs": [],
   "source": [
    "# Dinero gastado a lo largo del tiempo\n",
    "gastos_tiempo = costs.groupby('dt')['costs'].sum()"
   ]
  },
  {
   "cell_type": "code",
   "execution_count": null,
   "id": "d973dcaa-4592-48ea-92ba-9793c9e1f3f8",
   "metadata": {},
   "outputs": [
    {
     "name": "stdout",
     "output_type": "stream",
     "text": [
      "Gastado a lo largo del tiempo:\n",
      " dt\n",
      "2017-06-01     735.26\n",
      "2017-06-02     721.19\n",
      "2017-06-03     450.85\n",
      "2017-06-04     761.16\n",
      "2017-06-05     821.44\n",
      "               ...   \n",
      "2018-05-27     532.87\n",
      "2018-05-28     619.44\n",
      "2018-05-29     784.79\n",
      "2018-05-30    1183.00\n",
      "2018-05-31    2153.70\n",
      "Name: costs, Length: 364, dtype: float64\n"
     ]
    }
   ],
   "source": [
    "print(\"Gastado a lo largo del tiempo:\\n\", gastos_tiempo)"
   ]
  },
  {
   "cell_type": "markdown",
   "id": "5072003b-65e7-46b5-8181-df699ec0c9e9",
   "metadata": {},
   "source": [
    "¿Cuál fue el costo de adquisición de clientes de cada una de las fuentes?"
   ]
  },
  {
   "cell_type": "code",
   "execution_count": null,
   "id": "8e62a022-f3e3-4567-878b-35e5d70ed3ae",
   "metadata": {},
   "outputs": [],
   "source": [
    "# Fusionamos visitas con orders para saber de qué fuente provienen las compras\n",
    "visits_orders = pd.merge(visits, orders, on='uid', how='inner')"
   ]
  },
  {
   "cell_type": "code",
   "execution_count": null,
   "id": "155eaec9-9076-47e5-8559-95d0140351d5",
   "metadata": {},
   "outputs": [
    {
     "name": "stdout",
     "output_type": "stream",
     "text": [
      "    device              end_ts  source_id            start_ts  \\\n",
      "0  desktop 2018-05-20 11:23:00          9 2018-05-20 10:59:00   \n",
      "1  desktop 2017-09-03 21:36:00          5 2017-09-03 21:35:00   \n",
      "2  desktop 2017-09-03 21:36:00          5 2017-09-03 21:35:00   \n",
      "3  desktop 2017-09-03 21:36:00          5 2017-09-03 21:35:00   \n",
      "4  desktop 2018-02-06 15:50:00          4 2018-02-06 15:45:00   \n",
      "\n",
      "                    uid        date  week  month         day  \\\n",
      "0  16174680259334210214  2018-05-20    20      5  2018-05-20   \n",
      "1  16007536194108375387  2017-09-03    35      9  2017-09-03   \n",
      "2  16007536194108375387  2017-09-03    35      9  2017-09-03   \n",
      "3  16007536194108375387  2017-09-03    35      9  2017-09-03   \n",
      "4   8056418121947262981  2018-02-06     6      2  2018-02-06   \n",
      "\n",
      "   session_duration  start_date              buy_ts  revenue  \n",
      "0              1440  2018-05-20 2018-03-09 20:25:00     2.33  \n",
      "1                60  2017-09-03 2017-09-04 12:46:00     2.44  \n",
      "2                60  2017-09-03 2017-10-28 00:01:00     1.53  \n",
      "3                60  2017-09-03 2017-10-28 19:16:00     1.53  \n",
      "4               300  2018-02-06 2017-06-25 08:54:00     3.67  \n"
     ]
    }
   ],
   "source": [
    "print(visits_orders.head())"
   ]
  },
  {
   "cell_type": "code",
   "execution_count": null,
   "id": "b1a8bac6-cf0c-49bf-859f-8c7239f1db77",
   "metadata": {},
   "outputs": [],
   "source": [
    "# Agrupamos por la fuente de anuncios y contamos el número de usuarios únicos\n",
    "usuarios_por_fuente = visits_orders.groupby('source_id')['uid'].nunique()"
   ]
  },
  {
   "cell_type": "code",
   "execution_count": null,
   "id": "36b71e63-d5ab-4090-9ca3-c995eec7e2ca",
   "metadata": {},
   "outputs": [
    {
     "name": "stdout",
     "output_type": "stream",
     "text": [
      "source_id\n",
      "1      7138\n",
      "2      7305\n",
      "3     13846\n",
      "4     14253\n",
      "5     10156\n",
      "7         1\n",
      "9      2793\n",
      "10     1773\n",
      "Name: uid, dtype: int64\n"
     ]
    }
   ],
   "source": [
    "print(usuarios_por_fuente.head(10))"
   ]
  },
  {
   "cell_type": "code",
   "execution_count": null,
   "id": "c237a627-5b4a-460f-8b39-522086ab81ff",
   "metadata": {},
   "outputs": [],
   "source": [
    "# Costo de adquisición por cada fuente (CAC = total costs / number of customers)\n",
    "cac_por_fuente = gasto_por_fuente  / usuarios_por_fuente"
   ]
  },
  {
   "cell_type": "code",
   "execution_count": null,
   "id": "ba49a13b-f63c-488b-b09c-896d44f4c188",
   "metadata": {},
   "outputs": [
    {
     "name": "stdout",
     "output_type": "stream",
     "text": [
      "Costo de adquisición de clientes por fuente:\n",
      " source_id\n",
      "1      2.918642\n",
      "2      5.859828\n",
      "3     10.206676\n",
      "4      4.284965\n",
      "5      5.096209\n",
      "7           NaN\n",
      "9      1.975471\n",
      "10     3.283976\n",
      "dtype: float64\n"
     ]
    }
   ],
   "source": [
    "print(\"Costo de adquisición de clientes por fuente:\\n\", cac_por_fuente)"
   ]
  },
  {
   "cell_type": "markdown",
   "id": "3a2b705f-28a2-4b24-917c-ae8a6b6d4847",
   "metadata": {},
   "source": [
    "¿Cuán rentables eran las inversiones? (ROMI)"
   ]
  },
  {
   "cell_type": "code",
   "execution_count": null,
   "id": "775045cc-8a78-4156-bcf5-87a9f9e9ad25",
   "metadata": {},
   "outputs": [],
   "source": [
    "# Ingresos por cada fuente\n",
    "rentabilidad_por_fuente = visits_orders.groupby('source_id')['revenue'].sum()"
   ]
  },
  {
   "cell_type": "code",
   "execution_count": null,
   "id": "ae8aa7e4-087a-4f38-9649-c4ea94015c19",
   "metadata": {},
   "outputs": [],
   "source": [
    "# Calcular el ROMI por cada fuente\n",
    "romi_por_fuente = (rentabilidad_por_fuente - gasto_por_fuente ) / gasto_por_fuente"
   ]
  },
  {
   "cell_type": "code",
   "execution_count": null,
   "id": "fd2f937d-8ad7-4194-9ea4-6f6de027b1ac",
   "metadata": {},
   "outputs": [
    {
     "name": "stdout",
     "output_type": "stream",
     "text": [
      "ROMI por fuente de adquisición:\n",
      " source_id\n",
      "1     109.313944\n",
      "2      60.631237\n",
      "3       1.099381\n",
      "4       7.132649\n",
      "5      21.827344\n",
      "7            NaN\n",
      "9       5.586736\n",
      "10      1.510821\n",
      "dtype: float64\n"
     ]
    }
   ],
   "source": [
    "print(\"ROMI por fuente de adquisición:\\n\", romi_por_fuente)"
   ]
  },
  {
   "cell_type": "markdown",
   "id": "b6a5a206-25d6-45ec-88e2-c0ed812d61ec",
   "metadata": {},
   "source": [
    "**Gráficos**"
   ]
  },
  {
   "cell_type": "markdown",
   "id": "b748761e-10c8-4f4c-a7fb-ae9c329f5465",
   "metadata": {},
   "source": [
    "-Gasto total a lo largo del tiempo por fuente de anuncios"
   ]
  },
  {
   "cell_type": "code",
   "execution_count": null,
   "id": "148b5d54-3a17-44d7-86fe-381b8d61ff31",
   "metadata": {},
   "outputs": [],
   "source": [
    "gasto_por_fuente_tiempo = costs.groupby(['dt', 'source_id'])['costs'].sum().reset_index()"
   ]
  },
  {
   "cell_type": "code",
   "execution_count": null,
   "id": "fb5765f0-caab-47be-b526-50558b2950a3",
   "metadata": {},
   "outputs": [
    {
     "name": "stdout",
     "output_type": "stream",
     "text": [
      "          dt  source_id   costs\n",
      "0 2017-06-01          1   75.20\n",
      "1 2017-06-01          2  132.56\n",
      "2 2017-06-01          3  349.38\n",
      "3 2017-06-01          4   76.74\n",
      "4 2017-06-01          5   73.24\n"
     ]
    }
   ],
   "source": [
    "print(gasto_por_fuente_tiempo .head())"
   ]
  },
  {
   "cell_type": "code",
   "execution_count": null,
   "id": "43329fb8-f833-412e-bb7e-cdb59757c1e0",
   "metadata": {},
   "outputs": [
    {
     "data": {
      "image/png": "[encoded data removed]",
      "text/plain": [
       "<Figure size 1000x600 with 1 Axes>"
      ]
     },
     "metadata": {},
     "output_type": "display_data"
    }
   ],
   "source": [
    "palette = sns.color_palette(\"Set2\", n_colors=gasto_por_fuente_tiempo['source_id'].nunique())\n",
    "\n",
    "plt.figure(figsize=(10, 6))\n",
    "sns.lineplot(data=gasto_por_fuente_tiempo, x='dt', y='costs', hue='source_id', palette=palette)\n",
    "plt.title(\"Gasto total por fuente de anuncios a lo largo del tiempo\")\n",
    "plt.xlabel(\"Fecha\")\n",
    "plt.ylabel(\"Costos\")\n",
    "plt.xticks(rotation=45)\n",
    "plt.tight_layout()\n",
    "plt.show()"
   ]
  },
  {
   "cell_type": "markdown",
   "id": "afdf3dfa-8eef-49d6-8145-17aa1d6ff21d",
   "metadata": {},
   "source": [
    "-Costo de adquisición de clientes (CAC) por fuente de anuncios"
   ]
  },
  {
   "cell_type": "code",
   "execution_count": null,
   "id": "07276171-5e8d-45b7-922a-ac6215f0564d",
   "metadata": {},
   "outputs": [],
   "source": [
    "usuarios_por_fuente = visits_orders.groupby('source_id')['uid'].nunique().reset_index()"
   ]
  },
  {
   "cell_type": "code",
   "execution_count": null,
   "id": "633e3997-e39d-4889-a5dd-1486c76661d8",
   "metadata": {},
   "outputs": [],
   "source": [
    "usuarios_por_fuente.columns = ['source_id', 'num_customers']"
   ]
  },
  {
   "cell_type": "code",
   "execution_count": null,
   "id": "7515a30f-3035-483e-bfca-68366646bcf5",
   "metadata": {},
   "outputs": [
    {
     "name": "stdout",
     "output_type": "stream",
     "text": [
      "   source_id  num_customers\n",
      "0          1           7138\n",
      "1          2           7305\n",
      "2          3          13846\n",
      "3          4          14253\n",
      "4          5          10156\n",
      "5          7              1\n",
      "6          9           2793\n",
      "7         10           1773\n"
     ]
    }
   ],
   "source": [
    "print(usuarios_por_fuente)"
   ]
  },
  {
   "cell_type": "code",
   "execution_count": null,
   "id": "ec177e03-b412-4dcf-b777-0be478c629a3",
   "metadata": {},
   "outputs": [],
   "source": [
    "cac_por_fuente = pd.merge(gasto_por_fuente_tiempo.groupby('source_id')['costs'].sum().reset_index(), usuarios_por_fuente, on='source_id')"
   ]
  },
  {
   "cell_type": "code",
   "execution_count": null,
   "id": "11b4590e-f18f-41fe-b2ae-353975b5fa4a",
   "metadata": {},
   "outputs": [
    {
     "name": "stdout",
     "output_type": "stream",
     "text": [
      "   source_id      costs  num_customers\n",
      "0          1   20833.27           7138\n",
      "1          2   42806.04           7305\n",
      "2          3  141321.63          13846\n",
      "3          4   61073.60          14253\n",
      "4          5   51757.10          10156\n",
      "5          9    5517.49           2793\n",
      "6         10    5822.49           1773\n"
     ]
    }
   ],
   "source": [
    "print(cac_por_fuente)"
   ]
  },
  {
   "cell_type": "code",
   "execution_count": null,
   "id": "36d081bc-913f-47fe-b033-d03baec5d42b",
   "metadata": {},
   "outputs": [],
   "source": [
    "cac_por_fuente['CAC'] = cac_por_fuente['costs'] / cac_por_fuente['num_customers']"
   ]
  },
  {
   "cell_type": "code",
   "execution_count": null,
   "id": "d6f38e3a-c640-444b-9834-6ad7575e0fdb",
   "metadata": {},
   "outputs": [
    {
     "name": "stdout",
     "output_type": "stream",
     "text": [
      "   source_id      costs  num_customers        CAC\n",
      "0          1   20833.27           7138   2.918642\n",
      "1          2   42806.04           7305   5.859828\n",
      "2          3  141321.63          13846  10.206676\n",
      "3          4   61073.60          14253   4.284965\n",
      "4          5   51757.10          10156   5.096209\n",
      "5          9    5517.49           2793   1.975471\n",
      "6         10    5822.49           1773   3.283976\n"
     ]
    }
   ],
   "source": [
    "print(cac_por_fuente)"
   ]
  },
  {
   "cell_type": "code",
   "execution_count": null,
   "id": "72d72125-4665-48d8-832e-064927ff787b",
   "metadata": {},
   "outputs": [
    {
     "data": {
      "image/png": "[encoded data removed]",
      "text/plain": [
       "<Figure size 1000x600 with 1 Axes>"
      ]
     },
     "metadata": {},
     "output_type": "display_data"
    }
   ],
   "source": [
    "plt.figure(figsize=(10, 6))\n",
    "sns.barplot(data=cac_por_fuente, x='source_id', y='CAC')\n",
    "plt.title(\"Costo de adquisición de clientes (CAC) por fuente de anuncios\")\n",
    "plt.xlabel(\"Fuente de Anuncios\")\n",
    "plt.ylabel(\"CAC\")\n",
    "plt.tight_layout()\n",
    "plt.show()"
   ]
  },
  {
   "cell_type": "markdown",
   "id": "fc5e13c2-7630-4716-9ab2-bcd0c4b5fa66",
   "metadata": {},
   "source": [
    "-ROMI por fuente de anuncios"
   ]
  },
  {
   "cell_type": "code",
   "execution_count": null,
   "id": "ae50e45e-6261-4e8d-a48a-b4c93690c601",
   "metadata": {},
   "outputs": [],
   "source": [
    "romi_por_fuente = romi_por_fuente.reset_index()"
   ]
  },
  {
   "cell_type": "code",
   "execution_count": null,
   "id": "bd42117e-1fa7-4b7f-8810-3077fd66124c",
   "metadata": {},
   "outputs": [],
   "source": [
    "romi_por_fuente.columns = ['source_id', 'ROMI']"
   ]
  },
  {
   "cell_type": "code",
   "execution_count": null,
   "id": "45ca8003-0655-441a-a774-f7e3a94586e3",
   "metadata": {},
   "outputs": [
    {
     "name": "stdout",
     "output_type": "stream",
     "text": [
      "   source_id        ROMI\n",
      "0          1  109.313944\n",
      "1          2   60.631237\n",
      "2          3    1.099381\n",
      "3          4    7.132649\n",
      "4          5   21.827344\n",
      "5          7         NaN\n",
      "6          9    5.586736\n",
      "7         10    1.510821\n"
     ]
    }
   ],
   "source": [
    "print(romi_por_fuente)"
   ]
  },
  {
   "cell_type": "code",
   "execution_count": null,
   "id": "9776f673-7fe4-42a5-a912-662f2c844b20",
   "metadata": {},
   "outputs": [
    {
     "data": {
      "text/plain": [
       "Text(0.5, 0, 'Fuente de Anuncios')"
      ]
     },
     "execution_count": 153,
     "metadata": {},
     "output_type": "execute_result"
    },
    {
     "data": {
      "image/png": "[encoded data removed]",
      "text/plain": [
       "<Figure size 1000x600 with 1 Axes>"
      ]
     },
     "metadata": {},
     "output_type": "display_data"
    }
   ],
   "source": [
    "plt.figure(figsize=(10, 6))\n",
    "sns.barplot(x='source_id', y='ROMI', data=romi_por_fuente)\n",
    "plt.title(\"ROMI por fuente de anuncios\")\n",
    "plt.xlabel(\"Fuente de Anuncios\")"
   ]
  },
  {
   "cell_type": "markdown",
   "id": "4571570a-eb61-4cc7-b892-373f68eada6b",
   "metadata": {},
   "source": [
    "-Ganancia por dispositivo "
   ]
  },
  {
   "cell_type": "code",
   "execution_count": null,
   "id": "43cf4ef1-d398-4da9-b23f-547faf7c6c4e",
   "metadata": {},
   "outputs": [],
   "source": [
    "ganancia_por_dispositivo = visits_orders.groupby(['device'])['revenue'].sum().reset_index()"
   ]
  },
  {
   "cell_type": "code",
   "execution_count": null,
   "id": "0e6de199-3008-4c50-a9a2-b5a124c4a353",
   "metadata": {},
   "outputs": [
    {
     "name": "stdout",
     "output_type": "stream",
     "text": [
      "    device     revenue\n",
      "0  desktop  6447893.99\n",
      "1    touch   514313.36\n"
     ]
    }
   ],
   "source": [
    "print(ganancia_por_dispositivo)"
   ]
  },
  {
   "cell_type": "code",
   "execution_count": null,
   "id": "d67eba87-ab51-4c41-94da-2b3e831a6ed1",
   "metadata": {},
   "outputs": [
    {
     "data": {
      "image/png": "[encoded data removed]",
      "text/plain": [
       "<Figure size 1000x600 with 1 Axes>"
      ]
     },
     "metadata": {},
     "output_type": "display_data"
    }
   ],
   "source": [
    "plt.figure(figsize=(10, 6))\n",
    "sns.barplot(data=ganancia_por_dispositivo, x='device', y='revenue')\n",
    "plt.title(\"Ganancia por dispositivo\")\n",
    "plt.xlabel(\"Dispositivo\")\n",
    "plt.ylabel(\"Ganancia\")\n",
    "plt.xticks(rotation=45)\n",
    "plt.tight_layout()\n",
    "plt.show()"
   ]
  },
  {
   "cell_type": "markdown",
   "id": "d23b5cdc-c628-4ee3-a2f9-d013c546dae4",
   "metadata": {},
   "source": [
    "# Conclusión y recomendaciones"
   ]
  },
  {
   "cell_type": "markdown",
   "id": "d5a96ba7-adc7-46cc-80bb-2008fa9b049b",
   "metadata": {},
   "source": [
    "* Para realizar el proyecto cargué las librerías necesarias para poder realizar los análisis solicitados.\n",
    "* **Análisis Exploratorio de Datos** \n",
    "    Incorporé la base de datos y ocupé los  métodos head, info y describe para explorar la cantidad y los tipos de datos, la información de las columnas y los datos estadísticos, la detección de datos ausentes y eliminación de datos duplicados de este grupo de datos. Se uniformaron los nombres de las columnas a minúsculas, se remplazaron los espacios vacíos' ' por '_' y en el caso de las columnas que tuvieran información de fecha se cambio su tipo de dato object por date time, se examinó si habían datos duplicados y nulos los cuales no se encontraron.\n",
    "* **Análisis exploratorio y cálculo de métricas**\n",
    "    La fecha con el mayor número de visitas 2017-11-24 con 4042 usuarios, coincide con ser el 'Black Friday' en USA, día donde hay muchas rebajas y descuentos por lo que el número de compras se dispara lo que coincide con el aumento de número de usuarios. El comportamiento de visitas por semana y por mes son sumilares en el sentido que disminuyen a partir de oct, nov y dic del 2017 y empiezan a recuperarse en febrero del 2018.\n",
    "   La mayoría de los usuarios toman entre 1 y 29 días para realizar la compra después de haberse registrado , ya que el 75% de los usuarios están por debajo de 29 días.\n",
    "   La mayoría de los usuarios generan un **LTV** bajo, pero un pequeño número de usuarios contribuye significativamente, elevando el promedio. En este caso, sería útil identificar y enfocar esfuerzos en retener a esos usuarios de alto LTV, ya que representan una parte importante de los ingresos generales.\n",
    "  ### Conclusión y recomendaciones para el equipo de marketing:\n",
    "\n",
    "#### **Análisis de las fuentes de adquisición:**\n",
    "\n",
    "- **Gasto total por fuente:**\n",
    "  - La fuente 3 ha sido la que más dinero ha consumido, con un gasto total de **141,321.63**.\n",
    "  - Otras fuentes importantes son la fuente 4 (**61,073.60**) y la fuente 2 (**42,806.04**).\n",
    "  \n",
    "- **Costo de adquisición de clientes (CAC):**\n",
    "  - La fuente más costosa para adquirir clientes es la **fuente 3**, con un CAC de **10.21**, lo que sugiere que es costoso atraer clientes a través de esta plataforma.\n",
    "  - La **fuente 9** y la **fuente 1** presentan los costos de adquisición más bajos, **1.98** y **2.92**, respectivamente.\n",
    "\n",
    "- **ROMI (Retorno sobre Inversión en Marketing):**\n",
    "  - La **fuente 1** es la más rentable, con un ROMI de **109.31**, lo que indica un retorno sobresaliente en comparación con las demás fuentes.\n",
    "  - La **fuente 2** también presenta un buen ROMI de **60.63**, pero considerablemente menor que la fuente 1.\n",
    "  - En cambio, la **fuente 3** ha tenido el menor retorno, con un ROMI de **1.10**, lo que sugiere que no es una inversión eficiente a pesar del alto gasto.\n",
    "  - Otras fuentes con buen rendimiento incluyen la **fuente 5** (ROMI de **21.83**) y la **fuente 9** (ROMI de **5.59**), aunque son menos rentables que la fuente 1.\n",
    "\n",
    "#### **Análisis de dispositivos:**\n",
    "- La mayor parte de los ingresos proviene de los usuarios que utilizan **dispositivos de escritorio** (**6,447,893.99**), mientras que los usuarios de **dispositivos touch** generan significativamente menos ingresos (**514,313.36**).\n",
    "- Esto sugiere que las campañas de marketing deberían enfocarse en dispositivos de escritorio, ya que son los que generan mayor rentabilidad.\n",
    "\n",
    "#### **Recomendaciones:**\n",
    "\n",
    "1. **Invertir en la fuente 1:**\n",
    "   - La **fuente 1** tiene el mejor ROMI (**109.31**) y un bajo costo de adquisición (**2.92**). Por lo tanto, es una inversión altamente rentable, recomendando aumentar o al menos mantener la inversión en esta fuente.\n",
    "\n",
    "2. **Reevaluar la inversión en la fuente 3:**\n",
    "   - Aunque es la fuente en la que más dinero se ha gastado, su **ROMI es el más bajo** (**1.10**) y tiene el **CAC más alto** (**10.21**). Esto sugiere que la fuente no es efectiva en términos de retorno de inversión. Se recomienda reducir la inversión en la fuente 3 o reconsiderar la estrategia de marketing.\n",
    "\n",
    "3. **Incrementar inversión en la fuente 2 y 5:**\n",
    "   - La **fuente 2** tiene un **ROMI sólido** (**60.63**) y un **CAC relativamente alto** (**5.86**), pero sigue siendo una buena oportunidad para atraer más clientes. \n",
    "   - La **fuente 5** también presenta un **ROMI positivo** (**21.83**) y un CAC moderado, por lo que aumentar la inversión en estas fuentes podría traer buenos resultados.\n",
    "\n",
    "4. **Continuar utilizando la fuente 9:**\n",
    "   - A pesar de ser una fuente de menor escala (gasto de **5,517.49**), la **fuente 9** tiene el **CAC más bajo** (**1.98**) y un **ROMI positivo** (**5.59**). Esto sugiere que se podría explorar aumentar ligeramente la inversión en esta fuente.\n",
    "\n",
    "5. **Priorizar dispositivos de escritorio:**\n",
    "   - La mayor parte de los ingresos proviene de **dispositivos de escritorio**, por lo que las campañas de marketing deberían enfocarse principalmente en atraer usuarios de estos dispositivos, aunque no se debe descuidar el potencial de usuarios en dispositivos touch.\n",
    "\n",
    "#### **Enfoque en métricas clave:**\n",
    "- **ROMI**: Principal métrica utilizada para evaluar la rentabilidad de cada fuente.\n",
    "- **CAC**: Evaluado para entender el costo por cada cliente nuevo y buscar eficiencia en la inversión.\n",
    "- **Ingresos por dispositivo**: Para identificar qué tipo de dispositivos están generando más ingresos y ajustar las campañas en función de ello.\n",
    "\n",
    "En resumen, se recomienda **aumentar la inversión en las fuentes más rentables (1, 2 y 5)**, **reducir el gasto en la fuente 3** y **priorizar campañas enfocadas en usuarios de escritorio**, con el fin de maximizar la rentabilidad y optimizar el gasto en marketing.\n",
    "  \n",
    "  \n",
    "  "
   ]
  }
 ],
 "metadata": {
  "ExecuteTimeLog": [
   {
    "duration": 9,
    "start_time": "2024-10-06T03:41:20.156Z"
   }
  ],
  "kernelspec": {
   "display_name": "Python 3 (ipykernel)",
   "language": "python",
   "name": "python3"
  },
  "language_info": {
   "codemirror_mode": {
    "name": "ipython",
    "version": 3
   },
   "file_extension": ".py",
   "mimetype": "text/x-python",
   "name": "python",
   "nbconvert_exporter": "python",
   "pygments_lexer": "ipython3",
   "version": "3.12.4"
  },
  "toc": {
   "base_numbering": 1,
   "nav_menu": {},
   "number_sections": true,
   "sideBar": true,
   "skip_h1_title": true,
   "title_cell": "Table of Contents",
   "title_sidebar": "Contents",
   "toc_cell": false,
   "toc_position": {},
   "toc_section_display": true,
   "toc_window_display": false
  }
 },
 "nbformat": 4,
 "nbformat_minor": 5
}
